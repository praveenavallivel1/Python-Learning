{
 "cells": [
  {
   "cell_type": "code",
   "execution_count": 1,
   "metadata": {},
   "outputs": [],
   "source": [
    "# Python"
   ]
  },
  {
   "cell_type": "code",
   "execution_count": 10,
   "metadata": {},
   "outputs": [],
   "source": [
    "a = 2"
   ]
  },
  {
   "cell_type": "code",
   "execution_count": 11,
   "metadata": {},
   "outputs": [
    {
     "name": "stdout",
     "output_type": "stream",
     "text": [
      "2\n"
     ]
    }
   ],
   "source": [
    "print(a)"
   ]
  },
  {
   "cell_type": "code",
   "execution_count": 12,
   "metadata": {},
   "outputs": [],
   "source": [
    "b = 86869896896986968966866676757547467"
   ]
  },
  {
   "cell_type": "code",
   "execution_count": 13,
   "metadata": {},
   "outputs": [
    {
     "name": "stdout",
     "output_type": "stream",
     "text": [
      "86869896896986968966866676757547467\n"
     ]
    }
   ],
   "source": [
    "print(b)"
   ]
  },
  {
   "cell_type": "code",
   "execution_count": 14,
   "metadata": {},
   "outputs": [],
   "source": [
    "c = 3.123345"
   ]
  },
  {
   "cell_type": "code",
   "execution_count": 15,
   "metadata": {},
   "outputs": [
    {
     "data": {
      "text/plain": [
       "3.123345"
      ]
     },
     "execution_count": 15,
     "metadata": {},
     "output_type": "execute_result"
    }
   ],
   "source": [
    "c"
   ]
  },
  {
   "cell_type": "code",
   "execution_count": 16,
   "metadata": {},
   "outputs": [],
   "source": [
    "d = 'artificial intell'"
   ]
  },
  {
   "cell_type": "code",
   "execution_count": 17,
   "metadata": {},
   "outputs": [
    {
     "data": {
      "text/plain": [
       "'artificial intell'"
      ]
     },
     "execution_count": 17,
     "metadata": {},
     "output_type": "execute_result"
    }
   ],
   "source": [
    "d"
   ]
  },
  {
   "cell_type": "code",
   "execution_count": 18,
   "metadata": {},
   "outputs": [],
   "source": [
    "e = True"
   ]
  },
  {
   "cell_type": "code",
   "execution_count": 19,
   "metadata": {},
   "outputs": [
    {
     "data": {
      "text/plain": [
       "True"
      ]
     },
     "execution_count": 19,
     "metadata": {},
     "output_type": "execute_result"
    }
   ],
   "source": [
    "e"
   ]
  },
  {
   "cell_type": "code",
   "execution_count": 20,
   "metadata": {},
   "outputs": [],
   "source": [
    "f = None"
   ]
  },
  {
   "cell_type": "code",
   "execution_count": 21,
   "metadata": {},
   "outputs": [
    {
     "name": "stdout",
     "output_type": "stream",
     "text": [
      "None\n"
     ]
    }
   ],
   "source": [
    "print(f)"
   ]
  },
  {
   "cell_type": "code",
   "execution_count": 22,
   "metadata": {},
   "outputs": [],
   "source": [
    "AI__a_101_course = 120"
   ]
  },
  {
   "cell_type": "code",
   "execution_count": null,
   "metadata": {},
   "outputs": [],
   "source": [
    "import keyword"
   ]
  },
  {
   "cell_type": "code",
   "execution_count": null,
   "metadata": {},
   "outputs": [],
   "source": [
    "print(keyword.kwlist)"
   ]
  },
  {
   "cell_type": "code",
   "execution_count": null,
   "metadata": {},
   "outputs": [],
   "source": [
    "x = 90\n",
    "y = x*10 + x**x"
   ]
  },
  {
   "cell_type": "code",
   "execution_count": null,
   "metadata": {},
   "outputs": [],
   "source": [
    "print(y)"
   ]
  },
  {
   "cell_type": "code",
   "execution_count": null,
   "metadata": {},
   "outputs": [],
   "source": [
    "# data types:\n",
    "\n",
    "# integer\n",
    "# string\n",
    "# float\n",
    "\n",
    "# arrays (scalar, vector, matrix, array, multidimensional array)\n",
    "\n",
    "# list\n",
    "# set\n",
    "# dict\n",
    "# tuple\n",
    "# boolean\n",
    "# null\n"
   ]
  },
  {
   "cell_type": "code",
   "execution_count": null,
   "metadata": {},
   "outputs": [],
   "source": [
    "# multiple values, multiple variables"
   ]
  },
  {
   "cell_type": "code",
   "execution_count": null,
   "metadata": {},
   "outputs": [],
   "source": [
    "t, d, f, h = 1,2,34,5"
   ]
  },
  {
   "cell_type": "code",
   "execution_count": null,
   "metadata": {},
   "outputs": [],
   "source": [
    "print(t, d, f, h)"
   ]
  },
  {
   "cell_type": "code",
   "execution_count": null,
   "metadata": {},
   "outputs": [],
   "source": [
    "t, d, f, _ = 1,2,34,5 # splitting train test data, retirving model parameters"
   ]
  },
  {
   "cell_type": "code",
   "execution_count": null,
   "metadata": {},
   "outputs": [],
   "source": [
    "print(t, d, f)"
   ]
  },
  {
   "cell_type": "code",
   "execution_count": null,
   "metadata": {},
   "outputs": [],
   "source": [
    "t, d, f, h = 1,2,34, None # feature engineering, feature selection"
   ]
  },
  {
   "cell_type": "code",
   "execution_count": null,
   "metadata": {},
   "outputs": [],
   "source": [
    "print(t, d, f, h)"
   ]
  },
  {
   "cell_type": "code",
   "execution_count": null,
   "metadata": {},
   "outputs": [],
   "source": [
    "d = [1,2,34,5]"
   ]
  },
  {
   "cell_type": "code",
   "execution_count": null,
   "metadata": {},
   "outputs": [],
   "source": [
    "d"
   ]
  },
  {
   "cell_type": "code",
   "execution_count": null,
   "metadata": {},
   "outputs": [],
   "source": [
    "# cascading assignment"
   ]
  },
  {
   "cell_type": "code",
   "execution_count": null,
   "metadata": {},
   "outputs": [],
   "source": [
    "a = b = c = d = 1001"
   ]
  },
  {
   "cell_type": "code",
   "execution_count": null,
   "metadata": {},
   "outputs": [],
   "source": [
    "a"
   ]
  },
  {
   "cell_type": "code",
   "execution_count": null,
   "metadata": {},
   "outputs": [],
   "source": [
    "b"
   ]
  },
  {
   "cell_type": "code",
   "execution_count": null,
   "metadata": {},
   "outputs": [],
   "source": [
    "c"
   ]
  },
  {
   "cell_type": "code",
   "execution_count": null,
   "metadata": {},
   "outputs": [],
   "source": [
    "d"
   ]
  },
  {
   "cell_type": "code",
   "execution_count": null,
   "metadata": {},
   "outputs": [],
   "source": [
    "b = 2001"
   ]
  },
  {
   "cell_type": "code",
   "execution_count": null,
   "metadata": {},
   "outputs": [],
   "source": [
    "print(a,b,c,d)"
   ]
  },
  {
   "cell_type": "code",
   "execution_count": null,
   "metadata": {},
   "outputs": [],
   "source": [
    "# this is possible if we are using a mutable data type"
   ]
  },
  {
   "cell_type": "code",
   "execution_count": null,
   "metadata": {},
   "outputs": [],
   "source": [
    "x = y = [90,80,70]"
   ]
  },
  {
   "cell_type": "code",
   "execution_count": null,
   "metadata": {},
   "outputs": [],
   "source": [
    "x"
   ]
  },
  {
   "cell_type": "code",
   "execution_count": null,
   "metadata": {},
   "outputs": [],
   "source": [
    "y"
   ]
  },
  {
   "cell_type": "code",
   "execution_count": null,
   "metadata": {},
   "outputs": [],
   "source": [
    "x = [1,2,3,4,5]"
   ]
  },
  {
   "cell_type": "code",
   "execution_count": null,
   "metadata": {},
   "outputs": [],
   "source": [
    "y"
   ]
  },
  {
   "cell_type": "code",
   "execution_count": null,
   "metadata": {},
   "outputs": [],
   "source": [
    "x"
   ]
  },
  {
   "cell_type": "code",
   "execution_count": null,
   "metadata": {},
   "outputs": [],
   "source": [
    "# changing x as a list did not impact the y value"
   ]
  },
  {
   "cell_type": "code",
   "execution_count": null,
   "metadata": {},
   "outputs": [],
   "source": [
    "x = y = [90,80,70]"
   ]
  },
  {
   "cell_type": "code",
   "execution_count": null,
   "metadata": {},
   "outputs": [],
   "source": [
    "x"
   ]
  },
  {
   "cell_type": "code",
   "execution_count": null,
   "metadata": {},
   "outputs": [],
   "source": [
    "y"
   ]
  },
  {
   "cell_type": "code",
   "execution_count": null,
   "metadata": {},
   "outputs": [],
   "source": [
    "x[0] = 9000"
   ]
  },
  {
   "cell_type": "code",
   "execution_count": null,
   "metadata": {},
   "outputs": [],
   "source": [
    "print(y)"
   ]
  },
  {
   "cell_type": "code",
   "execution_count": null,
   "metadata": {},
   "outputs": [],
   "source": [
    "# list \n",
    "d = [['1','2'],[34.],[5]]"
   ]
  },
  {
   "cell_type": "code",
   "execution_count": null,
   "metadata": {},
   "outputs": [],
   "source": [
    "d"
   ]
  },
  {
   "cell_type": "code",
   "execution_count": null,
   "metadata": {},
   "outputs": [],
   "source": [
    "d[0][0]"
   ]
  },
  {
   "cell_type": "code",
   "execution_count": 24,
   "metadata": {},
   "outputs": [],
   "source": [
    "d = ['1','2',34,5]"
   ]
  },
  {
   "cell_type": "code",
   "execution_count": 25,
   "metadata": {},
   "outputs": [
    {
     "data": {
      "text/plain": [
       "['1', '2', 34, 5]"
      ]
     },
     "execution_count": 25,
     "metadata": {},
     "output_type": "execute_result"
    }
   ],
   "source": [
    "d"
   ]
  },
  {
   "cell_type": "code",
   "execution_count": 26,
   "metadata": {},
   "outputs": [],
   "source": [
    "d = [1.,2.0,34.8,5]"
   ]
  },
  {
   "cell_type": "code",
   "execution_count": 27,
   "metadata": {},
   "outputs": [
    {
     "data": {
      "text/plain": [
       "[1.0, 2.0, 34.8, 5]"
      ]
     },
     "execution_count": 27,
     "metadata": {},
     "output_type": "execute_result"
    }
   ],
   "source": [
    "d"
   ]
  },
  {
   "cell_type": "code",
   "execution_count": 1,
   "metadata": {},
   "outputs": [
    {
     "name": "stdout",
     "output_type": "stream",
     "text": [
      "Requirement already satisfied: numpy in c:\\users\\bj845av\\appdata\\local\\packages\\pythonsoftwarefoundation.python.3.11_qbz5n2kfra8p0\\localcache\\local-packages\\python311\\site-packages (1.25.2)\n",
      "Note: you may need to restart the kernel to use updated packages.\n"
     ]
    }
   ],
   "source": [
    "%pip install numpy"
   ]
  },
  {
   "cell_type": "code",
   "execution_count": 29,
   "metadata": {},
   "outputs": [],
   "source": [
    "import numpy as np"
   ]
  },
  {
   "cell_type": "code",
   "execution_count": 30,
   "metadata": {},
   "outputs": [],
   "source": [
    "d1 = np.array(d)"
   ]
  },
  {
   "cell_type": "code",
   "execution_count": 31,
   "metadata": {},
   "outputs": [
    {
     "data": {
      "text/plain": [
       "numpy.ndarray"
      ]
     },
     "execution_count": 31,
     "metadata": {},
     "output_type": "execute_result"
    }
   ],
   "source": [
    "type(d1)"
   ]
  },
  {
   "cell_type": "code",
   "execution_count": 32,
   "metadata": {},
   "outputs": [
    {
     "data": {
      "text/plain": [
       "array([ 1. ,  2. , 34.8,  5. ])"
      ]
     },
     "execution_count": 32,
     "metadata": {},
     "output_type": "execute_result"
    }
   ],
   "source": [
    "d1"
   ]
  },
  {
   "cell_type": "code",
   "execution_count": 33,
   "metadata": {},
   "outputs": [
    {
     "data": {
      "text/plain": [
       "array([ 1. ,  2. , 34.8,  5. ])"
      ]
     },
     "execution_count": 33,
     "metadata": {},
     "output_type": "execute_result"
    }
   ],
   "source": [
    "d1.reshape(2,2).flatten()"
   ]
  },
  {
   "cell_type": "code",
   "execution_count": 34,
   "metadata": {},
   "outputs": [
    {
     "data": {
      "text/plain": [
       "array([[1., 0., 0., 0., 0., 0., 0., 0., 0., 0.],\n",
       "       [0., 1., 0., 0., 0., 0., 0., 0., 0., 0.],\n",
       "       [0., 0., 1., 0., 0., 0., 0., 0., 0., 0.],\n",
       "       [0., 0., 0., 1., 0., 0., 0., 0., 0., 0.],\n",
       "       [0., 0., 0., 0., 1., 0., 0., 0., 0., 0.],\n",
       "       [0., 0., 0., 0., 0., 1., 0., 0., 0., 0.],\n",
       "       [0., 0., 0., 0., 0., 0., 1., 0., 0., 0.],\n",
       "       [0., 0., 0., 0., 0., 0., 0., 1., 0., 0.],\n",
       "       [0., 0., 0., 0., 0., 0., 0., 0., 1., 0.],\n",
       "       [0., 0., 0., 0., 0., 0., 0., 0., 0., 1.]])"
      ]
     },
     "execution_count": 34,
     "metadata": {},
     "output_type": "execute_result"
    }
   ],
   "source": [
    "np.eye(10)"
   ]
  },
  {
   "cell_type": "code",
   "execution_count": 35,
   "metadata": {},
   "outputs": [
    {
     "data": {
      "text/plain": [
       "array([0., 0., 0., 0., 0., 0., 0., 0., 0., 0.])"
      ]
     },
     "execution_count": 35,
     "metadata": {},
     "output_type": "execute_result"
    }
   ],
   "source": [
    "np.zeros(10)"
   ]
  },
  {
   "cell_type": "code",
   "execution_count": 36,
   "metadata": {},
   "outputs": [
    {
     "data": {
      "text/plain": [
       "array([1., 1., 1., 1., 1., 1., 1., 1., 1., 1.])"
      ]
     },
     "execution_count": 36,
     "metadata": {},
     "output_type": "execute_result"
    }
   ],
   "source": [
    "np.ones(10)"
   ]
  },
  {
   "cell_type": "code",
   "execution_count": 37,
   "metadata": {},
   "outputs": [],
   "source": [
    "# "
   ]
  },
  {
   "cell_type": "code",
   "execution_count": 38,
   "metadata": {},
   "outputs": [],
   "source": [
    "d = (5.11,78) # tuple"
   ]
  },
  {
   "cell_type": "code",
   "execution_count": 39,
   "metadata": {},
   "outputs": [
    {
     "data": {
      "text/plain": [
       "(5.11, 78)"
      ]
     },
     "execution_count": 39,
     "metadata": {},
     "output_type": "execute_result"
    }
   ],
   "source": [
    "d"
   ]
  },
  {
   "cell_type": "code",
   "execution_count": 40,
   "metadata": {},
   "outputs": [
    {
     "data": {
      "text/plain": [
       "{'name': ['pm', 'sm'], 'age': [12, 23]}"
      ]
     },
     "execution_count": 40,
     "metadata": {},
     "output_type": "execute_result"
    }
   ],
   "source": [
    "{\"name\": ['pm','sm'],\n",
    "\"age\": [12,23]}"
   ]
  },
  {
   "cell_type": "code",
   "execution_count": 41,
   "metadata": {},
   "outputs": [],
   "source": [
    "d1 = tuple(d1)"
   ]
  },
  {
   "cell_type": "code",
   "execution_count": 42,
   "metadata": {},
   "outputs": [
    {
     "data": {
      "text/plain": [
       "(1.0, 2.0, 34.8, 5.0)"
      ]
     },
     "execution_count": 42,
     "metadata": {},
     "output_type": "execute_result"
    }
   ],
   "source": [
    "d1"
   ]
  },
  {
   "cell_type": "code",
   "execution_count": 43,
   "metadata": {},
   "outputs": [],
   "source": [
    "d = [True, False, True]"
   ]
  },
  {
   "cell_type": "code",
   "execution_count": 44,
   "metadata": {},
   "outputs": [
    {
     "data": {
      "text/plain": [
       "[True, False, True]"
      ]
     },
     "execution_count": 44,
     "metadata": {},
     "output_type": "execute_result"
    }
   ],
   "source": [
    "d"
   ]
  },
  {
   "cell_type": "code",
   "execution_count": 45,
   "metadata": {},
   "outputs": [],
   "source": [
    "d = [0,1,0,1]"
   ]
  },
  {
   "cell_type": "code",
   "execution_count": 46,
   "metadata": {},
   "outputs": [
    {
     "data": {
      "text/plain": [
       "[0, 1, 0, 1]"
      ]
     },
     "execution_count": 46,
     "metadata": {},
     "output_type": "execute_result"
    }
   ],
   "source": [
    "d"
   ]
  },
  {
   "cell_type": "code",
   "execution_count": 47,
   "metadata": {},
   "outputs": [],
   "source": [
    "t = ('we','are','going','to','learn','data')"
   ]
  },
  {
   "cell_type": "code",
   "execution_count": 48,
   "metadata": {},
   "outputs": [
    {
     "data": {
      "text/plain": [
       "('we', 'are', 'going', 'to', 'learn', 'data')"
      ]
     },
     "execution_count": 48,
     "metadata": {},
     "output_type": "execute_result"
    }
   ],
   "source": [
    "t"
   ]
  },
  {
   "cell_type": "code",
   "execution_count": 49,
   "metadata": {},
   "outputs": [
    {
     "data": {
      "text/plain": [
       "'data'"
      ]
     },
     "execution_count": 49,
     "metadata": {},
     "output_type": "execute_result"
    }
   ],
   "source": [
    "t[5]"
   ]
  },
  {
   "cell_type": "code",
   "execution_count": 50,
   "metadata": {},
   "outputs": [],
   "source": [
    "text = '''I am going to learn data science in Reva Univ'''"
   ]
  },
  {
   "cell_type": "code",
   "execution_count": 51,
   "metadata": {},
   "outputs": [
    {
     "data": {
      "text/plain": [
       "'I am going to learn data science in Reva Univ'"
      ]
     },
     "execution_count": 51,
     "metadata": {},
     "output_type": "execute_result"
    }
   ],
   "source": [
    "text"
   ]
  },
  {
   "cell_type": "code",
   "execution_count": 52,
   "metadata": {},
   "outputs": [],
   "source": [
    "t = text.split()"
   ]
  },
  {
   "cell_type": "code",
   "execution_count": 53,
   "metadata": {},
   "outputs": [
    {
     "data": {
      "text/plain": [
       "['I', 'am', 'going', 'to', 'learn', 'data', 'science', 'in', 'Reva', 'Univ']"
      ]
     },
     "execution_count": 53,
     "metadata": {},
     "output_type": "execute_result"
    }
   ],
   "source": [
    "t"
   ]
  },
  {
   "cell_type": "code",
   "execution_count": 54,
   "metadata": {},
   "outputs": [
    {
     "data": {
      "text/plain": [
       "['to']"
      ]
     },
     "execution_count": 54,
     "metadata": {},
     "output_type": "execute_result"
    }
   ],
   "source": [
    "t[-7:-6]"
   ]
  },
  {
   "cell_type": "code",
   "execution_count": 55,
   "metadata": {},
   "outputs": [
    {
     "data": {
      "text/plain": [
       "10"
      ]
     },
     "execution_count": 55,
     "metadata": {},
     "output_type": "execute_result"
    }
   ],
   "source": [
    "len(t)"
   ]
  },
  {
   "cell_type": "code",
   "execution_count": 56,
   "metadata": {},
   "outputs": [
    {
     "data": {
      "text/plain": [
       "10"
      ]
     },
     "execution_count": 56,
     "metadata": {},
     "output_type": "execute_result"
    }
   ],
   "source": [
    "len(t)"
   ]
  },
  {
   "cell_type": "code",
   "execution_count": 57,
   "metadata": {},
   "outputs": [
    {
     "data": {
      "text/plain": [
       "['I', 'am', 'going', 'to', 'learn', 'data', 'science', 'in']"
      ]
     },
     "execution_count": 57,
     "metadata": {},
     "output_type": "execute_result"
    }
   ],
   "source": [
    "t[:8]"
   ]
  },
  {
   "cell_type": "code",
   "execution_count": 58,
   "metadata": {},
   "outputs": [
    {
     "data": {
      "text/plain": [
       "['I', 'am', 'going', 'to', 'learn', 'data', 'science', 'in']"
      ]
     },
     "execution_count": 58,
     "metadata": {},
     "output_type": "execute_result"
    }
   ],
   "source": [
    "t[:-2]"
   ]
  },
  {
   "cell_type": "code",
   "execution_count": 59,
   "metadata": {},
   "outputs": [],
   "source": [
    "# set = {12,23,(34,45,56)} # this line basically modifies the built-in function 'set' "
   ]
  },
  {
   "cell_type": "code",
   "execution_count": 60,
   "metadata": {},
   "outputs": [],
   "source": [
    "# set"
   ]
  },
  {
   "cell_type": "code",
   "execution_count": 61,
   "metadata": {},
   "outputs": [],
   "source": [
    "c = 8.767868678578578576746533577467458"
   ]
  },
  {
   "cell_type": "code",
   "execution_count": 62,
   "metadata": {},
   "outputs": [
    {
     "data": {
      "text/plain": [
       "3.14159265"
      ]
     },
     "execution_count": 62,
     "metadata": {},
     "output_type": "execute_result"
    }
   ],
   "source": [
    "np.round(np.pi,8)"
   ]
  },
  {
   "cell_type": "code",
   "execution_count": 63,
   "metadata": {},
   "outputs": [],
   "source": [
    "# Problem:\n",
    "\n",
    "# N-element tuple or sequence that need unpacking into a collection of variables\n",
    "# how you are going to do ?\n"
   ]
  },
  {
   "cell_type": "code",
   "execution_count": 64,
   "metadata": {},
   "outputs": [],
   "source": [
    "# Answer:"
   ]
  },
  {
   "cell_type": "code",
   "execution_count": 65,
   "metadata": {},
   "outputs": [],
   "source": [
    "p = (78, 25)"
   ]
  },
  {
   "cell_type": "code",
   "execution_count": 66,
   "metadata": {},
   "outputs": [
    {
     "data": {
      "text/plain": [
       "(78, 25)"
      ]
     },
     "execution_count": 66,
     "metadata": {},
     "output_type": "execute_result"
    }
   ],
   "source": [
    "p"
   ]
  },
  {
   "cell_type": "code",
   "execution_count": 67,
   "metadata": {},
   "outputs": [],
   "source": [
    "# assignment operator\n",
    "x, y = p"
   ]
  },
  {
   "cell_type": "code",
   "execution_count": 68,
   "metadata": {},
   "outputs": [
    {
     "name": "stdout",
     "output_type": "stream",
     "text": [
      "78\n"
     ]
    }
   ],
   "source": [
    "print(x)"
   ]
  },
  {
   "cell_type": "code",
   "execution_count": 69,
   "metadata": {},
   "outputs": [
    {
     "name": "stdout",
     "output_type": "stream",
     "text": [
      "25\n"
     ]
    }
   ],
   "source": [
    "print(y)"
   ]
  },
  {
   "cell_type": "code",
   "execution_count": 70,
   "metadata": {},
   "outputs": [],
   "source": [
    "data = ['APPLE',120,12.4,(2020,9,5),('morning','day', 'evening')]"
   ]
  },
  {
   "cell_type": "code",
   "execution_count": 71,
   "metadata": {},
   "outputs": [
    {
     "data": {
      "text/plain": [
       "['APPLE', 120, 12.4, (2020, 9, 5), ('morning', 'day', 'evening')]"
      ]
     },
     "execution_count": 71,
     "metadata": {},
     "output_type": "execute_result"
    }
   ],
   "source": [
    "data"
   ]
  },
  {
   "cell_type": "code",
   "execution_count": 72,
   "metadata": {},
   "outputs": [
    {
     "data": {
      "text/plain": [
       "list"
      ]
     },
     "execution_count": 72,
     "metadata": {},
     "output_type": "execute_result"
    }
   ],
   "source": [
    "type(data)"
   ]
  },
  {
   "cell_type": "code",
   "execution_count": 73,
   "metadata": {},
   "outputs": [],
   "source": [
    "org_name, share_price, delta_change, date, timing = data"
   ]
  },
  {
   "cell_type": "code",
   "execution_count": 74,
   "metadata": {},
   "outputs": [
    {
     "data": {
      "text/plain": [
       "(2020, 9, 5)"
      ]
     },
     "execution_count": 74,
     "metadata": {},
     "output_type": "execute_result"
    }
   ],
   "source": [
    "date"
   ]
  },
  {
   "cell_type": "code",
   "execution_count": 75,
   "metadata": {},
   "outputs": [
    {
     "data": {
      "text/plain": [
       "'APPLE'"
      ]
     },
     "execution_count": 75,
     "metadata": {},
     "output_type": "execute_result"
    }
   ],
   "source": [
    "org_name"
   ]
  },
  {
   "cell_type": "code",
   "execution_count": 76,
   "metadata": {},
   "outputs": [
    {
     "data": {
      "text/plain": [
       "('morning', 'day', 'evening')"
      ]
     },
     "execution_count": 76,
     "metadata": {},
     "output_type": "execute_result"
    }
   ],
   "source": [
    "timing"
   ]
  },
  {
   "cell_type": "code",
   "execution_count": 77,
   "metadata": {},
   "outputs": [],
   "source": [
    "org_name, share_price, delta_change, date,_ = data"
   ]
  },
  {
   "cell_type": "code",
   "execution_count": 78,
   "metadata": {},
   "outputs": [
    {
     "name": "stdout",
     "output_type": "stream",
     "text": [
      "('morning', 'day', 'evening')\n"
     ]
    }
   ],
   "source": [
    "print(_)"
   ]
  },
  {
   "cell_type": "code",
   "execution_count": 79,
   "metadata": {},
   "outputs": [],
   "source": [
    "# Variables"
   ]
  },
  {
   "cell_type": "code",
   "execution_count": 80,
   "metadata": {},
   "outputs": [],
   "source": [
    "data = 'i am learning data science'"
   ]
  },
  {
   "cell_type": "code",
   "execution_count": 81,
   "metadata": {},
   "outputs": [
    {
     "data": {
      "text/plain": [
       "'i am learning data science'"
      ]
     },
     "execution_count": 81,
     "metadata": {},
     "output_type": "execute_result"
    }
   ],
   "source": [
    "data"
   ]
  },
  {
   "cell_type": "code",
   "execution_count": 82,
   "metadata": {},
   "outputs": [],
   "source": [
    "data = 'i am learning data science, also AI'"
   ]
  },
  {
   "cell_type": "code",
   "execution_count": 83,
   "metadata": {},
   "outputs": [
    {
     "data": {
      "text/plain": [
       "'i am learning data science, also AI'"
      ]
     },
     "execution_count": 83,
     "metadata": {},
     "output_type": "execute_result"
    }
   ],
   "source": [
    "data"
   ]
  },
  {
   "cell_type": "code",
   "execution_count": 84,
   "metadata": {},
   "outputs": [
    {
     "name": "stdout",
     "output_type": "stream",
     "text": [
      "i am learning data science\n",
      "i am learning data science, also AI\n"
     ]
    }
   ],
   "source": [
    "data = 'i am learning data science'\n",
    "print(data)\n",
    "data = 'i am learning data science, also AI'\n",
    "print(data)"
   ]
  },
  {
   "cell_type": "code",
   "execution_count": 85,
   "metadata": {},
   "outputs": [],
   "source": [
    "# letters\n",
    "# numbers\n",
    "# underscores"
   ]
  },
  {
   "cell_type": "code",
   "execution_count": 86,
   "metadata": {},
   "outputs": [],
   "source": [
    "# variables names cannot start with a number\n",
    "# avoid spaces, replace them with underscore\n",
    "# cannot use Keywords as variable names\n",
    "# "
   ]
  },
  {
   "cell_type": "code",
   "execution_count": 87,
   "metadata": {},
   "outputs": [
    {
     "name": "stdout",
     "output_type": "stream",
     "text": [
      "\n",
      "Welcome to Python 3.8's help utility!\n",
      "\n",
      "If this is your first time using Python, you should definitely check out\n",
      "the tutorial on the Internet at https://docs.python.org/3.8/tutorial/.\n",
      "\n",
      "Enter the name of any module, keyword, or topic to get help on writing\n",
      "Python programs and using Python modules.  To quit this help utility and\n",
      "return to the interpreter, just type \"quit\".\n",
      "\n",
      "To get a list of available modules, keywords, symbols, or topics, type\n",
      "\"modules\", \"keywords\", \"symbols\", or \"topics\".  Each module also comes\n",
      "with a one-line summary of what it does; to list the modules whose name\n",
      "or summary contain a given string such as \"spam\", type \"modules spam\".\n",
      "\n",
      "help> quit\n",
      "\n",
      "You are now leaving help and returning to the Python interpreter.\n",
      "If you want to ask for help on a particular object directly from the\n",
      "interpreter, you can type \"help(object)\".  Executing \"help('string')\"\n",
      "has the same effect as typing a particular string at the help> prompt.\n"
     ]
    }
   ],
   "source": [
    "help()"
   ]
  },
  {
   "cell_type": "code",
   "execution_count": 88,
   "metadata": {},
   "outputs": [],
   "source": [
    "keywords = ['False asSignment','Nan',' def','elif','return']"
   ]
  },
  {
   "cell_type": "code",
   "execution_count": 89,
   "metadata": {},
   "outputs": [
    {
     "data": {
      "text/plain": [
       "['False asSignment', 'Nan', ' def', 'elif', 'return']"
      ]
     },
     "execution_count": 89,
     "metadata": {},
     "output_type": "execute_result"
    }
   ],
   "source": [
    "keywords"
   ]
  },
  {
   "cell_type": "code",
   "execution_count": 90,
   "metadata": {},
   "outputs": [
    {
     "name": "stdout",
     "output_type": "stream",
     "text": [
      "False Assignment\n",
      "Nan\n",
      " Def\n",
      "Elif\n",
      "Return\n"
     ]
    }
   ],
   "source": [
    "for word in keywords:\n",
    "    print(word.title())"
   ]
  },
  {
   "cell_type": "code",
   "execution_count": 91,
   "metadata": {},
   "outputs": [
    {
     "data": {
      "text/plain": [
       "'Return'"
      ]
     },
     "execution_count": 91,
     "metadata": {},
     "output_type": "execute_result"
    }
   ],
   "source": [
    "word.title()"
   ]
  },
  {
   "cell_type": "code",
   "execution_count": 92,
   "metadata": {},
   "outputs": [
    {
     "data": {
      "text/plain": [
       "'False asSignment'"
      ]
     },
     "execution_count": 92,
     "metadata": {},
     "output_type": "execute_result"
    }
   ],
   "source": [
    "keywords[0]"
   ]
  },
  {
   "cell_type": "code",
   "execution_count": 93,
   "metadata": {},
   "outputs": [
    {
     "data": {
      "text/plain": [
       "'return'"
      ]
     },
     "execution_count": 93,
     "metadata": {},
     "output_type": "execute_result"
    }
   ],
   "source": [
    "keywords[4]"
   ]
  },
  {
   "cell_type": "code",
   "execution_count": 96,
   "metadata": {},
   "outputs": [],
   "source": [
    "list1 = [12,23,34,45]\n",
    "list2 = [0.2,5,'Python','#','!','@','None',None, False]"
   ]
  },
  {
   "cell_type": "code",
   "execution_count": 97,
   "metadata": {},
   "outputs": [
    {
     "data": {
      "text/plain": [
       "[0.2, 5, 'Python', '#', '!', '@', 'None', None, False]"
      ]
     },
     "execution_count": 97,
     "metadata": {},
     "output_type": "execute_result"
    }
   ],
   "source": [
    "list2"
   ]
  },
  {
   "cell_type": "code",
   "execution_count": 98,
   "metadata": {},
   "outputs": [],
   "source": [
    "list2[5] = 'Twitter_Handle'"
   ]
  },
  {
   "cell_type": "code",
   "execution_count": 99,
   "metadata": {},
   "outputs": [
    {
     "data": {
      "text/plain": [
       "[0.2, 5, 'Python', '#', '!', 'Twitter_Handle', 'None', None, False]"
      ]
     },
     "execution_count": 99,
     "metadata": {},
     "output_type": "execute_result"
    }
   ],
   "source": [
    "list2"
   ]
  },
  {
   "cell_type": "code",
   "execution_count": 100,
   "metadata": {},
   "outputs": [],
   "source": [
    "del list2[4]"
   ]
  },
  {
   "cell_type": "code",
   "execution_count": 101,
   "metadata": {},
   "outputs": [
    {
     "data": {
      "text/plain": [
       "[0.2, 5, 'Python', '#', 'Twitter_Handle', 'None', None, False]"
      ]
     },
     "execution_count": 101,
     "metadata": {},
     "output_type": "execute_result"
    }
   ],
   "source": [
    "list2"
   ]
  },
  {
   "cell_type": "code",
   "execution_count": 102,
   "metadata": {},
   "outputs": [
    {
     "name": "stdout",
     "output_type": "stream",
     "text": [
      "No\n"
     ]
    }
   ],
   "source": [
    "if 'python' in list2:\n",
    "    print('Yes')\n",
    "else:\n",
    "    print('No')"
   ]
  },
  {
   "cell_type": "code",
   "execution_count": 103,
   "metadata": {},
   "outputs": [],
   "source": [
    "# functions\n",
    "# built-in, custom"
   ]
  },
  {
   "cell_type": "code",
   "execution_count": 104,
   "metadata": {},
   "outputs": [
    {
     "data": {
      "text/plain": [
       "[12, 23, 34, 45, 56, 67, 78, 89, 90]"
      ]
     },
     "execution_count": 104,
     "metadata": {},
     "output_type": "execute_result"
    }
   ],
   "source": [
    "a = [12,23,34,45,56,67,78,89,90]\n",
    "a"
   ]
  },
  {
   "cell_type": "code",
   "execution_count": 105,
   "metadata": {},
   "outputs": [
    {
     "data": {
      "text/plain": [
       "54.888888888888886"
      ]
     },
     "execution_count": 105,
     "metadata": {},
     "output_type": "execute_result"
    }
   ],
   "source": [
    "np.mean(a)"
   ]
  },
  {
   "cell_type": "code",
   "execution_count": 106,
   "metadata": {},
   "outputs": [],
   "source": [
    "def average(x):\n",
    "    return np.sum(x)/len(x)"
   ]
  },
  {
   "cell_type": "code",
   "execution_count": 107,
   "metadata": {},
   "outputs": [
    {
     "data": {
      "text/plain": [
       "54.888888888888886"
      ]
     },
     "execution_count": 107,
     "metadata": {},
     "output_type": "execute_result"
    }
   ],
   "source": [
    "average(a)"
   ]
  },
  {
   "cell_type": "code",
   "execution_count": 108,
   "metadata": {},
   "outputs": [],
   "source": [
    "# Mutability of list"
   ]
  },
  {
   "cell_type": "code",
   "execution_count": 109,
   "metadata": {},
   "outputs": [
    {
     "data": {
      "text/plain": [
       "array([[1., 0., 0., 0., 0., 0., 0., 0., 0., 0.],\n",
       "       [0., 1., 0., 0., 0., 0., 0., 0., 0., 0.],\n",
       "       [0., 0., 1., 0., 0., 0., 0., 0., 0., 0.],\n",
       "       [0., 0., 0., 1., 0., 0., 0., 0., 0., 0.],\n",
       "       [0., 0., 0., 0., 1., 0., 0., 0., 0., 0.],\n",
       "       [0., 0., 0., 0., 0., 1., 0., 0., 0., 0.],\n",
       "       [0., 0., 0., 0., 0., 0., 1., 0., 0., 0.],\n",
       "       [0., 0., 0., 0., 0., 0., 0., 1., 0., 0.],\n",
       "       [0., 0., 0., 0., 0., 0., 0., 0., 1., 0.],\n",
       "       [0., 0., 0., 0., 0., 0., 0., 0., 0., 1.]])"
      ]
     },
     "execution_count": 109,
     "metadata": {},
     "output_type": "execute_result"
    }
   ],
   "source": [
    "np.eye(10)"
   ]
  },
  {
   "cell_type": "code",
   "execution_count": 110,
   "metadata": {},
   "outputs": [
    {
     "data": {
      "text/plain": [
       "[0.2, 5, 'Python', '#', 'Twitter_Handle', 'None', None, False]"
      ]
     },
     "execution_count": 110,
     "metadata": {},
     "output_type": "execute_result"
    }
   ],
   "source": [
    "list2"
   ]
  },
  {
   "cell_type": "code",
   "execution_count": 111,
   "metadata": {},
   "outputs": [],
   "source": [
    "list2[3] = 99"
   ]
  },
  {
   "cell_type": "code",
   "execution_count": 112,
   "metadata": {},
   "outputs": [
    {
     "data": {
      "text/plain": [
       "[0.2, 5, 'Python', 99, 'Twitter_Handle', 'None', None, False]"
      ]
     },
     "execution_count": 112,
     "metadata": {},
     "output_type": "execute_result"
    }
   ],
   "source": [
    "list2"
   ]
  },
  {
   "cell_type": "code",
   "execution_count": 113,
   "metadata": {},
   "outputs": [],
   "source": [
    "list2.append('data analysis')"
   ]
  },
  {
   "cell_type": "code",
   "execution_count": 114,
   "metadata": {},
   "outputs": [
    {
     "data": {
      "text/plain": [
       "[0.2, 5, 'Python', 99, 'Twitter_Handle', 'None', None, False, 'data analysis']"
      ]
     },
     "execution_count": 114,
     "metadata": {},
     "output_type": "execute_result"
    }
   ],
   "source": [
    "list2"
   ]
  },
  {
   "cell_type": "code",
   "execution_count": 115,
   "metadata": {},
   "outputs": [],
   "source": [
    "list2.remove('None')"
   ]
  },
  {
   "cell_type": "code",
   "execution_count": 116,
   "metadata": {},
   "outputs": [
    {
     "data": {
      "text/plain": [
       "[0.2, 5, 'Python', 99, 'Twitter_Handle', None, False, 'data analysis']"
      ]
     },
     "execution_count": 116,
     "metadata": {},
     "output_type": "execute_result"
    }
   ],
   "source": [
    "list2"
   ]
  },
  {
   "cell_type": "code",
   "execution_count": 118,
   "metadata": {},
   "outputs": [],
   "source": [
    "list21 = ['at', 'python','pat','abcd','e','c', 'data analysis']"
   ]
  },
  {
   "cell_type": "code",
   "execution_count": 119,
   "metadata": {},
   "outputs": [
    {
     "data": {
      "text/plain": [
       "['at', 'python', 'pat', 'abcd', 'e', 'c', 'data analysis']"
      ]
     },
     "execution_count": 119,
     "metadata": {},
     "output_type": "execute_result"
    }
   ],
   "source": [
    "list21"
   ]
  },
  {
   "cell_type": "code",
   "execution_count": 120,
   "metadata": {},
   "outputs": [],
   "source": [
    "list21.sort(reverse=True)"
   ]
  },
  {
   "cell_type": "code",
   "execution_count": 121,
   "metadata": {},
   "outputs": [],
   "source": [
    "#help(list21.sort)"
   ]
  },
  {
   "cell_type": "code",
   "execution_count": 122,
   "metadata": {},
   "outputs": [
    {
     "data": {
      "text/plain": [
       "['python', 'pat', 'e', 'data analysis', 'c', 'at', 'abcd']"
      ]
     },
     "execution_count": 122,
     "metadata": {},
     "output_type": "execute_result"
    }
   ],
   "source": [
    "list21"
   ]
  },
  {
   "cell_type": "code",
   "execution_count": 123,
   "metadata": {},
   "outputs": [],
   "source": [
    "list21.sort(key=len)"
   ]
  },
  {
   "cell_type": "code",
   "execution_count": 124,
   "metadata": {},
   "outputs": [
    {
     "data": {
      "text/plain": [
       "['e', 'c', 'at', 'pat', 'abcd', 'python', 'data analysis']"
      ]
     },
     "execution_count": 124,
     "metadata": {},
     "output_type": "execute_result"
    }
   ],
   "source": [
    "list21"
   ]
  },
  {
   "cell_type": "code",
   "execution_count": 125,
   "metadata": {},
   "outputs": [
    {
     "data": {
      "text/plain": [
       "['e', 'c', 'at', 'pat', 'abcd', 'python', 'data analysis']"
      ]
     },
     "execution_count": 125,
     "metadata": {},
     "output_type": "execute_result"
    }
   ],
   "source": [
    "sorted(list21,key=len)"
   ]
  },
  {
   "cell_type": "code",
   "execution_count": 126,
   "metadata": {},
   "outputs": [
    {
     "data": {
      "text/plain": [
       "['e', 'c', 'at', 'pat', 'abcd', 'python', 'data analysis']"
      ]
     },
     "execution_count": 126,
     "metadata": {},
     "output_type": "execute_result"
    }
   ],
   "source": [
    "list21"
   ]
  },
  {
   "cell_type": "code",
   "execution_count": 127,
   "metadata": {},
   "outputs": [],
   "source": [
    "list21.sort(reverse=False)"
   ]
  },
  {
   "cell_type": "code",
   "execution_count": 128,
   "metadata": {},
   "outputs": [
    {
     "data": {
      "text/plain": [
       "['abcd', 'at', 'c', 'data analysis', 'e', 'pat', 'python']"
      ]
     },
     "execution_count": 128,
     "metadata": {},
     "output_type": "execute_result"
    }
   ],
   "source": [
    "list21"
   ]
  },
  {
   "cell_type": "code",
   "execution_count": 129,
   "metadata": {},
   "outputs": [],
   "source": [
    "list22 = [0.2,5,6,12,3,45,5]"
   ]
  },
  {
   "cell_type": "code",
   "execution_count": 130,
   "metadata": {},
   "outputs": [],
   "source": [
    "list22.sort()"
   ]
  },
  {
   "cell_type": "code",
   "execution_count": 131,
   "metadata": {},
   "outputs": [
    {
     "data": {
      "text/plain": [
       "[0.2, 3, 5, 5, 6, 12, 45]"
      ]
     },
     "execution_count": 131,
     "metadata": {},
     "output_type": "execute_result"
    }
   ],
   "source": [
    "list22"
   ]
  },
  {
   "cell_type": "code",
   "execution_count": 132,
   "metadata": {},
   "outputs": [
    {
     "data": {
      "text/plain": [
       "[0.2, 3, 5, 5, 6, 12, 45]"
      ]
     },
     "execution_count": 132,
     "metadata": {},
     "output_type": "execute_result"
    }
   ],
   "source": [
    "sorted(list22)"
   ]
  },
  {
   "cell_type": "code",
   "execution_count": 134,
   "metadata": {},
   "outputs": [],
   "source": [
    "numbers = (2,4,1,2,5,6)"
   ]
  },
  {
   "cell_type": "code",
   "execution_count": 135,
   "metadata": {},
   "outputs": [
    {
     "data": {
      "text/plain": [
       "(2, 4, 1, 2, 5, 6)"
      ]
     },
     "execution_count": 135,
     "metadata": {},
     "output_type": "execute_result"
    }
   ],
   "source": [
    "numbers"
   ]
  },
  {
   "cell_type": "code",
   "execution_count": 136,
   "metadata": {},
   "outputs": [
    {
     "data": {
      "text/plain": [
       "[1, 2, 2, 4, 5, 6]"
      ]
     },
     "execution_count": 136,
     "metadata": {},
     "output_type": "execute_result"
    }
   ],
   "source": [
    "sorted(numbers)"
   ]
  },
  {
   "cell_type": "code",
   "execution_count": 137,
   "metadata": {},
   "outputs": [],
   "source": [
    "numbers = {2,4,1,2,5,6}"
   ]
  },
  {
   "cell_type": "code",
   "execution_count": 138,
   "metadata": {},
   "outputs": [
    {
     "data": {
      "text/plain": [
       "{1, 2, 4, 5, 6}"
      ]
     },
     "execution_count": 138,
     "metadata": {},
     "output_type": "execute_result"
    }
   ],
   "source": [
    "numbers"
   ]
  },
  {
   "cell_type": "code",
   "execution_count": 139,
   "metadata": {},
   "outputs": [
    {
     "data": {
      "text/plain": [
       "[6, 5, 4, 2, 1]"
      ]
     },
     "execution_count": 139,
     "metadata": {},
     "output_type": "execute_result"
    }
   ],
   "source": [
    "sorted(numbers,reverse=True)"
   ]
  },
  {
   "cell_type": "code",
   "execution_count": 140,
   "metadata": {},
   "outputs": [],
   "source": [
    "dt = {\"ram\":1, \"alpha\": 2, \"beta\":4, \"data\": 5, \"gama\": 6}"
   ]
  },
  {
   "cell_type": "code",
   "execution_count": 141,
   "metadata": {},
   "outputs": [
    {
     "data": {
      "text/plain": [
       "{'ram': 1, 'alpha': 2, 'beta': 4, 'data': 5, 'gama': 6}"
      ]
     },
     "execution_count": 141,
     "metadata": {},
     "output_type": "execute_result"
    }
   ],
   "source": [
    "dt"
   ]
  },
  {
   "cell_type": "code",
   "execution_count": 142,
   "metadata": {},
   "outputs": [
    {
     "data": {
      "text/plain": [
       "[6, 5, 4, 2, 1]"
      ]
     },
     "execution_count": 142,
     "metadata": {},
     "output_type": "execute_result"
    }
   ],
   "source": [
    "sorted(dt.values(),reverse=True)"
   ]
  },
  {
   "cell_type": "code",
   "execution_count": 143,
   "metadata": {},
   "outputs": [
    {
     "data": {
      "text/plain": [
       "['ram', 'gama', 'data', 'beta', 'alpha']"
      ]
     },
     "execution_count": 143,
     "metadata": {},
     "output_type": "execute_result"
    }
   ],
   "source": [
    "sorted(dt.keys(),reverse=True)"
   ]
  },
  {
   "cell_type": "code",
   "execution_count": 144,
   "metadata": {},
   "outputs": [
    {
     "data": {
      "text/plain": [
       "[('ram', 1), ('gama', 6), ('data', 5), ('beta', 4), ('alpha', 2)]"
      ]
     },
     "execution_count": 144,
     "metadata": {},
     "output_type": "execute_result"
    }
   ],
   "source": [
    "sorted(dt.items(),reverse=True)"
   ]
  },
  {
   "cell_type": "code",
   "execution_count": 145,
   "metadata": {},
   "outputs": [
    {
     "data": {
      "text/plain": [
       "[('alpha', 2), ('beta', 4), ('data', 5), ('gama', 6), ('ram', 1)]"
      ]
     },
     "execution_count": 145,
     "metadata": {},
     "output_type": "execute_result"
    }
   ],
   "source": [
    "sorted(dt.items(),reverse=False)"
   ]
  },
  {
   "cell_type": "code",
   "execution_count": 146,
   "metadata": {},
   "outputs": [],
   "source": [
    "import os"
   ]
  },
  {
   "cell_type": "code",
   "execution_count": 147,
   "metadata": {},
   "outputs": [],
   "source": [
    "import pandas as pd"
   ]
  },
  {
   "cell_type": "code",
   "execution_count": 148,
   "metadata": {},
   "outputs": [],
   "source": [
    "df = pd.read_csv('https://archive.ics.uci.edu/ml/machine-learning-databases/bag-of-words/vocab.nips.txt',sep='\\s+')"
   ]
  },
  {
   "cell_type": "code",
   "execution_count": 149,
   "metadata": {},
   "outputs": [
    {
     "data": {
      "text/plain": [
       "True"
      ]
     },
     "execution_count": 149,
     "metadata": {},
     "output_type": "execute_result"
    }
   ],
   "source": [
    "'access' in list(df.a2i)"
   ]
  },
  {
   "cell_type": "code",
   "execution_count": 150,
   "metadata": {},
   "outputs": [
    {
     "data": {
      "text/html": [
       "<div>\n",
       "<style scoped>\n",
       "    .dataframe tbody tr th:only-of-type {\n",
       "        vertical-align: middle;\n",
       "    }\n",
       "\n",
       "    .dataframe tbody tr th {\n",
       "        vertical-align: top;\n",
       "    }\n",
       "\n",
       "    .dataframe thead th {\n",
       "        text-align: right;\n",
       "    }\n",
       "</style>\n",
       "<table border=\"1\" class=\"dataframe\">\n",
       "  <thead>\n",
       "    <tr style=\"text-align: right;\">\n",
       "      <th></th>\n",
       "      <th>a2i</th>\n",
       "    </tr>\n",
       "  </thead>\n",
       "  <tbody>\n",
       "    <tr>\n",
       "      <th>0</th>\n",
       "      <td>aaa</td>\n",
       "    </tr>\n",
       "    <tr>\n",
       "      <th>1</th>\n",
       "      <td>aaai</td>\n",
       "    </tr>\n",
       "    <tr>\n",
       "      <th>2</th>\n",
       "      <td>aapo</td>\n",
       "    </tr>\n",
       "    <tr>\n",
       "      <th>3</th>\n",
       "      <td>aat</td>\n",
       "    </tr>\n",
       "    <tr>\n",
       "      <th>4</th>\n",
       "      <td>aazhang</td>\n",
       "    </tr>\n",
       "  </tbody>\n",
       "</table>\n",
       "</div>"
      ],
      "text/plain": [
       "       a2i\n",
       "0      aaa\n",
       "1     aaai\n",
       "2     aapo\n",
       "3      aat\n",
       "4  aazhang"
      ]
     },
     "execution_count": 150,
     "metadata": {},
     "output_type": "execute_result"
    }
   ],
   "source": [
    "df.head()"
   ]
  },
  {
   "cell_type": "code",
   "execution_count": 151,
   "metadata": {},
   "outputs": [],
   "source": [
    "df = pd.read_csv('https://archive.ics.uci.edu/ml/machine-learning-databases/00591/name_gender_dataset.csv')"
   ]
  },
  {
   "cell_type": "code",
   "execution_count": 152,
   "metadata": {},
   "outputs": [
    {
     "data": {
      "text/html": [
       "<div>\n",
       "<style scoped>\n",
       "    .dataframe tbody tr th:only-of-type {\n",
       "        vertical-align: middle;\n",
       "    }\n",
       "\n",
       "    .dataframe tbody tr th {\n",
       "        vertical-align: top;\n",
       "    }\n",
       "\n",
       "    .dataframe thead th {\n",
       "        text-align: right;\n",
       "    }\n",
       "</style>\n",
       "<table border=\"1\" class=\"dataframe\">\n",
       "  <thead>\n",
       "    <tr style=\"text-align: right;\">\n",
       "      <th></th>\n",
       "      <th>Name</th>\n",
       "      <th>Gender</th>\n",
       "      <th>Count</th>\n",
       "      <th>Probability</th>\n",
       "    </tr>\n",
       "  </thead>\n",
       "  <tbody>\n",
       "    <tr>\n",
       "      <th>0</th>\n",
       "      <td>James</td>\n",
       "      <td>M</td>\n",
       "      <td>5304407</td>\n",
       "      <td>0.014517</td>\n",
       "    </tr>\n",
       "    <tr>\n",
       "      <th>1</th>\n",
       "      <td>John</td>\n",
       "      <td>M</td>\n",
       "      <td>5260831</td>\n",
       "      <td>0.014398</td>\n",
       "    </tr>\n",
       "    <tr>\n",
       "      <th>2</th>\n",
       "      <td>Robert</td>\n",
       "      <td>M</td>\n",
       "      <td>4970386</td>\n",
       "      <td>0.013603</td>\n",
       "    </tr>\n",
       "    <tr>\n",
       "      <th>3</th>\n",
       "      <td>Michael</td>\n",
       "      <td>M</td>\n",
       "      <td>4579950</td>\n",
       "      <td>0.012534</td>\n",
       "    </tr>\n",
       "    <tr>\n",
       "      <th>4</th>\n",
       "      <td>William</td>\n",
       "      <td>M</td>\n",
       "      <td>4226608</td>\n",
       "      <td>0.011567</td>\n",
       "    </tr>\n",
       "  </tbody>\n",
       "</table>\n",
       "</div>"
      ],
      "text/plain": [
       "      Name Gender    Count  Probability\n",
       "0    James      M  5304407     0.014517\n",
       "1     John      M  5260831     0.014398\n",
       "2   Robert      M  4970386     0.013603\n",
       "3  Michael      M  4579950     0.012534\n",
       "4  William      M  4226608     0.011567"
      ]
     },
     "execution_count": 152,
     "metadata": {},
     "output_type": "execute_result"
    }
   ],
   "source": [
    "df.head()"
   ]
  },
  {
   "cell_type": "code",
   "execution_count": 153,
   "metadata": {},
   "outputs": [
    {
     "data": {
      "text/html": [
       "<div>\n",
       "<style scoped>\n",
       "    .dataframe tbody tr th:only-of-type {\n",
       "        vertical-align: middle;\n",
       "    }\n",
       "\n",
       "    .dataframe tbody tr th {\n",
       "        vertical-align: top;\n",
       "    }\n",
       "\n",
       "    .dataframe thead th {\n",
       "        text-align: right;\n",
       "    }\n",
       "</style>\n",
       "<table border=\"1\" class=\"dataframe\">\n",
       "  <thead>\n",
       "    <tr style=\"text-align: right;\">\n",
       "      <th></th>\n",
       "      <th>Name</th>\n",
       "      <th>Gender</th>\n",
       "      <th>Count</th>\n",
       "      <th>Probability</th>\n",
       "    </tr>\n",
       "  </thead>\n",
       "  <tbody>\n",
       "    <tr>\n",
       "      <th>0</th>\n",
       "      <td>James</td>\n",
       "      <td>M</td>\n",
       "      <td>5304407</td>\n",
       "      <td>0.014517</td>\n",
       "    </tr>\n",
       "    <tr>\n",
       "      <th>1615</th>\n",
       "      <td>James</td>\n",
       "      <td>F</td>\n",
       "      <td>23963</td>\n",
       "      <td>0.000066</td>\n",
       "    </tr>\n",
       "  </tbody>\n",
       "</table>\n",
       "</div>"
      ],
      "text/plain": [
       "       Name Gender    Count  Probability\n",
       "0     James      M  5304407     0.014517\n",
       "1615  James      F    23963     0.000066"
      ]
     },
     "execution_count": 153,
     "metadata": {},
     "output_type": "execute_result"
    }
   ],
   "source": [
    "df[df.Name == 'James']"
   ]
  },
  {
   "cell_type": "code",
   "execution_count": 154,
   "metadata": {},
   "outputs": [],
   "source": [
    "# Problem statement:"
   ]
  },
  {
   "cell_type": "code",
   "execution_count": 155,
   "metadata": {},
   "outputs": [],
   "source": [
    "# Two columns \n",
    "ProbA = [0.01,0.20,0.21,0.2,0.3,0.5,0.49,0.51]\n",
    "ProbB = [0.99,0.80,0.79,0.8,0.7,0.5,0.51,0.49]"
   ]
  },
  {
   "cell_type": "code",
   "execution_count": 156,
   "metadata": {},
   "outputs": [
    {
     "data": {
      "text/plain": [
       "[0.01, 0.2, 0.21, 0.2, 0.3, 0.5, 0.49, 0.51]"
      ]
     },
     "execution_count": 156,
     "metadata": {},
     "output_type": "execute_result"
    }
   ],
   "source": [
    "ProbA"
   ]
  },
  {
   "cell_type": "code",
   "execution_count": 157,
   "metadata": {},
   "outputs": [
    {
     "data": {
      "text/plain": [
       "[0.99, 0.8, 0.79, 0.8, 0.7, 0.5, 0.51, 0.49]"
      ]
     },
     "execution_count": 157,
     "metadata": {},
     "output_type": "execute_result"
    }
   ],
   "source": [
    "ProbB"
   ]
  },
  {
   "cell_type": "code",
   "execution_count": 158,
   "metadata": {},
   "outputs": [],
   "source": [
    "# ProbA= Approved\n",
    "# ProbB= Canceled"
   ]
  },
  {
   "cell_type": "code",
   "execution_count": 159,
   "metadata": {},
   "outputs": [],
   "source": [
    "# if any two sum of probabilities are equal to 0.7 or 0.8 (threshold), then return True else False"
   ]
  },
  {
   "cell_type": "code",
   "execution_count": 160,
   "metadata": {},
   "outputs": [],
   "source": [
    "#example\n",
    "list123 = [0.10,0.15,0.30,0.7]"
   ]
  },
  {
   "cell_type": "code",
   "execution_count": 161,
   "metadata": {},
   "outputs": [],
   "source": [
    "threshold = 0.80\n",
    "# (0.10,0.7) = 0.8, return True or False"
   ]
  },
  {
   "cell_type": "code",
   "execution_count": 162,
   "metadata": {},
   "outputs": [],
   "source": [
    "# write a custom function for the above task"
   ]
  },
  {
   "cell_type": "code",
   "execution_count": 163,
   "metadata": {},
   "outputs": [],
   "source": [
    "# Close Solution, values and all combination\n",
    "def get_sum(num,thres):\n",
    "    for i in range(len(num)):\n",
    "        for j in range(i+1,len(num)):\n",
    "            if num[i]+num[j] == thres:\n",
    "                return(i,j)"
   ]
  },
  {
   "cell_type": "code",
   "execution_count": 164,
   "metadata": {},
   "outputs": [
    {
     "data": {
      "text/plain": [
       "0.8"
      ]
     },
     "execution_count": 164,
     "metadata": {},
     "output_type": "execute_result"
    }
   ],
   "source": [
    "np.round((0.10+0.70),2)"
   ]
  },
  {
   "cell_type": "code",
   "execution_count": 165,
   "metadata": {},
   "outputs": [],
   "source": [
    "get_sum(list123,0.8)"
   ]
  },
  {
   "cell_type": "code",
   "execution_count": 166,
   "metadata": {},
   "outputs": [
    {
     "data": {
      "text/plain": [
       "(4, 5)"
      ]
     },
     "execution_count": 166,
     "metadata": {},
     "output_type": "execute_result"
    }
   ],
   "source": [
    "get_sum(ProbA,0.8)"
   ]
  },
  {
   "cell_type": "code",
   "execution_count": 167,
   "metadata": {},
   "outputs": [
    {
     "data": {
      "text/plain": [
       "0.8"
      ]
     },
     "execution_count": 167,
     "metadata": {},
     "output_type": "execute_result"
    }
   ],
   "source": [
    "ProbA[4] + ProbA[5]"
   ]
  },
  {
   "cell_type": "code",
   "execution_count": 168,
   "metadata": {},
   "outputs": [
    {
     "data": {
      "text/plain": [
       "0.8"
      ]
     },
     "execution_count": 168,
     "metadata": {},
     "output_type": "execute_result"
    }
   ],
   "source": [
    "0.3 + 0.5"
   ]
  },
  {
   "cell_type": "code",
   "execution_count": 169,
   "metadata": {},
   "outputs": [
    {
     "data": {
      "text/plain": [
       "0.7999999999999999"
      ]
     },
     "execution_count": 169,
     "metadata": {},
     "output_type": "execute_result"
    }
   ],
   "source": [
    "0.1 + 0.7"
   ]
  },
  {
   "cell_type": "code",
   "execution_count": 170,
   "metadata": {},
   "outputs": [],
   "source": [
    "# Think about the issues"
   ]
  },
  {
   "cell_type": "code",
   "execution_count": 171,
   "metadata": {},
   "outputs": [],
   "source": [
    "# Near Perfect Solution- need to print all such instances\n",
    "def findAmb(threshold, probList) :\n",
    "    list2 = [];\n",
    "    for num in probList:\n",
    "        #print(num)\n",
    "        dif = threshold - num\n",
    "        #print(dif)\n",
    "        if( round(dif, 2) in probList):\n",
    "            list2.append(num)\n",
    "    return list2"
   ]
  },
  {
   "cell_type": "code",
   "execution_count": 172,
   "metadata": {},
   "outputs": [
    {
     "data": {
      "text/plain": [
       "[0.3, 0.5]"
      ]
     },
     "execution_count": 172,
     "metadata": {},
     "output_type": "execute_result"
    }
   ],
   "source": [
    "findAmb(0.8,ProbA)"
   ]
  },
  {
   "cell_type": "code",
   "execution_count": 173,
   "metadata": {},
   "outputs": [],
   "source": [
    "# Best Solution\n",
    "#helper func for probablity\n",
    "def func_prob_check(class_arr,thres):\n",
    "    count=0\n",
    "    for i in class_arr:\n",
    "        #print(i)\n",
    "        count= count +1\n",
    "        #print(count,len(class_arr)-count)\n",
    "        child_arr =class_arr[count:]\n",
    "        #print(child_arr)\n",
    "        for j in child_arr:\n",
    "        #print (j)\n",
    "            if i!=j:\n",
    "                if (i+j) >= thres:\n",
    "                    print (\"Prob Threshold values : (\" , i ,\",\",j ,\") =\" , i+j)"
   ]
  },
  {
   "cell_type": "code",
   "execution_count": 174,
   "metadata": {},
   "outputs": [
    {
     "name": "stdout",
     "output_type": "stream",
     "text": [
      "Prob Threshold values : ( 0.3 , 0.5 ) = 0.8\n",
      "Prob Threshold values : ( 0.3 , 0.51 ) = 0.81\n",
      "Prob Threshold values : ( 0.5 , 0.49 ) = 0.99\n",
      "Prob Threshold values : ( 0.5 , 0.51 ) = 1.01\n",
      "Prob Threshold values : ( 0.49 , 0.51 ) = 1.0\n"
     ]
    }
   ],
   "source": [
    "func_prob_check(ProbA,0.8)"
   ]
  },
  {
   "cell_type": "code",
   "execution_count": 175,
   "metadata": {},
   "outputs": [
    {
     "name": "stdout",
     "output_type": "stream",
     "text": [
      "25\n"
     ]
    }
   ],
   "source": [
    "def my_calc():\n",
    "    bmi = 25\n",
    "    return bmi\n",
    "print(my_calc())"
   ]
  },
  {
   "cell_type": "code",
   "execution_count": 176,
   "metadata": {},
   "outputs": [
    {
     "name": "stdout",
     "output_type": "stream",
     "text": [
      "over-weight\n",
      "obese\n"
     ]
    }
   ],
   "source": [
    "bmi = 26\n",
    "if bmi > 25: print('over-weight'),print('obese')\n",
    "else:print('normal')"
   ]
  },
  {
   "cell_type": "code",
   "execution_count": 177,
   "metadata": {},
   "outputs": [
    {
     "name": "stdout",
     "output_type": "stream",
     "text": [
      "normal\n"
     ]
    }
   ],
   "source": [
    "bmi = 25\n",
    "if bmi > 25: print('over-weight'),print('obese')\n",
    "else:print('normal')"
   ]
  },
  {
   "cell_type": "code",
   "execution_count": 178,
   "metadata": {},
   "outputs": [],
   "source": [
    "# data type conversion"
   ]
  },
  {
   "cell_type": "code",
   "execution_count": 179,
   "metadata": {},
   "outputs": [],
   "source": [
    "a = '123'"
   ]
  },
  {
   "cell_type": "code",
   "execution_count": 180,
   "metadata": {},
   "outputs": [
    {
     "data": {
      "text/plain": [
       "str"
      ]
     },
     "execution_count": 180,
     "metadata": {},
     "output_type": "execute_result"
    }
   ],
   "source": [
    "type(a)"
   ]
  },
  {
   "cell_type": "code",
   "execution_count": 181,
   "metadata": {},
   "outputs": [],
   "source": [
    "num = int(a)"
   ]
  },
  {
   "cell_type": "code",
   "execution_count": 182,
   "metadata": {},
   "outputs": [
    {
     "data": {
      "text/plain": [
       "int"
      ]
     },
     "execution_count": 182,
     "metadata": {},
     "output_type": "execute_result"
    }
   ],
   "source": [
    "type(num)"
   ]
  },
  {
   "cell_type": "code",
   "execution_count": 183,
   "metadata": {},
   "outputs": [
    {
     "data": {
      "text/plain": [
       "float"
      ]
     },
     "execution_count": 183,
     "metadata": {},
     "output_type": "execute_result"
    }
   ],
   "source": [
    "b = float(a)\n",
    "type(b)"
   ]
  },
  {
   "cell_type": "code",
   "execution_count": 184,
   "metadata": {},
   "outputs": [],
   "source": [
    "# mutable object and immutable object"
   ]
  },
  {
   "cell_type": "code",
   "execution_count": 185,
   "metadata": {},
   "outputs": [
    {
     "data": {
      "text/plain": [
       "[0.01, 0.2, 0.21, 0.2, 0.3, 0.5, 0.49, 0.51]"
      ]
     },
     "execution_count": 185,
     "metadata": {},
     "output_type": "execute_result"
    }
   ],
   "source": [
    "ProbA"
   ]
  },
  {
   "cell_type": "code",
   "execution_count": 186,
   "metadata": {},
   "outputs": [
    {
     "data": {
      "text/plain": [
       "list"
      ]
     },
     "execution_count": 186,
     "metadata": {},
     "output_type": "execute_result"
    }
   ],
   "source": [
    "type(ProbA)"
   ]
  },
  {
   "cell_type": "code",
   "execution_count": 187,
   "metadata": {},
   "outputs": [],
   "source": [
    "def average(x):\n",
    "    return np.mean(x)"
   ]
  },
  {
   "cell_type": "code",
   "execution_count": 188,
   "metadata": {},
   "outputs": [
    {
     "data": {
      "text/plain": [
       "0.3025"
      ]
     },
     "execution_count": 188,
     "metadata": {},
     "output_type": "execute_result"
    }
   ],
   "source": [
    "average(ProbA)"
   ]
  },
  {
   "cell_type": "code",
   "execution_count": 189,
   "metadata": {},
   "outputs": [],
   "source": [
    "def somef():\n",
    "    x = (10,11)\n",
    "    g(x)\n",
    "    x == (10,11)"
   ]
  },
  {
   "cell_type": "code",
   "execution_count": 190,
   "metadata": {},
   "outputs": [],
   "source": [
    "a = 10\n",
    "a = a + 12"
   ]
  },
  {
   "cell_type": "code",
   "execution_count": 191,
   "metadata": {},
   "outputs": [
    {
     "data": {
      "text/plain": [
       "22"
      ]
     },
     "execution_count": 191,
     "metadata": {},
     "output_type": "execute_result"
    }
   ],
   "source": [
    "a"
   ]
  },
  {
   "cell_type": "code",
   "execution_count": 192,
   "metadata": {},
   "outputs": [],
   "source": [
    "# Immutable data types\n",
    "# int, long, float, complex\n",
    "# str, bytes, tuple"
   ]
  },
  {
   "cell_type": "code",
   "execution_count": 193,
   "metadata": {},
   "outputs": [],
   "source": [
    "# mutable data types\n",
    "# list\n",
    "# set\n",
    "# dict\n",
    "# bytearray"
   ]
  },
  {
   "cell_type": "code",
   "execution_count": 194,
   "metadata": {},
   "outputs": [
    {
     "data": {
      "text/plain": [
       "False"
      ]
     },
     "execution_count": 194,
     "metadata": {},
     "output_type": "execute_result"
    }
   ],
   "source": [
    "def f(m):\n",
    "    m.append(3)\n",
    "    \n",
    "x = [1,2]\n",
    "f(x)\n",
    "x == [1,2]"
   ]
  },
  {
   "cell_type": "code",
   "execution_count": 195,
   "metadata": {},
   "outputs": [
    {
     "data": {
      "text/plain": [
       "[1, 2, 3]"
      ]
     },
     "execution_count": 195,
     "metadata": {},
     "output_type": "execute_result"
    }
   ],
   "source": [
    "x"
   ]
  },
  {
   "cell_type": "code",
   "execution_count": 197,
   "metadata": {},
   "outputs": [
    {
     "data": {
      "text/plain": [
       "['James',\n",
       " 'John',\n",
       " 'Robert',\n",
       " 'Michael',\n",
       " 'William',\n",
       " 'Mary',\n",
       " 'David',\n",
       " 'Joseph',\n",
       " 'Richard',\n",
       " 'Charles',\n",
       " 'Thomas',\n",
       " 'Christopher',\n",
       " 'Daniel',\n",
       " 'Matthew',\n",
       " 'Elizabeth',\n",
       " 'Patricia',\n",
       " 'Jennifer',\n",
       " 'Anthony',\n",
       " 'George',\n",
       " 'Linda',\n",
       " 'Barbara',\n",
       " 'Donald',\n",
       " 'Paul',\n",
       " 'Mark',\n",
       " 'Andrew',\n",
       " 'Steven',\n",
       " 'Kenneth',\n",
       " 'Edward',\n",
       " 'Joshua',\n",
       " 'Margaret',\n",
       " 'Brian',\n",
       " 'Kevin',\n",
       " 'Jessica',\n",
       " 'Sarah',\n",
       " 'Susan',\n",
       " 'Timothy',\n",
       " 'Dorothy',\n",
       " 'Jason',\n",
       " 'Ronald',\n",
       " 'Helen',\n",
       " 'Ryan',\n",
       " 'Jeffrey',\n",
       " 'Karen',\n",
       " 'Nancy',\n",
       " 'Betty',\n",
       " 'Lisa',\n",
       " 'Jacob',\n",
       " 'Nicholas',\n",
       " 'Ashley',\n",
       " 'Eric',\n",
       " 'Frank',\n",
       " 'Gary',\n",
       " 'Anna',\n",
       " 'Stephen',\n",
       " 'Jonathan',\n",
       " 'Sandra',\n",
       " 'Emily',\n",
       " 'Amanda',\n",
       " 'Kimberly',\n",
       " 'Michelle',\n",
       " 'Donna',\n",
       " 'Justin',\n",
       " 'Laura',\n",
       " 'Ruth',\n",
       " 'Carol',\n",
       " 'Brandon',\n",
       " 'Larry',\n",
       " 'Scott',\n",
       " 'Melissa',\n",
       " 'Stephanie',\n",
       " 'Benjamin',\n",
       " 'Raymond',\n",
       " 'Samuel',\n",
       " 'Rebecca',\n",
       " 'Deborah',\n",
       " 'Gregory',\n",
       " 'Sharon',\n",
       " 'Kathleen',\n",
       " 'Amy',\n",
       " 'Cynthia',\n",
       " 'Alexander',\n",
       " 'Patrick',\n",
       " 'Jack',\n",
       " 'Henry',\n",
       " 'Angela',\n",
       " 'Shirley',\n",
       " 'Emma',\n",
       " 'Catherine',\n",
       " 'Katherine',\n",
       " 'Virginia',\n",
       " 'Nicole',\n",
       " 'Dennis',\n",
       " 'Walter',\n",
       " 'Tyler',\n",
       " 'Peter',\n",
       " 'Brenda',\n",
       " 'Aaron',\n",
       " 'Jerry',\n",
       " 'Christine',\n",
       " 'Samantha',\n",
       " 'Adam',\n",
       " 'Rachel',\n",
       " 'Pamela',\n",
       " 'Frances',\n",
       " 'Nathan',\n",
       " 'Douglas',\n",
       " 'Heather',\n",
       " 'Evelyn',\n",
       " 'Jose',\n",
       " 'Alice',\n",
       " 'Janet',\n",
       " 'Maria',\n",
       " 'Zachary',\n",
       " 'Carolyn',\n",
       " 'Debra',\n",
       " 'Harold',\n",
       " 'Martha',\n",
       " 'Marie',\n",
       " 'Arthur',\n",
       " 'Julie',\n",
       " 'Kyle',\n",
       " 'Diane',\n",
       " 'Christina',\n",
       " 'Victoria',\n",
       " 'Joyce',\n",
       " 'Carl',\n",
       " 'Lauren',\n",
       " 'Grace',\n",
       " 'Kelly',\n",
       " 'Albert',\n",
       " 'Rose',\n",
       " 'Megan',\n",
       " 'Joan',\n",
       " 'Jeremy',\n",
       " 'Ann',\n",
       " 'Julia',\n",
       " 'Kathryn',\n",
       " 'Lawrence',\n",
       " 'Olivia',\n",
       " 'Judith',\n",
       " 'Doris',\n",
       " 'Jean',\n",
       " 'Andrea',\n",
       " 'Gerald',\n",
       " 'Sean',\n",
       " 'Joe',\n",
       " 'Keith',\n",
       " 'Sara',\n",
       " 'Cheryl',\n",
       " 'Hannah',\n",
       " 'Mildred',\n",
       " 'Willie',\n",
       " 'Lillian',\n",
       " 'Roger',\n",
       " 'Jesse',\n",
       " 'Jacqueline',\n",
       " 'Ethan',\n",
       " 'Terry',\n",
       " 'Christian',\n",
       " 'Harry',\n",
       " 'Teresa',\n",
       " 'Austin',\n",
       " 'Gloria',\n",
       " 'Ralph',\n",
       " 'Janice',\n",
       " 'Roy',\n",
       " 'Theresa',\n",
       " 'Amber',\n",
       " 'Danielle',\n",
       " 'Noah',\n",
       " 'Bryan',\n",
       " 'Jordan',\n",
       " 'Louis',\n",
       " 'Brittany',\n",
       " 'Bruce',\n",
       " 'Madison',\n",
       " 'Judy',\n",
       " 'Billy',\n",
       " 'Dylan',\n",
       " 'Denise',\n",
       " 'Beverly',\n",
       " 'Eugene',\n",
       " 'Jane',\n",
       " 'Marilyn',\n",
       " 'Abigail',\n",
       " 'Diana',\n",
       " 'Charlotte',\n",
       " 'Natalie',\n",
       " 'Tiffany',\n",
       " 'Wayne',\n",
       " 'Russell',\n",
       " 'Alan',\n",
       " 'Crystal',\n",
       " 'Sophia',\n",
       " 'Irene',\n",
       " 'Juan',\n",
       " 'Ruby',\n",
       " 'Gabriel',\n",
       " 'Philip',\n",
       " 'Annie',\n",
       " 'Kayla',\n",
       " 'Vincent',\n",
       " 'Lori',\n",
       " 'Howard',\n",
       " 'Alexis',\n",
       " 'Erin',\n",
       " 'Fred',\n",
       " 'Logan',\n",
       " 'Isabella',\n",
       " 'Tammy',\n",
       " 'Louise',\n",
       " 'Florence',\n",
       " 'Randy',\n",
       " 'Bradley',\n",
       " 'Kathy',\n",
       " 'Lois',\n",
       " 'Anne',\n",
       " 'Bonnie',\n",
       " 'Victor',\n",
       " 'Taylor',\n",
       " 'Travis',\n",
       " 'Phyllis',\n",
       " 'Shawn',\n",
       " 'Phillip',\n",
       " 'Shannon',\n",
       " 'Martin',\n",
       " 'Johnny',\n",
       " 'Craig',\n",
       " 'Allison',\n",
       " 'Bobby',\n",
       " 'Alyssa',\n",
       " 'Ella',\n",
       " 'Josephine',\n",
       " 'Ernest',\n",
       " 'Stanley',\n",
       " 'Cody',\n",
       " 'Clarence',\n",
       " 'Tina',\n",
       " 'Elijah',\n",
       " 'Leonard',\n",
       " 'Carlos',\n",
       " 'Dawn',\n",
       " 'Robin',\n",
       " 'Edna',\n",
       " 'Cameron',\n",
       " 'Peggy',\n",
       " 'Caleb',\n",
       " 'Eleanor',\n",
       " 'Isaac',\n",
       " 'Todd',\n",
       " 'Jamie',\n",
       " 'Earl',\n",
       " 'Francis',\n",
       " 'Jimmy',\n",
       " 'Mason',\n",
       " 'Danny',\n",
       " 'Audrey',\n",
       " 'Rita',\n",
       " 'Luke',\n",
       " 'Dale',\n",
       " 'Alex',\n",
       " 'Paula',\n",
       " 'Clara',\n",
       " 'Wanda',\n",
       " 'Joel',\n",
       " 'Evan',\n",
       " 'Norma',\n",
       " 'Luis',\n",
       " 'Courtney',\n",
       " 'Ethel',\n",
       " 'Nathaniel',\n",
       " 'Wendy',\n",
       " 'Ellen',\n",
       " 'Leslie',\n",
       " 'Marjorie',\n",
       " 'Vanessa',\n",
       " 'Allen',\n",
       " 'Valerie',\n",
       " 'Carrie',\n",
       " 'Ava',\n",
       " 'Eva',\n",
       " 'Frederick',\n",
       " 'Curtis',\n",
       " 'Edith',\n",
       " 'Connie',\n",
       " 'Lucas',\n",
       " 'Gladys',\n",
       " 'Cindy',\n",
       " 'Tracy',\n",
       " 'Elaine',\n",
       " 'Hazel',\n",
       " 'Monica',\n",
       " 'Norman',\n",
       " 'Esther',\n",
       " 'Melanie',\n",
       " 'Brianna',\n",
       " 'Antonio',\n",
       " 'Jasmine',\n",
       " 'Chad',\n",
       " 'Katie',\n",
       " 'Tony',\n",
       " 'Rodney',\n",
       " 'Glenn',\n",
       " 'Marvin',\n",
       " 'April',\n",
       " 'Derek',\n",
       " 'Erica',\n",
       " 'Ian',\n",
       " 'Adrian',\n",
       " 'Theodore',\n",
       " 'Alexandra',\n",
       " 'Marcus',\n",
       " 'Alfred',\n",
       " 'Jackson',\n",
       " 'Edwin',\n",
       " 'Melvin',\n",
       " 'Sylvia',\n",
       " 'Sheila',\n",
       " 'Alicia',\n",
       " 'Steve',\n",
       " 'Leah',\n",
       " 'Hunter',\n",
       " 'Lee',\n",
       " 'Jeffery',\n",
       " 'Kristen',\n",
       " 'Caroline',\n",
       " 'Mia',\n",
       " 'Sherry',\n",
       " 'Angel',\n",
       " 'Jesus',\n",
       " 'Dustin',\n",
       " 'Herbert',\n",
       " 'Pauline',\n",
       " 'Michele',\n",
       " 'Veronica',\n",
       " 'Ricky',\n",
       " 'Liam',\n",
       " 'Wesley',\n",
       " 'Thelma',\n",
       " 'Suzanne',\n",
       " 'Lucille',\n",
       " 'Morgan',\n",
       " 'Joanne',\n",
       " 'Troy',\n",
       " 'Chloe',\n",
       " 'Anita',\n",
       " 'Connor',\n",
       " 'Isaiah',\n",
       " 'Julian',\n",
       " 'Jared',\n",
       " 'Holly',\n",
       " 'Lorraine',\n",
       " 'Jayden',\n",
       " 'Jill',\n",
       " 'Geraldine',\n",
       " 'Rhonda',\n",
       " 'Dolores',\n",
       " 'Eddie',\n",
       " 'Vivian',\n",
       " 'Darlene',\n",
       " 'Aiden',\n",
       " 'Calvin',\n",
       " 'Shane',\n",
       " 'Leo',\n",
       " 'Juanita',\n",
       " 'Sally',\n",
       " 'Lucy',\n",
       " 'Bertha',\n",
       " 'Gail',\n",
       " 'Oscar',\n",
       " 'Mike',\n",
       " 'Randall',\n",
       " 'Ray',\n",
       " 'Bernard',\n",
       " 'Jeremiah',\n",
       " 'Dana',\n",
       " 'Brooke',\n",
       " 'Leroy',\n",
       " 'Amelia',\n",
       " 'Corey',\n",
       " 'June',\n",
       " 'Owen',\n",
       " 'Claire',\n",
       " 'Jay',\n",
       " 'Kristin',\n",
       " 'Beatrice',\n",
       " 'Clifford',\n",
       " 'Marion',\n",
       " 'Renee',\n",
       " 'Tara',\n",
       " 'Madeline',\n",
       " 'Barry',\n",
       " 'Debbie',\n",
       " 'Eileen',\n",
       " 'Manuel',\n",
       " 'Ida',\n",
       " 'Lynn',\n",
       " 'Blake',\n",
       " 'Dean',\n",
       " 'Kim',\n",
       " 'Bernice',\n",
       " 'Ronnie',\n",
       " 'Warren',\n",
       " 'Gavin',\n",
       " 'Miguel',\n",
       " 'Cassandra',\n",
       " 'Regina',\n",
       " 'Elsie',\n",
       " 'Jo',\n",
       " 'Tommy',\n",
       " 'Trevor',\n",
       " 'Stella',\n",
       " 'Gertrude',\n",
       " 'Loretta',\n",
       " 'Rosa',\n",
       " 'Sydney',\n",
       " 'Oliver',\n",
       " 'Chelsea',\n",
       " 'Roberta',\n",
       " 'Savannah',\n",
       " 'Lindsey',\n",
       " 'Brett',\n",
       " 'Colleen',\n",
       " 'Gordon',\n",
       " 'Mitchell',\n",
       " 'Charlie',\n",
       " 'Dominic',\n",
       " 'Jessie',\n",
       " 'Annette',\n",
       " 'Molly',\n",
       " 'Cathy',\n",
       " 'Stacy',\n",
       " 'Laurie',\n",
       " 'Lydia',\n",
       " 'Jon',\n",
       " 'Chase',\n",
       " 'Leon',\n",
       " 'Bessie',\n",
       " 'Seth',\n",
       " 'Kaitlyn',\n",
       " 'Don',\n",
       " 'Naomi',\n",
       " 'Jeanette',\n",
       " 'Hailey',\n",
       " 'Jeanne',\n",
       " 'Darrell',\n",
       " 'Lloyd',\n",
       " 'Carter',\n",
       " 'Jerome',\n",
       " 'Erik',\n",
       " 'Alvin',\n",
       " 'Beth',\n",
       " 'Jenna',\n",
       " 'Yvonne',\n",
       " 'Rosemary',\n",
       " 'Landon',\n",
       " 'Bill',\n",
       " 'Haley',\n",
       " 'Alma',\n",
       " 'Wyatt',\n",
       " 'Micheal',\n",
       " 'Agnes',\n",
       " 'Gina',\n",
       " 'Minnie',\n",
       " 'Sebastian',\n",
       " 'Devin',\n",
       " 'Georgia',\n",
       " 'Stacey',\n",
       " 'Pearl',\n",
       " 'Vicki',\n",
       " 'Joann',\n",
       " 'Max',\n",
       " 'Kelsey',\n",
       " 'Lillie',\n",
       " 'Levi',\n",
       " 'Lily',\n",
       " 'Floyd',\n",
       " 'Carla',\n",
       " 'Edgar',\n",
       " 'Lewis',\n",
       " 'Jim',\n",
       " 'Nora',\n",
       " 'Maureen',\n",
       " 'Brent',\n",
       " 'Heidi',\n",
       " 'Derrick',\n",
       " 'Mario',\n",
       " 'Nellie',\n",
       " 'Lindsay',\n",
       " 'Kristina',\n",
       " 'Shelby',\n",
       " 'Terri',\n",
       " 'Destiny',\n",
       " 'Vernon',\n",
       " 'Paige',\n",
       " 'Chris',\n",
       " 'Marc',\n",
       " 'Violet',\n",
       " 'Willie',\n",
       " 'Arlene',\n",
       " 'Sue',\n",
       " 'Cole',\n",
       " 'Daisy',\n",
       " 'Sabrina',\n",
       " 'Ricardo',\n",
       " 'Carmen',\n",
       " 'Clyde',\n",
       " 'Marian',\n",
       " 'Vera',\n",
       " 'Constance',\n",
       " 'Deanna',\n",
       " 'Wilma',\n",
       " 'Colin',\n",
       " 'Melinda',\n",
       " 'Tom',\n",
       " 'Lena',\n",
       " 'Tamara',\n",
       " 'Joy',\n",
       " 'Faith',\n",
       " 'Clayton',\n",
       " 'Maurice',\n",
       " 'Gabrielle',\n",
       " 'Cory',\n",
       " 'Franklin',\n",
       " 'Ivan',\n",
       " 'Xavier',\n",
       " 'Charlene',\n",
       " 'Katelyn',\n",
       " 'Francisco',\n",
       " 'Sofia',\n",
       " 'Garrett',\n",
       " 'Myrtle',\n",
       " 'Cora',\n",
       " 'Jordan',\n",
       " 'Alejandro',\n",
       " 'Herman',\n",
       " 'Mabel',\n",
       " 'Jorge',\n",
       " 'Marcia',\n",
       " 'Grant',\n",
       " 'Marlene',\n",
       " 'Erika',\n",
       " 'Zoe',\n",
       " 'Mackenzie',\n",
       " 'Glen',\n",
       " 'Viola',\n",
       " 'Gilbert',\n",
       " 'Jake',\n",
       " 'Mattie',\n",
       " 'Nina',\n",
       " 'Claudia',\n",
       " 'Lester',\n",
       " 'Kaylee',\n",
       " 'Avery',\n",
       " 'Elmer',\n",
       " 'Tanya',\n",
       " 'Andre',\n",
       " 'Alexa',\n",
       " 'Jennie',\n",
       " 'Autumn',\n",
       " 'Sadie',\n",
       " 'Gene',\n",
       " 'Sam',\n",
       " 'Marissa',\n",
       " 'Colton',\n",
       " 'Spencer',\n",
       " 'Eli',\n",
       " 'Alison',\n",
       " 'Caitlin',\n",
       " 'Harvey',\n",
       " 'Tonya',\n",
       " 'Priscilla',\n",
       " 'Addison',\n",
       " 'Isabel',\n",
       " 'Angelina',\n",
       " 'Brayden',\n",
       " 'Sophie',\n",
       " 'Chester',\n",
       " 'Jeff',\n",
       " 'Gwendolyn',\n",
       " 'Casey',\n",
       " 'Bryce',\n",
       " 'Patsy',\n",
       " 'Tristan',\n",
       " 'Gabriella',\n",
       " 'Taylor',\n",
       " 'Leslie',\n",
       " 'Maggie',\n",
       " 'Miranda',\n",
       " 'Darren',\n",
       " 'Delores',\n",
       " 'Milton',\n",
       " 'Duane',\n",
       " 'Preston',\n",
       " 'Kylie',\n",
       " 'Reginald',\n",
       " 'Genevieve',\n",
       " 'Ruben',\n",
       " 'Aidan',\n",
       " 'Brandy',\n",
       " 'Yolanda',\n",
       " 'Maxine',\n",
       " 'Aubrey',\n",
       " 'Jessie',\n",
       " 'Roberto',\n",
       " 'Carole',\n",
       " 'Jimmie',\n",
       " 'Joanna',\n",
       " 'Neil',\n",
       " 'Miriam',\n",
       " 'Natasha',\n",
       " 'Carson',\n",
       " 'Katrina',\n",
       " 'Leona',\n",
       " 'Glenda',\n",
       " 'Lance',\n",
       " 'Mae',\n",
       " 'Mariah',\n",
       " 'Vickie',\n",
       " 'Brandi',\n",
       " 'Whitney',\n",
       " 'Jocelyn',\n",
       " 'Josiah',\n",
       " 'Everett',\n",
       " 'Riley',\n",
       " 'Diego',\n",
       " 'Parker',\n",
       " 'Cecil',\n",
       " 'Kara',\n",
       " 'Dan',\n",
       " 'Meghan',\n",
       " 'Dora',\n",
       " 'Brooklyn',\n",
       " 'Margie',\n",
       " 'Allan',\n",
       " 'Bethany',\n",
       " 'Eduardo',\n",
       " 'Ana',\n",
       " 'Hector',\n",
       " 'Arnold',\n",
       " 'Marsha',\n",
       " 'Karl',\n",
       " 'Nolan',\n",
       " 'Makayla',\n",
       " 'Hayden',\n",
       " 'Toni',\n",
       " 'Riley',\n",
       " 'Christy',\n",
       " 'Clinton',\n",
       " 'Billie',\n",
       " 'Johnnie',\n",
       " 'Dianne',\n",
       " 'Ariana',\n",
       " 'Kendra',\n",
       " 'Alexandria',\n",
       " 'Sierra',\n",
       " 'Bailey',\n",
       " 'Javier',\n",
       " 'Penny',\n",
       " 'Maya',\n",
       " 'Melody',\n",
       " 'Angel',\n",
       " 'Roland',\n",
       " 'Omar',\n",
       " 'Hattie',\n",
       " 'Johnathan',\n",
       " 'Kay',\n",
       " 'Cecilia',\n",
       " 'Fernando',\n",
       " 'Terry',\n",
       " 'Darryl',\n",
       " 'Brendan',\n",
       " 'Felicia',\n",
       " 'Maxwell',\n",
       " 'Jenny',\n",
       " 'Micah',\n",
       " 'Isabelle',\n",
       " 'Ada',\n",
       " 'Briana',\n",
       " 'Tanner',\n",
       " 'Marguerite',\n",
       " 'Jamie',\n",
       " 'Lonnie',\n",
       " 'Angelica',\n",
       " 'Marshall',\n",
       " 'Bridget',\n",
       " 'Tracey',\n",
       " 'Bob',\n",
       " 'Abraham',\n",
       " 'Arianna',\n",
       " 'Madelyn',\n",
       " 'Adriana',\n",
       " 'Andy',\n",
       " 'Brady',\n",
       " 'Guy',\n",
       " 'Nicolas',\n",
       " 'Jackie',\n",
       " 'Candace',\n",
       " 'Hope',\n",
       " 'Karla',\n",
       " 'Claude',\n",
       " 'Pedro',\n",
       " 'Jillian',\n",
       " 'Brittney',\n",
       " 'Rachael',\n",
       " 'Damian',\n",
       " 'Lola',\n",
       " 'Ross',\n",
       " 'Kate',\n",
       " 'Layla',\n",
       " 'Jade',\n",
       " 'Harriet',\n",
       " 'Bobbie',\n",
       " 'Misty',\n",
       " 'Cooper',\n",
       " 'Kurt',\n",
       " 'Kristine',\n",
       " 'Aaliyah',\n",
       " 'Geneva',\n",
       " 'Desiree',\n",
       " 'Dakota',\n",
       " 'Shelly',\n",
       " 'Becky',\n",
       " 'Jacquelyn',\n",
       " 'Kelly',\n",
       " 'Blanche',\n",
       " 'Velma',\n",
       " 'Krystal',\n",
       " 'Raul',\n",
       " 'Brad',\n",
       " 'Ben',\n",
       " 'Sherri',\n",
       " 'Andres',\n",
       " 'Susie',\n",
       " 'Fannie',\n",
       " 'Sidney',\n",
       " 'Zoey',\n",
       " 'Miles',\n",
       " 'Breanna',\n",
       " 'Monique',\n",
       " 'Hugh',\n",
       " 'Lula',\n",
       " 'Iris',\n",
       " 'Mathew',\n",
       " 'Byron',\n",
       " 'Jodi',\n",
       " 'Casey',\n",
       " 'Tim',\n",
       " 'Elias',\n",
       " 'Rick',\n",
       " 'Wallace',\n",
       " 'Harper',\n",
       " 'Summer',\n",
       " 'Grayson',\n",
       " 'Dalton',\n",
       " 'Lynda',\n",
       " 'Harrison',\n",
       " 'Krista',\n",
       " 'Hilda',\n",
       " 'Tyrone',\n",
       " 'Jaxon',\n",
       " 'Rafael',\n",
       " 'Gabriela',\n",
       " 'Nevaeh',\n",
       " 'Sheryl',\n",
       " 'Drew',\n",
       " 'Kristi',\n",
       " 'Rosie',\n",
       " 'Elena',\n",
       " 'Angelo',\n",
       " 'Eunice',\n",
       " 'Shelley',\n",
       " 'Nelson',\n",
       " 'Antoinette',\n",
       " 'Dwayne',\n",
       " 'Dwight',\n",
       " 'Kelli',\n",
       " 'Julius',\n",
       " 'Jackie',\n",
       " 'Trinity',\n",
       " 'Shaun',\n",
       " 'Meredith',\n",
       " 'Kaleb',\n",
       " 'Sergio',\n",
       " 'Collin',\n",
       " 'Rebekah',\n",
       " 'Greg',\n",
       " 'Emmanuel',\n",
       " 'Mamie',\n",
       " 'Willard',\n",
       " 'Ramon',\n",
       " 'Perry',\n",
       " 'Bianca',\n",
       " 'Kristy',\n",
       " 'Candice',\n",
       " 'Jaden',\n",
       " 'Belinda',\n",
       " 'Gracie',\n",
       " 'Devon',\n",
       " 'Ted',\n",
       " 'Terrence',\n",
       " 'Janie',\n",
       " 'Stuart',\n",
       " 'Armando',\n",
       " 'Rosalie',\n",
       " 'Marco',\n",
       " 'Cesar',\n",
       " 'Ayden',\n",
       " 'Ashton',\n",
       " 'Irma',\n",
       " 'Peyton',\n",
       " 'Wade',\n",
       " 'Terrance',\n",
       " 'Erick',\n",
       " 'Freddie',\n",
       " 'Beulah',\n",
       " 'Felix',\n",
       " 'Kennedy',\n",
       " 'Marion',\n",
       " 'Ariel',\n",
       " 'Brody',\n",
       " 'Virgil',\n",
       " 'Adrienne',\n",
       " 'Roman',\n",
       " 'Morris',\n",
       " 'Robyn',\n",
       " 'Clifton',\n",
       " 'Kent',\n",
       " 'Jonathon',\n",
       " 'Jaime',\n",
       " 'Kirk',\n",
       " 'Sandy',\n",
       " 'Jeannette',\n",
       " 'Alberta',\n",
       " 'Elise',\n",
       " 'Verna',\n",
       " 'Giovanni',\n",
       " 'Camila',\n",
       " 'Simon',\n",
       " 'Carly',\n",
       " 'Faye',\n",
       " 'Sonia',\n",
       " 'Camille',\n",
       " 'Opal',\n",
       " 'Nichole',\n",
       " 'Ramona',\n",
       " 'Cheyenne',\n",
       " 'Scarlett',\n",
       " 'Flora',\n",
       " 'Sonya',\n",
       " 'Jace',\n",
       " 'Della',\n",
       " 'Leonardo',\n",
       " 'Penelope',\n",
       " 'Lorenzo',\n",
       " 'Genesis',\n",
       " 'Jonah',\n",
       " 'Daryl',\n",
       " 'Lila',\n",
       " 'Kristopher',\n",
       " 'Natalia',\n",
       " 'Malcolm',\n",
       " 'Gianna',\n",
       " 'Inez',\n",
       " 'Skylar',\n",
       " 'Valeria',\n",
       " 'Marianne',\n",
       " 'Damon',\n",
       " 'Lincoln',\n",
       " 'Luther',\n",
       " 'Ellie',\n",
       " 'Guadalupe',\n",
       " 'Fredrick',\n",
       " 'Jada',\n",
       " 'Yvette',\n",
       " 'Dillon',\n",
       " 'Dallas',\n",
       " 'Alexis',\n",
       " 'Marcella',\n",
       " 'Geoffrey',\n",
       " 'Dave',\n",
       " 'Hudson',\n",
       " 'Dominick',\n",
       " 'Bryson',\n",
       " 'Angie',\n",
       " 'Lynne',\n",
       " 'Lee',\n",
       " 'Kari',\n",
       " 'Bella',\n",
       " 'Cristian',\n",
       " 'Maryann',\n",
       " 'Gayle',\n",
       " 'Tabitha',\n",
       " 'Sheri',\n",
       " 'Patty',\n",
       " 'Olga',\n",
       " 'Rickey',\n",
       " 'Israel',\n",
       " 'Alisha',\n",
       " 'Alberto',\n",
       " 'Santiago',\n",
       " 'Tracy',\n",
       " 'Julio',\n",
       " 'Kaden',\n",
       " 'Abby',\n",
       " 'Alana',\n",
       " 'Daniela',\n",
       " 'Kaitlin',\n",
       " 'Myra',\n",
       " 'Roxanne',\n",
       " 'Caden',\n",
       " 'Damien',\n",
       " 'Annabelle',\n",
       " 'Karina',\n",
       " 'Donnie',\n",
       " 'Kendall',\n",
       " 'Homer',\n",
       " 'Lyle',\n",
       " 'Mallory',\n",
       " 'Callie',\n",
       " 'Juliana',\n",
       " 'Josie',\n",
       " 'Celeste',\n",
       " 'Mckenzie',\n",
       " 'Adeline',\n",
       " 'Cassidy',\n",
       " 'Gerard',\n",
       " 'Aurora',\n",
       " 'Rex',\n",
       " 'Enrique',\n",
       " 'Otis',\n",
       " 'Lilly',\n",
       " 'Gage',\n",
       " 'Jody',\n",
       " 'Earnest',\n",
       " 'Donovan',\n",
       " 'Janelle',\n",
       " 'Serenity',\n",
       " 'Trenton',\n",
       " 'Aimee',\n",
       " 'Kirsten',\n",
       " 'Asher',\n",
       " 'Hubert',\n",
       " 'Dianna',\n",
       " 'Avery',\n",
       " 'Cecelia',\n",
       " 'Dominique',\n",
       " 'Mya',\n",
       " 'Emmett',\n",
       " 'Olive',\n",
       " 'Wilbur',\n",
       " 'Lacey',\n",
       " 'Liliana',\n",
       " 'Mateo',\n",
       " 'Salvatore',\n",
       " 'Cara',\n",
       " 'Muriel',\n",
       " 'Alfredo',\n",
       " 'Neal',\n",
       " 'Mikayla',\n",
       " 'Eliza',\n",
       " 'Hayley',\n",
       " 'Nadine',\n",
       " 'Bernadette',\n",
       " 'Celia',\n",
       " 'Arturo',\n",
       " 'Cristina',\n",
       " 'Jan',\n",
       " 'Jordyn',\n",
       " 'Lana',\n",
       " 'Erma',\n",
       " 'Dana',\n",
       " 'Jaclyn',\n",
       " 'Vicky',\n",
       " 'Caitlyn',\n",
       " 'Alec',\n",
       " 'Gretchen',\n",
       " 'Leland',\n",
       " 'Johanna',\n",
       " 'Horace',\n",
       " 'Shannon',\n",
       " 'Jaime',\n",
       " 'Colby',\n",
       " 'Joey',\n",
       " 'Abel',\n",
       " 'Traci',\n",
       " 'Kellie',\n",
       " 'Estelle',\n",
       " 'Kerry',\n",
       " 'Ira',\n",
       " 'Conner',\n",
       " 'Payton',\n",
       " 'Wendell',\n",
       " 'Ezra',\n",
       " 'Trent',\n",
       " 'Eloise',\n",
       " 'Rudolph',\n",
       " 'Aria',\n",
       " 'Ivy',\n",
       " 'Graham',\n",
       " ...]"
      ]
     },
     "execution_count": 197,
     "metadata": {},
     "output_type": "execute_result"
    }
   ],
   "source": [
    "names = list(df.Name)\n",
    "names"
   ]
  },
  {
   "cell_type": "code",
   "execution_count": 198,
   "metadata": {},
   "outputs": [
    {
     "data": {
      "text/plain": [
       "True"
      ]
     },
     "execution_count": 198,
     "metadata": {},
     "output_type": "execute_result"
    }
   ],
   "source": [
    "'Charles' in names"
   ]
  },
  {
   "cell_type": "code",
   "execution_count": 199,
   "metadata": {},
   "outputs": [
    {
     "data": {
      "text/plain": [
       "9"
      ]
     },
     "execution_count": 199,
     "metadata": {},
     "output_type": "execute_result"
    }
   ],
   "source": [
    "names.index('Charles')"
   ]
  },
  {
   "cell_type": "code",
   "execution_count": 200,
   "metadata": {},
   "outputs": [
    {
     "data": {
      "text/plain": [
       "'Charles'"
      ]
     },
     "execution_count": 200,
     "metadata": {},
     "output_type": "execute_result"
    }
   ],
   "source": [
    "names[9]"
   ]
  },
  {
   "cell_type": "code",
   "execution_count": 201,
   "metadata": {},
   "outputs": [],
   "source": [
    "names.append('Ann')"
   ]
  },
  {
   "cell_type": "code",
   "execution_count": 202,
   "metadata": {},
   "outputs": [
    {
     "data": {
      "text/plain": [
       "134"
      ]
     },
     "execution_count": 202,
     "metadata": {},
     "output_type": "execute_result"
    }
   ],
   "source": [
    "names.index('Ann')"
   ]
  },
  {
   "cell_type": "code",
   "execution_count": 203,
   "metadata": {},
   "outputs": [],
   "source": [
    "names.insert(0,'Bob')"
   ]
  },
  {
   "cell_type": "code",
   "execution_count": 204,
   "metadata": {},
   "outputs": [
    {
     "data": {
      "text/plain": [
       "['Bob',\n",
       " 'James',\n",
       " 'John',\n",
       " 'Robert',\n",
       " 'Michael',\n",
       " 'William',\n",
       " 'Mary',\n",
       " 'David',\n",
       " 'Joseph',\n",
       " 'Richard',\n",
       " 'Charles',\n",
       " 'Thomas',\n",
       " 'Christopher',\n",
       " 'Daniel',\n",
       " 'Matthew',\n",
       " 'Elizabeth',\n",
       " 'Patricia',\n",
       " 'Jennifer',\n",
       " 'Anthony',\n",
       " 'George',\n",
       " 'Linda',\n",
       " 'Barbara',\n",
       " 'Donald',\n",
       " 'Paul',\n",
       " 'Mark',\n",
       " 'Andrew',\n",
       " 'Steven',\n",
       " 'Kenneth',\n",
       " 'Edward',\n",
       " 'Joshua',\n",
       " 'Margaret',\n",
       " 'Brian',\n",
       " 'Kevin',\n",
       " 'Jessica',\n",
       " 'Sarah',\n",
       " 'Susan',\n",
       " 'Timothy',\n",
       " 'Dorothy',\n",
       " 'Jason',\n",
       " 'Ronald',\n",
       " 'Helen',\n",
       " 'Ryan',\n",
       " 'Jeffrey',\n",
       " 'Karen',\n",
       " 'Nancy',\n",
       " 'Betty',\n",
       " 'Lisa',\n",
       " 'Jacob',\n",
       " 'Nicholas',\n",
       " 'Ashley',\n",
       " 'Eric',\n",
       " 'Frank',\n",
       " 'Gary',\n",
       " 'Anna',\n",
       " 'Stephen',\n",
       " 'Jonathan',\n",
       " 'Sandra',\n",
       " 'Emily',\n",
       " 'Amanda',\n",
       " 'Kimberly',\n",
       " 'Michelle',\n",
       " 'Donna',\n",
       " 'Justin',\n",
       " 'Laura',\n",
       " 'Ruth',\n",
       " 'Carol',\n",
       " 'Brandon',\n",
       " 'Larry',\n",
       " 'Scott',\n",
       " 'Melissa',\n",
       " 'Stephanie',\n",
       " 'Benjamin',\n",
       " 'Raymond',\n",
       " 'Samuel',\n",
       " 'Rebecca',\n",
       " 'Deborah',\n",
       " 'Gregory',\n",
       " 'Sharon',\n",
       " 'Kathleen',\n",
       " 'Amy',\n",
       " 'Cynthia',\n",
       " 'Alexander',\n",
       " 'Patrick',\n",
       " 'Jack',\n",
       " 'Henry',\n",
       " 'Angela',\n",
       " 'Shirley',\n",
       " 'Emma',\n",
       " 'Catherine',\n",
       " 'Katherine',\n",
       " 'Virginia',\n",
       " 'Nicole',\n",
       " 'Dennis',\n",
       " 'Walter',\n",
       " 'Tyler',\n",
       " 'Peter',\n",
       " 'Brenda',\n",
       " 'Aaron',\n",
       " 'Jerry',\n",
       " 'Christine',\n",
       " 'Samantha',\n",
       " 'Adam',\n",
       " 'Rachel',\n",
       " 'Pamela',\n",
       " 'Frances',\n",
       " 'Nathan',\n",
       " 'Douglas',\n",
       " 'Heather',\n",
       " 'Evelyn',\n",
       " 'Jose',\n",
       " 'Alice',\n",
       " 'Janet',\n",
       " 'Maria',\n",
       " 'Zachary',\n",
       " 'Carolyn',\n",
       " 'Debra',\n",
       " 'Harold',\n",
       " 'Martha',\n",
       " 'Marie',\n",
       " 'Arthur',\n",
       " 'Julie',\n",
       " 'Kyle',\n",
       " 'Diane',\n",
       " 'Christina',\n",
       " 'Victoria',\n",
       " 'Joyce',\n",
       " 'Carl',\n",
       " 'Lauren',\n",
       " 'Grace',\n",
       " 'Kelly',\n",
       " 'Albert',\n",
       " 'Rose',\n",
       " 'Megan',\n",
       " 'Joan',\n",
       " 'Jeremy',\n",
       " 'Ann',\n",
       " 'Julia',\n",
       " 'Kathryn',\n",
       " 'Lawrence',\n",
       " 'Olivia',\n",
       " 'Judith',\n",
       " 'Doris',\n",
       " 'Jean',\n",
       " 'Andrea',\n",
       " 'Gerald',\n",
       " 'Sean',\n",
       " 'Joe',\n",
       " 'Keith',\n",
       " 'Sara',\n",
       " 'Cheryl',\n",
       " 'Hannah',\n",
       " 'Mildred',\n",
       " 'Willie',\n",
       " 'Lillian',\n",
       " 'Roger',\n",
       " 'Jesse',\n",
       " 'Jacqueline',\n",
       " 'Ethan',\n",
       " 'Terry',\n",
       " 'Christian',\n",
       " 'Harry',\n",
       " 'Teresa',\n",
       " 'Austin',\n",
       " 'Gloria',\n",
       " 'Ralph',\n",
       " 'Janice',\n",
       " 'Roy',\n",
       " 'Theresa',\n",
       " 'Amber',\n",
       " 'Danielle',\n",
       " 'Noah',\n",
       " 'Bryan',\n",
       " 'Jordan',\n",
       " 'Louis',\n",
       " 'Brittany',\n",
       " 'Bruce',\n",
       " 'Madison',\n",
       " 'Judy',\n",
       " 'Billy',\n",
       " 'Dylan',\n",
       " 'Denise',\n",
       " 'Beverly',\n",
       " 'Eugene',\n",
       " 'Jane',\n",
       " 'Marilyn',\n",
       " 'Abigail',\n",
       " 'Diana',\n",
       " 'Charlotte',\n",
       " 'Natalie',\n",
       " 'Tiffany',\n",
       " 'Wayne',\n",
       " 'Russell',\n",
       " 'Alan',\n",
       " 'Crystal',\n",
       " 'Sophia',\n",
       " 'Irene',\n",
       " 'Juan',\n",
       " 'Ruby',\n",
       " 'Gabriel',\n",
       " 'Philip',\n",
       " 'Annie',\n",
       " 'Kayla',\n",
       " 'Vincent',\n",
       " 'Lori',\n",
       " 'Howard',\n",
       " 'Alexis',\n",
       " 'Erin',\n",
       " 'Fred',\n",
       " 'Logan',\n",
       " 'Isabella',\n",
       " 'Tammy',\n",
       " 'Louise',\n",
       " 'Florence',\n",
       " 'Randy',\n",
       " 'Bradley',\n",
       " 'Kathy',\n",
       " 'Lois',\n",
       " 'Anne',\n",
       " 'Bonnie',\n",
       " 'Victor',\n",
       " 'Taylor',\n",
       " 'Travis',\n",
       " 'Phyllis',\n",
       " 'Shawn',\n",
       " 'Phillip',\n",
       " 'Shannon',\n",
       " 'Martin',\n",
       " 'Johnny',\n",
       " 'Craig',\n",
       " 'Allison',\n",
       " 'Bobby',\n",
       " 'Alyssa',\n",
       " 'Ella',\n",
       " 'Josephine',\n",
       " 'Ernest',\n",
       " 'Stanley',\n",
       " 'Cody',\n",
       " 'Clarence',\n",
       " 'Tina',\n",
       " 'Elijah',\n",
       " 'Leonard',\n",
       " 'Carlos',\n",
       " 'Dawn',\n",
       " 'Robin',\n",
       " 'Edna',\n",
       " 'Cameron',\n",
       " 'Peggy',\n",
       " 'Caleb',\n",
       " 'Eleanor',\n",
       " 'Isaac',\n",
       " 'Todd',\n",
       " 'Jamie',\n",
       " 'Earl',\n",
       " 'Francis',\n",
       " 'Jimmy',\n",
       " 'Mason',\n",
       " 'Danny',\n",
       " 'Audrey',\n",
       " 'Rita',\n",
       " 'Luke',\n",
       " 'Dale',\n",
       " 'Alex',\n",
       " 'Paula',\n",
       " 'Clara',\n",
       " 'Wanda',\n",
       " 'Joel',\n",
       " 'Evan',\n",
       " 'Norma',\n",
       " 'Luis',\n",
       " 'Courtney',\n",
       " 'Ethel',\n",
       " 'Nathaniel',\n",
       " 'Wendy',\n",
       " 'Ellen',\n",
       " 'Leslie',\n",
       " 'Marjorie',\n",
       " 'Vanessa',\n",
       " 'Allen',\n",
       " 'Valerie',\n",
       " 'Carrie',\n",
       " 'Ava',\n",
       " 'Eva',\n",
       " 'Frederick',\n",
       " 'Curtis',\n",
       " 'Edith',\n",
       " 'Connie',\n",
       " 'Lucas',\n",
       " 'Gladys',\n",
       " 'Cindy',\n",
       " 'Tracy',\n",
       " 'Elaine',\n",
       " 'Hazel',\n",
       " 'Monica',\n",
       " 'Norman',\n",
       " 'Esther',\n",
       " 'Melanie',\n",
       " 'Brianna',\n",
       " 'Antonio',\n",
       " 'Jasmine',\n",
       " 'Chad',\n",
       " 'Katie',\n",
       " 'Tony',\n",
       " 'Rodney',\n",
       " 'Glenn',\n",
       " 'Marvin',\n",
       " 'April',\n",
       " 'Derek',\n",
       " 'Erica',\n",
       " 'Ian',\n",
       " 'Adrian',\n",
       " 'Theodore',\n",
       " 'Alexandra',\n",
       " 'Marcus',\n",
       " 'Alfred',\n",
       " 'Jackson',\n",
       " 'Edwin',\n",
       " 'Melvin',\n",
       " 'Sylvia',\n",
       " 'Sheila',\n",
       " 'Alicia',\n",
       " 'Steve',\n",
       " 'Leah',\n",
       " 'Hunter',\n",
       " 'Lee',\n",
       " 'Jeffery',\n",
       " 'Kristen',\n",
       " 'Caroline',\n",
       " 'Mia',\n",
       " 'Sherry',\n",
       " 'Angel',\n",
       " 'Jesus',\n",
       " 'Dustin',\n",
       " 'Herbert',\n",
       " 'Pauline',\n",
       " 'Michele',\n",
       " 'Veronica',\n",
       " 'Ricky',\n",
       " 'Liam',\n",
       " 'Wesley',\n",
       " 'Thelma',\n",
       " 'Suzanne',\n",
       " 'Lucille',\n",
       " 'Morgan',\n",
       " 'Joanne',\n",
       " 'Troy',\n",
       " 'Chloe',\n",
       " 'Anita',\n",
       " 'Connor',\n",
       " 'Isaiah',\n",
       " 'Julian',\n",
       " 'Jared',\n",
       " 'Holly',\n",
       " 'Lorraine',\n",
       " 'Jayden',\n",
       " 'Jill',\n",
       " 'Geraldine',\n",
       " 'Rhonda',\n",
       " 'Dolores',\n",
       " 'Eddie',\n",
       " 'Vivian',\n",
       " 'Darlene',\n",
       " 'Aiden',\n",
       " 'Calvin',\n",
       " 'Shane',\n",
       " 'Leo',\n",
       " 'Juanita',\n",
       " 'Sally',\n",
       " 'Lucy',\n",
       " 'Bertha',\n",
       " 'Gail',\n",
       " 'Oscar',\n",
       " 'Mike',\n",
       " 'Randall',\n",
       " 'Ray',\n",
       " 'Bernard',\n",
       " 'Jeremiah',\n",
       " 'Dana',\n",
       " 'Brooke',\n",
       " 'Leroy',\n",
       " 'Amelia',\n",
       " 'Corey',\n",
       " 'June',\n",
       " 'Owen',\n",
       " 'Claire',\n",
       " 'Jay',\n",
       " 'Kristin',\n",
       " 'Beatrice',\n",
       " 'Clifford',\n",
       " 'Marion',\n",
       " 'Renee',\n",
       " 'Tara',\n",
       " 'Madeline',\n",
       " 'Barry',\n",
       " 'Debbie',\n",
       " 'Eileen',\n",
       " 'Manuel',\n",
       " 'Ida',\n",
       " 'Lynn',\n",
       " 'Blake',\n",
       " 'Dean',\n",
       " 'Kim',\n",
       " 'Bernice',\n",
       " 'Ronnie',\n",
       " 'Warren',\n",
       " 'Gavin',\n",
       " 'Miguel',\n",
       " 'Cassandra',\n",
       " 'Regina',\n",
       " 'Elsie',\n",
       " 'Jo',\n",
       " 'Tommy',\n",
       " 'Trevor',\n",
       " 'Stella',\n",
       " 'Gertrude',\n",
       " 'Loretta',\n",
       " 'Rosa',\n",
       " 'Sydney',\n",
       " 'Oliver',\n",
       " 'Chelsea',\n",
       " 'Roberta',\n",
       " 'Savannah',\n",
       " 'Lindsey',\n",
       " 'Brett',\n",
       " 'Colleen',\n",
       " 'Gordon',\n",
       " 'Mitchell',\n",
       " 'Charlie',\n",
       " 'Dominic',\n",
       " 'Jessie',\n",
       " 'Annette',\n",
       " 'Molly',\n",
       " 'Cathy',\n",
       " 'Stacy',\n",
       " 'Laurie',\n",
       " 'Lydia',\n",
       " 'Jon',\n",
       " 'Chase',\n",
       " 'Leon',\n",
       " 'Bessie',\n",
       " 'Seth',\n",
       " 'Kaitlyn',\n",
       " 'Don',\n",
       " 'Naomi',\n",
       " 'Jeanette',\n",
       " 'Hailey',\n",
       " 'Jeanne',\n",
       " 'Darrell',\n",
       " 'Lloyd',\n",
       " 'Carter',\n",
       " 'Jerome',\n",
       " 'Erik',\n",
       " 'Alvin',\n",
       " 'Beth',\n",
       " 'Jenna',\n",
       " 'Yvonne',\n",
       " 'Rosemary',\n",
       " 'Landon',\n",
       " 'Bill',\n",
       " 'Haley',\n",
       " 'Alma',\n",
       " 'Wyatt',\n",
       " 'Micheal',\n",
       " 'Agnes',\n",
       " 'Gina',\n",
       " 'Minnie',\n",
       " 'Sebastian',\n",
       " 'Devin',\n",
       " 'Georgia',\n",
       " 'Stacey',\n",
       " 'Pearl',\n",
       " 'Vicki',\n",
       " 'Joann',\n",
       " 'Max',\n",
       " 'Kelsey',\n",
       " 'Lillie',\n",
       " 'Levi',\n",
       " 'Lily',\n",
       " 'Floyd',\n",
       " 'Carla',\n",
       " 'Edgar',\n",
       " 'Lewis',\n",
       " 'Jim',\n",
       " 'Nora',\n",
       " 'Maureen',\n",
       " 'Brent',\n",
       " 'Heidi',\n",
       " 'Derrick',\n",
       " 'Mario',\n",
       " 'Nellie',\n",
       " 'Lindsay',\n",
       " 'Kristina',\n",
       " 'Shelby',\n",
       " 'Terri',\n",
       " 'Destiny',\n",
       " 'Vernon',\n",
       " 'Paige',\n",
       " 'Chris',\n",
       " 'Marc',\n",
       " 'Violet',\n",
       " 'Willie',\n",
       " 'Arlene',\n",
       " 'Sue',\n",
       " 'Cole',\n",
       " 'Daisy',\n",
       " 'Sabrina',\n",
       " 'Ricardo',\n",
       " 'Carmen',\n",
       " 'Clyde',\n",
       " 'Marian',\n",
       " 'Vera',\n",
       " 'Constance',\n",
       " 'Deanna',\n",
       " 'Wilma',\n",
       " 'Colin',\n",
       " 'Melinda',\n",
       " 'Tom',\n",
       " 'Lena',\n",
       " 'Tamara',\n",
       " 'Joy',\n",
       " 'Faith',\n",
       " 'Clayton',\n",
       " 'Maurice',\n",
       " 'Gabrielle',\n",
       " 'Cory',\n",
       " 'Franklin',\n",
       " 'Ivan',\n",
       " 'Xavier',\n",
       " 'Charlene',\n",
       " 'Katelyn',\n",
       " 'Francisco',\n",
       " 'Sofia',\n",
       " 'Garrett',\n",
       " 'Myrtle',\n",
       " 'Cora',\n",
       " 'Jordan',\n",
       " 'Alejandro',\n",
       " 'Herman',\n",
       " 'Mabel',\n",
       " 'Jorge',\n",
       " 'Marcia',\n",
       " 'Grant',\n",
       " 'Marlene',\n",
       " 'Erika',\n",
       " 'Zoe',\n",
       " 'Mackenzie',\n",
       " 'Glen',\n",
       " 'Viola',\n",
       " 'Gilbert',\n",
       " 'Jake',\n",
       " 'Mattie',\n",
       " 'Nina',\n",
       " 'Claudia',\n",
       " 'Lester',\n",
       " 'Kaylee',\n",
       " 'Avery',\n",
       " 'Elmer',\n",
       " 'Tanya',\n",
       " 'Andre',\n",
       " 'Alexa',\n",
       " 'Jennie',\n",
       " 'Autumn',\n",
       " 'Sadie',\n",
       " 'Gene',\n",
       " 'Sam',\n",
       " 'Marissa',\n",
       " 'Colton',\n",
       " 'Spencer',\n",
       " 'Eli',\n",
       " 'Alison',\n",
       " 'Caitlin',\n",
       " 'Harvey',\n",
       " 'Tonya',\n",
       " 'Priscilla',\n",
       " 'Addison',\n",
       " 'Isabel',\n",
       " 'Angelina',\n",
       " 'Brayden',\n",
       " 'Sophie',\n",
       " 'Chester',\n",
       " 'Jeff',\n",
       " 'Gwendolyn',\n",
       " 'Casey',\n",
       " 'Bryce',\n",
       " 'Patsy',\n",
       " 'Tristan',\n",
       " 'Gabriella',\n",
       " 'Taylor',\n",
       " 'Leslie',\n",
       " 'Maggie',\n",
       " 'Miranda',\n",
       " 'Darren',\n",
       " 'Delores',\n",
       " 'Milton',\n",
       " 'Duane',\n",
       " 'Preston',\n",
       " 'Kylie',\n",
       " 'Reginald',\n",
       " 'Genevieve',\n",
       " 'Ruben',\n",
       " 'Aidan',\n",
       " 'Brandy',\n",
       " 'Yolanda',\n",
       " 'Maxine',\n",
       " 'Aubrey',\n",
       " 'Jessie',\n",
       " 'Roberto',\n",
       " 'Carole',\n",
       " 'Jimmie',\n",
       " 'Joanna',\n",
       " 'Neil',\n",
       " 'Miriam',\n",
       " 'Natasha',\n",
       " 'Carson',\n",
       " 'Katrina',\n",
       " 'Leona',\n",
       " 'Glenda',\n",
       " 'Lance',\n",
       " 'Mae',\n",
       " 'Mariah',\n",
       " 'Vickie',\n",
       " 'Brandi',\n",
       " 'Whitney',\n",
       " 'Jocelyn',\n",
       " 'Josiah',\n",
       " 'Everett',\n",
       " 'Riley',\n",
       " 'Diego',\n",
       " 'Parker',\n",
       " 'Cecil',\n",
       " 'Kara',\n",
       " 'Dan',\n",
       " 'Meghan',\n",
       " 'Dora',\n",
       " 'Brooklyn',\n",
       " 'Margie',\n",
       " 'Allan',\n",
       " 'Bethany',\n",
       " 'Eduardo',\n",
       " 'Ana',\n",
       " 'Hector',\n",
       " 'Arnold',\n",
       " 'Marsha',\n",
       " 'Karl',\n",
       " 'Nolan',\n",
       " 'Makayla',\n",
       " 'Hayden',\n",
       " 'Toni',\n",
       " 'Riley',\n",
       " 'Christy',\n",
       " 'Clinton',\n",
       " 'Billie',\n",
       " 'Johnnie',\n",
       " 'Dianne',\n",
       " 'Ariana',\n",
       " 'Kendra',\n",
       " 'Alexandria',\n",
       " 'Sierra',\n",
       " 'Bailey',\n",
       " 'Javier',\n",
       " 'Penny',\n",
       " 'Maya',\n",
       " 'Melody',\n",
       " 'Angel',\n",
       " 'Roland',\n",
       " 'Omar',\n",
       " 'Hattie',\n",
       " 'Johnathan',\n",
       " 'Kay',\n",
       " 'Cecilia',\n",
       " 'Fernando',\n",
       " 'Terry',\n",
       " 'Darryl',\n",
       " 'Brendan',\n",
       " 'Felicia',\n",
       " 'Maxwell',\n",
       " 'Jenny',\n",
       " 'Micah',\n",
       " 'Isabelle',\n",
       " 'Ada',\n",
       " 'Briana',\n",
       " 'Tanner',\n",
       " 'Marguerite',\n",
       " 'Jamie',\n",
       " 'Lonnie',\n",
       " 'Angelica',\n",
       " 'Marshall',\n",
       " 'Bridget',\n",
       " 'Tracey',\n",
       " 'Bob',\n",
       " 'Abraham',\n",
       " 'Arianna',\n",
       " 'Madelyn',\n",
       " 'Adriana',\n",
       " 'Andy',\n",
       " 'Brady',\n",
       " 'Guy',\n",
       " 'Nicolas',\n",
       " 'Jackie',\n",
       " 'Candace',\n",
       " 'Hope',\n",
       " 'Karla',\n",
       " 'Claude',\n",
       " 'Pedro',\n",
       " 'Jillian',\n",
       " 'Brittney',\n",
       " 'Rachael',\n",
       " 'Damian',\n",
       " 'Lola',\n",
       " 'Ross',\n",
       " 'Kate',\n",
       " 'Layla',\n",
       " 'Jade',\n",
       " 'Harriet',\n",
       " 'Bobbie',\n",
       " 'Misty',\n",
       " 'Cooper',\n",
       " 'Kurt',\n",
       " 'Kristine',\n",
       " 'Aaliyah',\n",
       " 'Geneva',\n",
       " 'Desiree',\n",
       " 'Dakota',\n",
       " 'Shelly',\n",
       " 'Becky',\n",
       " 'Jacquelyn',\n",
       " 'Kelly',\n",
       " 'Blanche',\n",
       " 'Velma',\n",
       " 'Krystal',\n",
       " 'Raul',\n",
       " 'Brad',\n",
       " 'Ben',\n",
       " 'Sherri',\n",
       " 'Andres',\n",
       " 'Susie',\n",
       " 'Fannie',\n",
       " 'Sidney',\n",
       " 'Zoey',\n",
       " 'Miles',\n",
       " 'Breanna',\n",
       " 'Monique',\n",
       " 'Hugh',\n",
       " 'Lula',\n",
       " 'Iris',\n",
       " 'Mathew',\n",
       " 'Byron',\n",
       " 'Jodi',\n",
       " 'Casey',\n",
       " 'Tim',\n",
       " 'Elias',\n",
       " 'Rick',\n",
       " 'Wallace',\n",
       " 'Harper',\n",
       " 'Summer',\n",
       " 'Grayson',\n",
       " 'Dalton',\n",
       " 'Lynda',\n",
       " 'Harrison',\n",
       " 'Krista',\n",
       " 'Hilda',\n",
       " 'Tyrone',\n",
       " 'Jaxon',\n",
       " 'Rafael',\n",
       " 'Gabriela',\n",
       " 'Nevaeh',\n",
       " 'Sheryl',\n",
       " 'Drew',\n",
       " 'Kristi',\n",
       " 'Rosie',\n",
       " 'Elena',\n",
       " 'Angelo',\n",
       " 'Eunice',\n",
       " 'Shelley',\n",
       " 'Nelson',\n",
       " 'Antoinette',\n",
       " 'Dwayne',\n",
       " 'Dwight',\n",
       " 'Kelli',\n",
       " 'Julius',\n",
       " 'Jackie',\n",
       " 'Trinity',\n",
       " 'Shaun',\n",
       " 'Meredith',\n",
       " 'Kaleb',\n",
       " 'Sergio',\n",
       " 'Collin',\n",
       " 'Rebekah',\n",
       " 'Greg',\n",
       " 'Emmanuel',\n",
       " 'Mamie',\n",
       " 'Willard',\n",
       " 'Ramon',\n",
       " 'Perry',\n",
       " 'Bianca',\n",
       " 'Kristy',\n",
       " 'Candice',\n",
       " 'Jaden',\n",
       " 'Belinda',\n",
       " 'Gracie',\n",
       " 'Devon',\n",
       " 'Ted',\n",
       " 'Terrence',\n",
       " 'Janie',\n",
       " 'Stuart',\n",
       " 'Armando',\n",
       " 'Rosalie',\n",
       " 'Marco',\n",
       " 'Cesar',\n",
       " 'Ayden',\n",
       " 'Ashton',\n",
       " 'Irma',\n",
       " 'Peyton',\n",
       " 'Wade',\n",
       " 'Terrance',\n",
       " 'Erick',\n",
       " 'Freddie',\n",
       " 'Beulah',\n",
       " 'Felix',\n",
       " 'Kennedy',\n",
       " 'Marion',\n",
       " 'Ariel',\n",
       " 'Brody',\n",
       " 'Virgil',\n",
       " 'Adrienne',\n",
       " 'Roman',\n",
       " 'Morris',\n",
       " 'Robyn',\n",
       " 'Clifton',\n",
       " 'Kent',\n",
       " 'Jonathon',\n",
       " 'Jaime',\n",
       " 'Kirk',\n",
       " 'Sandy',\n",
       " 'Jeannette',\n",
       " 'Alberta',\n",
       " 'Elise',\n",
       " 'Verna',\n",
       " 'Giovanni',\n",
       " 'Camila',\n",
       " 'Simon',\n",
       " 'Carly',\n",
       " 'Faye',\n",
       " 'Sonia',\n",
       " 'Camille',\n",
       " 'Opal',\n",
       " 'Nichole',\n",
       " 'Ramona',\n",
       " 'Cheyenne',\n",
       " 'Scarlett',\n",
       " 'Flora',\n",
       " 'Sonya',\n",
       " 'Jace',\n",
       " 'Della',\n",
       " 'Leonardo',\n",
       " 'Penelope',\n",
       " 'Lorenzo',\n",
       " 'Genesis',\n",
       " 'Jonah',\n",
       " 'Daryl',\n",
       " 'Lila',\n",
       " 'Kristopher',\n",
       " 'Natalia',\n",
       " 'Malcolm',\n",
       " 'Gianna',\n",
       " 'Inez',\n",
       " 'Skylar',\n",
       " 'Valeria',\n",
       " 'Marianne',\n",
       " 'Damon',\n",
       " 'Lincoln',\n",
       " 'Luther',\n",
       " 'Ellie',\n",
       " 'Guadalupe',\n",
       " 'Fredrick',\n",
       " 'Jada',\n",
       " 'Yvette',\n",
       " 'Dillon',\n",
       " 'Dallas',\n",
       " 'Alexis',\n",
       " 'Marcella',\n",
       " 'Geoffrey',\n",
       " 'Dave',\n",
       " 'Hudson',\n",
       " 'Dominick',\n",
       " 'Bryson',\n",
       " 'Angie',\n",
       " 'Lynne',\n",
       " 'Lee',\n",
       " 'Kari',\n",
       " 'Bella',\n",
       " 'Cristian',\n",
       " 'Maryann',\n",
       " 'Gayle',\n",
       " 'Tabitha',\n",
       " 'Sheri',\n",
       " 'Patty',\n",
       " 'Olga',\n",
       " 'Rickey',\n",
       " 'Israel',\n",
       " 'Alisha',\n",
       " 'Alberto',\n",
       " 'Santiago',\n",
       " 'Tracy',\n",
       " 'Julio',\n",
       " 'Kaden',\n",
       " 'Abby',\n",
       " 'Alana',\n",
       " 'Daniela',\n",
       " 'Kaitlin',\n",
       " 'Myra',\n",
       " 'Roxanne',\n",
       " 'Caden',\n",
       " 'Damien',\n",
       " 'Annabelle',\n",
       " 'Karina',\n",
       " 'Donnie',\n",
       " 'Kendall',\n",
       " 'Homer',\n",
       " 'Lyle',\n",
       " 'Mallory',\n",
       " 'Callie',\n",
       " 'Juliana',\n",
       " 'Josie',\n",
       " 'Celeste',\n",
       " 'Mckenzie',\n",
       " 'Adeline',\n",
       " 'Cassidy',\n",
       " 'Gerard',\n",
       " 'Aurora',\n",
       " 'Rex',\n",
       " 'Enrique',\n",
       " 'Otis',\n",
       " 'Lilly',\n",
       " 'Gage',\n",
       " 'Jody',\n",
       " 'Earnest',\n",
       " 'Donovan',\n",
       " 'Janelle',\n",
       " 'Serenity',\n",
       " 'Trenton',\n",
       " 'Aimee',\n",
       " 'Kirsten',\n",
       " 'Asher',\n",
       " 'Hubert',\n",
       " 'Dianna',\n",
       " 'Avery',\n",
       " 'Cecelia',\n",
       " 'Dominique',\n",
       " 'Mya',\n",
       " 'Emmett',\n",
       " 'Olive',\n",
       " 'Wilbur',\n",
       " 'Lacey',\n",
       " 'Liliana',\n",
       " 'Mateo',\n",
       " 'Salvatore',\n",
       " 'Cara',\n",
       " 'Muriel',\n",
       " 'Alfredo',\n",
       " 'Neal',\n",
       " 'Mikayla',\n",
       " 'Eliza',\n",
       " 'Hayley',\n",
       " 'Nadine',\n",
       " 'Bernadette',\n",
       " 'Celia',\n",
       " 'Arturo',\n",
       " 'Cristina',\n",
       " 'Jan',\n",
       " 'Jordyn',\n",
       " 'Lana',\n",
       " 'Erma',\n",
       " 'Dana',\n",
       " 'Jaclyn',\n",
       " 'Vicky',\n",
       " 'Caitlyn',\n",
       " 'Alec',\n",
       " 'Gretchen',\n",
       " 'Leland',\n",
       " 'Johanna',\n",
       " 'Horace',\n",
       " 'Shannon',\n",
       " 'Jaime',\n",
       " 'Colby',\n",
       " 'Joey',\n",
       " 'Abel',\n",
       " 'Traci',\n",
       " 'Kellie',\n",
       " 'Estelle',\n",
       " 'Kerry',\n",
       " 'Ira',\n",
       " 'Conner',\n",
       " 'Payton',\n",
       " 'Wendell',\n",
       " 'Ezra',\n",
       " 'Trent',\n",
       " 'Eloise',\n",
       " 'Rudolph',\n",
       " 'Aria',\n",
       " 'Ivy',\n",
       " ...]"
      ]
     },
     "execution_count": 204,
     "metadata": {},
     "output_type": "execute_result"
    }
   ],
   "source": [
    "names"
   ]
  },
  {
   "cell_type": "code",
   "execution_count": 205,
   "metadata": {},
   "outputs": [],
   "source": [
    "names.remove('Ann')"
   ]
  },
  {
   "cell_type": "code",
   "execution_count": 206,
   "metadata": {},
   "outputs": [
    {
     "data": {
      "text/plain": [
       "9378"
      ]
     },
     "execution_count": 206,
     "metadata": {},
     "output_type": "execute_result"
    }
   ],
   "source": [
    "names.index('Ann')"
   ]
  },
  {
   "cell_type": "code",
   "execution_count": 207,
   "metadata": {},
   "outputs": [
    {
     "data": {
      "text/plain": [
       "['Bob',\n",
       " 'James',\n",
       " 'John',\n",
       " 'Robert',\n",
       " 'Michael',\n",
       " 'William',\n",
       " 'Mary',\n",
       " 'David',\n",
       " 'Joseph',\n",
       " 'Richard',\n",
       " 'Charles',\n",
       " 'Thomas',\n",
       " 'Christopher',\n",
       " 'Daniel',\n",
       " 'Matthew',\n",
       " 'Elizabeth',\n",
       " 'Patricia',\n",
       " 'Jennifer',\n",
       " 'Anthony',\n",
       " 'George',\n",
       " 'Linda',\n",
       " 'Barbara',\n",
       " 'Donald',\n",
       " 'Paul',\n",
       " 'Mark',\n",
       " 'Andrew',\n",
       " 'Steven',\n",
       " 'Kenneth',\n",
       " 'Edward',\n",
       " 'Joshua',\n",
       " 'Margaret',\n",
       " 'Brian',\n",
       " 'Kevin',\n",
       " 'Jessica',\n",
       " 'Sarah',\n",
       " 'Susan',\n",
       " 'Timothy',\n",
       " 'Dorothy',\n",
       " 'Jason',\n",
       " 'Ronald',\n",
       " 'Helen',\n",
       " 'Ryan',\n",
       " 'Jeffrey',\n",
       " 'Karen',\n",
       " 'Nancy',\n",
       " 'Betty',\n",
       " 'Lisa',\n",
       " 'Jacob',\n",
       " 'Nicholas',\n",
       " 'Ashley',\n",
       " 'Eric',\n",
       " 'Frank',\n",
       " 'Gary',\n",
       " 'Anna',\n",
       " 'Stephen',\n",
       " 'Jonathan',\n",
       " 'Sandra',\n",
       " 'Emily',\n",
       " 'Amanda',\n",
       " 'Kimberly',\n",
       " 'Michelle',\n",
       " 'Donna',\n",
       " 'Justin',\n",
       " 'Laura',\n",
       " 'Ruth',\n",
       " 'Carol',\n",
       " 'Brandon',\n",
       " 'Larry',\n",
       " 'Scott',\n",
       " 'Melissa',\n",
       " 'Stephanie',\n",
       " 'Benjamin',\n",
       " 'Raymond',\n",
       " 'Samuel',\n",
       " 'Rebecca',\n",
       " 'Deborah',\n",
       " 'Gregory',\n",
       " 'Sharon',\n",
       " 'Kathleen',\n",
       " 'Amy',\n",
       " 'Cynthia',\n",
       " 'Alexander',\n",
       " 'Patrick',\n",
       " 'Jack',\n",
       " 'Henry',\n",
       " 'Angela',\n",
       " 'Shirley',\n",
       " 'Emma',\n",
       " 'Catherine',\n",
       " 'Katherine',\n",
       " 'Virginia',\n",
       " 'Nicole',\n",
       " 'Dennis',\n",
       " 'Walter',\n",
       " 'Tyler',\n",
       " 'Peter',\n",
       " 'Brenda',\n",
       " 'Aaron',\n",
       " 'Jerry',\n",
       " 'Christine',\n",
       " 'Samantha',\n",
       " 'Adam',\n",
       " 'Rachel',\n",
       " 'Pamela',\n",
       " 'Frances',\n",
       " 'Nathan',\n",
       " 'Douglas',\n",
       " 'Heather',\n",
       " 'Evelyn',\n",
       " 'Jose',\n",
       " 'Alice',\n",
       " 'Janet',\n",
       " 'Maria',\n",
       " 'Zachary',\n",
       " 'Carolyn',\n",
       " 'Debra',\n",
       " 'Harold',\n",
       " 'Martha',\n",
       " 'Marie',\n",
       " 'Arthur',\n",
       " 'Julie',\n",
       " 'Kyle',\n",
       " 'Diane',\n",
       " 'Christina',\n",
       " 'Victoria',\n",
       " 'Joyce',\n",
       " 'Carl',\n",
       " 'Lauren',\n",
       " 'Grace',\n",
       " 'Kelly',\n",
       " 'Albert',\n",
       " 'Rose',\n",
       " 'Megan',\n",
       " 'Joan',\n",
       " 'Jeremy',\n",
       " 'Julia',\n",
       " 'Kathryn',\n",
       " 'Lawrence',\n",
       " 'Olivia',\n",
       " 'Judith',\n",
       " 'Doris',\n",
       " 'Jean',\n",
       " 'Andrea',\n",
       " 'Gerald',\n",
       " 'Sean',\n",
       " 'Joe',\n",
       " 'Keith',\n",
       " 'Sara',\n",
       " 'Cheryl',\n",
       " 'Hannah',\n",
       " 'Mildred',\n",
       " 'Willie',\n",
       " 'Lillian',\n",
       " 'Roger',\n",
       " 'Jesse',\n",
       " 'Jacqueline',\n",
       " 'Ethan',\n",
       " 'Terry',\n",
       " 'Christian',\n",
       " 'Harry',\n",
       " 'Teresa',\n",
       " 'Austin',\n",
       " 'Gloria',\n",
       " 'Ralph',\n",
       " 'Janice',\n",
       " 'Roy',\n",
       " 'Theresa',\n",
       " 'Amber',\n",
       " 'Danielle',\n",
       " 'Noah',\n",
       " 'Bryan',\n",
       " 'Jordan',\n",
       " 'Louis',\n",
       " 'Brittany',\n",
       " 'Bruce',\n",
       " 'Madison',\n",
       " 'Judy',\n",
       " 'Billy',\n",
       " 'Dylan',\n",
       " 'Denise',\n",
       " 'Beverly',\n",
       " 'Eugene',\n",
       " 'Jane',\n",
       " 'Marilyn',\n",
       " 'Abigail',\n",
       " 'Diana',\n",
       " 'Charlotte',\n",
       " 'Natalie',\n",
       " 'Tiffany',\n",
       " 'Wayne',\n",
       " 'Russell',\n",
       " 'Alan',\n",
       " 'Crystal',\n",
       " 'Sophia',\n",
       " 'Irene',\n",
       " 'Juan',\n",
       " 'Ruby',\n",
       " 'Gabriel',\n",
       " 'Philip',\n",
       " 'Annie',\n",
       " 'Kayla',\n",
       " 'Vincent',\n",
       " 'Lori',\n",
       " 'Howard',\n",
       " 'Alexis',\n",
       " 'Erin',\n",
       " 'Fred',\n",
       " 'Logan',\n",
       " 'Isabella',\n",
       " 'Tammy',\n",
       " 'Louise',\n",
       " 'Florence',\n",
       " 'Randy',\n",
       " 'Bradley',\n",
       " 'Kathy',\n",
       " 'Lois',\n",
       " 'Anne',\n",
       " 'Bonnie',\n",
       " 'Victor',\n",
       " 'Taylor',\n",
       " 'Travis',\n",
       " 'Phyllis',\n",
       " 'Shawn',\n",
       " 'Phillip',\n",
       " 'Shannon',\n",
       " 'Martin',\n",
       " 'Johnny',\n",
       " 'Craig',\n",
       " 'Allison',\n",
       " 'Bobby',\n",
       " 'Alyssa',\n",
       " 'Ella',\n",
       " 'Josephine',\n",
       " 'Ernest',\n",
       " 'Stanley',\n",
       " 'Cody',\n",
       " 'Clarence',\n",
       " 'Tina',\n",
       " 'Elijah',\n",
       " 'Leonard',\n",
       " 'Carlos',\n",
       " 'Dawn',\n",
       " 'Robin',\n",
       " 'Edna',\n",
       " 'Cameron',\n",
       " 'Peggy',\n",
       " 'Caleb',\n",
       " 'Eleanor',\n",
       " 'Isaac',\n",
       " 'Todd',\n",
       " 'Jamie',\n",
       " 'Earl',\n",
       " 'Francis',\n",
       " 'Jimmy',\n",
       " 'Mason',\n",
       " 'Danny',\n",
       " 'Audrey',\n",
       " 'Rita',\n",
       " 'Luke',\n",
       " 'Dale',\n",
       " 'Alex',\n",
       " 'Paula',\n",
       " 'Clara',\n",
       " 'Wanda',\n",
       " 'Joel',\n",
       " 'Evan',\n",
       " 'Norma',\n",
       " 'Luis',\n",
       " 'Courtney',\n",
       " 'Ethel',\n",
       " 'Nathaniel',\n",
       " 'Wendy',\n",
       " 'Ellen',\n",
       " 'Leslie',\n",
       " 'Marjorie',\n",
       " 'Vanessa',\n",
       " 'Allen',\n",
       " 'Valerie',\n",
       " 'Carrie',\n",
       " 'Ava',\n",
       " 'Eva',\n",
       " 'Frederick',\n",
       " 'Curtis',\n",
       " 'Edith',\n",
       " 'Connie',\n",
       " 'Lucas',\n",
       " 'Gladys',\n",
       " 'Cindy',\n",
       " 'Tracy',\n",
       " 'Elaine',\n",
       " 'Hazel',\n",
       " 'Monica',\n",
       " 'Norman',\n",
       " 'Esther',\n",
       " 'Melanie',\n",
       " 'Brianna',\n",
       " 'Antonio',\n",
       " 'Jasmine',\n",
       " 'Chad',\n",
       " 'Katie',\n",
       " 'Tony',\n",
       " 'Rodney',\n",
       " 'Glenn',\n",
       " 'Marvin',\n",
       " 'April',\n",
       " 'Derek',\n",
       " 'Erica',\n",
       " 'Ian',\n",
       " 'Adrian',\n",
       " 'Theodore',\n",
       " 'Alexandra',\n",
       " 'Marcus',\n",
       " 'Alfred',\n",
       " 'Jackson',\n",
       " 'Edwin',\n",
       " 'Melvin',\n",
       " 'Sylvia',\n",
       " 'Sheila',\n",
       " 'Alicia',\n",
       " 'Steve',\n",
       " 'Leah',\n",
       " 'Hunter',\n",
       " 'Lee',\n",
       " 'Jeffery',\n",
       " 'Kristen',\n",
       " 'Caroline',\n",
       " 'Mia',\n",
       " 'Sherry',\n",
       " 'Angel',\n",
       " 'Jesus',\n",
       " 'Dustin',\n",
       " 'Herbert',\n",
       " 'Pauline',\n",
       " 'Michele',\n",
       " 'Veronica',\n",
       " 'Ricky',\n",
       " 'Liam',\n",
       " 'Wesley',\n",
       " 'Thelma',\n",
       " 'Suzanne',\n",
       " 'Lucille',\n",
       " 'Morgan',\n",
       " 'Joanne',\n",
       " 'Troy',\n",
       " 'Chloe',\n",
       " 'Anita',\n",
       " 'Connor',\n",
       " 'Isaiah',\n",
       " 'Julian',\n",
       " 'Jared',\n",
       " 'Holly',\n",
       " 'Lorraine',\n",
       " 'Jayden',\n",
       " 'Jill',\n",
       " 'Geraldine',\n",
       " 'Rhonda',\n",
       " 'Dolores',\n",
       " 'Eddie',\n",
       " 'Vivian',\n",
       " 'Darlene',\n",
       " 'Aiden',\n",
       " 'Calvin',\n",
       " 'Shane',\n",
       " 'Leo',\n",
       " 'Juanita',\n",
       " 'Sally',\n",
       " 'Lucy',\n",
       " 'Bertha',\n",
       " 'Gail',\n",
       " 'Oscar',\n",
       " 'Mike',\n",
       " 'Randall',\n",
       " 'Ray',\n",
       " 'Bernard',\n",
       " 'Jeremiah',\n",
       " 'Dana',\n",
       " 'Brooke',\n",
       " 'Leroy',\n",
       " 'Amelia',\n",
       " 'Corey',\n",
       " 'June',\n",
       " 'Owen',\n",
       " 'Claire',\n",
       " 'Jay',\n",
       " 'Kristin',\n",
       " 'Beatrice',\n",
       " 'Clifford',\n",
       " 'Marion',\n",
       " 'Renee',\n",
       " 'Tara',\n",
       " 'Madeline',\n",
       " 'Barry',\n",
       " 'Debbie',\n",
       " 'Eileen',\n",
       " 'Manuel',\n",
       " 'Ida',\n",
       " 'Lynn',\n",
       " 'Blake',\n",
       " 'Dean',\n",
       " 'Kim',\n",
       " 'Bernice',\n",
       " 'Ronnie',\n",
       " 'Warren',\n",
       " 'Gavin',\n",
       " 'Miguel',\n",
       " 'Cassandra',\n",
       " 'Regina',\n",
       " 'Elsie',\n",
       " 'Jo',\n",
       " 'Tommy',\n",
       " 'Trevor',\n",
       " 'Stella',\n",
       " 'Gertrude',\n",
       " 'Loretta',\n",
       " 'Rosa',\n",
       " 'Sydney',\n",
       " 'Oliver',\n",
       " 'Chelsea',\n",
       " 'Roberta',\n",
       " 'Savannah',\n",
       " 'Lindsey',\n",
       " 'Brett',\n",
       " 'Colleen',\n",
       " 'Gordon',\n",
       " 'Mitchell',\n",
       " 'Charlie',\n",
       " 'Dominic',\n",
       " 'Jessie',\n",
       " 'Annette',\n",
       " 'Molly',\n",
       " 'Cathy',\n",
       " 'Stacy',\n",
       " 'Laurie',\n",
       " 'Lydia',\n",
       " 'Jon',\n",
       " 'Chase',\n",
       " 'Leon',\n",
       " 'Bessie',\n",
       " 'Seth',\n",
       " 'Kaitlyn',\n",
       " 'Don',\n",
       " 'Naomi',\n",
       " 'Jeanette',\n",
       " 'Hailey',\n",
       " 'Jeanne',\n",
       " 'Darrell',\n",
       " 'Lloyd',\n",
       " 'Carter',\n",
       " 'Jerome',\n",
       " 'Erik',\n",
       " 'Alvin',\n",
       " 'Beth',\n",
       " 'Jenna',\n",
       " 'Yvonne',\n",
       " 'Rosemary',\n",
       " 'Landon',\n",
       " 'Bill',\n",
       " 'Haley',\n",
       " 'Alma',\n",
       " 'Wyatt',\n",
       " 'Micheal',\n",
       " 'Agnes',\n",
       " 'Gina',\n",
       " 'Minnie',\n",
       " 'Sebastian',\n",
       " 'Devin',\n",
       " 'Georgia',\n",
       " 'Stacey',\n",
       " 'Pearl',\n",
       " 'Vicki',\n",
       " 'Joann',\n",
       " 'Max',\n",
       " 'Kelsey',\n",
       " 'Lillie',\n",
       " 'Levi',\n",
       " 'Lily',\n",
       " 'Floyd',\n",
       " 'Carla',\n",
       " 'Edgar',\n",
       " 'Lewis',\n",
       " 'Jim',\n",
       " 'Nora',\n",
       " 'Maureen',\n",
       " 'Brent',\n",
       " 'Heidi',\n",
       " 'Derrick',\n",
       " 'Mario',\n",
       " 'Nellie',\n",
       " 'Lindsay',\n",
       " 'Kristina',\n",
       " 'Shelby',\n",
       " 'Terri',\n",
       " 'Destiny',\n",
       " 'Vernon',\n",
       " 'Paige',\n",
       " 'Chris',\n",
       " 'Marc',\n",
       " 'Violet',\n",
       " 'Willie',\n",
       " 'Arlene',\n",
       " 'Sue',\n",
       " 'Cole',\n",
       " 'Daisy',\n",
       " 'Sabrina',\n",
       " 'Ricardo',\n",
       " 'Carmen',\n",
       " 'Clyde',\n",
       " 'Marian',\n",
       " 'Vera',\n",
       " 'Constance',\n",
       " 'Deanna',\n",
       " 'Wilma',\n",
       " 'Colin',\n",
       " 'Melinda',\n",
       " 'Tom',\n",
       " 'Lena',\n",
       " 'Tamara',\n",
       " 'Joy',\n",
       " 'Faith',\n",
       " 'Clayton',\n",
       " 'Maurice',\n",
       " 'Gabrielle',\n",
       " 'Cory',\n",
       " 'Franklin',\n",
       " 'Ivan',\n",
       " 'Xavier',\n",
       " 'Charlene',\n",
       " 'Katelyn',\n",
       " 'Francisco',\n",
       " 'Sofia',\n",
       " 'Garrett',\n",
       " 'Myrtle',\n",
       " 'Cora',\n",
       " 'Jordan',\n",
       " 'Alejandro',\n",
       " 'Herman',\n",
       " 'Mabel',\n",
       " 'Jorge',\n",
       " 'Marcia',\n",
       " 'Grant',\n",
       " 'Marlene',\n",
       " 'Erika',\n",
       " 'Zoe',\n",
       " 'Mackenzie',\n",
       " 'Glen',\n",
       " 'Viola',\n",
       " 'Gilbert',\n",
       " 'Jake',\n",
       " 'Mattie',\n",
       " 'Nina',\n",
       " 'Claudia',\n",
       " 'Lester',\n",
       " 'Kaylee',\n",
       " 'Avery',\n",
       " 'Elmer',\n",
       " 'Tanya',\n",
       " 'Andre',\n",
       " 'Alexa',\n",
       " 'Jennie',\n",
       " 'Autumn',\n",
       " 'Sadie',\n",
       " 'Gene',\n",
       " 'Sam',\n",
       " 'Marissa',\n",
       " 'Colton',\n",
       " 'Spencer',\n",
       " 'Eli',\n",
       " 'Alison',\n",
       " 'Caitlin',\n",
       " 'Harvey',\n",
       " 'Tonya',\n",
       " 'Priscilla',\n",
       " 'Addison',\n",
       " 'Isabel',\n",
       " 'Angelina',\n",
       " 'Brayden',\n",
       " 'Sophie',\n",
       " 'Chester',\n",
       " 'Jeff',\n",
       " 'Gwendolyn',\n",
       " 'Casey',\n",
       " 'Bryce',\n",
       " 'Patsy',\n",
       " 'Tristan',\n",
       " 'Gabriella',\n",
       " 'Taylor',\n",
       " 'Leslie',\n",
       " 'Maggie',\n",
       " 'Miranda',\n",
       " 'Darren',\n",
       " 'Delores',\n",
       " 'Milton',\n",
       " 'Duane',\n",
       " 'Preston',\n",
       " 'Kylie',\n",
       " 'Reginald',\n",
       " 'Genevieve',\n",
       " 'Ruben',\n",
       " 'Aidan',\n",
       " 'Brandy',\n",
       " 'Yolanda',\n",
       " 'Maxine',\n",
       " 'Aubrey',\n",
       " 'Jessie',\n",
       " 'Roberto',\n",
       " 'Carole',\n",
       " 'Jimmie',\n",
       " 'Joanna',\n",
       " 'Neil',\n",
       " 'Miriam',\n",
       " 'Natasha',\n",
       " 'Carson',\n",
       " 'Katrina',\n",
       " 'Leona',\n",
       " 'Glenda',\n",
       " 'Lance',\n",
       " 'Mae',\n",
       " 'Mariah',\n",
       " 'Vickie',\n",
       " 'Brandi',\n",
       " 'Whitney',\n",
       " 'Jocelyn',\n",
       " 'Josiah',\n",
       " 'Everett',\n",
       " 'Riley',\n",
       " 'Diego',\n",
       " 'Parker',\n",
       " 'Cecil',\n",
       " 'Kara',\n",
       " 'Dan',\n",
       " 'Meghan',\n",
       " 'Dora',\n",
       " 'Brooklyn',\n",
       " 'Margie',\n",
       " 'Allan',\n",
       " 'Bethany',\n",
       " 'Eduardo',\n",
       " 'Ana',\n",
       " 'Hector',\n",
       " 'Arnold',\n",
       " 'Marsha',\n",
       " 'Karl',\n",
       " 'Nolan',\n",
       " 'Makayla',\n",
       " 'Hayden',\n",
       " 'Toni',\n",
       " 'Riley',\n",
       " 'Christy',\n",
       " 'Clinton',\n",
       " 'Billie',\n",
       " 'Johnnie',\n",
       " 'Dianne',\n",
       " 'Ariana',\n",
       " 'Kendra',\n",
       " 'Alexandria',\n",
       " 'Sierra',\n",
       " 'Bailey',\n",
       " 'Javier',\n",
       " 'Penny',\n",
       " 'Maya',\n",
       " 'Melody',\n",
       " 'Angel',\n",
       " 'Roland',\n",
       " 'Omar',\n",
       " 'Hattie',\n",
       " 'Johnathan',\n",
       " 'Kay',\n",
       " 'Cecilia',\n",
       " 'Fernando',\n",
       " 'Terry',\n",
       " 'Darryl',\n",
       " 'Brendan',\n",
       " 'Felicia',\n",
       " 'Maxwell',\n",
       " 'Jenny',\n",
       " 'Micah',\n",
       " 'Isabelle',\n",
       " 'Ada',\n",
       " 'Briana',\n",
       " 'Tanner',\n",
       " 'Marguerite',\n",
       " 'Jamie',\n",
       " 'Lonnie',\n",
       " 'Angelica',\n",
       " 'Marshall',\n",
       " 'Bridget',\n",
       " 'Tracey',\n",
       " 'Bob',\n",
       " 'Abraham',\n",
       " 'Arianna',\n",
       " 'Madelyn',\n",
       " 'Adriana',\n",
       " 'Andy',\n",
       " 'Brady',\n",
       " 'Guy',\n",
       " 'Nicolas',\n",
       " 'Jackie',\n",
       " 'Candace',\n",
       " 'Hope',\n",
       " 'Karla',\n",
       " 'Claude',\n",
       " 'Pedro',\n",
       " 'Jillian',\n",
       " 'Brittney',\n",
       " 'Rachael',\n",
       " 'Damian',\n",
       " 'Lola',\n",
       " 'Ross',\n",
       " 'Kate',\n",
       " 'Layla',\n",
       " 'Jade',\n",
       " 'Harriet',\n",
       " 'Bobbie',\n",
       " 'Misty',\n",
       " 'Cooper',\n",
       " 'Kurt',\n",
       " 'Kristine',\n",
       " 'Aaliyah',\n",
       " 'Geneva',\n",
       " 'Desiree',\n",
       " 'Dakota',\n",
       " 'Shelly',\n",
       " 'Becky',\n",
       " 'Jacquelyn',\n",
       " 'Kelly',\n",
       " 'Blanche',\n",
       " 'Velma',\n",
       " 'Krystal',\n",
       " 'Raul',\n",
       " 'Brad',\n",
       " 'Ben',\n",
       " 'Sherri',\n",
       " 'Andres',\n",
       " 'Susie',\n",
       " 'Fannie',\n",
       " 'Sidney',\n",
       " 'Zoey',\n",
       " 'Miles',\n",
       " 'Breanna',\n",
       " 'Monique',\n",
       " 'Hugh',\n",
       " 'Lula',\n",
       " 'Iris',\n",
       " 'Mathew',\n",
       " 'Byron',\n",
       " 'Jodi',\n",
       " 'Casey',\n",
       " 'Tim',\n",
       " 'Elias',\n",
       " 'Rick',\n",
       " 'Wallace',\n",
       " 'Harper',\n",
       " 'Summer',\n",
       " 'Grayson',\n",
       " 'Dalton',\n",
       " 'Lynda',\n",
       " 'Harrison',\n",
       " 'Krista',\n",
       " 'Hilda',\n",
       " 'Tyrone',\n",
       " 'Jaxon',\n",
       " 'Rafael',\n",
       " 'Gabriela',\n",
       " 'Nevaeh',\n",
       " 'Sheryl',\n",
       " 'Drew',\n",
       " 'Kristi',\n",
       " 'Rosie',\n",
       " 'Elena',\n",
       " 'Angelo',\n",
       " 'Eunice',\n",
       " 'Shelley',\n",
       " 'Nelson',\n",
       " 'Antoinette',\n",
       " 'Dwayne',\n",
       " 'Dwight',\n",
       " 'Kelli',\n",
       " 'Julius',\n",
       " 'Jackie',\n",
       " 'Trinity',\n",
       " 'Shaun',\n",
       " 'Meredith',\n",
       " 'Kaleb',\n",
       " 'Sergio',\n",
       " 'Collin',\n",
       " 'Rebekah',\n",
       " 'Greg',\n",
       " 'Emmanuel',\n",
       " 'Mamie',\n",
       " 'Willard',\n",
       " 'Ramon',\n",
       " 'Perry',\n",
       " 'Bianca',\n",
       " 'Kristy',\n",
       " 'Candice',\n",
       " 'Jaden',\n",
       " 'Belinda',\n",
       " 'Gracie',\n",
       " 'Devon',\n",
       " 'Ted',\n",
       " 'Terrence',\n",
       " 'Janie',\n",
       " 'Stuart',\n",
       " 'Armando',\n",
       " 'Rosalie',\n",
       " 'Marco',\n",
       " 'Cesar',\n",
       " 'Ayden',\n",
       " 'Ashton',\n",
       " 'Irma',\n",
       " 'Peyton',\n",
       " 'Wade',\n",
       " 'Terrance',\n",
       " 'Erick',\n",
       " 'Freddie',\n",
       " 'Beulah',\n",
       " 'Felix',\n",
       " 'Kennedy',\n",
       " 'Marion',\n",
       " 'Ariel',\n",
       " 'Brody',\n",
       " 'Virgil',\n",
       " 'Adrienne',\n",
       " 'Roman',\n",
       " 'Morris',\n",
       " 'Robyn',\n",
       " 'Clifton',\n",
       " 'Kent',\n",
       " 'Jonathon',\n",
       " 'Jaime',\n",
       " 'Kirk',\n",
       " 'Sandy',\n",
       " 'Jeannette',\n",
       " 'Alberta',\n",
       " 'Elise',\n",
       " 'Verna',\n",
       " 'Giovanni',\n",
       " 'Camila',\n",
       " 'Simon',\n",
       " 'Carly',\n",
       " 'Faye',\n",
       " 'Sonia',\n",
       " 'Camille',\n",
       " 'Opal',\n",
       " 'Nichole',\n",
       " 'Ramona',\n",
       " 'Cheyenne',\n",
       " 'Scarlett',\n",
       " 'Flora',\n",
       " 'Sonya',\n",
       " 'Jace',\n",
       " 'Della',\n",
       " 'Leonardo',\n",
       " 'Penelope',\n",
       " 'Lorenzo',\n",
       " 'Genesis',\n",
       " 'Jonah',\n",
       " 'Daryl',\n",
       " 'Lila',\n",
       " 'Kristopher',\n",
       " 'Natalia',\n",
       " 'Malcolm',\n",
       " 'Gianna',\n",
       " 'Inez',\n",
       " 'Skylar',\n",
       " 'Valeria',\n",
       " 'Marianne',\n",
       " 'Damon',\n",
       " 'Lincoln',\n",
       " 'Luther',\n",
       " 'Ellie',\n",
       " 'Guadalupe',\n",
       " 'Fredrick',\n",
       " 'Jada',\n",
       " 'Yvette',\n",
       " 'Dillon',\n",
       " 'Dallas',\n",
       " 'Alexis',\n",
       " 'Marcella',\n",
       " 'Geoffrey',\n",
       " 'Dave',\n",
       " 'Hudson',\n",
       " 'Dominick',\n",
       " 'Bryson',\n",
       " 'Angie',\n",
       " 'Lynne',\n",
       " 'Lee',\n",
       " 'Kari',\n",
       " 'Bella',\n",
       " 'Cristian',\n",
       " 'Maryann',\n",
       " 'Gayle',\n",
       " 'Tabitha',\n",
       " 'Sheri',\n",
       " 'Patty',\n",
       " 'Olga',\n",
       " 'Rickey',\n",
       " 'Israel',\n",
       " 'Alisha',\n",
       " 'Alberto',\n",
       " 'Santiago',\n",
       " 'Tracy',\n",
       " 'Julio',\n",
       " 'Kaden',\n",
       " 'Abby',\n",
       " 'Alana',\n",
       " 'Daniela',\n",
       " 'Kaitlin',\n",
       " 'Myra',\n",
       " 'Roxanne',\n",
       " 'Caden',\n",
       " 'Damien',\n",
       " 'Annabelle',\n",
       " 'Karina',\n",
       " 'Donnie',\n",
       " 'Kendall',\n",
       " 'Homer',\n",
       " 'Lyle',\n",
       " 'Mallory',\n",
       " 'Callie',\n",
       " 'Juliana',\n",
       " 'Josie',\n",
       " 'Celeste',\n",
       " 'Mckenzie',\n",
       " 'Adeline',\n",
       " 'Cassidy',\n",
       " 'Gerard',\n",
       " 'Aurora',\n",
       " 'Rex',\n",
       " 'Enrique',\n",
       " 'Otis',\n",
       " 'Lilly',\n",
       " 'Gage',\n",
       " 'Jody',\n",
       " 'Earnest',\n",
       " 'Donovan',\n",
       " 'Janelle',\n",
       " 'Serenity',\n",
       " 'Trenton',\n",
       " 'Aimee',\n",
       " 'Kirsten',\n",
       " 'Asher',\n",
       " 'Hubert',\n",
       " 'Dianna',\n",
       " 'Avery',\n",
       " 'Cecelia',\n",
       " 'Dominique',\n",
       " 'Mya',\n",
       " 'Emmett',\n",
       " 'Olive',\n",
       " 'Wilbur',\n",
       " 'Lacey',\n",
       " 'Liliana',\n",
       " 'Mateo',\n",
       " 'Salvatore',\n",
       " 'Cara',\n",
       " 'Muriel',\n",
       " 'Alfredo',\n",
       " 'Neal',\n",
       " 'Mikayla',\n",
       " 'Eliza',\n",
       " 'Hayley',\n",
       " 'Nadine',\n",
       " 'Bernadette',\n",
       " 'Celia',\n",
       " 'Arturo',\n",
       " 'Cristina',\n",
       " 'Jan',\n",
       " 'Jordyn',\n",
       " 'Lana',\n",
       " 'Erma',\n",
       " 'Dana',\n",
       " 'Jaclyn',\n",
       " 'Vicky',\n",
       " 'Caitlyn',\n",
       " 'Alec',\n",
       " 'Gretchen',\n",
       " 'Leland',\n",
       " 'Johanna',\n",
       " 'Horace',\n",
       " 'Shannon',\n",
       " 'Jaime',\n",
       " 'Colby',\n",
       " 'Joey',\n",
       " 'Abel',\n",
       " 'Traci',\n",
       " 'Kellie',\n",
       " 'Estelle',\n",
       " 'Kerry',\n",
       " 'Ira',\n",
       " 'Conner',\n",
       " 'Payton',\n",
       " 'Wendell',\n",
       " 'Ezra',\n",
       " 'Trent',\n",
       " 'Eloise',\n",
       " 'Rudolph',\n",
       " 'Aria',\n",
       " 'Ivy',\n",
       " 'Graham',\n",
       " ...]"
      ]
     },
     "execution_count": 207,
     "metadata": {},
     "output_type": "execute_result"
    }
   ],
   "source": [
    "names"
   ]
  },
  {
   "cell_type": "code",
   "execution_count": 208,
   "metadata": {},
   "outputs": [
    {
     "data": {
      "text/plain": [
       "Nia          2\n",
       "Jarden       2\n",
       "Steve        2\n",
       "Brodee       2\n",
       "Marciel      2\n",
       "            ..\n",
       "Mouad        1\n",
       "Che'         1\n",
       "Kynslei      1\n",
       "Lillienne    1\n",
       "Triestina    1\n",
       "Name: Name, Length: 133910, dtype: int64"
      ]
     },
     "execution_count": 208,
     "metadata": {},
     "output_type": "execute_result"
    }
   ],
   "source": [
    "df.Name.value_counts()"
   ]
  },
  {
   "cell_type": "code",
   "execution_count": 209,
   "metadata": {},
   "outputs": [],
   "source": [
    "names = list(df.Name.unique())"
   ]
  },
  {
   "cell_type": "code",
   "execution_count": 210,
   "metadata": {},
   "outputs": [
    {
     "data": {
      "text/plain": [
       "133910"
      ]
     },
     "execution_count": 210,
     "metadata": {},
     "output_type": "execute_result"
    }
   ],
   "source": [
    "len(names)"
   ]
  },
  {
   "cell_type": "code",
   "execution_count": 211,
   "metadata": {},
   "outputs": [
    {
     "data": {
      "text/plain": [
       "(147269, 4)"
      ]
     },
     "execution_count": 211,
     "metadata": {},
     "output_type": "execute_result"
    }
   ],
   "source": [
    "df.shape"
   ]
  },
  {
   "cell_type": "code",
   "execution_count": 212,
   "metadata": {},
   "outputs": [],
   "source": [
    "names1 = list(df.Name)"
   ]
  },
  {
   "cell_type": "code",
   "execution_count": 213,
   "metadata": {},
   "outputs": [
    {
     "data": {
      "text/plain": [
       "1"
      ]
     },
     "execution_count": 213,
     "metadata": {},
     "output_type": "execute_result"
    }
   ],
   "source": [
    "names.count('Bob')"
   ]
  },
  {
   "cell_type": "code",
   "execution_count": 214,
   "metadata": {},
   "outputs": [
    {
     "data": {
      "text/plain": [
       "2"
      ]
     },
     "execution_count": 214,
     "metadata": {},
     "output_type": "execute_result"
    }
   ],
   "source": [
    "names1.count('Bob')"
   ]
  },
  {
   "cell_type": "code",
   "execution_count": 215,
   "metadata": {},
   "outputs": [
    {
     "data": {
      "text/plain": [
       "'Bob'"
      ]
     },
     "execution_count": 215,
     "metadata": {},
     "output_type": "execute_result"
    }
   ],
   "source": [
    "names.pop(names.index('Bob'))"
   ]
  },
  {
   "cell_type": "code",
   "execution_count": 217,
   "metadata": {},
   "outputs": [
    {
     "data": {
      "text/plain": [
       "134"
      ]
     },
     "execution_count": 217,
     "metadata": {},
     "output_type": "execute_result"
    }
   ],
   "source": [
    "names.index('Ann')"
   ]
  },
  {
   "cell_type": "code",
   "execution_count": 218,
   "metadata": {},
   "outputs": [
    {
     "data": {
      "text/plain": [
       "'Bob'"
      ]
     },
     "execution_count": 218,
     "metadata": {},
     "output_type": "execute_result"
    }
   ],
   "source": [
    "names1.pop(names1.index('Bob'))"
   ]
  },
  {
   "cell_type": "code",
   "execution_count": 219,
   "metadata": {},
   "outputs": [
    {
     "data": {
      "text/plain": [
       "23497"
      ]
     },
     "execution_count": 219,
     "metadata": {},
     "output_type": "execute_result"
    }
   ],
   "source": [
    "names1.index('Bob')"
   ]
  },
  {
   "cell_type": "code",
   "execution_count": 220,
   "metadata": {},
   "outputs": [],
   "source": [
    "names1.remove('Indu')"
   ]
  },
  {
   "cell_type": "code",
   "execution_count": 221,
   "metadata": {},
   "outputs": [
    {
     "data": {
      "text/plain": [
       "138684"
      ]
     },
     "execution_count": 221,
     "metadata": {},
     "output_type": "execute_result"
    }
   ],
   "source": [
    "names1.index('Indu')"
   ]
  },
  {
   "cell_type": "code",
   "execution_count": 222,
   "metadata": {},
   "outputs": [],
   "source": [
    "names2 = list(df[df.Name != 'Jemmie'].Name)"
   ]
  },
  {
   "cell_type": "code",
   "execution_count": 224,
   "metadata": {},
   "outputs": [],
   "source": [
    "# Tuple\n",
    "ip_add = ('10.20.30.400', 8080)"
   ]
  },
  {
   "cell_type": "code",
   "execution_count": 225,
   "metadata": {},
   "outputs": [],
   "source": [
    "# Dictionaries"
   ]
  },
  {
   "cell_type": "code",
   "execution_count": 226,
   "metadata": {},
   "outputs": [],
   "source": [
    "this_dict = {}"
   ]
  },
  {
   "cell_type": "code",
   "execution_count": 227,
   "metadata": {},
   "outputs": [],
   "source": [
    "this_dict = {'Age': 25, \"Gender\": 'male' , 'Exxp': 12}"
   ]
  },
  {
   "cell_type": "code",
   "execution_count": 228,
   "metadata": {},
   "outputs": [
    {
     "data": {
      "text/plain": [
       "{'Age': 25, 'Gender': 'male', 'Exxp': 12}"
      ]
     },
     "execution_count": 228,
     "metadata": {},
     "output_type": "execute_result"
    }
   ],
   "source": [
    "this_dict"
   ]
  },
  {
   "cell_type": "code",
   "execution_count": 229,
   "metadata": {},
   "outputs": [
    {
     "data": {
      "text/plain": [
       "dict_keys(['Age', 'Gender', 'Exxp'])"
      ]
     },
     "execution_count": 229,
     "metadata": {},
     "output_type": "execute_result"
    }
   ],
   "source": [
    "this_dict.keys()"
   ]
  },
  {
   "cell_type": "code",
   "execution_count": 230,
   "metadata": {},
   "outputs": [
    {
     "data": {
      "text/plain": [
       "dict_values([25, 'male', 12])"
      ]
     },
     "execution_count": 230,
     "metadata": {},
     "output_type": "execute_result"
    }
   ],
   "source": [
    "this_dict.values()"
   ]
  },
  {
   "cell_type": "code",
   "execution_count": 231,
   "metadata": {},
   "outputs": [
    {
     "data": {
      "text/plain": [
       "dict_items([('Age', 25), ('Gender', 'male'), ('Exxp', 12)])"
      ]
     },
     "execution_count": 231,
     "metadata": {},
     "output_type": "execute_result"
    }
   ],
   "source": [
    "this_dict.items()"
   ]
  },
  {
   "cell_type": "code",
   "execution_count": 232,
   "metadata": {},
   "outputs": [],
   "source": [
    "this_dict2 = dict(Age= [25,26], Gender= 'male' , Exxp = 12)"
   ]
  },
  {
   "cell_type": "code",
   "execution_count": 233,
   "metadata": {},
   "outputs": [
    {
     "data": {
      "text/plain": [
       "{'Age': [25, 26], 'Gender': 'male', 'Exxp': 12}"
      ]
     },
     "execution_count": 233,
     "metadata": {},
     "output_type": "execute_result"
    }
   ],
   "source": [
    "this_dict2"
   ]
  },
  {
   "cell_type": "code",
   "execution_count": 234,
   "metadata": {},
   "outputs": [
    {
     "data": {
      "text/plain": [
       "False"
      ]
     },
     "execution_count": 234,
     "metadata": {},
     "output_type": "execute_result"
    }
   ],
   "source": [
    "this_dict == this_dict2"
   ]
  },
  {
   "cell_type": "code",
   "execution_count": 235,
   "metadata": {},
   "outputs": [],
   "source": [
    "this_dict2['Exxp'] = 21"
   ]
  },
  {
   "cell_type": "code",
   "execution_count": 236,
   "metadata": {},
   "outputs": [
    {
     "data": {
      "text/plain": [
       "{'Age': [25, 26], 'Gender': 'male', 'Exxp': 21}"
      ]
     },
     "execution_count": 236,
     "metadata": {},
     "output_type": "execute_result"
    }
   ],
   "source": [
    "this_dict2"
   ]
  },
  {
   "cell_type": "code",
   "execution_count": 237,
   "metadata": {},
   "outputs": [],
   "source": [
    "del this_dict2['Exxp']"
   ]
  },
  {
   "cell_type": "code",
   "execution_count": 238,
   "metadata": {},
   "outputs": [
    {
     "data": {
      "text/plain": [
       "{'Age': [25, 26], 'Gender': 'male'}"
      ]
     },
     "execution_count": 238,
     "metadata": {},
     "output_type": "execute_result"
    }
   ],
   "source": [
    "this_dict2"
   ]
  },
  {
   "cell_type": "code",
   "execution_count": 239,
   "metadata": {},
   "outputs": [],
   "source": [
    "this_dict2['Age'][0] = 27"
   ]
  },
  {
   "cell_type": "code",
   "execution_count": 240,
   "metadata": {},
   "outputs": [
    {
     "data": {
      "text/plain": [
       "{'Age': [27, 26], 'Gender': 'male'}"
      ]
     },
     "execution_count": 240,
     "metadata": {},
     "output_type": "execute_result"
    }
   ],
   "source": [
    "this_dict2"
   ]
  },
  {
   "cell_type": "code",
   "execution_count": 241,
   "metadata": {},
   "outputs": [
    {
     "data": {
      "text/plain": [
       "{'Age': 25, 'Gender': 'male', 'Exxp': 12}"
      ]
     },
     "execution_count": 241,
     "metadata": {},
     "output_type": "execute_result"
    }
   ],
   "source": [
    "this_dict"
   ]
  },
  {
   "cell_type": "code",
   "execution_count": 242,
   "metadata": {},
   "outputs": [
    {
     "data": {
      "text/plain": [
       "{'Age': [27, 26], 'Gender': 'male'}"
      ]
     },
     "execution_count": 242,
     "metadata": {},
     "output_type": "execute_result"
    }
   ],
   "source": [
    "this_dict2"
   ]
  },
  {
   "cell_type": "code",
   "execution_count": 243,
   "metadata": {},
   "outputs": [],
   "source": [
    "this_dict.update(this_dict2)"
   ]
  },
  {
   "cell_type": "code",
   "execution_count": 244,
   "metadata": {},
   "outputs": [
    {
     "data": {
      "text/plain": [
       "{'Age': [27, 26], 'Gender': 'male', 'Exxp': 12}"
      ]
     },
     "execution_count": 244,
     "metadata": {},
     "output_type": "execute_result"
    }
   ],
   "source": [
    "this_dict"
   ]
  },
  {
   "cell_type": "code",
   "execution_count": 245,
   "metadata": {},
   "outputs": [],
   "source": [
    "# Problem Statement\n",
    "# Moving averages - arithmatic mean"
   ]
  },
  {
   "cell_type": "code",
   "execution_count": 246,
   "metadata": {},
   "outputs": [],
   "source": [
    "d = np.array([120,23,34,45,56,67,78,89])"
   ]
  },
  {
   "cell_type": "code",
   "execution_count": 247,
   "metadata": {},
   "outputs": [
    {
     "data": {
      "text/plain": [
       "64.0"
      ]
     },
     "execution_count": 247,
     "metadata": {},
     "output_type": "execute_result"
    }
   ],
   "source": [
    "d.mean()"
   ]
  },
  {
   "cell_type": "code",
   "execution_count": 248,
   "metadata": {},
   "outputs": [],
   "source": [
    "# running median leaving one record out"
   ]
  },
  {
   "cell_type": "code",
   "execution_count": 249,
   "metadata": {},
   "outputs": [],
   "source": [
    "# missing value imputation\n",
    "# column mean as replacement for missing values"
   ]
  },
  {
   "cell_type": "code",
   "execution_count": 250,
   "metadata": {},
   "outputs": [],
   "source": [
    "# running median - more closer to the missing data"
   ]
  },
  {
   "cell_type": "code",
   "execution_count": 251,
   "metadata": {},
   "outputs": [
    {
     "data": {
      "text/plain": [
       "array([120,  23,  34,  45,  56,  67,  78,  89])"
      ]
     },
     "execution_count": 251,
     "metadata": {},
     "output_type": "execute_result"
    }
   ],
   "source": [
    "d"
   ]
  },
  {
   "cell_type": "code",
   "execution_count": 252,
   "metadata": {},
   "outputs": [],
   "source": [
    "# can you create a custom function to populate running median of the above series."
   ]
  },
  {
   "cell_type": "code",
   "execution_count": 253,
   "metadata": {},
   "outputs": [],
   "source": [
    "d.sort()"
   ]
  },
  {
   "cell_type": "code",
   "execution_count": 254,
   "metadata": {},
   "outputs": [
    {
     "data": {
      "text/plain": [
       "array([ 23,  34,  45,  56,  67,  78,  89, 120])"
      ]
     },
     "execution_count": 254,
     "metadata": {},
     "output_type": "execute_result"
    }
   ],
   "source": [
    "d"
   ]
  },
  {
   "cell_type": "code",
   "execution_count": 255,
   "metadata": {},
   "outputs": [
    {
     "data": {
      "text/plain": [
       "4.5"
      ]
     },
     "execution_count": 255,
     "metadata": {},
     "output_type": "execute_result"
    }
   ],
   "source": [
    "(len(d)+1)/2"
   ]
  },
  {
   "cell_type": "code",
   "execution_count": 256,
   "metadata": {},
   "outputs": [
    {
     "data": {
      "text/plain": [
       "61.5"
      ]
     },
     "execution_count": 256,
     "metadata": {},
     "output_type": "execute_result"
    }
   ],
   "source": [
    "(56+67)/2"
   ]
  },
  {
   "cell_type": "code",
   "execution_count": 257,
   "metadata": {},
   "outputs": [
    {
     "data": {
      "text/plain": [
       "61.5"
      ]
     },
     "execution_count": 257,
     "metadata": {},
     "output_type": "execute_result"
    }
   ],
   "source": [
    "np.median(d)"
   ]
  },
  {
   "cell_type": "code",
   "execution_count": 258,
   "metadata": {},
   "outputs": [
    {
     "data": {
      "text/plain": [
       "array([ 23,  34,  45,  56,  67,  78,  89, 120])"
      ]
     },
     "execution_count": 258,
     "metadata": {},
     "output_type": "execute_result"
    }
   ],
   "source": [
    "d"
   ]
  },
  {
   "cell_type": "code",
   "execution_count": 259,
   "metadata": {},
   "outputs": [
    {
     "name": "stdout",
     "output_type": "stream",
     "text": [
      "0      NaN\n",
      "1     28.5\n",
      "2     39.5\n",
      "3     50.5\n",
      "4     61.5\n",
      "5     72.5\n",
      "6     83.5\n",
      "7    104.5\n",
      "dtype: float64\n"
     ]
    }
   ],
   "source": [
    "window_size = 2\n",
    "\n",
    "series = pd.Series(d)\n",
    "blocks = series.rolling(window_size)\n",
    "rolling_mean = blocks.mean()\n",
    "print(rolling_mean)"
   ]
  },
  {
   "cell_type": "code",
   "execution_count": 260,
   "metadata": {},
   "outputs": [
    {
     "name": "stdout",
     "output_type": "stream",
     "text": [
      "[120  23  34  45  56  67  78  89]\n",
      "0     NaN\n",
      "1     NaN\n",
      "2    59.0\n",
      "3    34.0\n",
      "4    45.0\n",
      "5    56.0\n",
      "6    67.0\n",
      "7    78.0\n",
      "dtype: float64\n"
     ]
    }
   ],
   "source": [
    "d = np.array([120,23,34,45,56,67,78,89])\n",
    "window_size = 3\n",
    "print(d)\n",
    "series = pd.Series(d)\n",
    "blocks = series.rolling(window_size)\n",
    "rolling_mean = blocks.mean()\n",
    "print(rolling_mean)"
   ]
  },
  {
   "cell_type": "markdown",
   "metadata": {},
   "source": [
    "def get_med(arr):\n",
    "    arr.sort()\n",
    "    print(arr)\n",
    "    x = int(round(len(arr)/2,0))\n",
    "    print(x)\n",
    "    med = (arr[x]+arr[x-1])/2\n",
    "    return med"
   ]
  },
  {
   "cell_type": "markdown",
   "metadata": {},
   "source": [
    "get_med(d)"
   ]
  },
  {
   "cell_type": "code",
   "execution_count": 261,
   "metadata": {},
   "outputs": [
    {
     "data": {
      "text/html": [
       "<div>\n",
       "<style scoped>\n",
       "    .dataframe tbody tr th:only-of-type {\n",
       "        vertical-align: middle;\n",
       "    }\n",
       "\n",
       "    .dataframe tbody tr th {\n",
       "        vertical-align: top;\n",
       "    }\n",
       "\n",
       "    .dataframe thead th {\n",
       "        text-align: right;\n",
       "    }\n",
       "</style>\n",
       "<table border=\"1\" class=\"dataframe\">\n",
       "  <thead>\n",
       "    <tr style=\"text-align: right;\">\n",
       "      <th></th>\n",
       "      <th>Name</th>\n",
       "      <th>Gender</th>\n",
       "      <th>Count</th>\n",
       "      <th>Probability</th>\n",
       "    </tr>\n",
       "  </thead>\n",
       "  <tbody>\n",
       "    <tr>\n",
       "      <th>0</th>\n",
       "      <td>James</td>\n",
       "      <td>M</td>\n",
       "      <td>5304407</td>\n",
       "      <td>1.451679e-02</td>\n",
       "    </tr>\n",
       "    <tr>\n",
       "      <th>1</th>\n",
       "      <td>John</td>\n",
       "      <td>M</td>\n",
       "      <td>5260831</td>\n",
       "      <td>1.439753e-02</td>\n",
       "    </tr>\n",
       "    <tr>\n",
       "      <th>2</th>\n",
       "      <td>Robert</td>\n",
       "      <td>M</td>\n",
       "      <td>4970386</td>\n",
       "      <td>1.360266e-02</td>\n",
       "    </tr>\n",
       "    <tr>\n",
       "      <th>3</th>\n",
       "      <td>Michael</td>\n",
       "      <td>M</td>\n",
       "      <td>4579950</td>\n",
       "      <td>1.253414e-02</td>\n",
       "    </tr>\n",
       "    <tr>\n",
       "      <th>4</th>\n",
       "      <td>William</td>\n",
       "      <td>M</td>\n",
       "      <td>4226608</td>\n",
       "      <td>1.156713e-02</td>\n",
       "    </tr>\n",
       "    <tr>\n",
       "      <th>...</th>\n",
       "      <td>...</td>\n",
       "      <td>...</td>\n",
       "      <td>...</td>\n",
       "      <td>...</td>\n",
       "    </tr>\n",
       "    <tr>\n",
       "      <th>147264</th>\n",
       "      <td>Zylenn</td>\n",
       "      <td>M</td>\n",
       "      <td>1</td>\n",
       "      <td>2.736740e-09</td>\n",
       "    </tr>\n",
       "    <tr>\n",
       "      <th>147265</th>\n",
       "      <td>Zymeon</td>\n",
       "      <td>M</td>\n",
       "      <td>1</td>\n",
       "      <td>2.736740e-09</td>\n",
       "    </tr>\n",
       "    <tr>\n",
       "      <th>147266</th>\n",
       "      <td>Zyndel</td>\n",
       "      <td>M</td>\n",
       "      <td>1</td>\n",
       "      <td>2.736740e-09</td>\n",
       "    </tr>\n",
       "    <tr>\n",
       "      <th>147267</th>\n",
       "      <td>Zyshan</td>\n",
       "      <td>M</td>\n",
       "      <td>1</td>\n",
       "      <td>2.736740e-09</td>\n",
       "    </tr>\n",
       "    <tr>\n",
       "      <th>147268</th>\n",
       "      <td>Zyton</td>\n",
       "      <td>M</td>\n",
       "      <td>1</td>\n",
       "      <td>2.736740e-09</td>\n",
       "    </tr>\n",
       "  </tbody>\n",
       "</table>\n",
       "<p>147269 rows × 4 columns</p>\n",
       "</div>"
      ],
      "text/plain": [
       "           Name Gender    Count   Probability\n",
       "0         James      M  5304407  1.451679e-02\n",
       "1          John      M  5260831  1.439753e-02\n",
       "2        Robert      M  4970386  1.360266e-02\n",
       "3       Michael      M  4579950  1.253414e-02\n",
       "4       William      M  4226608  1.156713e-02\n",
       "...         ...    ...      ...           ...\n",
       "147264   Zylenn      M        1  2.736740e-09\n",
       "147265   Zymeon      M        1  2.736740e-09\n",
       "147266   Zyndel      M        1  2.736740e-09\n",
       "147267   Zyshan      M        1  2.736740e-09\n",
       "147268    Zyton      M        1  2.736740e-09\n",
       "\n",
       "[147269 rows x 4 columns]"
      ]
     },
     "execution_count": 261,
     "metadata": {},
     "output_type": "execute_result"
    }
   ],
   "source": [
    "df"
   ]
  },
  {
   "cell_type": "code",
   "execution_count": 271,
   "metadata": {},
   "outputs": [
    {
     "data": {
      "text/plain": [
       "{'Walt',\n",
       " 'Fintan',\n",
       " 'Wyatte',\n",
       " 'Tatianya',\n",
       " 'Kavion',\n",
       " 'Patyn',\n",
       " 'Huk',\n",
       " 'Kayanda',\n",
       " 'Yendriel',\n",
       " 'Shinobi',\n",
       " 'Tikeria',\n",
       " 'Adayah',\n",
       " 'Akeil',\n",
       " 'Leward',\n",
       " 'Nikoll',\n",
       " 'Rychard',\n",
       " 'Alliera',\n",
       " 'Yeoryi',\n",
       " 'Aalla',\n",
       " 'Deshaun',\n",
       " 'Amenda',\n",
       " 'Trania',\n",
       " 'Rikki',\n",
       " 'Jemille',\n",
       " 'Willim',\n",
       " 'Treacy',\n",
       " 'Advaita',\n",
       " 'Yameka',\n",
       " 'Shaunece',\n",
       " 'Serguio',\n",
       " 'Xhaiden',\n",
       " 'Tyjohn',\n",
       " 'Talisia',\n",
       " 'Tasheen',\n",
       " 'Yasmene',\n",
       " 'Julliet',\n",
       " 'Isiash',\n",
       " 'Monissa',\n",
       " 'Vageli',\n",
       " 'Tarrant',\n",
       " 'Treyah',\n",
       " 'Sharalee',\n",
       " 'Avraham',\n",
       " 'Caeghan',\n",
       " 'Yuisa',\n",
       " 'Kalika',\n",
       " 'Aerianna',\n",
       " 'Robyne',\n",
       " 'Caisen',\n",
       " 'Jobyna',\n",
       " 'Yovela',\n",
       " 'Yuriy',\n",
       " 'Kennedi',\n",
       " 'Daneil',\n",
       " 'Benjen',\n",
       " 'Aurelius',\n",
       " 'Turk',\n",
       " 'Skyee',\n",
       " 'Haofeng',\n",
       " 'Gracelyn',\n",
       " 'Caliese',\n",
       " 'Kalob',\n",
       " 'Cirrus',\n",
       " 'Felicitas',\n",
       " 'Kaylanna',\n",
       " 'Jenssen',\n",
       " 'Ralphine',\n",
       " 'Valdon',\n",
       " 'Iyanu',\n",
       " 'Dremond',\n",
       " 'Kyshia',\n",
       " 'Avetis',\n",
       " 'Brayli',\n",
       " 'Titu@Devender',\n",
       " 'Kimon',\n",
       " 'Audryana',\n",
       " 'Nail',\n",
       " 'Tyzana',\n",
       " 'Rutvij',\n",
       " 'Mazni',\n",
       " 'Merici',\n",
       " 'Traelyn',\n",
       " 'Columbus',\n",
       " 'Amoha',\n",
       " 'Kalliope',\n",
       " 'Nashelle',\n",
       " 'Gwilym',\n",
       " 'Irtu',\n",
       " 'Satorri-Eve',\n",
       " 'Kamilya',\n",
       " 'Ktherine',\n",
       " 'Menara',\n",
       " 'Shabana',\n",
       " 'Alabama',\n",
       " 'Hettie',\n",
       " 'Irisa',\n",
       " 'Sondi',\n",
       " 'Carols',\n",
       " 'Keierra',\n",
       " 'Icess',\n",
       " 'Gyle',\n",
       " 'Kharisma',\n",
       " 'Maleki',\n",
       " 'Gwendolyn',\n",
       " 'Doraly',\n",
       " 'Eulalio',\n",
       " 'Rohnda',\n",
       " 'Jizell',\n",
       " 'Quinshay',\n",
       " 'Sankey',\n",
       " 'Kalais',\n",
       " 'Ghaidaa',\n",
       " 'Jahleel',\n",
       " 'Oi',\n",
       " 'Dagm',\n",
       " 'Gahan',\n",
       " 'Deejay',\n",
       " 'Rujelyn',\n",
       " 'Tavvy',\n",
       " 'Ottice',\n",
       " 'Solar',\n",
       " 'Chamber',\n",
       " 'Eile',\n",
       " 'Elglene',\n",
       " 'Jaxsten',\n",
       " 'Jezenia',\n",
       " 'Mystique',\n",
       " 'Upton',\n",
       " 'Carilyn',\n",
       " 'Benito',\n",
       " 'Phillippa',\n",
       " 'Beautiful',\n",
       " 'Jaiden',\n",
       " 'Caidee',\n",
       " 'Laurajean',\n",
       " 'Cheemeng',\n",
       " 'Manja',\n",
       " 'Delyza',\n",
       " 'Kamarea',\n",
       " 'Dinita',\n",
       " 'Yker',\n",
       " 'Jeffrery',\n",
       " 'Ryver',\n",
       " 'Ronit',\n",
       " 'Granite',\n",
       " 'Jesenya',\n",
       " 'Amelle',\n",
       " 'Shenetra',\n",
       " 'Ajita',\n",
       " 'Gianlucas',\n",
       " 'Ginikachi',\n",
       " 'Greeshma',\n",
       " 'Emereigh',\n",
       " 'Deantrae',\n",
       " 'Parry',\n",
       " 'Jean-Marie',\n",
       " 'Zenneth',\n",
       " 'Marlisa',\n",
       " 'Jemale',\n",
       " 'Dairyn',\n",
       " 'Daneet',\n",
       " 'Cledis',\n",
       " 'Mayjer',\n",
       " 'Nariya',\n",
       " 'Anahli',\n",
       " 'Shandee',\n",
       " 'Aisatou',\n",
       " 'Zimmie',\n",
       " 'Venieta',\n",
       " 'Xain',\n",
       " 'Kierat',\n",
       " 'Ihan',\n",
       " 'Luley',\n",
       " 'Anna-Therase',\n",
       " 'Rosevelt',\n",
       " 'Shareeka',\n",
       " 'Dontevious',\n",
       " 'Divleen',\n",
       " 'Tarenah',\n",
       " 'Hiral',\n",
       " 'Evanti',\n",
       " 'Dallal',\n",
       " 'Tahra-Jayne',\n",
       " 'Dasharia',\n",
       " 'Jojuan',\n",
       " 'Clever',\n",
       " 'Saren',\n",
       " 'Samanta',\n",
       " 'Lashondra',\n",
       " 'Koltyn',\n",
       " 'Yu-Le',\n",
       " 'J.',\n",
       " 'Deashley',\n",
       " 'Dilylah',\n",
       " 'Thandiwe',\n",
       " 'Lucya',\n",
       " 'Dakwan',\n",
       " 'Ravindar',\n",
       " 'Autry',\n",
       " 'Evonia',\n",
       " 'Makaia',\n",
       " 'Shanikque',\n",
       " 'Vanda',\n",
       " 'Jozalynn',\n",
       " 'Kalet',\n",
       " 'Jasye',\n",
       " 'Yohannah',\n",
       " 'Iordani',\n",
       " 'Arjoon',\n",
       " 'Riyad',\n",
       " 'Princi',\n",
       " 'Zoie-Jae',\n",
       " 'Jeremyiah',\n",
       " 'Fiala',\n",
       " 'Sunarkali',\n",
       " 'Dilrajveer',\n",
       " 'Ardynn',\n",
       " 'Krystalyn',\n",
       " 'Geraldo',\n",
       " 'Ayelin',\n",
       " 'Bel',\n",
       " 'Canyla',\n",
       " 'Remel',\n",
       " 'Baudoin',\n",
       " 'Samere',\n",
       " 'Kurn',\n",
       " 'Taranpreet',\n",
       " 'Naily',\n",
       " 'Keshvi',\n",
       " 'Ashja',\n",
       " 'Elmeta',\n",
       " 'Brindle',\n",
       " 'Sharaia',\n",
       " 'Timonthy',\n",
       " 'Giannetta',\n",
       " 'Kinze',\n",
       " 'Madhu',\n",
       " 'Tarene',\n",
       " 'Carville',\n",
       " 'Akia',\n",
       " 'Kyrei',\n",
       " 'Omperkash',\n",
       " 'Callister',\n",
       " 'Samanya',\n",
       " 'Ukari',\n",
       " 'Elah',\n",
       " 'Shequana',\n",
       " 'Sranya',\n",
       " 'Chelsey',\n",
       " 'Gerardene',\n",
       " 'Gus',\n",
       " 'Lylah',\n",
       " 'Ubong',\n",
       " 'Rathan',\n",
       " 'Gladyes',\n",
       " 'Avyi',\n",
       " 'Ammal',\n",
       " 'Dzudzu',\n",
       " 'Brienna',\n",
       " 'Tushar',\n",
       " 'Tabius',\n",
       " 'Tarawati',\n",
       " 'Hartlyn',\n",
       " 'Prerit',\n",
       " 'Vimansha',\n",
       " \"Ja'Kahn\",\n",
       " 'Ashariah',\n",
       " 'Shumel',\n",
       " 'Aloni',\n",
       " 'Liis',\n",
       " 'Zyliah',\n",
       " 'Katreina',\n",
       " 'Javae',\n",
       " 'Hiya',\n",
       " 'Damaine',\n",
       " 'Christianjoshua',\n",
       " 'Sharan',\n",
       " 'Jook',\n",
       " 'Sueling',\n",
       " 'Kheem',\n",
       " 'Mady',\n",
       " 'Malesha',\n",
       " 'Atrayu',\n",
       " 'Andrra',\n",
       " 'Cheryl-Marta',\n",
       " 'Harwell',\n",
       " 'Anistyn',\n",
       " 'Jullie',\n",
       " 'Delise',\n",
       " 'Shirelle',\n",
       " 'Vu-Minh',\n",
       " 'Emiley',\n",
       " 'Rossene',\n",
       " 'Yuyao',\n",
       " 'Lileeann',\n",
       " 'Jaun',\n",
       " 'Amayha',\n",
       " 'Achira',\n",
       " 'Connar',\n",
       " 'Tomorrow',\n",
       " 'Hopeness',\n",
       " 'Rahneisha',\n",
       " 'Leiya',\n",
       " 'Eymy',\n",
       " 'Tanazia',\n",
       " 'Kympton',\n",
       " 'Mantosh',\n",
       " 'Gerri',\n",
       " 'Kelyn',\n",
       " 'Breze',\n",
       " 'Iknoor',\n",
       " 'Sokxay',\n",
       " 'Abdul-Malik',\n",
       " 'Timoleon',\n",
       " 'Paysen',\n",
       " 'Whtiney',\n",
       " 'Jezebelle',\n",
       " 'Jaybree',\n",
       " 'Delpheen',\n",
       " 'Shalu',\n",
       " 'Animesh',\n",
       " 'Tysaun',\n",
       " 'Dakyrah',\n",
       " 'Telissa',\n",
       " 'Karlise',\n",
       " 'Sajith',\n",
       " 'Ramsawroop',\n",
       " 'Pina-Maria',\n",
       " 'Manreet',\n",
       " 'Ekyochi',\n",
       " 'Khea',\n",
       " 'Judythe',\n",
       " 'Lellie',\n",
       " 'Trisevgeni',\n",
       " 'Avroham',\n",
       " 'Rayaansh',\n",
       " 'Gowri',\n",
       " 'Aitan',\n",
       " 'Shawntelle',\n",
       " 'Anna-Clare',\n",
       " 'Ria',\n",
       " 'Jasik',\n",
       " 'Naail',\n",
       " 'Noon',\n",
       " 'Sherinne',\n",
       " 'Mayak',\n",
       " 'Godrick',\n",
       " 'Blondina',\n",
       " 'Veeha',\n",
       " 'Andrienna',\n",
       " 'Leha',\n",
       " 'Frutoso',\n",
       " 'Srivatsa',\n",
       " 'Khing',\n",
       " 'Triso',\n",
       " 'Bodhi',\n",
       " 'Rendy',\n",
       " 'Yiddy',\n",
       " 'My',\n",
       " 'Showanda',\n",
       " 'Sreenidhi',\n",
       " 'Henrie',\n",
       " 'Analecia',\n",
       " 'Kenithia',\n",
       " 'Kontrina',\n",
       " 'Alywin',\n",
       " 'Onathan',\n",
       " 'Phajja',\n",
       " 'Kiralea',\n",
       " 'Bernetta',\n",
       " 'Aliesha-Kye',\n",
       " 'Zhizhen',\n",
       " 'Tevell',\n",
       " 'Jonathan',\n",
       " 'Adylen',\n",
       " 'Lucerito',\n",
       " 'Greighson',\n",
       " 'Tenielle',\n",
       " 'Kaleyla',\n",
       " 'Donni',\n",
       " 'Jimette',\n",
       " 'Divisha',\n",
       " 'Evanthia',\n",
       " 'Jaymison',\n",
       " 'Kendall',\n",
       " 'Naul',\n",
       " 'Tullio',\n",
       " 'Adalena',\n",
       " 'Jazebel',\n",
       " 'Saymi',\n",
       " 'Eliza-Mae',\n",
       " 'Brycen',\n",
       " 'Sarinah',\n",
       " 'Merline',\n",
       " 'Yitong',\n",
       " 'Kasey-Maree',\n",
       " 'Juanjr',\n",
       " 'Sharnikah',\n",
       " 'Jake-Desmond',\n",
       " 'Demarques',\n",
       " 'Jaykwon',\n",
       " 'Amirali',\n",
       " 'Prebble',\n",
       " 'Madelean',\n",
       " 'Jeresa',\n",
       " 'Kallun',\n",
       " 'Ermalee',\n",
       " 'Jomaris',\n",
       " 'Mehvish',\n",
       " 'Joyline',\n",
       " 'Valley',\n",
       " 'Chnda',\n",
       " 'Kymberlie-Jayne',\n",
       " 'Luisita',\n",
       " 'Advaidhev',\n",
       " 'Ruston',\n",
       " 'Kamaury',\n",
       " 'Mozes',\n",
       " 'Sular',\n",
       " 'Nyshay',\n",
       " 'Xinoula',\n",
       " 'Zaniyyah',\n",
       " 'Durango',\n",
       " 'Philibert',\n",
       " 'Melida',\n",
       " 'Flavius',\n",
       " 'Zeenath',\n",
       " 'Lekesha',\n",
       " 'Maleeah',\n",
       " 'Verita',\n",
       " 'Tkayah',\n",
       " 'Alarik',\n",
       " 'Olesya',\n",
       " 'Kaiona',\n",
       " 'Natari',\n",
       " 'Wayde',\n",
       " 'Atasia',\n",
       " 'Treya',\n",
       " 'Earthalee',\n",
       " 'Chasteen',\n",
       " 'Burdie',\n",
       " 'Mahsa',\n",
       " 'Knesha',\n",
       " 'Oluwabukola',\n",
       " 'Banshi',\n",
       " 'Amika',\n",
       " 'Aden',\n",
       " 'Zolar',\n",
       " 'Adley',\n",
       " 'Peru',\n",
       " 'Aakarsh',\n",
       " 'Ozay',\n",
       " 'Shawkat',\n",
       " 'Sanjuan',\n",
       " 'Needa',\n",
       " 'Abhishek',\n",
       " 'Mckenley',\n",
       " 'Dashiel',\n",
       " 'Jovi',\n",
       " 'Lapriest',\n",
       " 'Magin',\n",
       " 'Dumnik',\n",
       " 'Kennley',\n",
       " 'Vilas',\n",
       " 'Miyoka',\n",
       " 'Delena',\n",
       " 'Lauretha',\n",
       " 'Wauneta',\n",
       " 'Jaqulyn',\n",
       " 'Caison',\n",
       " 'Lilany',\n",
       " 'Julek',\n",
       " 'Cailah',\n",
       " 'Rozen',\n",
       " 'Janicka',\n",
       " 'Terren',\n",
       " 'Jora',\n",
       " 'Sisira',\n",
       " 'Virena',\n",
       " 'Luyu',\n",
       " 'Malaeya',\n",
       " 'Sayema',\n",
       " 'Dagem',\n",
       " 'Thristen',\n",
       " 'Jasmire',\n",
       " 'Dannen',\n",
       " 'Ivah',\n",
       " 'Anee',\n",
       " 'Kevonta',\n",
       " 'Leandria',\n",
       " 'Alisha-Jane',\n",
       " 'Dezmen',\n",
       " 'Okal',\n",
       " 'Saralie',\n",
       " 'Menashe',\n",
       " 'Hoss',\n",
       " 'Briunna',\n",
       " 'Suree',\n",
       " 'Tuyen-Ngoc',\n",
       " 'Judyth',\n",
       " 'Emireth',\n",
       " 'Nizaiah',\n",
       " 'Macle',\n",
       " 'Zschorn',\n",
       " 'Raffy',\n",
       " 'Tytus',\n",
       " 'Derenda',\n",
       " 'Cheyesha',\n",
       " 'Chamberlin',\n",
       " 'Doncella',\n",
       " 'Darvens',\n",
       " 'Olaya',\n",
       " 'Gorv',\n",
       " 'Yaacov',\n",
       " 'Godrey',\n",
       " 'Tyneisha',\n",
       " 'Antonesha',\n",
       " 'Lanet',\n",
       " 'Merveen',\n",
       " 'Dezhanae',\n",
       " 'Alilyana',\n",
       " 'Tadarian',\n",
       " 'Ercelle',\n",
       " 'Konstance',\n",
       " 'Marguerit',\n",
       " 'Ankur',\n",
       " 'Jaynarayan',\n",
       " 'Kyelle',\n",
       " 'Yeqi',\n",
       " 'Caternia',\n",
       " 'Caisley',\n",
       " 'Alvery',\n",
       " 'Morialta',\n",
       " 'Makenzley',\n",
       " 'Karmine',\n",
       " 'Emmara',\n",
       " 'Shacondra',\n",
       " 'Brockee',\n",
       " 'Jecory',\n",
       " 'Yaana',\n",
       " 'Zephrey',\n",
       " 'Serul',\n",
       " 'Imandi',\n",
       " 'Raymunt',\n",
       " 'Ovaline',\n",
       " 'Harrilyn',\n",
       " 'Maanas',\n",
       " 'Juvan',\n",
       " 'Kalee',\n",
       " 'Kirlira',\n",
       " 'Xzavion',\n",
       " 'Zahier',\n",
       " 'Nantambu',\n",
       " 'Nouriyah',\n",
       " 'Setesh',\n",
       " 'Delacey',\n",
       " 'Serrena',\n",
       " 'Careli',\n",
       " 'Selamawit',\n",
       " 'Kayesha',\n",
       " 'Lalitha',\n",
       " 'Zoeygrace',\n",
       " 'Shyah',\n",
       " 'Jadison',\n",
       " 'Motie',\n",
       " 'Shallu',\n",
       " 'Farshid',\n",
       " 'Yasmin-Dina',\n",
       " 'Jolee',\n",
       " 'Fareed',\n",
       " 'Esmay',\n",
       " 'Ruwayfi',\n",
       " 'Yennifer',\n",
       " 'Kolawole',\n",
       " 'Chanson',\n",
       " 'Anquavious',\n",
       " 'Bengerman',\n",
       " 'Tahnee-Rae',\n",
       " 'Frosty',\n",
       " 'Nalia',\n",
       " 'Yanice',\n",
       " 'Danali',\n",
       " 'Nicohle',\n",
       " 'Veryl',\n",
       " 'Yenny',\n",
       " 'Zysean',\n",
       " 'Jihy',\n",
       " 'Obe',\n",
       " 'Tapatha',\n",
       " 'Tam',\n",
       " 'Wynala-Tiwa',\n",
       " 'Dawyne',\n",
       " 'Annaleah',\n",
       " 'Aszure',\n",
       " 'Eureka',\n",
       " 'Enki',\n",
       " 'Cubia',\n",
       " 'Parwati',\n",
       " 'Parshant',\n",
       " 'Kaedence',\n",
       " 'Narice',\n",
       " 'Rhyleagh',\n",
       " 'Tellie',\n",
       " 'Louard',\n",
       " 'Reenhard',\n",
       " 'Athenamarie',\n",
       " 'Tarron',\n",
       " 'Mukilash',\n",
       " 'Latichia',\n",
       " 'Tajwar',\n",
       " 'Roeshelle',\n",
       " 'Adelayde',\n",
       " 'Euthimia',\n",
       " 'Milenko',\n",
       " 'Layka',\n",
       " 'Summa-Asha',\n",
       " 'Glendal',\n",
       " 'Vesenia',\n",
       " 'Alyss',\n",
       " 'Lindora',\n",
       " 'Rial',\n",
       " 'Gertraud',\n",
       " 'Nyanuar',\n",
       " 'Abagael',\n",
       " 'Tamim',\n",
       " 'Enry',\n",
       " 'Fu',\n",
       " 'Rhinikea',\n",
       " 'Yumiko',\n",
       " 'Jevonn',\n",
       " 'Desheena',\n",
       " 'Lealon',\n",
       " 'Panayiota',\n",
       " 'Takreem',\n",
       " 'Zenja',\n",
       " 'Chynae',\n",
       " 'Yanise',\n",
       " 'Anavela',\n",
       " 'Kyja',\n",
       " 'Seydi',\n",
       " 'Lili-Ilona',\n",
       " 'Anzley',\n",
       " 'Odete',\n",
       " 'Venerdina',\n",
       " 'Chystal',\n",
       " 'Shaquile',\n",
       " 'Lencola',\n",
       " 'Deovian',\n",
       " 'Horeb',\n",
       " 'Jeoy',\n",
       " 'Sapphire-Rose',\n",
       " 'Fenisha',\n",
       " 'Ahsaki',\n",
       " 'Shameka',\n",
       " 'Madyx',\n",
       " 'Lucian',\n",
       " 'Jaeana',\n",
       " 'Ghadah',\n",
       " 'Alwina',\n",
       " 'Dezere',\n",
       " 'Jhanet',\n",
       " 'Aumya',\n",
       " 'Netra',\n",
       " 'Shanez',\n",
       " 'Karicia',\n",
       " 'Leodegario',\n",
       " 'Bonnielou',\n",
       " 'Esabel',\n",
       " 'Charone',\n",
       " 'Lendell',\n",
       " 'Tyshai',\n",
       " 'Aimo',\n",
       " 'Kindrick',\n",
       " 'Daquanna',\n",
       " 'Kaleera',\n",
       " 'Rossim',\n",
       " 'Susano',\n",
       " 'Varish',\n",
       " 'Lacondra',\n",
       " 'Kyya',\n",
       " 'Johnnye',\n",
       " 'Zayuri',\n",
       " 'Teletha',\n",
       " 'Hafezullah',\n",
       " 'Campion',\n",
       " 'Tshawn',\n",
       " 'Bethzabeth',\n",
       " 'Nihira',\n",
       " 'Kalynne',\n",
       " 'Emit',\n",
       " 'Deanndra',\n",
       " 'Kahliel',\n",
       " 'Jaedon',\n",
       " 'Tylia',\n",
       " 'Teshon',\n",
       " 'Serena-Lee',\n",
       " 'Saied',\n",
       " 'Bozidarka',\n",
       " 'Nashid',\n",
       " 'Jaliel',\n",
       " 'Dominquie',\n",
       " 'Rebekah-Ann',\n",
       " 'Harvana',\n",
       " 'Talera',\n",
       " 'Zile',\n",
       " 'Johm',\n",
       " 'Lekeshia',\n",
       " 'Jarryn',\n",
       " 'Loudes',\n",
       " 'Alexa-Rae',\n",
       " 'Blaxlan',\n",
       " 'Annison',\n",
       " 'Bellarae',\n",
       " 'Teea',\n",
       " 'Joash',\n",
       " 'Majd',\n",
       " 'Michaela-Anne',\n",
       " 'Ashae',\n",
       " 'Daquante',\n",
       " 'Tempestt',\n",
       " 'Noarene',\n",
       " 'Chelcie',\n",
       " 'Olexa',\n",
       " 'Bijali',\n",
       " 'Melanie-Jayne',\n",
       " 'Clemmie-Louisa',\n",
       " 'Latunya',\n",
       " 'Sophialynn',\n",
       " 'Hayan',\n",
       " 'Imaman',\n",
       " 'Shawonna',\n",
       " 'Delondo',\n",
       " 'Yanel',\n",
       " 'Fiesta',\n",
       " 'Arielah',\n",
       " 'Kaen',\n",
       " 'Lito',\n",
       " 'Szabina',\n",
       " 'Ignatius',\n",
       " 'Moktada',\n",
       " 'Kwesi',\n",
       " 'Llanet',\n",
       " 'Ibrahimi',\n",
       " 'Shakuntala',\n",
       " 'Lilike',\n",
       " 'Sebastino',\n",
       " 'Ragan',\n",
       " 'Leonidus',\n",
       " 'Tessalyn',\n",
       " 'Liladevi',\n",
       " 'Ardonia',\n",
       " 'Brynson',\n",
       " 'Miyesha',\n",
       " 'Terry-Ann',\n",
       " 'Gisely',\n",
       " 'Chinwe',\n",
       " 'Kandrea',\n",
       " 'Najah',\n",
       " 'Ghantoli',\n",
       " 'Chanda',\n",
       " 'Cardis',\n",
       " 'Jese-James',\n",
       " 'Keddrick',\n",
       " 'Aditiya',\n",
       " 'Taysan',\n",
       " 'Dannyelle',\n",
       " 'Nimish',\n",
       " 'Charvey',\n",
       " 'Gentri',\n",
       " 'Cashana',\n",
       " 'Allejah',\n",
       " 'Meca',\n",
       " 'Taneiya',\n",
       " 'Arieli',\n",
       " 'Davidjoseph',\n",
       " 'Dejia',\n",
       " 'Acari',\n",
       " 'Sophie-Ann',\n",
       " 'Daeshyla',\n",
       " 'Shellia',\n",
       " 'Kalai',\n",
       " 'Alohna',\n",
       " 'Avangalena',\n",
       " 'Seoul',\n",
       " 'Palvi',\n",
       " 'Mazel',\n",
       " 'Usmaan',\n",
       " 'Negan',\n",
       " 'Amadu',\n",
       " 'Noeline',\n",
       " 'Jeanmichael',\n",
       " 'Norelia',\n",
       " 'Kimar',\n",
       " 'Klint',\n",
       " 'Jarreau',\n",
       " 'Allabaksh',\n",
       " 'Shovon',\n",
       " 'Christopher-Peter',\n",
       " 'Kannen',\n",
       " 'Theolia',\n",
       " 'Christopoula',\n",
       " 'Delmis',\n",
       " 'Rob',\n",
       " 'Johaun',\n",
       " 'Photina',\n",
       " 'Timotheos',\n",
       " 'Zannia',\n",
       " 'Marjie',\n",
       " 'Samsara',\n",
       " 'Deairra',\n",
       " 'Basile',\n",
       " 'Denishea',\n",
       " 'Rae-Marie',\n",
       " 'Deaghlan',\n",
       " 'Mav',\n",
       " 'Shahrier',\n",
       " 'Cassen',\n",
       " 'Alexsandar',\n",
       " 'Jovontae',\n",
       " 'Lancia',\n",
       " 'Merrideth',\n",
       " 'Tah-Naya',\n",
       " 'Copeland',\n",
       " 'Dartagnan',\n",
       " 'Aiyannah',\n",
       " 'Raees',\n",
       " 'Amelia-Lee',\n",
       " 'Katherynn',\n",
       " 'Maedot',\n",
       " 'Karla-Sara-Underun',\n",
       " 'Isaias',\n",
       " 'Sessily',\n",
       " 'Malillani',\n",
       " 'Tarren',\n",
       " 'Cailie',\n",
       " 'Yelisey',\n",
       " 'Albirta',\n",
       " 'Dailany',\n",
       " 'Emmarita',\n",
       " 'Khair',\n",
       " 'Todd-Leonard',\n",
       " 'Melissa-Lee-Ann',\n",
       " 'Anchal',\n",
       " 'Rhania',\n",
       " \"La'Keisha\",\n",
       " 'Countess',\n",
       " 'Zeva',\n",
       " 'Zaniaya',\n",
       " 'Fulei',\n",
       " 'Sarriah',\n",
       " 'Punia',\n",
       " 'Qaadir',\n",
       " 'Anzar',\n",
       " 'Daquin',\n",
       " 'Mccray',\n",
       " 'Taianna',\n",
       " 'Diari',\n",
       " 'Tammi-Lea',\n",
       " 'Mondars',\n",
       " 'Julieana',\n",
       " 'Shishul',\n",
       " 'Teneshia',\n",
       " 'Daman',\n",
       " 'Rannon',\n",
       " 'Jany',\n",
       " 'Chrissooula',\n",
       " 'Ramdutt',\n",
       " 'Bupal',\n",
       " 'Omprakash',\n",
       " 'Kecha',\n",
       " 'Joquita',\n",
       " 'Takhia',\n",
       " 'Risabh',\n",
       " 'Jukka',\n",
       " 'Xachery',\n",
       " 'Chidiebere',\n",
       " 'Bindvasini',\n",
       " 'Teniola',\n",
       " 'Luisdavid',\n",
       " 'Remya',\n",
       " 'Parven',\n",
       " 'Regin',\n",
       " 'Tipper',\n",
       " 'Sule',\n",
       " 'Jaivan',\n",
       " 'Kalira',\n",
       " 'Heidiann',\n",
       " 'Magen',\n",
       " 'Kensy',\n",
       " 'Daizee',\n",
       " 'Jemini',\n",
       " 'Colista',\n",
       " 'Ballard',\n",
       " 'Lavante',\n",
       " 'Aikaterine',\n",
       " 'Valarmathi',\n",
       " 'Sandira',\n",
       " 'Ameleiyah',\n",
       " 'Ganeve',\n",
       " 'Vontarius',\n",
       " 'Debraha',\n",
       " 'Pavi',\n",
       " 'Tatrina',\n",
       " 'Annelys',\n",
       " 'Macarthur',\n",
       " 'Danielle-Nicole',\n",
       " 'Savant',\n",
       " 'Micaela',\n",
       " 'Nethica',\n",
       " 'Keyna',\n",
       " 'Tanecia',\n",
       " 'Nayaliz',\n",
       " 'Aleighya',\n",
       " 'Shekitha',\n",
       " 'Shrivika',\n",
       " 'Lea-Ann',\n",
       " 'Ann-Patricia',\n",
       " 'Jezekiel',\n",
       " 'Lauri-Sue',\n",
       " 'Sainimili',\n",
       " 'Reiana',\n",
       " 'Drayk',\n",
       " 'Zamair',\n",
       " 'Luzelle',\n",
       " 'Edner',\n",
       " 'Teagann',\n",
       " 'Temica',\n",
       " 'Norely',\n",
       " 'Dannelle',\n",
       " 'Benhard',\n",
       " 'Bernestine',\n",
       " 'Philina',\n",
       " 'Mkaylah',\n",
       " 'Meryn',\n",
       " 'Jamyson',\n",
       " 'Tayen',\n",
       " 'Malette',\n",
       " 'Tylenn',\n",
       " 'Charlee-Louise',\n",
       " 'Leigh-Anthony',\n",
       " 'Cayle',\n",
       " 'Kusumlata',\n",
       " 'Partick',\n",
       " 'Jayvia',\n",
       " 'Xoaquin',\n",
       " 'Nyar',\n",
       " 'Mescal',\n",
       " 'Sohum',\n",
       " 'Mealea',\n",
       " 'Abrienne',\n",
       " 'Keyondra',\n",
       " 'Arthor',\n",
       " 'Latita',\n",
       " 'Tinneale',\n",
       " 'Cheerful',\n",
       " 'Prabhatyashi',\n",
       " 'Timthoy',\n",
       " 'Jaes',\n",
       " 'Leanza',\n",
       " 'Briahnon',\n",
       " 'Manish',\n",
       " 'Sahaja',\n",
       " 'Sherrie',\n",
       " 'Anasztazia',\n",
       " 'Chrishani',\n",
       " 'Sarani',\n",
       " 'Ivell',\n",
       " 'Ainstie',\n",
       " 'Jaed',\n",
       " 'Bentely',\n",
       " 'Dipanshi',\n",
       " 'Earlesha',\n",
       " 'Schneider',\n",
       " 'Latiesha-Jayne',\n",
       " 'Shann',\n",
       " 'Jacquelyn',\n",
       " 'Mikahlia',\n",
       " 'Kahniyah',\n",
       " 'Eleasar',\n",
       " 'Jodi-Anne',\n",
       " 'Krystal-Marie',\n",
       " 'Sidakpreet',\n",
       " 'Chelseaann',\n",
       " 'Jontyler',\n",
       " 'Philippine',\n",
       " 'Rayhaan',\n",
       " 'Mohammedshayban',\n",
       " 'Jaymar',\n",
       " 'Meridi',\n",
       " 'Mangelal',\n",
       " 'Jermarcus',\n",
       " 'Jessie-Ellen',\n",
       " 'Krystal-Jane',\n",
       " 'Reade',\n",
       " 'Khileigh',\n",
       " 'Tamorion',\n",
       " 'Taino',\n",
       " 'Algie',\n",
       " 'Harlynne',\n",
       " 'Gursanjh',\n",
       " ...}"
      ]
     },
     "execution_count": 271,
     "metadata": {},
     "output_type": "execute_result"
    }
   ],
   "source": [
    "set(df.Name)"
   ]
  },
  {
   "cell_type": "code",
   "execution_count": 263,
   "metadata": {},
   "outputs": [
    {
     "name": "stdout",
     "output_type": "stream",
     "text": [
      "<class 'pandas.core.frame.DataFrame'>\n",
      "RangeIndex: 147269 entries, 0 to 147268\n",
      "Data columns (total 4 columns):\n",
      " #   Column       Non-Null Count   Dtype  \n",
      "---  ------       --------------   -----  \n",
      " 0   Name         147269 non-null  object \n",
      " 1   Gender       147269 non-null  object \n",
      " 2   Count        147269 non-null  int64  \n",
      " 3   Probability  147269 non-null  float64\n",
      "dtypes: float64(1), int64(1), object(2)\n",
      "memory usage: 4.5+ MB\n"
     ]
    }
   ],
   "source": [
    "df.info()"
   ]
  },
  {
   "cell_type": "code",
   "execution_count": 264,
   "metadata": {},
   "outputs": [],
   "source": [
    "import pandas as pd"
   ]
  },
  {
   "cell_type": "code",
   "execution_count": 265,
   "metadata": {},
   "outputs": [
    {
     "data": {
      "text/plain": [
       "'1.2.2'"
      ]
     },
     "execution_count": 265,
     "metadata": {},
     "output_type": "execute_result"
    }
   ],
   "source": [
    "pd.__version__"
   ]
  },
  {
   "cell_type": "code",
   "execution_count": 266,
   "metadata": {},
   "outputs": [],
   "source": [
    "df_new = pd.read_csv('https://gist.githubusercontent.com/seankross/a412dfbd88b3db70b74b/raw/5f23f993cd87c283ce766e7ac6b329ee7cc2e1d1/mtcars.csv')"
   ]
  },
  {
   "cell_type": "code",
   "execution_count": 267,
   "metadata": {},
   "outputs": [
    {
     "data": {
      "text/plain": [
       "['Mazda RX4',\n",
       " 'Mazda RX4 Wag',\n",
       " 'Datsun 710',\n",
       " 'Hornet 4 Drive',\n",
       " 'Hornet Sportabout',\n",
       " 'Valiant',\n",
       " 'Duster 360',\n",
       " 'Merc 240D',\n",
       " 'Merc 230',\n",
       " 'Merc 280',\n",
       " 'Merc 280C',\n",
       " 'Merc 450SE',\n",
       " 'Merc 450SL',\n",
       " 'Merc 450SLC',\n",
       " 'Cadillac Fleetwood',\n",
       " 'Lincoln Continental',\n",
       " 'Chrysler Imperial',\n",
       " 'Fiat 128',\n",
       " 'Honda Civic',\n",
       " 'Toyota Corolla',\n",
       " 'Toyota Corona',\n",
       " 'Dodge Challenger',\n",
       " 'AMC Javelin',\n",
       " 'Camaro Z28',\n",
       " 'Pontiac Firebird',\n",
       " 'Fiat X1-9',\n",
       " 'Porsche 914-2',\n",
       " 'Lotus Europa',\n",
       " 'Ford Pantera L',\n",
       " 'Ferrari Dino',\n",
       " 'Maserati Bora',\n",
       " 'Volvo 142E']"
      ]
     },
     "execution_count": 267,
     "metadata": {},
     "output_type": "execute_result"
    }
   ],
   "source": [
    "list(df_new.model)"
   ]
  },
  {
   "cell_type": "code",
   "execution_count": 272,
   "metadata": {},
   "outputs": [],
   "source": [
    "# set issue in this notebook\n",
    "\n",
    "# make sure you are not overwriting the built in functions of python "
   ]
  },
  {
   "cell_type": "code",
   "execution_count": 273,
   "metadata": {},
   "outputs": [
    {
     "data": {
      "text/plain": [
       "{4, 6, 8}"
      ]
     },
     "execution_count": 273,
     "metadata": {},
     "output_type": "execute_result"
    }
   ],
   "source": [
    "set(df_new.cyl)"
   ]
  },
  {
   "cell_type": "code",
   "execution_count": 274,
   "metadata": {},
   "outputs": [],
   "source": [
    "# Modules and Function"
   ]
  },
  {
   "cell_type": "code",
   "execution_count": 275,
   "metadata": {},
   "outputs": [
    {
     "data": {
      "text/plain": [
       "81"
      ]
     },
     "execution_count": 275,
     "metadata": {},
     "output_type": "execute_result"
    }
   ],
   "source": [
    "pow(3,4)"
   ]
  },
  {
   "cell_type": "code",
   "execution_count": 277,
   "metadata": {},
   "outputs": [
    {
     "data": {
      "text/plain": [
       "['ArithmeticError',\n",
       " 'AssertionError',\n",
       " 'AttributeError',\n",
       " 'BaseException',\n",
       " 'BlockingIOError',\n",
       " 'BrokenPipeError',\n",
       " 'BufferError',\n",
       " 'BytesWarning',\n",
       " 'ChildProcessError',\n",
       " 'ConnectionAbortedError',\n",
       " 'ConnectionError',\n",
       " 'ConnectionRefusedError',\n",
       " 'ConnectionResetError',\n",
       " 'DeprecationWarning',\n",
       " 'EOFError',\n",
       " 'Ellipsis',\n",
       " 'EnvironmentError',\n",
       " 'Exception',\n",
       " 'False',\n",
       " 'FileExistsError',\n",
       " 'FileNotFoundError',\n",
       " 'FloatingPointError',\n",
       " 'FutureWarning',\n",
       " 'GeneratorExit',\n",
       " 'IOError',\n",
       " 'ImportError',\n",
       " 'ImportWarning',\n",
       " 'IndentationError',\n",
       " 'IndexError',\n",
       " 'InterruptedError',\n",
       " 'IsADirectoryError',\n",
       " 'KeyError',\n",
       " 'KeyboardInterrupt',\n",
       " 'LookupError',\n",
       " 'MemoryError',\n",
       " 'ModuleNotFoundError',\n",
       " 'NameError',\n",
       " 'None',\n",
       " 'NotADirectoryError',\n",
       " 'NotImplemented',\n",
       " 'NotImplementedError',\n",
       " 'OSError',\n",
       " 'OverflowError',\n",
       " 'PendingDeprecationWarning',\n",
       " 'PermissionError',\n",
       " 'ProcessLookupError',\n",
       " 'RecursionError',\n",
       " 'ReferenceError',\n",
       " 'ResourceWarning',\n",
       " 'RuntimeError',\n",
       " 'RuntimeWarning',\n",
       " 'StopAsyncIteration',\n",
       " 'StopIteration',\n",
       " 'SyntaxError',\n",
       " 'SyntaxWarning',\n",
       " 'SystemError',\n",
       " 'SystemExit',\n",
       " 'TabError',\n",
       " 'TimeoutError',\n",
       " 'True',\n",
       " 'TypeError',\n",
       " 'UnboundLocalError',\n",
       " 'UnicodeDecodeError',\n",
       " 'UnicodeEncodeError',\n",
       " 'UnicodeError',\n",
       " 'UnicodeTranslateError',\n",
       " 'UnicodeWarning',\n",
       " 'UserWarning',\n",
       " 'ValueError',\n",
       " 'Warning',\n",
       " 'ZeroDivisionError',\n",
       " '__IPYTHON__',\n",
       " '__build_class__',\n",
       " '__debug__',\n",
       " '__doc__',\n",
       " '__import__',\n",
       " '__loader__',\n",
       " '__name__',\n",
       " '__package__',\n",
       " '__spec__',\n",
       " 'abs',\n",
       " 'all',\n",
       " 'any',\n",
       " 'ascii',\n",
       " 'bin',\n",
       " 'bool',\n",
       " 'breakpoint',\n",
       " 'bytearray',\n",
       " 'bytes',\n",
       " 'callable',\n",
       " 'chr',\n",
       " 'classmethod',\n",
       " 'compile',\n",
       " 'complex',\n",
       " 'copyright',\n",
       " 'credits',\n",
       " 'delattr',\n",
       " 'dict',\n",
       " 'dir',\n",
       " 'display',\n",
       " 'divmod',\n",
       " 'enumerate',\n",
       " 'eval',\n",
       " 'exec',\n",
       " 'filter',\n",
       " 'float',\n",
       " 'format',\n",
       " 'frozenset',\n",
       " 'get_ipython',\n",
       " 'getattr',\n",
       " 'globals',\n",
       " 'hasattr',\n",
       " 'hash',\n",
       " 'help',\n",
       " 'hex',\n",
       " 'id',\n",
       " 'input',\n",
       " 'int',\n",
       " 'isinstance',\n",
       " 'issubclass',\n",
       " 'iter',\n",
       " 'len',\n",
       " 'license',\n",
       " 'list',\n",
       " 'locals',\n",
       " 'map',\n",
       " 'max',\n",
       " 'memoryview',\n",
       " 'min',\n",
       " 'next',\n",
       " 'object',\n",
       " 'oct',\n",
       " 'open',\n",
       " 'ord',\n",
       " 'pow',\n",
       " 'print',\n",
       " 'property',\n",
       " 'range',\n",
       " 'repr',\n",
       " 'reversed',\n",
       " 'round',\n",
       " 'set',\n",
       " 'setattr',\n",
       " 'slice',\n",
       " 'sorted',\n",
       " 'staticmethod',\n",
       " 'str',\n",
       " 'sum',\n",
       " 'super',\n",
       " 'tuple',\n",
       " 'type',\n",
       " 'vars',\n",
       " 'zip']"
      ]
     },
     "execution_count": 277,
     "metadata": {},
     "output_type": "execute_result"
    }
   ],
   "source": [
    "dir(__builtins__)"
   ]
  },
  {
   "cell_type": "code",
   "execution_count": 278,
   "metadata": {},
   "outputs": [
    {
     "data": {
      "text/plain": [
       "['__call__',\n",
       " '__class__',\n",
       " '__delattr__',\n",
       " '__dir__',\n",
       " '__doc__',\n",
       " '__eq__',\n",
       " '__format__',\n",
       " '__ge__',\n",
       " '__getattribute__',\n",
       " '__gt__',\n",
       " '__hash__',\n",
       " '__init__',\n",
       " '__init_subclass__',\n",
       " '__le__',\n",
       " '__lt__',\n",
       " '__module__',\n",
       " '__name__',\n",
       " '__ne__',\n",
       " '__new__',\n",
       " '__qualname__',\n",
       " '__reduce__',\n",
       " '__reduce_ex__',\n",
       " '__repr__',\n",
       " '__self__',\n",
       " '__setattr__',\n",
       " '__sizeof__',\n",
       " '__str__',\n",
       " '__subclasshook__',\n",
       " '__text_signature__']"
      ]
     },
     "execution_count": 278,
     "metadata": {},
     "output_type": "execute_result"
    }
   ],
   "source": [
    "dir(__import__)"
   ]
  },
  {
   "cell_type": "code",
   "execution_count": 279,
   "metadata": {},
   "outputs": [
    {
     "data": {
      "text/plain": [
       "['__add__',\n",
       " '__class__',\n",
       " '__contains__',\n",
       " '__delattr__',\n",
       " '__dir__',\n",
       " '__doc__',\n",
       " '__eq__',\n",
       " '__format__',\n",
       " '__ge__',\n",
       " '__getattribute__',\n",
       " '__getitem__',\n",
       " '__getnewargs__',\n",
       " '__gt__',\n",
       " '__hash__',\n",
       " '__init__',\n",
       " '__init_subclass__',\n",
       " '__iter__',\n",
       " '__le__',\n",
       " '__len__',\n",
       " '__lt__',\n",
       " '__mod__',\n",
       " '__mul__',\n",
       " '__ne__',\n",
       " '__new__',\n",
       " '__reduce__',\n",
       " '__reduce_ex__',\n",
       " '__repr__',\n",
       " '__rmod__',\n",
       " '__rmul__',\n",
       " '__setattr__',\n",
       " '__sizeof__',\n",
       " '__str__',\n",
       " '__subclasshook__',\n",
       " 'capitalize',\n",
       " 'casefold',\n",
       " 'center',\n",
       " 'count',\n",
       " 'encode',\n",
       " 'endswith',\n",
       " 'expandtabs',\n",
       " 'find',\n",
       " 'format',\n",
       " 'format_map',\n",
       " 'index',\n",
       " 'isalnum',\n",
       " 'isalpha',\n",
       " 'isascii',\n",
       " 'isdecimal',\n",
       " 'isdigit',\n",
       " 'isidentifier',\n",
       " 'islower',\n",
       " 'isnumeric',\n",
       " 'isprintable',\n",
       " 'isspace',\n",
       " 'istitle',\n",
       " 'isupper',\n",
       " 'join',\n",
       " 'ljust',\n",
       " 'lower',\n",
       " 'lstrip',\n",
       " 'maketrans',\n",
       " 'partition',\n",
       " 'replace',\n",
       " 'rfind',\n",
       " 'rindex',\n",
       " 'rjust',\n",
       " 'rpartition',\n",
       " 'rsplit',\n",
       " 'rstrip',\n",
       " 'split',\n",
       " 'splitlines',\n",
       " 'startswith',\n",
       " 'strip',\n",
       " 'swapcase',\n",
       " 'title',\n",
       " 'translate',\n",
       " 'upper',\n",
       " 'zfill']"
      ]
     },
     "execution_count": 279,
     "metadata": {},
     "output_type": "execute_result"
    }
   ],
   "source": [
    "dir(__name__)"
   ]
  },
  {
   "cell_type": "code",
   "execution_count": 280,
   "metadata": {},
   "outputs": [
    {
     "data": {
      "text/plain": [
       "['__bool__',\n",
       " '__class__',\n",
       " '__delattr__',\n",
       " '__dir__',\n",
       " '__doc__',\n",
       " '__eq__',\n",
       " '__format__',\n",
       " '__ge__',\n",
       " '__getattribute__',\n",
       " '__gt__',\n",
       " '__hash__',\n",
       " '__init__',\n",
       " '__init_subclass__',\n",
       " '__le__',\n",
       " '__lt__',\n",
       " '__ne__',\n",
       " '__new__',\n",
       " '__reduce__',\n",
       " '__reduce_ex__',\n",
       " '__repr__',\n",
       " '__setattr__',\n",
       " '__sizeof__',\n",
       " '__str__',\n",
       " '__subclasshook__']"
      ]
     },
     "execution_count": 280,
     "metadata": {},
     "output_type": "execute_result"
    }
   ],
   "source": [
    "dir(__package__)"
   ]
  },
  {
   "cell_type": "code",
   "execution_count": 281,
   "metadata": {},
   "outputs": [
    {
     "name": "stdout",
     "output_type": "stream",
     "text": [
      "Help on built-in function max in module builtins:\n",
      "\n",
      "max(...)\n",
      "    max(iterable, *[, default=obj, key=func]) -> value\n",
      "    max(arg1, arg2, *args, *[, key=func]) -> value\n",
      "    \n",
      "    With a single iterable argument, return its biggest item. The\n",
      "    default keyword-only argument specifies an object to return if\n",
      "    the provided iterable is empty.\n",
      "    With two or more arguments, return the largest argument.\n",
      "\n"
     ]
    }
   ],
   "source": [
    "help(max)"
   ]
  },
  {
   "cell_type": "code",
   "execution_count": 282,
   "metadata": {},
   "outputs": [],
   "source": [
    "import math"
   ]
  },
  {
   "cell_type": "code",
   "execution_count": 283,
   "metadata": {},
   "outputs": [
    {
     "data": {
      "text/plain": [
       "9.433981132056603"
      ]
     },
     "execution_count": 283,
     "metadata": {},
     "output_type": "execute_result"
    }
   ],
   "source": [
    "math.sqrt(89)"
   ]
  },
  {
   "cell_type": "code",
   "execution_count": 286,
   "metadata": {},
   "outputs": [
    {
     "name": "stdout",
     "output_type": "stream",
     "text": [
      "['__doc__', '__file__', '__loader__', '__name__', '__package__', '__spec__', 'acos', 'acosh', 'asin', 'asinh', 'atan', 'atan2', 'atanh', 'ceil', 'comb', 'copysign', 'cos', 'cosh', 'degrees', 'dist', 'e', 'erf', 'erfc', 'exp', 'expm1', 'fabs', 'factorial', 'floor', 'fmod', 'frexp', 'fsum', 'gamma', 'gcd', 'hypot', 'inf', 'isclose', 'isfinite', 'isinf', 'isnan', 'isqrt', 'ldexp', 'lgamma', 'log', 'log10', 'log1p', 'log2', 'modf', 'nan', 'perm', 'pi', 'pow', 'prod', 'radians', 'remainder', 'sin', 'sinh', 'sqrt', 'tan', 'tanh', 'tau', 'trunc']\n"
     ]
    }
   ],
   "source": [
    "print(dir(math))"
   ]
  },
  {
   "cell_type": "code",
   "execution_count": 287,
   "metadata": {},
   "outputs": [
    {
     "data": {
      "text/plain": [
       "'This module provides access to the mathematical functions\\ndefined by the C standard.'"
      ]
     },
     "execution_count": 287,
     "metadata": {},
     "output_type": "execute_result"
    }
   ],
   "source": [
    "math.__doc__"
   ]
  },
  {
   "cell_type": "code",
   "execution_count": 289,
   "metadata": {},
   "outputs": [],
   "source": [
    "import datetime"
   ]
  },
  {
   "cell_type": "code",
   "execution_count": 290,
   "metadata": {},
   "outputs": [
    {
     "data": {
      "text/plain": [
       "datetime.datetime(2021, 4, 10, 16, 8, 57, 489478)"
      ]
     },
     "execution_count": 290,
     "metadata": {},
     "output_type": "execute_result"
    }
   ],
   "source": [
    "datetime.datetime.now()"
   ]
  },
  {
   "cell_type": "code",
   "execution_count": null,
   "metadata": {},
   "outputs": [],
   "source": [
    "# if statememnts"
   ]
  },
  {
   "cell_type": "code",
   "execution_count": 291,
   "metadata": {},
   "outputs": [],
   "source": [
    "fruits = ['apple','orange','banana','cookies']"
   ]
  },
  {
   "cell_type": "code",
   "execution_count": 292,
   "metadata": {},
   "outputs": [],
   "source": [
    "fav_fruit = 'apple'"
   ]
  },
  {
   "cell_type": "code",
   "execution_count": 293,
   "metadata": {},
   "outputs": [
    {
     "name": "stdout",
     "output_type": "stream",
     "text": [
      "apple\n",
      "none\n",
      "none\n",
      "none\n"
     ]
    }
   ],
   "source": [
    "for fruit in fruits:\n",
    "    if fruit == fav_fruit:\n",
    "        print(fruit)\n",
    "    else:\n",
    "        print('none')"
   ]
  },
  {
   "cell_type": "markdown",
   "metadata": {},
   "source": [
    "==\n",
    "!=\n",
    ">=\n",
    "<=\n",
    "<\n",
    ">"
   ]
  },
  {
   "cell_type": "code",
   "execution_count": null,
   "metadata": {},
   "outputs": [],
   "source": [
    "# list comprehension"
   ]
  },
  {
   "cell_type": "code",
   "execution_count": 294,
   "metadata": {},
   "outputs": [
    {
     "data": {
      "text/plain": [
       "array([120,  23,  34,  45,  56,  67,  78,  89])"
      ]
     },
     "execution_count": 294,
     "metadata": {},
     "output_type": "execute_result"
    }
   ],
   "source": [
    "d"
   ]
  },
  {
   "cell_type": "code",
   "execution_count": 295,
   "metadata": {},
   "outputs": [],
   "source": [
    "d = list(d)"
   ]
  },
  {
   "cell_type": "code",
   "execution_count": 296,
   "metadata": {},
   "outputs": [
    {
     "data": {
      "text/plain": [
       "[120, 23, 34, 45, 56, 67, 78, 89]"
      ]
     },
     "execution_count": 296,
     "metadata": {},
     "output_type": "execute_result"
    }
   ],
   "source": [
    "d"
   ]
  },
  {
   "cell_type": "code",
   "execution_count": 297,
   "metadata": {},
   "outputs": [
    {
     "data": {
      "text/plain": [
       "[14400, 529, 1156, 2025, 3136, 4489, 6084, 7921]"
      ]
     },
     "execution_count": 297,
     "metadata": {},
     "output_type": "execute_result"
    }
   ],
   "source": [
    "[a**2 for a in d]"
   ]
  },
  {
   "cell_type": "code",
   "execution_count": null,
   "metadata": {},
   "outputs": [],
   "source": [
    "# string operations"
   ]
  },
  {
   "cell_type": "code",
   "execution_count": 298,
   "metadata": {},
   "outputs": [],
   "source": [
    "sent1 = '''With the growing adoption of \"machine learning\" techniques, there is an increasing demand for research towards making machine learning models transparent and interpretable'''"
   ]
  },
  {
   "cell_type": "code",
   "execution_count": 299,
   "metadata": {},
   "outputs": [
    {
     "data": {
      "text/plain": [
       "'With the growing adoption of \"machine learning\" techniques, there is an increasing demand for research towards making machine learning models transparent and interpretable'"
      ]
     },
     "execution_count": 299,
     "metadata": {},
     "output_type": "execute_result"
    }
   ],
   "source": [
    "sent1"
   ]
  },
  {
   "cell_type": "code",
   "execution_count": 300,
   "metadata": {},
   "outputs": [
    {
     "data": {
      "text/plain": [
       "'WITH THE GROWING ADOPTION OF \"MACHINE LEARNING\" TECHNIQUES, THERE IS AN INCREASING DEMAND FOR RESEARCH TOWARDS MAKING MACHINE LEARNING MODELS TRANSPARENT AND INTERPRETABLE'"
      ]
     },
     "execution_count": 300,
     "metadata": {},
     "output_type": "execute_result"
    }
   ],
   "source": [
    "sent1.upper()"
   ]
  },
  {
   "cell_type": "code",
   "execution_count": 301,
   "metadata": {},
   "outputs": [
    {
     "data": {
      "text/plain": [
       "'with the growing adoption of \"machine learning\" techniques, there is an increasing demand for research towards making machine learning models transparent and interpretable'"
      ]
     },
     "execution_count": 301,
     "metadata": {},
     "output_type": "execute_result"
    }
   ],
   "source": [
    "sent1.lower()"
   ]
  },
  {
   "cell_type": "code",
   "execution_count": 302,
   "metadata": {},
   "outputs": [
    {
     "data": {
      "text/plain": [
       "'With the growing adoption of \"machine learning\" techniques, there is an increasing demand for research towards making machine learning models transparent and interpretableWith the growing adoption of \"machine learning\" techniques, there is an increasing demand for research towards making machine learning models transparent and interpretableWith the growing adoption of \"machine learning\" techniques, there is an increasing demand for research towards making machine learning models transparent and interpretable'"
      ]
     },
     "execution_count": 302,
     "metadata": {},
     "output_type": "execute_result"
    }
   ],
   "source": [
    "sent1*3"
   ]
  },
  {
   "cell_type": "code",
   "execution_count": 303,
   "metadata": {},
   "outputs": [
    {
     "data": {
      "text/plain": [
       "'With the growing adoption of \"machine learning\" techniques, there is an increasing demand for research towards making machine learning models transparent and interpretable'"
      ]
     },
     "execution_count": 303,
     "metadata": {},
     "output_type": "execute_result"
    }
   ],
   "source": [
    "sent1"
   ]
  },
  {
   "cell_type": "code",
   "execution_count": 306,
   "metadata": {},
   "outputs": [],
   "source": [
    "sent1 = '''   With the growing adoption of \"machine learning\"    techniques, there is an increasing demand for  '''"
   ]
  },
  {
   "cell_type": "code",
   "execution_count": 307,
   "metadata": {},
   "outputs": [
    {
     "data": {
      "text/plain": [
       "'   With the growing adoption of \"machine learning\"    techniques, there is an increasing demand for  '"
      ]
     },
     "execution_count": 307,
     "metadata": {},
     "output_type": "execute_result"
    }
   ],
   "source": [
    "sent1"
   ]
  },
  {
   "cell_type": "code",
   "execution_count": 308,
   "metadata": {},
   "outputs": [
    {
     "data": {
      "text/plain": [
       "'With the growing adoption of \"machine learning\"    techniques, there is an increasing demand for'"
      ]
     },
     "execution_count": 308,
     "metadata": {},
     "output_type": "execute_result"
    }
   ],
   "source": [
    "sent1.strip()"
   ]
  },
  {
   "cell_type": "code",
   "execution_count": 309,
   "metadata": {},
   "outputs": [
    {
     "data": {
      "text/plain": [
       "'With the growing adoption of \"machine learning\"    techniques, there is an increasing demand for  '"
      ]
     },
     "execution_count": 309,
     "metadata": {},
     "output_type": "execute_result"
    }
   ],
   "source": [
    "sent1.lstrip()"
   ]
  },
  {
   "cell_type": "code",
   "execution_count": 310,
   "metadata": {},
   "outputs": [
    {
     "data": {
      "text/plain": [
       "'   With the growing adoption of \"machine learning\"    techniques, there is an increasing demand for'"
      ]
     },
     "execution_count": 310,
     "metadata": {},
     "output_type": "execute_result"
    }
   ],
   "source": [
    "sent1.rstrip()"
   ]
  },
  {
   "cell_type": "code",
   "execution_count": 311,
   "metadata": {},
   "outputs": [],
   "source": [
    "sent2 = sent1.split()"
   ]
  },
  {
   "cell_type": "code",
   "execution_count": 312,
   "metadata": {},
   "outputs": [
    {
     "name": "stdout",
     "output_type": "stream",
     "text": [
      "WITH\n",
      "THE\n",
      "GROWING\n",
      "ADOPTION\n",
      "OF\n",
      "\"MACHINE\n",
      "LEARNING\"\n",
      "TECHNIQUES,\n",
      "THERE\n",
      "IS\n",
      "AN\n",
      "INCREASING\n",
      "DEMAND\n",
      "FOR\n"
     ]
    }
   ],
   "source": [
    "for word in sent2:\n",
    "     print(word.upper())"
   ]
  },
  {
   "cell_type": "code",
   "execution_count": null,
   "metadata": {},
   "outputs": [],
   "source": [
    "# reading and getting external data for analysis"
   ]
  },
  {
   "cell_type": "code",
   "execution_count": 313,
   "metadata": {},
   "outputs": [],
   "source": [
    "import pandas as pd"
   ]
  },
  {
   "cell_type": "code",
   "execution_count": 314,
   "metadata": {},
   "outputs": [],
   "source": [
    "df = pd.read_csv('https://archive.ics.uci.edu/ml/machine-learning-databases/auto-mpg/auto-mpg.data',\n",
    "                 header=None,\n",
    "                 sep='\\s+')"
   ]
  },
  {
   "cell_type": "code",
   "execution_count": 315,
   "metadata": {},
   "outputs": [
    {
     "data": {
      "text/html": [
       "<div>\n",
       "<style scoped>\n",
       "    .dataframe tbody tr th:only-of-type {\n",
       "        vertical-align: middle;\n",
       "    }\n",
       "\n",
       "    .dataframe tbody tr th {\n",
       "        vertical-align: top;\n",
       "    }\n",
       "\n",
       "    .dataframe thead th {\n",
       "        text-align: right;\n",
       "    }\n",
       "</style>\n",
       "<table border=\"1\" class=\"dataframe\">\n",
       "  <thead>\n",
       "    <tr style=\"text-align: right;\">\n",
       "      <th></th>\n",
       "      <th>0</th>\n",
       "      <th>1</th>\n",
       "      <th>2</th>\n",
       "      <th>3</th>\n",
       "      <th>4</th>\n",
       "      <th>5</th>\n",
       "      <th>6</th>\n",
       "      <th>7</th>\n",
       "      <th>8</th>\n",
       "    </tr>\n",
       "  </thead>\n",
       "  <tbody>\n",
       "    <tr>\n",
       "      <th>0</th>\n",
       "      <td>18.0</td>\n",
       "      <td>8</td>\n",
       "      <td>307.0</td>\n",
       "      <td>130.0</td>\n",
       "      <td>3504.0</td>\n",
       "      <td>12.0</td>\n",
       "      <td>70</td>\n",
       "      <td>1</td>\n",
       "      <td>chevrolet chevelle malibu</td>\n",
       "    </tr>\n",
       "    <tr>\n",
       "      <th>1</th>\n",
       "      <td>15.0</td>\n",
       "      <td>8</td>\n",
       "      <td>350.0</td>\n",
       "      <td>165.0</td>\n",
       "      <td>3693.0</td>\n",
       "      <td>11.5</td>\n",
       "      <td>70</td>\n",
       "      <td>1</td>\n",
       "      <td>buick skylark 320</td>\n",
       "    </tr>\n",
       "    <tr>\n",
       "      <th>2</th>\n",
       "      <td>18.0</td>\n",
       "      <td>8</td>\n",
       "      <td>318.0</td>\n",
       "      <td>150.0</td>\n",
       "      <td>3436.0</td>\n",
       "      <td>11.0</td>\n",
       "      <td>70</td>\n",
       "      <td>1</td>\n",
       "      <td>plymouth satellite</td>\n",
       "    </tr>\n",
       "    <tr>\n",
       "      <th>3</th>\n",
       "      <td>16.0</td>\n",
       "      <td>8</td>\n",
       "      <td>304.0</td>\n",
       "      <td>150.0</td>\n",
       "      <td>3433.0</td>\n",
       "      <td>12.0</td>\n",
       "      <td>70</td>\n",
       "      <td>1</td>\n",
       "      <td>amc rebel sst</td>\n",
       "    </tr>\n",
       "    <tr>\n",
       "      <th>4</th>\n",
       "      <td>17.0</td>\n",
       "      <td>8</td>\n",
       "      <td>302.0</td>\n",
       "      <td>140.0</td>\n",
       "      <td>3449.0</td>\n",
       "      <td>10.5</td>\n",
       "      <td>70</td>\n",
       "      <td>1</td>\n",
       "      <td>ford torino</td>\n",
       "    </tr>\n",
       "  </tbody>\n",
       "</table>\n",
       "</div>"
      ],
      "text/plain": [
       "      0  1      2      3       4     5   6  7                          8\n",
       "0  18.0  8  307.0  130.0  3504.0  12.0  70  1  chevrolet chevelle malibu\n",
       "1  15.0  8  350.0  165.0  3693.0  11.5  70  1          buick skylark 320\n",
       "2  18.0  8  318.0  150.0  3436.0  11.0  70  1         plymouth satellite\n",
       "3  16.0  8  304.0  150.0  3433.0  12.0  70  1              amc rebel sst\n",
       "4  17.0  8  302.0  140.0  3449.0  10.5  70  1                ford torino"
      ]
     },
     "execution_count": 315,
     "metadata": {},
     "output_type": "execute_result"
    }
   ],
   "source": [
    "df.head()"
   ]
  },
  {
   "cell_type": "code",
   "execution_count": 316,
   "metadata": {},
   "outputs": [
    {
     "data": {
      "text/plain": [
       "'1. mpg: continuous\\n2. cylinders: multi-valued discrete\\n3. displacement: continuous\\n4. horsepower: continuous\\n5. weight: continuous\\n6. acceleration: continuous\\n7. model year: multi-valued discrete\\n8. origin: multi-valued discrete\\n9. car name: string (unique for each instance)'"
      ]
     },
     "execution_count": 316,
     "metadata": {},
     "output_type": "execute_result"
    }
   ],
   "source": [
    "'''1. mpg: continuous\n",
    "2. cylinders: multi-valued discrete\n",
    "3. displacement: continuous\n",
    "4. horsepower: continuous\n",
    "5. weight: continuous\n",
    "6. acceleration: continuous\n",
    "7. model year: multi-valued discrete\n",
    "8. origin: multi-valued discrete\n",
    "9. car name: string (unique for each instance)'''"
   ]
  },
  {
   "cell_type": "code",
   "execution_count": 317,
   "metadata": {},
   "outputs": [],
   "source": [
    "df.columns = ['mpg','cyl','disp','hp','wt','acc','m_year','origin','car_name']"
   ]
  },
  {
   "cell_type": "code",
   "execution_count": 318,
   "metadata": {},
   "outputs": [
    {
     "data": {
      "text/html": [
       "<div>\n",
       "<style scoped>\n",
       "    .dataframe tbody tr th:only-of-type {\n",
       "        vertical-align: middle;\n",
       "    }\n",
       "\n",
       "    .dataframe tbody tr th {\n",
       "        vertical-align: top;\n",
       "    }\n",
       "\n",
       "    .dataframe thead th {\n",
       "        text-align: right;\n",
       "    }\n",
       "</style>\n",
       "<table border=\"1\" class=\"dataframe\">\n",
       "  <thead>\n",
       "    <tr style=\"text-align: right;\">\n",
       "      <th></th>\n",
       "      <th>mpg</th>\n",
       "      <th>cyl</th>\n",
       "      <th>disp</th>\n",
       "      <th>hp</th>\n",
       "      <th>wt</th>\n",
       "      <th>acc</th>\n",
       "      <th>m_year</th>\n",
       "      <th>origin</th>\n",
       "      <th>car_name</th>\n",
       "    </tr>\n",
       "  </thead>\n",
       "  <tbody>\n",
       "    <tr>\n",
       "      <th>0</th>\n",
       "      <td>18.0</td>\n",
       "      <td>8</td>\n",
       "      <td>307.0</td>\n",
       "      <td>130.0</td>\n",
       "      <td>3504.0</td>\n",
       "      <td>12.0</td>\n",
       "      <td>70</td>\n",
       "      <td>1</td>\n",
       "      <td>chevrolet chevelle malibu</td>\n",
       "    </tr>\n",
       "    <tr>\n",
       "      <th>1</th>\n",
       "      <td>15.0</td>\n",
       "      <td>8</td>\n",
       "      <td>350.0</td>\n",
       "      <td>165.0</td>\n",
       "      <td>3693.0</td>\n",
       "      <td>11.5</td>\n",
       "      <td>70</td>\n",
       "      <td>1</td>\n",
       "      <td>buick skylark 320</td>\n",
       "    </tr>\n",
       "    <tr>\n",
       "      <th>2</th>\n",
       "      <td>18.0</td>\n",
       "      <td>8</td>\n",
       "      <td>318.0</td>\n",
       "      <td>150.0</td>\n",
       "      <td>3436.0</td>\n",
       "      <td>11.0</td>\n",
       "      <td>70</td>\n",
       "      <td>1</td>\n",
       "      <td>plymouth satellite</td>\n",
       "    </tr>\n",
       "    <tr>\n",
       "      <th>3</th>\n",
       "      <td>16.0</td>\n",
       "      <td>8</td>\n",
       "      <td>304.0</td>\n",
       "      <td>150.0</td>\n",
       "      <td>3433.0</td>\n",
       "      <td>12.0</td>\n",
       "      <td>70</td>\n",
       "      <td>1</td>\n",
       "      <td>amc rebel sst</td>\n",
       "    </tr>\n",
       "    <tr>\n",
       "      <th>4</th>\n",
       "      <td>17.0</td>\n",
       "      <td>8</td>\n",
       "      <td>302.0</td>\n",
       "      <td>140.0</td>\n",
       "      <td>3449.0</td>\n",
       "      <td>10.5</td>\n",
       "      <td>70</td>\n",
       "      <td>1</td>\n",
       "      <td>ford torino</td>\n",
       "    </tr>\n",
       "  </tbody>\n",
       "</table>\n",
       "</div>"
      ],
      "text/plain": [
       "    mpg  cyl   disp     hp      wt   acc  m_year  origin  \\\n",
       "0  18.0    8  307.0  130.0  3504.0  12.0      70       1   \n",
       "1  15.0    8  350.0  165.0  3693.0  11.5      70       1   \n",
       "2  18.0    8  318.0  150.0  3436.0  11.0      70       1   \n",
       "3  16.0    8  304.0  150.0  3433.0  12.0      70       1   \n",
       "4  17.0    8  302.0  140.0  3449.0  10.5      70       1   \n",
       "\n",
       "                    car_name  \n",
       "0  chevrolet chevelle malibu  \n",
       "1          buick skylark 320  \n",
       "2         plymouth satellite  \n",
       "3              amc rebel sst  \n",
       "4                ford torino  "
      ]
     },
     "execution_count": 318,
     "metadata": {},
     "output_type": "execute_result"
    }
   ],
   "source": [
    "df.head() # first 5 records from the dataset"
   ]
  },
  {
   "cell_type": "code",
   "execution_count": null,
   "metadata": {},
   "outputs": [],
   "source": [
    "# Top 5 cars that provide maximum mileage per gallon\n",
    "# Bottom 5 cars that provide mileage per gallon\n",
    "\n",
    "# which 3 cars have highest weight\n",
    "# which 3 cars have lowest weight"
   ]
  },
  {
   "cell_type": "code",
   "execution_count": 319,
   "metadata": {},
   "outputs": [],
   "source": [
    "import heapq"
   ]
  },
  {
   "cell_type": "code",
   "execution_count": 320,
   "metadata": {},
   "outputs": [
    {
     "data": {
      "text/plain": [
       "[46.6, 44.6, 44.3, 44.0, 43.4]"
      ]
     },
     "execution_count": 320,
     "metadata": {},
     "output_type": "execute_result"
    }
   ],
   "source": [
    "heapq.nlargest(5,df.mpg)"
   ]
  },
  {
   "cell_type": "code",
   "execution_count": 321,
   "metadata": {},
   "outputs": [
    {
     "data": {
      "text/plain": [
       "[9.0, 10.0, 10.0, 11.0, 11.0]"
      ]
     },
     "execution_count": 321,
     "metadata": {},
     "output_type": "execute_result"
    }
   ],
   "source": [
    "heapq.nsmallest(5,df.mpg)"
   ]
  },
  {
   "cell_type": "code",
   "execution_count": 322,
   "metadata": {},
   "outputs": [
    {
     "data": {
      "text/plain": [
       "[5140.0, 4997.0, 4955.0]"
      ]
     },
     "execution_count": 322,
     "metadata": {},
     "output_type": "execute_result"
    }
   ],
   "source": [
    "heapq.nlargest(3,df.wt)"
   ]
  },
  {
   "cell_type": "code",
   "execution_count": 323,
   "metadata": {},
   "outputs": [
    {
     "data": {
      "text/plain": [
       "[1613.0, 1649.0, 1755.0]"
      ]
     },
     "execution_count": 323,
     "metadata": {},
     "output_type": "execute_result"
    }
   ],
   "source": [
    "heapq.nsmallest(3,df.wt)"
   ]
  },
  {
   "cell_type": "code",
   "execution_count": 324,
   "metadata": {},
   "outputs": [
    {
     "data": {
      "text/plain": [
       "(398, 9)"
      ]
     },
     "execution_count": 324,
     "metadata": {},
     "output_type": "execute_result"
    }
   ],
   "source": [
    "df.shape"
   ]
  },
  {
   "cell_type": "code",
   "execution_count": 325,
   "metadata": {},
   "outputs": [
    {
     "data": {
      "text/plain": [
       "[5140.0, 4997.0, 4955.0]"
      ]
     },
     "execution_count": 325,
     "metadata": {},
     "output_type": "execute_result"
    }
   ],
   "source": [
    "sorted(df.wt,reverse=True)[0:3]"
   ]
  },
  {
   "cell_type": "code",
   "execution_count": 326,
   "metadata": {},
   "outputs": [
    {
     "data": {
      "text/plain": [
       "[1613.0, 1649.0, 1755.0]"
      ]
     },
     "execution_count": 326,
     "metadata": {},
     "output_type": "execute_result"
    }
   ],
   "source": [
    "sorted(df.wt,reverse=False)[0:3]"
   ]
  },
  {
   "cell_type": "code",
   "execution_count": 327,
   "metadata": {},
   "outputs": [
    {
     "data": {
      "text/html": [
       "<div>\n",
       "<style scoped>\n",
       "    .dataframe tbody tr th:only-of-type {\n",
       "        vertical-align: middle;\n",
       "    }\n",
       "\n",
       "    .dataframe tbody tr th {\n",
       "        vertical-align: top;\n",
       "    }\n",
       "\n",
       "    .dataframe thead th {\n",
       "        text-align: right;\n",
       "    }\n",
       "</style>\n",
       "<table border=\"1\" class=\"dataframe\">\n",
       "  <thead>\n",
       "    <tr style=\"text-align: right;\">\n",
       "      <th></th>\n",
       "      <th>mpg</th>\n",
       "      <th>cyl</th>\n",
       "      <th>disp</th>\n",
       "      <th>hp</th>\n",
       "      <th>wt</th>\n",
       "      <th>acc</th>\n",
       "      <th>m_year</th>\n",
       "      <th>origin</th>\n",
       "      <th>car_name</th>\n",
       "    </tr>\n",
       "  </thead>\n",
       "  <tbody>\n",
       "    <tr>\n",
       "      <th>0</th>\n",
       "      <td>18.0</td>\n",
       "      <td>8</td>\n",
       "      <td>307.0</td>\n",
       "      <td>130.0</td>\n",
       "      <td>3504.0</td>\n",
       "      <td>12.0</td>\n",
       "      <td>70</td>\n",
       "      <td>1</td>\n",
       "      <td>chevrolet chevelle malibu</td>\n",
       "    </tr>\n",
       "    <tr>\n",
       "      <th>1</th>\n",
       "      <td>15.0</td>\n",
       "      <td>8</td>\n",
       "      <td>350.0</td>\n",
       "      <td>165.0</td>\n",
       "      <td>3693.0</td>\n",
       "      <td>11.5</td>\n",
       "      <td>70</td>\n",
       "      <td>1</td>\n",
       "      <td>buick skylark 320</td>\n",
       "    </tr>\n",
       "    <tr>\n",
       "      <th>2</th>\n",
       "      <td>18.0</td>\n",
       "      <td>8</td>\n",
       "      <td>318.0</td>\n",
       "      <td>150.0</td>\n",
       "      <td>3436.0</td>\n",
       "      <td>11.0</td>\n",
       "      <td>70</td>\n",
       "      <td>1</td>\n",
       "      <td>plymouth satellite</td>\n",
       "    </tr>\n",
       "    <tr>\n",
       "      <th>3</th>\n",
       "      <td>16.0</td>\n",
       "      <td>8</td>\n",
       "      <td>304.0</td>\n",
       "      <td>150.0</td>\n",
       "      <td>3433.0</td>\n",
       "      <td>12.0</td>\n",
       "      <td>70</td>\n",
       "      <td>1</td>\n",
       "      <td>amc rebel sst</td>\n",
       "    </tr>\n",
       "    <tr>\n",
       "      <th>4</th>\n",
       "      <td>17.0</td>\n",
       "      <td>8</td>\n",
       "      <td>302.0</td>\n",
       "      <td>140.0</td>\n",
       "      <td>3449.0</td>\n",
       "      <td>10.5</td>\n",
       "      <td>70</td>\n",
       "      <td>1</td>\n",
       "      <td>ford torino</td>\n",
       "    </tr>\n",
       "    <tr>\n",
       "      <th>5</th>\n",
       "      <td>15.0</td>\n",
       "      <td>8</td>\n",
       "      <td>429.0</td>\n",
       "      <td>198.0</td>\n",
       "      <td>4341.0</td>\n",
       "      <td>10.0</td>\n",
       "      <td>70</td>\n",
       "      <td>1</td>\n",
       "      <td>ford galaxie 500</td>\n",
       "    </tr>\n",
       "    <tr>\n",
       "      <th>6</th>\n",
       "      <td>14.0</td>\n",
       "      <td>8</td>\n",
       "      <td>454.0</td>\n",
       "      <td>220.0</td>\n",
       "      <td>4354.0</td>\n",
       "      <td>9.0</td>\n",
       "      <td>70</td>\n",
       "      <td>1</td>\n",
       "      <td>chevrolet impala</td>\n",
       "    </tr>\n",
       "    <tr>\n",
       "      <th>7</th>\n",
       "      <td>14.0</td>\n",
       "      <td>8</td>\n",
       "      <td>440.0</td>\n",
       "      <td>215.0</td>\n",
       "      <td>4312.0</td>\n",
       "      <td>8.5</td>\n",
       "      <td>70</td>\n",
       "      <td>1</td>\n",
       "      <td>plymouth fury iii</td>\n",
       "    </tr>\n",
       "    <tr>\n",
       "      <th>8</th>\n",
       "      <td>14.0</td>\n",
       "      <td>8</td>\n",
       "      <td>455.0</td>\n",
       "      <td>225.0</td>\n",
       "      <td>4425.0</td>\n",
       "      <td>10.0</td>\n",
       "      <td>70</td>\n",
       "      <td>1</td>\n",
       "      <td>pontiac catalina</td>\n",
       "    </tr>\n",
       "    <tr>\n",
       "      <th>9</th>\n",
       "      <td>15.0</td>\n",
       "      <td>8</td>\n",
       "      <td>390.0</td>\n",
       "      <td>190.0</td>\n",
       "      <td>3850.0</td>\n",
       "      <td>8.5</td>\n",
       "      <td>70</td>\n",
       "      <td>1</td>\n",
       "      <td>amc ambassador dpl</td>\n",
       "    </tr>\n",
       "  </tbody>\n",
       "</table>\n",
       "</div>"
      ],
      "text/plain": [
       "    mpg  cyl   disp     hp      wt   acc  m_year  origin  \\\n",
       "0  18.0    8  307.0  130.0  3504.0  12.0      70       1   \n",
       "1  15.0    8  350.0  165.0  3693.0  11.5      70       1   \n",
       "2  18.0    8  318.0  150.0  3436.0  11.0      70       1   \n",
       "3  16.0    8  304.0  150.0  3433.0  12.0      70       1   \n",
       "4  17.0    8  302.0  140.0  3449.0  10.5      70       1   \n",
       "5  15.0    8  429.0  198.0  4341.0  10.0      70       1   \n",
       "6  14.0    8  454.0  220.0  4354.0   9.0      70       1   \n",
       "7  14.0    8  440.0  215.0  4312.0   8.5      70       1   \n",
       "8  14.0    8  455.0  225.0  4425.0  10.0      70       1   \n",
       "9  15.0    8  390.0  190.0  3850.0   8.5      70       1   \n",
       "\n",
       "                    car_name  \n",
       "0  chevrolet chevelle malibu  \n",
       "1          buick skylark 320  \n",
       "2         plymouth satellite  \n",
       "3              amc rebel sst  \n",
       "4                ford torino  \n",
       "5           ford galaxie 500  \n",
       "6           chevrolet impala  \n",
       "7          plymouth fury iii  \n",
       "8           pontiac catalina  \n",
       "9         amc ambassador dpl  "
      ]
     },
     "execution_count": 327,
     "metadata": {},
     "output_type": "execute_result"
    }
   ],
   "source": [
    "df.head(10)"
   ]
  },
  {
   "cell_type": "code",
   "execution_count": 328,
   "metadata": {},
   "outputs": [
    {
     "data": {
      "text/plain": [
       "{'mpg': {0: 18.0,\n",
       "  1: 15.0,\n",
       "  2: 18.0,\n",
       "  3: 16.0,\n",
       "  4: 17.0,\n",
       "  5: 15.0,\n",
       "  6: 14.0,\n",
       "  7: 14.0,\n",
       "  8: 14.0,\n",
       "  9: 15.0,\n",
       "  10: 15.0,\n",
       "  11: 14.0,\n",
       "  12: 15.0,\n",
       "  13: 14.0,\n",
       "  14: 24.0,\n",
       "  15: 22.0,\n",
       "  16: 18.0,\n",
       "  17: 21.0,\n",
       "  18: 27.0,\n",
       "  19: 26.0,\n",
       "  20: 25.0,\n",
       "  21: 24.0,\n",
       "  22: 25.0,\n",
       "  23: 26.0,\n",
       "  24: 21.0,\n",
       "  25: 10.0,\n",
       "  26: 10.0,\n",
       "  27: 11.0,\n",
       "  28: 9.0,\n",
       "  29: 27.0,\n",
       "  30: 28.0,\n",
       "  31: 25.0,\n",
       "  32: 25.0,\n",
       "  33: 19.0,\n",
       "  34: 16.0,\n",
       "  35: 17.0,\n",
       "  36: 19.0,\n",
       "  37: 18.0,\n",
       "  38: 14.0,\n",
       "  39: 14.0,\n",
       "  40: 14.0,\n",
       "  41: 14.0,\n",
       "  42: 12.0,\n",
       "  43: 13.0,\n",
       "  44: 13.0,\n",
       "  45: 18.0,\n",
       "  46: 22.0,\n",
       "  47: 19.0,\n",
       "  48: 18.0,\n",
       "  49: 23.0,\n",
       "  50: 28.0,\n",
       "  51: 30.0,\n",
       "  52: 30.0,\n",
       "  53: 31.0,\n",
       "  54: 35.0,\n",
       "  55: 27.0,\n",
       "  56: 26.0,\n",
       "  57: 24.0,\n",
       "  58: 25.0,\n",
       "  59: 23.0,\n",
       "  60: 20.0,\n",
       "  61: 21.0,\n",
       "  62: 13.0,\n",
       "  63: 14.0,\n",
       "  64: 15.0,\n",
       "  65: 14.0,\n",
       "  66: 17.0,\n",
       "  67: 11.0,\n",
       "  68: 13.0,\n",
       "  69: 12.0,\n",
       "  70: 13.0,\n",
       "  71: 19.0,\n",
       "  72: 15.0,\n",
       "  73: 13.0,\n",
       "  74: 13.0,\n",
       "  75: 14.0,\n",
       "  76: 18.0,\n",
       "  77: 22.0,\n",
       "  78: 21.0,\n",
       "  79: 26.0,\n",
       "  80: 22.0,\n",
       "  81: 28.0,\n",
       "  82: 23.0,\n",
       "  83: 28.0,\n",
       "  84: 27.0,\n",
       "  85: 13.0,\n",
       "  86: 14.0,\n",
       "  87: 13.0,\n",
       "  88: 14.0,\n",
       "  89: 15.0,\n",
       "  90: 12.0,\n",
       "  91: 13.0,\n",
       "  92: 13.0,\n",
       "  93: 14.0,\n",
       "  94: 13.0,\n",
       "  95: 12.0,\n",
       "  96: 13.0,\n",
       "  97: 18.0,\n",
       "  98: 16.0,\n",
       "  99: 18.0,\n",
       "  100: 18.0,\n",
       "  101: 23.0,\n",
       "  102: 26.0,\n",
       "  103: 11.0,\n",
       "  104: 12.0,\n",
       "  105: 13.0,\n",
       "  106: 12.0,\n",
       "  107: 18.0,\n",
       "  108: 20.0,\n",
       "  109: 21.0,\n",
       "  110: 22.0,\n",
       "  111: 18.0,\n",
       "  112: 19.0,\n",
       "  113: 21.0,\n",
       "  114: 26.0,\n",
       "  115: 15.0,\n",
       "  116: 16.0,\n",
       "  117: 29.0,\n",
       "  118: 24.0,\n",
       "  119: 20.0,\n",
       "  120: 19.0,\n",
       "  121: 15.0,\n",
       "  122: 24.0,\n",
       "  123: 20.0,\n",
       "  124: 11.0,\n",
       "  125: 20.0,\n",
       "  126: 21.0,\n",
       "  127: 19.0,\n",
       "  128: 15.0,\n",
       "  129: 31.0,\n",
       "  130: 26.0,\n",
       "  131: 32.0,\n",
       "  132: 25.0,\n",
       "  133: 16.0,\n",
       "  134: 16.0,\n",
       "  135: 18.0,\n",
       "  136: 16.0,\n",
       "  137: 13.0,\n",
       "  138: 14.0,\n",
       "  139: 14.0,\n",
       "  140: 14.0,\n",
       "  141: 29.0,\n",
       "  142: 26.0,\n",
       "  143: 26.0,\n",
       "  144: 31.0,\n",
       "  145: 32.0,\n",
       "  146: 28.0,\n",
       "  147: 24.0,\n",
       "  148: 26.0,\n",
       "  149: 24.0,\n",
       "  150: 26.0,\n",
       "  151: 31.0,\n",
       "  152: 19.0,\n",
       "  153: 18.0,\n",
       "  154: 15.0,\n",
       "  155: 15.0,\n",
       "  156: 16.0,\n",
       "  157: 15.0,\n",
       "  158: 16.0,\n",
       "  159: 14.0,\n",
       "  160: 17.0,\n",
       "  161: 16.0,\n",
       "  162: 15.0,\n",
       "  163: 18.0,\n",
       "  164: 21.0,\n",
       "  165: 20.0,\n",
       "  166: 13.0,\n",
       "  167: 29.0,\n",
       "  168: 23.0,\n",
       "  169: 20.0,\n",
       "  170: 23.0,\n",
       "  171: 24.0,\n",
       "  172: 25.0,\n",
       "  173: 24.0,\n",
       "  174: 18.0,\n",
       "  175: 29.0,\n",
       "  176: 19.0,\n",
       "  177: 23.0,\n",
       "  178: 23.0,\n",
       "  179: 22.0,\n",
       "  180: 25.0,\n",
       "  181: 33.0,\n",
       "  182: 28.0,\n",
       "  183: 25.0,\n",
       "  184: 25.0,\n",
       "  185: 26.0,\n",
       "  186: 27.0,\n",
       "  187: 17.5,\n",
       "  188: 16.0,\n",
       "  189: 15.5,\n",
       "  190: 14.5,\n",
       "  191: 22.0,\n",
       "  192: 22.0,\n",
       "  193: 24.0,\n",
       "  194: 22.5,\n",
       "  195: 29.0,\n",
       "  196: 24.5,\n",
       "  197: 29.0,\n",
       "  198: 33.0,\n",
       "  199: 20.0,\n",
       "  200: 18.0,\n",
       "  201: 18.5,\n",
       "  202: 17.5,\n",
       "  203: 29.5,\n",
       "  204: 32.0,\n",
       "  205: 28.0,\n",
       "  206: 26.5,\n",
       "  207: 20.0,\n",
       "  208: 13.0,\n",
       "  209: 19.0,\n",
       "  210: 19.0,\n",
       "  211: 16.5,\n",
       "  212: 16.5,\n",
       "  213: 13.0,\n",
       "  214: 13.0,\n",
       "  215: 13.0,\n",
       "  216: 31.5,\n",
       "  217: 30.0,\n",
       "  218: 36.0,\n",
       "  219: 25.5,\n",
       "  220: 33.5,\n",
       "  221: 17.5,\n",
       "  222: 17.0,\n",
       "  223: 15.5,\n",
       "  224: 15.0,\n",
       "  225: 17.5,\n",
       "  226: 20.5,\n",
       "  227: 19.0,\n",
       "  228: 18.5,\n",
       "  229: 16.0,\n",
       "  230: 15.5,\n",
       "  231: 15.5,\n",
       "  232: 16.0,\n",
       "  233: 29.0,\n",
       "  234: 24.5,\n",
       "  235: 26.0,\n",
       "  236: 25.5,\n",
       "  237: 30.5,\n",
       "  238: 33.5,\n",
       "  239: 30.0,\n",
       "  240: 30.5,\n",
       "  241: 22.0,\n",
       "  242: 21.5,\n",
       "  243: 21.5,\n",
       "  244: 43.1,\n",
       "  245: 36.1,\n",
       "  246: 32.8,\n",
       "  247: 39.4,\n",
       "  248: 36.1,\n",
       "  249: 19.9,\n",
       "  250: 19.4,\n",
       "  251: 20.2,\n",
       "  252: 19.2,\n",
       "  253: 20.5,\n",
       "  254: 20.2,\n",
       "  255: 25.1,\n",
       "  256: 20.5,\n",
       "  257: 19.4,\n",
       "  258: 20.6,\n",
       "  259: 20.8,\n",
       "  260: 18.6,\n",
       "  261: 18.1,\n",
       "  262: 19.2,\n",
       "  263: 17.7,\n",
       "  264: 18.1,\n",
       "  265: 17.5,\n",
       "  266: 30.0,\n",
       "  267: 27.5,\n",
       "  268: 27.2,\n",
       "  269: 30.9,\n",
       "  270: 21.1,\n",
       "  271: 23.2,\n",
       "  272: 23.8,\n",
       "  273: 23.9,\n",
       "  274: 20.3,\n",
       "  275: 17.0,\n",
       "  276: 21.6,\n",
       "  277: 16.2,\n",
       "  278: 31.5,\n",
       "  279: 29.5,\n",
       "  280: 21.5,\n",
       "  281: 19.8,\n",
       "  282: 22.3,\n",
       "  283: 20.2,\n",
       "  284: 20.6,\n",
       "  285: 17.0,\n",
       "  286: 17.6,\n",
       "  287: 16.5,\n",
       "  288: 18.2,\n",
       "  289: 16.9,\n",
       "  290: 15.5,\n",
       "  291: 19.2,\n",
       "  292: 18.5,\n",
       "  293: 31.9,\n",
       "  294: 34.1,\n",
       "  295: 35.7,\n",
       "  296: 27.4,\n",
       "  297: 25.4,\n",
       "  298: 23.0,\n",
       "  299: 27.2,\n",
       "  300: 23.9,\n",
       "  301: 34.2,\n",
       "  302: 34.5,\n",
       "  303: 31.8,\n",
       "  304: 37.3,\n",
       "  305: 28.4,\n",
       "  306: 28.8,\n",
       "  307: 26.8,\n",
       "  308: 33.5,\n",
       "  309: 41.5,\n",
       "  310: 38.1,\n",
       "  311: 32.1,\n",
       "  312: 37.2,\n",
       "  313: 28.0,\n",
       "  314: 26.4,\n",
       "  315: 24.3,\n",
       "  316: 19.1,\n",
       "  317: 34.3,\n",
       "  318: 29.8,\n",
       "  319: 31.3,\n",
       "  320: 37.0,\n",
       "  321: 32.2,\n",
       "  322: 46.6,\n",
       "  323: 27.9,\n",
       "  324: 40.8,\n",
       "  325: 44.3,\n",
       "  326: 43.4,\n",
       "  327: 36.4,\n",
       "  328: 30.0,\n",
       "  329: 44.6,\n",
       "  330: 40.9,\n",
       "  331: 33.8,\n",
       "  332: 29.8,\n",
       "  333: 32.7,\n",
       "  334: 23.7,\n",
       "  335: 35.0,\n",
       "  336: 23.6,\n",
       "  337: 32.4,\n",
       "  338: 27.2,\n",
       "  339: 26.6,\n",
       "  340: 25.8,\n",
       "  341: 23.5,\n",
       "  342: 30.0,\n",
       "  343: 39.1,\n",
       "  344: 39.0,\n",
       "  345: 35.1,\n",
       "  346: 32.3,\n",
       "  347: 37.0,\n",
       "  348: 37.7,\n",
       "  349: 34.1,\n",
       "  350: 34.7,\n",
       "  351: 34.4,\n",
       "  352: 29.9,\n",
       "  353: 33.0,\n",
       "  354: 34.5,\n",
       "  355: 33.7,\n",
       "  356: 32.4,\n",
       "  357: 32.9,\n",
       "  358: 31.6,\n",
       "  359: 28.1,\n",
       "  360: 30.7,\n",
       "  361: 25.4,\n",
       "  362: 24.2,\n",
       "  363: 22.4,\n",
       "  364: 26.6,\n",
       "  365: 20.2,\n",
       "  366: 17.6,\n",
       "  367: 28.0,\n",
       "  368: 27.0,\n",
       "  369: 34.0,\n",
       "  370: 31.0,\n",
       "  371: 29.0,\n",
       "  372: 27.0,\n",
       "  373: 24.0,\n",
       "  374: 23.0,\n",
       "  375: 36.0,\n",
       "  376: 37.0,\n",
       "  377: 31.0,\n",
       "  378: 38.0,\n",
       "  379: 36.0,\n",
       "  380: 36.0,\n",
       "  381: 36.0,\n",
       "  382: 34.0,\n",
       "  383: 38.0,\n",
       "  384: 32.0,\n",
       "  385: 38.0,\n",
       "  386: 25.0,\n",
       "  387: 38.0,\n",
       "  388: 26.0,\n",
       "  389: 22.0,\n",
       "  390: 32.0,\n",
       "  391: 36.0,\n",
       "  392: 27.0,\n",
       "  393: 27.0,\n",
       "  394: 44.0,\n",
       "  395: 32.0,\n",
       "  396: 28.0,\n",
       "  397: 31.0},\n",
       " 'cyl': {0: 8,\n",
       "  1: 8,\n",
       "  2: 8,\n",
       "  3: 8,\n",
       "  4: 8,\n",
       "  5: 8,\n",
       "  6: 8,\n",
       "  7: 8,\n",
       "  8: 8,\n",
       "  9: 8,\n",
       "  10: 8,\n",
       "  11: 8,\n",
       "  12: 8,\n",
       "  13: 8,\n",
       "  14: 4,\n",
       "  15: 6,\n",
       "  16: 6,\n",
       "  17: 6,\n",
       "  18: 4,\n",
       "  19: 4,\n",
       "  20: 4,\n",
       "  21: 4,\n",
       "  22: 4,\n",
       "  23: 4,\n",
       "  24: 6,\n",
       "  25: 8,\n",
       "  26: 8,\n",
       "  27: 8,\n",
       "  28: 8,\n",
       "  29: 4,\n",
       "  30: 4,\n",
       "  31: 4,\n",
       "  32: 4,\n",
       "  33: 6,\n",
       "  34: 6,\n",
       "  35: 6,\n",
       "  36: 6,\n",
       "  37: 6,\n",
       "  38: 8,\n",
       "  39: 8,\n",
       "  40: 8,\n",
       "  41: 8,\n",
       "  42: 8,\n",
       "  43: 8,\n",
       "  44: 8,\n",
       "  45: 6,\n",
       "  46: 4,\n",
       "  47: 6,\n",
       "  48: 6,\n",
       "  49: 4,\n",
       "  50: 4,\n",
       "  51: 4,\n",
       "  52: 4,\n",
       "  53: 4,\n",
       "  54: 4,\n",
       "  55: 4,\n",
       "  56: 4,\n",
       "  57: 4,\n",
       "  58: 4,\n",
       "  59: 4,\n",
       "  60: 4,\n",
       "  61: 4,\n",
       "  62: 8,\n",
       "  63: 8,\n",
       "  64: 8,\n",
       "  65: 8,\n",
       "  66: 8,\n",
       "  67: 8,\n",
       "  68: 8,\n",
       "  69: 8,\n",
       "  70: 8,\n",
       "  71: 3,\n",
       "  72: 8,\n",
       "  73: 8,\n",
       "  74: 8,\n",
       "  75: 8,\n",
       "  76: 4,\n",
       "  77: 4,\n",
       "  78: 4,\n",
       "  79: 4,\n",
       "  80: 4,\n",
       "  81: 4,\n",
       "  82: 4,\n",
       "  83: 4,\n",
       "  84: 4,\n",
       "  85: 8,\n",
       "  86: 8,\n",
       "  87: 8,\n",
       "  88: 8,\n",
       "  89: 8,\n",
       "  90: 8,\n",
       "  91: 8,\n",
       "  92: 8,\n",
       "  93: 8,\n",
       "  94: 8,\n",
       "  95: 8,\n",
       "  96: 8,\n",
       "  97: 6,\n",
       "  98: 6,\n",
       "  99: 6,\n",
       "  100: 6,\n",
       "  101: 6,\n",
       "  102: 4,\n",
       "  103: 8,\n",
       "  104: 8,\n",
       "  105: 8,\n",
       "  106: 8,\n",
       "  107: 6,\n",
       "  108: 4,\n",
       "  109: 4,\n",
       "  110: 4,\n",
       "  111: 3,\n",
       "  112: 4,\n",
       "  113: 6,\n",
       "  114: 4,\n",
       "  115: 8,\n",
       "  116: 8,\n",
       "  117: 4,\n",
       "  118: 4,\n",
       "  119: 4,\n",
       "  120: 4,\n",
       "  121: 8,\n",
       "  122: 4,\n",
       "  123: 6,\n",
       "  124: 8,\n",
       "  125: 6,\n",
       "  126: 6,\n",
       "  127: 6,\n",
       "  128: 6,\n",
       "  129: 4,\n",
       "  130: 4,\n",
       "  131: 4,\n",
       "  132: 4,\n",
       "  133: 6,\n",
       "  134: 6,\n",
       "  135: 6,\n",
       "  136: 8,\n",
       "  137: 8,\n",
       "  138: 8,\n",
       "  139: 8,\n",
       "  140: 8,\n",
       "  141: 4,\n",
       "  142: 4,\n",
       "  143: 4,\n",
       "  144: 4,\n",
       "  145: 4,\n",
       "  146: 4,\n",
       "  147: 4,\n",
       "  148: 4,\n",
       "  149: 4,\n",
       "  150: 4,\n",
       "  151: 4,\n",
       "  152: 6,\n",
       "  153: 6,\n",
       "  154: 6,\n",
       "  155: 6,\n",
       "  156: 8,\n",
       "  157: 8,\n",
       "  158: 8,\n",
       "  159: 8,\n",
       "  160: 6,\n",
       "  161: 6,\n",
       "  162: 6,\n",
       "  163: 6,\n",
       "  164: 6,\n",
       "  165: 8,\n",
       "  166: 8,\n",
       "  167: 4,\n",
       "  168: 4,\n",
       "  169: 6,\n",
       "  170: 4,\n",
       "  171: 4,\n",
       "  172: 4,\n",
       "  173: 4,\n",
       "  174: 6,\n",
       "  175: 4,\n",
       "  176: 6,\n",
       "  177: 4,\n",
       "  178: 4,\n",
       "  179: 4,\n",
       "  180: 4,\n",
       "  181: 4,\n",
       "  182: 4,\n",
       "  183: 4,\n",
       "  184: 4,\n",
       "  185: 4,\n",
       "  186: 4,\n",
       "  187: 8,\n",
       "  188: 8,\n",
       "  189: 8,\n",
       "  190: 8,\n",
       "  191: 6,\n",
       "  192: 6,\n",
       "  193: 6,\n",
       "  194: 6,\n",
       "  195: 4,\n",
       "  196: 4,\n",
       "  197: 4,\n",
       "  198: 4,\n",
       "  199: 6,\n",
       "  200: 6,\n",
       "  201: 6,\n",
       "  202: 6,\n",
       "  203: 4,\n",
       "  204: 4,\n",
       "  205: 4,\n",
       "  206: 4,\n",
       "  207: 4,\n",
       "  208: 8,\n",
       "  209: 4,\n",
       "  210: 6,\n",
       "  211: 6,\n",
       "  212: 8,\n",
       "  213: 8,\n",
       "  214: 8,\n",
       "  215: 8,\n",
       "  216: 4,\n",
       "  217: 4,\n",
       "  218: 4,\n",
       "  219: 4,\n",
       "  220: 4,\n",
       "  221: 8,\n",
       "  222: 8,\n",
       "  223: 8,\n",
       "  224: 8,\n",
       "  225: 6,\n",
       "  226: 6,\n",
       "  227: 6,\n",
       "  228: 6,\n",
       "  229: 8,\n",
       "  230: 8,\n",
       "  231: 8,\n",
       "  232: 8,\n",
       "  233: 4,\n",
       "  234: 4,\n",
       "  235: 4,\n",
       "  236: 4,\n",
       "  237: 4,\n",
       "  238: 4,\n",
       "  239: 4,\n",
       "  240: 4,\n",
       "  241: 6,\n",
       "  242: 4,\n",
       "  243: 3,\n",
       "  244: 4,\n",
       "  245: 4,\n",
       "  246: 4,\n",
       "  247: 4,\n",
       "  248: 4,\n",
       "  249: 8,\n",
       "  250: 8,\n",
       "  251: 8,\n",
       "  252: 6,\n",
       "  253: 6,\n",
       "  254: 6,\n",
       "  255: 4,\n",
       "  256: 6,\n",
       "  257: 6,\n",
       "  258: 6,\n",
       "  259: 6,\n",
       "  260: 6,\n",
       "  261: 6,\n",
       "  262: 8,\n",
       "  263: 6,\n",
       "  264: 8,\n",
       "  265: 8,\n",
       "  266: 4,\n",
       "  267: 4,\n",
       "  268: 4,\n",
       "  269: 4,\n",
       "  270: 4,\n",
       "  271: 4,\n",
       "  272: 4,\n",
       "  273: 4,\n",
       "  274: 5,\n",
       "  275: 6,\n",
       "  276: 4,\n",
       "  277: 6,\n",
       "  278: 4,\n",
       "  279: 4,\n",
       "  280: 6,\n",
       "  281: 6,\n",
       "  282: 4,\n",
       "  283: 6,\n",
       "  284: 6,\n",
       "  285: 8,\n",
       "  286: 8,\n",
       "  287: 8,\n",
       "  288: 8,\n",
       "  289: 8,\n",
       "  290: 8,\n",
       "  291: 8,\n",
       "  292: 8,\n",
       "  293: 4,\n",
       "  294: 4,\n",
       "  295: 4,\n",
       "  296: 4,\n",
       "  297: 5,\n",
       "  298: 8,\n",
       "  299: 4,\n",
       "  300: 8,\n",
       "  301: 4,\n",
       "  302: 4,\n",
       "  303: 4,\n",
       "  304: 4,\n",
       "  305: 4,\n",
       "  306: 6,\n",
       "  307: 6,\n",
       "  308: 4,\n",
       "  309: 4,\n",
       "  310: 4,\n",
       "  311: 4,\n",
       "  312: 4,\n",
       "  313: 4,\n",
       "  314: 4,\n",
       "  315: 4,\n",
       "  316: 6,\n",
       "  317: 4,\n",
       "  318: 4,\n",
       "  319: 4,\n",
       "  320: 4,\n",
       "  321: 4,\n",
       "  322: 4,\n",
       "  323: 4,\n",
       "  324: 4,\n",
       "  325: 4,\n",
       "  326: 4,\n",
       "  327: 5,\n",
       "  328: 4,\n",
       "  329: 4,\n",
       "  330: 4,\n",
       "  331: 4,\n",
       "  332: 4,\n",
       "  333: 6,\n",
       "  334: 3,\n",
       "  335: 4,\n",
       "  336: 4,\n",
       "  337: 4,\n",
       "  338: 4,\n",
       "  339: 4,\n",
       "  340: 4,\n",
       "  341: 6,\n",
       "  342: 4,\n",
       "  343: 4,\n",
       "  344: 4,\n",
       "  345: 4,\n",
       "  346: 4,\n",
       "  347: 4,\n",
       "  348: 4,\n",
       "  349: 4,\n",
       "  350: 4,\n",
       "  351: 4,\n",
       "  352: 4,\n",
       "  353: 4,\n",
       "  354: 4,\n",
       "  355: 4,\n",
       "  356: 4,\n",
       "  357: 4,\n",
       "  358: 4,\n",
       "  359: 4,\n",
       "  360: 6,\n",
       "  361: 6,\n",
       "  362: 6,\n",
       "  363: 6,\n",
       "  364: 8,\n",
       "  365: 6,\n",
       "  366: 6,\n",
       "  367: 4,\n",
       "  368: 4,\n",
       "  369: 4,\n",
       "  370: 4,\n",
       "  371: 4,\n",
       "  372: 4,\n",
       "  373: 4,\n",
       "  374: 4,\n",
       "  375: 4,\n",
       "  376: 4,\n",
       "  377: 4,\n",
       "  378: 4,\n",
       "  379: 4,\n",
       "  380: 4,\n",
       "  381: 4,\n",
       "  382: 4,\n",
       "  383: 4,\n",
       "  384: 4,\n",
       "  385: 4,\n",
       "  386: 6,\n",
       "  387: 6,\n",
       "  388: 4,\n",
       "  389: 6,\n",
       "  390: 4,\n",
       "  391: 4,\n",
       "  392: 4,\n",
       "  393: 4,\n",
       "  394: 4,\n",
       "  395: 4,\n",
       "  396: 4,\n",
       "  397: 4},\n",
       " 'disp': {0: 307.0,\n",
       "  1: 350.0,\n",
       "  2: 318.0,\n",
       "  3: 304.0,\n",
       "  4: 302.0,\n",
       "  5: 429.0,\n",
       "  6: 454.0,\n",
       "  7: 440.0,\n",
       "  8: 455.0,\n",
       "  9: 390.0,\n",
       "  10: 383.0,\n",
       "  11: 340.0,\n",
       "  12: 400.0,\n",
       "  13: 455.0,\n",
       "  14: 113.0,\n",
       "  15: 198.0,\n",
       "  16: 199.0,\n",
       "  17: 200.0,\n",
       "  18: 97.0,\n",
       "  19: 97.0,\n",
       "  20: 110.0,\n",
       "  21: 107.0,\n",
       "  22: 104.0,\n",
       "  23: 121.0,\n",
       "  24: 199.0,\n",
       "  25: 360.0,\n",
       "  26: 307.0,\n",
       "  27: 318.0,\n",
       "  28: 304.0,\n",
       "  29: 97.0,\n",
       "  30: 140.0,\n",
       "  31: 113.0,\n",
       "  32: 98.0,\n",
       "  33: 232.0,\n",
       "  34: 225.0,\n",
       "  35: 250.0,\n",
       "  36: 250.0,\n",
       "  37: 232.0,\n",
       "  38: 350.0,\n",
       "  39: 400.0,\n",
       "  40: 351.0,\n",
       "  41: 318.0,\n",
       "  42: 383.0,\n",
       "  43: 400.0,\n",
       "  44: 400.0,\n",
       "  45: 258.0,\n",
       "  46: 140.0,\n",
       "  47: 250.0,\n",
       "  48: 250.0,\n",
       "  49: 122.0,\n",
       "  50: 116.0,\n",
       "  51: 79.0,\n",
       "  52: 88.0,\n",
       "  53: 71.0,\n",
       "  54: 72.0,\n",
       "  55: 97.0,\n",
       "  56: 91.0,\n",
       "  57: 113.0,\n",
       "  58: 97.5,\n",
       "  59: 97.0,\n",
       "  60: 140.0,\n",
       "  61: 122.0,\n",
       "  62: 350.0,\n",
       "  63: 400.0,\n",
       "  64: 318.0,\n",
       "  65: 351.0,\n",
       "  66: 304.0,\n",
       "  67: 429.0,\n",
       "  68: 350.0,\n",
       "  69: 350.0,\n",
       "  70: 400.0,\n",
       "  71: 70.0,\n",
       "  72: 304.0,\n",
       "  73: 307.0,\n",
       "  74: 302.0,\n",
       "  75: 318.0,\n",
       "  76: 121.0,\n",
       "  77: 121.0,\n",
       "  78: 120.0,\n",
       "  79: 96.0,\n",
       "  80: 122.0,\n",
       "  81: 97.0,\n",
       "  82: 120.0,\n",
       "  83: 98.0,\n",
       "  84: 97.0,\n",
       "  85: 350.0,\n",
       "  86: 304.0,\n",
       "  87: 350.0,\n",
       "  88: 302.0,\n",
       "  89: 318.0,\n",
       "  90: 429.0,\n",
       "  91: 400.0,\n",
       "  92: 351.0,\n",
       "  93: 318.0,\n",
       "  94: 440.0,\n",
       "  95: 455.0,\n",
       "  96: 360.0,\n",
       "  97: 225.0,\n",
       "  98: 250.0,\n",
       "  99: 232.0,\n",
       "  100: 250.0,\n",
       "  101: 198.0,\n",
       "  102: 97.0,\n",
       "  103: 400.0,\n",
       "  104: 400.0,\n",
       "  105: 360.0,\n",
       "  106: 350.0,\n",
       "  107: 232.0,\n",
       "  108: 97.0,\n",
       "  109: 140.0,\n",
       "  110: 108.0,\n",
       "  111: 70.0,\n",
       "  112: 122.0,\n",
       "  113: 155.0,\n",
       "  114: 98.0,\n",
       "  115: 350.0,\n",
       "  116: 400.0,\n",
       "  117: 68.0,\n",
       "  118: 116.0,\n",
       "  119: 114.0,\n",
       "  120: 121.0,\n",
       "  121: 318.0,\n",
       "  122: 121.0,\n",
       "  123: 156.0,\n",
       "  124: 350.0,\n",
       "  125: 198.0,\n",
       "  126: 200.0,\n",
       "  127: 232.0,\n",
       "  128: 250.0,\n",
       "  129: 79.0,\n",
       "  130: 122.0,\n",
       "  131: 71.0,\n",
       "  132: 140.0,\n",
       "  133: 250.0,\n",
       "  134: 258.0,\n",
       "  135: 225.0,\n",
       "  136: 302.0,\n",
       "  137: 350.0,\n",
       "  138: 318.0,\n",
       "  139: 302.0,\n",
       "  140: 304.0,\n",
       "  141: 98.0,\n",
       "  142: 79.0,\n",
       "  143: 97.0,\n",
       "  144: 76.0,\n",
       "  145: 83.0,\n",
       "  146: 90.0,\n",
       "  147: 90.0,\n",
       "  148: 116.0,\n",
       "  149: 120.0,\n",
       "  150: 108.0,\n",
       "  151: 79.0,\n",
       "  152: 225.0,\n",
       "  153: 250.0,\n",
       "  154: 250.0,\n",
       "  155: 250.0,\n",
       "  156: 400.0,\n",
       "  157: 350.0,\n",
       "  158: 318.0,\n",
       "  159: 351.0,\n",
       "  160: 231.0,\n",
       "  161: 250.0,\n",
       "  162: 258.0,\n",
       "  163: 225.0,\n",
       "  164: 231.0,\n",
       "  165: 262.0,\n",
       "  166: 302.0,\n",
       "  167: 97.0,\n",
       "  168: 140.0,\n",
       "  169: 232.0,\n",
       "  170: 140.0,\n",
       "  171: 134.0,\n",
       "  172: 90.0,\n",
       "  173: 119.0,\n",
       "  174: 171.0,\n",
       "  175: 90.0,\n",
       "  176: 232.0,\n",
       "  177: 115.0,\n",
       "  178: 120.0,\n",
       "  179: 121.0,\n",
       "  180: 121.0,\n",
       "  181: 91.0,\n",
       "  182: 107.0,\n",
       "  183: 116.0,\n",
       "  184: 140.0,\n",
       "  185: 98.0,\n",
       "  186: 101.0,\n",
       "  187: 305.0,\n",
       "  188: 318.0,\n",
       "  189: 304.0,\n",
       "  190: 351.0,\n",
       "  191: 225.0,\n",
       "  192: 250.0,\n",
       "  193: 200.0,\n",
       "  194: 232.0,\n",
       "  195: 85.0,\n",
       "  196: 98.0,\n",
       "  197: 90.0,\n",
       "  198: 91.0,\n",
       "  199: 225.0,\n",
       "  200: 250.0,\n",
       "  201: 250.0,\n",
       "  202: 258.0,\n",
       "  203: 97.0,\n",
       "  204: 85.0,\n",
       "  205: 97.0,\n",
       "  206: 140.0,\n",
       "  207: 130.0,\n",
       "  208: 318.0,\n",
       "  209: 120.0,\n",
       "  210: 156.0,\n",
       "  211: 168.0,\n",
       "  212: 350.0,\n",
       "  213: 350.0,\n",
       "  214: 302.0,\n",
       "  215: 318.0,\n",
       "  216: 98.0,\n",
       "  217: 111.0,\n",
       "  218: 79.0,\n",
       "  219: 122.0,\n",
       "  220: 85.0,\n",
       "  221: 305.0,\n",
       "  222: 260.0,\n",
       "  223: 318.0,\n",
       "  224: 302.0,\n",
       "  225: 250.0,\n",
       "  226: 231.0,\n",
       "  227: 225.0,\n",
       "  228: 250.0,\n",
       "  229: 400.0,\n",
       "  230: 350.0,\n",
       "  231: 400.0,\n",
       "  232: 351.0,\n",
       "  233: 97.0,\n",
       "  234: 151.0,\n",
       "  235: 97.0,\n",
       "  236: 140.0,\n",
       "  237: 98.0,\n",
       "  238: 98.0,\n",
       "  239: 97.0,\n",
       "  240: 97.0,\n",
       "  241: 146.0,\n",
       "  242: 121.0,\n",
       "  243: 80.0,\n",
       "  244: 90.0,\n",
       "  245: 98.0,\n",
       "  246: 78.0,\n",
       "  247: 85.0,\n",
       "  248: 91.0,\n",
       "  249: 260.0,\n",
       "  250: 318.0,\n",
       "  251: 302.0,\n",
       "  252: 231.0,\n",
       "  253: 200.0,\n",
       "  254: 200.0,\n",
       "  255: 140.0,\n",
       "  256: 225.0,\n",
       "  257: 232.0,\n",
       "  258: 231.0,\n",
       "  259: 200.0,\n",
       "  260: 225.0,\n",
       "  261: 258.0,\n",
       "  262: 305.0,\n",
       "  263: 231.0,\n",
       "  264: 302.0,\n",
       "  265: 318.0,\n",
       "  266: 98.0,\n",
       "  267: 134.0,\n",
       "  268: 119.0,\n",
       "  269: 105.0,\n",
       "  270: 134.0,\n",
       "  271: 156.0,\n",
       "  272: 151.0,\n",
       "  273: 119.0,\n",
       "  274: 131.0,\n",
       "  275: 163.0,\n",
       "  276: 121.0,\n",
       "  277: 163.0,\n",
       "  278: 89.0,\n",
       "  279: 98.0,\n",
       "  280: 231.0,\n",
       "  281: 200.0,\n",
       "  282: 140.0,\n",
       "  283: 232.0,\n",
       "  284: 225.0,\n",
       "  285: 305.0,\n",
       "  286: 302.0,\n",
       "  287: 351.0,\n",
       "  288: 318.0,\n",
       "  289: 350.0,\n",
       "  290: 351.0,\n",
       "  291: 267.0,\n",
       "  292: 360.0,\n",
       "  293: 89.0,\n",
       "  294: 86.0,\n",
       "  295: 98.0,\n",
       "  296: 121.0,\n",
       "  297: 183.0,\n",
       "  298: 350.0,\n",
       "  299: 141.0,\n",
       "  300: 260.0,\n",
       "  301: 105.0,\n",
       "  302: 105.0,\n",
       "  303: 85.0,\n",
       "  304: 91.0,\n",
       "  305: 151.0,\n",
       "  306: 173.0,\n",
       "  307: 173.0,\n",
       "  308: 151.0,\n",
       "  309: 98.0,\n",
       "  310: 89.0,\n",
       "  311: 98.0,\n",
       "  312: 86.0,\n",
       "  313: 151.0,\n",
       "  314: 140.0,\n",
       "  315: 151.0,\n",
       "  316: 225.0,\n",
       "  317: 97.0,\n",
       "  318: 134.0,\n",
       "  319: 120.0,\n",
       "  320: 119.0,\n",
       "  321: 108.0,\n",
       "  322: 86.0,\n",
       "  323: 156.0,\n",
       "  324: 85.0,\n",
       "  325: 90.0,\n",
       "  326: 90.0,\n",
       "  327: 121.0,\n",
       "  328: 146.0,\n",
       "  329: 91.0,\n",
       "  330: 85.0,\n",
       "  331: 97.0,\n",
       "  332: 89.0,\n",
       "  333: 168.0,\n",
       "  334: 70.0,\n",
       "  335: 122.0,\n",
       "  336: 140.0,\n",
       "  337: 107.0,\n",
       "  338: 135.0,\n",
       "  339: 151.0,\n",
       "  340: 156.0,\n",
       "  341: 173.0,\n",
       "  342: 135.0,\n",
       "  343: 79.0,\n",
       "  344: 86.0,\n",
       "  345: 81.0,\n",
       "  346: 97.0,\n",
       "  347: 85.0,\n",
       "  348: 89.0,\n",
       "  349: 91.0,\n",
       "  350: 105.0,\n",
       "  351: 98.0,\n",
       "  352: 98.0,\n",
       "  353: 105.0,\n",
       "  354: 100.0,\n",
       "  355: 107.0,\n",
       "  356: 108.0,\n",
       "  357: 119.0,\n",
       "  358: 120.0,\n",
       "  359: 141.0,\n",
       "  360: 145.0,\n",
       "  361: 168.0,\n",
       "  362: 146.0,\n",
       "  363: 231.0,\n",
       "  364: 350.0,\n",
       "  365: 200.0,\n",
       "  366: 225.0,\n",
       "  367: 112.0,\n",
       "  368: 112.0,\n",
       "  369: 112.0,\n",
       "  370: 112.0,\n",
       "  371: 135.0,\n",
       "  372: 151.0,\n",
       "  373: 140.0,\n",
       "  374: 151.0,\n",
       "  375: 105.0,\n",
       "  376: 91.0,\n",
       "  377: 91.0,\n",
       "  378: 105.0,\n",
       "  379: 98.0,\n",
       "  380: 120.0,\n",
       "  381: 107.0,\n",
       "  382: 108.0,\n",
       "  383: 91.0,\n",
       "  384: 91.0,\n",
       "  385: 91.0,\n",
       "  386: 181.0,\n",
       "  387: 262.0,\n",
       "  388: 156.0,\n",
       "  389: 232.0,\n",
       "  390: 144.0,\n",
       "  391: 135.0,\n",
       "  392: 151.0,\n",
       "  393: 140.0,\n",
       "  394: 97.0,\n",
       "  395: 135.0,\n",
       "  396: 120.0,\n",
       "  397: 119.0},\n",
       " 'hp': {0: '130.0',\n",
       "  1: '165.0',\n",
       "  2: '150.0',\n",
       "  3: '150.0',\n",
       "  4: '140.0',\n",
       "  5: '198.0',\n",
       "  6: '220.0',\n",
       "  7: '215.0',\n",
       "  8: '225.0',\n",
       "  9: '190.0',\n",
       "  10: '170.0',\n",
       "  11: '160.0',\n",
       "  12: '150.0',\n",
       "  13: '225.0',\n",
       "  14: '95.00',\n",
       "  15: '95.00',\n",
       "  16: '97.00',\n",
       "  17: '85.00',\n",
       "  18: '88.00',\n",
       "  19: '46.00',\n",
       "  20: '87.00',\n",
       "  21: '90.00',\n",
       "  22: '95.00',\n",
       "  23: '113.0',\n",
       "  24: '90.00',\n",
       "  25: '215.0',\n",
       "  26: '200.0',\n",
       "  27: '210.0',\n",
       "  28: '193.0',\n",
       "  29: '88.00',\n",
       "  30: '90.00',\n",
       "  31: '95.00',\n",
       "  32: '?',\n",
       "  33: '100.0',\n",
       "  34: '105.0',\n",
       "  35: '100.0',\n",
       "  36: '88.00',\n",
       "  37: '100.0',\n",
       "  38: '165.0',\n",
       "  39: '175.0',\n",
       "  40: '153.0',\n",
       "  41: '150.0',\n",
       "  42: '180.0',\n",
       "  43: '170.0',\n",
       "  44: '175.0',\n",
       "  45: '110.0',\n",
       "  46: '72.00',\n",
       "  47: '100.0',\n",
       "  48: '88.00',\n",
       "  49: '86.00',\n",
       "  50: '90.00',\n",
       "  51: '70.00',\n",
       "  52: '76.00',\n",
       "  53: '65.00',\n",
       "  54: '69.00',\n",
       "  55: '60.00',\n",
       "  56: '70.00',\n",
       "  57: '95.00',\n",
       "  58: '80.00',\n",
       "  59: '54.00',\n",
       "  60: '90.00',\n",
       "  61: '86.00',\n",
       "  62: '165.0',\n",
       "  63: '175.0',\n",
       "  64: '150.0',\n",
       "  65: '153.0',\n",
       "  66: '150.0',\n",
       "  67: '208.0',\n",
       "  68: '155.0',\n",
       "  69: '160.0',\n",
       "  70: '190.0',\n",
       "  71: '97.00',\n",
       "  72: '150.0',\n",
       "  73: '130.0',\n",
       "  74: '140.0',\n",
       "  75: '150.0',\n",
       "  76: '112.0',\n",
       "  77: '76.00',\n",
       "  78: '87.00',\n",
       "  79: '69.00',\n",
       "  80: '86.00',\n",
       "  81: '92.00',\n",
       "  82: '97.00',\n",
       "  83: '80.00',\n",
       "  84: '88.00',\n",
       "  85: '175.0',\n",
       "  86: '150.0',\n",
       "  87: '145.0',\n",
       "  88: '137.0',\n",
       "  89: '150.0',\n",
       "  90: '198.0',\n",
       "  91: '150.0',\n",
       "  92: '158.0',\n",
       "  93: '150.0',\n",
       "  94: '215.0',\n",
       "  95: '225.0',\n",
       "  96: '175.0',\n",
       "  97: '105.0',\n",
       "  98: '100.0',\n",
       "  99: '100.0',\n",
       "  100: '88.00',\n",
       "  101: '95.00',\n",
       "  102: '46.00',\n",
       "  103: '150.0',\n",
       "  104: '167.0',\n",
       "  105: '170.0',\n",
       "  106: '180.0',\n",
       "  107: '100.0',\n",
       "  108: '88.00',\n",
       "  109: '72.00',\n",
       "  110: '94.00',\n",
       "  111: '90.00',\n",
       "  112: '85.00',\n",
       "  113: '107.0',\n",
       "  114: '90.00',\n",
       "  115: '145.0',\n",
       "  116: '230.0',\n",
       "  117: '49.00',\n",
       "  118: '75.00',\n",
       "  119: '91.00',\n",
       "  120: '112.0',\n",
       "  121: '150.0',\n",
       "  122: '110.0',\n",
       "  123: '122.0',\n",
       "  124: '180.0',\n",
       "  125: '95.00',\n",
       "  126: '?',\n",
       "  127: '100.0',\n",
       "  128: '100.0',\n",
       "  129: '67.00',\n",
       "  130: '80.00',\n",
       "  131: '65.00',\n",
       "  132: '75.00',\n",
       "  133: '100.0',\n",
       "  134: '110.0',\n",
       "  135: '105.0',\n",
       "  136: '140.0',\n",
       "  137: '150.0',\n",
       "  138: '150.0',\n",
       "  139: '140.0',\n",
       "  140: '150.0',\n",
       "  141: '83.00',\n",
       "  142: '67.00',\n",
       "  143: '78.00',\n",
       "  144: '52.00',\n",
       "  145: '61.00',\n",
       "  146: '75.00',\n",
       "  147: '75.00',\n",
       "  148: '75.00',\n",
       "  149: '97.00',\n",
       "  150: '93.00',\n",
       "  151: '67.00',\n",
       "  152: '95.00',\n",
       "  153: '105.0',\n",
       "  154: '72.00',\n",
       "  155: '72.00',\n",
       "  156: '170.0',\n",
       "  157: '145.0',\n",
       "  158: '150.0',\n",
       "  159: '148.0',\n",
       "  160: '110.0',\n",
       "  161: '105.0',\n",
       "  162: '110.0',\n",
       "  163: '95.00',\n",
       "  164: '110.0',\n",
       "  165: '110.0',\n",
       "  166: '129.0',\n",
       "  167: '75.00',\n",
       "  168: '83.00',\n",
       "  169: '100.0',\n",
       "  170: '78.00',\n",
       "  171: '96.00',\n",
       "  172: '71.00',\n",
       "  173: '97.00',\n",
       "  174: '97.00',\n",
       "  175: '70.00',\n",
       "  176: '90.00',\n",
       "  177: '95.00',\n",
       "  178: '88.00',\n",
       "  179: '98.00',\n",
       "  180: '115.0',\n",
       "  181: '53.00',\n",
       "  182: '86.00',\n",
       "  183: '81.00',\n",
       "  184: '92.00',\n",
       "  185: '79.00',\n",
       "  186: '83.00',\n",
       "  187: '140.0',\n",
       "  188: '150.0',\n",
       "  189: '120.0',\n",
       "  190: '152.0',\n",
       "  191: '100.0',\n",
       "  192: '105.0',\n",
       "  193: '81.00',\n",
       "  194: '90.00',\n",
       "  195: '52.00',\n",
       "  196: '60.00',\n",
       "  197: '70.00',\n",
       "  198: '53.00',\n",
       "  199: '100.0',\n",
       "  200: '78.00',\n",
       "  201: '110.0',\n",
       "  202: '95.00',\n",
       "  203: '71.00',\n",
       "  204: '70.00',\n",
       "  205: '75.00',\n",
       "  206: '72.00',\n",
       "  207: '102.0',\n",
       "  208: '150.0',\n",
       "  209: '88.00',\n",
       "  210: '108.0',\n",
       "  211: '120.0',\n",
       "  212: '180.0',\n",
       "  213: '145.0',\n",
       "  214: '130.0',\n",
       "  215: '150.0',\n",
       "  216: '68.00',\n",
       "  217: '80.00',\n",
       "  218: '58.00',\n",
       "  219: '96.00',\n",
       "  220: '70.00',\n",
       "  221: '145.0',\n",
       "  222: '110.0',\n",
       "  223: '145.0',\n",
       "  224: '130.0',\n",
       "  225: '110.0',\n",
       "  226: '105.0',\n",
       "  227: '100.0',\n",
       "  228: '98.00',\n",
       "  229: '180.0',\n",
       "  230: '170.0',\n",
       "  231: '190.0',\n",
       "  232: '149.0',\n",
       "  233: '78.00',\n",
       "  234: '88.00',\n",
       "  235: '75.00',\n",
       "  236: '89.00',\n",
       "  237: '63.00',\n",
       "  238: '83.00',\n",
       "  239: '67.00',\n",
       "  240: '78.00',\n",
       "  241: '97.00',\n",
       "  242: '110.0',\n",
       "  243: '110.0',\n",
       "  244: '48.00',\n",
       "  245: '66.00',\n",
       "  246: '52.00',\n",
       "  247: '70.00',\n",
       "  248: '60.00',\n",
       "  249: '110.0',\n",
       "  250: '140.0',\n",
       "  251: '139.0',\n",
       "  252: '105.0',\n",
       "  253: '95.00',\n",
       "  254: '85.00',\n",
       "  255: '88.00',\n",
       "  256: '100.0',\n",
       "  257: '90.00',\n",
       "  258: '105.0',\n",
       "  259: '85.00',\n",
       "  260: '110.0',\n",
       "  261: '120.0',\n",
       "  262: '145.0',\n",
       "  263: '165.0',\n",
       "  264: '139.0',\n",
       "  265: '140.0',\n",
       "  266: '68.00',\n",
       "  267: '95.00',\n",
       "  268: '97.00',\n",
       "  269: '75.00',\n",
       "  270: '95.00',\n",
       "  271: '105.0',\n",
       "  272: '85.00',\n",
       "  273: '97.00',\n",
       "  274: '103.0',\n",
       "  275: '125.0',\n",
       "  276: '115.0',\n",
       "  277: '133.0',\n",
       "  278: '71.00',\n",
       "  279: '68.00',\n",
       "  280: '115.0',\n",
       "  281: '85.00',\n",
       "  282: '88.00',\n",
       "  283: '90.00',\n",
       "  284: '110.0',\n",
       "  285: '130.0',\n",
       "  286: '129.0',\n",
       "  287: '138.0',\n",
       "  288: '135.0',\n",
       "  289: '155.0',\n",
       "  290: '142.0',\n",
       "  291: '125.0',\n",
       "  292: '150.0',\n",
       "  293: '71.00',\n",
       "  294: '65.00',\n",
       "  295: '80.00',\n",
       "  296: '80.00',\n",
       "  297: '77.00',\n",
       "  298: '125.0',\n",
       "  299: '71.00',\n",
       "  300: '90.00',\n",
       "  301: '70.00',\n",
       "  302: '70.00',\n",
       "  303: '65.00',\n",
       "  304: '69.00',\n",
       "  305: '90.00',\n",
       "  306: '115.0',\n",
       "  307: '115.0',\n",
       "  308: '90.00',\n",
       "  309: '76.00',\n",
       "  310: '60.00',\n",
       "  311: '70.00',\n",
       "  312: '65.00',\n",
       "  313: '90.00',\n",
       "  314: '88.00',\n",
       "  315: '90.00',\n",
       "  316: '90.00',\n",
       "  317: '78.00',\n",
       "  318: '90.00',\n",
       "  319: '75.00',\n",
       "  320: '92.00',\n",
       "  321: '75.00',\n",
       "  322: '65.00',\n",
       "  323: '105.0',\n",
       "  324: '65.00',\n",
       "  325: '48.00',\n",
       "  326: '48.00',\n",
       "  327: '67.00',\n",
       "  328: '67.00',\n",
       "  329: '67.00',\n",
       "  330: '?',\n",
       "  331: '67.00',\n",
       "  332: '62.00',\n",
       "  333: '132.0',\n",
       "  334: '100.0',\n",
       "  335: '88.00',\n",
       "  336: '?',\n",
       "  337: '72.00',\n",
       "  338: '84.00',\n",
       "  339: '84.00',\n",
       "  340: '92.00',\n",
       "  341: '110.0',\n",
       "  342: '84.00',\n",
       "  343: '58.00',\n",
       "  344: '64.00',\n",
       "  345: '60.00',\n",
       "  346: '67.00',\n",
       "  347: '65.00',\n",
       "  348: '62.00',\n",
       "  349: '68.00',\n",
       "  350: '63.00',\n",
       "  351: '65.00',\n",
       "  352: '65.00',\n",
       "  353: '74.00',\n",
       "  354: '?',\n",
       "  355: '75.00',\n",
       "  356: '75.00',\n",
       "  357: '100.0',\n",
       "  358: '74.00',\n",
       "  359: '80.00',\n",
       "  360: '76.00',\n",
       "  361: '116.0',\n",
       "  362: '120.0',\n",
       "  363: '110.0',\n",
       "  364: '105.0',\n",
       "  365: '88.00',\n",
       "  366: '85.00',\n",
       "  367: '88.00',\n",
       "  368: '88.00',\n",
       "  369: '88.00',\n",
       "  370: '85.00',\n",
       "  371: '84.00',\n",
       "  372: '90.00',\n",
       "  373: '92.00',\n",
       "  374: '?',\n",
       "  375: '74.00',\n",
       "  376: '68.00',\n",
       "  377: '68.00',\n",
       "  378: '63.00',\n",
       "  379: '70.00',\n",
       "  380: '88.00',\n",
       "  381: '75.00',\n",
       "  382: '70.00',\n",
       "  383: '67.00',\n",
       "  384: '67.00',\n",
       "  385: '67.00',\n",
       "  386: '110.0',\n",
       "  387: '85.00',\n",
       "  388: '92.00',\n",
       "  389: '112.0',\n",
       "  390: '96.00',\n",
       "  391: '84.00',\n",
       "  392: '90.00',\n",
       "  393: '86.00',\n",
       "  394: '52.00',\n",
       "  395: '84.00',\n",
       "  396: '79.00',\n",
       "  397: '82.00'},\n",
       " 'wt': {0: 3504.0,\n",
       "  1: 3693.0,\n",
       "  2: 3436.0,\n",
       "  3: 3433.0,\n",
       "  4: 3449.0,\n",
       "  5: 4341.0,\n",
       "  6: 4354.0,\n",
       "  7: 4312.0,\n",
       "  8: 4425.0,\n",
       "  9: 3850.0,\n",
       "  10: 3563.0,\n",
       "  11: 3609.0,\n",
       "  12: 3761.0,\n",
       "  13: 3086.0,\n",
       "  14: 2372.0,\n",
       "  15: 2833.0,\n",
       "  16: 2774.0,\n",
       "  17: 2587.0,\n",
       "  18: 2130.0,\n",
       "  19: 1835.0,\n",
       "  20: 2672.0,\n",
       "  21: 2430.0,\n",
       "  22: 2375.0,\n",
       "  23: 2234.0,\n",
       "  24: 2648.0,\n",
       "  25: 4615.0,\n",
       "  26: 4376.0,\n",
       "  27: 4382.0,\n",
       "  28: 4732.0,\n",
       "  29: 2130.0,\n",
       "  30: 2264.0,\n",
       "  31: 2228.0,\n",
       "  32: 2046.0,\n",
       "  33: 2634.0,\n",
       "  34: 3439.0,\n",
       "  35: 3329.0,\n",
       "  36: 3302.0,\n",
       "  37: 3288.0,\n",
       "  38: 4209.0,\n",
       "  39: 4464.0,\n",
       "  40: 4154.0,\n",
       "  41: 4096.0,\n",
       "  42: 4955.0,\n",
       "  43: 4746.0,\n",
       "  44: 5140.0,\n",
       "  45: 2962.0,\n",
       "  46: 2408.0,\n",
       "  47: 3282.0,\n",
       "  48: 3139.0,\n",
       "  49: 2220.0,\n",
       "  50: 2123.0,\n",
       "  51: 2074.0,\n",
       "  52: 2065.0,\n",
       "  53: 1773.0,\n",
       "  54: 1613.0,\n",
       "  55: 1834.0,\n",
       "  56: 1955.0,\n",
       "  57: 2278.0,\n",
       "  58: 2126.0,\n",
       "  59: 2254.0,\n",
       "  60: 2408.0,\n",
       "  61: 2226.0,\n",
       "  62: 4274.0,\n",
       "  63: 4385.0,\n",
       "  64: 4135.0,\n",
       "  65: 4129.0,\n",
       "  66: 3672.0,\n",
       "  67: 4633.0,\n",
       "  68: 4502.0,\n",
       "  69: 4456.0,\n",
       "  70: 4422.0,\n",
       "  71: 2330.0,\n",
       "  72: 3892.0,\n",
       "  73: 4098.0,\n",
       "  74: 4294.0,\n",
       "  75: 4077.0,\n",
       "  76: 2933.0,\n",
       "  77: 2511.0,\n",
       "  78: 2979.0,\n",
       "  79: 2189.0,\n",
       "  80: 2395.0,\n",
       "  81: 2288.0,\n",
       "  82: 2506.0,\n",
       "  83: 2164.0,\n",
       "  84: 2100.0,\n",
       "  85: 4100.0,\n",
       "  86: 3672.0,\n",
       "  87: 3988.0,\n",
       "  88: 4042.0,\n",
       "  89: 3777.0,\n",
       "  90: 4952.0,\n",
       "  91: 4464.0,\n",
       "  92: 4363.0,\n",
       "  93: 4237.0,\n",
       "  94: 4735.0,\n",
       "  95: 4951.0,\n",
       "  96: 3821.0,\n",
       "  97: 3121.0,\n",
       "  98: 3278.0,\n",
       "  99: 2945.0,\n",
       "  100: 3021.0,\n",
       "  101: 2904.0,\n",
       "  102: 1950.0,\n",
       "  103: 4997.0,\n",
       "  104: 4906.0,\n",
       "  105: 4654.0,\n",
       "  106: 4499.0,\n",
       "  107: 2789.0,\n",
       "  108: 2279.0,\n",
       "  109: 2401.0,\n",
       "  110: 2379.0,\n",
       "  111: 2124.0,\n",
       "  112: 2310.0,\n",
       "  113: 2472.0,\n",
       "  114: 2265.0,\n",
       "  115: 4082.0,\n",
       "  116: 4278.0,\n",
       "  117: 1867.0,\n",
       "  118: 2158.0,\n",
       "  119: 2582.0,\n",
       "  120: 2868.0,\n",
       "  121: 3399.0,\n",
       "  122: 2660.0,\n",
       "  123: 2807.0,\n",
       "  124: 3664.0,\n",
       "  125: 3102.0,\n",
       "  126: 2875.0,\n",
       "  127: 2901.0,\n",
       "  128: 3336.0,\n",
       "  129: 1950.0,\n",
       "  130: 2451.0,\n",
       "  131: 1836.0,\n",
       "  132: 2542.0,\n",
       "  133: 3781.0,\n",
       "  134: 3632.0,\n",
       "  135: 3613.0,\n",
       "  136: 4141.0,\n",
       "  137: 4699.0,\n",
       "  138: 4457.0,\n",
       "  139: 4638.0,\n",
       "  140: 4257.0,\n",
       "  141: 2219.0,\n",
       "  142: 1963.0,\n",
       "  143: 2300.0,\n",
       "  144: 1649.0,\n",
       "  145: 2003.0,\n",
       "  146: 2125.0,\n",
       "  147: 2108.0,\n",
       "  148: 2246.0,\n",
       "  149: 2489.0,\n",
       "  150: 2391.0,\n",
       "  151: 2000.0,\n",
       "  152: 3264.0,\n",
       "  153: 3459.0,\n",
       "  154: 3432.0,\n",
       "  155: 3158.0,\n",
       "  156: 4668.0,\n",
       "  157: 4440.0,\n",
       "  158: 4498.0,\n",
       "  159: 4657.0,\n",
       "  160: 3907.0,\n",
       "  161: 3897.0,\n",
       "  162: 3730.0,\n",
       "  163: 3785.0,\n",
       "  164: 3039.0,\n",
       "  165: 3221.0,\n",
       "  166: 3169.0,\n",
       "  167: 2171.0,\n",
       "  168: 2639.0,\n",
       "  169: 2914.0,\n",
       "  170: 2592.0,\n",
       "  171: 2702.0,\n",
       "  172: 2223.0,\n",
       "  173: 2545.0,\n",
       "  174: 2984.0,\n",
       "  175: 1937.0,\n",
       "  176: 3211.0,\n",
       "  177: 2694.0,\n",
       "  178: 2957.0,\n",
       "  179: 2945.0,\n",
       "  180: 2671.0,\n",
       "  181: 1795.0,\n",
       "  182: 2464.0,\n",
       "  183: 2220.0,\n",
       "  184: 2572.0,\n",
       "  185: 2255.0,\n",
       "  186: 2202.0,\n",
       "  187: 4215.0,\n",
       "  188: 4190.0,\n",
       "  189: 3962.0,\n",
       "  190: 4215.0,\n",
       "  191: 3233.0,\n",
       "  192: 3353.0,\n",
       "  193: 3012.0,\n",
       "  194: 3085.0,\n",
       "  195: 2035.0,\n",
       "  196: 2164.0,\n",
       "  197: 1937.0,\n",
       "  198: 1795.0,\n",
       "  199: 3651.0,\n",
       "  200: 3574.0,\n",
       "  201: 3645.0,\n",
       "  202: 3193.0,\n",
       "  203: 1825.0,\n",
       "  204: 1990.0,\n",
       "  205: 2155.0,\n",
       "  206: 2565.0,\n",
       "  207: 3150.0,\n",
       "  208: 3940.0,\n",
       "  209: 3270.0,\n",
       "  210: 2930.0,\n",
       "  211: 3820.0,\n",
       "  212: 4380.0,\n",
       "  213: 4055.0,\n",
       "  214: 3870.0,\n",
       "  215: 3755.0,\n",
       "  216: 2045.0,\n",
       "  217: 2155.0,\n",
       "  218: 1825.0,\n",
       "  219: 2300.0,\n",
       "  220: 1945.0,\n",
       "  221: 3880.0,\n",
       "  222: 4060.0,\n",
       "  223: 4140.0,\n",
       "  224: 4295.0,\n",
       "  225: 3520.0,\n",
       "  226: 3425.0,\n",
       "  227: 3630.0,\n",
       "  228: 3525.0,\n",
       "  229: 4220.0,\n",
       "  230: 4165.0,\n",
       "  231: 4325.0,\n",
       "  232: 4335.0,\n",
       "  233: 1940.0,\n",
       "  234: 2740.0,\n",
       "  235: 2265.0,\n",
       "  236: 2755.0,\n",
       "  237: 2051.0,\n",
       "  238: 2075.0,\n",
       "  239: 1985.0,\n",
       "  240: 2190.0,\n",
       "  241: 2815.0,\n",
       "  242: 2600.0,\n",
       "  243: 2720.0,\n",
       "  244: 1985.0,\n",
       "  245: 1800.0,\n",
       "  246: 1985.0,\n",
       "  247: 2070.0,\n",
       "  248: 1800.0,\n",
       "  249: 3365.0,\n",
       "  250: 3735.0,\n",
       "  251: 3570.0,\n",
       "  252: 3535.0,\n",
       "  253: 3155.0,\n",
       "  254: 2965.0,\n",
       "  255: 2720.0,\n",
       "  256: 3430.0,\n",
       "  257: 3210.0,\n",
       "  258: 3380.0,\n",
       "  259: 3070.0,\n",
       "  260: 3620.0,\n",
       "  261: 3410.0,\n",
       "  262: 3425.0,\n",
       "  263: 3445.0,\n",
       "  264: 3205.0,\n",
       "  265: 4080.0,\n",
       "  266: 2155.0,\n",
       "  267: 2560.0,\n",
       "  268: 2300.0,\n",
       "  269: 2230.0,\n",
       "  270: 2515.0,\n",
       "  271: 2745.0,\n",
       "  272: 2855.0,\n",
       "  273: 2405.0,\n",
       "  274: 2830.0,\n",
       "  275: 3140.0,\n",
       "  276: 2795.0,\n",
       "  277: 3410.0,\n",
       "  278: 1990.0,\n",
       "  279: 2135.0,\n",
       "  280: 3245.0,\n",
       "  281: 2990.0,\n",
       "  282: 2890.0,\n",
       "  283: 3265.0,\n",
       "  284: 3360.0,\n",
       "  285: 3840.0,\n",
       "  286: 3725.0,\n",
       "  287: 3955.0,\n",
       "  288: 3830.0,\n",
       "  289: 4360.0,\n",
       "  290: 4054.0,\n",
       "  291: 3605.0,\n",
       "  292: 3940.0,\n",
       "  293: 1925.0,\n",
       "  294: 1975.0,\n",
       "  295: 1915.0,\n",
       "  296: 2670.0,\n",
       "  297: 3530.0,\n",
       "  298: 3900.0,\n",
       "  299: 3190.0,\n",
       "  300: 3420.0,\n",
       "  301: 2200.0,\n",
       "  302: 2150.0,\n",
       "  303: 2020.0,\n",
       "  304: 2130.0,\n",
       "  305: 2670.0,\n",
       "  306: 2595.0,\n",
       "  307: 2700.0,\n",
       "  308: 2556.0,\n",
       "  309: 2144.0,\n",
       "  310: 1968.0,\n",
       "  311: 2120.0,\n",
       "  312: 2019.0,\n",
       "  313: 2678.0,\n",
       "  314: 2870.0,\n",
       "  315: 3003.0,\n",
       "  316: 3381.0,\n",
       "  317: 2188.0,\n",
       "  318: 2711.0,\n",
       "  319: 2542.0,\n",
       "  320: 2434.0,\n",
       "  321: 2265.0,\n",
       "  322: 2110.0,\n",
       "  323: 2800.0,\n",
       "  324: 2110.0,\n",
       "  325: 2085.0,\n",
       "  326: 2335.0,\n",
       "  327: 2950.0,\n",
       "  328: 3250.0,\n",
       "  329: 1850.0,\n",
       "  330: 1835.0,\n",
       "  331: 2145.0,\n",
       "  332: 1845.0,\n",
       "  333: 2910.0,\n",
       "  334: 2420.0,\n",
       "  335: 2500.0,\n",
       "  336: 2905.0,\n",
       "  337: 2290.0,\n",
       "  338: 2490.0,\n",
       "  339: 2635.0,\n",
       "  340: 2620.0,\n",
       "  341: 2725.0,\n",
       "  342: 2385.0,\n",
       "  343: 1755.0,\n",
       "  344: 1875.0,\n",
       "  345: 1760.0,\n",
       "  346: 2065.0,\n",
       "  347: 1975.0,\n",
       "  348: 2050.0,\n",
       "  349: 1985.0,\n",
       "  350: 2215.0,\n",
       "  351: 2045.0,\n",
       "  352: 2380.0,\n",
       "  353: 2190.0,\n",
       "  354: 2320.0,\n",
       "  355: 2210.0,\n",
       "  356: 2350.0,\n",
       "  357: 2615.0,\n",
       "  358: 2635.0,\n",
       "  359: 3230.0,\n",
       "  360: 3160.0,\n",
       "  361: 2900.0,\n",
       "  362: 2930.0,\n",
       "  363: 3415.0,\n",
       "  364: 3725.0,\n",
       "  365: 3060.0,\n",
       "  366: 3465.0,\n",
       "  367: 2605.0,\n",
       "  368: 2640.0,\n",
       "  369: 2395.0,\n",
       "  370: 2575.0,\n",
       "  371: 2525.0,\n",
       "  372: 2735.0,\n",
       "  373: 2865.0,\n",
       "  374: 3035.0,\n",
       "  375: 1980.0,\n",
       "  376: 2025.0,\n",
       "  377: 1970.0,\n",
       "  378: 2125.0,\n",
       "  379: 2125.0,\n",
       "  380: 2160.0,\n",
       "  381: 2205.0,\n",
       "  382: 2245.0,\n",
       "  383: 1965.0,\n",
       "  384: 1965.0,\n",
       "  385: 1995.0,\n",
       "  386: 2945.0,\n",
       "  387: 3015.0,\n",
       "  388: 2585.0,\n",
       "  389: 2835.0,\n",
       "  390: 2665.0,\n",
       "  391: 2370.0,\n",
       "  392: 2950.0,\n",
       "  393: 2790.0,\n",
       "  394: 2130.0,\n",
       "  395: 2295.0,\n",
       "  396: 2625.0,\n",
       "  397: 2720.0},\n",
       " 'acc': {0: 12.0,\n",
       "  1: 11.5,\n",
       "  2: 11.0,\n",
       "  3: 12.0,\n",
       "  4: 10.5,\n",
       "  5: 10.0,\n",
       "  6: 9.0,\n",
       "  7: 8.5,\n",
       "  8: 10.0,\n",
       "  9: 8.5,\n",
       "  10: 10.0,\n",
       "  11: 8.0,\n",
       "  12: 9.5,\n",
       "  13: 10.0,\n",
       "  14: 15.0,\n",
       "  15: 15.5,\n",
       "  16: 15.5,\n",
       "  17: 16.0,\n",
       "  18: 14.5,\n",
       "  19: 20.5,\n",
       "  20: 17.5,\n",
       "  21: 14.5,\n",
       "  22: 17.5,\n",
       "  23: 12.5,\n",
       "  24: 15.0,\n",
       "  25: 14.0,\n",
       "  26: 15.0,\n",
       "  27: 13.5,\n",
       "  28: 18.5,\n",
       "  29: 14.5,\n",
       "  30: 15.5,\n",
       "  31: 14.0,\n",
       "  32: 19.0,\n",
       "  33: 13.0,\n",
       "  34: 15.5,\n",
       "  35: 15.5,\n",
       "  36: 15.5,\n",
       "  37: 15.5,\n",
       "  38: 12.0,\n",
       "  39: 11.5,\n",
       "  40: 13.5,\n",
       "  41: 13.0,\n",
       "  42: 11.5,\n",
       "  43: 12.0,\n",
       "  44: 12.0,\n",
       "  45: 13.5,\n",
       "  46: 19.0,\n",
       "  47: 15.0,\n",
       "  48: 14.5,\n",
       "  49: 14.0,\n",
       "  50: 14.0,\n",
       "  51: 19.5,\n",
       "  52: 14.5,\n",
       "  53: 19.0,\n",
       "  54: 18.0,\n",
       "  55: 19.0,\n",
       "  56: 20.5,\n",
       "  57: 15.5,\n",
       "  58: 17.0,\n",
       "  59: 23.5,\n",
       "  60: 19.5,\n",
       "  61: 16.5,\n",
       "  62: 12.0,\n",
       "  63: 12.0,\n",
       "  64: 13.5,\n",
       "  65: 13.0,\n",
       "  66: 11.5,\n",
       "  67: 11.0,\n",
       "  68: 13.5,\n",
       "  69: 13.5,\n",
       "  70: 12.5,\n",
       "  71: 13.5,\n",
       "  72: 12.5,\n",
       "  73: 14.0,\n",
       "  74: 16.0,\n",
       "  75: 14.0,\n",
       "  76: 14.5,\n",
       "  77: 18.0,\n",
       "  78: 19.5,\n",
       "  79: 18.0,\n",
       "  80: 16.0,\n",
       "  81: 17.0,\n",
       "  82: 14.5,\n",
       "  83: 15.0,\n",
       "  84: 16.5,\n",
       "  85: 13.0,\n",
       "  86: 11.5,\n",
       "  87: 13.0,\n",
       "  88: 14.5,\n",
       "  89: 12.5,\n",
       "  90: 11.5,\n",
       "  91: 12.0,\n",
       "  92: 13.0,\n",
       "  93: 14.5,\n",
       "  94: 11.0,\n",
       "  95: 11.0,\n",
       "  96: 11.0,\n",
       "  97: 16.5,\n",
       "  98: 18.0,\n",
       "  99: 16.0,\n",
       "  100: 16.5,\n",
       "  101: 16.0,\n",
       "  102: 21.0,\n",
       "  103: 14.0,\n",
       "  104: 12.5,\n",
       "  105: 13.0,\n",
       "  106: 12.5,\n",
       "  107: 15.0,\n",
       "  108: 19.0,\n",
       "  109: 19.5,\n",
       "  110: 16.5,\n",
       "  111: 13.5,\n",
       "  112: 18.5,\n",
       "  113: 14.0,\n",
       "  114: 15.5,\n",
       "  115: 13.0,\n",
       "  116: 9.5,\n",
       "  117: 19.5,\n",
       "  118: 15.5,\n",
       "  119: 14.0,\n",
       "  120: 15.5,\n",
       "  121: 11.0,\n",
       "  122: 14.0,\n",
       "  123: 13.5,\n",
       "  124: 11.0,\n",
       "  125: 16.5,\n",
       "  126: 17.0,\n",
       "  127: 16.0,\n",
       "  128: 17.0,\n",
       "  129: 19.0,\n",
       "  130: 16.5,\n",
       "  131: 21.0,\n",
       "  132: 17.0,\n",
       "  133: 17.0,\n",
       "  134: 18.0,\n",
       "  135: 16.5,\n",
       "  136: 14.0,\n",
       "  137: 14.5,\n",
       "  138: 13.5,\n",
       "  139: 16.0,\n",
       "  140: 15.5,\n",
       "  141: 16.5,\n",
       "  142: 15.5,\n",
       "  143: 14.5,\n",
       "  144: 16.5,\n",
       "  145: 19.0,\n",
       "  146: 14.5,\n",
       "  147: 15.5,\n",
       "  148: 14.0,\n",
       "  149: 15.0,\n",
       "  150: 15.5,\n",
       "  151: 16.0,\n",
       "  152: 16.0,\n",
       "  153: 16.0,\n",
       "  154: 21.0,\n",
       "  155: 19.5,\n",
       "  156: 11.5,\n",
       "  157: 14.0,\n",
       "  158: 14.5,\n",
       "  159: 13.5,\n",
       "  160: 21.0,\n",
       "  161: 18.5,\n",
       "  162: 19.0,\n",
       "  163: 19.0,\n",
       "  164: 15.0,\n",
       "  165: 13.5,\n",
       "  166: 12.0,\n",
       "  167: 16.0,\n",
       "  168: 17.0,\n",
       "  169: 16.0,\n",
       "  170: 18.5,\n",
       "  171: 13.5,\n",
       "  172: 16.5,\n",
       "  173: 17.0,\n",
       "  174: 14.5,\n",
       "  175: 14.0,\n",
       "  176: 17.0,\n",
       "  177: 15.0,\n",
       "  178: 17.0,\n",
       "  179: 14.5,\n",
       "  180: 13.5,\n",
       "  181: 17.5,\n",
       "  182: 15.5,\n",
       "  183: 16.9,\n",
       "  184: 14.9,\n",
       "  185: 17.7,\n",
       "  186: 15.3,\n",
       "  187: 13.0,\n",
       "  188: 13.0,\n",
       "  189: 13.9,\n",
       "  190: 12.8,\n",
       "  191: 15.4,\n",
       "  192: 14.5,\n",
       "  193: 17.6,\n",
       "  194: 17.6,\n",
       "  195: 22.2,\n",
       "  196: 22.1,\n",
       "  197: 14.2,\n",
       "  198: 17.4,\n",
       "  199: 17.7,\n",
       "  200: 21.0,\n",
       "  201: 16.2,\n",
       "  202: 17.8,\n",
       "  203: 12.2,\n",
       "  204: 17.0,\n",
       "  205: 16.4,\n",
       "  206: 13.6,\n",
       "  207: 15.7,\n",
       "  208: 13.2,\n",
       "  209: 21.9,\n",
       "  210: 15.5,\n",
       "  211: 16.7,\n",
       "  212: 12.1,\n",
       "  213: 12.0,\n",
       "  214: 15.0,\n",
       "  215: 14.0,\n",
       "  216: 18.5,\n",
       "  217: 14.8,\n",
       "  218: 18.6,\n",
       "  219: 15.5,\n",
       "  220: 16.8,\n",
       "  221: 12.5,\n",
       "  222: 19.0,\n",
       "  223: 13.7,\n",
       "  224: 14.9,\n",
       "  225: 16.4,\n",
       "  226: 16.9,\n",
       "  227: 17.7,\n",
       "  228: 19.0,\n",
       "  229: 11.1,\n",
       "  230: 11.4,\n",
       "  231: 12.2,\n",
       "  232: 14.5,\n",
       "  233: 14.5,\n",
       "  234: 16.0,\n",
       "  235: 18.2,\n",
       "  236: 15.8,\n",
       "  237: 17.0,\n",
       "  238: 15.9,\n",
       "  239: 16.4,\n",
       "  240: 14.1,\n",
       "  241: 14.5,\n",
       "  242: 12.8,\n",
       "  243: 13.5,\n",
       "  244: 21.5,\n",
       "  245: 14.4,\n",
       "  246: 19.4,\n",
       "  247: 18.6,\n",
       "  248: 16.4,\n",
       "  249: 15.5,\n",
       "  250: 13.2,\n",
       "  251: 12.8,\n",
       "  252: 19.2,\n",
       "  253: 18.2,\n",
       "  254: 15.8,\n",
       "  255: 15.4,\n",
       "  256: 17.2,\n",
       "  257: 17.2,\n",
       "  258: 15.8,\n",
       "  259: 16.7,\n",
       "  260: 18.7,\n",
       "  261: 15.1,\n",
       "  262: 13.2,\n",
       "  263: 13.4,\n",
       "  264: 11.2,\n",
       "  265: 13.7,\n",
       "  266: 16.5,\n",
       "  267: 14.2,\n",
       "  268: 14.7,\n",
       "  269: 14.5,\n",
       "  270: 14.8,\n",
       "  271: 16.7,\n",
       "  272: 17.6,\n",
       "  273: 14.9,\n",
       "  274: 15.9,\n",
       "  275: 13.6,\n",
       "  276: 15.7,\n",
       "  277: 15.8,\n",
       "  278: 14.9,\n",
       "  279: 16.6,\n",
       "  280: 15.4,\n",
       "  281: 18.2,\n",
       "  282: 17.3,\n",
       "  283: 18.2,\n",
       "  284: 16.6,\n",
       "  285: 15.4,\n",
       "  286: 13.4,\n",
       "  287: 13.2,\n",
       "  288: 15.2,\n",
       "  289: 14.9,\n",
       "  290: 14.3,\n",
       "  291: 15.0,\n",
       "  292: 13.0,\n",
       "  293: 14.0,\n",
       "  294: 15.2,\n",
       "  295: 14.4,\n",
       "  296: 15.0,\n",
       "  297: 20.1,\n",
       "  298: 17.4,\n",
       "  299: 24.8,\n",
       "  300: 22.2,\n",
       "  301: 13.2,\n",
       "  302: 14.9,\n",
       "  303: 19.2,\n",
       "  304: 14.7,\n",
       "  305: 16.0,\n",
       "  306: 11.3,\n",
       "  307: 12.9,\n",
       "  308: 13.2,\n",
       "  309: 14.7,\n",
       "  310: 18.8,\n",
       "  311: 15.5,\n",
       "  312: 16.4,\n",
       "  313: 16.5,\n",
       "  314: 18.1,\n",
       "  315: 20.1,\n",
       "  316: 18.7,\n",
       "  317: 15.8,\n",
       "  318: 15.5,\n",
       "  319: 17.5,\n",
       "  320: 15.0,\n",
       "  321: 15.2,\n",
       "  322: 17.9,\n",
       "  323: 14.4,\n",
       "  324: 19.2,\n",
       "  325: 21.7,\n",
       "  326: 23.7,\n",
       "  327: 19.9,\n",
       "  328: 21.8,\n",
       "  329: 13.8,\n",
       "  330: 17.3,\n",
       "  331: 18.0,\n",
       "  332: 15.3,\n",
       "  333: 11.4,\n",
       "  334: 12.5,\n",
       "  335: 15.1,\n",
       "  336: 14.3,\n",
       "  337: 17.0,\n",
       "  338: 15.7,\n",
       "  339: 16.4,\n",
       "  340: 14.4,\n",
       "  341: 12.6,\n",
       "  342: 12.9,\n",
       "  343: 16.9,\n",
       "  344: 16.4,\n",
       "  345: 16.1,\n",
       "  346: 17.8,\n",
       "  347: 19.4,\n",
       "  348: 17.3,\n",
       "  349: 16.0,\n",
       "  350: 14.9,\n",
       "  351: 16.2,\n",
       "  352: 20.7,\n",
       "  353: 14.2,\n",
       "  354: 15.8,\n",
       "  355: 14.4,\n",
       "  356: 16.8,\n",
       "  357: 14.8,\n",
       "  358: 18.3,\n",
       "  359: 20.4,\n",
       "  360: 19.6,\n",
       "  361: 12.6,\n",
       "  362: 13.8,\n",
       "  363: 15.8,\n",
       "  364: 19.0,\n",
       "  365: 17.1,\n",
       "  366: 16.6,\n",
       "  367: 19.6,\n",
       "  368: 18.6,\n",
       "  369: 18.0,\n",
       "  370: 16.2,\n",
       "  371: 16.0,\n",
       "  372: 18.0,\n",
       "  373: 16.4,\n",
       "  374: 20.5,\n",
       "  375: 15.3,\n",
       "  376: 18.2,\n",
       "  377: 17.6,\n",
       "  378: 14.7,\n",
       "  379: 17.3,\n",
       "  380: 14.5,\n",
       "  381: 14.5,\n",
       "  382: 16.9,\n",
       "  383: 15.0,\n",
       "  384: 15.7,\n",
       "  385: 16.2,\n",
       "  386: 16.4,\n",
       "  387: 17.0,\n",
       "  388: 14.5,\n",
       "  389: 14.7,\n",
       "  390: 13.9,\n",
       "  391: 13.0,\n",
       "  392: 17.3,\n",
       "  393: 15.6,\n",
       "  394: 24.6,\n",
       "  395: 11.6,\n",
       "  396: 18.6,\n",
       "  397: 19.4},\n",
       " 'm_year': {0: 70,\n",
       "  1: 70,\n",
       "  2: 70,\n",
       "  3: 70,\n",
       "  4: 70,\n",
       "  5: 70,\n",
       "  6: 70,\n",
       "  7: 70,\n",
       "  8: 70,\n",
       "  9: 70,\n",
       "  10: 70,\n",
       "  11: 70,\n",
       "  12: 70,\n",
       "  13: 70,\n",
       "  14: 70,\n",
       "  15: 70,\n",
       "  16: 70,\n",
       "  17: 70,\n",
       "  18: 70,\n",
       "  19: 70,\n",
       "  20: 70,\n",
       "  21: 70,\n",
       "  22: 70,\n",
       "  23: 70,\n",
       "  24: 70,\n",
       "  25: 70,\n",
       "  26: 70,\n",
       "  27: 70,\n",
       "  28: 70,\n",
       "  29: 71,\n",
       "  30: 71,\n",
       "  31: 71,\n",
       "  32: 71,\n",
       "  33: 71,\n",
       "  34: 71,\n",
       "  35: 71,\n",
       "  36: 71,\n",
       "  37: 71,\n",
       "  38: 71,\n",
       "  39: 71,\n",
       "  40: 71,\n",
       "  41: 71,\n",
       "  42: 71,\n",
       "  43: 71,\n",
       "  44: 71,\n",
       "  45: 71,\n",
       "  46: 71,\n",
       "  47: 71,\n",
       "  48: 71,\n",
       "  49: 71,\n",
       "  50: 71,\n",
       "  51: 71,\n",
       "  52: 71,\n",
       "  53: 71,\n",
       "  54: 71,\n",
       "  55: 71,\n",
       "  56: 71,\n",
       "  57: 72,\n",
       "  58: 72,\n",
       "  59: 72,\n",
       "  60: 72,\n",
       "  61: 72,\n",
       "  62: 72,\n",
       "  63: 72,\n",
       "  64: 72,\n",
       "  65: 72,\n",
       "  66: 72,\n",
       "  67: 72,\n",
       "  68: 72,\n",
       "  69: 72,\n",
       "  70: 72,\n",
       "  71: 72,\n",
       "  72: 72,\n",
       "  73: 72,\n",
       "  74: 72,\n",
       "  75: 72,\n",
       "  76: 72,\n",
       "  77: 72,\n",
       "  78: 72,\n",
       "  79: 72,\n",
       "  80: 72,\n",
       "  81: 72,\n",
       "  82: 72,\n",
       "  83: 72,\n",
       "  84: 72,\n",
       "  85: 73,\n",
       "  86: 73,\n",
       "  87: 73,\n",
       "  88: 73,\n",
       "  89: 73,\n",
       "  90: 73,\n",
       "  91: 73,\n",
       "  92: 73,\n",
       "  93: 73,\n",
       "  94: 73,\n",
       "  95: 73,\n",
       "  96: 73,\n",
       "  97: 73,\n",
       "  98: 73,\n",
       "  99: 73,\n",
       "  100: 73,\n",
       "  101: 73,\n",
       "  102: 73,\n",
       "  103: 73,\n",
       "  104: 73,\n",
       "  105: 73,\n",
       "  106: 73,\n",
       "  107: 73,\n",
       "  108: 73,\n",
       "  109: 73,\n",
       "  110: 73,\n",
       "  111: 73,\n",
       "  112: 73,\n",
       "  113: 73,\n",
       "  114: 73,\n",
       "  115: 73,\n",
       "  116: 73,\n",
       "  117: 73,\n",
       "  118: 73,\n",
       "  119: 73,\n",
       "  120: 73,\n",
       "  121: 73,\n",
       "  122: 73,\n",
       "  123: 73,\n",
       "  124: 73,\n",
       "  125: 74,\n",
       "  126: 74,\n",
       "  127: 74,\n",
       "  128: 74,\n",
       "  129: 74,\n",
       "  130: 74,\n",
       "  131: 74,\n",
       "  132: 74,\n",
       "  133: 74,\n",
       "  134: 74,\n",
       "  135: 74,\n",
       "  136: 74,\n",
       "  137: 74,\n",
       "  138: 74,\n",
       "  139: 74,\n",
       "  140: 74,\n",
       "  141: 74,\n",
       "  142: 74,\n",
       "  143: 74,\n",
       "  144: 74,\n",
       "  145: 74,\n",
       "  146: 74,\n",
       "  147: 74,\n",
       "  148: 74,\n",
       "  149: 74,\n",
       "  150: 74,\n",
       "  151: 74,\n",
       "  152: 75,\n",
       "  153: 75,\n",
       "  154: 75,\n",
       "  155: 75,\n",
       "  156: 75,\n",
       "  157: 75,\n",
       "  158: 75,\n",
       "  159: 75,\n",
       "  160: 75,\n",
       "  161: 75,\n",
       "  162: 75,\n",
       "  163: 75,\n",
       "  164: 75,\n",
       "  165: 75,\n",
       "  166: 75,\n",
       "  167: 75,\n",
       "  168: 75,\n",
       "  169: 75,\n",
       "  170: 75,\n",
       "  171: 75,\n",
       "  172: 75,\n",
       "  173: 75,\n",
       "  174: 75,\n",
       "  175: 75,\n",
       "  176: 75,\n",
       "  177: 75,\n",
       "  178: 75,\n",
       "  179: 75,\n",
       "  180: 75,\n",
       "  181: 75,\n",
       "  182: 76,\n",
       "  183: 76,\n",
       "  184: 76,\n",
       "  185: 76,\n",
       "  186: 76,\n",
       "  187: 76,\n",
       "  188: 76,\n",
       "  189: 76,\n",
       "  190: 76,\n",
       "  191: 76,\n",
       "  192: 76,\n",
       "  193: 76,\n",
       "  194: 76,\n",
       "  195: 76,\n",
       "  196: 76,\n",
       "  197: 76,\n",
       "  198: 76,\n",
       "  199: 76,\n",
       "  200: 76,\n",
       "  201: 76,\n",
       "  202: 76,\n",
       "  203: 76,\n",
       "  204: 76,\n",
       "  205: 76,\n",
       "  206: 76,\n",
       "  207: 76,\n",
       "  208: 76,\n",
       "  209: 76,\n",
       "  210: 76,\n",
       "  211: 76,\n",
       "  212: 76,\n",
       "  213: 76,\n",
       "  214: 76,\n",
       "  215: 76,\n",
       "  216: 77,\n",
       "  217: 77,\n",
       "  218: 77,\n",
       "  219: 77,\n",
       "  220: 77,\n",
       "  221: 77,\n",
       "  222: 77,\n",
       "  223: 77,\n",
       "  224: 77,\n",
       "  225: 77,\n",
       "  226: 77,\n",
       "  227: 77,\n",
       "  228: 77,\n",
       "  229: 77,\n",
       "  230: 77,\n",
       "  231: 77,\n",
       "  232: 77,\n",
       "  233: 77,\n",
       "  234: 77,\n",
       "  235: 77,\n",
       "  236: 77,\n",
       "  237: 77,\n",
       "  238: 77,\n",
       "  239: 77,\n",
       "  240: 77,\n",
       "  241: 77,\n",
       "  242: 77,\n",
       "  243: 77,\n",
       "  244: 78,\n",
       "  245: 78,\n",
       "  246: 78,\n",
       "  247: 78,\n",
       "  248: 78,\n",
       "  249: 78,\n",
       "  250: 78,\n",
       "  251: 78,\n",
       "  252: 78,\n",
       "  253: 78,\n",
       "  254: 78,\n",
       "  255: 78,\n",
       "  256: 78,\n",
       "  257: 78,\n",
       "  258: 78,\n",
       "  259: 78,\n",
       "  260: 78,\n",
       "  261: 78,\n",
       "  262: 78,\n",
       "  263: 78,\n",
       "  264: 78,\n",
       "  265: 78,\n",
       "  266: 78,\n",
       "  267: 78,\n",
       "  268: 78,\n",
       "  269: 78,\n",
       "  270: 78,\n",
       "  271: 78,\n",
       "  272: 78,\n",
       "  273: 78,\n",
       "  274: 78,\n",
       "  275: 78,\n",
       "  276: 78,\n",
       "  277: 78,\n",
       "  278: 78,\n",
       "  279: 78,\n",
       "  280: 79,\n",
       "  281: 79,\n",
       "  282: 79,\n",
       "  283: 79,\n",
       "  284: 79,\n",
       "  285: 79,\n",
       "  286: 79,\n",
       "  287: 79,\n",
       "  288: 79,\n",
       "  289: 79,\n",
       "  290: 79,\n",
       "  291: 79,\n",
       "  292: 79,\n",
       "  293: 79,\n",
       "  294: 79,\n",
       "  295: 79,\n",
       "  296: 79,\n",
       "  297: 79,\n",
       "  298: 79,\n",
       "  299: 79,\n",
       "  300: 79,\n",
       "  301: 79,\n",
       "  302: 79,\n",
       "  303: 79,\n",
       "  304: 79,\n",
       "  305: 79,\n",
       "  306: 79,\n",
       "  307: 79,\n",
       "  308: 79,\n",
       "  309: 80,\n",
       "  310: 80,\n",
       "  311: 80,\n",
       "  312: 80,\n",
       "  313: 80,\n",
       "  314: 80,\n",
       "  315: 80,\n",
       "  316: 80,\n",
       "  317: 80,\n",
       "  318: 80,\n",
       "  319: 80,\n",
       "  320: 80,\n",
       "  321: 80,\n",
       "  322: 80,\n",
       "  323: 80,\n",
       "  324: 80,\n",
       "  325: 80,\n",
       "  326: 80,\n",
       "  327: 80,\n",
       "  328: 80,\n",
       "  329: 80,\n",
       "  330: 80,\n",
       "  331: 80,\n",
       "  332: 80,\n",
       "  333: 80,\n",
       "  334: 80,\n",
       "  335: 80,\n",
       "  336: 80,\n",
       "  337: 80,\n",
       "  338: 81,\n",
       "  339: 81,\n",
       "  340: 81,\n",
       "  341: 81,\n",
       "  342: 81,\n",
       "  343: 81,\n",
       "  344: 81,\n",
       "  345: 81,\n",
       "  346: 81,\n",
       "  347: 81,\n",
       "  348: 81,\n",
       "  349: 81,\n",
       "  350: 81,\n",
       "  351: 81,\n",
       "  352: 81,\n",
       "  353: 81,\n",
       "  354: 81,\n",
       "  355: 81,\n",
       "  356: 81,\n",
       "  357: 81,\n",
       "  358: 81,\n",
       "  359: 81,\n",
       "  360: 81,\n",
       "  361: 81,\n",
       "  362: 81,\n",
       "  363: 81,\n",
       "  364: 81,\n",
       "  365: 81,\n",
       "  366: 81,\n",
       "  367: 82,\n",
       "  368: 82,\n",
       "  369: 82,\n",
       "  370: 82,\n",
       "  371: 82,\n",
       "  372: 82,\n",
       "  373: 82,\n",
       "  374: 82,\n",
       "  375: 82,\n",
       "  376: 82,\n",
       "  377: 82,\n",
       "  378: 82,\n",
       "  379: 82,\n",
       "  380: 82,\n",
       "  381: 82,\n",
       "  382: 82,\n",
       "  383: 82,\n",
       "  384: 82,\n",
       "  385: 82,\n",
       "  386: 82,\n",
       "  387: 82,\n",
       "  388: 82,\n",
       "  389: 82,\n",
       "  390: 82,\n",
       "  391: 82,\n",
       "  392: 82,\n",
       "  393: 82,\n",
       "  394: 82,\n",
       "  395: 82,\n",
       "  396: 82,\n",
       "  397: 82},\n",
       " 'origin': {0: 1,\n",
       "  1: 1,\n",
       "  2: 1,\n",
       "  3: 1,\n",
       "  4: 1,\n",
       "  5: 1,\n",
       "  6: 1,\n",
       "  7: 1,\n",
       "  8: 1,\n",
       "  9: 1,\n",
       "  10: 1,\n",
       "  11: 1,\n",
       "  12: 1,\n",
       "  13: 1,\n",
       "  14: 3,\n",
       "  15: 1,\n",
       "  16: 1,\n",
       "  17: 1,\n",
       "  18: 3,\n",
       "  19: 2,\n",
       "  20: 2,\n",
       "  21: 2,\n",
       "  22: 2,\n",
       "  23: 2,\n",
       "  24: 1,\n",
       "  25: 1,\n",
       "  26: 1,\n",
       "  27: 1,\n",
       "  28: 1,\n",
       "  29: 3,\n",
       "  30: 1,\n",
       "  31: 3,\n",
       "  32: 1,\n",
       "  33: 1,\n",
       "  34: 1,\n",
       "  35: 1,\n",
       "  36: 1,\n",
       "  37: 1,\n",
       "  38: 1,\n",
       "  39: 1,\n",
       "  40: 1,\n",
       "  41: 1,\n",
       "  42: 1,\n",
       "  43: 1,\n",
       "  44: 1,\n",
       "  45: 1,\n",
       "  46: 1,\n",
       "  47: 1,\n",
       "  48: 1,\n",
       "  49: 1,\n",
       "  50: 2,\n",
       "  51: 2,\n",
       "  52: 2,\n",
       "  53: 3,\n",
       "  54: 3,\n",
       "  55: 2,\n",
       "  56: 1,\n",
       "  57: 3,\n",
       "  58: 1,\n",
       "  59: 2,\n",
       "  60: 1,\n",
       "  61: 1,\n",
       "  62: 1,\n",
       "  63: 1,\n",
       "  64: 1,\n",
       "  65: 1,\n",
       "  66: 1,\n",
       "  67: 1,\n",
       "  68: 1,\n",
       "  69: 1,\n",
       "  70: 1,\n",
       "  71: 3,\n",
       "  72: 1,\n",
       "  73: 1,\n",
       "  74: 1,\n",
       "  75: 1,\n",
       "  76: 2,\n",
       "  77: 2,\n",
       "  78: 2,\n",
       "  79: 2,\n",
       "  80: 1,\n",
       "  81: 3,\n",
       "  82: 3,\n",
       "  83: 1,\n",
       "  84: 3,\n",
       "  85: 1,\n",
       "  86: 1,\n",
       "  87: 1,\n",
       "  88: 1,\n",
       "  89: 1,\n",
       "  90: 1,\n",
       "  91: 1,\n",
       "  92: 1,\n",
       "  93: 1,\n",
       "  94: 1,\n",
       "  95: 1,\n",
       "  96: 1,\n",
       "  97: 1,\n",
       "  98: 1,\n",
       "  99: 1,\n",
       "  100: 1,\n",
       "  101: 1,\n",
       "  102: 2,\n",
       "  103: 1,\n",
       "  104: 1,\n",
       "  105: 1,\n",
       "  106: 1,\n",
       "  107: 1,\n",
       "  108: 3,\n",
       "  109: 1,\n",
       "  110: 3,\n",
       "  111: 3,\n",
       "  112: 1,\n",
       "  113: 1,\n",
       "  114: 2,\n",
       "  115: 1,\n",
       "  116: 1,\n",
       "  117: 2,\n",
       "  118: 2,\n",
       "  119: 2,\n",
       "  120: 2,\n",
       "  121: 1,\n",
       "  122: 2,\n",
       "  123: 3,\n",
       "  124: 1,\n",
       "  125: 1,\n",
       "  126: 1,\n",
       "  127: 1,\n",
       "  128: 1,\n",
       "  129: 3,\n",
       "  130: 1,\n",
       "  131: 3,\n",
       "  132: 1,\n",
       "  133: 1,\n",
       "  134: 1,\n",
       "  135: 1,\n",
       "  136: 1,\n",
       "  137: 1,\n",
       "  138: 1,\n",
       "  139: 1,\n",
       "  140: 1,\n",
       "  141: 2,\n",
       "  142: 2,\n",
       "  143: 2,\n",
       "  144: 3,\n",
       "  145: 3,\n",
       "  146: 1,\n",
       "  147: 2,\n",
       "  148: 2,\n",
       "  149: 3,\n",
       "  150: 3,\n",
       "  151: 2,\n",
       "  152: 1,\n",
       "  153: 1,\n",
       "  154: 1,\n",
       "  155: 1,\n",
       "  156: 1,\n",
       "  157: 1,\n",
       "  158: 1,\n",
       "  159: 1,\n",
       "  160: 1,\n",
       "  161: 1,\n",
       "  162: 1,\n",
       "  163: 1,\n",
       "  164: 1,\n",
       "  165: 1,\n",
       "  166: 1,\n",
       "  167: 3,\n",
       "  168: 1,\n",
       "  169: 1,\n",
       "  170: 1,\n",
       "  171: 3,\n",
       "  172: 2,\n",
       "  173: 3,\n",
       "  174: 1,\n",
       "  175: 2,\n",
       "  176: 1,\n",
       "  177: 2,\n",
       "  178: 2,\n",
       "  179: 2,\n",
       "  180: 2,\n",
       "  181: 3,\n",
       "  182: 2,\n",
       "  183: 2,\n",
       "  184: 1,\n",
       "  185: 1,\n",
       "  186: 2,\n",
       "  187: 1,\n",
       "  188: 1,\n",
       "  189: 1,\n",
       "  190: 1,\n",
       "  191: 1,\n",
       "  192: 1,\n",
       "  193: 1,\n",
       "  194: 1,\n",
       "  195: 1,\n",
       "  196: 1,\n",
       "  197: 2,\n",
       "  198: 3,\n",
       "  199: 1,\n",
       "  200: 1,\n",
       "  201: 1,\n",
       "  202: 1,\n",
       "  203: 2,\n",
       "  204: 3,\n",
       "  205: 3,\n",
       "  206: 1,\n",
       "  207: 2,\n",
       "  208: 1,\n",
       "  209: 2,\n",
       "  210: 3,\n",
       "  211: 2,\n",
       "  212: 1,\n",
       "  213: 1,\n",
       "  214: 1,\n",
       "  215: 1,\n",
       "  216: 3,\n",
       "  217: 1,\n",
       "  218: 2,\n",
       "  219: 1,\n",
       "  220: 3,\n",
       "  221: 1,\n",
       "  222: 1,\n",
       "  223: 1,\n",
       "  224: 1,\n",
       "  225: 1,\n",
       "  226: 1,\n",
       "  227: 1,\n",
       "  228: 1,\n",
       "  229: 1,\n",
       "  230: 1,\n",
       "  231: 1,\n",
       "  232: 1,\n",
       "  233: 2,\n",
       "  234: 1,\n",
       "  235: 3,\n",
       "  236: 1,\n",
       "  237: 1,\n",
       "  238: 1,\n",
       "  239: 3,\n",
       "  240: 2,\n",
       "  241: 3,\n",
       "  242: 2,\n",
       "  243: 3,\n",
       "  244: 2,\n",
       "  245: 1,\n",
       "  246: 3,\n",
       "  247: 3,\n",
       "  248: 3,\n",
       "  249: 1,\n",
       "  250: 1,\n",
       "  251: 1,\n",
       "  252: 1,\n",
       "  253: 1,\n",
       "  254: 1,\n",
       "  255: 1,\n",
       "  256: 1,\n",
       "  257: 1,\n",
       "  258: 1,\n",
       "  259: 1,\n",
       "  260: 1,\n",
       "  261: 1,\n",
       "  262: 1,\n",
       "  263: 1,\n",
       "  264: 1,\n",
       "  265: 1,\n",
       "  266: 1,\n",
       "  267: 3,\n",
       "  268: 3,\n",
       "  269: 1,\n",
       "  270: 3,\n",
       "  271: 1,\n",
       "  272: 1,\n",
       "  273: 3,\n",
       "  274: 2,\n",
       "  275: 2,\n",
       "  276: 2,\n",
       "  277: 2,\n",
       "  278: 2,\n",
       "  279: 3,\n",
       "  280: 1,\n",
       "  281: 1,\n",
       "  282: 1,\n",
       "  283: 1,\n",
       "  284: 1,\n",
       "  285: 1,\n",
       "  286: 1,\n",
       "  287: 1,\n",
       "  288: 1,\n",
       "  289: 1,\n",
       "  290: 1,\n",
       "  291: 1,\n",
       "  292: 1,\n",
       "  293: 2,\n",
       "  294: 3,\n",
       "  295: 1,\n",
       "  296: 1,\n",
       "  297: 2,\n",
       "  298: 1,\n",
       "  299: 2,\n",
       "  300: 1,\n",
       "  301: 1,\n",
       "  302: 1,\n",
       "  303: 3,\n",
       "  304: 2,\n",
       "  305: 1,\n",
       "  306: 1,\n",
       "  307: 1,\n",
       "  308: 1,\n",
       "  309: 2,\n",
       "  310: 3,\n",
       "  311: 1,\n",
       "  312: 3,\n",
       "  313: 1,\n",
       "  314: 1,\n",
       "  315: 1,\n",
       "  316: 1,\n",
       "  317: 2,\n",
       "  318: 3,\n",
       "  319: 3,\n",
       "  320: 3,\n",
       "  321: 3,\n",
       "  322: 3,\n",
       "  323: 1,\n",
       "  324: 3,\n",
       "  325: 2,\n",
       "  326: 2,\n",
       "  327: 2,\n",
       "  328: 2,\n",
       "  329: 3,\n",
       "  330: 2,\n",
       "  331: 3,\n",
       "  332: 2,\n",
       "  333: 3,\n",
       "  334: 3,\n",
       "  335: 2,\n",
       "  336: 1,\n",
       "  337: 3,\n",
       "  338: 1,\n",
       "  339: 1,\n",
       "  340: 1,\n",
       "  341: 1,\n",
       "  342: 1,\n",
       "  343: 3,\n",
       "  344: 1,\n",
       "  345: 3,\n",
       "  346: 3,\n",
       "  347: 3,\n",
       "  348: 3,\n",
       "  349: 3,\n",
       "  350: 1,\n",
       "  351: 1,\n",
       "  352: 1,\n",
       "  353: 2,\n",
       "  354: 2,\n",
       "  355: 3,\n",
       "  356: 3,\n",
       "  357: 3,\n",
       "  358: 3,\n",
       "  359: 2,\n",
       "  360: 2,\n",
       "  361: 3,\n",
       "  362: 3,\n",
       "  363: 1,\n",
       "  364: 1,\n",
       "  365: 1,\n",
       "  366: 1,\n",
       "  367: 1,\n",
       "  368: 1,\n",
       "  369: 1,\n",
       "  370: 1,\n",
       "  371: 1,\n",
       "  372: 1,\n",
       "  373: 1,\n",
       "  374: 1,\n",
       "  375: 2,\n",
       "  376: 3,\n",
       "  377: 3,\n",
       "  378: 1,\n",
       "  379: 1,\n",
       "  380: 3,\n",
       "  381: 3,\n",
       "  382: 3,\n",
       "  383: 3,\n",
       "  384: 3,\n",
       "  385: 3,\n",
       "  386: 1,\n",
       "  387: 1,\n",
       "  388: 1,\n",
       "  389: 1,\n",
       "  390: 3,\n",
       "  391: 1,\n",
       "  392: 1,\n",
       "  393: 1,\n",
       "  394: 2,\n",
       "  395: 1,\n",
       "  396: 1,\n",
       "  397: 1},\n",
       " 'car_name': {0: 'chevrolet chevelle malibu',\n",
       "  1: 'buick skylark 320',\n",
       "  2: 'plymouth satellite',\n",
       "  3: 'amc rebel sst',\n",
       "  4: 'ford torino',\n",
       "  5: 'ford galaxie 500',\n",
       "  6: 'chevrolet impala',\n",
       "  7: 'plymouth fury iii',\n",
       "  8: 'pontiac catalina',\n",
       "  9: 'amc ambassador dpl',\n",
       "  10: 'dodge challenger se',\n",
       "  11: \"plymouth 'cuda 340\",\n",
       "  12: 'chevrolet monte carlo',\n",
       "  13: 'buick estate wagon (sw)',\n",
       "  14: 'toyota corona mark ii',\n",
       "  15: 'plymouth duster',\n",
       "  16: 'amc hornet',\n",
       "  17: 'ford maverick',\n",
       "  18: 'datsun pl510',\n",
       "  19: 'volkswagen 1131 deluxe sedan',\n",
       "  20: 'peugeot 504',\n",
       "  21: 'audi 100 ls',\n",
       "  22: 'saab 99e',\n",
       "  23: 'bmw 2002',\n",
       "  24: 'amc gremlin',\n",
       "  25: 'ford f250',\n",
       "  26: 'chevy c20',\n",
       "  27: 'dodge d200',\n",
       "  28: 'hi 1200d',\n",
       "  29: 'datsun pl510',\n",
       "  30: 'chevrolet vega 2300',\n",
       "  31: 'toyota corona',\n",
       "  32: 'ford pinto',\n",
       "  33: 'amc gremlin',\n",
       "  34: 'plymouth satellite custom',\n",
       "  35: 'chevrolet chevelle malibu',\n",
       "  36: 'ford torino 500',\n",
       "  37: 'amc matador',\n",
       "  38: 'chevrolet impala',\n",
       "  39: 'pontiac catalina brougham',\n",
       "  40: 'ford galaxie 500',\n",
       "  41: 'plymouth fury iii',\n",
       "  42: 'dodge monaco (sw)',\n",
       "  43: 'ford country squire (sw)',\n",
       "  44: 'pontiac safari (sw)',\n",
       "  45: 'amc hornet sportabout (sw)',\n",
       "  46: 'chevrolet vega (sw)',\n",
       "  47: 'pontiac firebird',\n",
       "  48: 'ford mustang',\n",
       "  49: 'mercury capri 2000',\n",
       "  50: 'opel 1900',\n",
       "  51: 'peugeot 304',\n",
       "  52: 'fiat 124b',\n",
       "  53: 'toyota corolla 1200',\n",
       "  54: 'datsun 1200',\n",
       "  55: 'volkswagen model 111',\n",
       "  56: 'plymouth cricket',\n",
       "  57: 'toyota corona hardtop',\n",
       "  58: 'dodge colt hardtop',\n",
       "  59: 'volkswagen type 3',\n",
       "  60: 'chevrolet vega',\n",
       "  61: 'ford pinto runabout',\n",
       "  62: 'chevrolet impala',\n",
       "  63: 'pontiac catalina',\n",
       "  64: 'plymouth fury iii',\n",
       "  65: 'ford galaxie 500',\n",
       "  66: 'amc ambassador sst',\n",
       "  67: 'mercury marquis',\n",
       "  68: 'buick lesabre custom',\n",
       "  69: 'oldsmobile delta 88 royale',\n",
       "  70: 'chrysler newport royal',\n",
       "  71: 'mazda rx2 coupe',\n",
       "  72: 'amc matador (sw)',\n",
       "  73: 'chevrolet chevelle concours (sw)',\n",
       "  74: 'ford gran torino (sw)',\n",
       "  75: 'plymouth satellite custom (sw)',\n",
       "  76: 'volvo 145e (sw)',\n",
       "  77: 'volkswagen 411 (sw)',\n",
       "  78: 'peugeot 504 (sw)',\n",
       "  79: 'renault 12 (sw)',\n",
       "  80: 'ford pinto (sw)',\n",
       "  81: 'datsun 510 (sw)',\n",
       "  82: 'toyouta corona mark ii (sw)',\n",
       "  83: 'dodge colt (sw)',\n",
       "  84: 'toyota corolla 1600 (sw)',\n",
       "  85: 'buick century 350',\n",
       "  86: 'amc matador',\n",
       "  87: 'chevrolet malibu',\n",
       "  88: 'ford gran torino',\n",
       "  89: 'dodge coronet custom',\n",
       "  90: 'mercury marquis brougham',\n",
       "  91: 'chevrolet caprice classic',\n",
       "  92: 'ford ltd',\n",
       "  93: 'plymouth fury gran sedan',\n",
       "  94: 'chrysler new yorker brougham',\n",
       "  95: 'buick electra 225 custom',\n",
       "  96: 'amc ambassador brougham',\n",
       "  97: 'plymouth valiant',\n",
       "  98: 'chevrolet nova custom',\n",
       "  99: 'amc hornet',\n",
       "  100: 'ford maverick',\n",
       "  101: 'plymouth duster',\n",
       "  102: 'volkswagen super beetle',\n",
       "  103: 'chevrolet impala',\n",
       "  104: 'ford country',\n",
       "  105: 'plymouth custom suburb',\n",
       "  106: 'oldsmobile vista cruiser',\n",
       "  107: 'amc gremlin',\n",
       "  108: 'toyota carina',\n",
       "  109: 'chevrolet vega',\n",
       "  110: 'datsun 610',\n",
       "  111: 'maxda rx3',\n",
       "  112: 'ford pinto',\n",
       "  113: 'mercury capri v6',\n",
       "  114: 'fiat 124 sport coupe',\n",
       "  115: 'chevrolet monte carlo s',\n",
       "  116: 'pontiac grand prix',\n",
       "  117: 'fiat 128',\n",
       "  118: 'opel manta',\n",
       "  119: 'audi 100ls',\n",
       "  120: 'volvo 144ea',\n",
       "  121: 'dodge dart custom',\n",
       "  122: 'saab 99le',\n",
       "  123: 'toyota mark ii',\n",
       "  124: 'oldsmobile omega',\n",
       "  125: 'plymouth duster',\n",
       "  126: 'ford maverick',\n",
       "  127: 'amc hornet',\n",
       "  128: 'chevrolet nova',\n",
       "  129: 'datsun b210',\n",
       "  130: 'ford pinto',\n",
       "  131: 'toyota corolla 1200',\n",
       "  132: 'chevrolet vega',\n",
       "  133: 'chevrolet chevelle malibu classic',\n",
       "  134: 'amc matador',\n",
       "  135: 'plymouth satellite sebring',\n",
       "  136: 'ford gran torino',\n",
       "  137: 'buick century luxus (sw)',\n",
       "  138: 'dodge coronet custom (sw)',\n",
       "  139: 'ford gran torino (sw)',\n",
       "  140: 'amc matador (sw)',\n",
       "  141: 'audi fox',\n",
       "  142: 'volkswagen dasher',\n",
       "  143: 'opel manta',\n",
       "  144: 'toyota corona',\n",
       "  145: 'datsun 710',\n",
       "  146: 'dodge colt',\n",
       "  147: 'fiat 128',\n",
       "  148: 'fiat 124 tc',\n",
       "  149: 'honda civic',\n",
       "  150: 'subaru',\n",
       "  151: 'fiat x1.9',\n",
       "  152: 'plymouth valiant custom',\n",
       "  153: 'chevrolet nova',\n",
       "  154: 'mercury monarch',\n",
       "  155: 'ford maverick',\n",
       "  156: 'pontiac catalina',\n",
       "  157: 'chevrolet bel air',\n",
       "  158: 'plymouth grand fury',\n",
       "  159: 'ford ltd',\n",
       "  160: 'buick century',\n",
       "  161: 'chevroelt chevelle malibu',\n",
       "  162: 'amc matador',\n",
       "  163: 'plymouth fury',\n",
       "  164: 'buick skyhawk',\n",
       "  165: 'chevrolet monza 2+2',\n",
       "  166: 'ford mustang ii',\n",
       "  167: 'toyota corolla',\n",
       "  168: 'ford pinto',\n",
       "  169: 'amc gremlin',\n",
       "  170: 'pontiac astro',\n",
       "  171: 'toyota corona',\n",
       "  172: 'volkswagen dasher',\n",
       "  173: 'datsun 710',\n",
       "  174: 'ford pinto',\n",
       "  175: 'volkswagen rabbit',\n",
       "  176: 'amc pacer',\n",
       "  177: 'audi 100ls',\n",
       "  178: 'peugeot 504',\n",
       "  179: 'volvo 244dl',\n",
       "  180: 'saab 99le',\n",
       "  181: 'honda civic cvcc',\n",
       "  182: 'fiat 131',\n",
       "  183: 'opel 1900',\n",
       "  184: 'capri ii',\n",
       "  185: 'dodge colt',\n",
       "  186: 'renault 12tl',\n",
       "  187: 'chevrolet chevelle malibu classic',\n",
       "  188: 'dodge coronet brougham',\n",
       "  189: 'amc matador',\n",
       "  190: 'ford gran torino',\n",
       "  191: 'plymouth valiant',\n",
       "  192: 'chevrolet nova',\n",
       "  193: 'ford maverick',\n",
       "  194: 'amc hornet',\n",
       "  195: 'chevrolet chevette',\n",
       "  196: 'chevrolet woody',\n",
       "  197: 'vw rabbit',\n",
       "  198: 'honda civic',\n",
       "  199: 'dodge aspen se',\n",
       "  200: 'ford granada ghia',\n",
       "  201: 'pontiac ventura sj',\n",
       "  202: 'amc pacer d/l',\n",
       "  203: 'volkswagen rabbit',\n",
       "  204: 'datsun b-210',\n",
       "  205: 'toyota corolla',\n",
       "  206: 'ford pinto',\n",
       "  207: 'volvo 245',\n",
       "  208: 'plymouth volare premier v8',\n",
       "  209: 'peugeot 504',\n",
       "  210: 'toyota mark ii',\n",
       "  211: 'mercedes-benz 280s',\n",
       "  212: 'cadillac seville',\n",
       "  213: 'chevy c10',\n",
       "  214: 'ford f108',\n",
       "  215: 'dodge d100',\n",
       "  216: 'honda accord cvcc',\n",
       "  217: 'buick opel isuzu deluxe',\n",
       "  218: 'renault 5 gtl',\n",
       "  219: 'plymouth arrow gs',\n",
       "  220: 'datsun f-10 hatchback',\n",
       "  221: 'chevrolet caprice classic',\n",
       "  222: 'oldsmobile cutlass supreme',\n",
       "  223: 'dodge monaco brougham',\n",
       "  224: 'mercury cougar brougham',\n",
       "  225: 'chevrolet concours',\n",
       "  226: 'buick skylark',\n",
       "  227: 'plymouth volare custom',\n",
       "  228: 'ford granada',\n",
       "  229: 'pontiac grand prix lj',\n",
       "  230: 'chevrolet monte carlo landau',\n",
       "  231: 'chrysler cordoba',\n",
       "  232: 'ford thunderbird',\n",
       "  233: 'volkswagen rabbit custom',\n",
       "  234: 'pontiac sunbird coupe',\n",
       "  235: 'toyota corolla liftback',\n",
       "  236: 'ford mustang ii 2+2',\n",
       "  237: 'chevrolet chevette',\n",
       "  238: 'dodge colt m/m',\n",
       "  239: 'subaru dl',\n",
       "  240: 'volkswagen dasher',\n",
       "  241: 'datsun 810',\n",
       "  242: 'bmw 320i',\n",
       "  243: 'mazda rx-4',\n",
       "  244: 'volkswagen rabbit custom diesel',\n",
       "  245: 'ford fiesta',\n",
       "  246: 'mazda glc deluxe',\n",
       "  247: 'datsun b210 gx',\n",
       "  248: 'honda civic cvcc',\n",
       "  249: 'oldsmobile cutlass salon brougham',\n",
       "  250: 'dodge diplomat',\n",
       "  251: 'mercury monarch ghia',\n",
       "  252: 'pontiac phoenix lj',\n",
       "  253: 'chevrolet malibu',\n",
       "  254: 'ford fairmont (auto)',\n",
       "  255: 'ford fairmont (man)',\n",
       "  256: 'plymouth volare',\n",
       "  257: 'amc concord',\n",
       "  258: 'buick century special',\n",
       "  259: 'mercury zephyr',\n",
       "  260: 'dodge aspen',\n",
       "  261: 'amc concord d/l',\n",
       "  262: 'chevrolet monte carlo landau',\n",
       "  263: 'buick regal sport coupe (turbo)',\n",
       "  264: 'ford futura',\n",
       "  265: 'dodge magnum xe',\n",
       "  266: 'chevrolet chevette',\n",
       "  267: 'toyota corona',\n",
       "  268: 'datsun 510',\n",
       "  269: 'dodge omni',\n",
       "  270: 'toyota celica gt liftback',\n",
       "  271: 'plymouth sapporo',\n",
       "  272: 'oldsmobile starfire sx',\n",
       "  273: 'datsun 200-sx',\n",
       "  274: 'audi 5000',\n",
       "  275: 'volvo 264gl',\n",
       "  276: 'saab 99gle',\n",
       "  277: 'peugeot 604sl',\n",
       "  278: 'volkswagen scirocco',\n",
       "  279: 'honda accord lx',\n",
       "  280: 'pontiac lemans v6',\n",
       "  281: 'mercury zephyr 6',\n",
       "  282: 'ford fairmont 4',\n",
       "  283: 'amc concord dl 6',\n",
       "  284: 'dodge aspen 6',\n",
       "  285: 'chevrolet caprice classic',\n",
       "  286: 'ford ltd landau',\n",
       "  287: 'mercury grand marquis',\n",
       "  288: 'dodge st. regis',\n",
       "  289: 'buick estate wagon (sw)',\n",
       "  290: 'ford country squire (sw)',\n",
       "  291: 'chevrolet malibu classic (sw)',\n",
       "  292: 'chrysler lebaron town @ country (sw)',\n",
       "  293: 'vw rabbit custom',\n",
       "  294: 'maxda glc deluxe',\n",
       "  295: 'dodge colt hatchback custom',\n",
       "  296: 'amc spirit dl',\n",
       "  297: 'mercedes benz 300d',\n",
       "  298: 'cadillac eldorado',\n",
       "  299: 'peugeot 504',\n",
       "  300: 'oldsmobile cutlass salon brougham',\n",
       "  301: 'plymouth horizon',\n",
       "  302: 'plymouth horizon tc3',\n",
       "  303: 'datsun 210',\n",
       "  304: 'fiat strada custom',\n",
       "  305: 'buick skylark limited',\n",
       "  306: 'chevrolet citation',\n",
       "  307: 'oldsmobile omega brougham',\n",
       "  308: 'pontiac phoenix',\n",
       "  309: 'vw rabbit',\n",
       "  310: 'toyota corolla tercel',\n",
       "  311: 'chevrolet chevette',\n",
       "  312: 'datsun 310',\n",
       "  313: 'chevrolet citation',\n",
       "  314: 'ford fairmont',\n",
       "  315: 'amc concord',\n",
       "  316: 'dodge aspen',\n",
       "  317: 'audi 4000',\n",
       "  318: 'toyota corona liftback',\n",
       "  319: 'mazda 626',\n",
       "  320: 'datsun 510 hatchback',\n",
       "  321: 'toyota corolla',\n",
       "  322: 'mazda glc',\n",
       "  323: 'dodge colt',\n",
       "  324: 'datsun 210',\n",
       "  325: 'vw rabbit c (diesel)',\n",
       "  326: 'vw dasher (diesel)',\n",
       "  327: 'audi 5000s (diesel)',\n",
       "  328: 'mercedes-benz 240d',\n",
       "  329: 'honda civic 1500 gl',\n",
       "  330: 'renault lecar deluxe',\n",
       "  331: 'subaru dl',\n",
       "  332: 'vokswagen rabbit',\n",
       "  333: 'datsun 280-zx',\n",
       "  334: 'mazda rx-7 gs',\n",
       "  335: 'triumph tr7 coupe',\n",
       "  336: 'ford mustang cobra',\n",
       "  337: 'honda accord',\n",
       "  338: 'plymouth reliant',\n",
       "  339: 'buick skylark',\n",
       "  340: 'dodge aries wagon (sw)',\n",
       "  341: 'chevrolet citation',\n",
       "  342: 'plymouth reliant',\n",
       "  343: 'toyota starlet',\n",
       "  344: 'plymouth champ',\n",
       "  345: 'honda civic 1300',\n",
       "  346: 'subaru',\n",
       "  347: 'datsun 210 mpg',\n",
       "  348: 'toyota tercel',\n",
       "  349: 'mazda glc 4',\n",
       "  350: 'plymouth horizon 4',\n",
       "  351: 'ford escort 4w',\n",
       "  352: 'ford escort 2h',\n",
       "  353: 'volkswagen jetta',\n",
       "  354: 'renault 18i',\n",
       "  355: 'honda prelude',\n",
       "  356: 'toyota corolla',\n",
       "  357: 'datsun 200sx',\n",
       "  358: 'mazda 626',\n",
       "  359: 'peugeot 505s turbo diesel',\n",
       "  360: 'volvo diesel',\n",
       "  361: 'toyota cressida',\n",
       "  362: 'datsun 810 maxima',\n",
       "  363: 'buick century',\n",
       "  364: 'oldsmobile cutlass ls',\n",
       "  365: 'ford granada gl',\n",
       "  366: 'chrysler lebaron salon',\n",
       "  367: 'chevrolet cavalier',\n",
       "  368: 'chevrolet cavalier wagon',\n",
       "  369: 'chevrolet cavalier 2-door',\n",
       "  370: 'pontiac j2000 se hatchback',\n",
       "  371: 'dodge aries se',\n",
       "  372: 'pontiac phoenix',\n",
       "  373: 'ford fairmont futura',\n",
       "  374: 'amc concord dl',\n",
       "  375: 'volkswagen rabbit l',\n",
       "  376: 'mazda glc custom l',\n",
       "  377: 'mazda glc custom',\n",
       "  378: 'plymouth horizon miser',\n",
       "  379: 'mercury lynx l',\n",
       "  380: 'nissan stanza xe',\n",
       "  381: 'honda accord',\n",
       "  382: 'toyota corolla',\n",
       "  383: 'honda civic',\n",
       "  384: 'honda civic (auto)',\n",
       "  385: 'datsun 310 gx',\n",
       "  386: 'buick century limited',\n",
       "  387: 'oldsmobile cutlass ciera (diesel)',\n",
       "  388: 'chrysler lebaron medallion',\n",
       "  389: 'ford granada l',\n",
       "  390: 'toyota celica gt',\n",
       "  391: 'dodge charger 2.2',\n",
       "  392: 'chevrolet camaro',\n",
       "  393: 'ford mustang gl',\n",
       "  394: 'vw pickup',\n",
       "  395: 'dodge rampage',\n",
       "  396: 'ford ranger',\n",
       "  397: 'chevy s-10'}}"
      ]
     },
     "execution_count": 328,
     "metadata": {},
     "output_type": "execute_result"
    }
   ],
   "source": [
    "df.to_dict()"
   ]
  },
  {
   "cell_type": "code",
   "execution_count": 329,
   "metadata": {},
   "outputs": [
    {
     "data": {
      "text/plain": [
       "'{\"mpg\":{\"0\":18.0,\"1\":15.0,\"2\":18.0,\"3\":16.0,\"4\":17.0,\"5\":15.0,\"6\":14.0,\"7\":14.0,\"8\":14.0,\"9\":15.0,\"10\":15.0,\"11\":14.0,\"12\":15.0,\"13\":14.0,\"14\":24.0,\"15\":22.0,\"16\":18.0,\"17\":21.0,\"18\":27.0,\"19\":26.0,\"20\":25.0,\"21\":24.0,\"22\":25.0,\"23\":26.0,\"24\":21.0,\"25\":10.0,\"26\":10.0,\"27\":11.0,\"28\":9.0,\"29\":27.0,\"30\":28.0,\"31\":25.0,\"32\":25.0,\"33\":19.0,\"34\":16.0,\"35\":17.0,\"36\":19.0,\"37\":18.0,\"38\":14.0,\"39\":14.0,\"40\":14.0,\"41\":14.0,\"42\":12.0,\"43\":13.0,\"44\":13.0,\"45\":18.0,\"46\":22.0,\"47\":19.0,\"48\":18.0,\"49\":23.0,\"50\":28.0,\"51\":30.0,\"52\":30.0,\"53\":31.0,\"54\":35.0,\"55\":27.0,\"56\":26.0,\"57\":24.0,\"58\":25.0,\"59\":23.0,\"60\":20.0,\"61\":21.0,\"62\":13.0,\"63\":14.0,\"64\":15.0,\"65\":14.0,\"66\":17.0,\"67\":11.0,\"68\":13.0,\"69\":12.0,\"70\":13.0,\"71\":19.0,\"72\":15.0,\"73\":13.0,\"74\":13.0,\"75\":14.0,\"76\":18.0,\"77\":22.0,\"78\":21.0,\"79\":26.0,\"80\":22.0,\"81\":28.0,\"82\":23.0,\"83\":28.0,\"84\":27.0,\"85\":13.0,\"86\":14.0,\"87\":13.0,\"88\":14.0,\"89\":15.0,\"90\":12.0,\"91\":13.0,\"92\":13.0,\"93\":14.0,\"94\":13.0,\"95\":12.0,\"96\":13.0,\"97\":18.0,\"98\":16.0,\"99\":18.0,\"100\":18.0,\"101\":23.0,\"102\":26.0,\"103\":11.0,\"104\":12.0,\"105\":13.0,\"106\":12.0,\"107\":18.0,\"108\":20.0,\"109\":21.0,\"110\":22.0,\"111\":18.0,\"112\":19.0,\"113\":21.0,\"114\":26.0,\"115\":15.0,\"116\":16.0,\"117\":29.0,\"118\":24.0,\"119\":20.0,\"120\":19.0,\"121\":15.0,\"122\":24.0,\"123\":20.0,\"124\":11.0,\"125\":20.0,\"126\":21.0,\"127\":19.0,\"128\":15.0,\"129\":31.0,\"130\":26.0,\"131\":32.0,\"132\":25.0,\"133\":16.0,\"134\":16.0,\"135\":18.0,\"136\":16.0,\"137\":13.0,\"138\":14.0,\"139\":14.0,\"140\":14.0,\"141\":29.0,\"142\":26.0,\"143\":26.0,\"144\":31.0,\"145\":32.0,\"146\":28.0,\"147\":24.0,\"148\":26.0,\"149\":24.0,\"150\":26.0,\"151\":31.0,\"152\":19.0,\"153\":18.0,\"154\":15.0,\"155\":15.0,\"156\":16.0,\"157\":15.0,\"158\":16.0,\"159\":14.0,\"160\":17.0,\"161\":16.0,\"162\":15.0,\"163\":18.0,\"164\":21.0,\"165\":20.0,\"166\":13.0,\"167\":29.0,\"168\":23.0,\"169\":20.0,\"170\":23.0,\"171\":24.0,\"172\":25.0,\"173\":24.0,\"174\":18.0,\"175\":29.0,\"176\":19.0,\"177\":23.0,\"178\":23.0,\"179\":22.0,\"180\":25.0,\"181\":33.0,\"182\":28.0,\"183\":25.0,\"184\":25.0,\"185\":26.0,\"186\":27.0,\"187\":17.5,\"188\":16.0,\"189\":15.5,\"190\":14.5,\"191\":22.0,\"192\":22.0,\"193\":24.0,\"194\":22.5,\"195\":29.0,\"196\":24.5,\"197\":29.0,\"198\":33.0,\"199\":20.0,\"200\":18.0,\"201\":18.5,\"202\":17.5,\"203\":29.5,\"204\":32.0,\"205\":28.0,\"206\":26.5,\"207\":20.0,\"208\":13.0,\"209\":19.0,\"210\":19.0,\"211\":16.5,\"212\":16.5,\"213\":13.0,\"214\":13.0,\"215\":13.0,\"216\":31.5,\"217\":30.0,\"218\":36.0,\"219\":25.5,\"220\":33.5,\"221\":17.5,\"222\":17.0,\"223\":15.5,\"224\":15.0,\"225\":17.5,\"226\":20.5,\"227\":19.0,\"228\":18.5,\"229\":16.0,\"230\":15.5,\"231\":15.5,\"232\":16.0,\"233\":29.0,\"234\":24.5,\"235\":26.0,\"236\":25.5,\"237\":30.5,\"238\":33.5,\"239\":30.0,\"240\":30.5,\"241\":22.0,\"242\":21.5,\"243\":21.5,\"244\":43.1,\"245\":36.1,\"246\":32.8,\"247\":39.4,\"248\":36.1,\"249\":19.9,\"250\":19.4,\"251\":20.2,\"252\":19.2,\"253\":20.5,\"254\":20.2,\"255\":25.1,\"256\":20.5,\"257\":19.4,\"258\":20.6,\"259\":20.8,\"260\":18.6,\"261\":18.1,\"262\":19.2,\"263\":17.7,\"264\":18.1,\"265\":17.5,\"266\":30.0,\"267\":27.5,\"268\":27.2,\"269\":30.9,\"270\":21.1,\"271\":23.2,\"272\":23.8,\"273\":23.9,\"274\":20.3,\"275\":17.0,\"276\":21.6,\"277\":16.2,\"278\":31.5,\"279\":29.5,\"280\":21.5,\"281\":19.8,\"282\":22.3,\"283\":20.2,\"284\":20.6,\"285\":17.0,\"286\":17.6,\"287\":16.5,\"288\":18.2,\"289\":16.9,\"290\":15.5,\"291\":19.2,\"292\":18.5,\"293\":31.9,\"294\":34.1,\"295\":35.7,\"296\":27.4,\"297\":25.4,\"298\":23.0,\"299\":27.2,\"300\":23.9,\"301\":34.2,\"302\":34.5,\"303\":31.8,\"304\":37.3,\"305\":28.4,\"306\":28.8,\"307\":26.8,\"308\":33.5,\"309\":41.5,\"310\":38.1,\"311\":32.1,\"312\":37.2,\"313\":28.0,\"314\":26.4,\"315\":24.3,\"316\":19.1,\"317\":34.3,\"318\":29.8,\"319\":31.3,\"320\":37.0,\"321\":32.2,\"322\":46.6,\"323\":27.9,\"324\":40.8,\"325\":44.3,\"326\":43.4,\"327\":36.4,\"328\":30.0,\"329\":44.6,\"330\":40.9,\"331\":33.8,\"332\":29.8,\"333\":32.7,\"334\":23.7,\"335\":35.0,\"336\":23.6,\"337\":32.4,\"338\":27.2,\"339\":26.6,\"340\":25.8,\"341\":23.5,\"342\":30.0,\"343\":39.1,\"344\":39.0,\"345\":35.1,\"346\":32.3,\"347\":37.0,\"348\":37.7,\"349\":34.1,\"350\":34.7,\"351\":34.4,\"352\":29.9,\"353\":33.0,\"354\":34.5,\"355\":33.7,\"356\":32.4,\"357\":32.9,\"358\":31.6,\"359\":28.1,\"360\":30.7,\"361\":25.4,\"362\":24.2,\"363\":22.4,\"364\":26.6,\"365\":20.2,\"366\":17.6,\"367\":28.0,\"368\":27.0,\"369\":34.0,\"370\":31.0,\"371\":29.0,\"372\":27.0,\"373\":24.0,\"374\":23.0,\"375\":36.0,\"376\":37.0,\"377\":31.0,\"378\":38.0,\"379\":36.0,\"380\":36.0,\"381\":36.0,\"382\":34.0,\"383\":38.0,\"384\":32.0,\"385\":38.0,\"386\":25.0,\"387\":38.0,\"388\":26.0,\"389\":22.0,\"390\":32.0,\"391\":36.0,\"392\":27.0,\"393\":27.0,\"394\":44.0,\"395\":32.0,\"396\":28.0,\"397\":31.0},\"cyl\":{\"0\":8,\"1\":8,\"2\":8,\"3\":8,\"4\":8,\"5\":8,\"6\":8,\"7\":8,\"8\":8,\"9\":8,\"10\":8,\"11\":8,\"12\":8,\"13\":8,\"14\":4,\"15\":6,\"16\":6,\"17\":6,\"18\":4,\"19\":4,\"20\":4,\"21\":4,\"22\":4,\"23\":4,\"24\":6,\"25\":8,\"26\":8,\"27\":8,\"28\":8,\"29\":4,\"30\":4,\"31\":4,\"32\":4,\"33\":6,\"34\":6,\"35\":6,\"36\":6,\"37\":6,\"38\":8,\"39\":8,\"40\":8,\"41\":8,\"42\":8,\"43\":8,\"44\":8,\"45\":6,\"46\":4,\"47\":6,\"48\":6,\"49\":4,\"50\":4,\"51\":4,\"52\":4,\"53\":4,\"54\":4,\"55\":4,\"56\":4,\"57\":4,\"58\":4,\"59\":4,\"60\":4,\"61\":4,\"62\":8,\"63\":8,\"64\":8,\"65\":8,\"66\":8,\"67\":8,\"68\":8,\"69\":8,\"70\":8,\"71\":3,\"72\":8,\"73\":8,\"74\":8,\"75\":8,\"76\":4,\"77\":4,\"78\":4,\"79\":4,\"80\":4,\"81\":4,\"82\":4,\"83\":4,\"84\":4,\"85\":8,\"86\":8,\"87\":8,\"88\":8,\"89\":8,\"90\":8,\"91\":8,\"92\":8,\"93\":8,\"94\":8,\"95\":8,\"96\":8,\"97\":6,\"98\":6,\"99\":6,\"100\":6,\"101\":6,\"102\":4,\"103\":8,\"104\":8,\"105\":8,\"106\":8,\"107\":6,\"108\":4,\"109\":4,\"110\":4,\"111\":3,\"112\":4,\"113\":6,\"114\":4,\"115\":8,\"116\":8,\"117\":4,\"118\":4,\"119\":4,\"120\":4,\"121\":8,\"122\":4,\"123\":6,\"124\":8,\"125\":6,\"126\":6,\"127\":6,\"128\":6,\"129\":4,\"130\":4,\"131\":4,\"132\":4,\"133\":6,\"134\":6,\"135\":6,\"136\":8,\"137\":8,\"138\":8,\"139\":8,\"140\":8,\"141\":4,\"142\":4,\"143\":4,\"144\":4,\"145\":4,\"146\":4,\"147\":4,\"148\":4,\"149\":4,\"150\":4,\"151\":4,\"152\":6,\"153\":6,\"154\":6,\"155\":6,\"156\":8,\"157\":8,\"158\":8,\"159\":8,\"160\":6,\"161\":6,\"162\":6,\"163\":6,\"164\":6,\"165\":8,\"166\":8,\"167\":4,\"168\":4,\"169\":6,\"170\":4,\"171\":4,\"172\":4,\"173\":4,\"174\":6,\"175\":4,\"176\":6,\"177\":4,\"178\":4,\"179\":4,\"180\":4,\"181\":4,\"182\":4,\"183\":4,\"184\":4,\"185\":4,\"186\":4,\"187\":8,\"188\":8,\"189\":8,\"190\":8,\"191\":6,\"192\":6,\"193\":6,\"194\":6,\"195\":4,\"196\":4,\"197\":4,\"198\":4,\"199\":6,\"200\":6,\"201\":6,\"202\":6,\"203\":4,\"204\":4,\"205\":4,\"206\":4,\"207\":4,\"208\":8,\"209\":4,\"210\":6,\"211\":6,\"212\":8,\"213\":8,\"214\":8,\"215\":8,\"216\":4,\"217\":4,\"218\":4,\"219\":4,\"220\":4,\"221\":8,\"222\":8,\"223\":8,\"224\":8,\"225\":6,\"226\":6,\"227\":6,\"228\":6,\"229\":8,\"230\":8,\"231\":8,\"232\":8,\"233\":4,\"234\":4,\"235\":4,\"236\":4,\"237\":4,\"238\":4,\"239\":4,\"240\":4,\"241\":6,\"242\":4,\"243\":3,\"244\":4,\"245\":4,\"246\":4,\"247\":4,\"248\":4,\"249\":8,\"250\":8,\"251\":8,\"252\":6,\"253\":6,\"254\":6,\"255\":4,\"256\":6,\"257\":6,\"258\":6,\"259\":6,\"260\":6,\"261\":6,\"262\":8,\"263\":6,\"264\":8,\"265\":8,\"266\":4,\"267\":4,\"268\":4,\"269\":4,\"270\":4,\"271\":4,\"272\":4,\"273\":4,\"274\":5,\"275\":6,\"276\":4,\"277\":6,\"278\":4,\"279\":4,\"280\":6,\"281\":6,\"282\":4,\"283\":6,\"284\":6,\"285\":8,\"286\":8,\"287\":8,\"288\":8,\"289\":8,\"290\":8,\"291\":8,\"292\":8,\"293\":4,\"294\":4,\"295\":4,\"296\":4,\"297\":5,\"298\":8,\"299\":4,\"300\":8,\"301\":4,\"302\":4,\"303\":4,\"304\":4,\"305\":4,\"306\":6,\"307\":6,\"308\":4,\"309\":4,\"310\":4,\"311\":4,\"312\":4,\"313\":4,\"314\":4,\"315\":4,\"316\":6,\"317\":4,\"318\":4,\"319\":4,\"320\":4,\"321\":4,\"322\":4,\"323\":4,\"324\":4,\"325\":4,\"326\":4,\"327\":5,\"328\":4,\"329\":4,\"330\":4,\"331\":4,\"332\":4,\"333\":6,\"334\":3,\"335\":4,\"336\":4,\"337\":4,\"338\":4,\"339\":4,\"340\":4,\"341\":6,\"342\":4,\"343\":4,\"344\":4,\"345\":4,\"346\":4,\"347\":4,\"348\":4,\"349\":4,\"350\":4,\"351\":4,\"352\":4,\"353\":4,\"354\":4,\"355\":4,\"356\":4,\"357\":4,\"358\":4,\"359\":4,\"360\":6,\"361\":6,\"362\":6,\"363\":6,\"364\":8,\"365\":6,\"366\":6,\"367\":4,\"368\":4,\"369\":4,\"370\":4,\"371\":4,\"372\":4,\"373\":4,\"374\":4,\"375\":4,\"376\":4,\"377\":4,\"378\":4,\"379\":4,\"380\":4,\"381\":4,\"382\":4,\"383\":4,\"384\":4,\"385\":4,\"386\":6,\"387\":6,\"388\":4,\"389\":6,\"390\":4,\"391\":4,\"392\":4,\"393\":4,\"394\":4,\"395\":4,\"396\":4,\"397\":4},\"disp\":{\"0\":307.0,\"1\":350.0,\"2\":318.0,\"3\":304.0,\"4\":302.0,\"5\":429.0,\"6\":454.0,\"7\":440.0,\"8\":455.0,\"9\":390.0,\"10\":383.0,\"11\":340.0,\"12\":400.0,\"13\":455.0,\"14\":113.0,\"15\":198.0,\"16\":199.0,\"17\":200.0,\"18\":97.0,\"19\":97.0,\"20\":110.0,\"21\":107.0,\"22\":104.0,\"23\":121.0,\"24\":199.0,\"25\":360.0,\"26\":307.0,\"27\":318.0,\"28\":304.0,\"29\":97.0,\"30\":140.0,\"31\":113.0,\"32\":98.0,\"33\":232.0,\"34\":225.0,\"35\":250.0,\"36\":250.0,\"37\":232.0,\"38\":350.0,\"39\":400.0,\"40\":351.0,\"41\":318.0,\"42\":383.0,\"43\":400.0,\"44\":400.0,\"45\":258.0,\"46\":140.0,\"47\":250.0,\"48\":250.0,\"49\":122.0,\"50\":116.0,\"51\":79.0,\"52\":88.0,\"53\":71.0,\"54\":72.0,\"55\":97.0,\"56\":91.0,\"57\":113.0,\"58\":97.5,\"59\":97.0,\"60\":140.0,\"61\":122.0,\"62\":350.0,\"63\":400.0,\"64\":318.0,\"65\":351.0,\"66\":304.0,\"67\":429.0,\"68\":350.0,\"69\":350.0,\"70\":400.0,\"71\":70.0,\"72\":304.0,\"73\":307.0,\"74\":302.0,\"75\":318.0,\"76\":121.0,\"77\":121.0,\"78\":120.0,\"79\":96.0,\"80\":122.0,\"81\":97.0,\"82\":120.0,\"83\":98.0,\"84\":97.0,\"85\":350.0,\"86\":304.0,\"87\":350.0,\"88\":302.0,\"89\":318.0,\"90\":429.0,\"91\":400.0,\"92\":351.0,\"93\":318.0,\"94\":440.0,\"95\":455.0,\"96\":360.0,\"97\":225.0,\"98\":250.0,\"99\":232.0,\"100\":250.0,\"101\":198.0,\"102\":97.0,\"103\":400.0,\"104\":400.0,\"105\":360.0,\"106\":350.0,\"107\":232.0,\"108\":97.0,\"109\":140.0,\"110\":108.0,\"111\":70.0,\"112\":122.0,\"113\":155.0,\"114\":98.0,\"115\":350.0,\"116\":400.0,\"117\":68.0,\"118\":116.0,\"119\":114.0,\"120\":121.0,\"121\":318.0,\"122\":121.0,\"123\":156.0,\"124\":350.0,\"125\":198.0,\"126\":200.0,\"127\":232.0,\"128\":250.0,\"129\":79.0,\"130\":122.0,\"131\":71.0,\"132\":140.0,\"133\":250.0,\"134\":258.0,\"135\":225.0,\"136\":302.0,\"137\":350.0,\"138\":318.0,\"139\":302.0,\"140\":304.0,\"141\":98.0,\"142\":79.0,\"143\":97.0,\"144\":76.0,\"145\":83.0,\"146\":90.0,\"147\":90.0,\"148\":116.0,\"149\":120.0,\"150\":108.0,\"151\":79.0,\"152\":225.0,\"153\":250.0,\"154\":250.0,\"155\":250.0,\"156\":400.0,\"157\":350.0,\"158\":318.0,\"159\":351.0,\"160\":231.0,\"161\":250.0,\"162\":258.0,\"163\":225.0,\"164\":231.0,\"165\":262.0,\"166\":302.0,\"167\":97.0,\"168\":140.0,\"169\":232.0,\"170\":140.0,\"171\":134.0,\"172\":90.0,\"173\":119.0,\"174\":171.0,\"175\":90.0,\"176\":232.0,\"177\":115.0,\"178\":120.0,\"179\":121.0,\"180\":121.0,\"181\":91.0,\"182\":107.0,\"183\":116.0,\"184\":140.0,\"185\":98.0,\"186\":101.0,\"187\":305.0,\"188\":318.0,\"189\":304.0,\"190\":351.0,\"191\":225.0,\"192\":250.0,\"193\":200.0,\"194\":232.0,\"195\":85.0,\"196\":98.0,\"197\":90.0,\"198\":91.0,\"199\":225.0,\"200\":250.0,\"201\":250.0,\"202\":258.0,\"203\":97.0,\"204\":85.0,\"205\":97.0,\"206\":140.0,\"207\":130.0,\"208\":318.0,\"209\":120.0,\"210\":156.0,\"211\":168.0,\"212\":350.0,\"213\":350.0,\"214\":302.0,\"215\":318.0,\"216\":98.0,\"217\":111.0,\"218\":79.0,\"219\":122.0,\"220\":85.0,\"221\":305.0,\"222\":260.0,\"223\":318.0,\"224\":302.0,\"225\":250.0,\"226\":231.0,\"227\":225.0,\"228\":250.0,\"229\":400.0,\"230\":350.0,\"231\":400.0,\"232\":351.0,\"233\":97.0,\"234\":151.0,\"235\":97.0,\"236\":140.0,\"237\":98.0,\"238\":98.0,\"239\":97.0,\"240\":97.0,\"241\":146.0,\"242\":121.0,\"243\":80.0,\"244\":90.0,\"245\":98.0,\"246\":78.0,\"247\":85.0,\"248\":91.0,\"249\":260.0,\"250\":318.0,\"251\":302.0,\"252\":231.0,\"253\":200.0,\"254\":200.0,\"255\":140.0,\"256\":225.0,\"257\":232.0,\"258\":231.0,\"259\":200.0,\"260\":225.0,\"261\":258.0,\"262\":305.0,\"263\":231.0,\"264\":302.0,\"265\":318.0,\"266\":98.0,\"267\":134.0,\"268\":119.0,\"269\":105.0,\"270\":134.0,\"271\":156.0,\"272\":151.0,\"273\":119.0,\"274\":131.0,\"275\":163.0,\"276\":121.0,\"277\":163.0,\"278\":89.0,\"279\":98.0,\"280\":231.0,\"281\":200.0,\"282\":140.0,\"283\":232.0,\"284\":225.0,\"285\":305.0,\"286\":302.0,\"287\":351.0,\"288\":318.0,\"289\":350.0,\"290\":351.0,\"291\":267.0,\"292\":360.0,\"293\":89.0,\"294\":86.0,\"295\":98.0,\"296\":121.0,\"297\":183.0,\"298\":350.0,\"299\":141.0,\"300\":260.0,\"301\":105.0,\"302\":105.0,\"303\":85.0,\"304\":91.0,\"305\":151.0,\"306\":173.0,\"307\":173.0,\"308\":151.0,\"309\":98.0,\"310\":89.0,\"311\":98.0,\"312\":86.0,\"313\":151.0,\"314\":140.0,\"315\":151.0,\"316\":225.0,\"317\":97.0,\"318\":134.0,\"319\":120.0,\"320\":119.0,\"321\":108.0,\"322\":86.0,\"323\":156.0,\"324\":85.0,\"325\":90.0,\"326\":90.0,\"327\":121.0,\"328\":146.0,\"329\":91.0,\"330\":85.0,\"331\":97.0,\"332\":89.0,\"333\":168.0,\"334\":70.0,\"335\":122.0,\"336\":140.0,\"337\":107.0,\"338\":135.0,\"339\":151.0,\"340\":156.0,\"341\":173.0,\"342\":135.0,\"343\":79.0,\"344\":86.0,\"345\":81.0,\"346\":97.0,\"347\":85.0,\"348\":89.0,\"349\":91.0,\"350\":105.0,\"351\":98.0,\"352\":98.0,\"353\":105.0,\"354\":100.0,\"355\":107.0,\"356\":108.0,\"357\":119.0,\"358\":120.0,\"359\":141.0,\"360\":145.0,\"361\":168.0,\"362\":146.0,\"363\":231.0,\"364\":350.0,\"365\":200.0,\"366\":225.0,\"367\":112.0,\"368\":112.0,\"369\":112.0,\"370\":112.0,\"371\":135.0,\"372\":151.0,\"373\":140.0,\"374\":151.0,\"375\":105.0,\"376\":91.0,\"377\":91.0,\"378\":105.0,\"379\":98.0,\"380\":120.0,\"381\":107.0,\"382\":108.0,\"383\":91.0,\"384\":91.0,\"385\":91.0,\"386\":181.0,\"387\":262.0,\"388\":156.0,\"389\":232.0,\"390\":144.0,\"391\":135.0,\"392\":151.0,\"393\":140.0,\"394\":97.0,\"395\":135.0,\"396\":120.0,\"397\":119.0},\"hp\":{\"0\":\"130.0\",\"1\":\"165.0\",\"2\":\"150.0\",\"3\":\"150.0\",\"4\":\"140.0\",\"5\":\"198.0\",\"6\":\"220.0\",\"7\":\"215.0\",\"8\":\"225.0\",\"9\":\"190.0\",\"10\":\"170.0\",\"11\":\"160.0\",\"12\":\"150.0\",\"13\":\"225.0\",\"14\":\"95.00\",\"15\":\"95.00\",\"16\":\"97.00\",\"17\":\"85.00\",\"18\":\"88.00\",\"19\":\"46.00\",\"20\":\"87.00\",\"21\":\"90.00\",\"22\":\"95.00\",\"23\":\"113.0\",\"24\":\"90.00\",\"25\":\"215.0\",\"26\":\"200.0\",\"27\":\"210.0\",\"28\":\"193.0\",\"29\":\"88.00\",\"30\":\"90.00\",\"31\":\"95.00\",\"32\":\"?\",\"33\":\"100.0\",\"34\":\"105.0\",\"35\":\"100.0\",\"36\":\"88.00\",\"37\":\"100.0\",\"38\":\"165.0\",\"39\":\"175.0\",\"40\":\"153.0\",\"41\":\"150.0\",\"42\":\"180.0\",\"43\":\"170.0\",\"44\":\"175.0\",\"45\":\"110.0\",\"46\":\"72.00\",\"47\":\"100.0\",\"48\":\"88.00\",\"49\":\"86.00\",\"50\":\"90.00\",\"51\":\"70.00\",\"52\":\"76.00\",\"53\":\"65.00\",\"54\":\"69.00\",\"55\":\"60.00\",\"56\":\"70.00\",\"57\":\"95.00\",\"58\":\"80.00\",\"59\":\"54.00\",\"60\":\"90.00\",\"61\":\"86.00\",\"62\":\"165.0\",\"63\":\"175.0\",\"64\":\"150.0\",\"65\":\"153.0\",\"66\":\"150.0\",\"67\":\"208.0\",\"68\":\"155.0\",\"69\":\"160.0\",\"70\":\"190.0\",\"71\":\"97.00\",\"72\":\"150.0\",\"73\":\"130.0\",\"74\":\"140.0\",\"75\":\"150.0\",\"76\":\"112.0\",\"77\":\"76.00\",\"78\":\"87.00\",\"79\":\"69.00\",\"80\":\"86.00\",\"81\":\"92.00\",\"82\":\"97.00\",\"83\":\"80.00\",\"84\":\"88.00\",\"85\":\"175.0\",\"86\":\"150.0\",\"87\":\"145.0\",\"88\":\"137.0\",\"89\":\"150.0\",\"90\":\"198.0\",\"91\":\"150.0\",\"92\":\"158.0\",\"93\":\"150.0\",\"94\":\"215.0\",\"95\":\"225.0\",\"96\":\"175.0\",\"97\":\"105.0\",\"98\":\"100.0\",\"99\":\"100.0\",\"100\":\"88.00\",\"101\":\"95.00\",\"102\":\"46.00\",\"103\":\"150.0\",\"104\":\"167.0\",\"105\":\"170.0\",\"106\":\"180.0\",\"107\":\"100.0\",\"108\":\"88.00\",\"109\":\"72.00\",\"110\":\"94.00\",\"111\":\"90.00\",\"112\":\"85.00\",\"113\":\"107.0\",\"114\":\"90.00\",\"115\":\"145.0\",\"116\":\"230.0\",\"117\":\"49.00\",\"118\":\"75.00\",\"119\":\"91.00\",\"120\":\"112.0\",\"121\":\"150.0\",\"122\":\"110.0\",\"123\":\"122.0\",\"124\":\"180.0\",\"125\":\"95.00\",\"126\":\"?\",\"127\":\"100.0\",\"128\":\"100.0\",\"129\":\"67.00\",\"130\":\"80.00\",\"131\":\"65.00\",\"132\":\"75.00\",\"133\":\"100.0\",\"134\":\"110.0\",\"135\":\"105.0\",\"136\":\"140.0\",\"137\":\"150.0\",\"138\":\"150.0\",\"139\":\"140.0\",\"140\":\"150.0\",\"141\":\"83.00\",\"142\":\"67.00\",\"143\":\"78.00\",\"144\":\"52.00\",\"145\":\"61.00\",\"146\":\"75.00\",\"147\":\"75.00\",\"148\":\"75.00\",\"149\":\"97.00\",\"150\":\"93.00\",\"151\":\"67.00\",\"152\":\"95.00\",\"153\":\"105.0\",\"154\":\"72.00\",\"155\":\"72.00\",\"156\":\"170.0\",\"157\":\"145.0\",\"158\":\"150.0\",\"159\":\"148.0\",\"160\":\"110.0\",\"161\":\"105.0\",\"162\":\"110.0\",\"163\":\"95.00\",\"164\":\"110.0\",\"165\":\"110.0\",\"166\":\"129.0\",\"167\":\"75.00\",\"168\":\"83.00\",\"169\":\"100.0\",\"170\":\"78.00\",\"171\":\"96.00\",\"172\":\"71.00\",\"173\":\"97.00\",\"174\":\"97.00\",\"175\":\"70.00\",\"176\":\"90.00\",\"177\":\"95.00\",\"178\":\"88.00\",\"179\":\"98.00\",\"180\":\"115.0\",\"181\":\"53.00\",\"182\":\"86.00\",\"183\":\"81.00\",\"184\":\"92.00\",\"185\":\"79.00\",\"186\":\"83.00\",\"187\":\"140.0\",\"188\":\"150.0\",\"189\":\"120.0\",\"190\":\"152.0\",\"191\":\"100.0\",\"192\":\"105.0\",\"193\":\"81.00\",\"194\":\"90.00\",\"195\":\"52.00\",\"196\":\"60.00\",\"197\":\"70.00\",\"198\":\"53.00\",\"199\":\"100.0\",\"200\":\"78.00\",\"201\":\"110.0\",\"202\":\"95.00\",\"203\":\"71.00\",\"204\":\"70.00\",\"205\":\"75.00\",\"206\":\"72.00\",\"207\":\"102.0\",\"208\":\"150.0\",\"209\":\"88.00\",\"210\":\"108.0\",\"211\":\"120.0\",\"212\":\"180.0\",\"213\":\"145.0\",\"214\":\"130.0\",\"215\":\"150.0\",\"216\":\"68.00\",\"217\":\"80.00\",\"218\":\"58.00\",\"219\":\"96.00\",\"220\":\"70.00\",\"221\":\"145.0\",\"222\":\"110.0\",\"223\":\"145.0\",\"224\":\"130.0\",\"225\":\"110.0\",\"226\":\"105.0\",\"227\":\"100.0\",\"228\":\"98.00\",\"229\":\"180.0\",\"230\":\"170.0\",\"231\":\"190.0\",\"232\":\"149.0\",\"233\":\"78.00\",\"234\":\"88.00\",\"235\":\"75.00\",\"236\":\"89.00\",\"237\":\"63.00\",\"238\":\"83.00\",\"239\":\"67.00\",\"240\":\"78.00\",\"241\":\"97.00\",\"242\":\"110.0\",\"243\":\"110.0\",\"244\":\"48.00\",\"245\":\"66.00\",\"246\":\"52.00\",\"247\":\"70.00\",\"248\":\"60.00\",\"249\":\"110.0\",\"250\":\"140.0\",\"251\":\"139.0\",\"252\":\"105.0\",\"253\":\"95.00\",\"254\":\"85.00\",\"255\":\"88.00\",\"256\":\"100.0\",\"257\":\"90.00\",\"258\":\"105.0\",\"259\":\"85.00\",\"260\":\"110.0\",\"261\":\"120.0\",\"262\":\"145.0\",\"263\":\"165.0\",\"264\":\"139.0\",\"265\":\"140.0\",\"266\":\"68.00\",\"267\":\"95.00\",\"268\":\"97.00\",\"269\":\"75.00\",\"270\":\"95.00\",\"271\":\"105.0\",\"272\":\"85.00\",\"273\":\"97.00\",\"274\":\"103.0\",\"275\":\"125.0\",\"276\":\"115.0\",\"277\":\"133.0\",\"278\":\"71.00\",\"279\":\"68.00\",\"280\":\"115.0\",\"281\":\"85.00\",\"282\":\"88.00\",\"283\":\"90.00\",\"284\":\"110.0\",\"285\":\"130.0\",\"286\":\"129.0\",\"287\":\"138.0\",\"288\":\"135.0\",\"289\":\"155.0\",\"290\":\"142.0\",\"291\":\"125.0\",\"292\":\"150.0\",\"293\":\"71.00\",\"294\":\"65.00\",\"295\":\"80.00\",\"296\":\"80.00\",\"297\":\"77.00\",\"298\":\"125.0\",\"299\":\"71.00\",\"300\":\"90.00\",\"301\":\"70.00\",\"302\":\"70.00\",\"303\":\"65.00\",\"304\":\"69.00\",\"305\":\"90.00\",\"306\":\"115.0\",\"307\":\"115.0\",\"308\":\"90.00\",\"309\":\"76.00\",\"310\":\"60.00\",\"311\":\"70.00\",\"312\":\"65.00\",\"313\":\"90.00\",\"314\":\"88.00\",\"315\":\"90.00\",\"316\":\"90.00\",\"317\":\"78.00\",\"318\":\"90.00\",\"319\":\"75.00\",\"320\":\"92.00\",\"321\":\"75.00\",\"322\":\"65.00\",\"323\":\"105.0\",\"324\":\"65.00\",\"325\":\"48.00\",\"326\":\"48.00\",\"327\":\"67.00\",\"328\":\"67.00\",\"329\":\"67.00\",\"330\":\"?\",\"331\":\"67.00\",\"332\":\"62.00\",\"333\":\"132.0\",\"334\":\"100.0\",\"335\":\"88.00\",\"336\":\"?\",\"337\":\"72.00\",\"338\":\"84.00\",\"339\":\"84.00\",\"340\":\"92.00\",\"341\":\"110.0\",\"342\":\"84.00\",\"343\":\"58.00\",\"344\":\"64.00\",\"345\":\"60.00\",\"346\":\"67.00\",\"347\":\"65.00\",\"348\":\"62.00\",\"349\":\"68.00\",\"350\":\"63.00\",\"351\":\"65.00\",\"352\":\"65.00\",\"353\":\"74.00\",\"354\":\"?\",\"355\":\"75.00\",\"356\":\"75.00\",\"357\":\"100.0\",\"358\":\"74.00\",\"359\":\"80.00\",\"360\":\"76.00\",\"361\":\"116.0\",\"362\":\"120.0\",\"363\":\"110.0\",\"364\":\"105.0\",\"365\":\"88.00\",\"366\":\"85.00\",\"367\":\"88.00\",\"368\":\"88.00\",\"369\":\"88.00\",\"370\":\"85.00\",\"371\":\"84.00\",\"372\":\"90.00\",\"373\":\"92.00\",\"374\":\"?\",\"375\":\"74.00\",\"376\":\"68.00\",\"377\":\"68.00\",\"378\":\"63.00\",\"379\":\"70.00\",\"380\":\"88.00\",\"381\":\"75.00\",\"382\":\"70.00\",\"383\":\"67.00\",\"384\":\"67.00\",\"385\":\"67.00\",\"386\":\"110.0\",\"387\":\"85.00\",\"388\":\"92.00\",\"389\":\"112.0\",\"390\":\"96.00\",\"391\":\"84.00\",\"392\":\"90.00\",\"393\":\"86.00\",\"394\":\"52.00\",\"395\":\"84.00\",\"396\":\"79.00\",\"397\":\"82.00\"},\"wt\":{\"0\":3504.0,\"1\":3693.0,\"2\":3436.0,\"3\":3433.0,\"4\":3449.0,\"5\":4341.0,\"6\":4354.0,\"7\":4312.0,\"8\":4425.0,\"9\":3850.0,\"10\":3563.0,\"11\":3609.0,\"12\":3761.0,\"13\":3086.0,\"14\":2372.0,\"15\":2833.0,\"16\":2774.0,\"17\":2587.0,\"18\":2130.0,\"19\":1835.0,\"20\":2672.0,\"21\":2430.0,\"22\":2375.0,\"23\":2234.0,\"24\":2648.0,\"25\":4615.0,\"26\":4376.0,\"27\":4382.0,\"28\":4732.0,\"29\":2130.0,\"30\":2264.0,\"31\":2228.0,\"32\":2046.0,\"33\":2634.0,\"34\":3439.0,\"35\":3329.0,\"36\":3302.0,\"37\":3288.0,\"38\":4209.0,\"39\":4464.0,\"40\":4154.0,\"41\":4096.0,\"42\":4955.0,\"43\":4746.0,\"44\":5140.0,\"45\":2962.0,\"46\":2408.0,\"47\":3282.0,\"48\":3139.0,\"49\":2220.0,\"50\":2123.0,\"51\":2074.0,\"52\":2065.0,\"53\":1773.0,\"54\":1613.0,\"55\":1834.0,\"56\":1955.0,\"57\":2278.0,\"58\":2126.0,\"59\":2254.0,\"60\":2408.0,\"61\":2226.0,\"62\":4274.0,\"63\":4385.0,\"64\":4135.0,\"65\":4129.0,\"66\":3672.0,\"67\":4633.0,\"68\":4502.0,\"69\":4456.0,\"70\":4422.0,\"71\":2330.0,\"72\":3892.0,\"73\":4098.0,\"74\":4294.0,\"75\":4077.0,\"76\":2933.0,\"77\":2511.0,\"78\":2979.0,\"79\":2189.0,\"80\":2395.0,\"81\":2288.0,\"82\":2506.0,\"83\":2164.0,\"84\":2100.0,\"85\":4100.0,\"86\":3672.0,\"87\":3988.0,\"88\":4042.0,\"89\":3777.0,\"90\":4952.0,\"91\":4464.0,\"92\":4363.0,\"93\":4237.0,\"94\":4735.0,\"95\":4951.0,\"96\":3821.0,\"97\":3121.0,\"98\":3278.0,\"99\":2945.0,\"100\":3021.0,\"101\":2904.0,\"102\":1950.0,\"103\":4997.0,\"104\":4906.0,\"105\":4654.0,\"106\":4499.0,\"107\":2789.0,\"108\":2279.0,\"109\":2401.0,\"110\":2379.0,\"111\":2124.0,\"112\":2310.0,\"113\":2472.0,\"114\":2265.0,\"115\":4082.0,\"116\":4278.0,\"117\":1867.0,\"118\":2158.0,\"119\":2582.0,\"120\":2868.0,\"121\":3399.0,\"122\":2660.0,\"123\":2807.0,\"124\":3664.0,\"125\":3102.0,\"126\":2875.0,\"127\":2901.0,\"128\":3336.0,\"129\":1950.0,\"130\":2451.0,\"131\":1836.0,\"132\":2542.0,\"133\":3781.0,\"134\":3632.0,\"135\":3613.0,\"136\":4141.0,\"137\":4699.0,\"138\":4457.0,\"139\":4638.0,\"140\":4257.0,\"141\":2219.0,\"142\":1963.0,\"143\":2300.0,\"144\":1649.0,\"145\":2003.0,\"146\":2125.0,\"147\":2108.0,\"148\":2246.0,\"149\":2489.0,\"150\":2391.0,\"151\":2000.0,\"152\":3264.0,\"153\":3459.0,\"154\":3432.0,\"155\":3158.0,\"156\":4668.0,\"157\":4440.0,\"158\":4498.0,\"159\":4657.0,\"160\":3907.0,\"161\":3897.0,\"162\":3730.0,\"163\":3785.0,\"164\":3039.0,\"165\":3221.0,\"166\":3169.0,\"167\":2171.0,\"168\":2639.0,\"169\":2914.0,\"170\":2592.0,\"171\":2702.0,\"172\":2223.0,\"173\":2545.0,\"174\":2984.0,\"175\":1937.0,\"176\":3211.0,\"177\":2694.0,\"178\":2957.0,\"179\":2945.0,\"180\":2671.0,\"181\":1795.0,\"182\":2464.0,\"183\":2220.0,\"184\":2572.0,\"185\":2255.0,\"186\":2202.0,\"187\":4215.0,\"188\":4190.0,\"189\":3962.0,\"190\":4215.0,\"191\":3233.0,\"192\":3353.0,\"193\":3012.0,\"194\":3085.0,\"195\":2035.0,\"196\":2164.0,\"197\":1937.0,\"198\":1795.0,\"199\":3651.0,\"200\":3574.0,\"201\":3645.0,\"202\":3193.0,\"203\":1825.0,\"204\":1990.0,\"205\":2155.0,\"206\":2565.0,\"207\":3150.0,\"208\":3940.0,\"209\":3270.0,\"210\":2930.0,\"211\":3820.0,\"212\":4380.0,\"213\":4055.0,\"214\":3870.0,\"215\":3755.0,\"216\":2045.0,\"217\":2155.0,\"218\":1825.0,\"219\":2300.0,\"220\":1945.0,\"221\":3880.0,\"222\":4060.0,\"223\":4140.0,\"224\":4295.0,\"225\":3520.0,\"226\":3425.0,\"227\":3630.0,\"228\":3525.0,\"229\":4220.0,\"230\":4165.0,\"231\":4325.0,\"232\":4335.0,\"233\":1940.0,\"234\":2740.0,\"235\":2265.0,\"236\":2755.0,\"237\":2051.0,\"238\":2075.0,\"239\":1985.0,\"240\":2190.0,\"241\":2815.0,\"242\":2600.0,\"243\":2720.0,\"244\":1985.0,\"245\":1800.0,\"246\":1985.0,\"247\":2070.0,\"248\":1800.0,\"249\":3365.0,\"250\":3735.0,\"251\":3570.0,\"252\":3535.0,\"253\":3155.0,\"254\":2965.0,\"255\":2720.0,\"256\":3430.0,\"257\":3210.0,\"258\":3380.0,\"259\":3070.0,\"260\":3620.0,\"261\":3410.0,\"262\":3425.0,\"263\":3445.0,\"264\":3205.0,\"265\":4080.0,\"266\":2155.0,\"267\":2560.0,\"268\":2300.0,\"269\":2230.0,\"270\":2515.0,\"271\":2745.0,\"272\":2855.0,\"273\":2405.0,\"274\":2830.0,\"275\":3140.0,\"276\":2795.0,\"277\":3410.0,\"278\":1990.0,\"279\":2135.0,\"280\":3245.0,\"281\":2990.0,\"282\":2890.0,\"283\":3265.0,\"284\":3360.0,\"285\":3840.0,\"286\":3725.0,\"287\":3955.0,\"288\":3830.0,\"289\":4360.0,\"290\":4054.0,\"291\":3605.0,\"292\":3940.0,\"293\":1925.0,\"294\":1975.0,\"295\":1915.0,\"296\":2670.0,\"297\":3530.0,\"298\":3900.0,\"299\":3190.0,\"300\":3420.0,\"301\":2200.0,\"302\":2150.0,\"303\":2020.0,\"304\":2130.0,\"305\":2670.0,\"306\":2595.0,\"307\":2700.0,\"308\":2556.0,\"309\":2144.0,\"310\":1968.0,\"311\":2120.0,\"312\":2019.0,\"313\":2678.0,\"314\":2870.0,\"315\":3003.0,\"316\":3381.0,\"317\":2188.0,\"318\":2711.0,\"319\":2542.0,\"320\":2434.0,\"321\":2265.0,\"322\":2110.0,\"323\":2800.0,\"324\":2110.0,\"325\":2085.0,\"326\":2335.0,\"327\":2950.0,\"328\":3250.0,\"329\":1850.0,\"330\":1835.0,\"331\":2145.0,\"332\":1845.0,\"333\":2910.0,\"334\":2420.0,\"335\":2500.0,\"336\":2905.0,\"337\":2290.0,\"338\":2490.0,\"339\":2635.0,\"340\":2620.0,\"341\":2725.0,\"342\":2385.0,\"343\":1755.0,\"344\":1875.0,\"345\":1760.0,\"346\":2065.0,\"347\":1975.0,\"348\":2050.0,\"349\":1985.0,\"350\":2215.0,\"351\":2045.0,\"352\":2380.0,\"353\":2190.0,\"354\":2320.0,\"355\":2210.0,\"356\":2350.0,\"357\":2615.0,\"358\":2635.0,\"359\":3230.0,\"360\":3160.0,\"361\":2900.0,\"362\":2930.0,\"363\":3415.0,\"364\":3725.0,\"365\":3060.0,\"366\":3465.0,\"367\":2605.0,\"368\":2640.0,\"369\":2395.0,\"370\":2575.0,\"371\":2525.0,\"372\":2735.0,\"373\":2865.0,\"374\":3035.0,\"375\":1980.0,\"376\":2025.0,\"377\":1970.0,\"378\":2125.0,\"379\":2125.0,\"380\":2160.0,\"381\":2205.0,\"382\":2245.0,\"383\":1965.0,\"384\":1965.0,\"385\":1995.0,\"386\":2945.0,\"387\":3015.0,\"388\":2585.0,\"389\":2835.0,\"390\":2665.0,\"391\":2370.0,\"392\":2950.0,\"393\":2790.0,\"394\":2130.0,\"395\":2295.0,\"396\":2625.0,\"397\":2720.0},\"acc\":{\"0\":12.0,\"1\":11.5,\"2\":11.0,\"3\":12.0,\"4\":10.5,\"5\":10.0,\"6\":9.0,\"7\":8.5,\"8\":10.0,\"9\":8.5,\"10\":10.0,\"11\":8.0,\"12\":9.5,\"13\":10.0,\"14\":15.0,\"15\":15.5,\"16\":15.5,\"17\":16.0,\"18\":14.5,\"19\":20.5,\"20\":17.5,\"21\":14.5,\"22\":17.5,\"23\":12.5,\"24\":15.0,\"25\":14.0,\"26\":15.0,\"27\":13.5,\"28\":18.5,\"29\":14.5,\"30\":15.5,\"31\":14.0,\"32\":19.0,\"33\":13.0,\"34\":15.5,\"35\":15.5,\"36\":15.5,\"37\":15.5,\"38\":12.0,\"39\":11.5,\"40\":13.5,\"41\":13.0,\"42\":11.5,\"43\":12.0,\"44\":12.0,\"45\":13.5,\"46\":19.0,\"47\":15.0,\"48\":14.5,\"49\":14.0,\"50\":14.0,\"51\":19.5,\"52\":14.5,\"53\":19.0,\"54\":18.0,\"55\":19.0,\"56\":20.5,\"57\":15.5,\"58\":17.0,\"59\":23.5,\"60\":19.5,\"61\":16.5,\"62\":12.0,\"63\":12.0,\"64\":13.5,\"65\":13.0,\"66\":11.5,\"67\":11.0,\"68\":13.5,\"69\":13.5,\"70\":12.5,\"71\":13.5,\"72\":12.5,\"73\":14.0,\"74\":16.0,\"75\":14.0,\"76\":14.5,\"77\":18.0,\"78\":19.5,\"79\":18.0,\"80\":16.0,\"81\":17.0,\"82\":14.5,\"83\":15.0,\"84\":16.5,\"85\":13.0,\"86\":11.5,\"87\":13.0,\"88\":14.5,\"89\":12.5,\"90\":11.5,\"91\":12.0,\"92\":13.0,\"93\":14.5,\"94\":11.0,\"95\":11.0,\"96\":11.0,\"97\":16.5,\"98\":18.0,\"99\":16.0,\"100\":16.5,\"101\":16.0,\"102\":21.0,\"103\":14.0,\"104\":12.5,\"105\":13.0,\"106\":12.5,\"107\":15.0,\"108\":19.0,\"109\":19.5,\"110\":16.5,\"111\":13.5,\"112\":18.5,\"113\":14.0,\"114\":15.5,\"115\":13.0,\"116\":9.5,\"117\":19.5,\"118\":15.5,\"119\":14.0,\"120\":15.5,\"121\":11.0,\"122\":14.0,\"123\":13.5,\"124\":11.0,\"125\":16.5,\"126\":17.0,\"127\":16.0,\"128\":17.0,\"129\":19.0,\"130\":16.5,\"131\":21.0,\"132\":17.0,\"133\":17.0,\"134\":18.0,\"135\":16.5,\"136\":14.0,\"137\":14.5,\"138\":13.5,\"139\":16.0,\"140\":15.5,\"141\":16.5,\"142\":15.5,\"143\":14.5,\"144\":16.5,\"145\":19.0,\"146\":14.5,\"147\":15.5,\"148\":14.0,\"149\":15.0,\"150\":15.5,\"151\":16.0,\"152\":16.0,\"153\":16.0,\"154\":21.0,\"155\":19.5,\"156\":11.5,\"157\":14.0,\"158\":14.5,\"159\":13.5,\"160\":21.0,\"161\":18.5,\"162\":19.0,\"163\":19.0,\"164\":15.0,\"165\":13.5,\"166\":12.0,\"167\":16.0,\"168\":17.0,\"169\":16.0,\"170\":18.5,\"171\":13.5,\"172\":16.5,\"173\":17.0,\"174\":14.5,\"175\":14.0,\"176\":17.0,\"177\":15.0,\"178\":17.0,\"179\":14.5,\"180\":13.5,\"181\":17.5,\"182\":15.5,\"183\":16.9,\"184\":14.9,\"185\":17.7,\"186\":15.3,\"187\":13.0,\"188\":13.0,\"189\":13.9,\"190\":12.8,\"191\":15.4,\"192\":14.5,\"193\":17.6,\"194\":17.6,\"195\":22.2,\"196\":22.1,\"197\":14.2,\"198\":17.4,\"199\":17.7,\"200\":21.0,\"201\":16.2,\"202\":17.8,\"203\":12.2,\"204\":17.0,\"205\":16.4,\"206\":13.6,\"207\":15.7,\"208\":13.2,\"209\":21.9,\"210\":15.5,\"211\":16.7,\"212\":12.1,\"213\":12.0,\"214\":15.0,\"215\":14.0,\"216\":18.5,\"217\":14.8,\"218\":18.6,\"219\":15.5,\"220\":16.8,\"221\":12.5,\"222\":19.0,\"223\":13.7,\"224\":14.9,\"225\":16.4,\"226\":16.9,\"227\":17.7,\"228\":19.0,\"229\":11.1,\"230\":11.4,\"231\":12.2,\"232\":14.5,\"233\":14.5,\"234\":16.0,\"235\":18.2,\"236\":15.8,\"237\":17.0,\"238\":15.9,\"239\":16.4,\"240\":14.1,\"241\":14.5,\"242\":12.8,\"243\":13.5,\"244\":21.5,\"245\":14.4,\"246\":19.4,\"247\":18.6,\"248\":16.4,\"249\":15.5,\"250\":13.2,\"251\":12.8,\"252\":19.2,\"253\":18.2,\"254\":15.8,\"255\":15.4,\"256\":17.2,\"257\":17.2,\"258\":15.8,\"259\":16.7,\"260\":18.7,\"261\":15.1,\"262\":13.2,\"263\":13.4,\"264\":11.2,\"265\":13.7,\"266\":16.5,\"267\":14.2,\"268\":14.7,\"269\":14.5,\"270\":14.8,\"271\":16.7,\"272\":17.6,\"273\":14.9,\"274\":15.9,\"275\":13.6,\"276\":15.7,\"277\":15.8,\"278\":14.9,\"279\":16.6,\"280\":15.4,\"281\":18.2,\"282\":17.3,\"283\":18.2,\"284\":16.6,\"285\":15.4,\"286\":13.4,\"287\":13.2,\"288\":15.2,\"289\":14.9,\"290\":14.3,\"291\":15.0,\"292\":13.0,\"293\":14.0,\"294\":15.2,\"295\":14.4,\"296\":15.0,\"297\":20.1,\"298\":17.4,\"299\":24.8,\"300\":22.2,\"301\":13.2,\"302\":14.9,\"303\":19.2,\"304\":14.7,\"305\":16.0,\"306\":11.3,\"307\":12.9,\"308\":13.2,\"309\":14.7,\"310\":18.8,\"311\":15.5,\"312\":16.4,\"313\":16.5,\"314\":18.1,\"315\":20.1,\"316\":18.7,\"317\":15.8,\"318\":15.5,\"319\":17.5,\"320\":15.0,\"321\":15.2,\"322\":17.9,\"323\":14.4,\"324\":19.2,\"325\":21.7,\"326\":23.7,\"327\":19.9,\"328\":21.8,\"329\":13.8,\"330\":17.3,\"331\":18.0,\"332\":15.3,\"333\":11.4,\"334\":12.5,\"335\":15.1,\"336\":14.3,\"337\":17.0,\"338\":15.7,\"339\":16.4,\"340\":14.4,\"341\":12.6,\"342\":12.9,\"343\":16.9,\"344\":16.4,\"345\":16.1,\"346\":17.8,\"347\":19.4,\"348\":17.3,\"349\":16.0,\"350\":14.9,\"351\":16.2,\"352\":20.7,\"353\":14.2,\"354\":15.8,\"355\":14.4,\"356\":16.8,\"357\":14.8,\"358\":18.3,\"359\":20.4,\"360\":19.6,\"361\":12.6,\"362\":13.8,\"363\":15.8,\"364\":19.0,\"365\":17.1,\"366\":16.6,\"367\":19.6,\"368\":18.6,\"369\":18.0,\"370\":16.2,\"371\":16.0,\"372\":18.0,\"373\":16.4,\"374\":20.5,\"375\":15.3,\"376\":18.2,\"377\":17.6,\"378\":14.7,\"379\":17.3,\"380\":14.5,\"381\":14.5,\"382\":16.9,\"383\":15.0,\"384\":15.7,\"385\":16.2,\"386\":16.4,\"387\":17.0,\"388\":14.5,\"389\":14.7,\"390\":13.9,\"391\":13.0,\"392\":17.3,\"393\":15.6,\"394\":24.6,\"395\":11.6,\"396\":18.6,\"397\":19.4},\"m_year\":{\"0\":70,\"1\":70,\"2\":70,\"3\":70,\"4\":70,\"5\":70,\"6\":70,\"7\":70,\"8\":70,\"9\":70,\"10\":70,\"11\":70,\"12\":70,\"13\":70,\"14\":70,\"15\":70,\"16\":70,\"17\":70,\"18\":70,\"19\":70,\"20\":70,\"21\":70,\"22\":70,\"23\":70,\"24\":70,\"25\":70,\"26\":70,\"27\":70,\"28\":70,\"29\":71,\"30\":71,\"31\":71,\"32\":71,\"33\":71,\"34\":71,\"35\":71,\"36\":71,\"37\":71,\"38\":71,\"39\":71,\"40\":71,\"41\":71,\"42\":71,\"43\":71,\"44\":71,\"45\":71,\"46\":71,\"47\":71,\"48\":71,\"49\":71,\"50\":71,\"51\":71,\"52\":71,\"53\":71,\"54\":71,\"55\":71,\"56\":71,\"57\":72,\"58\":72,\"59\":72,\"60\":72,\"61\":72,\"62\":72,\"63\":72,\"64\":72,\"65\":72,\"66\":72,\"67\":72,\"68\":72,\"69\":72,\"70\":72,\"71\":72,\"72\":72,\"73\":72,\"74\":72,\"75\":72,\"76\":72,\"77\":72,\"78\":72,\"79\":72,\"80\":72,\"81\":72,\"82\":72,\"83\":72,\"84\":72,\"85\":73,\"86\":73,\"87\":73,\"88\":73,\"89\":73,\"90\":73,\"91\":73,\"92\":73,\"93\":73,\"94\":73,\"95\":73,\"96\":73,\"97\":73,\"98\":73,\"99\":73,\"100\":73,\"101\":73,\"102\":73,\"103\":73,\"104\":73,\"105\":73,\"106\":73,\"107\":73,\"108\":73,\"109\":73,\"110\":73,\"111\":73,\"112\":73,\"113\":73,\"114\":73,\"115\":73,\"116\":73,\"117\":73,\"118\":73,\"119\":73,\"120\":73,\"121\":73,\"122\":73,\"123\":73,\"124\":73,\"125\":74,\"126\":74,\"127\":74,\"128\":74,\"129\":74,\"130\":74,\"131\":74,\"132\":74,\"133\":74,\"134\":74,\"135\":74,\"136\":74,\"137\":74,\"138\":74,\"139\":74,\"140\":74,\"141\":74,\"142\":74,\"143\":74,\"144\":74,\"145\":74,\"146\":74,\"147\":74,\"148\":74,\"149\":74,\"150\":74,\"151\":74,\"152\":75,\"153\":75,\"154\":75,\"155\":75,\"156\":75,\"157\":75,\"158\":75,\"159\":75,\"160\":75,\"161\":75,\"162\":75,\"163\":75,\"164\":75,\"165\":75,\"166\":75,\"167\":75,\"168\":75,\"169\":75,\"170\":75,\"171\":75,\"172\":75,\"173\":75,\"174\":75,\"175\":75,\"176\":75,\"177\":75,\"178\":75,\"179\":75,\"180\":75,\"181\":75,\"182\":76,\"183\":76,\"184\":76,\"185\":76,\"186\":76,\"187\":76,\"188\":76,\"189\":76,\"190\":76,\"191\":76,\"192\":76,\"193\":76,\"194\":76,\"195\":76,\"196\":76,\"197\":76,\"198\":76,\"199\":76,\"200\":76,\"201\":76,\"202\":76,\"203\":76,\"204\":76,\"205\":76,\"206\":76,\"207\":76,\"208\":76,\"209\":76,\"210\":76,\"211\":76,\"212\":76,\"213\":76,\"214\":76,\"215\":76,\"216\":77,\"217\":77,\"218\":77,\"219\":77,\"220\":77,\"221\":77,\"222\":77,\"223\":77,\"224\":77,\"225\":77,\"226\":77,\"227\":77,\"228\":77,\"229\":77,\"230\":77,\"231\":77,\"232\":77,\"233\":77,\"234\":77,\"235\":77,\"236\":77,\"237\":77,\"238\":77,\"239\":77,\"240\":77,\"241\":77,\"242\":77,\"243\":77,\"244\":78,\"245\":78,\"246\":78,\"247\":78,\"248\":78,\"249\":78,\"250\":78,\"251\":78,\"252\":78,\"253\":78,\"254\":78,\"255\":78,\"256\":78,\"257\":78,\"258\":78,\"259\":78,\"260\":78,\"261\":78,\"262\":78,\"263\":78,\"264\":78,\"265\":78,\"266\":78,\"267\":78,\"268\":78,\"269\":78,\"270\":78,\"271\":78,\"272\":78,\"273\":78,\"274\":78,\"275\":78,\"276\":78,\"277\":78,\"278\":78,\"279\":78,\"280\":79,\"281\":79,\"282\":79,\"283\":79,\"284\":79,\"285\":79,\"286\":79,\"287\":79,\"288\":79,\"289\":79,\"290\":79,\"291\":79,\"292\":79,\"293\":79,\"294\":79,\"295\":79,\"296\":79,\"297\":79,\"298\":79,\"299\":79,\"300\":79,\"301\":79,\"302\":79,\"303\":79,\"304\":79,\"305\":79,\"306\":79,\"307\":79,\"308\":79,\"309\":80,\"310\":80,\"311\":80,\"312\":80,\"313\":80,\"314\":80,\"315\":80,\"316\":80,\"317\":80,\"318\":80,\"319\":80,\"320\":80,\"321\":80,\"322\":80,\"323\":80,\"324\":80,\"325\":80,\"326\":80,\"327\":80,\"328\":80,\"329\":80,\"330\":80,\"331\":80,\"332\":80,\"333\":80,\"334\":80,\"335\":80,\"336\":80,\"337\":80,\"338\":81,\"339\":81,\"340\":81,\"341\":81,\"342\":81,\"343\":81,\"344\":81,\"345\":81,\"346\":81,\"347\":81,\"348\":81,\"349\":81,\"350\":81,\"351\":81,\"352\":81,\"353\":81,\"354\":81,\"355\":81,\"356\":81,\"357\":81,\"358\":81,\"359\":81,\"360\":81,\"361\":81,\"362\":81,\"363\":81,\"364\":81,\"365\":81,\"366\":81,\"367\":82,\"368\":82,\"369\":82,\"370\":82,\"371\":82,\"372\":82,\"373\":82,\"374\":82,\"375\":82,\"376\":82,\"377\":82,\"378\":82,\"379\":82,\"380\":82,\"381\":82,\"382\":82,\"383\":82,\"384\":82,\"385\":82,\"386\":82,\"387\":82,\"388\":82,\"389\":82,\"390\":82,\"391\":82,\"392\":82,\"393\":82,\"394\":82,\"395\":82,\"396\":82,\"397\":82},\"origin\":{\"0\":1,\"1\":1,\"2\":1,\"3\":1,\"4\":1,\"5\":1,\"6\":1,\"7\":1,\"8\":1,\"9\":1,\"10\":1,\"11\":1,\"12\":1,\"13\":1,\"14\":3,\"15\":1,\"16\":1,\"17\":1,\"18\":3,\"19\":2,\"20\":2,\"21\":2,\"22\":2,\"23\":2,\"24\":1,\"25\":1,\"26\":1,\"27\":1,\"28\":1,\"29\":3,\"30\":1,\"31\":3,\"32\":1,\"33\":1,\"34\":1,\"35\":1,\"36\":1,\"37\":1,\"38\":1,\"39\":1,\"40\":1,\"41\":1,\"42\":1,\"43\":1,\"44\":1,\"45\":1,\"46\":1,\"47\":1,\"48\":1,\"49\":1,\"50\":2,\"51\":2,\"52\":2,\"53\":3,\"54\":3,\"55\":2,\"56\":1,\"57\":3,\"58\":1,\"59\":2,\"60\":1,\"61\":1,\"62\":1,\"63\":1,\"64\":1,\"65\":1,\"66\":1,\"67\":1,\"68\":1,\"69\":1,\"70\":1,\"71\":3,\"72\":1,\"73\":1,\"74\":1,\"75\":1,\"76\":2,\"77\":2,\"78\":2,\"79\":2,\"80\":1,\"81\":3,\"82\":3,\"83\":1,\"84\":3,\"85\":1,\"86\":1,\"87\":1,\"88\":1,\"89\":1,\"90\":1,\"91\":1,\"92\":1,\"93\":1,\"94\":1,\"95\":1,\"96\":1,\"97\":1,\"98\":1,\"99\":1,\"100\":1,\"101\":1,\"102\":2,\"103\":1,\"104\":1,\"105\":1,\"106\":1,\"107\":1,\"108\":3,\"109\":1,\"110\":3,\"111\":3,\"112\":1,\"113\":1,\"114\":2,\"115\":1,\"116\":1,\"117\":2,\"118\":2,\"119\":2,\"120\":2,\"121\":1,\"122\":2,\"123\":3,\"124\":1,\"125\":1,\"126\":1,\"127\":1,\"128\":1,\"129\":3,\"130\":1,\"131\":3,\"132\":1,\"133\":1,\"134\":1,\"135\":1,\"136\":1,\"137\":1,\"138\":1,\"139\":1,\"140\":1,\"141\":2,\"142\":2,\"143\":2,\"144\":3,\"145\":3,\"146\":1,\"147\":2,\"148\":2,\"149\":3,\"150\":3,\"151\":2,\"152\":1,\"153\":1,\"154\":1,\"155\":1,\"156\":1,\"157\":1,\"158\":1,\"159\":1,\"160\":1,\"161\":1,\"162\":1,\"163\":1,\"164\":1,\"165\":1,\"166\":1,\"167\":3,\"168\":1,\"169\":1,\"170\":1,\"171\":3,\"172\":2,\"173\":3,\"174\":1,\"175\":2,\"176\":1,\"177\":2,\"178\":2,\"179\":2,\"180\":2,\"181\":3,\"182\":2,\"183\":2,\"184\":1,\"185\":1,\"186\":2,\"187\":1,\"188\":1,\"189\":1,\"190\":1,\"191\":1,\"192\":1,\"193\":1,\"194\":1,\"195\":1,\"196\":1,\"197\":2,\"198\":3,\"199\":1,\"200\":1,\"201\":1,\"202\":1,\"203\":2,\"204\":3,\"205\":3,\"206\":1,\"207\":2,\"208\":1,\"209\":2,\"210\":3,\"211\":2,\"212\":1,\"213\":1,\"214\":1,\"215\":1,\"216\":3,\"217\":1,\"218\":2,\"219\":1,\"220\":3,\"221\":1,\"222\":1,\"223\":1,\"224\":1,\"225\":1,\"226\":1,\"227\":1,\"228\":1,\"229\":1,\"230\":1,\"231\":1,\"232\":1,\"233\":2,\"234\":1,\"235\":3,\"236\":1,\"237\":1,\"238\":1,\"239\":3,\"240\":2,\"241\":3,\"242\":2,\"243\":3,\"244\":2,\"245\":1,\"246\":3,\"247\":3,\"248\":3,\"249\":1,\"250\":1,\"251\":1,\"252\":1,\"253\":1,\"254\":1,\"255\":1,\"256\":1,\"257\":1,\"258\":1,\"259\":1,\"260\":1,\"261\":1,\"262\":1,\"263\":1,\"264\":1,\"265\":1,\"266\":1,\"267\":3,\"268\":3,\"269\":1,\"270\":3,\"271\":1,\"272\":1,\"273\":3,\"274\":2,\"275\":2,\"276\":2,\"277\":2,\"278\":2,\"279\":3,\"280\":1,\"281\":1,\"282\":1,\"283\":1,\"284\":1,\"285\":1,\"286\":1,\"287\":1,\"288\":1,\"289\":1,\"290\":1,\"291\":1,\"292\":1,\"293\":2,\"294\":3,\"295\":1,\"296\":1,\"297\":2,\"298\":1,\"299\":2,\"300\":1,\"301\":1,\"302\":1,\"303\":3,\"304\":2,\"305\":1,\"306\":1,\"307\":1,\"308\":1,\"309\":2,\"310\":3,\"311\":1,\"312\":3,\"313\":1,\"314\":1,\"315\":1,\"316\":1,\"317\":2,\"318\":3,\"319\":3,\"320\":3,\"321\":3,\"322\":3,\"323\":1,\"324\":3,\"325\":2,\"326\":2,\"327\":2,\"328\":2,\"329\":3,\"330\":2,\"331\":3,\"332\":2,\"333\":3,\"334\":3,\"335\":2,\"336\":1,\"337\":3,\"338\":1,\"339\":1,\"340\":1,\"341\":1,\"342\":1,\"343\":3,\"344\":1,\"345\":3,\"346\":3,\"347\":3,\"348\":3,\"349\":3,\"350\":1,\"351\":1,\"352\":1,\"353\":2,\"354\":2,\"355\":3,\"356\":3,\"357\":3,\"358\":3,\"359\":2,\"360\":2,\"361\":3,\"362\":3,\"363\":1,\"364\":1,\"365\":1,\"366\":1,\"367\":1,\"368\":1,\"369\":1,\"370\":1,\"371\":1,\"372\":1,\"373\":1,\"374\":1,\"375\":2,\"376\":3,\"377\":3,\"378\":1,\"379\":1,\"380\":3,\"381\":3,\"382\":3,\"383\":3,\"384\":3,\"385\":3,\"386\":1,\"387\":1,\"388\":1,\"389\":1,\"390\":3,\"391\":1,\"392\":1,\"393\":1,\"394\":2,\"395\":1,\"396\":1,\"397\":1},\"car_name\":{\"0\":\"chevrolet chevelle malibu\",\"1\":\"buick skylark 320\",\"2\":\"plymouth satellite\",\"3\":\"amc rebel sst\",\"4\":\"ford torino\",\"5\":\"ford galaxie 500\",\"6\":\"chevrolet impala\",\"7\":\"plymouth fury iii\",\"8\":\"pontiac catalina\",\"9\":\"amc ambassador dpl\",\"10\":\"dodge challenger se\",\"11\":\"plymouth \\'cuda 340\",\"12\":\"chevrolet monte carlo\",\"13\":\"buick estate wagon (sw)\",\"14\":\"toyota corona mark ii\",\"15\":\"plymouth duster\",\"16\":\"amc hornet\",\"17\":\"ford maverick\",\"18\":\"datsun pl510\",\"19\":\"volkswagen 1131 deluxe sedan\",\"20\":\"peugeot 504\",\"21\":\"audi 100 ls\",\"22\":\"saab 99e\",\"23\":\"bmw 2002\",\"24\":\"amc gremlin\",\"25\":\"ford f250\",\"26\":\"chevy c20\",\"27\":\"dodge d200\",\"28\":\"hi 1200d\",\"29\":\"datsun pl510\",\"30\":\"chevrolet vega 2300\",\"31\":\"toyota corona\",\"32\":\"ford pinto\",\"33\":\"amc gremlin\",\"34\":\"plymouth satellite custom\",\"35\":\"chevrolet chevelle malibu\",\"36\":\"ford torino 500\",\"37\":\"amc matador\",\"38\":\"chevrolet impala\",\"39\":\"pontiac catalina brougham\",\"40\":\"ford galaxie 500\",\"41\":\"plymouth fury iii\",\"42\":\"dodge monaco (sw)\",\"43\":\"ford country squire (sw)\",\"44\":\"pontiac safari (sw)\",\"45\":\"amc hornet sportabout (sw)\",\"46\":\"chevrolet vega (sw)\",\"47\":\"pontiac firebird\",\"48\":\"ford mustang\",\"49\":\"mercury capri 2000\",\"50\":\"opel 1900\",\"51\":\"peugeot 304\",\"52\":\"fiat 124b\",\"53\":\"toyota corolla 1200\",\"54\":\"datsun 1200\",\"55\":\"volkswagen model 111\",\"56\":\"plymouth cricket\",\"57\":\"toyota corona hardtop\",\"58\":\"dodge colt hardtop\",\"59\":\"volkswagen type 3\",\"60\":\"chevrolet vega\",\"61\":\"ford pinto runabout\",\"62\":\"chevrolet impala\",\"63\":\"pontiac catalina\",\"64\":\"plymouth fury iii\",\"65\":\"ford galaxie 500\",\"66\":\"amc ambassador sst\",\"67\":\"mercury marquis\",\"68\":\"buick lesabre custom\",\"69\":\"oldsmobile delta 88 royale\",\"70\":\"chrysler newport royal\",\"71\":\"mazda rx2 coupe\",\"72\":\"amc matador (sw)\",\"73\":\"chevrolet chevelle concours (sw)\",\"74\":\"ford gran torino (sw)\",\"75\":\"plymouth satellite custom (sw)\",\"76\":\"volvo 145e (sw)\",\"77\":\"volkswagen 411 (sw)\",\"78\":\"peugeot 504 (sw)\",\"79\":\"renault 12 (sw)\",\"80\":\"ford pinto (sw)\",\"81\":\"datsun 510 (sw)\",\"82\":\"toyouta corona mark ii (sw)\",\"83\":\"dodge colt (sw)\",\"84\":\"toyota corolla 1600 (sw)\",\"85\":\"buick century 350\",\"86\":\"amc matador\",\"87\":\"chevrolet malibu\",\"88\":\"ford gran torino\",\"89\":\"dodge coronet custom\",\"90\":\"mercury marquis brougham\",\"91\":\"chevrolet caprice classic\",\"92\":\"ford ltd\",\"93\":\"plymouth fury gran sedan\",\"94\":\"chrysler new yorker brougham\",\"95\":\"buick electra 225 custom\",\"96\":\"amc ambassador brougham\",\"97\":\"plymouth valiant\",\"98\":\"chevrolet nova custom\",\"99\":\"amc hornet\",\"100\":\"ford maverick\",\"101\":\"plymouth duster\",\"102\":\"volkswagen super beetle\",\"103\":\"chevrolet impala\",\"104\":\"ford country\",\"105\":\"plymouth custom suburb\",\"106\":\"oldsmobile vista cruiser\",\"107\":\"amc gremlin\",\"108\":\"toyota carina\",\"109\":\"chevrolet vega\",\"110\":\"datsun 610\",\"111\":\"maxda rx3\",\"112\":\"ford pinto\",\"113\":\"mercury capri v6\",\"114\":\"fiat 124 sport coupe\",\"115\":\"chevrolet monte carlo s\",\"116\":\"pontiac grand prix\",\"117\":\"fiat 128\",\"118\":\"opel manta\",\"119\":\"audi 100ls\",\"120\":\"volvo 144ea\",\"121\":\"dodge dart custom\",\"122\":\"saab 99le\",\"123\":\"toyota mark ii\",\"124\":\"oldsmobile omega\",\"125\":\"plymouth duster\",\"126\":\"ford maverick\",\"127\":\"amc hornet\",\"128\":\"chevrolet nova\",\"129\":\"datsun b210\",\"130\":\"ford pinto\",\"131\":\"toyota corolla 1200\",\"132\":\"chevrolet vega\",\"133\":\"chevrolet chevelle malibu classic\",\"134\":\"amc matador\",\"135\":\"plymouth satellite sebring\",\"136\":\"ford gran torino\",\"137\":\"buick century luxus (sw)\",\"138\":\"dodge coronet custom (sw)\",\"139\":\"ford gran torino (sw)\",\"140\":\"amc matador (sw)\",\"141\":\"audi fox\",\"142\":\"volkswagen dasher\",\"143\":\"opel manta\",\"144\":\"toyota corona\",\"145\":\"datsun 710\",\"146\":\"dodge colt\",\"147\":\"fiat 128\",\"148\":\"fiat 124 tc\",\"149\":\"honda civic\",\"150\":\"subaru\",\"151\":\"fiat x1.9\",\"152\":\"plymouth valiant custom\",\"153\":\"chevrolet nova\",\"154\":\"mercury monarch\",\"155\":\"ford maverick\",\"156\":\"pontiac catalina\",\"157\":\"chevrolet bel air\",\"158\":\"plymouth grand fury\",\"159\":\"ford ltd\",\"160\":\"buick century\",\"161\":\"chevroelt chevelle malibu\",\"162\":\"amc matador\",\"163\":\"plymouth fury\",\"164\":\"buick skyhawk\",\"165\":\"chevrolet monza 2+2\",\"166\":\"ford mustang ii\",\"167\":\"toyota corolla\",\"168\":\"ford pinto\",\"169\":\"amc gremlin\",\"170\":\"pontiac astro\",\"171\":\"toyota corona\",\"172\":\"volkswagen dasher\",\"173\":\"datsun 710\",\"174\":\"ford pinto\",\"175\":\"volkswagen rabbit\",\"176\":\"amc pacer\",\"177\":\"audi 100ls\",\"178\":\"peugeot 504\",\"179\":\"volvo 244dl\",\"180\":\"saab 99le\",\"181\":\"honda civic cvcc\",\"182\":\"fiat 131\",\"183\":\"opel 1900\",\"184\":\"capri ii\",\"185\":\"dodge colt\",\"186\":\"renault 12tl\",\"187\":\"chevrolet chevelle malibu classic\",\"188\":\"dodge coronet brougham\",\"189\":\"amc matador\",\"190\":\"ford gran torino\",\"191\":\"plymouth valiant\",\"192\":\"chevrolet nova\",\"193\":\"ford maverick\",\"194\":\"amc hornet\",\"195\":\"chevrolet chevette\",\"196\":\"chevrolet woody\",\"197\":\"vw rabbit\",\"198\":\"honda civic\",\"199\":\"dodge aspen se\",\"200\":\"ford granada ghia\",\"201\":\"pontiac ventura sj\",\"202\":\"amc pacer d\\\\/l\",\"203\":\"volkswagen rabbit\",\"204\":\"datsun b-210\",\"205\":\"toyota corolla\",\"206\":\"ford pinto\",\"207\":\"volvo 245\",\"208\":\"plymouth volare premier v8\",\"209\":\"peugeot 504\",\"210\":\"toyota mark ii\",\"211\":\"mercedes-benz 280s\",\"212\":\"cadillac seville\",\"213\":\"chevy c10\",\"214\":\"ford f108\",\"215\":\"dodge d100\",\"216\":\"honda accord cvcc\",\"217\":\"buick opel isuzu deluxe\",\"218\":\"renault 5 gtl\",\"219\":\"plymouth arrow gs\",\"220\":\"datsun f-10 hatchback\",\"221\":\"chevrolet caprice classic\",\"222\":\"oldsmobile cutlass supreme\",\"223\":\"dodge monaco brougham\",\"224\":\"mercury cougar brougham\",\"225\":\"chevrolet concours\",\"226\":\"buick skylark\",\"227\":\"plymouth volare custom\",\"228\":\"ford granada\",\"229\":\"pontiac grand prix lj\",\"230\":\"chevrolet monte carlo landau\",\"231\":\"chrysler cordoba\",\"232\":\"ford thunderbird\",\"233\":\"volkswagen rabbit custom\",\"234\":\"pontiac sunbird coupe\",\"235\":\"toyota corolla liftback\",\"236\":\"ford mustang ii 2+2\",\"237\":\"chevrolet chevette\",\"238\":\"dodge colt m\\\\/m\",\"239\":\"subaru dl\",\"240\":\"volkswagen dasher\",\"241\":\"datsun 810\",\"242\":\"bmw 320i\",\"243\":\"mazda rx-4\",\"244\":\"volkswagen rabbit custom diesel\",\"245\":\"ford fiesta\",\"246\":\"mazda glc deluxe\",\"247\":\"datsun b210 gx\",\"248\":\"honda civic cvcc\",\"249\":\"oldsmobile cutlass salon brougham\",\"250\":\"dodge diplomat\",\"251\":\"mercury monarch ghia\",\"252\":\"pontiac phoenix lj\",\"253\":\"chevrolet malibu\",\"254\":\"ford fairmont (auto)\",\"255\":\"ford fairmont (man)\",\"256\":\"plymouth volare\",\"257\":\"amc concord\",\"258\":\"buick century special\",\"259\":\"mercury zephyr\",\"260\":\"dodge aspen\",\"261\":\"amc concord d\\\\/l\",\"262\":\"chevrolet monte carlo landau\",\"263\":\"buick regal sport coupe (turbo)\",\"264\":\"ford futura\",\"265\":\"dodge magnum xe\",\"266\":\"chevrolet chevette\",\"267\":\"toyota corona\",\"268\":\"datsun 510\",\"269\":\"dodge omni\",\"270\":\"toyota celica gt liftback\",\"271\":\"plymouth sapporo\",\"272\":\"oldsmobile starfire sx\",\"273\":\"datsun 200-sx\",\"274\":\"audi 5000\",\"275\":\"volvo 264gl\",\"276\":\"saab 99gle\",\"277\":\"peugeot 604sl\",\"278\":\"volkswagen scirocco\",\"279\":\"honda accord lx\",\"280\":\"pontiac lemans v6\",\"281\":\"mercury zephyr 6\",\"282\":\"ford fairmont 4\",\"283\":\"amc concord dl 6\",\"284\":\"dodge aspen 6\",\"285\":\"chevrolet caprice classic\",\"286\":\"ford ltd landau\",\"287\":\"mercury grand marquis\",\"288\":\"dodge st. regis\",\"289\":\"buick estate wagon (sw)\",\"290\":\"ford country squire (sw)\",\"291\":\"chevrolet malibu classic (sw)\",\"292\":\"chrysler lebaron town @ country (sw)\",\"293\":\"vw rabbit custom\",\"294\":\"maxda glc deluxe\",\"295\":\"dodge colt hatchback custom\",\"296\":\"amc spirit dl\",\"297\":\"mercedes benz 300d\",\"298\":\"cadillac eldorado\",\"299\":\"peugeot 504\",\"300\":\"oldsmobile cutlass salon brougham\",\"301\":\"plymouth horizon\",\"302\":\"plymouth horizon tc3\",\"303\":\"datsun 210\",\"304\":\"fiat strada custom\",\"305\":\"buick skylark limited\",\"306\":\"chevrolet citation\",\"307\":\"oldsmobile omega brougham\",\"308\":\"pontiac phoenix\",\"309\":\"vw rabbit\",\"310\":\"toyota corolla tercel\",\"311\":\"chevrolet chevette\",\"312\":\"datsun 310\",\"313\":\"chevrolet citation\",\"314\":\"ford fairmont\",\"315\":\"amc concord\",\"316\":\"dodge aspen\",\"317\":\"audi 4000\",\"318\":\"toyota corona liftback\",\"319\":\"mazda 626\",\"320\":\"datsun 510 hatchback\",\"321\":\"toyota corolla\",\"322\":\"mazda glc\",\"323\":\"dodge colt\",\"324\":\"datsun 210\",\"325\":\"vw rabbit c (diesel)\",\"326\":\"vw dasher (diesel)\",\"327\":\"audi 5000s (diesel)\",\"328\":\"mercedes-benz 240d\",\"329\":\"honda civic 1500 gl\",\"330\":\"renault lecar deluxe\",\"331\":\"subaru dl\",\"332\":\"vokswagen rabbit\",\"333\":\"datsun 280-zx\",\"334\":\"mazda rx-7 gs\",\"335\":\"triumph tr7 coupe\",\"336\":\"ford mustang cobra\",\"337\":\"honda accord\",\"338\":\"plymouth reliant\",\"339\":\"buick skylark\",\"340\":\"dodge aries wagon (sw)\",\"341\":\"chevrolet citation\",\"342\":\"plymouth reliant\",\"343\":\"toyota starlet\",\"344\":\"plymouth champ\",\"345\":\"honda civic 1300\",\"346\":\"subaru\",\"347\":\"datsun 210 mpg\",\"348\":\"toyota tercel\",\"349\":\"mazda glc 4\",\"350\":\"plymouth horizon 4\",\"351\":\"ford escort 4w\",\"352\":\"ford escort 2h\",\"353\":\"volkswagen jetta\",\"354\":\"renault 18i\",\"355\":\"honda prelude\",\"356\":\"toyota corolla\",\"357\":\"datsun 200sx\",\"358\":\"mazda 626\",\"359\":\"peugeot 505s turbo diesel\",\"360\":\"volvo diesel\",\"361\":\"toyota cressida\",\"362\":\"datsun 810 maxima\",\"363\":\"buick century\",\"364\":\"oldsmobile cutlass ls\",\"365\":\"ford granada gl\",\"366\":\"chrysler lebaron salon\",\"367\":\"chevrolet cavalier\",\"368\":\"chevrolet cavalier wagon\",\"369\":\"chevrolet cavalier 2-door\",\"370\":\"pontiac j2000 se hatchback\",\"371\":\"dodge aries se\",\"372\":\"pontiac phoenix\",\"373\":\"ford fairmont futura\",\"374\":\"amc concord dl\",\"375\":\"volkswagen rabbit l\",\"376\":\"mazda glc custom l\",\"377\":\"mazda glc custom\",\"378\":\"plymouth horizon miser\",\"379\":\"mercury lynx l\",\"380\":\"nissan stanza xe\",\"381\":\"honda accord\",\"382\":\"toyota corolla\",\"383\":\"honda civic\",\"384\":\"honda civic (auto)\",\"385\":\"datsun 310 gx\",\"386\":\"buick century limited\",\"387\":\"oldsmobile cutlass ciera (diesel)\",\"388\":\"chrysler lebaron medallion\",\"389\":\"ford granada l\",\"390\":\"toyota celica gt\",\"391\":\"dodge charger 2.2\",\"392\":\"chevrolet camaro\",\"393\":\"ford mustang gl\",\"394\":\"vw pickup\",\"395\":\"dodge rampage\",\"396\":\"ford ranger\",\"397\":\"chevy s-10\"}}'"
      ]
     },
     "execution_count": 329,
     "metadata": {},
     "output_type": "execute_result"
    }
   ],
   "source": [
    "df.to_json()"
   ]
  },
  {
   "cell_type": "code",
   "execution_count": 330,
   "metadata": {},
   "outputs": [
    {
     "data": {
      "text/html": [
       "<div>\n",
       "<style scoped>\n",
       "    .dataframe tbody tr th:only-of-type {\n",
       "        vertical-align: middle;\n",
       "    }\n",
       "\n",
       "    .dataframe tbody tr th {\n",
       "        vertical-align: top;\n",
       "    }\n",
       "\n",
       "    .dataframe thead th {\n",
       "        text-align: right;\n",
       "    }\n",
       "</style>\n",
       "<table border=\"1\" class=\"dataframe\">\n",
       "  <thead>\n",
       "    <tr style=\"text-align: right;\">\n",
       "      <th></th>\n",
       "      <th>mpg</th>\n",
       "      <th>cyl</th>\n",
       "      <th>disp</th>\n",
       "      <th>hp</th>\n",
       "      <th>wt</th>\n",
       "      <th>acc</th>\n",
       "      <th>m_year</th>\n",
       "      <th>origin</th>\n",
       "      <th>car_name</th>\n",
       "    </tr>\n",
       "  </thead>\n",
       "  <tbody>\n",
       "    <tr>\n",
       "      <th>0</th>\n",
       "      <td>18.0</td>\n",
       "      <td>8</td>\n",
       "      <td>307.0</td>\n",
       "      <td>130.0</td>\n",
       "      <td>3504.0</td>\n",
       "      <td>12.0</td>\n",
       "      <td>70</td>\n",
       "      <td>1</td>\n",
       "      <td>chevrolet chevelle malibu</td>\n",
       "    </tr>\n",
       "    <tr>\n",
       "      <th>1</th>\n",
       "      <td>15.0</td>\n",
       "      <td>8</td>\n",
       "      <td>350.0</td>\n",
       "      <td>165.0</td>\n",
       "      <td>3693.0</td>\n",
       "      <td>11.5</td>\n",
       "      <td>70</td>\n",
       "      <td>1</td>\n",
       "      <td>buick skylark 320</td>\n",
       "    </tr>\n",
       "    <tr>\n",
       "      <th>2</th>\n",
       "      <td>18.0</td>\n",
       "      <td>8</td>\n",
       "      <td>318.0</td>\n",
       "      <td>150.0</td>\n",
       "      <td>3436.0</td>\n",
       "      <td>11.0</td>\n",
       "      <td>70</td>\n",
       "      <td>1</td>\n",
       "      <td>plymouth satellite</td>\n",
       "    </tr>\n",
       "    <tr>\n",
       "      <th>3</th>\n",
       "      <td>16.0</td>\n",
       "      <td>8</td>\n",
       "      <td>304.0</td>\n",
       "      <td>150.0</td>\n",
       "      <td>3433.0</td>\n",
       "      <td>12.0</td>\n",
       "      <td>70</td>\n",
       "      <td>1</td>\n",
       "      <td>amc rebel sst</td>\n",
       "    </tr>\n",
       "    <tr>\n",
       "      <th>4</th>\n",
       "      <td>17.0</td>\n",
       "      <td>8</td>\n",
       "      <td>302.0</td>\n",
       "      <td>140.0</td>\n",
       "      <td>3449.0</td>\n",
       "      <td>10.5</td>\n",
       "      <td>70</td>\n",
       "      <td>1</td>\n",
       "      <td>ford torino</td>\n",
       "    </tr>\n",
       "  </tbody>\n",
       "</table>\n",
       "</div>"
      ],
      "text/plain": [
       "    mpg  cyl   disp     hp      wt   acc  m_year  origin  \\\n",
       "0  18.0    8  307.0  130.0  3504.0  12.0      70       1   \n",
       "1  15.0    8  350.0  165.0  3693.0  11.5      70       1   \n",
       "2  18.0    8  318.0  150.0  3436.0  11.0      70       1   \n",
       "3  16.0    8  304.0  150.0  3433.0  12.0      70       1   \n",
       "4  17.0    8  302.0  140.0  3449.0  10.5      70       1   \n",
       "\n",
       "                    car_name  \n",
       "0  chevrolet chevelle malibu  \n",
       "1          buick skylark 320  \n",
       "2         plymouth satellite  \n",
       "3              amc rebel sst  \n",
       "4                ford torino  "
      ]
     },
     "execution_count": 330,
     "metadata": {},
     "output_type": "execute_result"
    }
   ],
   "source": [
    "df.head()"
   ]
  },
  {
   "cell_type": "code",
   "execution_count": 333,
   "metadata": {},
   "outputs": [],
   "source": [
    "df3 = df.tail(6)"
   ]
  },
  {
   "cell_type": "code",
   "execution_count": 334,
   "metadata": {},
   "outputs": [
    {
     "data": {
      "text/plain": [
       "{'mpg': {392: 27.0, 393: 27.0, 394: 44.0, 395: 32.0, 396: 28.0, 397: 31.0},\n",
       " 'cyl': {392: 4, 393: 4, 394: 4, 395: 4, 396: 4, 397: 4},\n",
       " 'disp': {392: 151.0,\n",
       "  393: 140.0,\n",
       "  394: 97.0,\n",
       "  395: 135.0,\n",
       "  396: 120.0,\n",
       "  397: 119.0},\n",
       " 'hp': {392: '90.00',\n",
       "  393: '86.00',\n",
       "  394: '52.00',\n",
       "  395: '84.00',\n",
       "  396: '79.00',\n",
       "  397: '82.00'},\n",
       " 'wt': {392: 2950.0,\n",
       "  393: 2790.0,\n",
       "  394: 2130.0,\n",
       "  395: 2295.0,\n",
       "  396: 2625.0,\n",
       "  397: 2720.0},\n",
       " 'acc': {392: 17.3, 393: 15.6, 394: 24.6, 395: 11.6, 396: 18.6, 397: 19.4},\n",
       " 'm_year': {392: 82, 393: 82, 394: 82, 395: 82, 396: 82, 397: 82},\n",
       " 'origin': {392: 1, 393: 1, 394: 2, 395: 1, 396: 1, 397: 1},\n",
       " 'car_name': {392: 'chevrolet camaro',\n",
       "  393: 'ford mustang gl',\n",
       "  394: 'vw pickup',\n",
       "  395: 'dodge rampage',\n",
       "  396: 'ford ranger',\n",
       "  397: 'chevy s-10'}}"
      ]
     },
     "execution_count": 334,
     "metadata": {},
     "output_type": "execute_result"
    }
   ],
   "source": [
    "df3.to_dict()"
   ]
  },
  {
   "cell_type": "code",
   "execution_count": 335,
   "metadata": {},
   "outputs": [
    {
     "data": {
      "text/plain": [
       "{'mpg': 392    27.0\n",
       " 393    27.0\n",
       " 394    44.0\n",
       " 395    32.0\n",
       " 396    28.0\n",
       " 397    31.0\n",
       " Name: mpg, dtype: float64,\n",
       " 'cyl': 392    4\n",
       " 393    4\n",
       " 394    4\n",
       " 395    4\n",
       " 396    4\n",
       " 397    4\n",
       " Name: cyl, dtype: int64,\n",
       " 'disp': 392    151.0\n",
       " 393    140.0\n",
       " 394     97.0\n",
       " 395    135.0\n",
       " 396    120.0\n",
       " 397    119.0\n",
       " Name: disp, dtype: float64,\n",
       " 'hp': 392    90.00\n",
       " 393    86.00\n",
       " 394    52.00\n",
       " 395    84.00\n",
       " 396    79.00\n",
       " 397    82.00\n",
       " Name: hp, dtype: object,\n",
       " 'wt': 392    2950.0\n",
       " 393    2790.0\n",
       " 394    2130.0\n",
       " 395    2295.0\n",
       " 396    2625.0\n",
       " 397    2720.0\n",
       " Name: wt, dtype: float64,\n",
       " 'acc': 392    17.3\n",
       " 393    15.6\n",
       " 394    24.6\n",
       " 395    11.6\n",
       " 396    18.6\n",
       " 397    19.4\n",
       " Name: acc, dtype: float64,\n",
       " 'm_year': 392    82\n",
       " 393    82\n",
       " 394    82\n",
       " 395    82\n",
       " 396    82\n",
       " 397    82\n",
       " Name: m_year, dtype: int64,\n",
       " 'origin': 392    1\n",
       " 393    1\n",
       " 394    2\n",
       " 395    1\n",
       " 396    1\n",
       " 397    1\n",
       " Name: origin, dtype: int64,\n",
       " 'car_name': 392    chevrolet camaro\n",
       " 393     ford mustang gl\n",
       " 394           vw pickup\n",
       " 395       dodge rampage\n",
       " 396         ford ranger\n",
       " 397          chevy s-10\n",
       " Name: car_name, dtype: object}"
      ]
     },
     "execution_count": 335,
     "metadata": {},
     "output_type": "execute_result"
    }
   ],
   "source": [
    "df3.to_dict('series')"
   ]
  },
  {
   "cell_type": "code",
   "execution_count": 336,
   "metadata": {},
   "outputs": [
    {
     "data": {
      "text/plain": [
       "{'index': [392, 393, 394, 395, 396, 397],\n",
       " 'columns': ['mpg',\n",
       "  'cyl',\n",
       "  'disp',\n",
       "  'hp',\n",
       "  'wt',\n",
       "  'acc',\n",
       "  'm_year',\n",
       "  'origin',\n",
       "  'car_name'],\n",
       " 'data': [[27.0, 4, 151.0, '90.00', 2950.0, 17.3, 82, 1, 'chevrolet camaro'],\n",
       "  [27.0, 4, 140.0, '86.00', 2790.0, 15.6, 82, 1, 'ford mustang gl'],\n",
       "  [44.0, 4, 97.0, '52.00', 2130.0, 24.6, 82, 2, 'vw pickup'],\n",
       "  [32.0, 4, 135.0, '84.00', 2295.0, 11.6, 82, 1, 'dodge rampage'],\n",
       "  [28.0, 4, 120.0, '79.00', 2625.0, 18.6, 82, 1, 'ford ranger'],\n",
       "  [31.0, 4, 119.0, '82.00', 2720.0, 19.4, 82, 1, 'chevy s-10']]}"
      ]
     },
     "execution_count": 336,
     "metadata": {},
     "output_type": "execute_result"
    }
   ],
   "source": [
    "df3.to_dict('split')"
   ]
  },
  {
   "cell_type": "code",
   "execution_count": 337,
   "metadata": {},
   "outputs": [
    {
     "data": {
      "text/plain": [
       "[{'mpg': 27.0,\n",
       "  'cyl': 4,\n",
       "  'disp': 151.0,\n",
       "  'hp': '90.00',\n",
       "  'wt': 2950.0,\n",
       "  'acc': 17.3,\n",
       "  'm_year': 82,\n",
       "  'origin': 1,\n",
       "  'car_name': 'chevrolet camaro'},\n",
       " {'mpg': 27.0,\n",
       "  'cyl': 4,\n",
       "  'disp': 140.0,\n",
       "  'hp': '86.00',\n",
       "  'wt': 2790.0,\n",
       "  'acc': 15.6,\n",
       "  'm_year': 82,\n",
       "  'origin': 1,\n",
       "  'car_name': 'ford mustang gl'},\n",
       " {'mpg': 44.0,\n",
       "  'cyl': 4,\n",
       "  'disp': 97.0,\n",
       "  'hp': '52.00',\n",
       "  'wt': 2130.0,\n",
       "  'acc': 24.6,\n",
       "  'm_year': 82,\n",
       "  'origin': 2,\n",
       "  'car_name': 'vw pickup'},\n",
       " {'mpg': 32.0,\n",
       "  'cyl': 4,\n",
       "  'disp': 135.0,\n",
       "  'hp': '84.00',\n",
       "  'wt': 2295.0,\n",
       "  'acc': 11.6,\n",
       "  'm_year': 82,\n",
       "  'origin': 1,\n",
       "  'car_name': 'dodge rampage'},\n",
       " {'mpg': 28.0,\n",
       "  'cyl': 4,\n",
       "  'disp': 120.0,\n",
       "  'hp': '79.00',\n",
       "  'wt': 2625.0,\n",
       "  'acc': 18.6,\n",
       "  'm_year': 82,\n",
       "  'origin': 1,\n",
       "  'car_name': 'ford ranger'},\n",
       " {'mpg': 31.0,\n",
       "  'cyl': 4,\n",
       "  'disp': 119.0,\n",
       "  'hp': '82.00',\n",
       "  'wt': 2720.0,\n",
       "  'acc': 19.4,\n",
       "  'm_year': 82,\n",
       "  'origin': 1,\n",
       "  'car_name': 'chevy s-10'}]"
      ]
     },
     "execution_count": 337,
     "metadata": {},
     "output_type": "execute_result"
    }
   ],
   "source": [
    "df3.to_dict('records')"
   ]
  },
  {
   "cell_type": "code",
   "execution_count": 338,
   "metadata": {},
   "outputs": [
    {
     "data": {
      "text/plain": [
       "{392: {'mpg': 27.0,\n",
       "  'cyl': 4,\n",
       "  'disp': 151.0,\n",
       "  'hp': '90.00',\n",
       "  'wt': 2950.0,\n",
       "  'acc': 17.3,\n",
       "  'm_year': 82,\n",
       "  'origin': 1,\n",
       "  'car_name': 'chevrolet camaro'},\n",
       " 393: {'mpg': 27.0,\n",
       "  'cyl': 4,\n",
       "  'disp': 140.0,\n",
       "  'hp': '86.00',\n",
       "  'wt': 2790.0,\n",
       "  'acc': 15.6,\n",
       "  'm_year': 82,\n",
       "  'origin': 1,\n",
       "  'car_name': 'ford mustang gl'},\n",
       " 394: {'mpg': 44.0,\n",
       "  'cyl': 4,\n",
       "  'disp': 97.0,\n",
       "  'hp': '52.00',\n",
       "  'wt': 2130.0,\n",
       "  'acc': 24.6,\n",
       "  'm_year': 82,\n",
       "  'origin': 2,\n",
       "  'car_name': 'vw pickup'},\n",
       " 395: {'mpg': 32.0,\n",
       "  'cyl': 4,\n",
       "  'disp': 135.0,\n",
       "  'hp': '84.00',\n",
       "  'wt': 2295.0,\n",
       "  'acc': 11.6,\n",
       "  'm_year': 82,\n",
       "  'origin': 1,\n",
       "  'car_name': 'dodge rampage'},\n",
       " 396: {'mpg': 28.0,\n",
       "  'cyl': 4,\n",
       "  'disp': 120.0,\n",
       "  'hp': '79.00',\n",
       "  'wt': 2625.0,\n",
       "  'acc': 18.6,\n",
       "  'm_year': 82,\n",
       "  'origin': 1,\n",
       "  'car_name': 'ford ranger'},\n",
       " 397: {'mpg': 31.0,\n",
       "  'cyl': 4,\n",
       "  'disp': 119.0,\n",
       "  'hp': '82.00',\n",
       "  'wt': 2720.0,\n",
       "  'acc': 19.4,\n",
       "  'm_year': 82,\n",
       "  'origin': 1,\n",
       "  'car_name': 'chevy s-10'}}"
      ]
     },
     "execution_count": 338,
     "metadata": {},
     "output_type": "execute_result"
    }
   ],
   "source": [
    "df3.to_dict('index')"
   ]
  },
  {
   "cell_type": "code",
   "execution_count": 339,
   "metadata": {},
   "outputs": [
    {
     "data": {
      "text/plain": [
       "{'mpg': [27.0, 27.0, 44.0, 32.0, 28.0, 31.0],\n",
       " 'cyl': [4, 4, 4, 4, 4, 4],\n",
       " 'disp': [151.0, 140.0, 97.0, 135.0, 120.0, 119.0],\n",
       " 'hp': ['90.00', '86.00', '52.00', '84.00', '79.00', '82.00'],\n",
       " 'wt': [2950.0, 2790.0, 2130.0, 2295.0, 2625.0, 2720.0],\n",
       " 'acc': [17.3, 15.6, 24.6, 11.6, 18.6, 19.4],\n",
       " 'm_year': [82, 82, 82, 82, 82, 82],\n",
       " 'origin': [1, 1, 2, 1, 1, 1],\n",
       " 'car_name': ['chevrolet camaro',\n",
       "  'ford mustang gl',\n",
       "  'vw pickup',\n",
       "  'dodge rampage',\n",
       "  'ford ranger',\n",
       "  'chevy s-10']}"
      ]
     },
     "execution_count": 339,
     "metadata": {},
     "output_type": "execute_result"
    }
   ],
   "source": [
    "df3.to_dict('list')"
   ]
  },
  {
   "cell_type": "code",
   "execution_count": 340,
   "metadata": {},
   "outputs": [
    {
     "data": {
      "text/plain": [
       "{'mpg': {392: 27.0, 393: 27.0, 394: 44.0, 395: 32.0, 396: 28.0, 397: 31.0},\n",
       " 'cyl': {392: 4, 393: 4, 394: 4, 395: 4, 396: 4, 397: 4},\n",
       " 'disp': {392: 151.0,\n",
       "  393: 140.0,\n",
       "  394: 97.0,\n",
       "  395: 135.0,\n",
       "  396: 120.0,\n",
       "  397: 119.0},\n",
       " 'hp': {392: '90.00',\n",
       "  393: '86.00',\n",
       "  394: '52.00',\n",
       "  395: '84.00',\n",
       "  396: '79.00',\n",
       "  397: '82.00'},\n",
       " 'wt': {392: 2950.0,\n",
       "  393: 2790.0,\n",
       "  394: 2130.0,\n",
       "  395: 2295.0,\n",
       "  396: 2625.0,\n",
       "  397: 2720.0},\n",
       " 'acc': {392: 17.3, 393: 15.6, 394: 24.6, 395: 11.6, 396: 18.6, 397: 19.4},\n",
       " 'm_year': {392: 82, 393: 82, 394: 82, 395: 82, 396: 82, 397: 82},\n",
       " 'origin': {392: 1, 393: 1, 394: 2, 395: 1, 396: 1, 397: 1},\n",
       " 'car_name': {392: 'chevrolet camaro',\n",
       "  393: 'ford mustang gl',\n",
       "  394: 'vw pickup',\n",
       "  395: 'dodge rampage',\n",
       "  396: 'ford ranger',\n",
       "  397: 'chevy s-10'}}"
      ]
     },
     "execution_count": 340,
     "metadata": {},
     "output_type": "execute_result"
    }
   ],
   "source": [
    "df3.to_dict()"
   ]
  },
  {
   "cell_type": "code",
   "execution_count": 342,
   "metadata": {},
   "outputs": [],
   "source": [
    "from collections import OrderedDict, defaultdict"
   ]
  },
  {
   "cell_type": "code",
   "execution_count": 343,
   "metadata": {},
   "outputs": [
    {
     "data": {
      "text/plain": [
       "OrderedDict([('mpg',\n",
       "              OrderedDict([(392, 27.0),\n",
       "                           (393, 27.0),\n",
       "                           (394, 44.0),\n",
       "                           (395, 32.0),\n",
       "                           (396, 28.0),\n",
       "                           (397, 31.0)])),\n",
       "             ('cyl',\n",
       "              OrderedDict([(392, 4),\n",
       "                           (393, 4),\n",
       "                           (394, 4),\n",
       "                           (395, 4),\n",
       "                           (396, 4),\n",
       "                           (397, 4)])),\n",
       "             ('disp',\n",
       "              OrderedDict([(392, 151.0),\n",
       "                           (393, 140.0),\n",
       "                           (394, 97.0),\n",
       "                           (395, 135.0),\n",
       "                           (396, 120.0),\n",
       "                           (397, 119.0)])),\n",
       "             ('hp',\n",
       "              OrderedDict([(392, '90.00'),\n",
       "                           (393, '86.00'),\n",
       "                           (394, '52.00'),\n",
       "                           (395, '84.00'),\n",
       "                           (396, '79.00'),\n",
       "                           (397, '82.00')])),\n",
       "             ('wt',\n",
       "              OrderedDict([(392, 2950.0),\n",
       "                           (393, 2790.0),\n",
       "                           (394, 2130.0),\n",
       "                           (395, 2295.0),\n",
       "                           (396, 2625.0),\n",
       "                           (397, 2720.0)])),\n",
       "             ('acc',\n",
       "              OrderedDict([(392, 17.3),\n",
       "                           (393, 15.6),\n",
       "                           (394, 24.6),\n",
       "                           (395, 11.6),\n",
       "                           (396, 18.6),\n",
       "                           (397, 19.4)])),\n",
       "             ('m_year',\n",
       "              OrderedDict([(392, 82),\n",
       "                           (393, 82),\n",
       "                           (394, 82),\n",
       "                           (395, 82),\n",
       "                           (396, 82),\n",
       "                           (397, 82)])),\n",
       "             ('origin',\n",
       "              OrderedDict([(392, 1),\n",
       "                           (393, 1),\n",
       "                           (394, 2),\n",
       "                           (395, 1),\n",
       "                           (396, 1),\n",
       "                           (397, 1)])),\n",
       "             ('car_name',\n",
       "              OrderedDict([(392, 'chevrolet camaro'),\n",
       "                           (393, 'ford mustang gl'),\n",
       "                           (394, 'vw pickup'),\n",
       "                           (395, 'dodge rampage'),\n",
       "                           (396, 'ford ranger'),\n",
       "                           (397, 'chevy s-10')]))])"
      ]
     },
     "execution_count": 343,
     "metadata": {},
     "output_type": "execute_result"
    }
   ],
   "source": [
    "df3.to_dict(into=OrderedDict)"
   ]
  },
  {
   "cell_type": "code",
   "execution_count": 344,
   "metadata": {},
   "outputs": [
    {
     "data": {
      "text/plain": [
       "{'mpg': {392: 27.0, 393: 27.0, 394: 44.0, 395: 32.0, 396: 28.0, 397: 31.0},\n",
       " 'cyl': {392: 4, 393: 4, 394: 4, 395: 4, 396: 4, 397: 4},\n",
       " 'disp': {392: 151.0,\n",
       "  393: 140.0,\n",
       "  394: 97.0,\n",
       "  395: 135.0,\n",
       "  396: 120.0,\n",
       "  397: 119.0},\n",
       " 'hp': {392: '90.00',\n",
       "  393: '86.00',\n",
       "  394: '52.00',\n",
       "  395: '84.00',\n",
       "  396: '79.00',\n",
       "  397: '82.00'},\n",
       " 'wt': {392: 2950.0,\n",
       "  393: 2790.0,\n",
       "  394: 2130.0,\n",
       "  395: 2295.0,\n",
       "  396: 2625.0,\n",
       "  397: 2720.0},\n",
       " 'acc': {392: 17.3, 393: 15.6, 394: 24.6, 395: 11.6, 396: 18.6, 397: 19.4},\n",
       " 'm_year': {392: 82, 393: 82, 394: 82, 395: 82, 396: 82, 397: 82},\n",
       " 'origin': {392: 1, 393: 1, 394: 2, 395: 1, 396: 1, 397: 1},\n",
       " 'car_name': {392: 'chevrolet camaro',\n",
       "  393: 'ford mustang gl',\n",
       "  394: 'vw pickup',\n",
       "  395: 'dodge rampage',\n",
       "  396: 'ford ranger',\n",
       "  397: 'chevy s-10'}}"
      ]
     },
     "execution_count": 344,
     "metadata": {},
     "output_type": "execute_result"
    }
   ],
   "source": [
    "df3.to_dict()"
   ]
  },
  {
   "cell_type": "code",
   "execution_count": 345,
   "metadata": {},
   "outputs": [
    {
     "data": {
      "text/html": [
       "<div>\n",
       "<style scoped>\n",
       "    .dataframe tbody tr th:only-of-type {\n",
       "        vertical-align: middle;\n",
       "    }\n",
       "\n",
       "    .dataframe tbody tr th {\n",
       "        vertical-align: top;\n",
       "    }\n",
       "\n",
       "    .dataframe thead th {\n",
       "        text-align: right;\n",
       "    }\n",
       "</style>\n",
       "<table border=\"1\" class=\"dataframe\">\n",
       "  <thead>\n",
       "    <tr style=\"text-align: right;\">\n",
       "      <th></th>\n",
       "      <th>mpg</th>\n",
       "      <th>cyl</th>\n",
       "      <th>disp</th>\n",
       "      <th>hp</th>\n",
       "      <th>wt</th>\n",
       "      <th>acc</th>\n",
       "      <th>m_year</th>\n",
       "      <th>origin</th>\n",
       "      <th>car_name</th>\n",
       "    </tr>\n",
       "  </thead>\n",
       "  <tbody>\n",
       "    <tr>\n",
       "      <th>0</th>\n",
       "      <td>18.0</td>\n",
       "      <td>8</td>\n",
       "      <td>307.0</td>\n",
       "      <td>130.0</td>\n",
       "      <td>3504.0</td>\n",
       "      <td>12.0</td>\n",
       "      <td>70</td>\n",
       "      <td>1</td>\n",
       "      <td>chevrolet chevelle malibu</td>\n",
       "    </tr>\n",
       "    <tr>\n",
       "      <th>1</th>\n",
       "      <td>15.0</td>\n",
       "      <td>8</td>\n",
       "      <td>350.0</td>\n",
       "      <td>165.0</td>\n",
       "      <td>3693.0</td>\n",
       "      <td>11.5</td>\n",
       "      <td>70</td>\n",
       "      <td>1</td>\n",
       "      <td>buick skylark 320</td>\n",
       "    </tr>\n",
       "    <tr>\n",
       "      <th>2</th>\n",
       "      <td>18.0</td>\n",
       "      <td>8</td>\n",
       "      <td>318.0</td>\n",
       "      <td>150.0</td>\n",
       "      <td>3436.0</td>\n",
       "      <td>11.0</td>\n",
       "      <td>70</td>\n",
       "      <td>1</td>\n",
       "      <td>plymouth satellite</td>\n",
       "    </tr>\n",
       "    <tr>\n",
       "      <th>3</th>\n",
       "      <td>16.0</td>\n",
       "      <td>8</td>\n",
       "      <td>304.0</td>\n",
       "      <td>150.0</td>\n",
       "      <td>3433.0</td>\n",
       "      <td>12.0</td>\n",
       "      <td>70</td>\n",
       "      <td>1</td>\n",
       "      <td>amc rebel sst</td>\n",
       "    </tr>\n",
       "    <tr>\n",
       "      <th>4</th>\n",
       "      <td>17.0</td>\n",
       "      <td>8</td>\n",
       "      <td>302.0</td>\n",
       "      <td>140.0</td>\n",
       "      <td>3449.0</td>\n",
       "      <td>10.5</td>\n",
       "      <td>70</td>\n",
       "      <td>1</td>\n",
       "      <td>ford torino</td>\n",
       "    </tr>\n",
       "  </tbody>\n",
       "</table>\n",
       "</div>"
      ],
      "text/plain": [
       "    mpg  cyl   disp     hp      wt   acc  m_year  origin  \\\n",
       "0  18.0    8  307.0  130.0  3504.0  12.0      70       1   \n",
       "1  15.0    8  350.0  165.0  3693.0  11.5      70       1   \n",
       "2  18.0    8  318.0  150.0  3436.0  11.0      70       1   \n",
       "3  16.0    8  304.0  150.0  3433.0  12.0      70       1   \n",
       "4  17.0    8  302.0  140.0  3449.0  10.5      70       1   \n",
       "\n",
       "                    car_name  \n",
       "0  chevrolet chevelle malibu  \n",
       "1          buick skylark 320  \n",
       "2         plymouth satellite  \n",
       "3              amc rebel sst  \n",
       "4                ford torino  "
      ]
     },
     "execution_count": 345,
     "metadata": {},
     "output_type": "execute_result"
    }
   ],
   "source": [
    "df.head()"
   ]
  },
  {
   "cell_type": "code",
   "execution_count": 346,
   "metadata": {},
   "outputs": [
    {
     "data": {
      "text/plain": [
       "'chrysler newport royal'"
      ]
     },
     "execution_count": 346,
     "metadata": {},
     "output_type": "execute_result"
    }
   ],
   "source": [
    "df.at[70,'car_name']"
   ]
  },
  {
   "cell_type": "code",
   "execution_count": 347,
   "metadata": {},
   "outputs": [
    {
     "data": {
      "text/plain": [
       "mpg                           13.0\n",
       "cyl                              8\n",
       "disp                         400.0\n",
       "hp                           190.0\n",
       "wt                          4422.0\n",
       "acc                           12.5\n",
       "m_year                          72\n",
       "origin                           1\n",
       "car_name    chrysler newport royal\n",
       "Name: 70, dtype: object"
      ]
     },
     "execution_count": 347,
     "metadata": {},
     "output_type": "execute_result"
    }
   ],
   "source": [
    "df.loc[70]"
   ]
  },
  {
   "cell_type": "code",
   "execution_count": 348,
   "metadata": {},
   "outputs": [
    {
     "name": "stdout",
     "output_type": "stream",
     "text": [
      "<class 'pandas.core.frame.DataFrame'>\n",
      "RangeIndex: 398 entries, 0 to 397\n",
      "Data columns (total 9 columns):\n",
      " #   Column    Non-Null Count  Dtype  \n",
      "---  ------    --------------  -----  \n",
      " 0   mpg       398 non-null    float64\n",
      " 1   cyl       398 non-null    int64  \n",
      " 2   disp      398 non-null    float64\n",
      " 3   hp        398 non-null    object \n",
      " 4   wt        398 non-null    float64\n",
      " 5   acc       398 non-null    float64\n",
      " 6   m_year    398 non-null    int64  \n",
      " 7   origin    398 non-null    int64  \n",
      " 8   car_name  398 non-null    object \n",
      "dtypes: float64(4), int64(3), object(2)\n",
      "memory usage: 28.1+ KB\n"
     ]
    }
   ],
   "source": [
    "df.info()"
   ]
  },
  {
   "cell_type": "code",
   "execution_count": 351,
   "metadata": {},
   "outputs": [
    {
     "data": {
      "text/plain": [
       "{'100.0',\n",
       " '102.0',\n",
       " '103.0',\n",
       " '105.0',\n",
       " '107.0',\n",
       " '108.0',\n",
       " '110.0',\n",
       " '112.0',\n",
       " '113.0',\n",
       " '115.0',\n",
       " '116.0',\n",
       " '120.0',\n",
       " '122.0',\n",
       " '125.0',\n",
       " '129.0',\n",
       " '130.0',\n",
       " '132.0',\n",
       " '133.0',\n",
       " '135.0',\n",
       " '137.0',\n",
       " '138.0',\n",
       " '139.0',\n",
       " '140.0',\n",
       " '142.0',\n",
       " '145.0',\n",
       " '148.0',\n",
       " '149.0',\n",
       " '150.0',\n",
       " '152.0',\n",
       " '153.0',\n",
       " '155.0',\n",
       " '158.0',\n",
       " '160.0',\n",
       " '165.0',\n",
       " '167.0',\n",
       " '170.0',\n",
       " '175.0',\n",
       " '180.0',\n",
       " '190.0',\n",
       " '193.0',\n",
       " '198.0',\n",
       " '200.0',\n",
       " '208.0',\n",
       " '210.0',\n",
       " '215.0',\n",
       " '220.0',\n",
       " '225.0',\n",
       " '230.0',\n",
       " '46.00',\n",
       " '48.00',\n",
       " '49.00',\n",
       " '52.00',\n",
       " '53.00',\n",
       " '54.00',\n",
       " '58.00',\n",
       " '60.00',\n",
       " '61.00',\n",
       " '62.00',\n",
       " '63.00',\n",
       " '64.00',\n",
       " '65.00',\n",
       " '66.00',\n",
       " '67.00',\n",
       " '68.00',\n",
       " '69.00',\n",
       " '70.00',\n",
       " '71.00',\n",
       " '72.00',\n",
       " '74.00',\n",
       " '75.00',\n",
       " '76.00',\n",
       " '77.00',\n",
       " '78.00',\n",
       " '79.00',\n",
       " '80.00',\n",
       " '81.00',\n",
       " '82.00',\n",
       " '83.00',\n",
       " '84.00',\n",
       " '85.00',\n",
       " '86.00',\n",
       " '87.00',\n",
       " '88.00',\n",
       " '89.00',\n",
       " '90.00',\n",
       " '91.00',\n",
       " '92.00',\n",
       " '93.00',\n",
       " '94.00',\n",
       " '95.00',\n",
       " '96.00',\n",
       " '97.00',\n",
       " '98.00',\n",
       " '?'}"
      ]
     },
     "execution_count": 351,
     "metadata": {},
     "output_type": "execute_result"
    }
   ],
   "source": [
    "set(df.hp)"
   ]
  },
  {
   "cell_type": "code",
   "execution_count": 350,
   "metadata": {},
   "outputs": [
    {
     "data": {
      "text/plain": [
       "['100.0',\n",
       " '100.0',\n",
       " '100.0',\n",
       " '100.0',\n",
       " '100.0',\n",
       " '100.0',\n",
       " '100.0',\n",
       " '100.0',\n",
       " '100.0',\n",
       " '100.0',\n",
       " '100.0',\n",
       " '100.0',\n",
       " '100.0',\n",
       " '100.0',\n",
       " '100.0',\n",
       " '100.0',\n",
       " '100.0',\n",
       " '102.0',\n",
       " '103.0',\n",
       " '105.0',\n",
       " '105.0',\n",
       " '105.0',\n",
       " '105.0',\n",
       " '105.0',\n",
       " '105.0',\n",
       " '105.0',\n",
       " '105.0',\n",
       " '105.0',\n",
       " '105.0',\n",
       " '105.0',\n",
       " '105.0',\n",
       " '107.0',\n",
       " '108.0',\n",
       " '110.0',\n",
       " '110.0',\n",
       " '110.0',\n",
       " '110.0',\n",
       " '110.0',\n",
       " '110.0',\n",
       " '110.0',\n",
       " '110.0',\n",
       " '110.0',\n",
       " '110.0',\n",
       " '110.0',\n",
       " '110.0',\n",
       " '110.0',\n",
       " '110.0',\n",
       " '110.0',\n",
       " '110.0',\n",
       " '110.0',\n",
       " '110.0',\n",
       " '112.0',\n",
       " '112.0',\n",
       " '112.0',\n",
       " '113.0',\n",
       " '115.0',\n",
       " '115.0',\n",
       " '115.0',\n",
       " '115.0',\n",
       " '115.0',\n",
       " '116.0',\n",
       " '120.0',\n",
       " '120.0',\n",
       " '120.0',\n",
       " '120.0',\n",
       " '122.0',\n",
       " '125.0',\n",
       " '125.0',\n",
       " '125.0',\n",
       " '129.0',\n",
       " '129.0',\n",
       " '130.0',\n",
       " '130.0',\n",
       " '130.0',\n",
       " '130.0',\n",
       " '130.0',\n",
       " '132.0',\n",
       " '133.0',\n",
       " '135.0',\n",
       " '137.0',\n",
       " '138.0',\n",
       " '139.0',\n",
       " '139.0',\n",
       " '140.0',\n",
       " '140.0',\n",
       " '140.0',\n",
       " '140.0',\n",
       " '140.0',\n",
       " '140.0',\n",
       " '140.0',\n",
       " '142.0',\n",
       " '145.0',\n",
       " '145.0',\n",
       " '145.0',\n",
       " '145.0',\n",
       " '145.0',\n",
       " '145.0',\n",
       " '145.0',\n",
       " '148.0',\n",
       " '149.0',\n",
       " '150.0',\n",
       " '150.0',\n",
       " '150.0',\n",
       " '150.0',\n",
       " '150.0',\n",
       " '150.0',\n",
       " '150.0',\n",
       " '150.0',\n",
       " '150.0',\n",
       " '150.0',\n",
       " '150.0',\n",
       " '150.0',\n",
       " '150.0',\n",
       " '150.0',\n",
       " '150.0',\n",
       " '150.0',\n",
       " '150.0',\n",
       " '150.0',\n",
       " '150.0',\n",
       " '150.0',\n",
       " '150.0',\n",
       " '150.0',\n",
       " '152.0',\n",
       " '153.0',\n",
       " '153.0',\n",
       " '155.0',\n",
       " '155.0',\n",
       " '158.0',\n",
       " '160.0',\n",
       " '160.0',\n",
       " '165.0',\n",
       " '165.0',\n",
       " '165.0',\n",
       " '165.0',\n",
       " '167.0',\n",
       " '170.0',\n",
       " '170.0',\n",
       " '170.0',\n",
       " '170.0',\n",
       " '170.0',\n",
       " '175.0',\n",
       " '175.0',\n",
       " '175.0',\n",
       " '175.0',\n",
       " '175.0',\n",
       " '180.0',\n",
       " '180.0',\n",
       " '180.0',\n",
       " '180.0',\n",
       " '180.0',\n",
       " '190.0',\n",
       " '190.0',\n",
       " '190.0',\n",
       " '193.0',\n",
       " '198.0',\n",
       " '198.0',\n",
       " '200.0',\n",
       " '208.0',\n",
       " '210.0',\n",
       " '215.0',\n",
       " '215.0',\n",
       " '215.0',\n",
       " '220.0',\n",
       " '225.0',\n",
       " '225.0',\n",
       " '225.0',\n",
       " '230.0',\n",
       " '46.00',\n",
       " '46.00',\n",
       " '48.00',\n",
       " '48.00',\n",
       " '48.00',\n",
       " '49.00',\n",
       " '52.00',\n",
       " '52.00',\n",
       " '52.00',\n",
       " '52.00',\n",
       " '53.00',\n",
       " '53.00',\n",
       " '54.00',\n",
       " '58.00',\n",
       " '58.00',\n",
       " '60.00',\n",
       " '60.00',\n",
       " '60.00',\n",
       " '60.00',\n",
       " '60.00',\n",
       " '61.00',\n",
       " '62.00',\n",
       " '62.00',\n",
       " '63.00',\n",
       " '63.00',\n",
       " '63.00',\n",
       " '64.00',\n",
       " '65.00',\n",
       " '65.00',\n",
       " '65.00',\n",
       " '65.00',\n",
       " '65.00',\n",
       " '65.00',\n",
       " '65.00',\n",
       " '65.00',\n",
       " '65.00',\n",
       " '65.00',\n",
       " '66.00',\n",
       " '67.00',\n",
       " '67.00',\n",
       " '67.00',\n",
       " '67.00',\n",
       " '67.00',\n",
       " '67.00',\n",
       " '67.00',\n",
       " '67.00',\n",
       " '67.00',\n",
       " '67.00',\n",
       " '67.00',\n",
       " '67.00',\n",
       " '68.00',\n",
       " '68.00',\n",
       " '68.00',\n",
       " '68.00',\n",
       " '68.00',\n",
       " '68.00',\n",
       " '69.00',\n",
       " '69.00',\n",
       " '69.00',\n",
       " '70.00',\n",
       " '70.00',\n",
       " '70.00',\n",
       " '70.00',\n",
       " '70.00',\n",
       " '70.00',\n",
       " '70.00',\n",
       " '70.00',\n",
       " '70.00',\n",
       " '70.00',\n",
       " '70.00',\n",
       " '70.00',\n",
       " '71.00',\n",
       " '71.00',\n",
       " '71.00',\n",
       " '71.00',\n",
       " '71.00',\n",
       " '72.00',\n",
       " '72.00',\n",
       " '72.00',\n",
       " '72.00',\n",
       " '72.00',\n",
       " '72.00',\n",
       " '74.00',\n",
       " '74.00',\n",
       " '74.00',\n",
       " '75.00',\n",
       " '75.00',\n",
       " '75.00',\n",
       " '75.00',\n",
       " '75.00',\n",
       " '75.00',\n",
       " '75.00',\n",
       " '75.00',\n",
       " '75.00',\n",
       " '75.00',\n",
       " '75.00',\n",
       " '75.00',\n",
       " '75.00',\n",
       " '75.00',\n",
       " '76.00',\n",
       " '76.00',\n",
       " '76.00',\n",
       " '76.00',\n",
       " '77.00',\n",
       " '78.00',\n",
       " '78.00',\n",
       " '78.00',\n",
       " '78.00',\n",
       " '78.00',\n",
       " '78.00',\n",
       " '79.00',\n",
       " '79.00',\n",
       " '80.00',\n",
       " '80.00',\n",
       " '80.00',\n",
       " '80.00',\n",
       " '80.00',\n",
       " '80.00',\n",
       " '80.00',\n",
       " '81.00',\n",
       " '81.00',\n",
       " '82.00',\n",
       " '83.00',\n",
       " '83.00',\n",
       " '83.00',\n",
       " '83.00',\n",
       " '84.00',\n",
       " '84.00',\n",
       " '84.00',\n",
       " '84.00',\n",
       " '84.00',\n",
       " '84.00',\n",
       " '85.00',\n",
       " '85.00',\n",
       " '85.00',\n",
       " '85.00',\n",
       " '85.00',\n",
       " '85.00',\n",
       " '85.00',\n",
       " '85.00',\n",
       " '85.00',\n",
       " '86.00',\n",
       " '86.00',\n",
       " '86.00',\n",
       " '86.00',\n",
       " '86.00',\n",
       " '87.00',\n",
       " '87.00',\n",
       " '88.00',\n",
       " '88.00',\n",
       " '88.00',\n",
       " '88.00',\n",
       " '88.00',\n",
       " '88.00',\n",
       " '88.00',\n",
       " '88.00',\n",
       " '88.00',\n",
       " '88.00',\n",
       " '88.00',\n",
       " '88.00',\n",
       " '88.00',\n",
       " '88.00',\n",
       " '88.00',\n",
       " '88.00',\n",
       " '88.00',\n",
       " '88.00',\n",
       " '88.00',\n",
       " '89.00',\n",
       " '90.00',\n",
       " '90.00',\n",
       " '90.00',\n",
       " '90.00',\n",
       " '90.00',\n",
       " '90.00',\n",
       " '90.00',\n",
       " '90.00',\n",
       " '90.00',\n",
       " '90.00',\n",
       " '90.00',\n",
       " '90.00',\n",
       " '90.00',\n",
       " '90.00',\n",
       " '90.00',\n",
       " '90.00',\n",
       " '90.00',\n",
       " '90.00',\n",
       " '90.00',\n",
       " '90.00',\n",
       " '91.00',\n",
       " '92.00',\n",
       " '92.00',\n",
       " '92.00',\n",
       " '92.00',\n",
       " '92.00',\n",
       " '92.00',\n",
       " '93.00',\n",
       " '94.00',\n",
       " '95.00',\n",
       " '95.00',\n",
       " '95.00',\n",
       " '95.00',\n",
       " '95.00',\n",
       " '95.00',\n",
       " '95.00',\n",
       " '95.00',\n",
       " '95.00',\n",
       " '95.00',\n",
       " '95.00',\n",
       " '95.00',\n",
       " '95.00',\n",
       " '95.00',\n",
       " '96.00',\n",
       " '96.00',\n",
       " '96.00',\n",
       " '97.00',\n",
       " '97.00',\n",
       " '97.00',\n",
       " '97.00',\n",
       " '97.00',\n",
       " '97.00',\n",
       " '97.00',\n",
       " '97.00',\n",
       " '97.00',\n",
       " '98.00',\n",
       " '98.00',\n",
       " '?',\n",
       " '?',\n",
       " '?',\n",
       " '?',\n",
       " '?',\n",
       " '?']"
      ]
     },
     "execution_count": 350,
     "metadata": {},
     "output_type": "execute_result"
    }
   ],
   "source": [
    "sorted(df.hp)"
   ]
  },
  {
   "cell_type": "code",
   "execution_count": 352,
   "metadata": {},
   "outputs": [
    {
     "data": {
      "text/html": [
       "<div>\n",
       "<style scoped>\n",
       "    .dataframe tbody tr th:only-of-type {\n",
       "        vertical-align: middle;\n",
       "    }\n",
       "\n",
       "    .dataframe tbody tr th {\n",
       "        vertical-align: top;\n",
       "    }\n",
       "\n",
       "    .dataframe thead th {\n",
       "        text-align: right;\n",
       "    }\n",
       "</style>\n",
       "<table border=\"1\" class=\"dataframe\">\n",
       "  <thead>\n",
       "    <tr style=\"text-align: right;\">\n",
       "      <th></th>\n",
       "      <th>mpg</th>\n",
       "      <th>cyl</th>\n",
       "      <th>disp</th>\n",
       "      <th>hp</th>\n",
       "      <th>wt</th>\n",
       "      <th>acc</th>\n",
       "      <th>m_year</th>\n",
       "      <th>origin</th>\n",
       "      <th>car_name</th>\n",
       "    </tr>\n",
       "  </thead>\n",
       "  <tbody>\n",
       "    <tr>\n",
       "      <th>0</th>\n",
       "      <td>18.0</td>\n",
       "      <td>8</td>\n",
       "      <td>307.0</td>\n",
       "      <td>130.0</td>\n",
       "      <td>3504.0</td>\n",
       "      <td>12.0</td>\n",
       "      <td>70</td>\n",
       "      <td>1</td>\n",
       "      <td>chevrolet chevelle malibu</td>\n",
       "    </tr>\n",
       "    <tr>\n",
       "      <th>1</th>\n",
       "      <td>15.0</td>\n",
       "      <td>8</td>\n",
       "      <td>350.0</td>\n",
       "      <td>165.0</td>\n",
       "      <td>3693.0</td>\n",
       "      <td>11.5</td>\n",
       "      <td>70</td>\n",
       "      <td>1</td>\n",
       "      <td>buick skylark 320</td>\n",
       "    </tr>\n",
       "    <tr>\n",
       "      <th>2</th>\n",
       "      <td>18.0</td>\n",
       "      <td>8</td>\n",
       "      <td>318.0</td>\n",
       "      <td>150.0</td>\n",
       "      <td>3436.0</td>\n",
       "      <td>11.0</td>\n",
       "      <td>70</td>\n",
       "      <td>1</td>\n",
       "      <td>plymouth satellite</td>\n",
       "    </tr>\n",
       "    <tr>\n",
       "      <th>3</th>\n",
       "      <td>16.0</td>\n",
       "      <td>8</td>\n",
       "      <td>304.0</td>\n",
       "      <td>150.0</td>\n",
       "      <td>3433.0</td>\n",
       "      <td>12.0</td>\n",
       "      <td>70</td>\n",
       "      <td>1</td>\n",
       "      <td>amc rebel sst</td>\n",
       "    </tr>\n",
       "    <tr>\n",
       "      <th>4</th>\n",
       "      <td>17.0</td>\n",
       "      <td>8</td>\n",
       "      <td>302.0</td>\n",
       "      <td>140.0</td>\n",
       "      <td>3449.0</td>\n",
       "      <td>10.5</td>\n",
       "      <td>70</td>\n",
       "      <td>1</td>\n",
       "      <td>ford torino</td>\n",
       "    </tr>\n",
       "  </tbody>\n",
       "</table>\n",
       "</div>"
      ],
      "text/plain": [
       "    mpg  cyl   disp     hp      wt   acc  m_year  origin  \\\n",
       "0  18.0    8  307.0  130.0  3504.0  12.0      70       1   \n",
       "1  15.0    8  350.0  165.0  3693.0  11.5      70       1   \n",
       "2  18.0    8  318.0  150.0  3436.0  11.0      70       1   \n",
       "3  16.0    8  304.0  150.0  3433.0  12.0      70       1   \n",
       "4  17.0    8  302.0  140.0  3449.0  10.5      70       1   \n",
       "\n",
       "                    car_name  \n",
       "0  chevrolet chevelle malibu  \n",
       "1          buick skylark 320  \n",
       "2         plymouth satellite  \n",
       "3              amc rebel sst  \n",
       "4                ford torino  "
      ]
     },
     "execution_count": 352,
     "metadata": {},
     "output_type": "execute_result"
    }
   ],
   "source": [
    "df.head()"
   ]
  },
  {
   "cell_type": "code",
   "execution_count": 353,
   "metadata": {},
   "outputs": [],
   "source": [
    "df.replace(\"?\",0,inplace=True)"
   ]
  },
  {
   "cell_type": "code",
   "execution_count": 354,
   "metadata": {},
   "outputs": [
    {
     "data": {
      "text/plain": [
       "count       398\n",
       "unique       94\n",
       "top       150.0\n",
       "freq         22\n",
       "Name: hp, dtype: object"
      ]
     },
     "execution_count": 354,
     "metadata": {},
     "output_type": "execute_result"
    }
   ],
   "source": [
    "df.hp.describe()"
   ]
  },
  {
   "cell_type": "code",
   "execution_count": 355,
   "metadata": {},
   "outputs": [
    {
     "name": "stdout",
     "output_type": "stream",
     "text": [
      "<class 'pandas.core.frame.DataFrame'>\n",
      "RangeIndex: 398 entries, 0 to 397\n",
      "Data columns (total 9 columns):\n",
      " #   Column    Non-Null Count  Dtype  \n",
      "---  ------    --------------  -----  \n",
      " 0   mpg       398 non-null    float64\n",
      " 1   cyl       398 non-null    int64  \n",
      " 2   disp      398 non-null    float64\n",
      " 3   hp        398 non-null    object \n",
      " 4   wt        398 non-null    float64\n",
      " 5   acc       398 non-null    float64\n",
      " 6   m_year    398 non-null    int64  \n",
      " 7   origin    398 non-null    int64  \n",
      " 8   car_name  398 non-null    object \n",
      "dtypes: float64(4), int64(3), object(2)\n",
      "memory usage: 28.1+ KB\n"
     ]
    }
   ],
   "source": [
    "df.info()"
   ]
  },
  {
   "cell_type": "code",
   "execution_count": 356,
   "metadata": {},
   "outputs": [],
   "source": [
    "df.hp = pd.Series(df.hp).astype('float64')"
   ]
  },
  {
   "cell_type": "code",
   "execution_count": 357,
   "metadata": {},
   "outputs": [
    {
     "name": "stdout",
     "output_type": "stream",
     "text": [
      "<class 'pandas.core.frame.DataFrame'>\n",
      "RangeIndex: 398 entries, 0 to 397\n",
      "Data columns (total 9 columns):\n",
      " #   Column    Non-Null Count  Dtype  \n",
      "---  ------    --------------  -----  \n",
      " 0   mpg       398 non-null    float64\n",
      " 1   cyl       398 non-null    int64  \n",
      " 2   disp      398 non-null    float64\n",
      " 3   hp        398 non-null    float64\n",
      " 4   wt        398 non-null    float64\n",
      " 5   acc       398 non-null    float64\n",
      " 6   m_year    398 non-null    int64  \n",
      " 7   origin    398 non-null    int64  \n",
      " 8   car_name  398 non-null    object \n",
      "dtypes: float64(5), int64(3), object(1)\n",
      "memory usage: 28.1+ KB\n"
     ]
    }
   ],
   "source": [
    "df.info()"
   ]
  },
  {
   "cell_type": "code",
   "execution_count": 358,
   "metadata": {},
   "outputs": [],
   "source": [
    "d = df3.to_dict('list')"
   ]
  },
  {
   "cell_type": "code",
   "execution_count": 359,
   "metadata": {},
   "outputs": [
    {
     "data": {
      "text/plain": [
       "{'mpg': [27.0, 27.0, 44.0, 32.0, 28.0, 31.0],\n",
       " 'cyl': [4, 4, 4, 4, 4, 4],\n",
       " 'disp': [151.0, 140.0, 97.0, 135.0, 120.0, 119.0],\n",
       " 'hp': ['90.00', '86.00', '52.00', '84.00', '79.00', '82.00'],\n",
       " 'wt': [2950.0, 2790.0, 2130.0, 2295.0, 2625.0, 2720.0],\n",
       " 'acc': [17.3, 15.6, 24.6, 11.6, 18.6, 19.4],\n",
       " 'm_year': [82, 82, 82, 82, 82, 82],\n",
       " 'origin': [1, 1, 2, 1, 1, 1],\n",
       " 'car_name': ['chevrolet camaro',\n",
       "  'ford mustang gl',\n",
       "  'vw pickup',\n",
       "  'dodge rampage',\n",
       "  'ford ranger',\n",
       "  'chevy s-10']}"
      ]
     },
     "execution_count": 359,
     "metadata": {},
     "output_type": "execute_result"
    }
   ],
   "source": [
    "d"
   ]
  },
  {
   "cell_type": "code",
   "execution_count": 360,
   "metadata": {},
   "outputs": [
    {
     "data": {
      "text/plain": [
       "dict_keys(['mpg', 'cyl', 'disp', 'hp', 'wt', 'acc', 'm_year', 'origin', 'car_name'])"
      ]
     },
     "execution_count": 360,
     "metadata": {},
     "output_type": "execute_result"
    }
   ],
   "source": [
    "d.keys()"
   ]
  },
  {
   "cell_type": "code",
   "execution_count": 361,
   "metadata": {},
   "outputs": [
    {
     "data": {
      "text/plain": [
       "dict_items([('mpg', [27.0, 27.0, 44.0, 32.0, 28.0, 31.0]), ('cyl', [4, 4, 4, 4, 4, 4]), ('disp', [151.0, 140.0, 97.0, 135.0, 120.0, 119.0]), ('hp', ['90.00', '86.00', '52.00', '84.00', '79.00', '82.00']), ('wt', [2950.0, 2790.0, 2130.0, 2295.0, 2625.0, 2720.0]), ('acc', [17.3, 15.6, 24.6, 11.6, 18.6, 19.4]), ('m_year', [82, 82, 82, 82, 82, 82]), ('origin', [1, 1, 2, 1, 1, 1]), ('car_name', ['chevrolet camaro', 'ford mustang gl', 'vw pickup', 'dodge rampage', 'ford ranger', 'chevy s-10'])])"
      ]
     },
     "execution_count": 361,
     "metadata": {},
     "output_type": "execute_result"
    }
   ],
   "source": [
    "d.items()"
   ]
  },
  {
   "cell_type": "code",
   "execution_count": 362,
   "metadata": {},
   "outputs": [
    {
     "data": {
      "text/plain": [
       "dict_values([[27.0, 27.0, 44.0, 32.0, 28.0, 31.0], [4, 4, 4, 4, 4, 4], [151.0, 140.0, 97.0, 135.0, 120.0, 119.0], ['90.00', '86.00', '52.00', '84.00', '79.00', '82.00'], [2950.0, 2790.0, 2130.0, 2295.0, 2625.0, 2720.0], [17.3, 15.6, 24.6, 11.6, 18.6, 19.4], [82, 82, 82, 82, 82, 82], [1, 1, 2, 1, 1, 1], ['chevrolet camaro', 'ford mustang gl', 'vw pickup', 'dodge rampage', 'ford ranger', 'chevy s-10']])"
      ]
     },
     "execution_count": 362,
     "metadata": {},
     "output_type": "execute_result"
    }
   ],
   "source": [
    "d.values()"
   ]
  },
  {
   "cell_type": "code",
   "execution_count": 363,
   "metadata": {},
   "outputs": [
    {
     "data": {
      "text/plain": [
       "dict_values([[27.0, 27.0, 44.0, 32.0, 28.0, 31.0], [4, 4, 4, 4, 4, 4], [151.0, 140.0, 97.0, 135.0, 120.0, 119.0], ['90.00', '86.00', '52.00', '84.00', '79.00', '82.00'], [2950.0, 2790.0, 2130.0, 2295.0, 2625.0, 2720.0], [17.3, 15.6, 24.6, 11.6, 18.6, 19.4], [82, 82, 82, 82, 82, 82], [1, 1, 2, 1, 1, 1], ['chevrolet camaro', 'ford mustang gl', 'vw pickup', 'dodge rampage', 'ford ranger', 'chevy s-10']])"
      ]
     },
     "execution_count": 363,
     "metadata": {},
     "output_type": "execute_result"
    }
   ],
   "source": [
    "# minimum mileage\n",
    "d.values()"
   ]
  },
  {
   "cell_type": "code",
   "execution_count": 364,
   "metadata": {},
   "outputs": [],
   "source": [
    "mpg = {'ford': 24,\n",
    "      \"bmw\": 27,\n",
    "      'fords': 23,\n",
    "      'chvy': 25}"
   ]
  },
  {
   "cell_type": "code",
   "execution_count": 365,
   "metadata": {},
   "outputs": [
    {
     "data": {
      "text/plain": [
       "{'ford': 24, 'bmw': 27, 'fords': 23, 'chvy': 25}"
      ]
     },
     "execution_count": 365,
     "metadata": {},
     "output_type": "execute_result"
    }
   ],
   "source": [
    "mpg"
   ]
  },
  {
   "cell_type": "code",
   "execution_count": 366,
   "metadata": {},
   "outputs": [
    {
     "data": {
      "text/plain": [
       "(23, 'fords')"
      ]
     },
     "execution_count": 366,
     "metadata": {},
     "output_type": "execute_result"
    }
   ],
   "source": [
    "min(zip(mpg.values(),mpg.keys()))"
   ]
  },
  {
   "cell_type": "code",
   "execution_count": 367,
   "metadata": {},
   "outputs": [
    {
     "data": {
      "text/plain": [
       "(27, 'bmw')"
      ]
     },
     "execution_count": 367,
     "metadata": {},
     "output_type": "execute_result"
    }
   ],
   "source": [
    "max(zip(mpg.values(),mpg.keys()))"
   ]
  },
  {
   "cell_type": "code",
   "execution_count": 368,
   "metadata": {},
   "outputs": [],
   "source": [
    "# what are the car brands that are most frequently"
   ]
  },
  {
   "cell_type": "code",
   "execution_count": 369,
   "metadata": {},
   "outputs": [],
   "source": [
    "cars = list(df.car_name)"
   ]
  },
  {
   "cell_type": "code",
   "execution_count": 370,
   "metadata": {},
   "outputs": [],
   "source": [
    "from collections import Counter"
   ]
  },
  {
   "cell_type": "code",
   "execution_count": 371,
   "metadata": {},
   "outputs": [],
   "source": [
    "counts = Counter(cars)"
   ]
  },
  {
   "cell_type": "code",
   "execution_count": 372,
   "metadata": {},
   "outputs": [
    {
     "data": {
      "text/plain": [
       "[('ford pinto', 6),\n",
       " ('ford maverick', 5),\n",
       " ('amc matador', 5),\n",
       " ('toyota corolla', 5),\n",
       " ('chevrolet impala', 4)]"
      ]
     },
     "execution_count": 372,
     "metadata": {},
     "output_type": "execute_result"
    }
   ],
   "source": [
    "counts.most_common(5)"
   ]
  },
  {
   "cell_type": "code",
   "execution_count": 373,
   "metadata": {},
   "outputs": [
    {
     "data": {
      "text/plain": [
       "Counter({'chevrolet chevelle malibu': 2,\n",
       "         'buick skylark 320': 1,\n",
       "         'plymouth satellite': 1,\n",
       "         'amc rebel sst': 1,\n",
       "         'ford torino': 1,\n",
       "         'ford galaxie 500': 3,\n",
       "         'chevrolet impala': 4,\n",
       "         'plymouth fury iii': 3,\n",
       "         'pontiac catalina': 3,\n",
       "         'amc ambassador dpl': 1,\n",
       "         'dodge challenger se': 1,\n",
       "         \"plymouth 'cuda 340\": 1,\n",
       "         'chevrolet monte carlo': 1,\n",
       "         'buick estate wagon (sw)': 2,\n",
       "         'toyota corona mark ii': 1,\n",
       "         'plymouth duster': 3,\n",
       "         'amc hornet': 4,\n",
       "         'ford maverick': 5,\n",
       "         'datsun pl510': 2,\n",
       "         'volkswagen 1131 deluxe sedan': 1,\n",
       "         'peugeot 504': 4,\n",
       "         'audi 100 ls': 1,\n",
       "         'saab 99e': 1,\n",
       "         'bmw 2002': 1,\n",
       "         'amc gremlin': 4,\n",
       "         'ford f250': 1,\n",
       "         'chevy c20': 1,\n",
       "         'dodge d200': 1,\n",
       "         'hi 1200d': 1,\n",
       "         'chevrolet vega 2300': 1,\n",
       "         'toyota corona': 4,\n",
       "         'ford pinto': 6,\n",
       "         'plymouth satellite custom': 1,\n",
       "         'ford torino 500': 1,\n",
       "         'amc matador': 5,\n",
       "         'pontiac catalina brougham': 1,\n",
       "         'dodge monaco (sw)': 1,\n",
       "         'ford country squire (sw)': 2,\n",
       "         'pontiac safari (sw)': 1,\n",
       "         'amc hornet sportabout (sw)': 1,\n",
       "         'chevrolet vega (sw)': 1,\n",
       "         'pontiac firebird': 1,\n",
       "         'ford mustang': 1,\n",
       "         'mercury capri 2000': 1,\n",
       "         'opel 1900': 2,\n",
       "         'peugeot 304': 1,\n",
       "         'fiat 124b': 1,\n",
       "         'toyota corolla 1200': 2,\n",
       "         'datsun 1200': 1,\n",
       "         'volkswagen model 111': 1,\n",
       "         'plymouth cricket': 1,\n",
       "         'toyota corona hardtop': 1,\n",
       "         'dodge colt hardtop': 1,\n",
       "         'volkswagen type 3': 1,\n",
       "         'chevrolet vega': 3,\n",
       "         'ford pinto runabout': 1,\n",
       "         'amc ambassador sst': 1,\n",
       "         'mercury marquis': 1,\n",
       "         'buick lesabre custom': 1,\n",
       "         'oldsmobile delta 88 royale': 1,\n",
       "         'chrysler newport royal': 1,\n",
       "         'mazda rx2 coupe': 1,\n",
       "         'amc matador (sw)': 2,\n",
       "         'chevrolet chevelle concours (sw)': 1,\n",
       "         'ford gran torino (sw)': 2,\n",
       "         'plymouth satellite custom (sw)': 1,\n",
       "         'volvo 145e (sw)': 1,\n",
       "         'volkswagen 411 (sw)': 1,\n",
       "         'peugeot 504 (sw)': 1,\n",
       "         'renault 12 (sw)': 1,\n",
       "         'ford pinto (sw)': 1,\n",
       "         'datsun 510 (sw)': 1,\n",
       "         'toyouta corona mark ii (sw)': 1,\n",
       "         'dodge colt (sw)': 1,\n",
       "         'toyota corolla 1600 (sw)': 1,\n",
       "         'buick century 350': 1,\n",
       "         'chevrolet malibu': 2,\n",
       "         'ford gran torino': 3,\n",
       "         'dodge coronet custom': 1,\n",
       "         'mercury marquis brougham': 1,\n",
       "         'chevrolet caprice classic': 3,\n",
       "         'ford ltd': 2,\n",
       "         'plymouth fury gran sedan': 1,\n",
       "         'chrysler new yorker brougham': 1,\n",
       "         'buick electra 225 custom': 1,\n",
       "         'amc ambassador brougham': 1,\n",
       "         'plymouth valiant': 2,\n",
       "         'chevrolet nova custom': 1,\n",
       "         'volkswagen super beetle': 1,\n",
       "         'ford country': 1,\n",
       "         'plymouth custom suburb': 1,\n",
       "         'oldsmobile vista cruiser': 1,\n",
       "         'toyota carina': 1,\n",
       "         'datsun 610': 1,\n",
       "         'maxda rx3': 1,\n",
       "         'mercury capri v6': 1,\n",
       "         'fiat 124 sport coupe': 1,\n",
       "         'chevrolet monte carlo s': 1,\n",
       "         'pontiac grand prix': 1,\n",
       "         'fiat 128': 2,\n",
       "         'opel manta': 2,\n",
       "         'audi 100ls': 2,\n",
       "         'volvo 144ea': 1,\n",
       "         'dodge dart custom': 1,\n",
       "         'saab 99le': 2,\n",
       "         'toyota mark ii': 2,\n",
       "         'oldsmobile omega': 1,\n",
       "         'chevrolet nova': 3,\n",
       "         'datsun b210': 1,\n",
       "         'chevrolet chevelle malibu classic': 2,\n",
       "         'plymouth satellite sebring': 1,\n",
       "         'buick century luxus (sw)': 1,\n",
       "         'dodge coronet custom (sw)': 1,\n",
       "         'audi fox': 1,\n",
       "         'volkswagen dasher': 3,\n",
       "         'datsun 710': 2,\n",
       "         'dodge colt': 3,\n",
       "         'fiat 124 tc': 1,\n",
       "         'honda civic': 3,\n",
       "         'subaru': 2,\n",
       "         'fiat x1.9': 1,\n",
       "         'plymouth valiant custom': 1,\n",
       "         'mercury monarch': 1,\n",
       "         'chevrolet bel air': 1,\n",
       "         'plymouth grand fury': 1,\n",
       "         'buick century': 2,\n",
       "         'chevroelt chevelle malibu': 1,\n",
       "         'plymouth fury': 1,\n",
       "         'buick skyhawk': 1,\n",
       "         'chevrolet monza 2+2': 1,\n",
       "         'ford mustang ii': 1,\n",
       "         'toyota corolla': 5,\n",
       "         'pontiac astro': 1,\n",
       "         'volkswagen rabbit': 2,\n",
       "         'amc pacer': 1,\n",
       "         'volvo 244dl': 1,\n",
       "         'honda civic cvcc': 2,\n",
       "         'fiat 131': 1,\n",
       "         'capri ii': 1,\n",
       "         'renault 12tl': 1,\n",
       "         'dodge coronet brougham': 1,\n",
       "         'chevrolet chevette': 4,\n",
       "         'chevrolet woody': 1,\n",
       "         'vw rabbit': 2,\n",
       "         'dodge aspen se': 1,\n",
       "         'ford granada ghia': 1,\n",
       "         'pontiac ventura sj': 1,\n",
       "         'amc pacer d/l': 1,\n",
       "         'datsun b-210': 1,\n",
       "         'volvo 245': 1,\n",
       "         'plymouth volare premier v8': 1,\n",
       "         'mercedes-benz 280s': 1,\n",
       "         'cadillac seville': 1,\n",
       "         'chevy c10': 1,\n",
       "         'ford f108': 1,\n",
       "         'dodge d100': 1,\n",
       "         'honda accord cvcc': 1,\n",
       "         'buick opel isuzu deluxe': 1,\n",
       "         'renault 5 gtl': 1,\n",
       "         'plymouth arrow gs': 1,\n",
       "         'datsun f-10 hatchback': 1,\n",
       "         'oldsmobile cutlass supreme': 1,\n",
       "         'dodge monaco brougham': 1,\n",
       "         'mercury cougar brougham': 1,\n",
       "         'chevrolet concours': 1,\n",
       "         'buick skylark': 2,\n",
       "         'plymouth volare custom': 1,\n",
       "         'ford granada': 1,\n",
       "         'pontiac grand prix lj': 1,\n",
       "         'chevrolet monte carlo landau': 2,\n",
       "         'chrysler cordoba': 1,\n",
       "         'ford thunderbird': 1,\n",
       "         'volkswagen rabbit custom': 1,\n",
       "         'pontiac sunbird coupe': 1,\n",
       "         'toyota corolla liftback': 1,\n",
       "         'ford mustang ii 2+2': 1,\n",
       "         'dodge colt m/m': 1,\n",
       "         'subaru dl': 2,\n",
       "         'datsun 810': 1,\n",
       "         'bmw 320i': 1,\n",
       "         'mazda rx-4': 1,\n",
       "         'volkswagen rabbit custom diesel': 1,\n",
       "         'ford fiesta': 1,\n",
       "         'mazda glc deluxe': 1,\n",
       "         'datsun b210 gx': 1,\n",
       "         'oldsmobile cutlass salon brougham': 2,\n",
       "         'dodge diplomat': 1,\n",
       "         'mercury monarch ghia': 1,\n",
       "         'pontiac phoenix lj': 1,\n",
       "         'ford fairmont (auto)': 1,\n",
       "         'ford fairmont (man)': 1,\n",
       "         'plymouth volare': 1,\n",
       "         'amc concord': 2,\n",
       "         'buick century special': 1,\n",
       "         'mercury zephyr': 1,\n",
       "         'dodge aspen': 2,\n",
       "         'amc concord d/l': 1,\n",
       "         'buick regal sport coupe (turbo)': 1,\n",
       "         'ford futura': 1,\n",
       "         'dodge magnum xe': 1,\n",
       "         'datsun 510': 1,\n",
       "         'dodge omni': 1,\n",
       "         'toyota celica gt liftback': 1,\n",
       "         'plymouth sapporo': 1,\n",
       "         'oldsmobile starfire sx': 1,\n",
       "         'datsun 200-sx': 1,\n",
       "         'audi 5000': 1,\n",
       "         'volvo 264gl': 1,\n",
       "         'saab 99gle': 1,\n",
       "         'peugeot 604sl': 1,\n",
       "         'volkswagen scirocco': 1,\n",
       "         'honda accord lx': 1,\n",
       "         'pontiac lemans v6': 1,\n",
       "         'mercury zephyr 6': 1,\n",
       "         'ford fairmont 4': 1,\n",
       "         'amc concord dl 6': 1,\n",
       "         'dodge aspen 6': 1,\n",
       "         'ford ltd landau': 1,\n",
       "         'mercury grand marquis': 1,\n",
       "         'dodge st. regis': 1,\n",
       "         'chevrolet malibu classic (sw)': 1,\n",
       "         'chrysler lebaron town @ country (sw)': 1,\n",
       "         'vw rabbit custom': 1,\n",
       "         'maxda glc deluxe': 1,\n",
       "         'dodge colt hatchback custom': 1,\n",
       "         'amc spirit dl': 1,\n",
       "         'mercedes benz 300d': 1,\n",
       "         'cadillac eldorado': 1,\n",
       "         'plymouth horizon': 1,\n",
       "         'plymouth horizon tc3': 1,\n",
       "         'datsun 210': 2,\n",
       "         'fiat strada custom': 1,\n",
       "         'buick skylark limited': 1,\n",
       "         'chevrolet citation': 3,\n",
       "         'oldsmobile omega brougham': 1,\n",
       "         'pontiac phoenix': 2,\n",
       "         'toyota corolla tercel': 1,\n",
       "         'datsun 310': 1,\n",
       "         'ford fairmont': 1,\n",
       "         'audi 4000': 1,\n",
       "         'toyota corona liftback': 1,\n",
       "         'mazda 626': 2,\n",
       "         'datsun 510 hatchback': 1,\n",
       "         'mazda glc': 1,\n",
       "         'vw rabbit c (diesel)': 1,\n",
       "         'vw dasher (diesel)': 1,\n",
       "         'audi 5000s (diesel)': 1,\n",
       "         'mercedes-benz 240d': 1,\n",
       "         'honda civic 1500 gl': 1,\n",
       "         'renault lecar deluxe': 1,\n",
       "         'vokswagen rabbit': 1,\n",
       "         'datsun 280-zx': 1,\n",
       "         'mazda rx-7 gs': 1,\n",
       "         'triumph tr7 coupe': 1,\n",
       "         'ford mustang cobra': 1,\n",
       "         'honda accord': 2,\n",
       "         'plymouth reliant': 2,\n",
       "         'dodge aries wagon (sw)': 1,\n",
       "         'toyota starlet': 1,\n",
       "         'plymouth champ': 1,\n",
       "         'honda civic 1300': 1,\n",
       "         'datsun 210 mpg': 1,\n",
       "         'toyota tercel': 1,\n",
       "         'mazda glc 4': 1,\n",
       "         'plymouth horizon 4': 1,\n",
       "         'ford escort 4w': 1,\n",
       "         'ford escort 2h': 1,\n",
       "         'volkswagen jetta': 1,\n",
       "         'renault 18i': 1,\n",
       "         'honda prelude': 1,\n",
       "         'datsun 200sx': 1,\n",
       "         'peugeot 505s turbo diesel': 1,\n",
       "         'volvo diesel': 1,\n",
       "         'toyota cressida': 1,\n",
       "         'datsun 810 maxima': 1,\n",
       "         'oldsmobile cutlass ls': 1,\n",
       "         'ford granada gl': 1,\n",
       "         'chrysler lebaron salon': 1,\n",
       "         'chevrolet cavalier': 1,\n",
       "         'chevrolet cavalier wagon': 1,\n",
       "         'chevrolet cavalier 2-door': 1,\n",
       "         'pontiac j2000 se hatchback': 1,\n",
       "         'dodge aries se': 1,\n",
       "         'ford fairmont futura': 1,\n",
       "         'amc concord dl': 1,\n",
       "         'volkswagen rabbit l': 1,\n",
       "         'mazda glc custom l': 1,\n",
       "         'mazda glc custom': 1,\n",
       "         'plymouth horizon miser': 1,\n",
       "         'mercury lynx l': 1,\n",
       "         'nissan stanza xe': 1,\n",
       "         'honda civic (auto)': 1,\n",
       "         'datsun 310 gx': 1,\n",
       "         'buick century limited': 1,\n",
       "         'oldsmobile cutlass ciera (diesel)': 1,\n",
       "         'chrysler lebaron medallion': 1,\n",
       "         'ford granada l': 1,\n",
       "         'toyota celica gt': 1,\n",
       "         'dodge charger 2.2': 1,\n",
       "         'chevrolet camaro': 1,\n",
       "         'ford mustang gl': 1,\n",
       "         'vw pickup': 1,\n",
       "         'dodge rampage': 1,\n",
       "         'ford ranger': 1,\n",
       "         'chevy s-10': 1})"
      ]
     },
     "execution_count": 373,
     "metadata": {},
     "output_type": "execute_result"
    }
   ],
   "source": [
    "counts"
   ]
  }
 ],
 "metadata": {
  "kernelspec": {
   "display_name": "Python 3",
   "language": "python",
   "name": "python3"
  },
  "language_info": {
   "codemirror_mode": {
    "name": "ipython",
    "version": 3
   },
   "file_extension": ".py",
   "mimetype": "text/x-python",
   "name": "python",
   "nbconvert_exporter": "python",
   "pygments_lexer": "ipython3",
   "version": "3.11.8"
  }
 },
 "nbformat": 4,
 "nbformat_minor": 2
}
