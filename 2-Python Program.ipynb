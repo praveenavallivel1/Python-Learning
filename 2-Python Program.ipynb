{
 "cells": [
  {
   "cell_type": "code",
   "execution_count": 1,
   "id": "respective-township",
   "metadata": {},
   "outputs": [],
   "source": [
    "# date as data type"
   ]
  },
  {
   "cell_type": "code",
   "execution_count": 2,
   "id": "silver-greece",
   "metadata": {},
   "outputs": [],
   "source": [
    "import datetime"
   ]
  },
  {
   "cell_type": "code",
   "execution_count": 3,
   "id": "injured-vampire",
   "metadata": {},
   "outputs": [],
   "source": [
    "import dateutil"
   ]
  },
  {
   "cell_type": "code",
   "execution_count": 4,
   "id": "editorial-witness",
   "metadata": {},
   "outputs": [
    {
     "data": {
      "text/plain": [
       "datetime.datetime(2021, 4, 17, 10, 7, 18, tzinfo=datetime.timezone(datetime.timedelta(days=-1, seconds=68400)))"
      ]
     },
     "execution_count": 4,
     "metadata": {},
     "output_type": "execute_result"
    }
   ],
   "source": [
    "datetime.datetime.strptime(\"2021-04-17T10:07:18-0500\", \"%Y-%m-%dT%H:%M:%S%z\")"
   ]
  },
  {
   "cell_type": "code",
   "execution_count": 5,
   "id": "dutch-illinois",
   "metadata": {},
   "outputs": [
    {
     "data": {
      "text/plain": [
       "datetime.datetime(2021, 4, 17, 10, 7, 18, tzinfo=tzoffset(None, -18000))"
      ]
     },
     "execution_count": 5,
     "metadata": {},
     "output_type": "execute_result"
    }
   ],
   "source": [
    "dateutil.parser.parse(\"17-04-2021T10:07:18-0500\")"
   ]
  },
  {
   "cell_type": "code",
   "execution_count": 6,
   "id": "amino-pierre",
   "metadata": {},
   "outputs": [],
   "source": [
    "# how to compute the time difference"
   ]
  },
  {
   "cell_type": "code",
   "execution_count": 7,
   "id": "acceptable-scott",
   "metadata": {},
   "outputs": [],
   "source": [
    "from datetime import datetime, timedelta"
   ]
  },
  {
   "cell_type": "code",
   "execution_count": 8,
   "id": "sharp-canyon",
   "metadata": {},
   "outputs": [
    {
     "name": "stdout",
     "output_type": "stream",
     "text": [
      "2021-04-17 14:57:42.290168\n"
     ]
    }
   ],
   "source": [
    "now = datetime.now()\n",
    "print(now)"
   ]
  },
  {
   "cell_type": "code",
   "execution_count": 9,
   "id": "nearby-incidence",
   "metadata": {},
   "outputs": [
    {
     "name": "stdout",
     "output_type": "stream",
     "text": [
      "2021-04-17 14:57:42.298941\n"
     ]
    }
   ],
   "source": [
    "now1 = datetime.now()\n",
    "print(now1)"
   ]
  },
  {
   "cell_type": "code",
   "execution_count": 10,
   "id": "bibliographic-price",
   "metadata": {},
   "outputs": [
    {
     "name": "stdout",
     "output_type": "stream",
     "text": [
      "0:00:00.008773\n"
     ]
    }
   ],
   "source": [
    "delta = now1-now\n",
    "print(delta)"
   ]
  },
  {
   "cell_type": "code",
   "execution_count": 11,
   "id": "humanitarian-airplane",
   "metadata": {},
   "outputs": [
    {
     "name": "stdout",
     "output_type": "stream",
     "text": [
      "0\n"
     ]
    }
   ],
   "source": [
    "print(delta.days)"
   ]
  },
  {
   "cell_type": "code",
   "execution_count": 12,
   "id": "occupational-tissue",
   "metadata": {},
   "outputs": [
    {
     "name": "stdout",
     "output_type": "stream",
     "text": [
      "8773\n"
     ]
    }
   ],
   "source": [
    "print(delta.microseconds)"
   ]
  },
  {
   "cell_type": "code",
   "execution_count": 13,
   "id": "medium-might",
   "metadata": {},
   "outputs": [
    {
     "name": "stdout",
     "output_type": "stream",
     "text": [
      "0\n"
     ]
    }
   ],
   "source": [
    "print(delta.seconds)"
   ]
  },
  {
   "cell_type": "code",
   "execution_count": 14,
   "id": "unexpected-power",
   "metadata": {},
   "outputs": [],
   "source": [
    "# lag time and lead time"
   ]
  },
  {
   "cell_type": "code",
   "execution_count": 15,
   "id": "organized-blues",
   "metadata": {},
   "outputs": [
    {
     "data": {
      "text/plain": [
       "datetime.datetime(2021, 5, 17, 14, 57, 42, 378015)"
      ]
     },
     "execution_count": 15,
     "metadata": {},
     "output_type": "execute_result"
    }
   ],
   "source": [
    "datetime.now() + timedelta(30)"
   ]
  },
  {
   "cell_type": "code",
   "execution_count": 16,
   "id": "senior-chance",
   "metadata": {},
   "outputs": [
    {
     "data": {
      "text/plain": [
       "datetime.datetime(2021, 3, 18, 14, 57, 42, 404309)"
      ]
     },
     "execution_count": 16,
     "metadata": {},
     "output_type": "execute_result"
    }
   ],
   "source": [
    "datetime.now() - timedelta(30)"
   ]
  },
  {
   "cell_type": "code",
   "execution_count": 17,
   "id": "skilled-relay",
   "metadata": {},
   "outputs": [],
   "source": [
    "# date object"
   ]
  },
  {
   "cell_type": "code",
   "execution_count": 18,
   "id": "genetic-mitchell",
   "metadata": {},
   "outputs": [
    {
     "data": {
      "text/plain": [
       "datetime.date(2021, 4, 24)"
      ]
     },
     "execution_count": 18,
     "metadata": {},
     "output_type": "execute_result"
    }
   ],
   "source": [
    "import datetime\n",
    "datetime.date.today() + timedelta(7)"
   ]
  },
  {
   "cell_type": "code",
   "execution_count": 19,
   "id": "korean-sally",
   "metadata": {},
   "outputs": [],
   "source": [
    "from datetime import datetime\n",
    "from dateutil import tz"
   ]
  },
  {
   "cell_type": "code",
   "execution_count": 20,
   "id": "korean-moderator",
   "metadata": {},
   "outputs": [],
   "source": [
    "utc = tz.tzutc()\n",
    "local = tz.tzlocal()"
   ]
  },
  {
   "cell_type": "code",
   "execution_count": 21,
   "id": "taken-think",
   "metadata": {},
   "outputs": [
    {
     "data": {
      "text/plain": [
       "datetime.datetime(2021, 4, 17, 9, 27, 42, 473282)"
      ]
     },
     "execution_count": 21,
     "metadata": {},
     "output_type": "execute_result"
    }
   ],
   "source": [
    "datetime.utcnow()"
   ]
  },
  {
   "cell_type": "code",
   "execution_count": 22,
   "id": "backed-maker",
   "metadata": {},
   "outputs": [
    {
     "data": {
      "text/plain": [
       "datetime.datetime(2021, 4, 17, 14, 57, 42, 486158)"
      ]
     },
     "execution_count": 22,
     "metadata": {},
     "output_type": "execute_result"
    }
   ],
   "source": [
    "datetime.now()"
   ]
  },
  {
   "cell_type": "code",
   "execution_count": 23,
   "id": "sunset-romania",
   "metadata": {},
   "outputs": [],
   "source": [
    "delta = datetime.now() - datetime.utcnow()\n"
   ]
  },
  {
   "cell_type": "code",
   "execution_count": 24,
   "id": "greenhouse-thong",
   "metadata": {},
   "outputs": [
    {
     "data": {
      "text/plain": [
       "5.499722222222222"
      ]
     },
     "execution_count": 24,
     "metadata": {},
     "output_type": "execute_result"
    }
   ],
   "source": [
    "(delta.seconds)/3600"
   ]
  },
  {
   "cell_type": "code",
   "execution_count": 25,
   "id": "official-plaza",
   "metadata": {},
   "outputs": [],
   "source": [
    "ET = tz.gettz('America/Eastern')\n",
    "ET"
   ]
  },
  {
   "cell_type": "code",
   "execution_count": 26,
   "id": "manual-breeding",
   "metadata": {},
   "outputs": [
    {
     "data": {
      "text/plain": [
       "datetime.datetime(2021, 4, 17, 10, 23)"
      ]
     },
     "execution_count": 26,
     "metadata": {},
     "output_type": "execute_result"
    }
   ],
   "source": [
    "from dateutil.parser import parse\n",
    "parse('2021-4-17 10:23:00', tzinfos = ET)"
   ]
  },
  {
   "cell_type": "code",
   "execution_count": 27,
   "id": "authentic-bumper",
   "metadata": {},
   "outputs": [],
   "source": [
    "import pytz"
   ]
  },
  {
   "cell_type": "code",
   "execution_count": 28,
   "id": "trained-lobby",
   "metadata": {},
   "outputs": [
    {
     "data": {
      "text/plain": [
       "<DstTzInfo 'America/New_York' LMT-1 day, 19:04:00 STD>"
      ]
     },
     "execution_count": 28,
     "metadata": {},
     "output_type": "execute_result"
    }
   ],
   "source": [
    "pytz.timezone('America/New_York')"
   ]
  },
  {
   "cell_type": "code",
   "execution_count": 29,
   "id": "exceptional-chocolate",
   "metadata": {},
   "outputs": [],
   "source": [
    "import numpy as np"
   ]
  },
  {
   "cell_type": "code",
   "execution_count": 30,
   "id": "loved-color",
   "metadata": {},
   "outputs": [
    {
     "data": {
      "text/plain": [
       "array([1., 0., 0., 0., 0., 0., 0., 0., 0., 0., 0., 1., 0., 0., 0., 0., 0.,\n",
       "       0., 0., 0., 0., 0., 1., 0., 0., 0., 0., 0., 0., 0., 0., 0., 0., 1.,\n",
       "       0., 0., 0., 0., 0., 0., 0., 0., 0., 0., 1., 0., 0., 0., 0., 0., 0.,\n",
       "       0., 0., 0., 0., 1., 0., 0., 0., 0., 0., 0., 0., 0., 0., 0., 1., 0.,\n",
       "       0., 0., 0., 0., 0., 0., 0., 0., 0., 1., 0., 0., 0., 0., 0., 0., 0.,\n",
       "       0., 0., 0., 1., 0., 0., 0., 0., 0., 0., 0., 0., 0., 0., 1.])"
      ]
     },
     "execution_count": 30,
     "metadata": {},
     "output_type": "execute_result"
    }
   ],
   "source": [
    "np.eye(10).ravel()"
   ]
  },
  {
   "cell_type": "code",
   "execution_count": 31,
   "id": "rolled-commissioner",
   "metadata": {},
   "outputs": [
    {
     "data": {
      "text/plain": [
       "array([1., 0., 0., 0., 0., 0., 0., 0., 0., 0., 0., 1., 0., 0., 0., 0., 0.,\n",
       "       0., 0., 0., 0., 0., 1., 0., 0., 0., 0., 0., 0., 0., 0., 0., 0., 1.,\n",
       "       0., 0., 0., 0., 0., 0., 0., 0., 0., 0., 1., 0., 0., 0., 0., 0., 0.,\n",
       "       0., 0., 0., 0., 1., 0., 0., 0., 0., 0., 0., 0., 0., 0., 0., 1., 0.,\n",
       "       0., 0., 0., 0., 0., 0., 0., 0., 0., 1., 0., 0., 0., 0., 0., 0., 0.,\n",
       "       0., 0., 0., 1., 0., 0., 0., 0., 0., 0., 0., 0., 0., 0., 1.])"
      ]
     },
     "execution_count": 31,
     "metadata": {},
     "output_type": "execute_result"
    }
   ],
   "source": [
    "np.eye(10).flatten()"
   ]
  },
  {
   "cell_type": "code",
   "execution_count": 32,
   "id": "forbidden-rhythm",
   "metadata": {},
   "outputs": [],
   "source": [
    "# list = ['string',[3.0,4.5,6.7],45,True,Complex]\n",
    "# put all data types in one table, it is the data frame "
   ]
  },
  {
   "cell_type": "code",
   "execution_count": 33,
   "id": "postal-nudist",
   "metadata": {},
   "outputs": [],
   "source": [
    "# data frame is a tabular structure where different types of data can be stored"
   ]
  },
  {
   "cell_type": "code",
   "execution_count": 34,
   "id": "ecological-mounting",
   "metadata": {},
   "outputs": [],
   "source": [
    "import pandas as pd\n",
    "df = pd.read_csv('https://gist.githubusercontent.com/seankross/a412dfbd88b3db70b74b/raw/5f23f993cd87c283ce766e7ac6b329ee7cc2e1d1/mtcars.csv')"
   ]
  },
  {
   "cell_type": "code",
   "execution_count": 35,
   "id": "analyzed-committee",
   "metadata": {},
   "outputs": [
    {
     "data": {
      "text/html": [
       "<div>\n",
       "<style scoped>\n",
       "    .dataframe tbody tr th:only-of-type {\n",
       "        vertical-align: middle;\n",
       "    }\n",
       "\n",
       "    .dataframe tbody tr th {\n",
       "        vertical-align: top;\n",
       "    }\n",
       "\n",
       "    .dataframe thead th {\n",
       "        text-align: right;\n",
       "    }\n",
       "</style>\n",
       "<table border=\"1\" class=\"dataframe\">\n",
       "  <thead>\n",
       "    <tr style=\"text-align: right;\">\n",
       "      <th></th>\n",
       "      <th>model</th>\n",
       "      <th>mpg</th>\n",
       "      <th>cyl</th>\n",
       "      <th>disp</th>\n",
       "      <th>hp</th>\n",
       "      <th>drat</th>\n",
       "      <th>wt</th>\n",
       "      <th>qsec</th>\n",
       "      <th>vs</th>\n",
       "      <th>am</th>\n",
       "      <th>gear</th>\n",
       "      <th>carb</th>\n",
       "    </tr>\n",
       "  </thead>\n",
       "  <tbody>\n",
       "    <tr>\n",
       "      <th>0</th>\n",
       "      <td>Mazda RX4</td>\n",
       "      <td>21.0</td>\n",
       "      <td>6</td>\n",
       "      <td>160.0</td>\n",
       "      <td>110</td>\n",
       "      <td>3.90</td>\n",
       "      <td>2.620</td>\n",
       "      <td>16.46</td>\n",
       "      <td>0</td>\n",
       "      <td>1</td>\n",
       "      <td>4</td>\n",
       "      <td>4</td>\n",
       "    </tr>\n",
       "    <tr>\n",
       "      <th>1</th>\n",
       "      <td>Mazda RX4 Wag</td>\n",
       "      <td>21.0</td>\n",
       "      <td>6</td>\n",
       "      <td>160.0</td>\n",
       "      <td>110</td>\n",
       "      <td>3.90</td>\n",
       "      <td>2.875</td>\n",
       "      <td>17.02</td>\n",
       "      <td>0</td>\n",
       "      <td>1</td>\n",
       "      <td>4</td>\n",
       "      <td>4</td>\n",
       "    </tr>\n",
       "    <tr>\n",
       "      <th>2</th>\n",
       "      <td>Datsun 710</td>\n",
       "      <td>22.8</td>\n",
       "      <td>4</td>\n",
       "      <td>108.0</td>\n",
       "      <td>93</td>\n",
       "      <td>3.85</td>\n",
       "      <td>2.320</td>\n",
       "      <td>18.61</td>\n",
       "      <td>1</td>\n",
       "      <td>1</td>\n",
       "      <td>4</td>\n",
       "      <td>1</td>\n",
       "    </tr>\n",
       "    <tr>\n",
       "      <th>3</th>\n",
       "      <td>Hornet 4 Drive</td>\n",
       "      <td>21.4</td>\n",
       "      <td>6</td>\n",
       "      <td>258.0</td>\n",
       "      <td>110</td>\n",
       "      <td>3.08</td>\n",
       "      <td>3.215</td>\n",
       "      <td>19.44</td>\n",
       "      <td>1</td>\n",
       "      <td>0</td>\n",
       "      <td>3</td>\n",
       "      <td>1</td>\n",
       "    </tr>\n",
       "    <tr>\n",
       "      <th>4</th>\n",
       "      <td>Hornet Sportabout</td>\n",
       "      <td>18.7</td>\n",
       "      <td>8</td>\n",
       "      <td>360.0</td>\n",
       "      <td>175</td>\n",
       "      <td>3.15</td>\n",
       "      <td>3.440</td>\n",
       "      <td>17.02</td>\n",
       "      <td>0</td>\n",
       "      <td>0</td>\n",
       "      <td>3</td>\n",
       "      <td>2</td>\n",
       "    </tr>\n",
       "  </tbody>\n",
       "</table>\n",
       "</div>"
      ],
      "text/plain": [
       "               model   mpg  cyl   disp   hp  drat     wt   qsec  vs  am  gear  \\\n",
       "0          Mazda RX4  21.0    6  160.0  110  3.90  2.620  16.46   0   1     4   \n",
       "1      Mazda RX4 Wag  21.0    6  160.0  110  3.90  2.875  17.02   0   1     4   \n",
       "2         Datsun 710  22.8    4  108.0   93  3.85  2.320  18.61   1   1     4   \n",
       "3     Hornet 4 Drive  21.4    6  258.0  110  3.08  3.215  19.44   1   0     3   \n",
       "4  Hornet Sportabout  18.7    8  360.0  175  3.15  3.440  17.02   0   0     3   \n",
       "\n",
       "   carb  \n",
       "0     4  \n",
       "1     4  \n",
       "2     1  \n",
       "3     1  \n",
       "4     2  "
      ]
     },
     "execution_count": 35,
     "metadata": {},
     "output_type": "execute_result"
    }
   ],
   "source": [
    "df.head()"
   ]
  },
  {
   "cell_type": "code",
   "execution_count": 36,
   "id": "electronic-roman",
   "metadata": {},
   "outputs": [],
   "source": [
    "# set operations on dataframes"
   ]
  },
  {
   "cell_type": "code",
   "execution_count": 37,
   "id": "incorporate-isaac",
   "metadata": {},
   "outputs": [
    {
     "data": {
      "text/plain": [
       "{4, 6, 8}"
      ]
     },
     "execution_count": 37,
     "metadata": {},
     "output_type": "execute_result"
    }
   ],
   "source": [
    "set(df.cyl)"
   ]
  },
  {
   "cell_type": "code",
   "execution_count": 38,
   "id": "hungarian-preview",
   "metadata": {},
   "outputs": [
    {
     "data": {
      "text/plain": [
       "{3, 4, 5}"
      ]
     },
     "execution_count": 38,
     "metadata": {},
     "output_type": "execute_result"
    }
   ],
   "source": [
    "set(df.gear)"
   ]
  },
  {
   "cell_type": "code",
   "execution_count": 39,
   "id": "funded-mississippi",
   "metadata": {},
   "outputs": [
    {
     "data": {
      "text/plain": [
       "{4}"
      ]
     },
     "execution_count": 39,
     "metadata": {},
     "output_type": "execute_result"
    }
   ],
   "source": [
    "# intersection between gear and cyl\n",
    "{4, 6, 8}.intersection({3, 4, 5})"
   ]
  },
  {
   "cell_type": "code",
   "execution_count": 40,
   "id": "optional-calendar",
   "metadata": {},
   "outputs": [
    {
     "data": {
      "text/plain": [
       "{3, 4, 5, 6, 8}"
      ]
     },
     "execution_count": 40,
     "metadata": {},
     "output_type": "execute_result"
    }
   ],
   "source": [
    "# union\n",
    "{4, 6, 8}.union({3, 4, 5})"
   ]
  },
  {
   "cell_type": "code",
   "execution_count": 41,
   "id": "printable-vermont",
   "metadata": {},
   "outputs": [
    {
     "data": {
      "text/plain": [
       "{3, 4, 5, 6, 8}"
      ]
     },
     "execution_count": 41,
     "metadata": {},
     "output_type": "execute_result"
    }
   ],
   "source": [
    "{4, 6, 8} | {3, 4, 5}"
   ]
  },
  {
   "cell_type": "code",
   "execution_count": 42,
   "id": "lonely-chemistry",
   "metadata": {},
   "outputs": [
    {
     "data": {
      "text/plain": [
       "{6, 8}"
      ]
     },
     "execution_count": 42,
     "metadata": {},
     "output_type": "execute_result"
    }
   ],
   "source": [
    "#difference\n",
    "{4, 6, 8}.difference({3, 4, 5})"
   ]
  },
  {
   "cell_type": "code",
   "execution_count": 43,
   "id": "owned-patio",
   "metadata": {},
   "outputs": [
    {
     "data": {
      "text/plain": [
       "{6, 8}"
      ]
     },
     "execution_count": 43,
     "metadata": {},
     "output_type": "execute_result"
    }
   ],
   "source": [
    "{4, 6, 8} - {3, 4, 5}"
   ]
  },
  {
   "cell_type": "code",
   "execution_count": 44,
   "id": "magnetic-right",
   "metadata": {},
   "outputs": [],
   "source": [
    "# symmetric difference"
   ]
  },
  {
   "cell_type": "code",
   "execution_count": 45,
   "id": "interior-watershed",
   "metadata": {},
   "outputs": [
    {
     "data": {
      "text/plain": [
       "{3, 5, 6, 8}"
      ]
     },
     "execution_count": 45,
     "metadata": {},
     "output_type": "execute_result"
    }
   ],
   "source": [
    "{4, 6, 8}.symmetric_difference({3, 4, 5})"
   ]
  },
  {
   "cell_type": "code",
   "execution_count": 46,
   "id": "protecting-ballot",
   "metadata": {},
   "outputs": [
    {
     "data": {
      "text/plain": [
       "{3, 5, 6, 8}"
      ]
     },
     "execution_count": 46,
     "metadata": {},
     "output_type": "execute_result"
    }
   ],
   "source": [
    "{4, 6, 8} ^ {3, 4, 5}"
   ]
  },
  {
   "cell_type": "code",
   "execution_count": 47,
   "id": "resident-helmet",
   "metadata": {},
   "outputs": [],
   "source": [
    "# subset check\n",
    "# superset check"
   ]
  },
  {
   "cell_type": "code",
   "execution_count": 48,
   "id": "prescribed-opposition",
   "metadata": {},
   "outputs": [
    {
     "data": {
      "text/plain": [
       "False"
      ]
     },
     "execution_count": 48,
     "metadata": {},
     "output_type": "execute_result"
    }
   ],
   "source": [
    "{4, 6, 8}.issubset({3, 4, 5})"
   ]
  },
  {
   "cell_type": "code",
   "execution_count": 49,
   "id": "dressed-compensation",
   "metadata": {},
   "outputs": [
    {
     "data": {
      "text/plain": [
       "False"
      ]
     },
     "execution_count": 49,
     "metadata": {},
     "output_type": "execute_result"
    }
   ],
   "source": [
    "{4, 6, 8} >= {3, 4, 5}"
   ]
  },
  {
   "cell_type": "code",
   "execution_count": 50,
   "id": "about-needle",
   "metadata": {},
   "outputs": [
    {
     "data": {
      "text/plain": [
       "False"
      ]
     },
     "execution_count": 50,
     "metadata": {},
     "output_type": "execute_result"
    }
   ],
   "source": [
    "{4, 6, 8}.issuperset({3, 4, 5})"
   ]
  },
  {
   "cell_type": "code",
   "execution_count": 51,
   "id": "featured-finland",
   "metadata": {},
   "outputs": [
    {
     "data": {
      "text/plain": [
       "(32, 12)"
      ]
     },
     "execution_count": 51,
     "metadata": {},
     "output_type": "execute_result"
    }
   ],
   "source": [
    "df.shape"
   ]
  },
  {
   "cell_type": "code",
   "execution_count": 52,
   "id": "smooth-triangle",
   "metadata": {},
   "outputs": [
    {
     "data": {
      "text/plain": [
       "{'AMC Javelin',\n",
       " 'Cadillac Fleetwood',\n",
       " 'Camaro Z28',\n",
       " 'Chrysler Imperial',\n",
       " 'Datsun 710',\n",
       " 'Dodge Challenger',\n",
       " 'Duster 360',\n",
       " 'Ferrari Dino',\n",
       " 'Fiat 128',\n",
       " 'Fiat X1-9',\n",
       " 'Ford Pantera L',\n",
       " 'Honda Civic',\n",
       " 'Hornet 4 Drive',\n",
       " 'Hornet Sportabout',\n",
       " 'Lincoln Continental',\n",
       " 'Lotus Europa',\n",
       " 'Maserati Bora',\n",
       " 'Mazda RX4',\n",
       " 'Mazda RX4 Wag',\n",
       " 'Merc 230',\n",
       " 'Merc 240D',\n",
       " 'Merc 280',\n",
       " 'Merc 280C',\n",
       " 'Merc 450SE',\n",
       " 'Merc 450SL',\n",
       " 'Merc 450SLC',\n",
       " 'Pontiac Firebird',\n",
       " 'Porsche 914-2',\n",
       " 'Toyota Corolla',\n",
       " 'Toyota Corona',\n",
       " 'Valiant',\n",
       " 'Volvo 142E'}"
      ]
     },
     "execution_count": 52,
     "metadata": {},
     "output_type": "execute_result"
    }
   ],
   "source": [
    "set(df.model)"
   ]
  },
  {
   "cell_type": "code",
   "execution_count": 53,
   "id": "expanded-issue",
   "metadata": {},
   "outputs": [
    {
     "data": {
      "text/html": [
       "<div>\n",
       "<style scoped>\n",
       "    .dataframe tbody tr th:only-of-type {\n",
       "        vertical-align: middle;\n",
       "    }\n",
       "\n",
       "    .dataframe tbody tr th {\n",
       "        vertical-align: top;\n",
       "    }\n",
       "\n",
       "    .dataframe thead th {\n",
       "        text-align: right;\n",
       "    }\n",
       "</style>\n",
       "<table border=\"1\" class=\"dataframe\">\n",
       "  <thead>\n",
       "    <tr style=\"text-align: right;\">\n",
       "      <th></th>\n",
       "      <th>model</th>\n",
       "      <th>mpg</th>\n",
       "      <th>cyl</th>\n",
       "      <th>disp</th>\n",
       "      <th>hp</th>\n",
       "      <th>drat</th>\n",
       "      <th>wt</th>\n",
       "      <th>qsec</th>\n",
       "      <th>vs</th>\n",
       "      <th>am</th>\n",
       "      <th>gear</th>\n",
       "      <th>carb</th>\n",
       "    </tr>\n",
       "  </thead>\n",
       "  <tbody>\n",
       "    <tr>\n",
       "      <th>0</th>\n",
       "      <td>Mazda RX4</td>\n",
       "      <td>21.0</td>\n",
       "      <td>6</td>\n",
       "      <td>160.0</td>\n",
       "      <td>110</td>\n",
       "      <td>3.90</td>\n",
       "      <td>2.620</td>\n",
       "      <td>16.46</td>\n",
       "      <td>0</td>\n",
       "      <td>1</td>\n",
       "      <td>4</td>\n",
       "      <td>4</td>\n",
       "    </tr>\n",
       "    <tr>\n",
       "      <th>1</th>\n",
       "      <td>Mazda RX4 Wag</td>\n",
       "      <td>21.0</td>\n",
       "      <td>6</td>\n",
       "      <td>160.0</td>\n",
       "      <td>110</td>\n",
       "      <td>3.90</td>\n",
       "      <td>2.875</td>\n",
       "      <td>17.02</td>\n",
       "      <td>0</td>\n",
       "      <td>1</td>\n",
       "      <td>4</td>\n",
       "      <td>4</td>\n",
       "    </tr>\n",
       "    <tr>\n",
       "      <th>2</th>\n",
       "      <td>Datsun 710</td>\n",
       "      <td>22.8</td>\n",
       "      <td>4</td>\n",
       "      <td>108.0</td>\n",
       "      <td>93</td>\n",
       "      <td>3.85</td>\n",
       "      <td>2.320</td>\n",
       "      <td>18.61</td>\n",
       "      <td>1</td>\n",
       "      <td>1</td>\n",
       "      <td>4</td>\n",
       "      <td>1</td>\n",
       "    </tr>\n",
       "    <tr>\n",
       "      <th>3</th>\n",
       "      <td>Hornet 4 Drive</td>\n",
       "      <td>21.4</td>\n",
       "      <td>6</td>\n",
       "      <td>258.0</td>\n",
       "      <td>110</td>\n",
       "      <td>3.08</td>\n",
       "      <td>3.215</td>\n",
       "      <td>19.44</td>\n",
       "      <td>1</td>\n",
       "      <td>0</td>\n",
       "      <td>3</td>\n",
       "      <td>1</td>\n",
       "    </tr>\n",
       "    <tr>\n",
       "      <th>4</th>\n",
       "      <td>Hornet Sportabout</td>\n",
       "      <td>18.7</td>\n",
       "      <td>8</td>\n",
       "      <td>360.0</td>\n",
       "      <td>175</td>\n",
       "      <td>3.15</td>\n",
       "      <td>3.440</td>\n",
       "      <td>17.02</td>\n",
       "      <td>0</td>\n",
       "      <td>0</td>\n",
       "      <td>3</td>\n",
       "      <td>2</td>\n",
       "    </tr>\n",
       "  </tbody>\n",
       "</table>\n",
       "</div>"
      ],
      "text/plain": [
       "               model   mpg  cyl   disp   hp  drat     wt   qsec  vs  am  gear  \\\n",
       "0          Mazda RX4  21.0    6  160.0  110  3.90  2.620  16.46   0   1     4   \n",
       "1      Mazda RX4 Wag  21.0    6  160.0  110  3.90  2.875  17.02   0   1     4   \n",
       "2         Datsun 710  22.8    4  108.0   93  3.85  2.320  18.61   1   1     4   \n",
       "3     Hornet 4 Drive  21.4    6  258.0  110  3.08  3.215  19.44   1   0     3   \n",
       "4  Hornet Sportabout  18.7    8  360.0  175  3.15  3.440  17.02   0   0     3   \n",
       "\n",
       "   carb  \n",
       "0     4  \n",
       "1     4  \n",
       "2     1  \n",
       "3     1  \n",
       "4     2  "
      ]
     },
     "execution_count": 53,
     "metadata": {},
     "output_type": "execute_result"
    }
   ],
   "source": [
    "df.head()"
   ]
  },
  {
   "cell_type": "code",
   "execution_count": 54,
   "id": "detailed-childhood",
   "metadata": {},
   "outputs": [
    {
     "data": {
      "text/plain": [
       "0     0.124762\n",
       "1     0.136905\n",
       "2     0.101754\n",
       "3     0.150234\n",
       "4     0.183957\n",
       "5     0.191160\n",
       "6     0.249650\n",
       "7     0.130738\n",
       "8     0.138158\n",
       "9     0.179167\n",
       "10    0.193258\n",
       "11    0.248171\n",
       "12    0.215607\n",
       "13    0.248684\n",
       "14    0.504808\n",
       "15    0.521538\n",
       "16    0.363605\n",
       "17    0.067901\n",
       "18    0.053125\n",
       "19    0.054130\n",
       "20    0.114651\n",
       "21    0.227097\n",
       "22    0.225987\n",
       "23    0.288722\n",
       "24    0.200260\n",
       "25    0.070879\n",
       "26    0.082308\n",
       "27    0.049770\n",
       "28    0.200633\n",
       "29    0.140609\n",
       "30    0.238000\n",
       "31    0.129907\n",
       "dtype: float64"
      ]
     },
     "execution_count": 54,
     "metadata": {},
     "output_type": "execute_result"
    }
   ],
   "source": [
    "df.wt/df.mpg"
   ]
  },
  {
   "cell_type": "code",
   "execution_count": 55,
   "id": "sophisticated-exclusive",
   "metadata": {},
   "outputs": [
    {
     "data": {
      "text/plain": [
       "0     0.436667\n",
       "1     0.479167\n",
       "2     0.580000\n",
       "3     0.535833\n",
       "4     0.430000\n",
       "5     0.576667\n",
       "6     0.446250\n",
       "7     0.797500\n",
       "8     0.787500\n",
       "9     0.573333\n",
       "10    0.573333\n",
       "11    0.508750\n",
       "12    0.466250\n",
       "13    0.472500\n",
       "14    0.656250\n",
       "15    0.678000\n",
       "16    0.668125\n",
       "17    0.550000\n",
       "18    0.403750\n",
       "19    0.458750\n",
       "20    0.616250\n",
       "21    0.440000\n",
       "22    0.429375\n",
       "23    0.480000\n",
       "24    0.480625\n",
       "25    0.483750\n",
       "26    0.535000\n",
       "27    0.378250\n",
       "28    0.396250\n",
       "29    0.461667\n",
       "30    0.446250\n",
       "31    0.695000\n",
       "dtype: float64"
      ]
     },
     "execution_count": 55,
     "metadata": {},
     "output_type": "execute_result"
    }
   ],
   "source": [
    "df.wt/df.cyl"
   ]
  },
  {
   "cell_type": "code",
   "execution_count": 56,
   "id": "timely-direction",
   "metadata": {},
   "outputs": [
    {
     "data": {
      "text/plain": [
       "0     5.244450\n",
       "1     4.355388\n",
       "2     2.972652\n",
       "3     3.482896\n",
       "4     5.408329\n",
       "5     3.007117\n",
       "6     5.021616\n",
       "7     1.572312\n",
       "8     1.612497\n",
       "9     3.042185\n",
       "10    3.042185\n",
       "11    3.863591\n",
       "12    4.600047\n",
       "13    4.479158\n",
       "14    2.321995\n",
       "15    2.175407\n",
       "16    2.240188\n",
       "17    3.305785\n",
       "18    6.134440\n",
       "19    4.751687\n",
       "20    2.633214\n",
       "21    5.165289\n",
       "22    5.424085\n",
       "23    4.340278\n",
       "24    4.328997\n",
       "25    4.273247\n",
       "26    3.493755\n",
       "27    6.989436\n",
       "28    6.368856\n",
       "29    4.691838\n",
       "30    5.021616\n",
       "31    2.070286\n",
       "dtype: float64"
      ]
     },
     "execution_count": 56,
     "metadata": {},
     "output_type": "execute_result"
    }
   ],
   "source": [
    "pow(df.cyl/df.wt,2)"
   ]
  },
  {
   "cell_type": "code",
   "execution_count": 57,
   "id": "jewish-villa",
   "metadata": {},
   "outputs": [],
   "source": [
    "import math"
   ]
  },
  {
   "cell_type": "code",
   "execution_count": 58,
   "id": "automotive-wagon",
   "metadata": {},
   "outputs": [
    {
     "data": {
      "text/plain": [
       "2.0"
      ]
     },
     "execution_count": 58,
     "metadata": {},
     "output_type": "execute_result"
    }
   ],
   "source": [
    "math.sqrt(4)"
   ]
  },
  {
   "cell_type": "code",
   "execution_count": 59,
   "id": "scenic-forge",
   "metadata": {},
   "outputs": [
    {
     "data": {
      "text/plain": [
       "0     1.513300\n",
       "1     1.444630\n",
       "2     1.313064\n",
       "3     1.366108\n",
       "4     1.524986\n",
       "5     1.316854\n",
       "6     1.496962\n",
       "7     1.119785\n",
       "8     1.126872\n",
       "9     1.320676\n",
       "10    1.320676\n",
       "11    1.401999\n",
       "12    1.464504\n",
       "13    1.454786\n",
       "14    1.234427\n",
       "15    1.214465\n",
       "16    1.223408\n",
       "17    1.348400\n",
       "18    1.573779\n",
       "19    1.476427\n",
       "20    1.273860\n",
       "21    1.507557\n",
       "22    1.526095\n",
       "23    1.443376\n",
       "24    1.442437\n",
       "25    1.437770\n",
       "26    1.367172\n",
       "27    1.625963\n",
       "28    1.588603\n",
       "29    1.471756\n",
       "30    1.496962\n",
       "31    1.199520\n",
       "dtype: float64"
      ]
     },
     "execution_count": 59,
     "metadata": {},
     "output_type": "execute_result"
    }
   ],
   "source": [
    "np.sqrt(df.cyl/df.wt)"
   ]
  },
  {
   "cell_type": "code",
   "execution_count": 60,
   "id": "becoming-contest",
   "metadata": {},
   "outputs": [
    {
     "data": {
      "text/plain": [
       "2.4849066497880004"
      ]
     },
     "execution_count": 60,
     "metadata": {},
     "output_type": "execute_result"
    }
   ],
   "source": [
    "np.log(12)"
   ]
  },
  {
   "cell_type": "code",
   "execution_count": 61,
   "id": "joint-transparency",
   "metadata": {},
   "outputs": [],
   "source": [
    "# operator precedence in python"
   ]
  },
  {
   "cell_type": "code",
   "execution_count": 62,
   "id": "southeast-invasion",
   "metadata": {},
   "outputs": [],
   "source": [
    "# BODMAS - Brackets, Of, Div, Mul, Add, Sub\n",
    "# PEMDAS - Parentheses, Exponents, Multi, Div, Add, Sub "
   ]
  },
  {
   "cell_type": "code",
   "execution_count": 63,
   "id": "grave-emergency",
   "metadata": {},
   "outputs": [],
   "source": [
    "# variable scoping and binding"
   ]
  },
  {
   "cell_type": "code",
   "execution_count": 64,
   "id": "hungry-contrary",
   "metadata": {},
   "outputs": [],
   "source": [
    "def counter():\n",
    "    num = 0\n",
    "    def incrementor():\n",
    "        num += 1\n",
    "        return num\n",
    "    return incrementor"
   ]
  },
  {
   "cell_type": "code",
   "execution_count": 65,
   "id": "joint-stock",
   "metadata": {},
   "outputs": [
    {
     "data": {
      "text/plain": [
       "<function __main__.counter.<locals>.incrementor()>"
      ]
     },
     "execution_count": 65,
     "metadata": {},
     "output_type": "execute_result"
    }
   ],
   "source": [
    "counter()"
   ]
  },
  {
   "cell_type": "code",
   "execution_count": 66,
   "id": "unnecessary-membrane",
   "metadata": {},
   "outputs": [],
   "source": [
    "def counter():\n",
    "    num = 0\n",
    "    def incrementor():\n",
    "        nonlocal num\n",
    "        num += 1\n",
    "        return num\n",
    "    return incrementor"
   ]
  },
  {
   "cell_type": "code",
   "execution_count": 67,
   "id": "unusual-meter",
   "metadata": {},
   "outputs": [],
   "source": [
    "c = counter()"
   ]
  },
  {
   "cell_type": "code",
   "execution_count": 68,
   "id": "forced-rough",
   "metadata": {},
   "outputs": [
    {
     "data": {
      "text/plain": [
       "1"
      ]
     },
     "execution_count": 68,
     "metadata": {},
     "output_type": "execute_result"
    }
   ],
   "source": [
    "c()"
   ]
  },
  {
   "cell_type": "code",
   "execution_count": 69,
   "id": "plain-water",
   "metadata": {},
   "outputs": [
    {
     "data": {
      "text/plain": [
       "2"
      ]
     },
     "execution_count": 69,
     "metadata": {},
     "output_type": "execute_result"
    }
   ],
   "source": [
    "c()"
   ]
  },
  {
   "cell_type": "code",
   "execution_count": 70,
   "id": "representative-republic",
   "metadata": {},
   "outputs": [
    {
     "data": {
      "text/plain": [
       "3"
      ]
     },
     "execution_count": 70,
     "metadata": {},
     "output_type": "execute_result"
    }
   ],
   "source": [
    "c()"
   ]
  },
  {
   "cell_type": "code",
   "execution_count": 71,
   "id": "boring-adelaide",
   "metadata": {},
   "outputs": [
    {
     "data": {
      "text/plain": [
       "4"
      ]
     },
     "execution_count": 71,
     "metadata": {},
     "output_type": "execute_result"
    }
   ],
   "source": [
    "c()"
   ]
  },
  {
   "cell_type": "code",
   "execution_count": 72,
   "id": "lesser-thong",
   "metadata": {},
   "outputs": [],
   "source": [
    "# local and global scope"
   ]
  },
  {
   "cell_type": "code",
   "execution_count": 73,
   "id": "blessed-louisiana",
   "metadata": {},
   "outputs": [],
   "source": [
    "covid = 19 # global\n",
    "\n",
    "def func():\n",
    "    cov = 20 #local\n",
    "    print(covid) # print global scope\n",
    "    print(cov) # print local scope"
   ]
  },
  {
   "cell_type": "code",
   "execution_count": 74,
   "id": "healthy-retention",
   "metadata": {},
   "outputs": [],
   "source": [
    "covid = 19 # global\n",
    "\n",
    "def func():\n",
    "    cov = 20 #local\n",
    "    print(globals().keys()) # print global scope\n",
    "    print(locals().keys()) # print local scope"
   ]
  },
  {
   "cell_type": "code",
   "execution_count": 75,
   "id": "immune-macintosh",
   "metadata": {},
   "outputs": [
    {
     "name": "stdout",
     "output_type": "stream",
     "text": [
      "it is 2020\n"
     ]
    }
   ],
   "source": [
    "# conditionals\n",
    "number = 2022\n",
    "\n",
    "if number == 2020:\n",
    "    print('this year')\n",
    "elif number < 2020:   # optional clause, multiple elifs\n",
    "    print('last year')\n",
    "else: # optional clause, you can have only on else\n",
    "    print('it is 2020')"
   ]
  },
  {
   "cell_type": "code",
   "execution_count": 76,
   "id": "nasty-shock",
   "metadata": {},
   "outputs": [],
   "source": [
    "car1 = list(df.model[0:17])"
   ]
  },
  {
   "cell_type": "code",
   "execution_count": 77,
   "id": "supposed-motion",
   "metadata": {},
   "outputs": [],
   "source": [
    "car2 = list(df.model[17:])"
   ]
  },
  {
   "cell_type": "code",
   "execution_count": 78,
   "id": "executed-relative",
   "metadata": {},
   "outputs": [
    {
     "data": {
      "text/plain": [
       "['Mazda RX4',\n",
       " 'Mazda RX4 Wag',\n",
       " 'Datsun 710',\n",
       " 'Hornet 4 Drive',\n",
       " 'Hornet Sportabout',\n",
       " 'Valiant',\n",
       " 'Duster 360',\n",
       " 'Merc 240D',\n",
       " 'Merc 230',\n",
       " 'Merc 280',\n",
       " 'Merc 280C',\n",
       " 'Merc 450SE',\n",
       " 'Merc 450SL',\n",
       " 'Merc 450SLC',\n",
       " 'Cadillac Fleetwood',\n",
       " 'Lincoln Continental',\n",
       " 'Chrysler Imperial']"
      ]
     },
     "execution_count": 78,
     "metadata": {},
     "output_type": "execute_result"
    }
   ],
   "source": [
    "car1"
   ]
  },
  {
   "cell_type": "code",
   "execution_count": 79,
   "id": "floating-screening",
   "metadata": {},
   "outputs": [
    {
     "data": {
      "text/plain": [
       "['Fiat 128',\n",
       " 'Honda Civic',\n",
       " 'Toyota Corolla',\n",
       " 'Toyota Corona',\n",
       " 'Dodge Challenger',\n",
       " 'AMC Javelin',\n",
       " 'Camaro Z28',\n",
       " 'Pontiac Firebird',\n",
       " 'Fiat X1-9',\n",
       " 'Porsche 914-2',\n",
       " 'Lotus Europa',\n",
       " 'Ford Pantera L',\n",
       " 'Ferrari Dino',\n",
       " 'Maserati Bora',\n",
       " 'Volvo 142E']"
      ]
     },
     "execution_count": 79,
     "metadata": {},
     "output_type": "execute_result"
    }
   ],
   "source": [
    "car2"
   ]
  },
  {
   "cell_type": "code",
   "execution_count": 80,
   "id": "common-future",
   "metadata": {},
   "outputs": [],
   "source": [
    "import keyword"
   ]
  },
  {
   "cell_type": "code",
   "execution_count": 81,
   "id": "dental-virgin",
   "metadata": {},
   "outputs": [
    {
     "data": {
      "text/plain": [
       "['False',\n",
       " 'None',\n",
       " 'True',\n",
       " 'and',\n",
       " 'as',\n",
       " 'assert',\n",
       " 'async',\n",
       " 'await',\n",
       " 'break',\n",
       " 'class',\n",
       " 'continue',\n",
       " 'def',\n",
       " 'del',\n",
       " 'elif',\n",
       " 'else',\n",
       " 'except',\n",
       " 'finally',\n",
       " 'for',\n",
       " 'from',\n",
       " 'global',\n",
       " 'if',\n",
       " 'import',\n",
       " 'in',\n",
       " 'is',\n",
       " 'lambda',\n",
       " 'nonlocal',\n",
       " 'not',\n",
       " 'or',\n",
       " 'pass',\n",
       " 'raise',\n",
       " 'return',\n",
       " 'try',\n",
       " 'while',\n",
       " 'with',\n",
       " 'yield']"
      ]
     },
     "execution_count": 81,
     "metadata": {},
     "output_type": "execute_result"
    }
   ],
   "source": [
    "keyword.kwlist"
   ]
  },
  {
   "cell_type": "code",
   "execution_count": 82,
   "id": "dried-cornell",
   "metadata": {},
   "outputs": [
    {
     "data": {
      "text/plain": [
       "True"
      ]
     },
     "execution_count": 82,
     "metadata": {},
     "output_type": "execute_result"
    }
   ],
   "source": [
    "car1 > car2"
   ]
  },
  {
   "cell_type": "code",
   "execution_count": 83,
   "id": "ultimate-invalid",
   "metadata": {},
   "outputs": [
    {
     "data": {
      "text/plain": [
       "False"
      ]
     },
     "execution_count": 83,
     "metadata": {},
     "output_type": "execute_result"
    }
   ],
   "source": [
    "car2 > car1"
   ]
  },
  {
   "cell_type": "code",
   "execution_count": 84,
   "id": "filled-state",
   "metadata": {},
   "outputs": [
    {
     "data": {
      "text/plain": [
       "False"
      ]
     },
     "execution_count": 84,
     "metadata": {},
     "output_type": "execute_result"
    }
   ],
   "source": [
    "car1 == car2"
   ]
  },
  {
   "cell_type": "code",
   "execution_count": 85,
   "id": "rapid-optics",
   "metadata": {},
   "outputs": [
    {
     "data": {
      "text/plain": [
       "False"
      ]
     },
     "execution_count": 85,
     "metadata": {},
     "output_type": "execute_result"
    }
   ],
   "source": [
    "'Honda Civic' in car1"
   ]
  },
  {
   "cell_type": "code",
   "execution_count": 86,
   "id": "obvious-announcement",
   "metadata": {},
   "outputs": [
    {
     "data": {
      "text/plain": [
       "True"
      ]
     },
     "execution_count": 86,
     "metadata": {},
     "output_type": "execute_result"
    }
   ],
   "source": [
    "'Honda Civic' in car2"
   ]
  },
  {
   "cell_type": "code",
   "execution_count": 87,
   "id": "differential-developer",
   "metadata": {},
   "outputs": [],
   "source": [
    "# create a custom function for scaling the data"
   ]
  },
  {
   "cell_type": "code",
   "execution_count": 88,
   "id": "executive-hayes",
   "metadata": {},
   "outputs": [],
   "source": [
    "# (data point - mean of a data column) / standard deviation of a colum"
   ]
  },
  {
   "cell_type": "code",
   "execution_count": 89,
   "id": "impressive-battlefield",
   "metadata": {},
   "outputs": [
    {
     "data": {
      "text/plain": [
       "0     0.150885\n",
       "1     0.150885\n",
       "2     0.449543\n",
       "3     0.217253\n",
       "4    -0.230735\n",
       "5    -0.330287\n",
       "6    -0.960789\n",
       "7     0.715018\n",
       "8     0.449543\n",
       "9    -0.147774\n",
       "10   -0.380064\n",
       "11   -0.612354\n",
       "12   -0.463025\n",
       "13   -0.811460\n",
       "14   -1.607883\n",
       "15   -1.607883\n",
       "16   -0.894420\n",
       "17    2.042389\n",
       "18    1.710547\n",
       "19    2.291272\n",
       "20    0.233846\n",
       "21   -0.761683\n",
       "22   -0.811460\n",
       "23   -1.126710\n",
       "24   -0.147774\n",
       "25    1.196190\n",
       "26    0.980492\n",
       "27    1.710547\n",
       "28   -0.711907\n",
       "29   -0.064813\n",
       "30   -0.844644\n",
       "31    0.217253\n",
       "Name: mpg, dtype: float64"
      ]
     },
     "execution_count": 89,
     "metadata": {},
     "output_type": "execute_result"
    }
   ],
   "source": [
    "(df.mpg - df.mpg.mean())/(df.mpg.std())"
   ]
  },
  {
   "cell_type": "code",
   "execution_count": 90,
   "id": "christian-access",
   "metadata": {},
   "outputs": [
    {
     "data": {
      "text/plain": [
       "0    -0.610400\n",
       "1    -0.349785\n",
       "2    -0.917005\n",
       "3    -0.002300\n",
       "4     0.227654\n",
       "5     0.248095\n",
       "6     0.360516\n",
       "7    -0.027850\n",
       "8    -0.068731\n",
       "9     0.227654\n",
       "10    0.227654\n",
       "11    0.871525\n",
       "12    0.524039\n",
       "13    0.575140\n",
       "14    2.077505\n",
       "15    2.255336\n",
       "16    2.174596\n",
       "17   -1.039647\n",
       "18   -1.637527\n",
       "19   -1.412683\n",
       "20   -0.768812\n",
       "21    0.309416\n",
       "22    0.222544\n",
       "23    0.636461\n",
       "24    0.641571\n",
       "25   -1.310481\n",
       "26   -1.100968\n",
       "27   -1.741772\n",
       "28   -0.048290\n",
       "29   -0.457097\n",
       "30    0.360516\n",
       "31   -0.446877\n",
       "Name: wt, dtype: float64"
      ]
     },
     "execution_count": 90,
     "metadata": {},
     "output_type": "execute_result"
    }
   ],
   "source": [
    "(df.wt - df.wt.mean())/(df.wt.std())"
   ]
  },
  {
   "cell_type": "code",
   "execution_count": 91,
   "id": "immune-software",
   "metadata": {},
   "outputs": [],
   "source": [
    "def scale101(x):\n",
    "    output = ((x - x.mean())/x.std())\n",
    "    return output"
   ]
  },
  {
   "cell_type": "code",
   "execution_count": 92,
   "id": "insured-uruguay",
   "metadata": {},
   "outputs": [
    {
     "data": {
      "text/html": [
       "<div>\n",
       "<style scoped>\n",
       "    .dataframe tbody tr th:only-of-type {\n",
       "        vertical-align: middle;\n",
       "    }\n",
       "\n",
       "    .dataframe tbody tr th {\n",
       "        vertical-align: top;\n",
       "    }\n",
       "\n",
       "    .dataframe thead th {\n",
       "        text-align: right;\n",
       "    }\n",
       "</style>\n",
       "<table border=\"1\" class=\"dataframe\">\n",
       "  <thead>\n",
       "    <tr style=\"text-align: right;\">\n",
       "      <th></th>\n",
       "      <th>am</th>\n",
       "      <th>carb</th>\n",
       "      <th>cyl</th>\n",
       "      <th>disp</th>\n",
       "      <th>drat</th>\n",
       "      <th>gear</th>\n",
       "      <th>hp</th>\n",
       "      <th>model</th>\n",
       "      <th>mpg</th>\n",
       "      <th>qsec</th>\n",
       "      <th>vs</th>\n",
       "      <th>wt</th>\n",
       "    </tr>\n",
       "  </thead>\n",
       "  <tbody>\n",
       "    <tr>\n",
       "      <th>0</th>\n",
       "      <td>1.189901</td>\n",
       "      <td>0.735203</td>\n",
       "      <td>-0.104988</td>\n",
       "      <td>-0.570620</td>\n",
       "      <td>0.567514</td>\n",
       "      <td>0.423554</td>\n",
       "      <td>-0.535093</td>\n",
       "      <td>NaN</td>\n",
       "      <td>0.150885</td>\n",
       "      <td>-0.777165</td>\n",
       "      <td>-0.868028</td>\n",
       "      <td>-0.610400</td>\n",
       "    </tr>\n",
       "    <tr>\n",
       "      <th>1</th>\n",
       "      <td>1.189901</td>\n",
       "      <td>0.735203</td>\n",
       "      <td>-0.104988</td>\n",
       "      <td>-0.570620</td>\n",
       "      <td>0.567514</td>\n",
       "      <td>0.423554</td>\n",
       "      <td>-0.535093</td>\n",
       "      <td>NaN</td>\n",
       "      <td>0.150885</td>\n",
       "      <td>-0.463781</td>\n",
       "      <td>-0.868028</td>\n",
       "      <td>-0.349785</td>\n",
       "    </tr>\n",
       "    <tr>\n",
       "      <th>2</th>\n",
       "      <td>1.189901</td>\n",
       "      <td>-1.122152</td>\n",
       "      <td>-1.224858</td>\n",
       "      <td>-0.990182</td>\n",
       "      <td>0.474000</td>\n",
       "      <td>0.423554</td>\n",
       "      <td>-0.783040</td>\n",
       "      <td>NaN</td>\n",
       "      <td>0.449543</td>\n",
       "      <td>0.426007</td>\n",
       "      <td>1.116036</td>\n",
       "      <td>-0.917005</td>\n",
       "    </tr>\n",
       "    <tr>\n",
       "      <th>3</th>\n",
       "      <td>-0.814143</td>\n",
       "      <td>-1.122152</td>\n",
       "      <td>-0.104988</td>\n",
       "      <td>0.220094</td>\n",
       "      <td>-0.966118</td>\n",
       "      <td>-0.931819</td>\n",
       "      <td>-0.535093</td>\n",
       "      <td>NaN</td>\n",
       "      <td>0.217253</td>\n",
       "      <td>0.890487</td>\n",
       "      <td>1.116036</td>\n",
       "      <td>-0.002300</td>\n",
       "    </tr>\n",
       "    <tr>\n",
       "      <th>4</th>\n",
       "      <td>-0.814143</td>\n",
       "      <td>-0.503034</td>\n",
       "      <td>1.014882</td>\n",
       "      <td>1.043081</td>\n",
       "      <td>-0.835198</td>\n",
       "      <td>-0.931819</td>\n",
       "      <td>0.412942</td>\n",
       "      <td>NaN</td>\n",
       "      <td>-0.230735</td>\n",
       "      <td>-0.463781</td>\n",
       "      <td>-0.868028</td>\n",
       "      <td>0.227654</td>\n",
       "    </tr>\n",
       "    <tr>\n",
       "      <th>5</th>\n",
       "      <td>-0.814143</td>\n",
       "      <td>-1.122152</td>\n",
       "      <td>-0.104988</td>\n",
       "      <td>-0.046167</td>\n",
       "      <td>-1.564608</td>\n",
       "      <td>-0.931819</td>\n",
       "      <td>-0.608019</td>\n",
       "      <td>NaN</td>\n",
       "      <td>-0.330287</td>\n",
       "      <td>1.326987</td>\n",
       "      <td>1.116036</td>\n",
       "      <td>0.248095</td>\n",
       "    </tr>\n",
       "    <tr>\n",
       "      <th>6</th>\n",
       "      <td>-0.814143</td>\n",
       "      <td>0.735203</td>\n",
       "      <td>1.014882</td>\n",
       "      <td>1.043081</td>\n",
       "      <td>-0.722981</td>\n",
       "      <td>-0.931819</td>\n",
       "      <td>1.433903</td>\n",
       "      <td>NaN</td>\n",
       "      <td>-0.960789</td>\n",
       "      <td>-1.124126</td>\n",
       "      <td>-0.868028</td>\n",
       "      <td>0.360516</td>\n",
       "    </tr>\n",
       "    <tr>\n",
       "      <th>7</th>\n",
       "      <td>-0.814143</td>\n",
       "      <td>-0.503034</td>\n",
       "      <td>-1.224858</td>\n",
       "      <td>-0.677931</td>\n",
       "      <td>0.174754</td>\n",
       "      <td>0.423554</td>\n",
       "      <td>-1.235180</td>\n",
       "      <td>NaN</td>\n",
       "      <td>0.715018</td>\n",
       "      <td>1.203871</td>\n",
       "      <td>1.116036</td>\n",
       "      <td>-0.027850</td>\n",
       "    </tr>\n",
       "    <tr>\n",
       "      <th>8</th>\n",
       "      <td>-0.814143</td>\n",
       "      <td>-0.503034</td>\n",
       "      <td>-1.224858</td>\n",
       "      <td>-0.725535</td>\n",
       "      <td>0.604919</td>\n",
       "      <td>0.423554</td>\n",
       "      <td>-0.753870</td>\n",
       "      <td>NaN</td>\n",
       "      <td>0.449543</td>\n",
       "      <td>2.826755</td>\n",
       "      <td>1.116036</td>\n",
       "      <td>-0.068731</td>\n",
       "    </tr>\n",
       "    <tr>\n",
       "      <th>9</th>\n",
       "      <td>-0.814143</td>\n",
       "      <td>0.735203</td>\n",
       "      <td>-0.104988</td>\n",
       "      <td>-0.509299</td>\n",
       "      <td>0.604919</td>\n",
       "      <td>0.423554</td>\n",
       "      <td>-0.345486</td>\n",
       "      <td>NaN</td>\n",
       "      <td>-0.147774</td>\n",
       "      <td>0.252526</td>\n",
       "      <td>1.116036</td>\n",
       "      <td>0.227654</td>\n",
       "    </tr>\n",
       "    <tr>\n",
       "      <th>10</th>\n",
       "      <td>-0.814143</td>\n",
       "      <td>0.735203</td>\n",
       "      <td>-0.104988</td>\n",
       "      <td>-0.509299</td>\n",
       "      <td>0.604919</td>\n",
       "      <td>0.423554</td>\n",
       "      <td>-0.345486</td>\n",
       "      <td>NaN</td>\n",
       "      <td>-0.380064</td>\n",
       "      <td>0.588295</td>\n",
       "      <td>1.116036</td>\n",
       "      <td>0.227654</td>\n",
       "    </tr>\n",
       "    <tr>\n",
       "      <th>11</th>\n",
       "      <td>-0.814143</td>\n",
       "      <td>0.116085</td>\n",
       "      <td>1.014882</td>\n",
       "      <td>0.363713</td>\n",
       "      <td>-0.984820</td>\n",
       "      <td>-0.931819</td>\n",
       "      <td>0.485868</td>\n",
       "      <td>NaN</td>\n",
       "      <td>-0.612354</td>\n",
       "      <td>-0.251127</td>\n",
       "      <td>-0.868028</td>\n",
       "      <td>0.871525</td>\n",
       "    </tr>\n",
       "    <tr>\n",
       "      <th>12</th>\n",
       "      <td>-0.814143</td>\n",
       "      <td>0.116085</td>\n",
       "      <td>1.014882</td>\n",
       "      <td>0.363713</td>\n",
       "      <td>-0.984820</td>\n",
       "      <td>-0.931819</td>\n",
       "      <td>0.485868</td>\n",
       "      <td>NaN</td>\n",
       "      <td>-0.463025</td>\n",
       "      <td>-0.139204</td>\n",
       "      <td>-0.868028</td>\n",
       "      <td>0.524039</td>\n",
       "    </tr>\n",
       "    <tr>\n",
       "      <th>13</th>\n",
       "      <td>-0.814143</td>\n",
       "      <td>0.116085</td>\n",
       "      <td>1.014882</td>\n",
       "      <td>0.363713</td>\n",
       "      <td>-0.984820</td>\n",
       "      <td>-0.931819</td>\n",
       "      <td>0.485868</td>\n",
       "      <td>NaN</td>\n",
       "      <td>-0.811460</td>\n",
       "      <td>0.084642</td>\n",
       "      <td>-0.868028</td>\n",
       "      <td>0.575140</td>\n",
       "    </tr>\n",
       "    <tr>\n",
       "      <th>14</th>\n",
       "      <td>-0.814143</td>\n",
       "      <td>0.735203</td>\n",
       "      <td>1.014882</td>\n",
       "      <td>1.946754</td>\n",
       "      <td>-1.246660</td>\n",
       "      <td>-0.931819</td>\n",
       "      <td>0.850497</td>\n",
       "      <td>NaN</td>\n",
       "      <td>-1.607883</td>\n",
       "      <td>0.073449</td>\n",
       "      <td>-0.868028</td>\n",
       "      <td>2.077505</td>\n",
       "    </tr>\n",
       "    <tr>\n",
       "      <th>15</th>\n",
       "      <td>-0.814143</td>\n",
       "      <td>0.735203</td>\n",
       "      <td>1.014882</td>\n",
       "      <td>1.849932</td>\n",
       "      <td>-1.115740</td>\n",
       "      <td>-0.931819</td>\n",
       "      <td>0.996348</td>\n",
       "      <td>NaN</td>\n",
       "      <td>-1.607883</td>\n",
       "      <td>-0.016089</td>\n",
       "      <td>-0.868028</td>\n",
       "      <td>2.255336</td>\n",
       "    </tr>\n",
       "    <tr>\n",
       "      <th>16</th>\n",
       "      <td>-0.814143</td>\n",
       "      <td>0.735203</td>\n",
       "      <td>1.014882</td>\n",
       "      <td>1.688562</td>\n",
       "      <td>-0.685575</td>\n",
       "      <td>-0.931819</td>\n",
       "      <td>1.215126</td>\n",
       "      <td>NaN</td>\n",
       "      <td>-0.894420</td>\n",
       "      <td>-0.239935</td>\n",
       "      <td>-0.868028</td>\n",
       "      <td>2.174596</td>\n",
       "    </tr>\n",
       "    <tr>\n",
       "      <th>17</th>\n",
       "      <td>1.189901</td>\n",
       "      <td>-1.122152</td>\n",
       "      <td>-1.224858</td>\n",
       "      <td>-1.226589</td>\n",
       "      <td>0.904164</td>\n",
       "      <td>0.423554</td>\n",
       "      <td>-1.176840</td>\n",
       "      <td>NaN</td>\n",
       "      <td>2.042389</td>\n",
       "      <td>0.907276</td>\n",
       "      <td>1.116036</td>\n",
       "      <td>-1.039647</td>\n",
       "    </tr>\n",
       "    <tr>\n",
       "      <th>18</th>\n",
       "      <td>1.189901</td>\n",
       "      <td>-0.503034</td>\n",
       "      <td>-1.224858</td>\n",
       "      <td>-1.250795</td>\n",
       "      <td>2.493904</td>\n",
       "      <td>0.423554</td>\n",
       "      <td>-1.381032</td>\n",
       "      <td>NaN</td>\n",
       "      <td>1.710547</td>\n",
       "      <td>0.375641</td>\n",
       "      <td>1.116036</td>\n",
       "      <td>-1.637527</td>\n",
       "    </tr>\n",
       "    <tr>\n",
       "      <th>19</th>\n",
       "      <td>1.189901</td>\n",
       "      <td>-1.122152</td>\n",
       "      <td>-1.224858</td>\n",
       "      <td>-1.287910</td>\n",
       "      <td>1.166004</td>\n",
       "      <td>0.423554</td>\n",
       "      <td>-1.191425</td>\n",
       "      <td>NaN</td>\n",
       "      <td>2.291272</td>\n",
       "      <td>1.147910</td>\n",
       "      <td>1.116036</td>\n",
       "      <td>-1.412683</td>\n",
       "    </tr>\n",
       "    <tr>\n",
       "      <th>20</th>\n",
       "      <td>-0.814143</td>\n",
       "      <td>-1.122152</td>\n",
       "      <td>-1.224858</td>\n",
       "      <td>-0.892553</td>\n",
       "      <td>0.193457</td>\n",
       "      <td>-0.931819</td>\n",
       "      <td>-0.724700</td>\n",
       "      <td>NaN</td>\n",
       "      <td>0.233846</td>\n",
       "      <td>1.209468</td>\n",
       "      <td>1.116036</td>\n",
       "      <td>-0.768812</td>\n",
       "    </tr>\n",
       "    <tr>\n",
       "      <th>21</th>\n",
       "      <td>-0.814143</td>\n",
       "      <td>-0.503034</td>\n",
       "      <td>1.014882</td>\n",
       "      <td>0.704204</td>\n",
       "      <td>-1.564608</td>\n",
       "      <td>-0.931819</td>\n",
       "      <td>0.048313</td>\n",
       "      <td>NaN</td>\n",
       "      <td>-0.761683</td>\n",
       "      <td>-0.547723</td>\n",
       "      <td>-0.868028</td>\n",
       "      <td>0.309416</td>\n",
       "    </tr>\n",
       "    <tr>\n",
       "      <th>22</th>\n",
       "      <td>-0.814143</td>\n",
       "      <td>-0.503034</td>\n",
       "      <td>1.014882</td>\n",
       "      <td>0.591245</td>\n",
       "      <td>-0.835198</td>\n",
       "      <td>-0.931819</td>\n",
       "      <td>0.048313</td>\n",
       "      <td>NaN</td>\n",
       "      <td>-0.811460</td>\n",
       "      <td>-0.307089</td>\n",
       "      <td>-0.868028</td>\n",
       "      <td>0.222544</td>\n",
       "    </tr>\n",
       "    <tr>\n",
       "      <th>23</th>\n",
       "      <td>-0.814143</td>\n",
       "      <td>0.735203</td>\n",
       "      <td>1.014882</td>\n",
       "      <td>0.962396</td>\n",
       "      <td>0.249566</td>\n",
       "      <td>-0.931819</td>\n",
       "      <td>1.433903</td>\n",
       "      <td>NaN</td>\n",
       "      <td>-1.126710</td>\n",
       "      <td>-1.364761</td>\n",
       "      <td>-0.868028</td>\n",
       "      <td>0.636461</td>\n",
       "    </tr>\n",
       "    <tr>\n",
       "      <th>24</th>\n",
       "      <td>-0.814143</td>\n",
       "      <td>-0.503034</td>\n",
       "      <td>1.014882</td>\n",
       "      <td>1.365821</td>\n",
       "      <td>-0.966118</td>\n",
       "      <td>-0.931819</td>\n",
       "      <td>0.412942</td>\n",
       "      <td>NaN</td>\n",
       "      <td>-0.147774</td>\n",
       "      <td>-0.446992</td>\n",
       "      <td>-0.868028</td>\n",
       "      <td>0.641571</td>\n",
       "    </tr>\n",
       "    <tr>\n",
       "      <th>25</th>\n",
       "      <td>1.189901</td>\n",
       "      <td>-1.122152</td>\n",
       "      <td>-1.224858</td>\n",
       "      <td>-1.224169</td>\n",
       "      <td>0.904164</td>\n",
       "      <td>0.423554</td>\n",
       "      <td>-1.176840</td>\n",
       "      <td>NaN</td>\n",
       "      <td>1.196190</td>\n",
       "      <td>0.588295</td>\n",
       "      <td>1.116036</td>\n",
       "      <td>-1.310481</td>\n",
       "    </tr>\n",
       "    <tr>\n",
       "      <th>26</th>\n",
       "      <td>1.189901</td>\n",
       "      <td>-0.503034</td>\n",
       "      <td>-1.224858</td>\n",
       "      <td>-0.890939</td>\n",
       "      <td>1.558763</td>\n",
       "      <td>1.778928</td>\n",
       "      <td>-0.812211</td>\n",
       "      <td>NaN</td>\n",
       "      <td>0.980492</td>\n",
       "      <td>-0.642858</td>\n",
       "      <td>-0.868028</td>\n",
       "      <td>-1.100968</td>\n",
       "    </tr>\n",
       "    <tr>\n",
       "      <th>27</th>\n",
       "      <td>1.189901</td>\n",
       "      <td>-0.503034</td>\n",
       "      <td>-1.224858</td>\n",
       "      <td>-1.094266</td>\n",
       "      <td>0.324377</td>\n",
       "      <td>1.778928</td>\n",
       "      <td>-0.491337</td>\n",
       "      <td>NaN</td>\n",
       "      <td>1.710547</td>\n",
       "      <td>-0.530935</td>\n",
       "      <td>1.116036</td>\n",
       "      <td>-1.741772</td>\n",
       "    </tr>\n",
       "    <tr>\n",
       "      <th>28</th>\n",
       "      <td>1.189901</td>\n",
       "      <td>0.735203</td>\n",
       "      <td>1.014882</td>\n",
       "      <td>0.970465</td>\n",
       "      <td>1.166004</td>\n",
       "      <td>1.778928</td>\n",
       "      <td>1.711021</td>\n",
       "      <td>NaN</td>\n",
       "      <td>-0.711907</td>\n",
       "      <td>-1.874010</td>\n",
       "      <td>-0.868028</td>\n",
       "      <td>-0.048290</td>\n",
       "    </tr>\n",
       "    <tr>\n",
       "      <th>29</th>\n",
       "      <td>1.189901</td>\n",
       "      <td>1.973440</td>\n",
       "      <td>-0.104988</td>\n",
       "      <td>-0.691647</td>\n",
       "      <td>0.043835</td>\n",
       "      <td>1.778928</td>\n",
       "      <td>0.412942</td>\n",
       "      <td>NaN</td>\n",
       "      <td>-0.064813</td>\n",
       "      <td>-1.314395</td>\n",
       "      <td>-0.868028</td>\n",
       "      <td>-0.457097</td>\n",
       "    </tr>\n",
       "    <tr>\n",
       "      <th>30</th>\n",
       "      <td>1.189901</td>\n",
       "      <td>3.211677</td>\n",
       "      <td>1.014882</td>\n",
       "      <td>0.567039</td>\n",
       "      <td>-0.105788</td>\n",
       "      <td>1.778928</td>\n",
       "      <td>2.746567</td>\n",
       "      <td>NaN</td>\n",
       "      <td>-0.844644</td>\n",
       "      <td>-1.818049</td>\n",
       "      <td>-0.868028</td>\n",
       "      <td>0.360516</td>\n",
       "    </tr>\n",
       "    <tr>\n",
       "      <th>31</th>\n",
       "      <td>1.189901</td>\n",
       "      <td>-0.503034</td>\n",
       "      <td>-1.224858</td>\n",
       "      <td>-0.885292</td>\n",
       "      <td>0.960273</td>\n",
       "      <td>0.423554</td>\n",
       "      <td>-0.549678</td>\n",
       "      <td>NaN</td>\n",
       "      <td>0.217253</td>\n",
       "      <td>0.420411</td>\n",
       "      <td>1.116036</td>\n",
       "      <td>-0.446877</td>\n",
       "    </tr>\n",
       "  </tbody>\n",
       "</table>\n",
       "</div>"
      ],
      "text/plain": [
       "          am      carb       cyl      disp      drat      gear        hp  \\\n",
       "0   1.189901  0.735203 -0.104988 -0.570620  0.567514  0.423554 -0.535093   \n",
       "1   1.189901  0.735203 -0.104988 -0.570620  0.567514  0.423554 -0.535093   \n",
       "2   1.189901 -1.122152 -1.224858 -0.990182  0.474000  0.423554 -0.783040   \n",
       "3  -0.814143 -1.122152 -0.104988  0.220094 -0.966118 -0.931819 -0.535093   \n",
       "4  -0.814143 -0.503034  1.014882  1.043081 -0.835198 -0.931819  0.412942   \n",
       "5  -0.814143 -1.122152 -0.104988 -0.046167 -1.564608 -0.931819 -0.608019   \n",
       "6  -0.814143  0.735203  1.014882  1.043081 -0.722981 -0.931819  1.433903   \n",
       "7  -0.814143 -0.503034 -1.224858 -0.677931  0.174754  0.423554 -1.235180   \n",
       "8  -0.814143 -0.503034 -1.224858 -0.725535  0.604919  0.423554 -0.753870   \n",
       "9  -0.814143  0.735203 -0.104988 -0.509299  0.604919  0.423554 -0.345486   \n",
       "10 -0.814143  0.735203 -0.104988 -0.509299  0.604919  0.423554 -0.345486   \n",
       "11 -0.814143  0.116085  1.014882  0.363713 -0.984820 -0.931819  0.485868   \n",
       "12 -0.814143  0.116085  1.014882  0.363713 -0.984820 -0.931819  0.485868   \n",
       "13 -0.814143  0.116085  1.014882  0.363713 -0.984820 -0.931819  0.485868   \n",
       "14 -0.814143  0.735203  1.014882  1.946754 -1.246660 -0.931819  0.850497   \n",
       "15 -0.814143  0.735203  1.014882  1.849932 -1.115740 -0.931819  0.996348   \n",
       "16 -0.814143  0.735203  1.014882  1.688562 -0.685575 -0.931819  1.215126   \n",
       "17  1.189901 -1.122152 -1.224858 -1.226589  0.904164  0.423554 -1.176840   \n",
       "18  1.189901 -0.503034 -1.224858 -1.250795  2.493904  0.423554 -1.381032   \n",
       "19  1.189901 -1.122152 -1.224858 -1.287910  1.166004  0.423554 -1.191425   \n",
       "20 -0.814143 -1.122152 -1.224858 -0.892553  0.193457 -0.931819 -0.724700   \n",
       "21 -0.814143 -0.503034  1.014882  0.704204 -1.564608 -0.931819  0.048313   \n",
       "22 -0.814143 -0.503034  1.014882  0.591245 -0.835198 -0.931819  0.048313   \n",
       "23 -0.814143  0.735203  1.014882  0.962396  0.249566 -0.931819  1.433903   \n",
       "24 -0.814143 -0.503034  1.014882  1.365821 -0.966118 -0.931819  0.412942   \n",
       "25  1.189901 -1.122152 -1.224858 -1.224169  0.904164  0.423554 -1.176840   \n",
       "26  1.189901 -0.503034 -1.224858 -0.890939  1.558763  1.778928 -0.812211   \n",
       "27  1.189901 -0.503034 -1.224858 -1.094266  0.324377  1.778928 -0.491337   \n",
       "28  1.189901  0.735203  1.014882  0.970465  1.166004  1.778928  1.711021   \n",
       "29  1.189901  1.973440 -0.104988 -0.691647  0.043835  1.778928  0.412942   \n",
       "30  1.189901  3.211677  1.014882  0.567039 -0.105788  1.778928  2.746567   \n",
       "31  1.189901 -0.503034 -1.224858 -0.885292  0.960273  0.423554 -0.549678   \n",
       "\n",
       "   model       mpg      qsec        vs        wt  \n",
       "0    NaN  0.150885 -0.777165 -0.868028 -0.610400  \n",
       "1    NaN  0.150885 -0.463781 -0.868028 -0.349785  \n",
       "2    NaN  0.449543  0.426007  1.116036 -0.917005  \n",
       "3    NaN  0.217253  0.890487  1.116036 -0.002300  \n",
       "4    NaN -0.230735 -0.463781 -0.868028  0.227654  \n",
       "5    NaN -0.330287  1.326987  1.116036  0.248095  \n",
       "6    NaN -0.960789 -1.124126 -0.868028  0.360516  \n",
       "7    NaN  0.715018  1.203871  1.116036 -0.027850  \n",
       "8    NaN  0.449543  2.826755  1.116036 -0.068731  \n",
       "9    NaN -0.147774  0.252526  1.116036  0.227654  \n",
       "10   NaN -0.380064  0.588295  1.116036  0.227654  \n",
       "11   NaN -0.612354 -0.251127 -0.868028  0.871525  \n",
       "12   NaN -0.463025 -0.139204 -0.868028  0.524039  \n",
       "13   NaN -0.811460  0.084642 -0.868028  0.575140  \n",
       "14   NaN -1.607883  0.073449 -0.868028  2.077505  \n",
       "15   NaN -1.607883 -0.016089 -0.868028  2.255336  \n",
       "16   NaN -0.894420 -0.239935 -0.868028  2.174596  \n",
       "17   NaN  2.042389  0.907276  1.116036 -1.039647  \n",
       "18   NaN  1.710547  0.375641  1.116036 -1.637527  \n",
       "19   NaN  2.291272  1.147910  1.116036 -1.412683  \n",
       "20   NaN  0.233846  1.209468  1.116036 -0.768812  \n",
       "21   NaN -0.761683 -0.547723 -0.868028  0.309416  \n",
       "22   NaN -0.811460 -0.307089 -0.868028  0.222544  \n",
       "23   NaN -1.126710 -1.364761 -0.868028  0.636461  \n",
       "24   NaN -0.147774 -0.446992 -0.868028  0.641571  \n",
       "25   NaN  1.196190  0.588295  1.116036 -1.310481  \n",
       "26   NaN  0.980492 -0.642858 -0.868028 -1.100968  \n",
       "27   NaN  1.710547 -0.530935  1.116036 -1.741772  \n",
       "28   NaN -0.711907 -1.874010 -0.868028 -0.048290  \n",
       "29   NaN -0.064813 -1.314395 -0.868028 -0.457097  \n",
       "30   NaN -0.844644 -1.818049 -0.868028  0.360516  \n",
       "31   NaN  0.217253  0.420411  1.116036 -0.446877  "
      ]
     },
     "execution_count": 92,
     "metadata": {},
     "output_type": "execute_result"
    }
   ],
   "source": [
    "scale101(df)"
   ]
  },
  {
   "cell_type": "markdown",
   "id": "circular-skating",
   "metadata": {},
   "source": [
    "# break time "
   ]
  },
  {
   "cell_type": "code",
   "execution_count": 93,
   "id": "criminal-checklist",
   "metadata": {},
   "outputs": [],
   "source": [
    "# Loops"
   ]
  },
  {
   "cell_type": "code",
   "execution_count": 94,
   "id": "induced-brazilian",
   "metadata": {},
   "outputs": [],
   "source": [
    "# Iterators: interations\n",
    "# variable\n",
    "# expression"
   ]
  },
  {
   "cell_type": "code",
   "execution_count": 95,
   "id": "dietary-coordinate",
   "metadata": {},
   "outputs": [],
   "source": [
    "# for loops\n",
    "# while loops"
   ]
  },
  {
   "cell_type": "code",
   "execution_count": 96,
   "id": "verified-generic",
   "metadata": {},
   "outputs": [],
   "source": [
    "# partial iterations, break out of a loop\n",
    "# full execution, continue till the end of the loop\n",
    "# infinite loop"
   ]
  },
  {
   "cell_type": "code",
   "execution_count": 97,
   "id": "scientific-duplicate",
   "metadata": {},
   "outputs": [
    {
     "name": "stdout",
     "output_type": "stream",
     "text": [
      "0\n",
      "1\n",
      "2\n",
      "3\n",
      "4\n",
      "5\n",
      "6\n",
      "7\n",
      "8\n",
      "condition satisfied\n"
     ]
    }
   ],
   "source": [
    "i = 0\n",
    "\n",
    "while i < 100:\n",
    "    print(i)\n",
    "    if i*i == 64:\n",
    "        print('condition satisfied')\n",
    "        break\n",
    "    i+=1"
   ]
  },
  {
   "cell_type": "code",
   "execution_count": 98,
   "id": "numerical-profit",
   "metadata": {},
   "outputs": [
    {
     "name": "stdout",
     "output_type": "stream",
     "text": [
      "0\n",
      "1\n",
      "2\n",
      "3\n",
      "4\n",
      "5\n",
      "6\n",
      "7\n",
      "8\n"
     ]
    }
   ],
   "source": [
    "for i in (0,1,2,3,4,5,6,7,8,9,10):\n",
    "    print(i)\n",
    "    if i == 8:\n",
    "        break\n",
    "    "
   ]
  },
  {
   "cell_type": "code",
   "execution_count": 99,
   "id": "superior-birthday",
   "metadata": {},
   "outputs": [
    {
     "name": "stdout",
     "output_type": "stream",
     "text": [
      "0\n",
      "1\n",
      "2\n",
      "3\n",
      "4\n",
      "5\n",
      "6\n",
      "7\n",
      "8\n",
      "9\n",
      "10\n"
     ]
    }
   ],
   "source": [
    "for i in (0,1,2,3,4,5,6,7,8,9,10):\n",
    "    print(i)\n",
    "    if i == 8:\n",
    "        continue"
   ]
  },
  {
   "cell_type": "code",
   "execution_count": 101,
   "id": "lined-chinese",
   "metadata": {},
   "outputs": [],
   "source": [
    "# change the function\n",
    "def outof_loop():\n",
    "    for i in range(10,500):\n",
    "        if(i==40):\n",
    "            return(i)\n",
    "        print(i)\n",
    "        \n",
    "    return(500)"
   ]
  },
  {
   "cell_type": "code",
   "execution_count": 103,
   "id": "united-melissa",
   "metadata": {},
   "outputs": [],
   "source": [
    "# if you have nested loops\n",
    "# change the function\n",
    "def outof_loop123():\n",
    "    for i in range(1,5):\n",
    "        for j in range(1,4):\n",
    "            if i*j == 6:\n",
    "                return(i,j)\n",
    "            print(i*j)"
   ]
  },
  {
   "cell_type": "code",
   "execution_count": 104,
   "id": "international-memory",
   "metadata": {},
   "outputs": [
    {
     "name": "stdout",
     "output_type": "stream",
     "text": [
      "1\n",
      "2\n",
      "3\n",
      "2\n",
      "4\n"
     ]
    },
    {
     "data": {
      "text/plain": [
       "(2, 3)"
      ]
     },
     "execution_count": 104,
     "metadata": {},
     "output_type": "execute_result"
    }
   ],
   "source": [
    "outof_loop123()"
   ]
  },
  {
   "cell_type": "code",
   "execution_count": 105,
   "id": "equipped-penetration",
   "metadata": {},
   "outputs": [
    {
     "data": {
      "text/plain": [
       "True"
      ]
     },
     "execution_count": 105,
     "metadata": {},
     "output_type": "execute_result"
    }
   ],
   "source": [
    "1*1 \n",
    "1*2\n",
    "1*3\n",
    "\n",
    "2*1\n",
    "2*2\n",
    "2*3 == 6"
   ]
  },
  {
   "cell_type": "code",
   "execution_count": 106,
   "id": "finnish-powder",
   "metadata": {},
   "outputs": [
    {
     "data": {
      "text/plain": [
       "[1, 2, 3, 4, 5, 6, 7]"
      ]
     },
     "execution_count": 106,
     "metadata": {},
     "output_type": "execute_result"
    }
   ],
   "source": [
    "list(range(1,8))"
   ]
  },
  {
   "cell_type": "code",
   "execution_count": 107,
   "id": "regulated-nashville",
   "metadata": {},
   "outputs": [],
   "source": [
    "# list comprehesnion is another alternative for For Loop\n",
    "# faster than the for loop"
   ]
  },
  {
   "cell_type": "code",
   "execution_count": 108,
   "id": "contained-monte",
   "metadata": {},
   "outputs": [
    {
     "data": {
      "text/plain": [
       "['Mazda RX4',\n",
       " 'Mazda RX4 Wag',\n",
       " 'Datsun 710',\n",
       " 'Hornet 4 Drive',\n",
       " 'Hornet Sportabout',\n",
       " 'Valiant',\n",
       " 'Duster 360',\n",
       " 'Merc 240D',\n",
       " 'Merc 230',\n",
       " 'Merc 280',\n",
       " 'Merc 280C',\n",
       " 'Merc 450SE',\n",
       " 'Merc 450SL',\n",
       " 'Merc 450SLC',\n",
       " 'Cadillac Fleetwood',\n",
       " 'Lincoln Continental',\n",
       " 'Chrysler Imperial',\n",
       " 'Fiat 128',\n",
       " 'Honda Civic',\n",
       " 'Toyota Corolla',\n",
       " 'Toyota Corona',\n",
       " 'Dodge Challenger',\n",
       " 'AMC Javelin',\n",
       " 'Camaro Z28',\n",
       " 'Pontiac Firebird',\n",
       " 'Fiat X1-9',\n",
       " 'Porsche 914-2',\n",
       " 'Lotus Europa',\n",
       " 'Ford Pantera L',\n",
       " 'Ferrari Dino',\n",
       " 'Maserati Bora',\n",
       " 'Volvo 142E']"
      ]
     },
     "execution_count": 108,
     "metadata": {},
     "output_type": "execute_result"
    }
   ],
   "source": [
    "list(df.model)"
   ]
  },
  {
   "cell_type": "code",
   "execution_count": 109,
   "id": "unnecessary-image",
   "metadata": {},
   "outputs": [
    {
     "name": "stdout",
     "output_type": "stream",
     "text": [
      "Mazda RX4\n",
      "Mazda RX4 Wag\n",
      "Datsun 710\n",
      "Hornet 4 Drive\n",
      "Hornet Sportabout\n",
      "Valiant\n",
      "Duster 360\n",
      "Merc 240D\n",
      "Merc 230\n",
      "Merc 280\n",
      "Merc 280C\n",
      "Merc 450SE\n",
      "Merc 450SL\n",
      "Merc 450SLC\n",
      "Cadillac Fleetwood\n",
      "Lincoln Continental\n",
      "Chrysler Imperial\n",
      "Fiat 128\n",
      "Honda Civic\n",
      "Toyota Corolla\n",
      "Toyota Corona\n",
      "Dodge Challenger\n",
      "AMC Javelin\n",
      "Camaro Z28\n",
      "Pontiac Firebird\n",
      "Fiat X1-9\n",
      "Porsche 914-2\n",
      "Lotus Europa\n",
      "Ford Pantera L\n",
      "Ferrari Dino\n",
      "Maserati Bora\n",
      "Volvo 142E\n"
     ]
    }
   ],
   "source": [
    "for x in list(df.model):\n",
    "    print(x)"
   ]
  },
  {
   "cell_type": "code",
   "execution_count": 110,
   "id": "surgical-pattern",
   "metadata": {},
   "outputs": [
    {
     "name": "stdout",
     "output_type": "stream",
     "text": [
      "0 :: Mazda RX4\n",
      "1 :: Mazda RX4 Wag\n",
      "2 :: Datsun 710\n",
      "3 :: Hornet 4 Drive\n",
      "4 :: Hornet Sportabout\n",
      "5 :: Valiant\n",
      "6 :: Duster 360\n",
      "7 :: Merc 240D\n",
      "8 :: Merc 230\n",
      "9 :: Merc 280\n",
      "10 :: Merc 280C\n",
      "11 :: Merc 450SE\n",
      "12 :: Merc 450SL\n",
      "13 :: Merc 450SLC\n",
      "14 :: Cadillac Fleetwood\n",
      "15 :: Lincoln Continental\n",
      "16 :: Chrysler Imperial\n",
      "17 :: Fiat 128\n",
      "18 :: Honda Civic\n",
      "19 :: Toyota Corolla\n",
      "20 :: Toyota Corona\n",
      "21 :: Dodge Challenger\n",
      "22 :: AMC Javelin\n",
      "23 :: Camaro Z28\n",
      "24 :: Pontiac Firebird\n",
      "25 :: Fiat X1-9\n",
      "26 :: Porsche 914-2\n",
      "27 :: Lotus Europa\n",
      "28 :: Ford Pantera L\n",
      "29 :: Ferrari Dino\n",
      "30 :: Maserati Bora\n",
      "31 :: Volvo 142E\n"
     ]
    }
   ],
   "source": [
    "for index, item in enumerate(list(df.model)):\n",
    "    print(index,\"::\", item)\n",
    "\n",
    "# enumerate function generates tuples "
   ]
  },
  {
   "cell_type": "code",
   "execution_count": 111,
   "id": "defined-denial",
   "metadata": {},
   "outputs": [],
   "source": [
    "# any manipultion by index over the list of elements can be done using map and lambda function"
   ]
  },
  {
   "cell_type": "code",
   "execution_count": 112,
   "id": "potential-tactics",
   "metadata": {},
   "outputs": [
    {
     "data": {
      "text/plain": [
       "True"
      ]
     },
     "execution_count": 112,
     "metadata": {},
     "output_type": "execute_result"
    }
   ],
   "source": [
    "'Merc 230' in list(df.model)"
   ]
  },
  {
   "cell_type": "code",
   "execution_count": 113,
   "id": "terminal-somerset",
   "metadata": {},
   "outputs": [],
   "source": [
    "# to perform search we need to normalize the text"
   ]
  },
  {
   "cell_type": "code",
   "execution_count": 114,
   "id": "selective-gnome",
   "metadata": {},
   "outputs": [
    {
     "data": {
      "text/plain": [
       "'MAZDA RX4'"
      ]
     },
     "execution_count": 114,
     "metadata": {},
     "output_type": "execute_result"
    }
   ],
   "source": [
    "list(df.model)[0].upper()"
   ]
  },
  {
   "cell_type": "code",
   "execution_count": 115,
   "id": "protective-junior",
   "metadata": {},
   "outputs": [
    {
     "name": "stdout",
     "output_type": "stream",
     "text": [
      "<map object at 0x7feea7bbf970>\n"
     ]
    }
   ],
   "source": [
    "x = map(lambda e: e.upper(),list(df.model))\n",
    "print(x)"
   ]
  },
  {
   "cell_type": "code",
   "execution_count": 116,
   "id": "desirable-dependence",
   "metadata": {},
   "outputs": [],
   "source": [
    "dd = list(x)"
   ]
  },
  {
   "cell_type": "code",
   "execution_count": 117,
   "id": "brief-worse",
   "metadata": {},
   "outputs": [],
   "source": [
    "df['Model123'] = list(map(lambda e: e.upper(),list(df.model)))"
   ]
  },
  {
   "cell_type": "code",
   "execution_count": 118,
   "id": "straight-greeting",
   "metadata": {},
   "outputs": [
    {
     "data": {
      "text/html": [
       "<div>\n",
       "<style scoped>\n",
       "    .dataframe tbody tr th:only-of-type {\n",
       "        vertical-align: middle;\n",
       "    }\n",
       "\n",
       "    .dataframe tbody tr th {\n",
       "        vertical-align: top;\n",
       "    }\n",
       "\n",
       "    .dataframe thead th {\n",
       "        text-align: right;\n",
       "    }\n",
       "</style>\n",
       "<table border=\"1\" class=\"dataframe\">\n",
       "  <thead>\n",
       "    <tr style=\"text-align: right;\">\n",
       "      <th></th>\n",
       "      <th>model</th>\n",
       "      <th>mpg</th>\n",
       "      <th>cyl</th>\n",
       "      <th>disp</th>\n",
       "      <th>hp</th>\n",
       "      <th>drat</th>\n",
       "      <th>wt</th>\n",
       "      <th>qsec</th>\n",
       "      <th>vs</th>\n",
       "      <th>am</th>\n",
       "      <th>gear</th>\n",
       "      <th>carb</th>\n",
       "      <th>Model123</th>\n",
       "    </tr>\n",
       "  </thead>\n",
       "  <tbody>\n",
       "    <tr>\n",
       "      <th>0</th>\n",
       "      <td>Mazda RX4</td>\n",
       "      <td>21.0</td>\n",
       "      <td>6</td>\n",
       "      <td>160.0</td>\n",
       "      <td>110</td>\n",
       "      <td>3.90</td>\n",
       "      <td>2.620</td>\n",
       "      <td>16.46</td>\n",
       "      <td>0</td>\n",
       "      <td>1</td>\n",
       "      <td>4</td>\n",
       "      <td>4</td>\n",
       "      <td>MAZDA RX4</td>\n",
       "    </tr>\n",
       "    <tr>\n",
       "      <th>1</th>\n",
       "      <td>Mazda RX4 Wag</td>\n",
       "      <td>21.0</td>\n",
       "      <td>6</td>\n",
       "      <td>160.0</td>\n",
       "      <td>110</td>\n",
       "      <td>3.90</td>\n",
       "      <td>2.875</td>\n",
       "      <td>17.02</td>\n",
       "      <td>0</td>\n",
       "      <td>1</td>\n",
       "      <td>4</td>\n",
       "      <td>4</td>\n",
       "      <td>MAZDA RX4 WAG</td>\n",
       "    </tr>\n",
       "    <tr>\n",
       "      <th>2</th>\n",
       "      <td>Datsun 710</td>\n",
       "      <td>22.8</td>\n",
       "      <td>4</td>\n",
       "      <td>108.0</td>\n",
       "      <td>93</td>\n",
       "      <td>3.85</td>\n",
       "      <td>2.320</td>\n",
       "      <td>18.61</td>\n",
       "      <td>1</td>\n",
       "      <td>1</td>\n",
       "      <td>4</td>\n",
       "      <td>1</td>\n",
       "      <td>DATSUN 710</td>\n",
       "    </tr>\n",
       "    <tr>\n",
       "      <th>3</th>\n",
       "      <td>Hornet 4 Drive</td>\n",
       "      <td>21.4</td>\n",
       "      <td>6</td>\n",
       "      <td>258.0</td>\n",
       "      <td>110</td>\n",
       "      <td>3.08</td>\n",
       "      <td>3.215</td>\n",
       "      <td>19.44</td>\n",
       "      <td>1</td>\n",
       "      <td>0</td>\n",
       "      <td>3</td>\n",
       "      <td>1</td>\n",
       "      <td>HORNET 4 DRIVE</td>\n",
       "    </tr>\n",
       "    <tr>\n",
       "      <th>4</th>\n",
       "      <td>Hornet Sportabout</td>\n",
       "      <td>18.7</td>\n",
       "      <td>8</td>\n",
       "      <td>360.0</td>\n",
       "      <td>175</td>\n",
       "      <td>3.15</td>\n",
       "      <td>3.440</td>\n",
       "      <td>17.02</td>\n",
       "      <td>0</td>\n",
       "      <td>0</td>\n",
       "      <td>3</td>\n",
       "      <td>2</td>\n",
       "      <td>HORNET SPORTABOUT</td>\n",
       "    </tr>\n",
       "    <tr>\n",
       "      <th>5</th>\n",
       "      <td>Valiant</td>\n",
       "      <td>18.1</td>\n",
       "      <td>6</td>\n",
       "      <td>225.0</td>\n",
       "      <td>105</td>\n",
       "      <td>2.76</td>\n",
       "      <td>3.460</td>\n",
       "      <td>20.22</td>\n",
       "      <td>1</td>\n",
       "      <td>0</td>\n",
       "      <td>3</td>\n",
       "      <td>1</td>\n",
       "      <td>VALIANT</td>\n",
       "    </tr>\n",
       "    <tr>\n",
       "      <th>6</th>\n",
       "      <td>Duster 360</td>\n",
       "      <td>14.3</td>\n",
       "      <td>8</td>\n",
       "      <td>360.0</td>\n",
       "      <td>245</td>\n",
       "      <td>3.21</td>\n",
       "      <td>3.570</td>\n",
       "      <td>15.84</td>\n",
       "      <td>0</td>\n",
       "      <td>0</td>\n",
       "      <td>3</td>\n",
       "      <td>4</td>\n",
       "      <td>DUSTER 360</td>\n",
       "    </tr>\n",
       "    <tr>\n",
       "      <th>7</th>\n",
       "      <td>Merc 240D</td>\n",
       "      <td>24.4</td>\n",
       "      <td>4</td>\n",
       "      <td>146.7</td>\n",
       "      <td>62</td>\n",
       "      <td>3.69</td>\n",
       "      <td>3.190</td>\n",
       "      <td>20.00</td>\n",
       "      <td>1</td>\n",
       "      <td>0</td>\n",
       "      <td>4</td>\n",
       "      <td>2</td>\n",
       "      <td>MERC 240D</td>\n",
       "    </tr>\n",
       "    <tr>\n",
       "      <th>8</th>\n",
       "      <td>Merc 230</td>\n",
       "      <td>22.8</td>\n",
       "      <td>4</td>\n",
       "      <td>140.8</td>\n",
       "      <td>95</td>\n",
       "      <td>3.92</td>\n",
       "      <td>3.150</td>\n",
       "      <td>22.90</td>\n",
       "      <td>1</td>\n",
       "      <td>0</td>\n",
       "      <td>4</td>\n",
       "      <td>2</td>\n",
       "      <td>MERC 230</td>\n",
       "    </tr>\n",
       "    <tr>\n",
       "      <th>9</th>\n",
       "      <td>Merc 280</td>\n",
       "      <td>19.2</td>\n",
       "      <td>6</td>\n",
       "      <td>167.6</td>\n",
       "      <td>123</td>\n",
       "      <td>3.92</td>\n",
       "      <td>3.440</td>\n",
       "      <td>18.30</td>\n",
       "      <td>1</td>\n",
       "      <td>0</td>\n",
       "      <td>4</td>\n",
       "      <td>4</td>\n",
       "      <td>MERC 280</td>\n",
       "    </tr>\n",
       "    <tr>\n",
       "      <th>10</th>\n",
       "      <td>Merc 280C</td>\n",
       "      <td>17.8</td>\n",
       "      <td>6</td>\n",
       "      <td>167.6</td>\n",
       "      <td>123</td>\n",
       "      <td>3.92</td>\n",
       "      <td>3.440</td>\n",
       "      <td>18.90</td>\n",
       "      <td>1</td>\n",
       "      <td>0</td>\n",
       "      <td>4</td>\n",
       "      <td>4</td>\n",
       "      <td>MERC 280C</td>\n",
       "    </tr>\n",
       "    <tr>\n",
       "      <th>11</th>\n",
       "      <td>Merc 450SE</td>\n",
       "      <td>16.4</td>\n",
       "      <td>8</td>\n",
       "      <td>275.8</td>\n",
       "      <td>180</td>\n",
       "      <td>3.07</td>\n",
       "      <td>4.070</td>\n",
       "      <td>17.40</td>\n",
       "      <td>0</td>\n",
       "      <td>0</td>\n",
       "      <td>3</td>\n",
       "      <td>3</td>\n",
       "      <td>MERC 450SE</td>\n",
       "    </tr>\n",
       "    <tr>\n",
       "      <th>12</th>\n",
       "      <td>Merc 450SL</td>\n",
       "      <td>17.3</td>\n",
       "      <td>8</td>\n",
       "      <td>275.8</td>\n",
       "      <td>180</td>\n",
       "      <td>3.07</td>\n",
       "      <td>3.730</td>\n",
       "      <td>17.60</td>\n",
       "      <td>0</td>\n",
       "      <td>0</td>\n",
       "      <td>3</td>\n",
       "      <td>3</td>\n",
       "      <td>MERC 450SL</td>\n",
       "    </tr>\n",
       "    <tr>\n",
       "      <th>13</th>\n",
       "      <td>Merc 450SLC</td>\n",
       "      <td>15.2</td>\n",
       "      <td>8</td>\n",
       "      <td>275.8</td>\n",
       "      <td>180</td>\n",
       "      <td>3.07</td>\n",
       "      <td>3.780</td>\n",
       "      <td>18.00</td>\n",
       "      <td>0</td>\n",
       "      <td>0</td>\n",
       "      <td>3</td>\n",
       "      <td>3</td>\n",
       "      <td>MERC 450SLC</td>\n",
       "    </tr>\n",
       "    <tr>\n",
       "      <th>14</th>\n",
       "      <td>Cadillac Fleetwood</td>\n",
       "      <td>10.4</td>\n",
       "      <td>8</td>\n",
       "      <td>472.0</td>\n",
       "      <td>205</td>\n",
       "      <td>2.93</td>\n",
       "      <td>5.250</td>\n",
       "      <td>17.98</td>\n",
       "      <td>0</td>\n",
       "      <td>0</td>\n",
       "      <td>3</td>\n",
       "      <td>4</td>\n",
       "      <td>CADILLAC FLEETWOOD</td>\n",
       "    </tr>\n",
       "    <tr>\n",
       "      <th>15</th>\n",
       "      <td>Lincoln Continental</td>\n",
       "      <td>10.4</td>\n",
       "      <td>8</td>\n",
       "      <td>460.0</td>\n",
       "      <td>215</td>\n",
       "      <td>3.00</td>\n",
       "      <td>5.424</td>\n",
       "      <td>17.82</td>\n",
       "      <td>0</td>\n",
       "      <td>0</td>\n",
       "      <td>3</td>\n",
       "      <td>4</td>\n",
       "      <td>LINCOLN CONTINENTAL</td>\n",
       "    </tr>\n",
       "    <tr>\n",
       "      <th>16</th>\n",
       "      <td>Chrysler Imperial</td>\n",
       "      <td>14.7</td>\n",
       "      <td>8</td>\n",
       "      <td>440.0</td>\n",
       "      <td>230</td>\n",
       "      <td>3.23</td>\n",
       "      <td>5.345</td>\n",
       "      <td>17.42</td>\n",
       "      <td>0</td>\n",
       "      <td>0</td>\n",
       "      <td>3</td>\n",
       "      <td>4</td>\n",
       "      <td>CHRYSLER IMPERIAL</td>\n",
       "    </tr>\n",
       "    <tr>\n",
       "      <th>17</th>\n",
       "      <td>Fiat 128</td>\n",
       "      <td>32.4</td>\n",
       "      <td>4</td>\n",
       "      <td>78.7</td>\n",
       "      <td>66</td>\n",
       "      <td>4.08</td>\n",
       "      <td>2.200</td>\n",
       "      <td>19.47</td>\n",
       "      <td>1</td>\n",
       "      <td>1</td>\n",
       "      <td>4</td>\n",
       "      <td>1</td>\n",
       "      <td>FIAT 128</td>\n",
       "    </tr>\n",
       "    <tr>\n",
       "      <th>18</th>\n",
       "      <td>Honda Civic</td>\n",
       "      <td>30.4</td>\n",
       "      <td>4</td>\n",
       "      <td>75.7</td>\n",
       "      <td>52</td>\n",
       "      <td>4.93</td>\n",
       "      <td>1.615</td>\n",
       "      <td>18.52</td>\n",
       "      <td>1</td>\n",
       "      <td>1</td>\n",
       "      <td>4</td>\n",
       "      <td>2</td>\n",
       "      <td>HONDA CIVIC</td>\n",
       "    </tr>\n",
       "    <tr>\n",
       "      <th>19</th>\n",
       "      <td>Toyota Corolla</td>\n",
       "      <td>33.9</td>\n",
       "      <td>4</td>\n",
       "      <td>71.1</td>\n",
       "      <td>65</td>\n",
       "      <td>4.22</td>\n",
       "      <td>1.835</td>\n",
       "      <td>19.90</td>\n",
       "      <td>1</td>\n",
       "      <td>1</td>\n",
       "      <td>4</td>\n",
       "      <td>1</td>\n",
       "      <td>TOYOTA COROLLA</td>\n",
       "    </tr>\n",
       "    <tr>\n",
       "      <th>20</th>\n",
       "      <td>Toyota Corona</td>\n",
       "      <td>21.5</td>\n",
       "      <td>4</td>\n",
       "      <td>120.1</td>\n",
       "      <td>97</td>\n",
       "      <td>3.70</td>\n",
       "      <td>2.465</td>\n",
       "      <td>20.01</td>\n",
       "      <td>1</td>\n",
       "      <td>0</td>\n",
       "      <td>3</td>\n",
       "      <td>1</td>\n",
       "      <td>TOYOTA CORONA</td>\n",
       "    </tr>\n",
       "    <tr>\n",
       "      <th>21</th>\n",
       "      <td>Dodge Challenger</td>\n",
       "      <td>15.5</td>\n",
       "      <td>8</td>\n",
       "      <td>318.0</td>\n",
       "      <td>150</td>\n",
       "      <td>2.76</td>\n",
       "      <td>3.520</td>\n",
       "      <td>16.87</td>\n",
       "      <td>0</td>\n",
       "      <td>0</td>\n",
       "      <td>3</td>\n",
       "      <td>2</td>\n",
       "      <td>DODGE CHALLENGER</td>\n",
       "    </tr>\n",
       "    <tr>\n",
       "      <th>22</th>\n",
       "      <td>AMC Javelin</td>\n",
       "      <td>15.2</td>\n",
       "      <td>8</td>\n",
       "      <td>304.0</td>\n",
       "      <td>150</td>\n",
       "      <td>3.15</td>\n",
       "      <td>3.435</td>\n",
       "      <td>17.30</td>\n",
       "      <td>0</td>\n",
       "      <td>0</td>\n",
       "      <td>3</td>\n",
       "      <td>2</td>\n",
       "      <td>AMC JAVELIN</td>\n",
       "    </tr>\n",
       "    <tr>\n",
       "      <th>23</th>\n",
       "      <td>Camaro Z28</td>\n",
       "      <td>13.3</td>\n",
       "      <td>8</td>\n",
       "      <td>350.0</td>\n",
       "      <td>245</td>\n",
       "      <td>3.73</td>\n",
       "      <td>3.840</td>\n",
       "      <td>15.41</td>\n",
       "      <td>0</td>\n",
       "      <td>0</td>\n",
       "      <td>3</td>\n",
       "      <td>4</td>\n",
       "      <td>CAMARO Z28</td>\n",
       "    </tr>\n",
       "    <tr>\n",
       "      <th>24</th>\n",
       "      <td>Pontiac Firebird</td>\n",
       "      <td>19.2</td>\n",
       "      <td>8</td>\n",
       "      <td>400.0</td>\n",
       "      <td>175</td>\n",
       "      <td>3.08</td>\n",
       "      <td>3.845</td>\n",
       "      <td>17.05</td>\n",
       "      <td>0</td>\n",
       "      <td>0</td>\n",
       "      <td>3</td>\n",
       "      <td>2</td>\n",
       "      <td>PONTIAC FIREBIRD</td>\n",
       "    </tr>\n",
       "    <tr>\n",
       "      <th>25</th>\n",
       "      <td>Fiat X1-9</td>\n",
       "      <td>27.3</td>\n",
       "      <td>4</td>\n",
       "      <td>79.0</td>\n",
       "      <td>66</td>\n",
       "      <td>4.08</td>\n",
       "      <td>1.935</td>\n",
       "      <td>18.90</td>\n",
       "      <td>1</td>\n",
       "      <td>1</td>\n",
       "      <td>4</td>\n",
       "      <td>1</td>\n",
       "      <td>FIAT X1-9</td>\n",
       "    </tr>\n",
       "    <tr>\n",
       "      <th>26</th>\n",
       "      <td>Porsche 914-2</td>\n",
       "      <td>26.0</td>\n",
       "      <td>4</td>\n",
       "      <td>120.3</td>\n",
       "      <td>91</td>\n",
       "      <td>4.43</td>\n",
       "      <td>2.140</td>\n",
       "      <td>16.70</td>\n",
       "      <td>0</td>\n",
       "      <td>1</td>\n",
       "      <td>5</td>\n",
       "      <td>2</td>\n",
       "      <td>PORSCHE 914-2</td>\n",
       "    </tr>\n",
       "    <tr>\n",
       "      <th>27</th>\n",
       "      <td>Lotus Europa</td>\n",
       "      <td>30.4</td>\n",
       "      <td>4</td>\n",
       "      <td>95.1</td>\n",
       "      <td>113</td>\n",
       "      <td>3.77</td>\n",
       "      <td>1.513</td>\n",
       "      <td>16.90</td>\n",
       "      <td>1</td>\n",
       "      <td>1</td>\n",
       "      <td>5</td>\n",
       "      <td>2</td>\n",
       "      <td>LOTUS EUROPA</td>\n",
       "    </tr>\n",
       "    <tr>\n",
       "      <th>28</th>\n",
       "      <td>Ford Pantera L</td>\n",
       "      <td>15.8</td>\n",
       "      <td>8</td>\n",
       "      <td>351.0</td>\n",
       "      <td>264</td>\n",
       "      <td>4.22</td>\n",
       "      <td>3.170</td>\n",
       "      <td>14.50</td>\n",
       "      <td>0</td>\n",
       "      <td>1</td>\n",
       "      <td>5</td>\n",
       "      <td>4</td>\n",
       "      <td>FORD PANTERA L</td>\n",
       "    </tr>\n",
       "    <tr>\n",
       "      <th>29</th>\n",
       "      <td>Ferrari Dino</td>\n",
       "      <td>19.7</td>\n",
       "      <td>6</td>\n",
       "      <td>145.0</td>\n",
       "      <td>175</td>\n",
       "      <td>3.62</td>\n",
       "      <td>2.770</td>\n",
       "      <td>15.50</td>\n",
       "      <td>0</td>\n",
       "      <td>1</td>\n",
       "      <td>5</td>\n",
       "      <td>6</td>\n",
       "      <td>FERRARI DINO</td>\n",
       "    </tr>\n",
       "    <tr>\n",
       "      <th>30</th>\n",
       "      <td>Maserati Bora</td>\n",
       "      <td>15.0</td>\n",
       "      <td>8</td>\n",
       "      <td>301.0</td>\n",
       "      <td>335</td>\n",
       "      <td>3.54</td>\n",
       "      <td>3.570</td>\n",
       "      <td>14.60</td>\n",
       "      <td>0</td>\n",
       "      <td>1</td>\n",
       "      <td>5</td>\n",
       "      <td>8</td>\n",
       "      <td>MASERATI BORA</td>\n",
       "    </tr>\n",
       "    <tr>\n",
       "      <th>31</th>\n",
       "      <td>Volvo 142E</td>\n",
       "      <td>21.4</td>\n",
       "      <td>4</td>\n",
       "      <td>121.0</td>\n",
       "      <td>109</td>\n",
       "      <td>4.11</td>\n",
       "      <td>2.780</td>\n",
       "      <td>18.60</td>\n",
       "      <td>1</td>\n",
       "      <td>1</td>\n",
       "      <td>4</td>\n",
       "      <td>2</td>\n",
       "      <td>VOLVO 142E</td>\n",
       "    </tr>\n",
       "  </tbody>\n",
       "</table>\n",
       "</div>"
      ],
      "text/plain": [
       "                  model   mpg  cyl   disp   hp  drat     wt   qsec  vs  am  \\\n",
       "0             Mazda RX4  21.0    6  160.0  110  3.90  2.620  16.46   0   1   \n",
       "1         Mazda RX4 Wag  21.0    6  160.0  110  3.90  2.875  17.02   0   1   \n",
       "2            Datsun 710  22.8    4  108.0   93  3.85  2.320  18.61   1   1   \n",
       "3        Hornet 4 Drive  21.4    6  258.0  110  3.08  3.215  19.44   1   0   \n",
       "4     Hornet Sportabout  18.7    8  360.0  175  3.15  3.440  17.02   0   0   \n",
       "5               Valiant  18.1    6  225.0  105  2.76  3.460  20.22   1   0   \n",
       "6            Duster 360  14.3    8  360.0  245  3.21  3.570  15.84   0   0   \n",
       "7             Merc 240D  24.4    4  146.7   62  3.69  3.190  20.00   1   0   \n",
       "8              Merc 230  22.8    4  140.8   95  3.92  3.150  22.90   1   0   \n",
       "9              Merc 280  19.2    6  167.6  123  3.92  3.440  18.30   1   0   \n",
       "10            Merc 280C  17.8    6  167.6  123  3.92  3.440  18.90   1   0   \n",
       "11           Merc 450SE  16.4    8  275.8  180  3.07  4.070  17.40   0   0   \n",
       "12           Merc 450SL  17.3    8  275.8  180  3.07  3.730  17.60   0   0   \n",
       "13          Merc 450SLC  15.2    8  275.8  180  3.07  3.780  18.00   0   0   \n",
       "14   Cadillac Fleetwood  10.4    8  472.0  205  2.93  5.250  17.98   0   0   \n",
       "15  Lincoln Continental  10.4    8  460.0  215  3.00  5.424  17.82   0   0   \n",
       "16    Chrysler Imperial  14.7    8  440.0  230  3.23  5.345  17.42   0   0   \n",
       "17             Fiat 128  32.4    4   78.7   66  4.08  2.200  19.47   1   1   \n",
       "18          Honda Civic  30.4    4   75.7   52  4.93  1.615  18.52   1   1   \n",
       "19       Toyota Corolla  33.9    4   71.1   65  4.22  1.835  19.90   1   1   \n",
       "20        Toyota Corona  21.5    4  120.1   97  3.70  2.465  20.01   1   0   \n",
       "21     Dodge Challenger  15.5    8  318.0  150  2.76  3.520  16.87   0   0   \n",
       "22          AMC Javelin  15.2    8  304.0  150  3.15  3.435  17.30   0   0   \n",
       "23           Camaro Z28  13.3    8  350.0  245  3.73  3.840  15.41   0   0   \n",
       "24     Pontiac Firebird  19.2    8  400.0  175  3.08  3.845  17.05   0   0   \n",
       "25            Fiat X1-9  27.3    4   79.0   66  4.08  1.935  18.90   1   1   \n",
       "26        Porsche 914-2  26.0    4  120.3   91  4.43  2.140  16.70   0   1   \n",
       "27         Lotus Europa  30.4    4   95.1  113  3.77  1.513  16.90   1   1   \n",
       "28       Ford Pantera L  15.8    8  351.0  264  4.22  3.170  14.50   0   1   \n",
       "29         Ferrari Dino  19.7    6  145.0  175  3.62  2.770  15.50   0   1   \n",
       "30        Maserati Bora  15.0    8  301.0  335  3.54  3.570  14.60   0   1   \n",
       "31           Volvo 142E  21.4    4  121.0  109  4.11  2.780  18.60   1   1   \n",
       "\n",
       "    gear  carb             Model123  \n",
       "0      4     4            MAZDA RX4  \n",
       "1      4     4        MAZDA RX4 WAG  \n",
       "2      4     1           DATSUN 710  \n",
       "3      3     1       HORNET 4 DRIVE  \n",
       "4      3     2    HORNET SPORTABOUT  \n",
       "5      3     1              VALIANT  \n",
       "6      3     4           DUSTER 360  \n",
       "7      4     2            MERC 240D  \n",
       "8      4     2             MERC 230  \n",
       "9      4     4             MERC 280  \n",
       "10     4     4            MERC 280C  \n",
       "11     3     3           MERC 450SE  \n",
       "12     3     3           MERC 450SL  \n",
       "13     3     3          MERC 450SLC  \n",
       "14     3     4   CADILLAC FLEETWOOD  \n",
       "15     3     4  LINCOLN CONTINENTAL  \n",
       "16     3     4    CHRYSLER IMPERIAL  \n",
       "17     4     1             FIAT 128  \n",
       "18     4     2          HONDA CIVIC  \n",
       "19     4     1       TOYOTA COROLLA  \n",
       "20     3     1        TOYOTA CORONA  \n",
       "21     3     2     DODGE CHALLENGER  \n",
       "22     3     2          AMC JAVELIN  \n",
       "23     3     4           CAMARO Z28  \n",
       "24     3     2     PONTIAC FIREBIRD  \n",
       "25     4     1            FIAT X1-9  \n",
       "26     5     2        PORSCHE 914-2  \n",
       "27     5     2         LOTUS EUROPA  \n",
       "28     5     4       FORD PANTERA L  \n",
       "29     5     6         FERRARI DINO  \n",
       "30     5     8        MASERATI BORA  \n",
       "31     4     2           VOLVO 142E  "
      ]
     },
     "execution_count": 118,
     "metadata": {},
     "output_type": "execute_result"
    }
   ],
   "source": [
    "df"
   ]
  },
  {
   "cell_type": "code",
   "execution_count": 119,
   "id": "through-president",
   "metadata": {},
   "outputs": [],
   "source": [
    "del df['model']"
   ]
  },
  {
   "cell_type": "code",
   "execution_count": 120,
   "id": "surprising-field",
   "metadata": {},
   "outputs": [],
   "source": [
    "del df['Model123']"
   ]
  },
  {
   "cell_type": "code",
   "execution_count": 121,
   "id": "ultimate-telling",
   "metadata": {},
   "outputs": [
    {
     "data": {
      "text/html": [
       "<div>\n",
       "<style scoped>\n",
       "    .dataframe tbody tr th:only-of-type {\n",
       "        vertical-align: middle;\n",
       "    }\n",
       "\n",
       "    .dataframe tbody tr th {\n",
       "        vertical-align: top;\n",
       "    }\n",
       "\n",
       "    .dataframe thead th {\n",
       "        text-align: right;\n",
       "    }\n",
       "</style>\n",
       "<table border=\"1\" class=\"dataframe\">\n",
       "  <thead>\n",
       "    <tr style=\"text-align: right;\">\n",
       "      <th></th>\n",
       "      <th>mpg</th>\n",
       "      <th>cyl</th>\n",
       "      <th>disp</th>\n",
       "      <th>hp</th>\n",
       "      <th>drat</th>\n",
       "      <th>wt</th>\n",
       "      <th>qsec</th>\n",
       "      <th>vs</th>\n",
       "      <th>am</th>\n",
       "      <th>gear</th>\n",
       "      <th>carb</th>\n",
       "    </tr>\n",
       "  </thead>\n",
       "  <tbody>\n",
       "    <tr>\n",
       "      <th>0</th>\n",
       "      <td>21.0</td>\n",
       "      <td>6</td>\n",
       "      <td>160.0</td>\n",
       "      <td>110</td>\n",
       "      <td>3.90</td>\n",
       "      <td>2.620</td>\n",
       "      <td>16.46</td>\n",
       "      <td>0</td>\n",
       "      <td>1</td>\n",
       "      <td>4</td>\n",
       "      <td>4</td>\n",
       "    </tr>\n",
       "    <tr>\n",
       "      <th>1</th>\n",
       "      <td>21.0</td>\n",
       "      <td>6</td>\n",
       "      <td>160.0</td>\n",
       "      <td>110</td>\n",
       "      <td>3.90</td>\n",
       "      <td>2.875</td>\n",
       "      <td>17.02</td>\n",
       "      <td>0</td>\n",
       "      <td>1</td>\n",
       "      <td>4</td>\n",
       "      <td>4</td>\n",
       "    </tr>\n",
       "    <tr>\n",
       "      <th>2</th>\n",
       "      <td>22.8</td>\n",
       "      <td>4</td>\n",
       "      <td>108.0</td>\n",
       "      <td>93</td>\n",
       "      <td>3.85</td>\n",
       "      <td>2.320</td>\n",
       "      <td>18.61</td>\n",
       "      <td>1</td>\n",
       "      <td>1</td>\n",
       "      <td>4</td>\n",
       "      <td>1</td>\n",
       "    </tr>\n",
       "    <tr>\n",
       "      <th>3</th>\n",
       "      <td>21.4</td>\n",
       "      <td>6</td>\n",
       "      <td>258.0</td>\n",
       "      <td>110</td>\n",
       "      <td>3.08</td>\n",
       "      <td>3.215</td>\n",
       "      <td>19.44</td>\n",
       "      <td>1</td>\n",
       "      <td>0</td>\n",
       "      <td>3</td>\n",
       "      <td>1</td>\n",
       "    </tr>\n",
       "    <tr>\n",
       "      <th>4</th>\n",
       "      <td>18.7</td>\n",
       "      <td>8</td>\n",
       "      <td>360.0</td>\n",
       "      <td>175</td>\n",
       "      <td>3.15</td>\n",
       "      <td>3.440</td>\n",
       "      <td>17.02</td>\n",
       "      <td>0</td>\n",
       "      <td>0</td>\n",
       "      <td>3</td>\n",
       "      <td>2</td>\n",
       "    </tr>\n",
       "    <tr>\n",
       "      <th>5</th>\n",
       "      <td>18.1</td>\n",
       "      <td>6</td>\n",
       "      <td>225.0</td>\n",
       "      <td>105</td>\n",
       "      <td>2.76</td>\n",
       "      <td>3.460</td>\n",
       "      <td>20.22</td>\n",
       "      <td>1</td>\n",
       "      <td>0</td>\n",
       "      <td>3</td>\n",
       "      <td>1</td>\n",
       "    </tr>\n",
       "    <tr>\n",
       "      <th>6</th>\n",
       "      <td>14.3</td>\n",
       "      <td>8</td>\n",
       "      <td>360.0</td>\n",
       "      <td>245</td>\n",
       "      <td>3.21</td>\n",
       "      <td>3.570</td>\n",
       "      <td>15.84</td>\n",
       "      <td>0</td>\n",
       "      <td>0</td>\n",
       "      <td>3</td>\n",
       "      <td>4</td>\n",
       "    </tr>\n",
       "    <tr>\n",
       "      <th>7</th>\n",
       "      <td>24.4</td>\n",
       "      <td>4</td>\n",
       "      <td>146.7</td>\n",
       "      <td>62</td>\n",
       "      <td>3.69</td>\n",
       "      <td>3.190</td>\n",
       "      <td>20.00</td>\n",
       "      <td>1</td>\n",
       "      <td>0</td>\n",
       "      <td>4</td>\n",
       "      <td>2</td>\n",
       "    </tr>\n",
       "    <tr>\n",
       "      <th>8</th>\n",
       "      <td>22.8</td>\n",
       "      <td>4</td>\n",
       "      <td>140.8</td>\n",
       "      <td>95</td>\n",
       "      <td>3.92</td>\n",
       "      <td>3.150</td>\n",
       "      <td>22.90</td>\n",
       "      <td>1</td>\n",
       "      <td>0</td>\n",
       "      <td>4</td>\n",
       "      <td>2</td>\n",
       "    </tr>\n",
       "    <tr>\n",
       "      <th>9</th>\n",
       "      <td>19.2</td>\n",
       "      <td>6</td>\n",
       "      <td>167.6</td>\n",
       "      <td>123</td>\n",
       "      <td>3.92</td>\n",
       "      <td>3.440</td>\n",
       "      <td>18.30</td>\n",
       "      <td>1</td>\n",
       "      <td>0</td>\n",
       "      <td>4</td>\n",
       "      <td>4</td>\n",
       "    </tr>\n",
       "    <tr>\n",
       "      <th>10</th>\n",
       "      <td>17.8</td>\n",
       "      <td>6</td>\n",
       "      <td>167.6</td>\n",
       "      <td>123</td>\n",
       "      <td>3.92</td>\n",
       "      <td>3.440</td>\n",
       "      <td>18.90</td>\n",
       "      <td>1</td>\n",
       "      <td>0</td>\n",
       "      <td>4</td>\n",
       "      <td>4</td>\n",
       "    </tr>\n",
       "    <tr>\n",
       "      <th>11</th>\n",
       "      <td>16.4</td>\n",
       "      <td>8</td>\n",
       "      <td>275.8</td>\n",
       "      <td>180</td>\n",
       "      <td>3.07</td>\n",
       "      <td>4.070</td>\n",
       "      <td>17.40</td>\n",
       "      <td>0</td>\n",
       "      <td>0</td>\n",
       "      <td>3</td>\n",
       "      <td>3</td>\n",
       "    </tr>\n",
       "    <tr>\n",
       "      <th>12</th>\n",
       "      <td>17.3</td>\n",
       "      <td>8</td>\n",
       "      <td>275.8</td>\n",
       "      <td>180</td>\n",
       "      <td>3.07</td>\n",
       "      <td>3.730</td>\n",
       "      <td>17.60</td>\n",
       "      <td>0</td>\n",
       "      <td>0</td>\n",
       "      <td>3</td>\n",
       "      <td>3</td>\n",
       "    </tr>\n",
       "    <tr>\n",
       "      <th>13</th>\n",
       "      <td>15.2</td>\n",
       "      <td>8</td>\n",
       "      <td>275.8</td>\n",
       "      <td>180</td>\n",
       "      <td>3.07</td>\n",
       "      <td>3.780</td>\n",
       "      <td>18.00</td>\n",
       "      <td>0</td>\n",
       "      <td>0</td>\n",
       "      <td>3</td>\n",
       "      <td>3</td>\n",
       "    </tr>\n",
       "    <tr>\n",
       "      <th>14</th>\n",
       "      <td>10.4</td>\n",
       "      <td>8</td>\n",
       "      <td>472.0</td>\n",
       "      <td>205</td>\n",
       "      <td>2.93</td>\n",
       "      <td>5.250</td>\n",
       "      <td>17.98</td>\n",
       "      <td>0</td>\n",
       "      <td>0</td>\n",
       "      <td>3</td>\n",
       "      <td>4</td>\n",
       "    </tr>\n",
       "    <tr>\n",
       "      <th>15</th>\n",
       "      <td>10.4</td>\n",
       "      <td>8</td>\n",
       "      <td>460.0</td>\n",
       "      <td>215</td>\n",
       "      <td>3.00</td>\n",
       "      <td>5.424</td>\n",
       "      <td>17.82</td>\n",
       "      <td>0</td>\n",
       "      <td>0</td>\n",
       "      <td>3</td>\n",
       "      <td>4</td>\n",
       "    </tr>\n",
       "    <tr>\n",
       "      <th>16</th>\n",
       "      <td>14.7</td>\n",
       "      <td>8</td>\n",
       "      <td>440.0</td>\n",
       "      <td>230</td>\n",
       "      <td>3.23</td>\n",
       "      <td>5.345</td>\n",
       "      <td>17.42</td>\n",
       "      <td>0</td>\n",
       "      <td>0</td>\n",
       "      <td>3</td>\n",
       "      <td>4</td>\n",
       "    </tr>\n",
       "    <tr>\n",
       "      <th>17</th>\n",
       "      <td>32.4</td>\n",
       "      <td>4</td>\n",
       "      <td>78.7</td>\n",
       "      <td>66</td>\n",
       "      <td>4.08</td>\n",
       "      <td>2.200</td>\n",
       "      <td>19.47</td>\n",
       "      <td>1</td>\n",
       "      <td>1</td>\n",
       "      <td>4</td>\n",
       "      <td>1</td>\n",
       "    </tr>\n",
       "    <tr>\n",
       "      <th>18</th>\n",
       "      <td>30.4</td>\n",
       "      <td>4</td>\n",
       "      <td>75.7</td>\n",
       "      <td>52</td>\n",
       "      <td>4.93</td>\n",
       "      <td>1.615</td>\n",
       "      <td>18.52</td>\n",
       "      <td>1</td>\n",
       "      <td>1</td>\n",
       "      <td>4</td>\n",
       "      <td>2</td>\n",
       "    </tr>\n",
       "    <tr>\n",
       "      <th>19</th>\n",
       "      <td>33.9</td>\n",
       "      <td>4</td>\n",
       "      <td>71.1</td>\n",
       "      <td>65</td>\n",
       "      <td>4.22</td>\n",
       "      <td>1.835</td>\n",
       "      <td>19.90</td>\n",
       "      <td>1</td>\n",
       "      <td>1</td>\n",
       "      <td>4</td>\n",
       "      <td>1</td>\n",
       "    </tr>\n",
       "    <tr>\n",
       "      <th>20</th>\n",
       "      <td>21.5</td>\n",
       "      <td>4</td>\n",
       "      <td>120.1</td>\n",
       "      <td>97</td>\n",
       "      <td>3.70</td>\n",
       "      <td>2.465</td>\n",
       "      <td>20.01</td>\n",
       "      <td>1</td>\n",
       "      <td>0</td>\n",
       "      <td>3</td>\n",
       "      <td>1</td>\n",
       "    </tr>\n",
       "    <tr>\n",
       "      <th>21</th>\n",
       "      <td>15.5</td>\n",
       "      <td>8</td>\n",
       "      <td>318.0</td>\n",
       "      <td>150</td>\n",
       "      <td>2.76</td>\n",
       "      <td>3.520</td>\n",
       "      <td>16.87</td>\n",
       "      <td>0</td>\n",
       "      <td>0</td>\n",
       "      <td>3</td>\n",
       "      <td>2</td>\n",
       "    </tr>\n",
       "    <tr>\n",
       "      <th>22</th>\n",
       "      <td>15.2</td>\n",
       "      <td>8</td>\n",
       "      <td>304.0</td>\n",
       "      <td>150</td>\n",
       "      <td>3.15</td>\n",
       "      <td>3.435</td>\n",
       "      <td>17.30</td>\n",
       "      <td>0</td>\n",
       "      <td>0</td>\n",
       "      <td>3</td>\n",
       "      <td>2</td>\n",
       "    </tr>\n",
       "    <tr>\n",
       "      <th>23</th>\n",
       "      <td>13.3</td>\n",
       "      <td>8</td>\n",
       "      <td>350.0</td>\n",
       "      <td>245</td>\n",
       "      <td>3.73</td>\n",
       "      <td>3.840</td>\n",
       "      <td>15.41</td>\n",
       "      <td>0</td>\n",
       "      <td>0</td>\n",
       "      <td>3</td>\n",
       "      <td>4</td>\n",
       "    </tr>\n",
       "    <tr>\n",
       "      <th>24</th>\n",
       "      <td>19.2</td>\n",
       "      <td>8</td>\n",
       "      <td>400.0</td>\n",
       "      <td>175</td>\n",
       "      <td>3.08</td>\n",
       "      <td>3.845</td>\n",
       "      <td>17.05</td>\n",
       "      <td>0</td>\n",
       "      <td>0</td>\n",
       "      <td>3</td>\n",
       "      <td>2</td>\n",
       "    </tr>\n",
       "    <tr>\n",
       "      <th>25</th>\n",
       "      <td>27.3</td>\n",
       "      <td>4</td>\n",
       "      <td>79.0</td>\n",
       "      <td>66</td>\n",
       "      <td>4.08</td>\n",
       "      <td>1.935</td>\n",
       "      <td>18.90</td>\n",
       "      <td>1</td>\n",
       "      <td>1</td>\n",
       "      <td>4</td>\n",
       "      <td>1</td>\n",
       "    </tr>\n",
       "    <tr>\n",
       "      <th>26</th>\n",
       "      <td>26.0</td>\n",
       "      <td>4</td>\n",
       "      <td>120.3</td>\n",
       "      <td>91</td>\n",
       "      <td>4.43</td>\n",
       "      <td>2.140</td>\n",
       "      <td>16.70</td>\n",
       "      <td>0</td>\n",
       "      <td>1</td>\n",
       "      <td>5</td>\n",
       "      <td>2</td>\n",
       "    </tr>\n",
       "    <tr>\n",
       "      <th>27</th>\n",
       "      <td>30.4</td>\n",
       "      <td>4</td>\n",
       "      <td>95.1</td>\n",
       "      <td>113</td>\n",
       "      <td>3.77</td>\n",
       "      <td>1.513</td>\n",
       "      <td>16.90</td>\n",
       "      <td>1</td>\n",
       "      <td>1</td>\n",
       "      <td>5</td>\n",
       "      <td>2</td>\n",
       "    </tr>\n",
       "    <tr>\n",
       "      <th>28</th>\n",
       "      <td>15.8</td>\n",
       "      <td>8</td>\n",
       "      <td>351.0</td>\n",
       "      <td>264</td>\n",
       "      <td>4.22</td>\n",
       "      <td>3.170</td>\n",
       "      <td>14.50</td>\n",
       "      <td>0</td>\n",
       "      <td>1</td>\n",
       "      <td>5</td>\n",
       "      <td>4</td>\n",
       "    </tr>\n",
       "    <tr>\n",
       "      <th>29</th>\n",
       "      <td>19.7</td>\n",
       "      <td>6</td>\n",
       "      <td>145.0</td>\n",
       "      <td>175</td>\n",
       "      <td>3.62</td>\n",
       "      <td>2.770</td>\n",
       "      <td>15.50</td>\n",
       "      <td>0</td>\n",
       "      <td>1</td>\n",
       "      <td>5</td>\n",
       "      <td>6</td>\n",
       "    </tr>\n",
       "    <tr>\n",
       "      <th>30</th>\n",
       "      <td>15.0</td>\n",
       "      <td>8</td>\n",
       "      <td>301.0</td>\n",
       "      <td>335</td>\n",
       "      <td>3.54</td>\n",
       "      <td>3.570</td>\n",
       "      <td>14.60</td>\n",
       "      <td>0</td>\n",
       "      <td>1</td>\n",
       "      <td>5</td>\n",
       "      <td>8</td>\n",
       "    </tr>\n",
       "    <tr>\n",
       "      <th>31</th>\n",
       "      <td>21.4</td>\n",
       "      <td>4</td>\n",
       "      <td>121.0</td>\n",
       "      <td>109</td>\n",
       "      <td>4.11</td>\n",
       "      <td>2.780</td>\n",
       "      <td>18.60</td>\n",
       "      <td>1</td>\n",
       "      <td>1</td>\n",
       "      <td>4</td>\n",
       "      <td>2</td>\n",
       "    </tr>\n",
       "  </tbody>\n",
       "</table>\n",
       "</div>"
      ],
      "text/plain": [
       "     mpg  cyl   disp   hp  drat     wt   qsec  vs  am  gear  carb\n",
       "0   21.0    6  160.0  110  3.90  2.620  16.46   0   1     4     4\n",
       "1   21.0    6  160.0  110  3.90  2.875  17.02   0   1     4     4\n",
       "2   22.8    4  108.0   93  3.85  2.320  18.61   1   1     4     1\n",
       "3   21.4    6  258.0  110  3.08  3.215  19.44   1   0     3     1\n",
       "4   18.7    8  360.0  175  3.15  3.440  17.02   0   0     3     2\n",
       "5   18.1    6  225.0  105  2.76  3.460  20.22   1   0     3     1\n",
       "6   14.3    8  360.0  245  3.21  3.570  15.84   0   0     3     4\n",
       "7   24.4    4  146.7   62  3.69  3.190  20.00   1   0     4     2\n",
       "8   22.8    4  140.8   95  3.92  3.150  22.90   1   0     4     2\n",
       "9   19.2    6  167.6  123  3.92  3.440  18.30   1   0     4     4\n",
       "10  17.8    6  167.6  123  3.92  3.440  18.90   1   0     4     4\n",
       "11  16.4    8  275.8  180  3.07  4.070  17.40   0   0     3     3\n",
       "12  17.3    8  275.8  180  3.07  3.730  17.60   0   0     3     3\n",
       "13  15.2    8  275.8  180  3.07  3.780  18.00   0   0     3     3\n",
       "14  10.4    8  472.0  205  2.93  5.250  17.98   0   0     3     4\n",
       "15  10.4    8  460.0  215  3.00  5.424  17.82   0   0     3     4\n",
       "16  14.7    8  440.0  230  3.23  5.345  17.42   0   0     3     4\n",
       "17  32.4    4   78.7   66  4.08  2.200  19.47   1   1     4     1\n",
       "18  30.4    4   75.7   52  4.93  1.615  18.52   1   1     4     2\n",
       "19  33.9    4   71.1   65  4.22  1.835  19.90   1   1     4     1\n",
       "20  21.5    4  120.1   97  3.70  2.465  20.01   1   0     3     1\n",
       "21  15.5    8  318.0  150  2.76  3.520  16.87   0   0     3     2\n",
       "22  15.2    8  304.0  150  3.15  3.435  17.30   0   0     3     2\n",
       "23  13.3    8  350.0  245  3.73  3.840  15.41   0   0     3     4\n",
       "24  19.2    8  400.0  175  3.08  3.845  17.05   0   0     3     2\n",
       "25  27.3    4   79.0   66  4.08  1.935  18.90   1   1     4     1\n",
       "26  26.0    4  120.3   91  4.43  2.140  16.70   0   1     5     2\n",
       "27  30.4    4   95.1  113  3.77  1.513  16.90   1   1     5     2\n",
       "28  15.8    8  351.0  264  4.22  3.170  14.50   0   1     5     4\n",
       "29  19.7    6  145.0  175  3.62  2.770  15.50   0   1     5     6\n",
       "30  15.0    8  301.0  335  3.54  3.570  14.60   0   1     5     8\n",
       "31  21.4    4  121.0  109  4.11  2.780  18.60   1   1     4     2"
      ]
     },
     "execution_count": 121,
     "metadata": {},
     "output_type": "execute_result"
    }
   ],
   "source": [
    "df"
   ]
  },
  {
   "cell_type": "code",
   "execution_count": 122,
   "id": "diagnostic-increase",
   "metadata": {},
   "outputs": [],
   "source": [
    "dd = df.to_dict()"
   ]
  },
  {
   "cell_type": "code",
   "execution_count": 123,
   "id": "oriental-wound",
   "metadata": {},
   "outputs": [
    {
     "name": "stdout",
     "output_type": "stream",
     "text": [
      "mpg\n",
      "cyl\n",
      "disp\n",
      "hp\n",
      "drat\n",
      "wt\n",
      "qsec\n",
      "vs\n",
      "am\n",
      "gear\n",
      "carb\n"
     ]
    }
   ],
   "source": [
    "for key in dd:\n",
    "    print(key)"
   ]
  },
  {
   "cell_type": "code",
   "execution_count": 124,
   "id": "unnecessary-vehicle",
   "metadata": {},
   "outputs": [
    {
     "name": "stdout",
     "output_type": "stream",
     "text": [
      "mpg\n",
      "cyl\n",
      "disp\n",
      "hp\n",
      "drat\n",
      "wt\n",
      "qsec\n",
      "vs\n",
      "am\n",
      "gear\n",
      "carb\n"
     ]
    }
   ],
   "source": [
    "for key in dd.keys():\n",
    "    print(key)"
   ]
  },
  {
   "cell_type": "code",
   "execution_count": 125,
   "id": "blocked-playlist",
   "metadata": {},
   "outputs": [
    {
     "name": "stdout",
     "output_type": "stream",
     "text": [
      "{0: 21.0, 1: 21.0, 2: 22.8, 3: 21.4, 4: 18.7, 5: 18.1, 6: 14.3, 7: 24.4, 8: 22.8, 9: 19.2, 10: 17.8, 11: 16.4, 12: 17.3, 13: 15.2, 14: 10.4, 15: 10.4, 16: 14.7, 17: 32.4, 18: 30.4, 19: 33.9, 20: 21.5, 21: 15.5, 22: 15.2, 23: 13.3, 24: 19.2, 25: 27.3, 26: 26.0, 27: 30.4, 28: 15.8, 29: 19.7, 30: 15.0, 31: 21.4}\n",
      "{0: 6, 1: 6, 2: 4, 3: 6, 4: 8, 5: 6, 6: 8, 7: 4, 8: 4, 9: 6, 10: 6, 11: 8, 12: 8, 13: 8, 14: 8, 15: 8, 16: 8, 17: 4, 18: 4, 19: 4, 20: 4, 21: 8, 22: 8, 23: 8, 24: 8, 25: 4, 26: 4, 27: 4, 28: 8, 29: 6, 30: 8, 31: 4}\n",
      "{0: 160.0, 1: 160.0, 2: 108.0, 3: 258.0, 4: 360.0, 5: 225.0, 6: 360.0, 7: 146.7, 8: 140.8, 9: 167.6, 10: 167.6, 11: 275.8, 12: 275.8, 13: 275.8, 14: 472.0, 15: 460.0, 16: 440.0, 17: 78.7, 18: 75.7, 19: 71.1, 20: 120.1, 21: 318.0, 22: 304.0, 23: 350.0, 24: 400.0, 25: 79.0, 26: 120.3, 27: 95.1, 28: 351.0, 29: 145.0, 30: 301.0, 31: 121.0}\n",
      "{0: 110, 1: 110, 2: 93, 3: 110, 4: 175, 5: 105, 6: 245, 7: 62, 8: 95, 9: 123, 10: 123, 11: 180, 12: 180, 13: 180, 14: 205, 15: 215, 16: 230, 17: 66, 18: 52, 19: 65, 20: 97, 21: 150, 22: 150, 23: 245, 24: 175, 25: 66, 26: 91, 27: 113, 28: 264, 29: 175, 30: 335, 31: 109}\n",
      "{0: 3.9, 1: 3.9, 2: 3.85, 3: 3.08, 4: 3.15, 5: 2.76, 6: 3.21, 7: 3.69, 8: 3.92, 9: 3.92, 10: 3.92, 11: 3.07, 12: 3.07, 13: 3.07, 14: 2.93, 15: 3.0, 16: 3.23, 17: 4.08, 18: 4.93, 19: 4.22, 20: 3.7, 21: 2.76, 22: 3.15, 23: 3.73, 24: 3.08, 25: 4.08, 26: 4.43, 27: 3.77, 28: 4.22, 29: 3.62, 30: 3.54, 31: 4.11}\n",
      "{0: 2.62, 1: 2.875, 2: 2.32, 3: 3.215, 4: 3.44, 5: 3.46, 6: 3.57, 7: 3.19, 8: 3.15, 9: 3.44, 10: 3.44, 11: 4.07, 12: 3.73, 13: 3.78, 14: 5.25, 15: 5.424, 16: 5.345, 17: 2.2, 18: 1.615, 19: 1.835, 20: 2.465, 21: 3.52, 22: 3.435, 23: 3.84, 24: 3.845, 25: 1.935, 26: 2.14, 27: 1.513, 28: 3.17, 29: 2.77, 30: 3.57, 31: 2.78}\n",
      "{0: 16.46, 1: 17.02, 2: 18.61, 3: 19.44, 4: 17.02, 5: 20.22, 6: 15.84, 7: 20.0, 8: 22.9, 9: 18.3, 10: 18.9, 11: 17.4, 12: 17.6, 13: 18.0, 14: 17.98, 15: 17.82, 16: 17.42, 17: 19.47, 18: 18.52, 19: 19.9, 20: 20.01, 21: 16.87, 22: 17.3, 23: 15.41, 24: 17.05, 25: 18.9, 26: 16.7, 27: 16.9, 28: 14.5, 29: 15.5, 30: 14.6, 31: 18.6}\n",
      "{0: 0, 1: 0, 2: 1, 3: 1, 4: 0, 5: 1, 6: 0, 7: 1, 8: 1, 9: 1, 10: 1, 11: 0, 12: 0, 13: 0, 14: 0, 15: 0, 16: 0, 17: 1, 18: 1, 19: 1, 20: 1, 21: 0, 22: 0, 23: 0, 24: 0, 25: 1, 26: 0, 27: 1, 28: 0, 29: 0, 30: 0, 31: 1}\n",
      "{0: 1, 1: 1, 2: 1, 3: 0, 4: 0, 5: 0, 6: 0, 7: 0, 8: 0, 9: 0, 10: 0, 11: 0, 12: 0, 13: 0, 14: 0, 15: 0, 16: 0, 17: 1, 18: 1, 19: 1, 20: 0, 21: 0, 22: 0, 23: 0, 24: 0, 25: 1, 26: 1, 27: 1, 28: 1, 29: 1, 30: 1, 31: 1}\n",
      "{0: 4, 1: 4, 2: 4, 3: 3, 4: 3, 5: 3, 6: 3, 7: 4, 8: 4, 9: 4, 10: 4, 11: 3, 12: 3, 13: 3, 14: 3, 15: 3, 16: 3, 17: 4, 18: 4, 19: 4, 20: 3, 21: 3, 22: 3, 23: 3, 24: 3, 25: 4, 26: 5, 27: 5, 28: 5, 29: 5, 30: 5, 31: 4}\n",
      "{0: 4, 1: 4, 2: 1, 3: 1, 4: 2, 5: 1, 6: 4, 7: 2, 8: 2, 9: 4, 10: 4, 11: 3, 12: 3, 13: 3, 14: 4, 15: 4, 16: 4, 17: 1, 18: 2, 19: 1, 20: 1, 21: 2, 22: 2, 23: 4, 24: 2, 25: 1, 26: 2, 27: 2, 28: 4, 29: 6, 30: 8, 31: 2}\n"
     ]
    }
   ],
   "source": [
    "for val in dd.values():\n",
    "    print(val)"
   ]
  },
  {
   "cell_type": "code",
   "execution_count": 126,
   "id": "about-barcelona",
   "metadata": {},
   "outputs": [
    {
     "name": "stdout",
     "output_type": "stream",
     "text": [
      "mpg ::: {0: 21.0, 1: 21.0, 2: 22.8, 3: 21.4, 4: 18.7, 5: 18.1, 6: 14.3, 7: 24.4, 8: 22.8, 9: 19.2, 10: 17.8, 11: 16.4, 12: 17.3, 13: 15.2, 14: 10.4, 15: 10.4, 16: 14.7, 17: 32.4, 18: 30.4, 19: 33.9, 20: 21.5, 21: 15.5, 22: 15.2, 23: 13.3, 24: 19.2, 25: 27.3, 26: 26.0, 27: 30.4, 28: 15.8, 29: 19.7, 30: 15.0, 31: 21.4}\n",
      "cyl ::: {0: 6, 1: 6, 2: 4, 3: 6, 4: 8, 5: 6, 6: 8, 7: 4, 8: 4, 9: 6, 10: 6, 11: 8, 12: 8, 13: 8, 14: 8, 15: 8, 16: 8, 17: 4, 18: 4, 19: 4, 20: 4, 21: 8, 22: 8, 23: 8, 24: 8, 25: 4, 26: 4, 27: 4, 28: 8, 29: 6, 30: 8, 31: 4}\n",
      "disp ::: {0: 160.0, 1: 160.0, 2: 108.0, 3: 258.0, 4: 360.0, 5: 225.0, 6: 360.0, 7: 146.7, 8: 140.8, 9: 167.6, 10: 167.6, 11: 275.8, 12: 275.8, 13: 275.8, 14: 472.0, 15: 460.0, 16: 440.0, 17: 78.7, 18: 75.7, 19: 71.1, 20: 120.1, 21: 318.0, 22: 304.0, 23: 350.0, 24: 400.0, 25: 79.0, 26: 120.3, 27: 95.1, 28: 351.0, 29: 145.0, 30: 301.0, 31: 121.0}\n",
      "hp ::: {0: 110, 1: 110, 2: 93, 3: 110, 4: 175, 5: 105, 6: 245, 7: 62, 8: 95, 9: 123, 10: 123, 11: 180, 12: 180, 13: 180, 14: 205, 15: 215, 16: 230, 17: 66, 18: 52, 19: 65, 20: 97, 21: 150, 22: 150, 23: 245, 24: 175, 25: 66, 26: 91, 27: 113, 28: 264, 29: 175, 30: 335, 31: 109}\n",
      "drat ::: {0: 3.9, 1: 3.9, 2: 3.85, 3: 3.08, 4: 3.15, 5: 2.76, 6: 3.21, 7: 3.69, 8: 3.92, 9: 3.92, 10: 3.92, 11: 3.07, 12: 3.07, 13: 3.07, 14: 2.93, 15: 3.0, 16: 3.23, 17: 4.08, 18: 4.93, 19: 4.22, 20: 3.7, 21: 2.76, 22: 3.15, 23: 3.73, 24: 3.08, 25: 4.08, 26: 4.43, 27: 3.77, 28: 4.22, 29: 3.62, 30: 3.54, 31: 4.11}\n",
      "wt ::: {0: 2.62, 1: 2.875, 2: 2.32, 3: 3.215, 4: 3.44, 5: 3.46, 6: 3.57, 7: 3.19, 8: 3.15, 9: 3.44, 10: 3.44, 11: 4.07, 12: 3.73, 13: 3.78, 14: 5.25, 15: 5.424, 16: 5.345, 17: 2.2, 18: 1.615, 19: 1.835, 20: 2.465, 21: 3.52, 22: 3.435, 23: 3.84, 24: 3.845, 25: 1.935, 26: 2.14, 27: 1.513, 28: 3.17, 29: 2.77, 30: 3.57, 31: 2.78}\n",
      "qsec ::: {0: 16.46, 1: 17.02, 2: 18.61, 3: 19.44, 4: 17.02, 5: 20.22, 6: 15.84, 7: 20.0, 8: 22.9, 9: 18.3, 10: 18.9, 11: 17.4, 12: 17.6, 13: 18.0, 14: 17.98, 15: 17.82, 16: 17.42, 17: 19.47, 18: 18.52, 19: 19.9, 20: 20.01, 21: 16.87, 22: 17.3, 23: 15.41, 24: 17.05, 25: 18.9, 26: 16.7, 27: 16.9, 28: 14.5, 29: 15.5, 30: 14.6, 31: 18.6}\n",
      "vs ::: {0: 0, 1: 0, 2: 1, 3: 1, 4: 0, 5: 1, 6: 0, 7: 1, 8: 1, 9: 1, 10: 1, 11: 0, 12: 0, 13: 0, 14: 0, 15: 0, 16: 0, 17: 1, 18: 1, 19: 1, 20: 1, 21: 0, 22: 0, 23: 0, 24: 0, 25: 1, 26: 0, 27: 1, 28: 0, 29: 0, 30: 0, 31: 1}\n",
      "am ::: {0: 1, 1: 1, 2: 1, 3: 0, 4: 0, 5: 0, 6: 0, 7: 0, 8: 0, 9: 0, 10: 0, 11: 0, 12: 0, 13: 0, 14: 0, 15: 0, 16: 0, 17: 1, 18: 1, 19: 1, 20: 0, 21: 0, 22: 0, 23: 0, 24: 0, 25: 1, 26: 1, 27: 1, 28: 1, 29: 1, 30: 1, 31: 1}\n",
      "gear ::: {0: 4, 1: 4, 2: 4, 3: 3, 4: 3, 5: 3, 6: 3, 7: 4, 8: 4, 9: 4, 10: 4, 11: 3, 12: 3, 13: 3, 14: 3, 15: 3, 16: 3, 17: 4, 18: 4, 19: 4, 20: 3, 21: 3, 22: 3, 23: 3, 24: 3, 25: 4, 26: 5, 27: 5, 28: 5, 29: 5, 30: 5, 31: 4}\n",
      "carb ::: {0: 4, 1: 4, 2: 1, 3: 1, 4: 2, 5: 1, 6: 4, 7: 2, 8: 2, 9: 4, 10: 4, 11: 3, 12: 3, 13: 3, 14: 4, 15: 4, 16: 4, 17: 1, 18: 2, 19: 1, 20: 1, 21: 2, 22: 2, 23: 4, 24: 2, 25: 1, 26: 2, 27: 2, 28: 4, 29: 6, 30: 8, 31: 2}\n"
     ]
    }
   ],
   "source": [
    "for key, val in dd.items():\n",
    "    print(key,\":::\",val)"
   ]
  },
  {
   "cell_type": "code",
   "execution_count": 127,
   "id": "coordinate-rates",
   "metadata": {},
   "outputs": [],
   "source": [
    "# tuples"
   ]
  },
  {
   "cell_type": "code",
   "execution_count": 128,
   "id": "noticed-jefferson",
   "metadata": {},
   "outputs": [
    {
     "data": {
      "text/html": [
       "<div>\n",
       "<style scoped>\n",
       "    .dataframe tbody tr th:only-of-type {\n",
       "        vertical-align: middle;\n",
       "    }\n",
       "\n",
       "    .dataframe tbody tr th {\n",
       "        vertical-align: top;\n",
       "    }\n",
       "\n",
       "    .dataframe thead th {\n",
       "        text-align: right;\n",
       "    }\n",
       "</style>\n",
       "<table border=\"1\" class=\"dataframe\">\n",
       "  <thead>\n",
       "    <tr style=\"text-align: right;\">\n",
       "      <th></th>\n",
       "      <th>mpg</th>\n",
       "      <th>cyl</th>\n",
       "      <th>disp</th>\n",
       "      <th>hp</th>\n",
       "      <th>drat</th>\n",
       "      <th>wt</th>\n",
       "      <th>qsec</th>\n",
       "      <th>vs</th>\n",
       "      <th>am</th>\n",
       "      <th>gear</th>\n",
       "      <th>carb</th>\n",
       "    </tr>\n",
       "  </thead>\n",
       "  <tbody>\n",
       "    <tr>\n",
       "      <th>0</th>\n",
       "      <td>21.0</td>\n",
       "      <td>6</td>\n",
       "      <td>160.0</td>\n",
       "      <td>110</td>\n",
       "      <td>3.90</td>\n",
       "      <td>2.620</td>\n",
       "      <td>16.46</td>\n",
       "      <td>0</td>\n",
       "      <td>1</td>\n",
       "      <td>4</td>\n",
       "      <td>4</td>\n",
       "    </tr>\n",
       "    <tr>\n",
       "      <th>1</th>\n",
       "      <td>21.0</td>\n",
       "      <td>6</td>\n",
       "      <td>160.0</td>\n",
       "      <td>110</td>\n",
       "      <td>3.90</td>\n",
       "      <td>2.875</td>\n",
       "      <td>17.02</td>\n",
       "      <td>0</td>\n",
       "      <td>1</td>\n",
       "      <td>4</td>\n",
       "      <td>4</td>\n",
       "    </tr>\n",
       "    <tr>\n",
       "      <th>2</th>\n",
       "      <td>22.8</td>\n",
       "      <td>4</td>\n",
       "      <td>108.0</td>\n",
       "      <td>93</td>\n",
       "      <td>3.85</td>\n",
       "      <td>2.320</td>\n",
       "      <td>18.61</td>\n",
       "      <td>1</td>\n",
       "      <td>1</td>\n",
       "      <td>4</td>\n",
       "      <td>1</td>\n",
       "    </tr>\n",
       "    <tr>\n",
       "      <th>3</th>\n",
       "      <td>21.4</td>\n",
       "      <td>6</td>\n",
       "      <td>258.0</td>\n",
       "      <td>110</td>\n",
       "      <td>3.08</td>\n",
       "      <td>3.215</td>\n",
       "      <td>19.44</td>\n",
       "      <td>1</td>\n",
       "      <td>0</td>\n",
       "      <td>3</td>\n",
       "      <td>1</td>\n",
       "    </tr>\n",
       "    <tr>\n",
       "      <th>4</th>\n",
       "      <td>18.7</td>\n",
       "      <td>8</td>\n",
       "      <td>360.0</td>\n",
       "      <td>175</td>\n",
       "      <td>3.15</td>\n",
       "      <td>3.440</td>\n",
       "      <td>17.02</td>\n",
       "      <td>0</td>\n",
       "      <td>0</td>\n",
       "      <td>3</td>\n",
       "      <td>2</td>\n",
       "    </tr>\n",
       "  </tbody>\n",
       "</table>\n",
       "</div>"
      ],
      "text/plain": [
       "    mpg  cyl   disp   hp  drat     wt   qsec  vs  am  gear  carb\n",
       "0  21.0    6  160.0  110  3.90  2.620  16.46   0   1     4     4\n",
       "1  21.0    6  160.0  110  3.90  2.875  17.02   0   1     4     4\n",
       "2  22.8    4  108.0   93  3.85  2.320  18.61   1   1     4     1\n",
       "3  21.4    6  258.0  110  3.08  3.215  19.44   1   0     3     1\n",
       "4  18.7    8  360.0  175  3.15  3.440  17.02   0   0     3     2"
      ]
     },
     "execution_count": 128,
     "metadata": {},
     "output_type": "execute_result"
    }
   ],
   "source": [
    "df.head()"
   ]
  },
  {
   "cell_type": "code",
   "execution_count": 129,
   "id": "electric-daisy",
   "metadata": {},
   "outputs": [
    {
     "data": {
      "text/plain": [
       "(8, 4, 6)"
      ]
     },
     "execution_count": 129,
     "metadata": {},
     "output_type": "execute_result"
    }
   ],
   "source": [
    "tuple(set(df.cyl))"
   ]
  },
  {
   "cell_type": "code",
   "execution_count": 130,
   "id": "threaded-treatment",
   "metadata": {},
   "outputs": [
    {
     "data": {
      "text/plain": [
       "[(8, 4, 6), (3, 4, 5), (1, 2, 3, 4, 6, 8)]"
      ]
     },
     "execution_count": 130,
     "metadata": {},
     "output_type": "execute_result"
    }
   ],
   "source": [
    "common_coll = [tuple(set(df.cyl)),tuple(set(df.gear)),tuple(set(df.carb))]\n",
    "common_coll"
   ]
  },
  {
   "cell_type": "code",
   "execution_count": 131,
   "id": "stock-headquarters",
   "metadata": {},
   "outputs": [
    {
     "name": "stdout",
     "output_type": "stream",
     "text": [
      "8\n",
      "4\n",
      "6\n",
      "3\n",
      "4\n",
      "5\n",
      "1\n",
      "2\n",
      "3\n"
     ]
    }
   ],
   "source": [
    "for item in common_coll:\n",
    "    i1 = item[0]\n",
    "    i2 = item[1]\n",
    "    i3 = item[2]\n",
    "    print(i1)\n",
    "    print(i2)\n",
    "    print(i3)"
   ]
  },
  {
   "cell_type": "code",
   "execution_count": 132,
   "id": "saving-cliff",
   "metadata": {},
   "outputs": [],
   "source": [
    "# if you have unequal tuple elements then only the matched ones will be returned"
   ]
  },
  {
   "cell_type": "code",
   "execution_count": 135,
   "id": "experienced-lender",
   "metadata": {},
   "outputs": [],
   "source": [
    "# array"
   ]
  },
  {
   "cell_type": "code",
   "execution_count": 136,
   "id": "rapid-alias",
   "metadata": {},
   "outputs": [],
   "source": [
    "my_array = np.array(df.mpg)"
   ]
  },
  {
   "cell_type": "code",
   "execution_count": 137,
   "id": "handled-writer",
   "metadata": {},
   "outputs": [
    {
     "data": {
      "text/plain": [
       "array([21. , 21. , 22.8, 21.4, 18.7, 18.1, 14.3, 24.4, 22.8, 19.2, 17.8,\n",
       "       16.4, 17.3, 15.2, 10.4, 10.4, 14.7, 32.4, 30.4, 33.9, 21.5, 15.5,\n",
       "       15.2, 13.3, 19.2, 27.3, 26. , 30.4, 15.8, 19.7, 15. , 21.4])"
      ]
     },
     "execution_count": 137,
     "metadata": {},
     "output_type": "execute_result"
    }
   ],
   "source": [
    "my_array"
   ]
  },
  {
   "cell_type": "code",
   "execution_count": 139,
   "id": "atmospheric-limit",
   "metadata": {},
   "outputs": [],
   "source": [
    "from numpy import array"
   ]
  },
  {
   "cell_type": "code",
   "execution_count": 140,
   "id": "above-execution",
   "metadata": {},
   "outputs": [],
   "source": [
    "my_array[:0] = 120"
   ]
  },
  {
   "cell_type": "code",
   "execution_count": 141,
   "id": "floral-emission",
   "metadata": {},
   "outputs": [],
   "source": [
    "my_array1 = list(my_array).append(120)"
   ]
  },
  {
   "cell_type": "code",
   "execution_count": 142,
   "id": "natural-theorem",
   "metadata": {},
   "outputs": [
    {
     "data": {
      "text/plain": [
       "array([21. , 21. , 22.8, 21.4, 18.7, 18.1, 14.3, 24.4, 22.8, 19.2, 17.8,\n",
       "       16.4, 17.3, 15.2, 10.4, 10.4, 14.7, 32.4, 30.4, 33.9, 21.5, 15.5,\n",
       "       15.2, 13.3, 19.2, 27.3, 26. , 30.4, 15.8, 19.7, 15. , 21.4])"
      ]
     },
     "execution_count": 142,
     "metadata": {},
     "output_type": "execute_result"
    }
   ],
   "source": [
    "my_array"
   ]
  },
  {
   "cell_type": "code",
   "execution_count": 143,
   "id": "martial-grounds",
   "metadata": {},
   "outputs": [],
   "source": [
    "my_array1"
   ]
  },
  {
   "cell_type": "code",
   "execution_count": 144,
   "id": "thrown-verse",
   "metadata": {},
   "outputs": [],
   "source": [
    "import array\n",
    "from array import *"
   ]
  },
  {
   "cell_type": "code",
   "execution_count": 146,
   "id": "written-kennedy",
   "metadata": {},
   "outputs": [],
   "source": [
    "# size, type of data into the array"
   ]
  },
  {
   "cell_type": "code",
   "execution_count": 147,
   "id": "excellent-shareware",
   "metadata": {},
   "outputs": [],
   "source": [
    "# b - integer\n",
    "# B - unsigned integer\n",
    "# c - character\n",
    "# u - unicode character\n",
    "# h - unsigned integer\n",
    "# f - floating point (4bytes)\n",
    "# d - floating point (8bytes)"
   ]
  },
  {
   "cell_type": "code",
   "execution_count": 150,
   "id": "significant-casino",
   "metadata": {},
   "outputs": [],
   "source": [
    "# python 2 vs 3 error"
   ]
  },
  {
   "cell_type": "code",
   "execution_count": 151,
   "id": "inappropriate-garbage",
   "metadata": {},
   "outputs": [
    {
     "data": {
      "text/plain": [
       "array('u', 'rbg')"
      ]
     },
     "execution_count": 151,
     "metadata": {},
     "output_type": "execute_result"
    }
   ],
   "source": [
    "array('u',['r','b','g'])"
   ]
  },
  {
   "cell_type": "code",
   "execution_count": 153,
   "id": "metric-benchmark",
   "metadata": {},
   "outputs": [
    {
     "data": {
      "text/plain": [
       "array([[21.   ,  6.   ,  2.62 ],\n",
       "       [21.   ,  6.   ,  2.875],\n",
       "       [22.8  ,  4.   ,  2.32 ],\n",
       "       [21.4  ,  6.   ,  3.215],\n",
       "       [18.7  ,  8.   ,  3.44 ],\n",
       "       [18.1  ,  6.   ,  3.46 ],\n",
       "       [14.3  ,  8.   ,  3.57 ],\n",
       "       [24.4  ,  4.   ,  3.19 ],\n",
       "       [22.8  ,  4.   ,  3.15 ],\n",
       "       [19.2  ,  6.   ,  3.44 ],\n",
       "       [17.8  ,  6.   ,  3.44 ],\n",
       "       [16.4  ,  8.   ,  4.07 ],\n",
       "       [17.3  ,  8.   ,  3.73 ],\n",
       "       [15.2  ,  8.   ,  3.78 ],\n",
       "       [10.4  ,  8.   ,  5.25 ],\n",
       "       [10.4  ,  8.   ,  5.424],\n",
       "       [14.7  ,  8.   ,  5.345],\n",
       "       [32.4  ,  4.   ,  2.2  ],\n",
       "       [30.4  ,  4.   ,  1.615],\n",
       "       [33.9  ,  4.   ,  1.835],\n",
       "       [21.5  ,  4.   ,  2.465],\n",
       "       [15.5  ,  8.   ,  3.52 ],\n",
       "       [15.2  ,  8.   ,  3.435],\n",
       "       [13.3  ,  8.   ,  3.84 ],\n",
       "       [19.2  ,  8.   ,  3.845],\n",
       "       [27.3  ,  4.   ,  1.935],\n",
       "       [26.   ,  4.   ,  2.14 ],\n",
       "       [30.4  ,  4.   ,  1.513],\n",
       "       [15.8  ,  8.   ,  3.17 ],\n",
       "       [19.7  ,  6.   ,  2.77 ],\n",
       "       [15.   ,  8.   ,  3.57 ],\n",
       "       [21.4  ,  4.   ,  2.78 ]])"
      ]
     },
     "execution_count": 153,
     "metadata": {},
     "output_type": "execute_result"
    }
   ],
   "source": [
    "np.array(df[['mpg','cyl','wt']])"
   ]
  },
  {
   "cell_type": "code",
   "execution_count": 154,
   "id": "embedded-hardware",
   "metadata": {},
   "outputs": [
    {
     "data": {
      "text/plain": [
       "array([21. , 21. , 22.8, 21.4, 18.7, 18.1, 14.3, 24.4, 22.8, 19.2, 17.8,\n",
       "       16.4, 17.3, 15.2, 10.4, 10.4, 14.7, 32.4, 30.4, 33.9, 21.5, 15.5,\n",
       "       15.2, 13.3, 19.2, 27.3, 26. , 30.4, 15.8, 19.7, 15. , 21.4])"
      ]
     },
     "execution_count": 154,
     "metadata": {},
     "output_type": "execute_result"
    }
   ],
   "source": [
    "np.array(df[['mpg']]).ravel()"
   ]
  },
  {
   "cell_type": "code",
   "execution_count": 155,
   "id": "beginning-wright",
   "metadata": {},
   "outputs": [
    {
     "data": {
      "text/plain": [
       "array([[[[21. , 21. ],\n",
       "         [22.8, 21.4]],\n",
       "\n",
       "        [[18.7, 18.1],\n",
       "         [14.3, 24.4]],\n",
       "\n",
       "        [[22.8, 19.2],\n",
       "         [17.8, 16.4]],\n",
       "\n",
       "        [[17.3, 15.2],\n",
       "         [10.4, 10.4]]],\n",
       "\n",
       "\n",
       "       [[[14.7, 32.4],\n",
       "         [30.4, 33.9]],\n",
       "\n",
       "        [[21.5, 15.5],\n",
       "         [15.2, 13.3]],\n",
       "\n",
       "        [[19.2, 27.3],\n",
       "         [26. , 30.4]],\n",
       "\n",
       "        [[15.8, 19.7],\n",
       "         [15. , 21.4]]]])"
      ]
     },
     "execution_count": 155,
     "metadata": {},
     "output_type": "execute_result"
    }
   ],
   "source": [
    "np.array(df[['mpg']]).reshape(2,4,2,2)"
   ]
  },
  {
   "cell_type": "code",
   "execution_count": 156,
   "id": "sensitive-translation",
   "metadata": {},
   "outputs": [
    {
     "data": {
      "text/plain": [
       "array([10.4, 10.4])"
      ]
     },
     "execution_count": 156,
     "metadata": {},
     "output_type": "execute_result"
    }
   ],
   "source": [
    "np.array(df[['mpg']]).reshape(2,4,2,2)[0][3][1][0:]"
   ]
  },
  {
   "cell_type": "code",
   "execution_count": 157,
   "id": "iraqi-religious",
   "metadata": {},
   "outputs": [
    {
     "data": {
      "text/plain": [
       "array([[[[21. , 21. ],\n",
       "         [22.8, 21.4]],\n",
       "\n",
       "        [[18.7, 18.1],\n",
       "         [14.3, 24.4]],\n",
       "\n",
       "        [[22.8, 19.2],\n",
       "         [17.8, 16.4]],\n",
       "\n",
       "        [[17.3, 15.2],\n",
       "         [10.4, 10.4]]],\n",
       "\n",
       "\n",
       "       [[[14.7, 32.4],\n",
       "         [30.4, 33.9]],\n",
       "\n",
       "        [[21.5, 15.5],\n",
       "         [15.2, 13.3]],\n",
       "\n",
       "        [[19.2, 27.3],\n",
       "         [26. , 30.4]],\n",
       "\n",
       "        [[15.8, 19.7],\n",
       "         [15. , 21.4]]]])"
      ]
     },
     "execution_count": 157,
     "metadata": {},
     "output_type": "execute_result"
    }
   ],
   "source": [
    "np.array(df[['mpg']]).reshape(2,4,2,2)"
   ]
  },
  {
   "cell_type": "code",
   "execution_count": 158,
   "id": "pending-movement",
   "metadata": {},
   "outputs": [],
   "source": [
    "# List Comprehension\n",
    "# Dict Comprehension"
   ]
  },
  {
   "cell_type": "code",
   "execution_count": null,
   "id": "connected-suggestion",
   "metadata": {},
   "outputs": [],
   "source": [
    "# Exceptions"
   ]
  },
  {
   "cell_type": "code",
   "execution_count": 160,
   "id": "clinical-origin",
   "metadata": {},
   "outputs": [
    {
     "name": "stdout",
     "output_type": "stream",
     "text": [
      "[441.0, 441.0, 519.84, 457.9599999999999, 349.69, 327.61000000000007, 204.49, 595.3599999999999, 519.84, 368.64, 316.84000000000003, 268.96, 299.29, 231.04, 108.16000000000001, 108.16000000000001, 216.08999999999997, 1049.76, 924.16, 1149.2099999999998, 462.25, 240.25, 231.04, 176.89000000000001, 368.64, 745.2900000000001, 676.0, 924.16, 249.64000000000001, 388.09, 225.0, 457.9599999999999]\n"
     ]
    }
   ],
   "source": [
    "squares = []\n",
    "\n",
    "mpg = list(df.mpg)\n",
    "\n",
    "for i in mpg:\n",
    "    squares.append(i*i)\n",
    "print(squares)"
   ]
  },
  {
   "cell_type": "code",
   "execution_count": 161,
   "id": "acoustic-mozambique",
   "metadata": {},
   "outputs": [
    {
     "data": {
      "text/plain": [
       "32"
      ]
     },
     "execution_count": 161,
     "metadata": {},
     "output_type": "execute_result"
    }
   ],
   "source": [
    "len(squares)"
   ]
  },
  {
   "cell_type": "code",
   "execution_count": 162,
   "id": "suspended-territory",
   "metadata": {},
   "outputs": [
    {
     "data": {
      "text/plain": [
       "32"
      ]
     },
     "execution_count": 162,
     "metadata": {},
     "output_type": "execute_result"
    }
   ],
   "source": [
    "len(mpg)"
   ]
  },
  {
   "cell_type": "code",
   "execution_count": 163,
   "id": "personalized-highlight",
   "metadata": {},
   "outputs": [
    {
     "data": {
      "text/plain": [
       "[441.0,\n",
       " 441.0,\n",
       " 519.84,\n",
       " 457.9599999999999,\n",
       " 349.69,\n",
       " 327.61000000000007,\n",
       " 204.49,\n",
       " 595.3599999999999,\n",
       " 519.84,\n",
       " 368.64,\n",
       " 316.84000000000003,\n",
       " 268.96,\n",
       " 299.29,\n",
       " 231.04,\n",
       " 108.16000000000001,\n",
       " 108.16000000000001,\n",
       " 216.08999999999997,\n",
       " 1049.76,\n",
       " 924.16,\n",
       " 1149.2099999999998,\n",
       " 462.25,\n",
       " 240.25,\n",
       " 231.04,\n",
       " 176.89000000000001,\n",
       " 368.64,\n",
       " 745.2900000000001,\n",
       " 676.0,\n",
       " 924.16,\n",
       " 249.64000000000001,\n",
       " 388.09,\n",
       " 225.0,\n",
       " 457.9599999999999]"
      ]
     },
     "execution_count": 163,
     "metadata": {},
     "output_type": "execute_result"
    }
   ],
   "source": [
    "squares = [i*i for i in mpg]\n",
    "squares"
   ]
  },
  {
   "cell_type": "code",
   "execution_count": 164,
   "id": "systematic-cotton",
   "metadata": {},
   "outputs": [],
   "source": [
    "import timeit"
   ]
  },
  {
   "cell_type": "code",
   "execution_count": 165,
   "id": "parliamentary-water",
   "metadata": {},
   "outputs": [
    {
     "name": "stderr",
     "output_type": "stream",
     "text": [
      "IOPub data rate exceeded.\n",
      "The notebook server will temporarily stop sending output\n",
      "to the client in order to avoid crashing it.\n",
      "To change this limit, set the config variable\n",
      "`--NotebookApp.iopub_data_rate_limit`.\n",
      "\n",
      "Current values:\n",
      "NotebookApp.iopub_data_rate_limit=1000000.0 (bytes/sec)\n",
      "NotebookApp.rate_limit_window=3.0 (secs)\n",
      "\n"
     ]
    },
    {
     "data": {
      "text/plain": [
       "53.772742421999965"
      ]
     },
     "execution_count": 165,
     "metadata": {},
     "output_type": "execute_result"
    }
   ],
   "source": [
    "start = timeit.default_timer()\n",
    "\n",
    "equation = []\n",
    "\n",
    "for i in range(100000000):\n",
    "    equation.append(i*i)\n",
    "print(equation)\n",
    "\n",
    "end = timeit.default_timer()\n",
    "\n",
    "diff = end - start\n",
    "diff"
   ]
  },
  {
   "cell_type": "code",
   "execution_count": 166,
   "id": "falling-interval",
   "metadata": {},
   "outputs": [
    {
     "data": {
      "text/plain": [
       "30.962919769999985"
      ]
     },
     "execution_count": 166,
     "metadata": {},
     "output_type": "execute_result"
    }
   ],
   "source": [
    "start = timeit.default_timer()\n",
    "\n",
    "[i*i for i in range(100000000)]\n",
    "\n",
    "end = timeit.default_timer()\n",
    "\n",
    "diff = end - start\n",
    "diff"
   ]
  },
  {
   "cell_type": "code",
   "execution_count": 171,
   "id": "homeless-savannah",
   "metadata": {},
   "outputs": [],
   "source": [
    "# credit scoring, run a score formula for each of the million customers in your database\n",
    "# lead scoring, run score formula for all the ecommerce leads generated by your website\n",
    "# intent scoring, run a score formula for all active customers those are live on your website"
   ]
  },
  {
   "cell_type": "code",
   "execution_count": 167,
   "id": "buried-aging",
   "metadata": {},
   "outputs": [
    {
     "data": {
      "text/plain": [
       "30.962919769999985"
      ]
     },
     "execution_count": 167,
     "metadata": {},
     "output_type": "execute_result"
    }
   ],
   "source": [
    "diff"
   ]
  },
  {
   "cell_type": "code",
   "execution_count": 168,
   "id": "laden-example",
   "metadata": {},
   "outputs": [
    {
     "data": {
      "text/plain": [
       "504.593265491"
      ]
     },
     "execution_count": 168,
     "metadata": {},
     "output_type": "execute_result"
    }
   ],
   "source": [
    "timeit.default_timer()"
   ]
  },
  {
   "cell_type": "code",
   "execution_count": 170,
   "id": "curious-childhood",
   "metadata": {},
   "outputs": [],
   "source": [
    "# dictionary comprehesion"
   ]
  },
  {
   "cell_type": "code",
   "execution_count": 172,
   "id": "pediatric-rating",
   "metadata": {},
   "outputs": [
    {
     "data": {
      "text/plain": [
       "{'key': 'value'}"
      ]
     },
     "execution_count": 172,
     "metadata": {},
     "output_type": "execute_result"
    }
   ],
   "source": [
    "{k:v for k, v in [('key','value')]}"
   ]
  },
  {
   "cell_type": "code",
   "execution_count": 173,
   "id": "saved-denmark",
   "metadata": {},
   "outputs": [],
   "source": [
    "# please create a sample dict comprehension code using some sample data"
   ]
  },
  {
   "cell_type": "code",
   "execution_count": 174,
   "id": "impaired-wesley",
   "metadata": {},
   "outputs": [],
   "source": [
    "d = dict()"
   ]
  },
  {
   "cell_type": "code",
   "execution_count": 175,
   "id": "higher-central",
   "metadata": {},
   "outputs": [
    {
     "data": {
      "text/plain": [
       "{}"
      ]
     },
     "execution_count": 175,
     "metadata": {},
     "output_type": "execute_result"
    }
   ],
   "source": [
    "d"
   ]
  },
  {
   "cell_type": "code",
   "execution_count": 176,
   "id": "domestic-terrain",
   "metadata": {},
   "outputs": [],
   "source": [
    "d = dict(key='value')"
   ]
  },
  {
   "cell_type": "code",
   "execution_count": 177,
   "id": "confused-dance",
   "metadata": {},
   "outputs": [
    {
     "data": {
      "text/plain": [
       "{'key': 'value'}"
      ]
     },
     "execution_count": 177,
     "metadata": {},
     "output_type": "execute_result"
    }
   ],
   "source": [
    "d"
   ]
  },
  {
   "cell_type": "code",
   "execution_count": 178,
   "id": "superb-castle",
   "metadata": {},
   "outputs": [],
   "source": [
    "d = dict([('key','value')])"
   ]
  },
  {
   "cell_type": "code",
   "execution_count": 179,
   "id": "authorized-broad",
   "metadata": {},
   "outputs": [
    {
     "data": {
      "text/plain": [
       "{'key': 'value'}"
      ]
     },
     "execution_count": 179,
     "metadata": {},
     "output_type": "execute_result"
    }
   ],
   "source": [
    "d"
   ]
  },
  {
   "cell_type": "code",
   "execution_count": 180,
   "id": "focused-synthetic",
   "metadata": {},
   "outputs": [],
   "source": [
    "d['another_key'] = 44444"
   ]
  },
  {
   "cell_type": "code",
   "execution_count": 181,
   "id": "desirable-lotus",
   "metadata": {},
   "outputs": [
    {
     "data": {
      "text/plain": [
       "{'key': 'value', 'another_key': 44444}"
      ]
     },
     "execution_count": 181,
     "metadata": {},
     "output_type": "execute_result"
    }
   ],
   "source": [
    "d"
   ]
  },
  {
   "cell_type": "code",
   "execution_count": 188,
   "id": "combined-russell",
   "metadata": {},
   "outputs": [
    {
     "data": {
      "text/plain": [
       "['Fiat 128',\n",
       " 'Honda Civic',\n",
       " 'Toyota Corolla',\n",
       " 'Toyota Corona',\n",
       " 'Dodge Challenger',\n",
       " 'AMC Javelin',\n",
       " 'Camaro Z28',\n",
       " 'Pontiac Firebird',\n",
       " 'Fiat X1-9',\n",
       " 'Porsche 914-2',\n",
       " 'Lotus Europa',\n",
       " 'Ford Pantera L',\n",
       " 'Ferrari Dino',\n",
       " 'Maserati Bora',\n",
       " 'Volvo 142E']"
      ]
     },
     "execution_count": 188,
     "metadata": {},
     "output_type": "execute_result"
    }
   ],
   "source": [
    "car2"
   ]
  },
  {
   "cell_type": "code",
   "execution_count": 193,
   "id": "filled-field",
   "metadata": {},
   "outputs": [
    {
     "data": {
      "text/plain": [
       "['Mazda RX4',\n",
       " 'Mazda RX4 Wag',\n",
       " 'Datsun 710',\n",
       " 'Hornet 4 Drive',\n",
       " 'Hornet Sportabout',\n",
       " 'Valiant',\n",
       " 'Duster 360',\n",
       " 'Merc 240D',\n",
       " 'Merc 230',\n",
       " 'Merc 280',\n",
       " 'Merc 280C',\n",
       " 'Merc 450SE',\n",
       " 'Merc 450SL',\n",
       " 'Merc 450SLC',\n",
       " 'Cadillac Fleetwood',\n",
       " 'Lincoln Continental',\n",
       " 'Chrysler Imperial']"
      ]
     },
     "execution_count": 193,
     "metadata": {},
     "output_type": "execute_result"
    }
   ],
   "source": [
    "car1"
   ]
  },
  {
   "cell_type": "code",
   "execution_count": 195,
   "id": "registered-eating",
   "metadata": {},
   "outputs": [
    {
     "data": {
      "text/plain": [
       "17"
      ]
     },
     "execution_count": 195,
     "metadata": {},
     "output_type": "execute_result"
    }
   ],
   "source": [
    "len(car1)"
   ]
  },
  {
   "cell_type": "code",
   "execution_count": 196,
   "id": "maritime-trinity",
   "metadata": {},
   "outputs": [
    {
     "data": {
      "text/plain": [
       "15"
      ]
     },
     "execution_count": 196,
     "metadata": {},
     "output_type": "execute_result"
    }
   ],
   "source": [
    "len(car2)"
   ]
  },
  {
   "cell_type": "code",
   "execution_count": 198,
   "id": "binding-crime",
   "metadata": {},
   "outputs": [
    {
     "data": {
      "text/plain": [
       "{'Mazda RX4': 'Fiat 128',\n",
       " 'Mazda RX4 Wag': 'Honda Civic',\n",
       " 'Datsun 710': 'Toyota Corolla',\n",
       " 'Hornet 4 Drive': 'Toyota Corona',\n",
       " 'Hornet Sportabout': 'Dodge Challenger',\n",
       " 'Valiant': 'AMC Javelin',\n",
       " 'Duster 360': 'Camaro Z28',\n",
       " 'Merc 240D': 'Pontiac Firebird',\n",
       " 'Merc 230': 'Fiat X1-9',\n",
       " 'Merc 280': 'Porsche 914-2',\n",
       " 'Merc 280C': 'Lotus Europa',\n",
       " 'Merc 450SE': 'Ford Pantera L',\n",
       " 'Merc 450SL': 'Ferrari Dino',\n",
       " 'Merc 450SLC': 'Maserati Bora',\n",
       " 'Cadillac Fleetwood': 'Volvo 142E'}"
      ]
     },
     "execution_count": 198,
     "metadata": {},
     "output_type": "execute_result"
    }
   ],
   "source": [
    "dict(zip(car1,car2))"
   ]
  },
  {
   "cell_type": "code",
   "execution_count": 199,
   "id": "false-arcade",
   "metadata": {},
   "outputs": [
    {
     "data": {
      "text/html": [
       "<div>\n",
       "<style scoped>\n",
       "    .dataframe tbody tr th:only-of-type {\n",
       "        vertical-align: middle;\n",
       "    }\n",
       "\n",
       "    .dataframe tbody tr th {\n",
       "        vertical-align: top;\n",
       "    }\n",
       "\n",
       "    .dataframe thead th {\n",
       "        text-align: right;\n",
       "    }\n",
       "</style>\n",
       "<table border=\"1\" class=\"dataframe\">\n",
       "  <thead>\n",
       "    <tr style=\"text-align: right;\">\n",
       "      <th></th>\n",
       "      <th>mpg</th>\n",
       "      <th>cyl</th>\n",
       "      <th>disp</th>\n",
       "      <th>hp</th>\n",
       "      <th>drat</th>\n",
       "      <th>wt</th>\n",
       "      <th>qsec</th>\n",
       "      <th>vs</th>\n",
       "      <th>am</th>\n",
       "      <th>gear</th>\n",
       "      <th>carb</th>\n",
       "    </tr>\n",
       "  </thead>\n",
       "  <tbody>\n",
       "    <tr>\n",
       "      <th>0</th>\n",
       "      <td>21.0</td>\n",
       "      <td>6</td>\n",
       "      <td>160.0</td>\n",
       "      <td>110</td>\n",
       "      <td>3.90</td>\n",
       "      <td>2.620</td>\n",
       "      <td>16.46</td>\n",
       "      <td>0</td>\n",
       "      <td>1</td>\n",
       "      <td>4</td>\n",
       "      <td>4</td>\n",
       "    </tr>\n",
       "    <tr>\n",
       "      <th>1</th>\n",
       "      <td>21.0</td>\n",
       "      <td>6</td>\n",
       "      <td>160.0</td>\n",
       "      <td>110</td>\n",
       "      <td>3.90</td>\n",
       "      <td>2.875</td>\n",
       "      <td>17.02</td>\n",
       "      <td>0</td>\n",
       "      <td>1</td>\n",
       "      <td>4</td>\n",
       "      <td>4</td>\n",
       "    </tr>\n",
       "    <tr>\n",
       "      <th>2</th>\n",
       "      <td>22.8</td>\n",
       "      <td>4</td>\n",
       "      <td>108.0</td>\n",
       "      <td>93</td>\n",
       "      <td>3.85</td>\n",
       "      <td>2.320</td>\n",
       "      <td>18.61</td>\n",
       "      <td>1</td>\n",
       "      <td>1</td>\n",
       "      <td>4</td>\n",
       "      <td>1</td>\n",
       "    </tr>\n",
       "    <tr>\n",
       "      <th>3</th>\n",
       "      <td>21.4</td>\n",
       "      <td>6</td>\n",
       "      <td>258.0</td>\n",
       "      <td>110</td>\n",
       "      <td>3.08</td>\n",
       "      <td>3.215</td>\n",
       "      <td>19.44</td>\n",
       "      <td>1</td>\n",
       "      <td>0</td>\n",
       "      <td>3</td>\n",
       "      <td>1</td>\n",
       "    </tr>\n",
       "    <tr>\n",
       "      <th>4</th>\n",
       "      <td>18.7</td>\n",
       "      <td>8</td>\n",
       "      <td>360.0</td>\n",
       "      <td>175</td>\n",
       "      <td>3.15</td>\n",
       "      <td>3.440</td>\n",
       "      <td>17.02</td>\n",
       "      <td>0</td>\n",
       "      <td>0</td>\n",
       "      <td>3</td>\n",
       "      <td>2</td>\n",
       "    </tr>\n",
       "    <tr>\n",
       "      <th>5</th>\n",
       "      <td>18.1</td>\n",
       "      <td>6</td>\n",
       "      <td>225.0</td>\n",
       "      <td>105</td>\n",
       "      <td>2.76</td>\n",
       "      <td>3.460</td>\n",
       "      <td>20.22</td>\n",
       "      <td>1</td>\n",
       "      <td>0</td>\n",
       "      <td>3</td>\n",
       "      <td>1</td>\n",
       "    </tr>\n",
       "    <tr>\n",
       "      <th>6</th>\n",
       "      <td>14.3</td>\n",
       "      <td>8</td>\n",
       "      <td>360.0</td>\n",
       "      <td>245</td>\n",
       "      <td>3.21</td>\n",
       "      <td>3.570</td>\n",
       "      <td>15.84</td>\n",
       "      <td>0</td>\n",
       "      <td>0</td>\n",
       "      <td>3</td>\n",
       "      <td>4</td>\n",
       "    </tr>\n",
       "    <tr>\n",
       "      <th>7</th>\n",
       "      <td>24.4</td>\n",
       "      <td>4</td>\n",
       "      <td>146.7</td>\n",
       "      <td>62</td>\n",
       "      <td>3.69</td>\n",
       "      <td>3.190</td>\n",
       "      <td>20.00</td>\n",
       "      <td>1</td>\n",
       "      <td>0</td>\n",
       "      <td>4</td>\n",
       "      <td>2</td>\n",
       "    </tr>\n",
       "    <tr>\n",
       "      <th>8</th>\n",
       "      <td>22.8</td>\n",
       "      <td>4</td>\n",
       "      <td>140.8</td>\n",
       "      <td>95</td>\n",
       "      <td>3.92</td>\n",
       "      <td>3.150</td>\n",
       "      <td>22.90</td>\n",
       "      <td>1</td>\n",
       "      <td>0</td>\n",
       "      <td>4</td>\n",
       "      <td>2</td>\n",
       "    </tr>\n",
       "    <tr>\n",
       "      <th>9</th>\n",
       "      <td>19.2</td>\n",
       "      <td>6</td>\n",
       "      <td>167.6</td>\n",
       "      <td>123</td>\n",
       "      <td>3.92</td>\n",
       "      <td>3.440</td>\n",
       "      <td>18.30</td>\n",
       "      <td>1</td>\n",
       "      <td>0</td>\n",
       "      <td>4</td>\n",
       "      <td>4</td>\n",
       "    </tr>\n",
       "    <tr>\n",
       "      <th>10</th>\n",
       "      <td>17.8</td>\n",
       "      <td>6</td>\n",
       "      <td>167.6</td>\n",
       "      <td>123</td>\n",
       "      <td>3.92</td>\n",
       "      <td>3.440</td>\n",
       "      <td>18.90</td>\n",
       "      <td>1</td>\n",
       "      <td>0</td>\n",
       "      <td>4</td>\n",
       "      <td>4</td>\n",
       "    </tr>\n",
       "    <tr>\n",
       "      <th>11</th>\n",
       "      <td>16.4</td>\n",
       "      <td>8</td>\n",
       "      <td>275.8</td>\n",
       "      <td>180</td>\n",
       "      <td>3.07</td>\n",
       "      <td>4.070</td>\n",
       "      <td>17.40</td>\n",
       "      <td>0</td>\n",
       "      <td>0</td>\n",
       "      <td>3</td>\n",
       "      <td>3</td>\n",
       "    </tr>\n",
       "    <tr>\n",
       "      <th>12</th>\n",
       "      <td>17.3</td>\n",
       "      <td>8</td>\n",
       "      <td>275.8</td>\n",
       "      <td>180</td>\n",
       "      <td>3.07</td>\n",
       "      <td>3.730</td>\n",
       "      <td>17.60</td>\n",
       "      <td>0</td>\n",
       "      <td>0</td>\n",
       "      <td>3</td>\n",
       "      <td>3</td>\n",
       "    </tr>\n",
       "    <tr>\n",
       "      <th>13</th>\n",
       "      <td>15.2</td>\n",
       "      <td>8</td>\n",
       "      <td>275.8</td>\n",
       "      <td>180</td>\n",
       "      <td>3.07</td>\n",
       "      <td>3.780</td>\n",
       "      <td>18.00</td>\n",
       "      <td>0</td>\n",
       "      <td>0</td>\n",
       "      <td>3</td>\n",
       "      <td>3</td>\n",
       "    </tr>\n",
       "    <tr>\n",
       "      <th>14</th>\n",
       "      <td>10.4</td>\n",
       "      <td>8</td>\n",
       "      <td>472.0</td>\n",
       "      <td>205</td>\n",
       "      <td>2.93</td>\n",
       "      <td>5.250</td>\n",
       "      <td>17.98</td>\n",
       "      <td>0</td>\n",
       "      <td>0</td>\n",
       "      <td>3</td>\n",
       "      <td>4</td>\n",
       "    </tr>\n",
       "    <tr>\n",
       "      <th>15</th>\n",
       "      <td>10.4</td>\n",
       "      <td>8</td>\n",
       "      <td>460.0</td>\n",
       "      <td>215</td>\n",
       "      <td>3.00</td>\n",
       "      <td>5.424</td>\n",
       "      <td>17.82</td>\n",
       "      <td>0</td>\n",
       "      <td>0</td>\n",
       "      <td>3</td>\n",
       "      <td>4</td>\n",
       "    </tr>\n",
       "    <tr>\n",
       "      <th>16</th>\n",
       "      <td>14.7</td>\n",
       "      <td>8</td>\n",
       "      <td>440.0</td>\n",
       "      <td>230</td>\n",
       "      <td>3.23</td>\n",
       "      <td>5.345</td>\n",
       "      <td>17.42</td>\n",
       "      <td>0</td>\n",
       "      <td>0</td>\n",
       "      <td>3</td>\n",
       "      <td>4</td>\n",
       "    </tr>\n",
       "    <tr>\n",
       "      <th>17</th>\n",
       "      <td>32.4</td>\n",
       "      <td>4</td>\n",
       "      <td>78.7</td>\n",
       "      <td>66</td>\n",
       "      <td>4.08</td>\n",
       "      <td>2.200</td>\n",
       "      <td>19.47</td>\n",
       "      <td>1</td>\n",
       "      <td>1</td>\n",
       "      <td>4</td>\n",
       "      <td>1</td>\n",
       "    </tr>\n",
       "    <tr>\n",
       "      <th>18</th>\n",
       "      <td>30.4</td>\n",
       "      <td>4</td>\n",
       "      <td>75.7</td>\n",
       "      <td>52</td>\n",
       "      <td>4.93</td>\n",
       "      <td>1.615</td>\n",
       "      <td>18.52</td>\n",
       "      <td>1</td>\n",
       "      <td>1</td>\n",
       "      <td>4</td>\n",
       "      <td>2</td>\n",
       "    </tr>\n",
       "    <tr>\n",
       "      <th>19</th>\n",
       "      <td>33.9</td>\n",
       "      <td>4</td>\n",
       "      <td>71.1</td>\n",
       "      <td>65</td>\n",
       "      <td>4.22</td>\n",
       "      <td>1.835</td>\n",
       "      <td>19.90</td>\n",
       "      <td>1</td>\n",
       "      <td>1</td>\n",
       "      <td>4</td>\n",
       "      <td>1</td>\n",
       "    </tr>\n",
       "    <tr>\n",
       "      <th>20</th>\n",
       "      <td>21.5</td>\n",
       "      <td>4</td>\n",
       "      <td>120.1</td>\n",
       "      <td>97</td>\n",
       "      <td>3.70</td>\n",
       "      <td>2.465</td>\n",
       "      <td>20.01</td>\n",
       "      <td>1</td>\n",
       "      <td>0</td>\n",
       "      <td>3</td>\n",
       "      <td>1</td>\n",
       "    </tr>\n",
       "    <tr>\n",
       "      <th>21</th>\n",
       "      <td>15.5</td>\n",
       "      <td>8</td>\n",
       "      <td>318.0</td>\n",
       "      <td>150</td>\n",
       "      <td>2.76</td>\n",
       "      <td>3.520</td>\n",
       "      <td>16.87</td>\n",
       "      <td>0</td>\n",
       "      <td>0</td>\n",
       "      <td>3</td>\n",
       "      <td>2</td>\n",
       "    </tr>\n",
       "    <tr>\n",
       "      <th>22</th>\n",
       "      <td>15.2</td>\n",
       "      <td>8</td>\n",
       "      <td>304.0</td>\n",
       "      <td>150</td>\n",
       "      <td>3.15</td>\n",
       "      <td>3.435</td>\n",
       "      <td>17.30</td>\n",
       "      <td>0</td>\n",
       "      <td>0</td>\n",
       "      <td>3</td>\n",
       "      <td>2</td>\n",
       "    </tr>\n",
       "    <tr>\n",
       "      <th>23</th>\n",
       "      <td>13.3</td>\n",
       "      <td>8</td>\n",
       "      <td>350.0</td>\n",
       "      <td>245</td>\n",
       "      <td>3.73</td>\n",
       "      <td>3.840</td>\n",
       "      <td>15.41</td>\n",
       "      <td>0</td>\n",
       "      <td>0</td>\n",
       "      <td>3</td>\n",
       "      <td>4</td>\n",
       "    </tr>\n",
       "    <tr>\n",
       "      <th>24</th>\n",
       "      <td>19.2</td>\n",
       "      <td>8</td>\n",
       "      <td>400.0</td>\n",
       "      <td>175</td>\n",
       "      <td>3.08</td>\n",
       "      <td>3.845</td>\n",
       "      <td>17.05</td>\n",
       "      <td>0</td>\n",
       "      <td>0</td>\n",
       "      <td>3</td>\n",
       "      <td>2</td>\n",
       "    </tr>\n",
       "    <tr>\n",
       "      <th>25</th>\n",
       "      <td>27.3</td>\n",
       "      <td>4</td>\n",
       "      <td>79.0</td>\n",
       "      <td>66</td>\n",
       "      <td>4.08</td>\n",
       "      <td>1.935</td>\n",
       "      <td>18.90</td>\n",
       "      <td>1</td>\n",
       "      <td>1</td>\n",
       "      <td>4</td>\n",
       "      <td>1</td>\n",
       "    </tr>\n",
       "    <tr>\n",
       "      <th>26</th>\n",
       "      <td>26.0</td>\n",
       "      <td>4</td>\n",
       "      <td>120.3</td>\n",
       "      <td>91</td>\n",
       "      <td>4.43</td>\n",
       "      <td>2.140</td>\n",
       "      <td>16.70</td>\n",
       "      <td>0</td>\n",
       "      <td>1</td>\n",
       "      <td>5</td>\n",
       "      <td>2</td>\n",
       "    </tr>\n",
       "    <tr>\n",
       "      <th>27</th>\n",
       "      <td>30.4</td>\n",
       "      <td>4</td>\n",
       "      <td>95.1</td>\n",
       "      <td>113</td>\n",
       "      <td>3.77</td>\n",
       "      <td>1.513</td>\n",
       "      <td>16.90</td>\n",
       "      <td>1</td>\n",
       "      <td>1</td>\n",
       "      <td>5</td>\n",
       "      <td>2</td>\n",
       "    </tr>\n",
       "    <tr>\n",
       "      <th>28</th>\n",
       "      <td>15.8</td>\n",
       "      <td>8</td>\n",
       "      <td>351.0</td>\n",
       "      <td>264</td>\n",
       "      <td>4.22</td>\n",
       "      <td>3.170</td>\n",
       "      <td>14.50</td>\n",
       "      <td>0</td>\n",
       "      <td>1</td>\n",
       "      <td>5</td>\n",
       "      <td>4</td>\n",
       "    </tr>\n",
       "    <tr>\n",
       "      <th>29</th>\n",
       "      <td>19.7</td>\n",
       "      <td>6</td>\n",
       "      <td>145.0</td>\n",
       "      <td>175</td>\n",
       "      <td>3.62</td>\n",
       "      <td>2.770</td>\n",
       "      <td>15.50</td>\n",
       "      <td>0</td>\n",
       "      <td>1</td>\n",
       "      <td>5</td>\n",
       "      <td>6</td>\n",
       "    </tr>\n",
       "    <tr>\n",
       "      <th>30</th>\n",
       "      <td>15.0</td>\n",
       "      <td>8</td>\n",
       "      <td>301.0</td>\n",
       "      <td>335</td>\n",
       "      <td>3.54</td>\n",
       "      <td>3.570</td>\n",
       "      <td>14.60</td>\n",
       "      <td>0</td>\n",
       "      <td>1</td>\n",
       "      <td>5</td>\n",
       "      <td>8</td>\n",
       "    </tr>\n",
       "    <tr>\n",
       "      <th>31</th>\n",
       "      <td>21.4</td>\n",
       "      <td>4</td>\n",
       "      <td>121.0</td>\n",
       "      <td>109</td>\n",
       "      <td>4.11</td>\n",
       "      <td>2.780</td>\n",
       "      <td>18.60</td>\n",
       "      <td>1</td>\n",
       "      <td>1</td>\n",
       "      <td>4</td>\n",
       "      <td>2</td>\n",
       "    </tr>\n",
       "  </tbody>\n",
       "</table>\n",
       "</div>"
      ],
      "text/plain": [
       "     mpg  cyl   disp   hp  drat     wt   qsec  vs  am  gear  carb\n",
       "0   21.0    6  160.0  110  3.90  2.620  16.46   0   1     4     4\n",
       "1   21.0    6  160.0  110  3.90  2.875  17.02   0   1     4     4\n",
       "2   22.8    4  108.0   93  3.85  2.320  18.61   1   1     4     1\n",
       "3   21.4    6  258.0  110  3.08  3.215  19.44   1   0     3     1\n",
       "4   18.7    8  360.0  175  3.15  3.440  17.02   0   0     3     2\n",
       "5   18.1    6  225.0  105  2.76  3.460  20.22   1   0     3     1\n",
       "6   14.3    8  360.0  245  3.21  3.570  15.84   0   0     3     4\n",
       "7   24.4    4  146.7   62  3.69  3.190  20.00   1   0     4     2\n",
       "8   22.8    4  140.8   95  3.92  3.150  22.90   1   0     4     2\n",
       "9   19.2    6  167.6  123  3.92  3.440  18.30   1   0     4     4\n",
       "10  17.8    6  167.6  123  3.92  3.440  18.90   1   0     4     4\n",
       "11  16.4    8  275.8  180  3.07  4.070  17.40   0   0     3     3\n",
       "12  17.3    8  275.8  180  3.07  3.730  17.60   0   0     3     3\n",
       "13  15.2    8  275.8  180  3.07  3.780  18.00   0   0     3     3\n",
       "14  10.4    8  472.0  205  2.93  5.250  17.98   0   0     3     4\n",
       "15  10.4    8  460.0  215  3.00  5.424  17.82   0   0     3     4\n",
       "16  14.7    8  440.0  230  3.23  5.345  17.42   0   0     3     4\n",
       "17  32.4    4   78.7   66  4.08  2.200  19.47   1   1     4     1\n",
       "18  30.4    4   75.7   52  4.93  1.615  18.52   1   1     4     2\n",
       "19  33.9    4   71.1   65  4.22  1.835  19.90   1   1     4     1\n",
       "20  21.5    4  120.1   97  3.70  2.465  20.01   1   0     3     1\n",
       "21  15.5    8  318.0  150  2.76  3.520  16.87   0   0     3     2\n",
       "22  15.2    8  304.0  150  3.15  3.435  17.30   0   0     3     2\n",
       "23  13.3    8  350.0  245  3.73  3.840  15.41   0   0     3     4\n",
       "24  19.2    8  400.0  175  3.08  3.845  17.05   0   0     3     2\n",
       "25  27.3    4   79.0   66  4.08  1.935  18.90   1   1     4     1\n",
       "26  26.0    4  120.3   91  4.43  2.140  16.70   0   1     5     2\n",
       "27  30.4    4   95.1  113  3.77  1.513  16.90   1   1     5     2\n",
       "28  15.8    8  351.0  264  4.22  3.170  14.50   0   1     5     4\n",
       "29  19.7    6  145.0  175  3.62  2.770  15.50   0   1     5     6\n",
       "30  15.0    8  301.0  335  3.54  3.570  14.60   0   1     5     8\n",
       "31  21.4    4  121.0  109  4.11  2.780  18.60   1   1     4     2"
      ]
     },
     "execution_count": 199,
     "metadata": {},
     "output_type": "execute_result"
    }
   ],
   "source": [
    "df"
   ]
  },
  {
   "cell_type": "code",
   "execution_count": 200,
   "id": "hidden-entrance",
   "metadata": {},
   "outputs": [],
   "source": [
    "df = pd.read_csv('https://gist.githubusercontent.com/seankross/a412dfbd88b3db70b74b/raw/5f23f993cd87c283ce766e7ac6b329ee7cc2e1d1/mtcars.csv')"
   ]
  },
  {
   "cell_type": "code",
   "execution_count": 201,
   "id": "wound-likelihood",
   "metadata": {},
   "outputs": [
    {
     "data": {
      "text/html": [
       "<div>\n",
       "<style scoped>\n",
       "    .dataframe tbody tr th:only-of-type {\n",
       "        vertical-align: middle;\n",
       "    }\n",
       "\n",
       "    .dataframe tbody tr th {\n",
       "        vertical-align: top;\n",
       "    }\n",
       "\n",
       "    .dataframe thead th {\n",
       "        text-align: right;\n",
       "    }\n",
       "</style>\n",
       "<table border=\"1\" class=\"dataframe\">\n",
       "  <thead>\n",
       "    <tr style=\"text-align: right;\">\n",
       "      <th></th>\n",
       "      <th>model</th>\n",
       "      <th>mpg</th>\n",
       "      <th>cyl</th>\n",
       "      <th>disp</th>\n",
       "      <th>hp</th>\n",
       "      <th>drat</th>\n",
       "      <th>wt</th>\n",
       "      <th>qsec</th>\n",
       "      <th>vs</th>\n",
       "      <th>am</th>\n",
       "      <th>gear</th>\n",
       "      <th>carb</th>\n",
       "    </tr>\n",
       "  </thead>\n",
       "  <tbody>\n",
       "    <tr>\n",
       "      <th>0</th>\n",
       "      <td>Mazda RX4</td>\n",
       "      <td>21.0</td>\n",
       "      <td>6</td>\n",
       "      <td>160.0</td>\n",
       "      <td>110</td>\n",
       "      <td>3.90</td>\n",
       "      <td>2.620</td>\n",
       "      <td>16.46</td>\n",
       "      <td>0</td>\n",
       "      <td>1</td>\n",
       "      <td>4</td>\n",
       "      <td>4</td>\n",
       "    </tr>\n",
       "    <tr>\n",
       "      <th>1</th>\n",
       "      <td>Mazda RX4 Wag</td>\n",
       "      <td>21.0</td>\n",
       "      <td>6</td>\n",
       "      <td>160.0</td>\n",
       "      <td>110</td>\n",
       "      <td>3.90</td>\n",
       "      <td>2.875</td>\n",
       "      <td>17.02</td>\n",
       "      <td>0</td>\n",
       "      <td>1</td>\n",
       "      <td>4</td>\n",
       "      <td>4</td>\n",
       "    </tr>\n",
       "    <tr>\n",
       "      <th>2</th>\n",
       "      <td>Datsun 710</td>\n",
       "      <td>22.8</td>\n",
       "      <td>4</td>\n",
       "      <td>108.0</td>\n",
       "      <td>93</td>\n",
       "      <td>3.85</td>\n",
       "      <td>2.320</td>\n",
       "      <td>18.61</td>\n",
       "      <td>1</td>\n",
       "      <td>1</td>\n",
       "      <td>4</td>\n",
       "      <td>1</td>\n",
       "    </tr>\n",
       "    <tr>\n",
       "      <th>3</th>\n",
       "      <td>Hornet 4 Drive</td>\n",
       "      <td>21.4</td>\n",
       "      <td>6</td>\n",
       "      <td>258.0</td>\n",
       "      <td>110</td>\n",
       "      <td>3.08</td>\n",
       "      <td>3.215</td>\n",
       "      <td>19.44</td>\n",
       "      <td>1</td>\n",
       "      <td>0</td>\n",
       "      <td>3</td>\n",
       "      <td>1</td>\n",
       "    </tr>\n",
       "    <tr>\n",
       "      <th>4</th>\n",
       "      <td>Hornet Sportabout</td>\n",
       "      <td>18.7</td>\n",
       "      <td>8</td>\n",
       "      <td>360.0</td>\n",
       "      <td>175</td>\n",
       "      <td>3.15</td>\n",
       "      <td>3.440</td>\n",
       "      <td>17.02</td>\n",
       "      <td>0</td>\n",
       "      <td>0</td>\n",
       "      <td>3</td>\n",
       "      <td>2</td>\n",
       "    </tr>\n",
       "    <tr>\n",
       "      <th>5</th>\n",
       "      <td>Valiant</td>\n",
       "      <td>18.1</td>\n",
       "      <td>6</td>\n",
       "      <td>225.0</td>\n",
       "      <td>105</td>\n",
       "      <td>2.76</td>\n",
       "      <td>3.460</td>\n",
       "      <td>20.22</td>\n",
       "      <td>1</td>\n",
       "      <td>0</td>\n",
       "      <td>3</td>\n",
       "      <td>1</td>\n",
       "    </tr>\n",
       "    <tr>\n",
       "      <th>6</th>\n",
       "      <td>Duster 360</td>\n",
       "      <td>14.3</td>\n",
       "      <td>8</td>\n",
       "      <td>360.0</td>\n",
       "      <td>245</td>\n",
       "      <td>3.21</td>\n",
       "      <td>3.570</td>\n",
       "      <td>15.84</td>\n",
       "      <td>0</td>\n",
       "      <td>0</td>\n",
       "      <td>3</td>\n",
       "      <td>4</td>\n",
       "    </tr>\n",
       "    <tr>\n",
       "      <th>7</th>\n",
       "      <td>Merc 240D</td>\n",
       "      <td>24.4</td>\n",
       "      <td>4</td>\n",
       "      <td>146.7</td>\n",
       "      <td>62</td>\n",
       "      <td>3.69</td>\n",
       "      <td>3.190</td>\n",
       "      <td>20.00</td>\n",
       "      <td>1</td>\n",
       "      <td>0</td>\n",
       "      <td>4</td>\n",
       "      <td>2</td>\n",
       "    </tr>\n",
       "    <tr>\n",
       "      <th>8</th>\n",
       "      <td>Merc 230</td>\n",
       "      <td>22.8</td>\n",
       "      <td>4</td>\n",
       "      <td>140.8</td>\n",
       "      <td>95</td>\n",
       "      <td>3.92</td>\n",
       "      <td>3.150</td>\n",
       "      <td>22.90</td>\n",
       "      <td>1</td>\n",
       "      <td>0</td>\n",
       "      <td>4</td>\n",
       "      <td>2</td>\n",
       "    </tr>\n",
       "    <tr>\n",
       "      <th>9</th>\n",
       "      <td>Merc 280</td>\n",
       "      <td>19.2</td>\n",
       "      <td>6</td>\n",
       "      <td>167.6</td>\n",
       "      <td>123</td>\n",
       "      <td>3.92</td>\n",
       "      <td>3.440</td>\n",
       "      <td>18.30</td>\n",
       "      <td>1</td>\n",
       "      <td>0</td>\n",
       "      <td>4</td>\n",
       "      <td>4</td>\n",
       "    </tr>\n",
       "    <tr>\n",
       "      <th>10</th>\n",
       "      <td>Merc 280C</td>\n",
       "      <td>17.8</td>\n",
       "      <td>6</td>\n",
       "      <td>167.6</td>\n",
       "      <td>123</td>\n",
       "      <td>3.92</td>\n",
       "      <td>3.440</td>\n",
       "      <td>18.90</td>\n",
       "      <td>1</td>\n",
       "      <td>0</td>\n",
       "      <td>4</td>\n",
       "      <td>4</td>\n",
       "    </tr>\n",
       "    <tr>\n",
       "      <th>11</th>\n",
       "      <td>Merc 450SE</td>\n",
       "      <td>16.4</td>\n",
       "      <td>8</td>\n",
       "      <td>275.8</td>\n",
       "      <td>180</td>\n",
       "      <td>3.07</td>\n",
       "      <td>4.070</td>\n",
       "      <td>17.40</td>\n",
       "      <td>0</td>\n",
       "      <td>0</td>\n",
       "      <td>3</td>\n",
       "      <td>3</td>\n",
       "    </tr>\n",
       "    <tr>\n",
       "      <th>12</th>\n",
       "      <td>Merc 450SL</td>\n",
       "      <td>17.3</td>\n",
       "      <td>8</td>\n",
       "      <td>275.8</td>\n",
       "      <td>180</td>\n",
       "      <td>3.07</td>\n",
       "      <td>3.730</td>\n",
       "      <td>17.60</td>\n",
       "      <td>0</td>\n",
       "      <td>0</td>\n",
       "      <td>3</td>\n",
       "      <td>3</td>\n",
       "    </tr>\n",
       "    <tr>\n",
       "      <th>13</th>\n",
       "      <td>Merc 450SLC</td>\n",
       "      <td>15.2</td>\n",
       "      <td>8</td>\n",
       "      <td>275.8</td>\n",
       "      <td>180</td>\n",
       "      <td>3.07</td>\n",
       "      <td>3.780</td>\n",
       "      <td>18.00</td>\n",
       "      <td>0</td>\n",
       "      <td>0</td>\n",
       "      <td>3</td>\n",
       "      <td>3</td>\n",
       "    </tr>\n",
       "    <tr>\n",
       "      <th>14</th>\n",
       "      <td>Cadillac Fleetwood</td>\n",
       "      <td>10.4</td>\n",
       "      <td>8</td>\n",
       "      <td>472.0</td>\n",
       "      <td>205</td>\n",
       "      <td>2.93</td>\n",
       "      <td>5.250</td>\n",
       "      <td>17.98</td>\n",
       "      <td>0</td>\n",
       "      <td>0</td>\n",
       "      <td>3</td>\n",
       "      <td>4</td>\n",
       "    </tr>\n",
       "    <tr>\n",
       "      <th>15</th>\n",
       "      <td>Lincoln Continental</td>\n",
       "      <td>10.4</td>\n",
       "      <td>8</td>\n",
       "      <td>460.0</td>\n",
       "      <td>215</td>\n",
       "      <td>3.00</td>\n",
       "      <td>5.424</td>\n",
       "      <td>17.82</td>\n",
       "      <td>0</td>\n",
       "      <td>0</td>\n",
       "      <td>3</td>\n",
       "      <td>4</td>\n",
       "    </tr>\n",
       "    <tr>\n",
       "      <th>16</th>\n",
       "      <td>Chrysler Imperial</td>\n",
       "      <td>14.7</td>\n",
       "      <td>8</td>\n",
       "      <td>440.0</td>\n",
       "      <td>230</td>\n",
       "      <td>3.23</td>\n",
       "      <td>5.345</td>\n",
       "      <td>17.42</td>\n",
       "      <td>0</td>\n",
       "      <td>0</td>\n",
       "      <td>3</td>\n",
       "      <td>4</td>\n",
       "    </tr>\n",
       "    <tr>\n",
       "      <th>17</th>\n",
       "      <td>Fiat 128</td>\n",
       "      <td>32.4</td>\n",
       "      <td>4</td>\n",
       "      <td>78.7</td>\n",
       "      <td>66</td>\n",
       "      <td>4.08</td>\n",
       "      <td>2.200</td>\n",
       "      <td>19.47</td>\n",
       "      <td>1</td>\n",
       "      <td>1</td>\n",
       "      <td>4</td>\n",
       "      <td>1</td>\n",
       "    </tr>\n",
       "    <tr>\n",
       "      <th>18</th>\n",
       "      <td>Honda Civic</td>\n",
       "      <td>30.4</td>\n",
       "      <td>4</td>\n",
       "      <td>75.7</td>\n",
       "      <td>52</td>\n",
       "      <td>4.93</td>\n",
       "      <td>1.615</td>\n",
       "      <td>18.52</td>\n",
       "      <td>1</td>\n",
       "      <td>1</td>\n",
       "      <td>4</td>\n",
       "      <td>2</td>\n",
       "    </tr>\n",
       "    <tr>\n",
       "      <th>19</th>\n",
       "      <td>Toyota Corolla</td>\n",
       "      <td>33.9</td>\n",
       "      <td>4</td>\n",
       "      <td>71.1</td>\n",
       "      <td>65</td>\n",
       "      <td>4.22</td>\n",
       "      <td>1.835</td>\n",
       "      <td>19.90</td>\n",
       "      <td>1</td>\n",
       "      <td>1</td>\n",
       "      <td>4</td>\n",
       "      <td>1</td>\n",
       "    </tr>\n",
       "    <tr>\n",
       "      <th>20</th>\n",
       "      <td>Toyota Corona</td>\n",
       "      <td>21.5</td>\n",
       "      <td>4</td>\n",
       "      <td>120.1</td>\n",
       "      <td>97</td>\n",
       "      <td>3.70</td>\n",
       "      <td>2.465</td>\n",
       "      <td>20.01</td>\n",
       "      <td>1</td>\n",
       "      <td>0</td>\n",
       "      <td>3</td>\n",
       "      <td>1</td>\n",
       "    </tr>\n",
       "    <tr>\n",
       "      <th>21</th>\n",
       "      <td>Dodge Challenger</td>\n",
       "      <td>15.5</td>\n",
       "      <td>8</td>\n",
       "      <td>318.0</td>\n",
       "      <td>150</td>\n",
       "      <td>2.76</td>\n",
       "      <td>3.520</td>\n",
       "      <td>16.87</td>\n",
       "      <td>0</td>\n",
       "      <td>0</td>\n",
       "      <td>3</td>\n",
       "      <td>2</td>\n",
       "    </tr>\n",
       "    <tr>\n",
       "      <th>22</th>\n",
       "      <td>AMC Javelin</td>\n",
       "      <td>15.2</td>\n",
       "      <td>8</td>\n",
       "      <td>304.0</td>\n",
       "      <td>150</td>\n",
       "      <td>3.15</td>\n",
       "      <td>3.435</td>\n",
       "      <td>17.30</td>\n",
       "      <td>0</td>\n",
       "      <td>0</td>\n",
       "      <td>3</td>\n",
       "      <td>2</td>\n",
       "    </tr>\n",
       "    <tr>\n",
       "      <th>23</th>\n",
       "      <td>Camaro Z28</td>\n",
       "      <td>13.3</td>\n",
       "      <td>8</td>\n",
       "      <td>350.0</td>\n",
       "      <td>245</td>\n",
       "      <td>3.73</td>\n",
       "      <td>3.840</td>\n",
       "      <td>15.41</td>\n",
       "      <td>0</td>\n",
       "      <td>0</td>\n",
       "      <td>3</td>\n",
       "      <td>4</td>\n",
       "    </tr>\n",
       "    <tr>\n",
       "      <th>24</th>\n",
       "      <td>Pontiac Firebird</td>\n",
       "      <td>19.2</td>\n",
       "      <td>8</td>\n",
       "      <td>400.0</td>\n",
       "      <td>175</td>\n",
       "      <td>3.08</td>\n",
       "      <td>3.845</td>\n",
       "      <td>17.05</td>\n",
       "      <td>0</td>\n",
       "      <td>0</td>\n",
       "      <td>3</td>\n",
       "      <td>2</td>\n",
       "    </tr>\n",
       "    <tr>\n",
       "      <th>25</th>\n",
       "      <td>Fiat X1-9</td>\n",
       "      <td>27.3</td>\n",
       "      <td>4</td>\n",
       "      <td>79.0</td>\n",
       "      <td>66</td>\n",
       "      <td>4.08</td>\n",
       "      <td>1.935</td>\n",
       "      <td>18.90</td>\n",
       "      <td>1</td>\n",
       "      <td>1</td>\n",
       "      <td>4</td>\n",
       "      <td>1</td>\n",
       "    </tr>\n",
       "    <tr>\n",
       "      <th>26</th>\n",
       "      <td>Porsche 914-2</td>\n",
       "      <td>26.0</td>\n",
       "      <td>4</td>\n",
       "      <td>120.3</td>\n",
       "      <td>91</td>\n",
       "      <td>4.43</td>\n",
       "      <td>2.140</td>\n",
       "      <td>16.70</td>\n",
       "      <td>0</td>\n",
       "      <td>1</td>\n",
       "      <td>5</td>\n",
       "      <td>2</td>\n",
       "    </tr>\n",
       "    <tr>\n",
       "      <th>27</th>\n",
       "      <td>Lotus Europa</td>\n",
       "      <td>30.4</td>\n",
       "      <td>4</td>\n",
       "      <td>95.1</td>\n",
       "      <td>113</td>\n",
       "      <td>3.77</td>\n",
       "      <td>1.513</td>\n",
       "      <td>16.90</td>\n",
       "      <td>1</td>\n",
       "      <td>1</td>\n",
       "      <td>5</td>\n",
       "      <td>2</td>\n",
       "    </tr>\n",
       "    <tr>\n",
       "      <th>28</th>\n",
       "      <td>Ford Pantera L</td>\n",
       "      <td>15.8</td>\n",
       "      <td>8</td>\n",
       "      <td>351.0</td>\n",
       "      <td>264</td>\n",
       "      <td>4.22</td>\n",
       "      <td>3.170</td>\n",
       "      <td>14.50</td>\n",
       "      <td>0</td>\n",
       "      <td>1</td>\n",
       "      <td>5</td>\n",
       "      <td>4</td>\n",
       "    </tr>\n",
       "    <tr>\n",
       "      <th>29</th>\n",
       "      <td>Ferrari Dino</td>\n",
       "      <td>19.7</td>\n",
       "      <td>6</td>\n",
       "      <td>145.0</td>\n",
       "      <td>175</td>\n",
       "      <td>3.62</td>\n",
       "      <td>2.770</td>\n",
       "      <td>15.50</td>\n",
       "      <td>0</td>\n",
       "      <td>1</td>\n",
       "      <td>5</td>\n",
       "      <td>6</td>\n",
       "    </tr>\n",
       "    <tr>\n",
       "      <th>30</th>\n",
       "      <td>Maserati Bora</td>\n",
       "      <td>15.0</td>\n",
       "      <td>8</td>\n",
       "      <td>301.0</td>\n",
       "      <td>335</td>\n",
       "      <td>3.54</td>\n",
       "      <td>3.570</td>\n",
       "      <td>14.60</td>\n",
       "      <td>0</td>\n",
       "      <td>1</td>\n",
       "      <td>5</td>\n",
       "      <td>8</td>\n",
       "    </tr>\n",
       "    <tr>\n",
       "      <th>31</th>\n",
       "      <td>Volvo 142E</td>\n",
       "      <td>21.4</td>\n",
       "      <td>4</td>\n",
       "      <td>121.0</td>\n",
       "      <td>109</td>\n",
       "      <td>4.11</td>\n",
       "      <td>2.780</td>\n",
       "      <td>18.60</td>\n",
       "      <td>1</td>\n",
       "      <td>1</td>\n",
       "      <td>4</td>\n",
       "      <td>2</td>\n",
       "    </tr>\n",
       "  </tbody>\n",
       "</table>\n",
       "</div>"
      ],
      "text/plain": [
       "                  model   mpg  cyl   disp   hp  drat     wt   qsec  vs  am  \\\n",
       "0             Mazda RX4  21.0    6  160.0  110  3.90  2.620  16.46   0   1   \n",
       "1         Mazda RX4 Wag  21.0    6  160.0  110  3.90  2.875  17.02   0   1   \n",
       "2            Datsun 710  22.8    4  108.0   93  3.85  2.320  18.61   1   1   \n",
       "3        Hornet 4 Drive  21.4    6  258.0  110  3.08  3.215  19.44   1   0   \n",
       "4     Hornet Sportabout  18.7    8  360.0  175  3.15  3.440  17.02   0   0   \n",
       "5               Valiant  18.1    6  225.0  105  2.76  3.460  20.22   1   0   \n",
       "6            Duster 360  14.3    8  360.0  245  3.21  3.570  15.84   0   0   \n",
       "7             Merc 240D  24.4    4  146.7   62  3.69  3.190  20.00   1   0   \n",
       "8              Merc 230  22.8    4  140.8   95  3.92  3.150  22.90   1   0   \n",
       "9              Merc 280  19.2    6  167.6  123  3.92  3.440  18.30   1   0   \n",
       "10            Merc 280C  17.8    6  167.6  123  3.92  3.440  18.90   1   0   \n",
       "11           Merc 450SE  16.4    8  275.8  180  3.07  4.070  17.40   0   0   \n",
       "12           Merc 450SL  17.3    8  275.8  180  3.07  3.730  17.60   0   0   \n",
       "13          Merc 450SLC  15.2    8  275.8  180  3.07  3.780  18.00   0   0   \n",
       "14   Cadillac Fleetwood  10.4    8  472.0  205  2.93  5.250  17.98   0   0   \n",
       "15  Lincoln Continental  10.4    8  460.0  215  3.00  5.424  17.82   0   0   \n",
       "16    Chrysler Imperial  14.7    8  440.0  230  3.23  5.345  17.42   0   0   \n",
       "17             Fiat 128  32.4    4   78.7   66  4.08  2.200  19.47   1   1   \n",
       "18          Honda Civic  30.4    4   75.7   52  4.93  1.615  18.52   1   1   \n",
       "19       Toyota Corolla  33.9    4   71.1   65  4.22  1.835  19.90   1   1   \n",
       "20        Toyota Corona  21.5    4  120.1   97  3.70  2.465  20.01   1   0   \n",
       "21     Dodge Challenger  15.5    8  318.0  150  2.76  3.520  16.87   0   0   \n",
       "22          AMC Javelin  15.2    8  304.0  150  3.15  3.435  17.30   0   0   \n",
       "23           Camaro Z28  13.3    8  350.0  245  3.73  3.840  15.41   0   0   \n",
       "24     Pontiac Firebird  19.2    8  400.0  175  3.08  3.845  17.05   0   0   \n",
       "25            Fiat X1-9  27.3    4   79.0   66  4.08  1.935  18.90   1   1   \n",
       "26        Porsche 914-2  26.0    4  120.3   91  4.43  2.140  16.70   0   1   \n",
       "27         Lotus Europa  30.4    4   95.1  113  3.77  1.513  16.90   1   1   \n",
       "28       Ford Pantera L  15.8    8  351.0  264  4.22  3.170  14.50   0   1   \n",
       "29         Ferrari Dino  19.7    6  145.0  175  3.62  2.770  15.50   0   1   \n",
       "30        Maserati Bora  15.0    8  301.0  335  3.54  3.570  14.60   0   1   \n",
       "31           Volvo 142E  21.4    4  121.0  109  4.11  2.780  18.60   1   1   \n",
       "\n",
       "    gear  carb  \n",
       "0      4     4  \n",
       "1      4     4  \n",
       "2      4     1  \n",
       "3      3     1  \n",
       "4      3     2  \n",
       "5      3     1  \n",
       "6      3     4  \n",
       "7      4     2  \n",
       "8      4     2  \n",
       "9      4     4  \n",
       "10     4     4  \n",
       "11     3     3  \n",
       "12     3     3  \n",
       "13     3     3  \n",
       "14     3     4  \n",
       "15     3     4  \n",
       "16     3     4  \n",
       "17     4     1  \n",
       "18     4     2  \n",
       "19     4     1  \n",
       "20     3     1  \n",
       "21     3     2  \n",
       "22     3     2  \n",
       "23     3     4  \n",
       "24     3     2  \n",
       "25     4     1  \n",
       "26     5     2  \n",
       "27     5     2  \n",
       "28     5     4  \n",
       "29     5     6  \n",
       "30     5     8  \n",
       "31     4     2  "
      ]
     },
     "execution_count": 201,
     "metadata": {},
     "output_type": "execute_result"
    }
   ],
   "source": [
    "df"
   ]
  },
  {
   "cell_type": "code",
   "execution_count": 214,
   "id": "cubic-person",
   "metadata": {},
   "outputs": [],
   "source": [
    "dict1 = dict(df.model[0:21])"
   ]
  },
  {
   "cell_type": "code",
   "execution_count": 215,
   "id": "sacred-plenty",
   "metadata": {},
   "outputs": [],
   "source": [
    "dict2 = dict(df.model[17:])"
   ]
  },
  {
   "cell_type": "code",
   "execution_count": 216,
   "id": "stretch-conclusion",
   "metadata": {},
   "outputs": [
    {
     "data": {
      "text/plain": [
       "{0: 'Mazda RX4',\n",
       " 1: 'Mazda RX4 Wag',\n",
       " 2: 'Datsun 710',\n",
       " 3: 'Hornet 4 Drive',\n",
       " 4: 'Hornet Sportabout',\n",
       " 5: 'Valiant',\n",
       " 6: 'Duster 360',\n",
       " 7: 'Merc 240D',\n",
       " 8: 'Merc 230',\n",
       " 9: 'Merc 280',\n",
       " 10: 'Merc 280C',\n",
       " 11: 'Merc 450SE',\n",
       " 12: 'Merc 450SL',\n",
       " 13: 'Merc 450SLC',\n",
       " 14: 'Cadillac Fleetwood',\n",
       " 15: 'Lincoln Continental',\n",
       " 16: 'Chrysler Imperial',\n",
       " 17: 'Fiat 128',\n",
       " 18: 'Honda Civic',\n",
       " 19: 'Toyota Corolla',\n",
       " 20: 'Toyota Corona'}"
      ]
     },
     "execution_count": 216,
     "metadata": {},
     "output_type": "execute_result"
    }
   ],
   "source": [
    "dict1"
   ]
  },
  {
   "cell_type": "code",
   "execution_count": 217,
   "id": "eleven-designer",
   "metadata": {},
   "outputs": [
    {
     "data": {
      "text/plain": [
       "{17: 'Fiat 128',\n",
       " 18: 'Honda Civic',\n",
       " 19: 'Toyota Corolla',\n",
       " 20: 'Toyota Corona',\n",
       " 21: 'Dodge Challenger',\n",
       " 22: 'AMC Javelin',\n",
       " 23: 'Camaro Z28',\n",
       " 24: 'Pontiac Firebird',\n",
       " 25: 'Fiat X1-9',\n",
       " 26: 'Porsche 914-2',\n",
       " 27: 'Lotus Europa',\n",
       " 28: 'Ford Pantera L',\n",
       " 29: 'Ferrari Dino',\n",
       " 30: 'Maserati Bora',\n",
       " 31: 'Volvo 142E'}"
      ]
     },
     "execution_count": 217,
     "metadata": {},
     "output_type": "execute_result"
    }
   ],
   "source": [
    "dict2"
   ]
  },
  {
   "cell_type": "code",
   "execution_count": 218,
   "id": "hindu-writing",
   "metadata": {},
   "outputs": [],
   "source": [
    "comp = {**dict1,**dict2} # 3.5+"
   ]
  },
  {
   "cell_type": "code",
   "execution_count": 219,
   "id": "public-magnet",
   "metadata": {},
   "outputs": [
    {
     "data": {
      "text/plain": [
       "{0: 'Mazda RX4',\n",
       " 1: 'Mazda RX4 Wag',\n",
       " 2: 'Datsun 710',\n",
       " 3: 'Hornet 4 Drive',\n",
       " 4: 'Hornet Sportabout',\n",
       " 5: 'Valiant',\n",
       " 6: 'Duster 360',\n",
       " 7: 'Merc 240D',\n",
       " 8: 'Merc 230',\n",
       " 9: 'Merc 280',\n",
       " 10: 'Merc 280C',\n",
       " 11: 'Merc 450SE',\n",
       " 12: 'Merc 450SL',\n",
       " 13: 'Merc 450SLC',\n",
       " 14: 'Cadillac Fleetwood',\n",
       " 15: 'Lincoln Continental',\n",
       " 16: 'Chrysler Imperial',\n",
       " 17: 'Fiat 128',\n",
       " 18: 'Honda Civic',\n",
       " 19: 'Toyota Corolla',\n",
       " 20: 'Toyota Corona',\n",
       " 21: 'Dodge Challenger',\n",
       " 22: 'AMC Javelin',\n",
       " 23: 'Camaro Z28',\n",
       " 24: 'Pontiac Firebird',\n",
       " 25: 'Fiat X1-9',\n",
       " 26: 'Porsche 914-2',\n",
       " 27: 'Lotus Europa',\n",
       " 28: 'Ford Pantera L',\n",
       " 29: 'Ferrari Dino',\n",
       " 30: 'Maserati Bora',\n",
       " 31: 'Volvo 142E'}"
      ]
     },
     "execution_count": 219,
     "metadata": {},
     "output_type": "execute_result"
    }
   ],
   "source": [
    "comp"
   ]
  },
  {
   "cell_type": "code",
   "execution_count": 212,
   "id": "manufactured-protein",
   "metadata": {},
   "outputs": [
    {
     "data": {
      "text/plain": [
       "dict_keys([0, 1, 2, 3, 4, 5, 6, 7, 8, 9, 10, 11, 12, 13, 14, 15, 16, 17, 18, 19, 20, 21, 22, 23, 24, 25, 26, 27, 28, 29, 30, 31])"
      ]
     },
     "execution_count": 212,
     "metadata": {},
     "output_type": "execute_result"
    }
   ],
   "source": [
    "comp.keys()"
   ]
  },
  {
   "cell_type": "code",
   "execution_count": 213,
   "id": "wrong-interaction",
   "metadata": {},
   "outputs": [
    {
     "data": {
      "text/plain": [
       "dict_values(['Mazda RX4', 'Mazda RX4 Wag', 'Datsun 710', 'Hornet 4 Drive', 'Hornet Sportabout', 'Valiant', 'Duster 360', 'Merc 240D', 'Merc 230', 'Merc 280', 'Merc 280C', 'Merc 450SE', 'Merc 450SL', 'Merc 450SLC', 'Cadillac Fleetwood', 'Lincoln Continental', 'Chrysler Imperial', 'Fiat 128', 'Honda Civic', 'Toyota Corolla', 'Toyota Corona', 'Dodge Challenger', 'AMC Javelin', 'Camaro Z28', 'Pontiac Firebird', 'Fiat X1-9', 'Porsche 914-2', 'Lotus Europa', 'Ford Pantera L', 'Ferrari Dino', 'Maserati Bora', 'Volvo 142E'])"
      ]
     },
     "execution_count": 213,
     "metadata": {},
     "output_type": "execute_result"
    }
   ],
   "source": [
    "comp.values()"
   ]
  },
  {
   "cell_type": "code",
   "execution_count": 230,
   "id": "anonymous-conspiracy",
   "metadata": {},
   "outputs": [],
   "source": [
    "name1 = {'maruthi': 'Mazda Rx4','merc ' : 'Merc 280'}\n",
    "name2 = {'maruthi': 'mazda RX4 wag', \"Merc\": 'Merc 230'}"
   ]
  },
  {
   "cell_type": "code",
   "execution_count": 231,
   "id": "boring-marketplace",
   "metadata": {},
   "outputs": [
    {
     "data": {
      "text/plain": [
       "{'maruthi': 'mazda RX4 wag', 'merc ': 'Merc 280', 'Merc': 'Merc 230'}"
      ]
     },
     "execution_count": 231,
     "metadata": {},
     "output_type": "execute_result"
    }
   ],
   "source": [
    "{**name1,**name2}"
   ]
  },
  {
   "cell_type": "code",
   "execution_count": 232,
   "id": "iraqi-delta",
   "metadata": {},
   "outputs": [
    {
     "data": {
      "text/plain": [
       "dict_items([(0, 'Mazda RX4'), (1, 'Mazda RX4 Wag'), (2, 'Datsun 710'), (3, 'Hornet 4 Drive'), (4, 'Hornet Sportabout'), (5, 'Valiant'), (6, 'Duster 360'), (7, 'Merc 240D'), (8, 'Merc 230'), (9, 'Merc 280'), (10, 'Merc 280C'), (11, 'Merc 450SE'), (12, 'Merc 450SL'), (13, 'Merc 450SLC'), (14, 'Cadillac Fleetwood'), (15, 'Lincoln Continental'), (16, 'Chrysler Imperial'), (17, 'Fiat 128'), (18, 'Honda Civic'), (19, 'Toyota Corolla'), (20, 'Toyota Corona'), (21, 'Dodge Challenger'), (22, 'AMC Javelin'), (23, 'Camaro Z28'), (24, 'Pontiac Firebird'), (25, 'Fiat X1-9'), (26, 'Porsche 914-2'), (27, 'Lotus Europa'), (28, 'Ford Pantera L'), (29, 'Ferrari Dino'), (30, 'Maserati Bora'), (31, 'Volvo 142E')])"
      ]
     },
     "execution_count": 232,
     "metadata": {},
     "output_type": "execute_result"
    }
   ],
   "source": [
    "comp.items()"
   ]
  },
  {
   "cell_type": "code",
   "execution_count": 238,
   "id": "surprised-sewing",
   "metadata": {},
   "outputs": [],
   "source": [
    "results = {'split0_test_score'  : [0.80, 0.70, 0.80, 0.93],\n",
    "'split1_test_score'  : [0.82, 0.50, 0.70, 0.78],\n",
    "'mean_test_score'    : [0.81, 0.60, 0.75, 0.85],\n",
    "'std_test_score'     : [0.01, 0.10, 0.05, 0.08],\n",
    "'rank_test_score'    : [2, 4, 3, 1],\n",
    "'split0_train_score' : [0.80, 0.92, 0.70, 0.93],\n",
    "'split1_train_score' : [0.82, 0.55, 0.70, 0.87],\n",
    "'mean_train_score'   : [0.81, 0.74, 0.70, 0.90],\n",
    "'std_train_score'    : [0.01, 0.19, 0.00, 0.03],\n",
    "'mean_fit_time'      : [0.73, 0.63, 0.43, 0.49],\n",
    "'std_fit_time'       : [0.01, 0.02, 0.01, 0.01],\n",
    "'mean_score_time'    : [0.01, 0.06, 0.04, 0.04],\n",
    "'std_score_time'     : [0.00, 0.00, 0.00, 0.01]}\n"
   ]
  },
  {
   "cell_type": "code",
   "execution_count": 239,
   "id": "controversial-youth",
   "metadata": {},
   "outputs": [
    {
     "data": {
      "text/plain": [
       "{'split0_test_score': [0.8, 0.7, 0.8, 0.93],\n",
       " 'split1_test_score': [0.82, 0.5, 0.7, 0.78],\n",
       " 'mean_test_score': [0.81, 0.6, 0.75, 0.85],\n",
       " 'std_test_score': [0.01, 0.1, 0.05, 0.08],\n",
       " 'rank_test_score': [2, 4, 3, 1],\n",
       " 'split0_train_score': [0.8, 0.92, 0.7, 0.93],\n",
       " 'split1_train_score': [0.82, 0.55, 0.7, 0.87],\n",
       " 'mean_train_score': [0.81, 0.74, 0.7, 0.9],\n",
       " 'std_train_score': [0.01, 0.19, 0.0, 0.03],\n",
       " 'mean_fit_time': [0.73, 0.63, 0.43, 0.49],\n",
       " 'std_fit_time': [0.01, 0.02, 0.01, 0.01],\n",
       " 'mean_score_time': [0.01, 0.06, 0.04, 0.04],\n",
       " 'std_score_time': [0.0, 0.0, 0.0, 0.01]}"
      ]
     },
     "execution_count": 239,
     "metadata": {},
     "output_type": "execute_result"
    }
   ],
   "source": [
    "results"
   ]
  },
  {
   "cell_type": "code",
   "execution_count": 240,
   "id": "altered-result",
   "metadata": {},
   "outputs": [],
   "source": [
    "from operator import itemgetter, attrgetter"
   ]
  },
  {
   "cell_type": "code",
   "execution_count": 244,
   "id": "ancient-quarterly",
   "metadata": {},
   "outputs": [
    {
     "data": {
      "text/plain": [
       "dict"
      ]
     },
     "execution_count": 244,
     "metadata": {},
     "output_type": "execute_result"
    }
   ],
   "source": [
    "type(results)"
   ]
  },
  {
   "cell_type": "code",
   "execution_count": 245,
   "id": "european-brother",
   "metadata": {},
   "outputs": [
    {
     "data": {
      "text/plain": [
       "dict_keys(['split0_test_score', 'split1_test_score', 'mean_test_score', 'std_test_score', 'rank_test_score', 'split0_train_score', 'split1_train_score', 'mean_train_score', 'std_train_score', 'mean_fit_time', 'std_fit_time', 'mean_score_time', 'std_score_time'])"
      ]
     },
     "execution_count": 245,
     "metadata": {},
     "output_type": "execute_result"
    }
   ],
   "source": [
    "results.keys()"
   ]
  },
  {
   "cell_type": "code",
   "execution_count": 248,
   "id": "realistic-nitrogen",
   "metadata": {},
   "outputs": [
    {
     "data": {
      "text/plain": [
       "[2, 4, 3, 1]"
      ]
     },
     "execution_count": 248,
     "metadata": {},
     "output_type": "execute_result"
    }
   ],
   "source": [
    "results.get('rank_test_score')"
   ]
  },
  {
   "cell_type": "code",
   "execution_count": 249,
   "id": "mineral-fluid",
   "metadata": {},
   "outputs": [],
   "source": [
    "results = [{'model':'logistic regression', 'acc': 0.89, 'error': 0.02},\n",
    "          {'model': 'random forest','acc': 0.98,'error': 0.06}]"
   ]
  },
  {
   "cell_type": "code",
   "execution_count": 250,
   "id": "affected-giving",
   "metadata": {},
   "outputs": [],
   "source": [
    "by_acc = itemgetter('acc')"
   ]
  },
  {
   "cell_type": "code",
   "execution_count": 251,
   "id": "dominant-norman",
   "metadata": {},
   "outputs": [],
   "source": [
    "results.sort(key=by_acc)"
   ]
  },
  {
   "cell_type": "code",
   "execution_count": 252,
   "id": "smart-default",
   "metadata": {},
   "outputs": [
    {
     "data": {
      "text/plain": [
       "[{'model': 'logistic regression', 'acc': 0.89, 'error': 0.02},\n",
       " {'model': 'random forest', 'acc': 0.98, 'error': 0.06}]"
      ]
     },
     "execution_count": 252,
     "metadata": {},
     "output_type": "execute_result"
    }
   ],
   "source": [
    "results"
   ]
  },
  {
   "cell_type": "code",
   "execution_count": 256,
   "id": "smooth-tunnel",
   "metadata": {},
   "outputs": [
    {
     "data": {
      "text/plain": [
       "['Mazda RX4',\n",
       " 'Mazda RX4 Wag',\n",
       " 'Datsun 710',\n",
       " 'Hornet 4 Drive',\n",
       " 'Hornet Sportabout',\n",
       " 'Valiant',\n",
       " 'Duster 360',\n",
       " 'Merc 240D',\n",
       " 'Merc 230',\n",
       " 'Merc 280',\n",
       " 'Merc 280C',\n",
       " 'Merc 450SE',\n",
       " 'Merc 450SL',\n",
       " 'Merc 450SLC',\n",
       " 'Cadillac Fleetwood',\n",
       " 'Lincoln Continental',\n",
       " 'Chrysler Imperial',\n",
       " 'Mazda RX4',\n",
       " 'Mazda RX4 Wag',\n",
       " 'Datsun 710',\n",
       " 'Hornet 4 Drive',\n",
       " 'Hornet Sportabout',\n",
       " 'Valiant',\n",
       " 'Duster 360',\n",
       " 'Merc 240D',\n",
       " 'Merc 230',\n",
       " 'Merc 280',\n",
       " 'Merc 280C',\n",
       " 'Merc 450SE',\n",
       " 'Merc 450SL',\n",
       " 'Merc 450SLC',\n",
       " 'Cadillac Fleetwood',\n",
       " 'Lincoln Continental',\n",
       " 'Chrysler Imperial',\n",
       " 'Mazda RX4',\n",
       " 'Mazda RX4 Wag',\n",
       " 'Datsun 710',\n",
       " 'Hornet 4 Drive',\n",
       " 'Hornet Sportabout',\n",
       " 'Valiant',\n",
       " 'Duster 360',\n",
       " 'Merc 240D',\n",
       " 'Merc 230',\n",
       " 'Merc 280',\n",
       " 'Merc 280C',\n",
       " 'Merc 450SE',\n",
       " 'Merc 450SL',\n",
       " 'Merc 450SLC',\n",
       " 'Cadillac Fleetwood',\n",
       " 'Lincoln Continental',\n",
       " 'Chrysler Imperial',\n",
       " 'Mazda RX4',\n",
       " 'Mazda RX4 Wag',\n",
       " 'Datsun 710',\n",
       " 'Hornet 4 Drive',\n",
       " 'Hornet Sportabout',\n",
       " 'Valiant',\n",
       " 'Duster 360',\n",
       " 'Merc 240D',\n",
       " 'Merc 230',\n",
       " 'Merc 280',\n",
       " 'Merc 280C',\n",
       " 'Merc 450SE',\n",
       " 'Merc 450SL',\n",
       " 'Merc 450SLC',\n",
       " 'Cadillac Fleetwood',\n",
       " 'Lincoln Continental',\n",
       " 'Chrysler Imperial',\n",
       " 'Mazda RX4',\n",
       " 'Mazda RX4 Wag',\n",
       " 'Datsun 710',\n",
       " 'Hornet 4 Drive',\n",
       " 'Hornet Sportabout',\n",
       " 'Valiant',\n",
       " 'Duster 360',\n",
       " 'Merc 240D',\n",
       " 'Merc 230',\n",
       " 'Merc 280',\n",
       " 'Merc 280C',\n",
       " 'Merc 450SE',\n",
       " 'Merc 450SL',\n",
       " 'Merc 450SLC',\n",
       " 'Cadillac Fleetwood',\n",
       " 'Lincoln Continental',\n",
       " 'Chrysler Imperial',\n",
       " 'Mazda RX4',\n",
       " 'Mazda RX4 Wag',\n",
       " 'Datsun 710',\n",
       " 'Hornet 4 Drive',\n",
       " 'Hornet Sportabout',\n",
       " 'Valiant',\n",
       " 'Duster 360',\n",
       " 'Merc 240D',\n",
       " 'Merc 230',\n",
       " 'Merc 280',\n",
       " 'Merc 280C',\n",
       " 'Merc 450SE',\n",
       " 'Merc 450SL',\n",
       " 'Merc 450SLC',\n",
       " 'Cadillac Fleetwood',\n",
       " 'Lincoln Continental',\n",
       " 'Chrysler Imperial',\n",
       " 'Mazda RX4',\n",
       " 'Mazda RX4 Wag',\n",
       " 'Datsun 710',\n",
       " 'Hornet 4 Drive',\n",
       " 'Hornet Sportabout',\n",
       " 'Valiant',\n",
       " 'Duster 360',\n",
       " 'Merc 240D',\n",
       " 'Merc 230',\n",
       " 'Merc 280',\n",
       " 'Merc 280C',\n",
       " 'Merc 450SE',\n",
       " 'Merc 450SL',\n",
       " 'Merc 450SLC',\n",
       " 'Cadillac Fleetwood',\n",
       " 'Lincoln Continental',\n",
       " 'Chrysler Imperial',\n",
       " 'Mazda RX4',\n",
       " 'Mazda RX4 Wag',\n",
       " 'Datsun 710',\n",
       " 'Hornet 4 Drive',\n",
       " 'Hornet Sportabout',\n",
       " 'Valiant',\n",
       " 'Duster 360',\n",
       " 'Merc 240D',\n",
       " 'Merc 230',\n",
       " 'Merc 280',\n",
       " 'Merc 280C',\n",
       " 'Merc 450SE',\n",
       " 'Merc 450SL',\n",
       " 'Merc 450SLC',\n",
       " 'Cadillac Fleetwood',\n",
       " 'Lincoln Continental',\n",
       " 'Chrysler Imperial',\n",
       " 'Mazda RX4',\n",
       " 'Mazda RX4 Wag',\n",
       " 'Datsun 710',\n",
       " 'Hornet 4 Drive',\n",
       " 'Hornet Sportabout',\n",
       " 'Valiant',\n",
       " 'Duster 360',\n",
       " 'Merc 240D',\n",
       " 'Merc 230',\n",
       " 'Merc 280',\n",
       " 'Merc 280C',\n",
       " 'Merc 450SE',\n",
       " 'Merc 450SL',\n",
       " 'Merc 450SLC',\n",
       " 'Cadillac Fleetwood',\n",
       " 'Lincoln Continental',\n",
       " 'Chrysler Imperial',\n",
       " 'Mazda RX4',\n",
       " 'Mazda RX4 Wag',\n",
       " 'Datsun 710',\n",
       " 'Hornet 4 Drive',\n",
       " 'Hornet Sportabout',\n",
       " 'Valiant',\n",
       " 'Duster 360',\n",
       " 'Merc 240D',\n",
       " 'Merc 230',\n",
       " 'Merc 280',\n",
       " 'Merc 280C',\n",
       " 'Merc 450SE',\n",
       " 'Merc 450SL',\n",
       " 'Merc 450SLC',\n",
       " 'Cadillac Fleetwood',\n",
       " 'Lincoln Continental',\n",
       " 'Chrysler Imperial',\n",
       " 'Mazda RX4',\n",
       " 'Mazda RX4 Wag',\n",
       " 'Datsun 710',\n",
       " 'Hornet 4 Drive',\n",
       " 'Hornet Sportabout',\n",
       " 'Valiant',\n",
       " 'Duster 360',\n",
       " 'Merc 240D',\n",
       " 'Merc 230',\n",
       " 'Merc 280',\n",
       " 'Merc 280C',\n",
       " 'Merc 450SE',\n",
       " 'Merc 450SL',\n",
       " 'Merc 450SLC',\n",
       " 'Cadillac Fleetwood',\n",
       " 'Lincoln Continental',\n",
       " 'Chrysler Imperial',\n",
       " 'Mazda RX4',\n",
       " 'Mazda RX4 Wag',\n",
       " 'Datsun 710',\n",
       " 'Hornet 4 Drive',\n",
       " 'Hornet Sportabout',\n",
       " 'Valiant',\n",
       " 'Duster 360',\n",
       " 'Merc 240D',\n",
       " 'Merc 230',\n",
       " 'Merc 280',\n",
       " 'Merc 280C',\n",
       " 'Merc 450SE',\n",
       " 'Merc 450SL',\n",
       " 'Merc 450SLC',\n",
       " 'Cadillac Fleetwood',\n",
       " 'Lincoln Continental',\n",
       " 'Chrysler Imperial',\n",
       " 'Mazda RX4',\n",
       " 'Mazda RX4 Wag',\n",
       " 'Datsun 710',\n",
       " 'Hornet 4 Drive',\n",
       " 'Hornet Sportabout',\n",
       " 'Valiant',\n",
       " 'Duster 360',\n",
       " 'Merc 240D',\n",
       " 'Merc 230',\n",
       " 'Merc 280',\n",
       " 'Merc 280C',\n",
       " 'Merc 450SE',\n",
       " 'Merc 450SL',\n",
       " 'Merc 450SLC',\n",
       " 'Cadillac Fleetwood',\n",
       " 'Lincoln Continental',\n",
       " 'Chrysler Imperial',\n",
       " 'Mazda RX4',\n",
       " 'Mazda RX4 Wag',\n",
       " 'Datsun 710',\n",
       " 'Hornet 4 Drive',\n",
       " 'Hornet Sportabout',\n",
       " 'Valiant',\n",
       " 'Duster 360',\n",
       " 'Merc 240D',\n",
       " 'Merc 230',\n",
       " 'Merc 280',\n",
       " 'Merc 280C',\n",
       " 'Merc 450SE',\n",
       " 'Merc 450SL',\n",
       " 'Merc 450SLC',\n",
       " 'Cadillac Fleetwood',\n",
       " 'Lincoln Continental',\n",
       " 'Chrysler Imperial',\n",
       " 'Mazda RX4',\n",
       " 'Mazda RX4 Wag',\n",
       " 'Datsun 710',\n",
       " 'Hornet 4 Drive',\n",
       " 'Hornet Sportabout',\n",
       " 'Valiant',\n",
       " 'Duster 360',\n",
       " 'Merc 240D',\n",
       " 'Merc 230',\n",
       " 'Merc 280',\n",
       " 'Merc 280C',\n",
       " 'Merc 450SE',\n",
       " 'Merc 450SL',\n",
       " 'Merc 450SLC',\n",
       " 'Cadillac Fleetwood',\n",
       " 'Lincoln Continental',\n",
       " 'Chrysler Imperial',\n",
       " 'Mazda RX4',\n",
       " 'Mazda RX4 Wag',\n",
       " 'Datsun 710',\n",
       " 'Hornet 4 Drive',\n",
       " 'Hornet Sportabout',\n",
       " 'Valiant',\n",
       " 'Duster 360',\n",
       " 'Merc 240D',\n",
       " 'Merc 230',\n",
       " 'Merc 280',\n",
       " 'Merc 280C',\n",
       " 'Merc 450SE',\n",
       " 'Merc 450SL',\n",
       " 'Merc 450SLC',\n",
       " 'Cadillac Fleetwood',\n",
       " 'Lincoln Continental',\n",
       " 'Chrysler Imperial',\n",
       " 'Mazda RX4',\n",
       " 'Mazda RX4 Wag',\n",
       " 'Datsun 710',\n",
       " 'Hornet 4 Drive',\n",
       " 'Hornet Sportabout',\n",
       " 'Valiant',\n",
       " 'Duster 360',\n",
       " 'Merc 240D',\n",
       " 'Merc 230',\n",
       " 'Merc 280',\n",
       " 'Merc 280C',\n",
       " 'Merc 450SE',\n",
       " 'Merc 450SL',\n",
       " 'Merc 450SLC',\n",
       " 'Cadillac Fleetwood',\n",
       " 'Lincoln Continental',\n",
       " 'Chrysler Imperial',\n",
       " 'Mazda RX4',\n",
       " 'Mazda RX4 Wag',\n",
       " 'Datsun 710',\n",
       " 'Hornet 4 Drive',\n",
       " 'Hornet Sportabout',\n",
       " 'Valiant',\n",
       " 'Duster 360',\n",
       " 'Merc 240D',\n",
       " 'Merc 230',\n",
       " 'Merc 280',\n",
       " 'Merc 280C',\n",
       " 'Merc 450SE',\n",
       " 'Merc 450SL',\n",
       " 'Merc 450SLC',\n",
       " 'Cadillac Fleetwood',\n",
       " 'Lincoln Continental',\n",
       " 'Chrysler Imperial',\n",
       " 'Mazda RX4',\n",
       " 'Mazda RX4 Wag',\n",
       " 'Datsun 710',\n",
       " 'Hornet 4 Drive',\n",
       " 'Hornet Sportabout',\n",
       " 'Valiant',\n",
       " 'Duster 360',\n",
       " 'Merc 240D',\n",
       " 'Merc 230',\n",
       " 'Merc 280',\n",
       " 'Merc 280C',\n",
       " 'Merc 450SE',\n",
       " 'Merc 450SL',\n",
       " 'Merc 450SLC',\n",
       " 'Cadillac Fleetwood',\n",
       " 'Lincoln Continental',\n",
       " 'Chrysler Imperial',\n",
       " 'Mazda RX4',\n",
       " 'Mazda RX4 Wag',\n",
       " 'Datsun 710',\n",
       " 'Hornet 4 Drive',\n",
       " 'Hornet Sportabout',\n",
       " 'Valiant',\n",
       " 'Duster 360',\n",
       " 'Merc 240D',\n",
       " 'Merc 230',\n",
       " 'Merc 280',\n",
       " 'Merc 280C',\n",
       " 'Merc 450SE',\n",
       " 'Merc 450SL',\n",
       " 'Merc 450SLC',\n",
       " 'Cadillac Fleetwood',\n",
       " 'Lincoln Continental',\n",
       " 'Chrysler Imperial',\n",
       " 'Mazda RX4',\n",
       " 'Mazda RX4 Wag',\n",
       " 'Datsun 710',\n",
       " 'Hornet 4 Drive',\n",
       " 'Hornet Sportabout',\n",
       " 'Valiant',\n",
       " 'Duster 360',\n",
       " 'Merc 240D',\n",
       " 'Merc 230',\n",
       " 'Merc 280',\n",
       " 'Merc 280C',\n",
       " 'Merc 450SE',\n",
       " 'Merc 450SL',\n",
       " 'Merc 450SLC',\n",
       " 'Cadillac Fleetwood',\n",
       " 'Lincoln Continental',\n",
       " 'Chrysler Imperial',\n",
       " 'Mazda RX4',\n",
       " 'Mazda RX4 Wag',\n",
       " 'Datsun 710',\n",
       " 'Hornet 4 Drive',\n",
       " 'Hornet Sportabout',\n",
       " 'Valiant',\n",
       " 'Duster 360',\n",
       " 'Merc 240D',\n",
       " 'Merc 230',\n",
       " 'Merc 280',\n",
       " 'Merc 280C',\n",
       " 'Merc 450SE',\n",
       " 'Merc 450SL',\n",
       " 'Merc 450SLC',\n",
       " 'Cadillac Fleetwood',\n",
       " 'Lincoln Continental',\n",
       " 'Chrysler Imperial',\n",
       " 'Mazda RX4',\n",
       " 'Mazda RX4 Wag',\n",
       " 'Datsun 710',\n",
       " 'Hornet 4 Drive',\n",
       " 'Hornet Sportabout',\n",
       " 'Valiant',\n",
       " 'Duster 360',\n",
       " 'Merc 240D',\n",
       " 'Merc 230',\n",
       " 'Merc 280',\n",
       " 'Merc 280C',\n",
       " 'Merc 450SE',\n",
       " 'Merc 450SL',\n",
       " 'Merc 450SLC',\n",
       " 'Cadillac Fleetwood',\n",
       " 'Lincoln Continental',\n",
       " 'Chrysler Imperial',\n",
       " 'Mazda RX4',\n",
       " 'Mazda RX4 Wag',\n",
       " 'Datsun 710',\n",
       " 'Hornet 4 Drive',\n",
       " 'Hornet Sportabout',\n",
       " 'Valiant',\n",
       " 'Duster 360',\n",
       " 'Merc 240D',\n",
       " 'Merc 230',\n",
       " 'Merc 280',\n",
       " 'Merc 280C',\n",
       " 'Merc 450SE',\n",
       " 'Merc 450SL',\n",
       " 'Merc 450SLC',\n",
       " 'Cadillac Fleetwood',\n",
       " 'Lincoln Continental',\n",
       " 'Chrysler Imperial',\n",
       " 'Mazda RX4',\n",
       " 'Mazda RX4 Wag',\n",
       " 'Datsun 710',\n",
       " 'Hornet 4 Drive',\n",
       " 'Hornet Sportabout',\n",
       " 'Valiant',\n",
       " 'Duster 360',\n",
       " 'Merc 240D',\n",
       " 'Merc 230',\n",
       " 'Merc 280',\n",
       " 'Merc 280C',\n",
       " 'Merc 450SE',\n",
       " 'Merc 450SL',\n",
       " 'Merc 450SLC',\n",
       " 'Cadillac Fleetwood',\n",
       " 'Lincoln Continental',\n",
       " 'Chrysler Imperial',\n",
       " 'Mazda RX4',\n",
       " 'Mazda RX4 Wag',\n",
       " 'Datsun 710',\n",
       " 'Hornet 4 Drive',\n",
       " 'Hornet Sportabout',\n",
       " 'Valiant',\n",
       " 'Duster 360',\n",
       " 'Merc 240D',\n",
       " 'Merc 230',\n",
       " 'Merc 280',\n",
       " 'Merc 280C',\n",
       " 'Merc 450SE',\n",
       " 'Merc 450SL',\n",
       " 'Merc 450SLC',\n",
       " 'Cadillac Fleetwood',\n",
       " 'Lincoln Continental',\n",
       " 'Chrysler Imperial',\n",
       " 'Mazda RX4',\n",
       " 'Mazda RX4 Wag',\n",
       " 'Datsun 710',\n",
       " 'Hornet 4 Drive',\n",
       " 'Hornet Sportabout',\n",
       " 'Valiant',\n",
       " 'Duster 360',\n",
       " 'Merc 240D',\n",
       " 'Merc 230',\n",
       " 'Merc 280',\n",
       " 'Merc 280C',\n",
       " 'Merc 450SE',\n",
       " 'Merc 450SL',\n",
       " 'Merc 450SLC',\n",
       " 'Cadillac Fleetwood',\n",
       " 'Lincoln Continental',\n",
       " 'Chrysler Imperial',\n",
       " 'Mazda RX4',\n",
       " 'Mazda RX4 Wag',\n",
       " 'Datsun 710',\n",
       " 'Hornet 4 Drive',\n",
       " 'Hornet Sportabout',\n",
       " 'Valiant',\n",
       " 'Duster 360',\n",
       " 'Merc 240D',\n",
       " 'Merc 230',\n",
       " 'Merc 280',\n",
       " 'Merc 280C',\n",
       " 'Merc 450SE',\n",
       " 'Merc 450SL',\n",
       " 'Merc 450SLC',\n",
       " 'Cadillac Fleetwood',\n",
       " 'Lincoln Continental',\n",
       " 'Chrysler Imperial',\n",
       " 'Mazda RX4',\n",
       " 'Mazda RX4 Wag',\n",
       " 'Datsun 710',\n",
       " 'Hornet 4 Drive',\n",
       " 'Hornet Sportabout',\n",
       " 'Valiant',\n",
       " 'Duster 360',\n",
       " 'Merc 240D',\n",
       " 'Merc 230',\n",
       " 'Merc 280',\n",
       " 'Merc 280C',\n",
       " 'Merc 450SE',\n",
       " 'Merc 450SL',\n",
       " 'Merc 450SLC',\n",
       " 'Cadillac Fleetwood',\n",
       " 'Lincoln Continental',\n",
       " 'Chrysler Imperial',\n",
       " 'Mazda RX4',\n",
       " 'Mazda RX4 Wag',\n",
       " 'Datsun 710',\n",
       " 'Hornet 4 Drive',\n",
       " 'Hornet Sportabout',\n",
       " 'Valiant',\n",
       " 'Duster 360',\n",
       " 'Merc 240D',\n",
       " 'Merc 230',\n",
       " 'Merc 280',\n",
       " 'Merc 280C',\n",
       " 'Merc 450SE',\n",
       " 'Merc 450SL',\n",
       " 'Merc 450SLC',\n",
       " 'Cadillac Fleetwood',\n",
       " 'Lincoln Continental',\n",
       " 'Chrysler Imperial',\n",
       " 'Mazda RX4',\n",
       " 'Mazda RX4 Wag',\n",
       " 'Datsun 710',\n",
       " 'Hornet 4 Drive',\n",
       " 'Hornet Sportabout',\n",
       " 'Valiant',\n",
       " 'Duster 360',\n",
       " 'Merc 240D',\n",
       " 'Merc 230',\n",
       " 'Merc 280',\n",
       " 'Merc 280C',\n",
       " 'Merc 450SE',\n",
       " 'Merc 450SL',\n",
       " 'Merc 450SLC',\n",
       " 'Cadillac Fleetwood',\n",
       " 'Lincoln Continental',\n",
       " 'Chrysler Imperial',\n",
       " 'Mazda RX4',\n",
       " 'Mazda RX4 Wag',\n",
       " 'Datsun 710',\n",
       " 'Hornet 4 Drive',\n",
       " 'Hornet Sportabout',\n",
       " 'Valiant',\n",
       " 'Duster 360',\n",
       " 'Merc 240D',\n",
       " 'Merc 230',\n",
       " 'Merc 280',\n",
       " 'Merc 280C',\n",
       " 'Merc 450SE',\n",
       " 'Merc 450SL',\n",
       " 'Merc 450SLC',\n",
       " 'Cadillac Fleetwood',\n",
       " 'Lincoln Continental',\n",
       " 'Chrysler Imperial',\n",
       " 'Mazda RX4',\n",
       " 'Mazda RX4 Wag',\n",
       " 'Datsun 710',\n",
       " 'Hornet 4 Drive',\n",
       " 'Hornet Sportabout',\n",
       " 'Valiant',\n",
       " 'Duster 360',\n",
       " 'Merc 240D',\n",
       " 'Merc 230',\n",
       " 'Merc 280',\n",
       " 'Merc 280C',\n",
       " 'Merc 450SE',\n",
       " 'Merc 450SL',\n",
       " 'Merc 450SLC',\n",
       " 'Cadillac Fleetwood',\n",
       " 'Lincoln Continental',\n",
       " 'Chrysler Imperial',\n",
       " 'Mazda RX4',\n",
       " 'Mazda RX4 Wag',\n",
       " 'Datsun 710',\n",
       " 'Hornet 4 Drive',\n",
       " 'Hornet Sportabout',\n",
       " 'Valiant',\n",
       " 'Duster 360',\n",
       " 'Merc 240D',\n",
       " 'Merc 230',\n",
       " 'Merc 280',\n",
       " 'Merc 280C',\n",
       " 'Merc 450SE',\n",
       " 'Merc 450SL',\n",
       " 'Merc 450SLC',\n",
       " 'Cadillac Fleetwood',\n",
       " 'Lincoln Continental',\n",
       " 'Chrysler Imperial',\n",
       " 'Mazda RX4',\n",
       " 'Mazda RX4 Wag',\n",
       " 'Datsun 710',\n",
       " 'Hornet 4 Drive',\n",
       " 'Hornet Sportabout',\n",
       " 'Valiant',\n",
       " 'Duster 360',\n",
       " 'Merc 240D',\n",
       " 'Merc 230',\n",
       " 'Merc 280',\n",
       " 'Merc 280C',\n",
       " 'Merc 450SE',\n",
       " 'Merc 450SL',\n",
       " 'Merc 450SLC',\n",
       " 'Cadillac Fleetwood',\n",
       " 'Lincoln Continental',\n",
       " 'Chrysler Imperial',\n",
       " 'Mazda RX4',\n",
       " 'Mazda RX4 Wag',\n",
       " 'Datsun 710',\n",
       " 'Hornet 4 Drive',\n",
       " 'Hornet Sportabout',\n",
       " 'Valiant',\n",
       " 'Duster 360',\n",
       " 'Merc 240D',\n",
       " 'Merc 230',\n",
       " 'Merc 280',\n",
       " 'Merc 280C',\n",
       " 'Merc 450SE',\n",
       " 'Merc 450SL',\n",
       " 'Merc 450SLC',\n",
       " 'Cadillac Fleetwood',\n",
       " 'Lincoln Continental',\n",
       " 'Chrysler Imperial',\n",
       " 'Mazda RX4',\n",
       " 'Mazda RX4 Wag',\n",
       " 'Datsun 710',\n",
       " 'Hornet 4 Drive',\n",
       " 'Hornet Sportabout',\n",
       " 'Valiant',\n",
       " 'Duster 360',\n",
       " 'Merc 240D',\n",
       " 'Merc 230',\n",
       " 'Merc 280',\n",
       " 'Merc 280C',\n",
       " 'Merc 450SE',\n",
       " 'Merc 450SL',\n",
       " 'Merc 450SLC',\n",
       " 'Cadillac Fleetwood',\n",
       " 'Lincoln Continental',\n",
       " 'Chrysler Imperial',\n",
       " 'Mazda RX4',\n",
       " 'Mazda RX4 Wag',\n",
       " 'Datsun 710',\n",
       " 'Hornet 4 Drive',\n",
       " 'Hornet Sportabout',\n",
       " 'Valiant',\n",
       " 'Duster 360',\n",
       " 'Merc 240D',\n",
       " 'Merc 230',\n",
       " 'Merc 280',\n",
       " 'Merc 280C',\n",
       " 'Merc 450SE',\n",
       " 'Merc 450SL',\n",
       " 'Merc 450SLC',\n",
       " 'Cadillac Fleetwood',\n",
       " 'Lincoln Continental',\n",
       " 'Chrysler Imperial',\n",
       " 'Mazda RX4',\n",
       " 'Mazda RX4 Wag',\n",
       " 'Datsun 710',\n",
       " 'Hornet 4 Drive',\n",
       " 'Hornet Sportabout',\n",
       " 'Valiant',\n",
       " 'Duster 360',\n",
       " 'Merc 240D',\n",
       " 'Merc 230',\n",
       " 'Merc 280',\n",
       " 'Merc 280C',\n",
       " 'Merc 450SE',\n",
       " 'Merc 450SL',\n",
       " 'Merc 450SLC',\n",
       " 'Cadillac Fleetwood',\n",
       " 'Lincoln Continental',\n",
       " 'Chrysler Imperial',\n",
       " 'Mazda RX4',\n",
       " 'Mazda RX4 Wag',\n",
       " 'Datsun 710',\n",
       " 'Hornet 4 Drive',\n",
       " 'Hornet Sportabout',\n",
       " 'Valiant',\n",
       " 'Duster 360',\n",
       " 'Merc 240D',\n",
       " 'Merc 230',\n",
       " 'Merc 280',\n",
       " 'Merc 280C',\n",
       " 'Merc 450SE',\n",
       " 'Merc 450SL',\n",
       " 'Merc 450SLC',\n",
       " 'Cadillac Fleetwood',\n",
       " 'Lincoln Continental',\n",
       " 'Chrysler Imperial',\n",
       " 'Mazda RX4',\n",
       " 'Mazda RX4 Wag',\n",
       " 'Datsun 710',\n",
       " 'Hornet 4 Drive',\n",
       " 'Hornet Sportabout',\n",
       " 'Valiant',\n",
       " 'Duster 360',\n",
       " 'Merc 240D',\n",
       " 'Merc 230',\n",
       " 'Merc 280',\n",
       " 'Merc 280C',\n",
       " 'Merc 450SE',\n",
       " 'Merc 450SL',\n",
       " 'Merc 450SLC',\n",
       " 'Cadillac Fleetwood',\n",
       " 'Lincoln Continental',\n",
       " 'Chrysler Imperial',\n",
       " 'Mazda RX4',\n",
       " 'Mazda RX4 Wag',\n",
       " 'Datsun 710',\n",
       " 'Hornet 4 Drive',\n",
       " 'Hornet Sportabout',\n",
       " 'Valiant',\n",
       " 'Duster 360',\n",
       " 'Merc 240D',\n",
       " 'Merc 230',\n",
       " 'Merc 280',\n",
       " 'Merc 280C',\n",
       " 'Merc 450SE',\n",
       " 'Merc 450SL',\n",
       " 'Merc 450SLC',\n",
       " 'Cadillac Fleetwood',\n",
       " 'Lincoln Continental',\n",
       " 'Chrysler Imperial',\n",
       " 'Mazda RX4',\n",
       " 'Mazda RX4 Wag',\n",
       " 'Datsun 710',\n",
       " 'Hornet 4 Drive',\n",
       " 'Hornet Sportabout',\n",
       " 'Valiant',\n",
       " 'Duster 360',\n",
       " 'Merc 240D',\n",
       " 'Merc 230',\n",
       " 'Merc 280',\n",
       " 'Merc 280C',\n",
       " 'Merc 450SE',\n",
       " 'Merc 450SL',\n",
       " 'Merc 450SLC',\n",
       " 'Cadillac Fleetwood',\n",
       " 'Lincoln Continental',\n",
       " 'Chrysler Imperial',\n",
       " 'Mazda RX4',\n",
       " 'Mazda RX4 Wag',\n",
       " 'Datsun 710',\n",
       " 'Hornet 4 Drive',\n",
       " 'Hornet Sportabout',\n",
       " 'Valiant',\n",
       " 'Duster 360',\n",
       " 'Merc 240D',\n",
       " 'Merc 230',\n",
       " 'Merc 280',\n",
       " 'Merc 280C',\n",
       " 'Merc 450SE',\n",
       " 'Merc 450SL',\n",
       " 'Merc 450SLC',\n",
       " 'Cadillac Fleetwood',\n",
       " 'Lincoln Continental',\n",
       " 'Chrysler Imperial',\n",
       " 'Mazda RX4',\n",
       " 'Mazda RX4 Wag',\n",
       " 'Datsun 710',\n",
       " 'Hornet 4 Drive',\n",
       " 'Hornet Sportabout',\n",
       " 'Valiant',\n",
       " 'Duster 360',\n",
       " 'Merc 240D',\n",
       " 'Merc 230',\n",
       " 'Merc 280',\n",
       " 'Merc 280C',\n",
       " 'Merc 450SE',\n",
       " 'Merc 450SL',\n",
       " 'Merc 450SLC',\n",
       " 'Cadillac Fleetwood',\n",
       " 'Lincoln Continental',\n",
       " 'Chrysler Imperial',\n",
       " 'Mazda RX4',\n",
       " 'Mazda RX4 Wag',\n",
       " 'Datsun 710',\n",
       " 'Hornet 4 Drive',\n",
       " 'Hornet Sportabout',\n",
       " 'Valiant',\n",
       " 'Duster 360',\n",
       " 'Merc 240D',\n",
       " 'Merc 230',\n",
       " 'Merc 280',\n",
       " 'Merc 280C',\n",
       " 'Merc 450SE',\n",
       " 'Merc 450SL',\n",
       " 'Merc 450SLC',\n",
       " 'Cadillac Fleetwood',\n",
       " 'Lincoln Continental',\n",
       " 'Chrysler Imperial',\n",
       " 'Mazda RX4',\n",
       " 'Mazda RX4 Wag',\n",
       " 'Datsun 710',\n",
       " 'Hornet 4 Drive',\n",
       " 'Hornet Sportabout',\n",
       " 'Valiant',\n",
       " 'Duster 360',\n",
       " 'Merc 240D',\n",
       " 'Merc 230',\n",
       " 'Merc 280',\n",
       " 'Merc 280C',\n",
       " 'Merc 450SE',\n",
       " 'Merc 450SL',\n",
       " 'Merc 450SLC',\n",
       " 'Cadillac Fleetwood',\n",
       " 'Lincoln Continental',\n",
       " 'Chrysler Imperial',\n",
       " 'Mazda RX4',\n",
       " 'Mazda RX4 Wag',\n",
       " 'Datsun 710',\n",
       " 'Hornet 4 Drive',\n",
       " 'Hornet Sportabout',\n",
       " 'Valiant',\n",
       " 'Duster 360',\n",
       " 'Merc 240D',\n",
       " 'Merc 230',\n",
       " 'Merc 280',\n",
       " 'Merc 280C',\n",
       " 'Merc 450SE',\n",
       " 'Merc 450SL',\n",
       " 'Merc 450SLC',\n",
       " 'Cadillac Fleetwood',\n",
       " 'Lincoln Continental',\n",
       " 'Chrysler Imperial',\n",
       " 'Mazda RX4',\n",
       " 'Mazda RX4 Wag',\n",
       " 'Datsun 710',\n",
       " 'Hornet 4 Drive',\n",
       " 'Hornet Sportabout',\n",
       " 'Valiant',\n",
       " 'Duster 360',\n",
       " 'Merc 240D',\n",
       " 'Merc 230',\n",
       " 'Merc 280',\n",
       " 'Merc 280C',\n",
       " 'Merc 450SE',\n",
       " 'Merc 450SL',\n",
       " 'Merc 450SLC',\n",
       " 'Cadillac Fleetwood',\n",
       " 'Lincoln Continental',\n",
       " 'Chrysler Imperial',\n",
       " 'Mazda RX4',\n",
       " 'Mazda RX4 Wag',\n",
       " 'Datsun 710',\n",
       " 'Hornet 4 Drive',\n",
       " 'Hornet Sportabout',\n",
       " 'Valiant',\n",
       " 'Duster 360',\n",
       " 'Merc 240D',\n",
       " 'Merc 230',\n",
       " 'Merc 280',\n",
       " 'Merc 280C',\n",
       " 'Merc 450SE',\n",
       " 'Merc 450SL',\n",
       " 'Merc 450SLC',\n",
       " 'Cadillac Fleetwood',\n",
       " 'Lincoln Continental',\n",
       " 'Chrysler Imperial',\n",
       " 'Mazda RX4',\n",
       " 'Mazda RX4 Wag',\n",
       " 'Datsun 710',\n",
       " 'Hornet 4 Drive',\n",
       " 'Hornet Sportabout',\n",
       " 'Valiant',\n",
       " 'Duster 360',\n",
       " 'Merc 240D',\n",
       " 'Merc 230',\n",
       " 'Merc 280',\n",
       " 'Merc 280C',\n",
       " 'Merc 450SE',\n",
       " 'Merc 450SL',\n",
       " 'Merc 450SLC',\n",
       " 'Cadillac Fleetwood',\n",
       " 'Lincoln Continental',\n",
       " 'Chrysler Imperial',\n",
       " 'Mazda RX4',\n",
       " 'Mazda RX4 Wag',\n",
       " 'Datsun 710',\n",
       " 'Hornet 4 Drive',\n",
       " 'Hornet Sportabout',\n",
       " 'Valiant',\n",
       " 'Duster 360',\n",
       " 'Merc 240D',\n",
       " 'Merc 230',\n",
       " 'Merc 280',\n",
       " 'Merc 280C',\n",
       " 'Merc 450SE',\n",
       " 'Merc 450SL',\n",
       " 'Merc 450SLC',\n",
       " 'Cadillac Fleetwood',\n",
       " 'Lincoln Continental',\n",
       " 'Chrysler Imperial',\n",
       " 'Mazda RX4',\n",
       " 'Mazda RX4 Wag',\n",
       " 'Datsun 710',\n",
       " 'Hornet 4 Drive',\n",
       " 'Hornet Sportabout',\n",
       " 'Valiant',\n",
       " 'Duster 360',\n",
       " 'Merc 240D',\n",
       " 'Merc 230',\n",
       " 'Merc 280',\n",
       " 'Merc 280C',\n",
       " 'Merc 450SE',\n",
       " 'Merc 450SL',\n",
       " 'Merc 450SLC',\n",
       " 'Cadillac Fleetwood',\n",
       " 'Lincoln Continental',\n",
       " 'Chrysler Imperial',\n",
       " 'Mazda RX4',\n",
       " 'Mazda RX4 Wag',\n",
       " 'Datsun 710',\n",
       " 'Hornet 4 Drive',\n",
       " 'Hornet Sportabout',\n",
       " 'Valiant',\n",
       " 'Duster 360',\n",
       " 'Merc 240D',\n",
       " 'Merc 230',\n",
       " 'Merc 280',\n",
       " 'Merc 280C',\n",
       " 'Merc 450SE',\n",
       " 'Merc 450SL',\n",
       " 'Merc 450SLC',\n",
       " 'Cadillac Fleetwood',\n",
       " 'Lincoln Continental',\n",
       " 'Chrysler Imperial',\n",
       " 'Mazda RX4',\n",
       " 'Mazda RX4 Wag',\n",
       " 'Datsun 710',\n",
       " 'Hornet 4 Drive',\n",
       " 'Hornet Sportabout',\n",
       " 'Valiant',\n",
       " 'Duster 360',\n",
       " 'Merc 240D',\n",
       " 'Merc 230',\n",
       " 'Merc 280',\n",
       " 'Merc 280C',\n",
       " 'Merc 450SE',\n",
       " 'Merc 450SL',\n",
       " 'Merc 450SLC',\n",
       " 'Cadillac Fleetwood',\n",
       " 'Lincoln Continental',\n",
       " 'Chrysler Imperial',\n",
       " 'Mazda RX4',\n",
       " 'Mazda RX4 Wag',\n",
       " 'Datsun 710',\n",
       " 'Hornet 4 Drive',\n",
       " 'Hornet Sportabout',\n",
       " 'Valiant',\n",
       " 'Duster 360',\n",
       " 'Merc 240D',\n",
       " 'Merc 230',\n",
       " 'Merc 280',\n",
       " 'Merc 280C',\n",
       " 'Merc 450SE',\n",
       " 'Merc 450SL',\n",
       " 'Merc 450SLC',\n",
       " 'Cadillac Fleetwood',\n",
       " 'Lincoln Continental',\n",
       " 'Chrysler Imperial',\n",
       " 'Mazda RX4',\n",
       " 'Mazda RX4 Wag',\n",
       " 'Datsun 710',\n",
       " 'Hornet 4 Drive',\n",
       " 'Hornet Sportabout',\n",
       " 'Valiant',\n",
       " 'Duster 360',\n",
       " 'Merc 240D',\n",
       " 'Merc 230',\n",
       " 'Merc 280',\n",
       " 'Merc 280C',\n",
       " 'Merc 450SE',\n",
       " 'Merc 450SL',\n",
       " 'Merc 450SLC',\n",
       " 'Cadillac Fleetwood',\n",
       " 'Lincoln Continental',\n",
       " 'Chrysler Imperial',\n",
       " 'Mazda RX4',\n",
       " 'Mazda RX4 Wag',\n",
       " 'Datsun 710',\n",
       " 'Hornet 4 Drive',\n",
       " 'Hornet Sportabout',\n",
       " 'Valiant',\n",
       " 'Duster 360',\n",
       " 'Merc 240D',\n",
       " 'Merc 230',\n",
       " 'Merc 280',\n",
       " 'Merc 280C',\n",
       " 'Merc 450SE',\n",
       " 'Merc 450SL',\n",
       " 'Merc 450SLC',\n",
       " 'Cadillac Fleetwood',\n",
       " 'Lincoln Continental',\n",
       " 'Chrysler Imperial',\n",
       " 'Mazda RX4',\n",
       " 'Mazda RX4 Wag',\n",
       " 'Datsun 710',\n",
       " 'Hornet 4 Drive',\n",
       " 'Hornet Sportabout',\n",
       " 'Valiant',\n",
       " 'Duster 360',\n",
       " 'Merc 240D',\n",
       " 'Merc 230',\n",
       " 'Merc 280',\n",
       " 'Merc 280C',\n",
       " 'Merc 450SE',\n",
       " 'Merc 450SL',\n",
       " 'Merc 450SLC',\n",
       " ...]"
      ]
     },
     "execution_count": 256,
     "metadata": {},
     "output_type": "execute_result"
    }
   ],
   "source": [
    "car1*100"
   ]
  },
  {
   "cell_type": "code",
   "execution_count": 257,
   "id": "suburban-quarter",
   "metadata": {},
   "outputs": [
    {
     "data": {
      "text/plain": [
       "['Fiat 128',\n",
       " 'Honda Civic',\n",
       " 'Toyota Corolla',\n",
       " 'Toyota Corona',\n",
       " 'Dodge Challenger',\n",
       " 'AMC Javelin',\n",
       " 'Camaro Z28',\n",
       " 'Pontiac Firebird',\n",
       " 'Fiat X1-9',\n",
       " 'Porsche 914-2',\n",
       " 'Lotus Europa',\n",
       " 'Ford Pantera L',\n",
       " 'Ferrari Dino',\n",
       " 'Maserati Bora',\n",
       " 'Volvo 142E',\n",
       " 'Mazda RX4',\n",
       " 'Mazda RX4 Wag',\n",
       " 'Datsun 710',\n",
       " 'Hornet 4 Drive',\n",
       " 'Hornet Sportabout',\n",
       " 'Valiant',\n",
       " 'Duster 360',\n",
       " 'Merc 240D',\n",
       " 'Merc 230',\n",
       " 'Merc 280',\n",
       " 'Merc 280C',\n",
       " 'Merc 450SE',\n",
       " 'Merc 450SL',\n",
       " 'Merc 450SLC',\n",
       " 'Cadillac Fleetwood',\n",
       " 'Lincoln Continental',\n",
       " 'Chrysler Imperial']"
      ]
     },
     "execution_count": 257,
     "metadata": {},
     "output_type": "execute_result"
    }
   ],
   "source": [
    "car2 +car1"
   ]
  },
  {
   "cell_type": "code",
   "execution_count": 260,
   "id": "serious-professional",
   "metadata": {},
   "outputs": [
    {
     "data": {
      "text/plain": [
       "[('Mazda RX4', 'Fiat 128'),\n",
       " ('Mazda RX4 Wag', 'Honda Civic'),\n",
       " ('Datsun 710', 'Toyota Corolla'),\n",
       " ('Hornet 4 Drive', 'Toyota Corona'),\n",
       " ('Hornet Sportabout', 'Dodge Challenger'),\n",
       " ('Valiant', 'AMC Javelin'),\n",
       " ('Duster 360', 'Camaro Z28'),\n",
       " ('Merc 240D', 'Pontiac Firebird'),\n",
       " ('Merc 230', 'Fiat X1-9'),\n",
       " ('Merc 280', 'Porsche 914-2'),\n",
       " ('Merc 280C', 'Lotus Europa'),\n",
       " ('Merc 450SE', 'Ford Pantera L'),\n",
       " ('Merc 450SL', 'Ferrari Dino'),\n",
       " ('Merc 450SLC', 'Maserati Bora'),\n",
       " ('Cadillac Fleetwood', 'Volvo 142E')]"
      ]
     },
     "execution_count": 260,
     "metadata": {},
     "output_type": "execute_result"
    }
   ],
   "source": [
    "list(zip(car1,car2))"
   ]
  },
  {
   "cell_type": "code",
   "execution_count": 261,
   "id": "intelligent-thanks",
   "metadata": {},
   "outputs": [
    {
     "data": {
      "text/html": [
       "<div>\n",
       "<style scoped>\n",
       "    .dataframe tbody tr th:only-of-type {\n",
       "        vertical-align: middle;\n",
       "    }\n",
       "\n",
       "    .dataframe tbody tr th {\n",
       "        vertical-align: top;\n",
       "    }\n",
       "\n",
       "    .dataframe thead th {\n",
       "        text-align: right;\n",
       "    }\n",
       "</style>\n",
       "<table border=\"1\" class=\"dataframe\">\n",
       "  <thead>\n",
       "    <tr style=\"text-align: right;\">\n",
       "      <th></th>\n",
       "      <th>0</th>\n",
       "      <th>1</th>\n",
       "    </tr>\n",
       "  </thead>\n",
       "  <tbody>\n",
       "    <tr>\n",
       "      <th>0</th>\n",
       "      <td>Mazda RX4</td>\n",
       "      <td>Fiat 128</td>\n",
       "    </tr>\n",
       "    <tr>\n",
       "      <th>1</th>\n",
       "      <td>Mazda RX4 Wag</td>\n",
       "      <td>Honda Civic</td>\n",
       "    </tr>\n",
       "    <tr>\n",
       "      <th>2</th>\n",
       "      <td>Datsun 710</td>\n",
       "      <td>Toyota Corolla</td>\n",
       "    </tr>\n",
       "    <tr>\n",
       "      <th>3</th>\n",
       "      <td>Hornet 4 Drive</td>\n",
       "      <td>Toyota Corona</td>\n",
       "    </tr>\n",
       "    <tr>\n",
       "      <th>4</th>\n",
       "      <td>Hornet Sportabout</td>\n",
       "      <td>Dodge Challenger</td>\n",
       "    </tr>\n",
       "    <tr>\n",
       "      <th>5</th>\n",
       "      <td>Valiant</td>\n",
       "      <td>AMC Javelin</td>\n",
       "    </tr>\n",
       "    <tr>\n",
       "      <th>6</th>\n",
       "      <td>Duster 360</td>\n",
       "      <td>Camaro Z28</td>\n",
       "    </tr>\n",
       "    <tr>\n",
       "      <th>7</th>\n",
       "      <td>Merc 240D</td>\n",
       "      <td>Pontiac Firebird</td>\n",
       "    </tr>\n",
       "    <tr>\n",
       "      <th>8</th>\n",
       "      <td>Merc 230</td>\n",
       "      <td>Fiat X1-9</td>\n",
       "    </tr>\n",
       "    <tr>\n",
       "      <th>9</th>\n",
       "      <td>Merc 280</td>\n",
       "      <td>Porsche 914-2</td>\n",
       "    </tr>\n",
       "    <tr>\n",
       "      <th>10</th>\n",
       "      <td>Merc 280C</td>\n",
       "      <td>Lotus Europa</td>\n",
       "    </tr>\n",
       "    <tr>\n",
       "      <th>11</th>\n",
       "      <td>Merc 450SE</td>\n",
       "      <td>Ford Pantera L</td>\n",
       "    </tr>\n",
       "    <tr>\n",
       "      <th>12</th>\n",
       "      <td>Merc 450SL</td>\n",
       "      <td>Ferrari Dino</td>\n",
       "    </tr>\n",
       "    <tr>\n",
       "      <th>13</th>\n",
       "      <td>Merc 450SLC</td>\n",
       "      <td>Maserati Bora</td>\n",
       "    </tr>\n",
       "    <tr>\n",
       "      <th>14</th>\n",
       "      <td>Cadillac Fleetwood</td>\n",
       "      <td>Volvo 142E</td>\n",
       "    </tr>\n",
       "  </tbody>\n",
       "</table>\n",
       "</div>"
      ],
      "text/plain": [
       "                     0                 1\n",
       "0            Mazda RX4          Fiat 128\n",
       "1        Mazda RX4 Wag       Honda Civic\n",
       "2           Datsun 710    Toyota Corolla\n",
       "3       Hornet 4 Drive     Toyota Corona\n",
       "4    Hornet Sportabout  Dodge Challenger\n",
       "5              Valiant       AMC Javelin\n",
       "6           Duster 360        Camaro Z28\n",
       "7            Merc 240D  Pontiac Firebird\n",
       "8             Merc 230         Fiat X1-9\n",
       "9             Merc 280     Porsche 914-2\n",
       "10           Merc 280C      Lotus Europa\n",
       "11          Merc 450SE    Ford Pantera L\n",
       "12          Merc 450SL      Ferrari Dino\n",
       "13         Merc 450SLC     Maserati Bora\n",
       "14  Cadillac Fleetwood        Volvo 142E"
      ]
     },
     "execution_count": 261,
     "metadata": {},
     "output_type": "execute_result"
    }
   ],
   "source": [
    "pd.DataFrame(zip(car1,car2))"
   ]
  },
  {
   "cell_type": "code",
   "execution_count": 262,
   "id": "valuable-jacksonville",
   "metadata": {},
   "outputs": [],
   "source": [
    "# set comprehensions ?\n",
    "# tuple comprehesnions ?"
   ]
  },
  {
   "cell_type": "code",
   "execution_count": 263,
   "id": "bronze-wrestling",
   "metadata": {},
   "outputs": [],
   "source": [
    "list123 = list(df.mpg)"
   ]
  },
  {
   "cell_type": "code",
   "execution_count": 265,
   "id": "adequate-treat",
   "metadata": {},
   "outputs": [
    {
     "name": "stdout",
     "output_type": "stream",
     "text": [
      "[21.0, 21.0, 22.8, 21.4, 18.7, 18.1, 14.3, 24.4, 22.8, 19.2, 17.8, 16.4, 17.3, 15.2, 10.4, 10.4, 14.7, 32.4, 30.4, 33.9, 21.5, 15.5, 15.2, 13.3, 19.2, 27.3, 26.0, 30.4, 15.8, 19.7, 15.0, 21.4]\n"
     ]
    }
   ],
   "source": [
    "print(list123)"
   ]
  },
  {
   "cell_type": "code",
   "execution_count": 266,
   "id": "royal-replication",
   "metadata": {},
   "outputs": [
    {
     "name": "stdout",
     "output_type": "stream",
     "text": [
      "[21.4, 15.0, 19.7, 15.8, 30.4, 26.0, 27.3, 19.2, 13.3, 15.2, 15.5, 21.5, 33.9, 30.4, 32.4, 14.7, 10.4, 10.4, 15.2, 17.3, 16.4, 17.8, 19.2, 22.8, 24.4, 14.3, 18.1, 18.7, 21.4, 22.8, 21.0, 21.0]\n"
     ]
    }
   ],
   "source": [
    "print(list123[::-1]) # reverse"
   ]
  },
  {
   "cell_type": "code",
   "execution_count": 269,
   "id": "willing-chambers",
   "metadata": {},
   "outputs": [
    {
     "name": "stdout",
     "output_type": "stream",
     "text": [
      "[33.9, 32.4, 30.4, 30.4, 27.3, 26.0, 24.4, 22.8, 22.8, 21.5, 21.4, 21.4, 21.0, 21.0, 19.7, 19.2, 19.2, 18.7, 18.1, 17.8, 17.3, 16.4, 15.8, 15.5, 15.2, 15.2, 15.0, 14.7, 14.3, 13.3, 10.4, 10.4]\n"
     ]
    }
   ],
   "source": [
    "print(sorted(list123,reverse=True))"
   ]
  },
  {
   "cell_type": "code",
   "execution_count": 270,
   "id": "bacterial-relief",
   "metadata": {},
   "outputs": [
    {
     "name": "stdout",
     "output_type": "stream",
     "text": [
      "[10.4, 10.4, 13.3, 14.3, 14.7, 15.0, 15.2, 15.2, 15.5, 15.8, 16.4, 17.3, 17.8, 18.1, 18.7, 19.2, 19.2, 19.7, 21.0, 21.0, 21.4, 21.4, 21.5, 22.8, 22.8, 24.4, 26.0, 27.3, 30.4, 30.4, 32.4, 33.9]\n"
     ]
    }
   ],
   "source": [
    "print(sorted(list123,reverse=False))"
   ]
  },
  {
   "cell_type": "code",
   "execution_count": 273,
   "id": "responsible-knock",
   "metadata": {},
   "outputs": [
    {
     "data": {
      "text/plain": [
       "{4, 6, 8}"
      ]
     },
     "execution_count": 273,
     "metadata": {},
     "output_type": "execute_result"
    }
   ],
   "source": [
    "set(df.cyl)"
   ]
  },
  {
   "cell_type": "code",
   "execution_count": 274,
   "id": "otherwise-housing",
   "metadata": {},
   "outputs": [],
   "source": [
    "# what is the average mpg by cyl ?"
   ]
  },
  {
   "cell_type": "code",
   "execution_count": 277,
   "id": "amateur-company",
   "metadata": {},
   "outputs": [],
   "source": [
    "# can we use dict, list or linked list to solve this ?"
   ]
  },
  {
   "cell_type": "code",
   "execution_count": 279,
   "id": "neutral-safety",
   "metadata": {},
   "outputs": [],
   "source": [
    "# reading data from external file systems:"
   ]
  },
  {
   "cell_type": "code",
   "execution_count": 280,
   "id": "unavailable-precipitation",
   "metadata": {},
   "outputs": [],
   "source": [
    "import os"
   ]
  },
  {
   "cell_type": "code",
   "execution_count": 282,
   "id": "bulgarian-western",
   "metadata": {},
   "outputs": [
    {
     "data": {
      "text/plain": [
       "'/Users/pradmishra/Desktop/Reva University/MTech in AI Course/AI-02 Batch'"
      ]
     },
     "execution_count": 282,
     "metadata": {},
     "output_type": "execute_result"
    }
   ],
   "source": [
    "os.getcwd()"
   ]
  },
  {
   "cell_type": "code",
   "execution_count": 285,
   "id": "available-background",
   "metadata": {},
   "outputs": [],
   "source": [
    "df = pd.read_csv('https://archive.ics.uci.edu/ml/machine-learning-databases/mushroom/agaricus-lepiota.data',\n",
    "                header=None)"
   ]
  },
  {
   "cell_type": "code",
   "execution_count": 287,
   "id": "appointed-pasta",
   "metadata": {},
   "outputs": [
    {
     "name": "stdout",
     "output_type": "stream",
     "text": [
      "<class 'pandas.core.frame.DataFrame'>\n",
      "RangeIndex: 8124 entries, 0 to 8123\n",
      "Data columns (total 23 columns):\n",
      " #   Column  Non-Null Count  Dtype \n",
      "---  ------  --------------  ----- \n",
      " 0   0       8124 non-null   object\n",
      " 1   1       8124 non-null   object\n",
      " 2   2       8124 non-null   object\n",
      " 3   3       8124 non-null   object\n",
      " 4   4       8124 non-null   object\n",
      " 5   5       8124 non-null   object\n",
      " 6   6       8124 non-null   object\n",
      " 7   7       8124 non-null   object\n",
      " 8   8       8124 non-null   object\n",
      " 9   9       8124 non-null   object\n",
      " 10  10      8124 non-null   object\n",
      " 11  11      8124 non-null   object\n",
      " 12  12      8124 non-null   object\n",
      " 13  13      8124 non-null   object\n",
      " 14  14      8124 non-null   object\n",
      " 15  15      8124 non-null   object\n",
      " 16  16      8124 non-null   object\n",
      " 17  17      8124 non-null   object\n",
      " 18  18      8124 non-null   object\n",
      " 19  19      8124 non-null   object\n",
      " 20  20      8124 non-null   object\n",
      " 21  21      8124 non-null   object\n",
      " 22  22      8124 non-null   object\n",
      "dtypes: object(23)\n",
      "memory usage: 1.4+ MB\n"
     ]
    }
   ],
   "source": [
    "df.info()"
   ]
  },
  {
   "cell_type": "code",
   "execution_count": 288,
   "id": "virgin-contrary",
   "metadata": {},
   "outputs": [
    {
     "data": {
      "text/html": [
       "<div>\n",
       "<style scoped>\n",
       "    .dataframe tbody tr th:only-of-type {\n",
       "        vertical-align: middle;\n",
       "    }\n",
       "\n",
       "    .dataframe tbody tr th {\n",
       "        vertical-align: top;\n",
       "    }\n",
       "\n",
       "    .dataframe thead th {\n",
       "        text-align: right;\n",
       "    }\n",
       "</style>\n",
       "<table border=\"1\" class=\"dataframe\">\n",
       "  <thead>\n",
       "    <tr style=\"text-align: right;\">\n",
       "      <th></th>\n",
       "      <th>0</th>\n",
       "      <th>1</th>\n",
       "      <th>2</th>\n",
       "      <th>3</th>\n",
       "      <th>4</th>\n",
       "      <th>5</th>\n",
       "      <th>6</th>\n",
       "      <th>7</th>\n",
       "      <th>8</th>\n",
       "      <th>9</th>\n",
       "      <th>...</th>\n",
       "      <th>13</th>\n",
       "      <th>14</th>\n",
       "      <th>15</th>\n",
       "      <th>16</th>\n",
       "      <th>17</th>\n",
       "      <th>18</th>\n",
       "      <th>19</th>\n",
       "      <th>20</th>\n",
       "      <th>21</th>\n",
       "      <th>22</th>\n",
       "    </tr>\n",
       "  </thead>\n",
       "  <tbody>\n",
       "    <tr>\n",
       "      <th>0</th>\n",
       "      <td>p</td>\n",
       "      <td>x</td>\n",
       "      <td>s</td>\n",
       "      <td>n</td>\n",
       "      <td>t</td>\n",
       "      <td>p</td>\n",
       "      <td>f</td>\n",
       "      <td>c</td>\n",
       "      <td>n</td>\n",
       "      <td>k</td>\n",
       "      <td>...</td>\n",
       "      <td>s</td>\n",
       "      <td>w</td>\n",
       "      <td>w</td>\n",
       "      <td>p</td>\n",
       "      <td>w</td>\n",
       "      <td>o</td>\n",
       "      <td>p</td>\n",
       "      <td>k</td>\n",
       "      <td>s</td>\n",
       "      <td>u</td>\n",
       "    </tr>\n",
       "    <tr>\n",
       "      <th>1</th>\n",
       "      <td>e</td>\n",
       "      <td>x</td>\n",
       "      <td>s</td>\n",
       "      <td>y</td>\n",
       "      <td>t</td>\n",
       "      <td>a</td>\n",
       "      <td>f</td>\n",
       "      <td>c</td>\n",
       "      <td>b</td>\n",
       "      <td>k</td>\n",
       "      <td>...</td>\n",
       "      <td>s</td>\n",
       "      <td>w</td>\n",
       "      <td>w</td>\n",
       "      <td>p</td>\n",
       "      <td>w</td>\n",
       "      <td>o</td>\n",
       "      <td>p</td>\n",
       "      <td>n</td>\n",
       "      <td>n</td>\n",
       "      <td>g</td>\n",
       "    </tr>\n",
       "    <tr>\n",
       "      <th>2</th>\n",
       "      <td>e</td>\n",
       "      <td>b</td>\n",
       "      <td>s</td>\n",
       "      <td>w</td>\n",
       "      <td>t</td>\n",
       "      <td>l</td>\n",
       "      <td>f</td>\n",
       "      <td>c</td>\n",
       "      <td>b</td>\n",
       "      <td>n</td>\n",
       "      <td>...</td>\n",
       "      <td>s</td>\n",
       "      <td>w</td>\n",
       "      <td>w</td>\n",
       "      <td>p</td>\n",
       "      <td>w</td>\n",
       "      <td>o</td>\n",
       "      <td>p</td>\n",
       "      <td>n</td>\n",
       "      <td>n</td>\n",
       "      <td>m</td>\n",
       "    </tr>\n",
       "    <tr>\n",
       "      <th>3</th>\n",
       "      <td>p</td>\n",
       "      <td>x</td>\n",
       "      <td>y</td>\n",
       "      <td>w</td>\n",
       "      <td>t</td>\n",
       "      <td>p</td>\n",
       "      <td>f</td>\n",
       "      <td>c</td>\n",
       "      <td>n</td>\n",
       "      <td>n</td>\n",
       "      <td>...</td>\n",
       "      <td>s</td>\n",
       "      <td>w</td>\n",
       "      <td>w</td>\n",
       "      <td>p</td>\n",
       "      <td>w</td>\n",
       "      <td>o</td>\n",
       "      <td>p</td>\n",
       "      <td>k</td>\n",
       "      <td>s</td>\n",
       "      <td>u</td>\n",
       "    </tr>\n",
       "    <tr>\n",
       "      <th>4</th>\n",
       "      <td>e</td>\n",
       "      <td>x</td>\n",
       "      <td>s</td>\n",
       "      <td>g</td>\n",
       "      <td>f</td>\n",
       "      <td>n</td>\n",
       "      <td>f</td>\n",
       "      <td>w</td>\n",
       "      <td>b</td>\n",
       "      <td>k</td>\n",
       "      <td>...</td>\n",
       "      <td>s</td>\n",
       "      <td>w</td>\n",
       "      <td>w</td>\n",
       "      <td>p</td>\n",
       "      <td>w</td>\n",
       "      <td>o</td>\n",
       "      <td>e</td>\n",
       "      <td>n</td>\n",
       "      <td>a</td>\n",
       "      <td>g</td>\n",
       "    </tr>\n",
       "  </tbody>\n",
       "</table>\n",
       "<p>5 rows × 23 columns</p>\n",
       "</div>"
      ],
      "text/plain": [
       "  0  1  2  3  4  5  6  7  8  9   ... 13 14 15 16 17 18 19 20 21 22\n",
       "0  p  x  s  n  t  p  f  c  n  k  ...  s  w  w  p  w  o  p  k  s  u\n",
       "1  e  x  s  y  t  a  f  c  b  k  ...  s  w  w  p  w  o  p  n  n  g\n",
       "2  e  b  s  w  t  l  f  c  b  n  ...  s  w  w  p  w  o  p  n  n  m\n",
       "3  p  x  y  w  t  p  f  c  n  n  ...  s  w  w  p  w  o  p  k  s  u\n",
       "4  e  x  s  g  f  n  f  w  b  k  ...  s  w  w  p  w  o  e  n  a  g\n",
       "\n",
       "[5 rows x 23 columns]"
      ]
     },
     "execution_count": 288,
     "metadata": {},
     "output_type": "execute_result"
    }
   ],
   "source": [
    "df.head()"
   ]
  },
  {
   "cell_type": "code",
   "execution_count": 296,
   "id": "completed-basis",
   "metadata": {},
   "outputs": [],
   "source": [
    "df = pd.read_csv('https://archive.ics.uci.edu/ml/machine-learning-databases/car/car.data',\n",
    "                header=None,nrows=100)"
   ]
  },
  {
   "cell_type": "code",
   "execution_count": 297,
   "id": "technological-credit",
   "metadata": {},
   "outputs": [
    {
     "data": {
      "text/html": [
       "<div>\n",
       "<style scoped>\n",
       "    .dataframe tbody tr th:only-of-type {\n",
       "        vertical-align: middle;\n",
       "    }\n",
       "\n",
       "    .dataframe tbody tr th {\n",
       "        vertical-align: top;\n",
       "    }\n",
       "\n",
       "    .dataframe thead th {\n",
       "        text-align: right;\n",
       "    }\n",
       "</style>\n",
       "<table border=\"1\" class=\"dataframe\">\n",
       "  <thead>\n",
       "    <tr style=\"text-align: right;\">\n",
       "      <th></th>\n",
       "      <th>0</th>\n",
       "      <th>1</th>\n",
       "      <th>2</th>\n",
       "      <th>3</th>\n",
       "      <th>4</th>\n",
       "      <th>5</th>\n",
       "      <th>6</th>\n",
       "    </tr>\n",
       "  </thead>\n",
       "  <tbody>\n",
       "    <tr>\n",
       "      <th>0</th>\n",
       "      <td>vhigh</td>\n",
       "      <td>vhigh</td>\n",
       "      <td>2</td>\n",
       "      <td>2</td>\n",
       "      <td>small</td>\n",
       "      <td>low</td>\n",
       "      <td>unacc</td>\n",
       "    </tr>\n",
       "    <tr>\n",
       "      <th>1</th>\n",
       "      <td>vhigh</td>\n",
       "      <td>vhigh</td>\n",
       "      <td>2</td>\n",
       "      <td>2</td>\n",
       "      <td>small</td>\n",
       "      <td>med</td>\n",
       "      <td>unacc</td>\n",
       "    </tr>\n",
       "    <tr>\n",
       "      <th>2</th>\n",
       "      <td>vhigh</td>\n",
       "      <td>vhigh</td>\n",
       "      <td>2</td>\n",
       "      <td>2</td>\n",
       "      <td>small</td>\n",
       "      <td>high</td>\n",
       "      <td>unacc</td>\n",
       "    </tr>\n",
       "    <tr>\n",
       "      <th>3</th>\n",
       "      <td>vhigh</td>\n",
       "      <td>vhigh</td>\n",
       "      <td>2</td>\n",
       "      <td>2</td>\n",
       "      <td>med</td>\n",
       "      <td>low</td>\n",
       "      <td>unacc</td>\n",
       "    </tr>\n",
       "    <tr>\n",
       "      <th>4</th>\n",
       "      <td>vhigh</td>\n",
       "      <td>vhigh</td>\n",
       "      <td>2</td>\n",
       "      <td>2</td>\n",
       "      <td>med</td>\n",
       "      <td>med</td>\n",
       "      <td>unacc</td>\n",
       "    </tr>\n",
       "  </tbody>\n",
       "</table>\n",
       "</div>"
      ],
      "text/plain": [
       "       0      1  2  3      4     5      6\n",
       "0  vhigh  vhigh  2  2  small   low  unacc\n",
       "1  vhigh  vhigh  2  2  small   med  unacc\n",
       "2  vhigh  vhigh  2  2  small  high  unacc\n",
       "3  vhigh  vhigh  2  2    med   low  unacc\n",
       "4  vhigh  vhigh  2  2    med   med  unacc"
      ]
     },
     "execution_count": 297,
     "metadata": {},
     "output_type": "execute_result"
    }
   ],
   "source": [
    "df.head()"
   ]
  },
  {
   "cell_type": "code",
   "execution_count": 298,
   "id": "interior-browser",
   "metadata": {},
   "outputs": [
    {
     "name": "stdout",
     "output_type": "stream",
     "text": [
      "<class 'pandas.core.frame.DataFrame'>\n",
      "RangeIndex: 100 entries, 0 to 99\n",
      "Data columns (total 7 columns):\n",
      " #   Column  Non-Null Count  Dtype \n",
      "---  ------  --------------  ----- \n",
      " 0   0       100 non-null    object\n",
      " 1   1       100 non-null    object\n",
      " 2   2       100 non-null    object\n",
      " 3   3       100 non-null    object\n",
      " 4   4       100 non-null    object\n",
      " 5   5       100 non-null    object\n",
      " 6   6       100 non-null    object\n",
      "dtypes: object(7)\n",
      "memory usage: 5.6+ KB\n"
     ]
    }
   ],
   "source": [
    "df.info()"
   ]
  },
  {
   "cell_type": "code",
   "execution_count": null,
   "id": "adjacent-console",
   "metadata": {},
   "outputs": [],
   "source": []
  }
 ],
 "metadata": {
  "kernelspec": {
   "display_name": "Python 3",
   "language": "python",
   "name": "python3"
  },
  "language_info": {
   "codemirror_mode": {
    "name": "ipython",
    "version": 3
   },
   "file_extension": ".py",
   "mimetype": "text/x-python",
   "name": "python",
   "nbconvert_exporter": "python",
   "pygments_lexer": "ipython3",
   "version": "3.8.8"
  }
 },
 "nbformat": 4,
 "nbformat_minor": 5
}
